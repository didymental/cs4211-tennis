{
 "cells": [
  {
   "cell_type": "code",
   "execution_count": 3,
   "id": "dba767a7",
   "metadata": {},
   "outputs": [
    {
     "ename": "SyntaxError",
     "evalue": "invalid syntax (3771885224.py, line 1)",
     "output_type": "error",
     "traceback": [
      "\u001b[1;36m  Cell \u001b[1;32mIn[3], line 1\u001b[1;36m\u001b[0m\n\u001b[1;33m    pip install pandas\u001b[0m\n\u001b[1;37m        ^\u001b[0m\n\u001b[1;31mSyntaxError\u001b[0m\u001b[1;31m:\u001b[0m invalid syntax\n"
     ]
    }
   ],
   "source": [
    "\"\"\"\n",
    "Parse the csv.\n",
    "\"\"\"\n",
    "import pandas as pd\n",
    "\n",
    "column_names = [\n",
    "    'player_1_name',\n",
    "    'player_2_name',\n",
    "    'player_1_handness',\n",
    "    'player_2_handness',\n",
    "    'player_1_points',\n",
    "    'player_2_points',\n",
    "    'player_1_games',\n",
    "    'player_2_games',\n",
    "    'player_1_sets',\n",
    "    'player_2_sets',\n",
    "    'date',\n",
    "    'tournament_name',\n",
    "    'shot_type',\n",
    "    'from_which_court',\n",
    "    'shot',\n",
    "    'direction',\n",
    "    'to_which_court',\n",
    "    'depth',\n",
    "    'touched_net?',\n",
    "    'hit_at_what_depth',\n",
    "    'approach_shot',\n",
    "    'shot_outcome',\n",
    "    'fault_type',\n",
    "    'prev_shot_type',\n",
    "    'prev_shot_from_which_court',\n",
    "    'prev_shot',\n",
    "    'prev_shot_direction',\n",
    "    'prev_shot_to_which_court',\n",
    "    'prev_shot_depth',\n",
    "    'prev_shot_touched_net?',\n",
    "    'prev_shot_hit_at_what_depth',\n",
    "    'prev_shot_approach_shot',\n",
    "    'prev_shot_outcome',\n",
    "    'prev_shot_fault_type',\n",
    "    'prev_prev_shot_type',\n",
    "    'prev_prev_shot_from_which_court',\n",
    "    'prev_prev_shot',\n",
    "    'prev_prev_shot_direction',\n",
    "    'prev_prev_shot_to_which_court',\n",
    "    'prev_prev_shot_depth',\n",
    "    'prev_prev_shot_touched_net?',\n",
    "    'prev_prev_shot_hit_at_what_depth',\n",
    "    'prev_prev_shot_approach_shot',\n",
    "    'prev_prev_shot_outcome',\n",
    "    'prev_prev_shot_fault_type',\n",
    "    'url',\n",
    "    'description'\n",
    "]\n",
    "\n",
    "\n",
    "df = pd.read_csv('./tennis_dataset.csv', names=column_names)\n"
   ]
  },
  {
   "cell_type": "code",
   "execution_count": null,
   "id": "53f0f196",
   "metadata": {},
   "outputs": [
    {
     "ename": "",
     "evalue": "",
     "output_type": "error",
     "traceback": [
      "\u001b[1;31mThe kernel failed to start as the Python Environment '~\\AppData\\Local\\Programs\\Python\\Python310\\python.exe' is no longer available. Consider selecting another kernel or refreshing the list of Python Environments."
     ]
    }
   ],
   "source": [
    "df[['date', 'player_1_name', 'player_2_name']]"
   ]
  },
  {
   "cell_type": "code",
   "execution_count": null,
   "id": "a2209964",
   "metadata": {},
   "outputs": [
    {
     "ename": "",
     "evalue": "",
     "output_type": "error",
     "traceback": [
      "\u001b[1;31mThe kernel failed to start as the Python Environment '~\\AppData\\Local\\Programs\\Python\\Python310\\python.exe' is no longer available. Consider selecting another kernel or refreshing the list of Python Environments."
     ]
    }
   ],
   "source": []
  },
  {
   "cell_type": "code",
   "execution_count": null,
   "id": "cfbb9f4b",
   "metadata": {},
   "outputs": [
    {
     "ename": "",
     "evalue": "",
     "output_type": "error",
     "traceback": [
      "\u001b[1;31mThe kernel failed to start as the Python Environment '~\\AppData\\Local\\Programs\\Python\\Python310\\python.exe' is no longer available. Consider selecting another kernel or refreshing the list of Python Environments."
     ]
    }
   ],
   "source": [
    "# given a player name p1, find his serve probabilities\n",
    "\n",
    "def get_serve_probabilities(p1):\n",
    "    shot_df = df[['player_1_name', 'shot_type', 'shot','fault_type', 'from_which_court', 'to_which_court']]\n",
    "#     shot_df = shot_df[(shot_df.player_1_name == p1) & (shot_df.player_2_name == p2)].reset_index(drop=True)\n",
    "    shot_df = shot_df[(shot_df.player_1_name == p1)].reset_index(drop=True)\n",
    "\n",
    "    #1 = deuce, 2 = mid, 3 = ad\n",
    "    \"\"\"\n",
    "    De_Ply1Serve\n",
    "    \"\"\"\n",
    "    p1_de_ct_df = shot_df[(shot_df.shot_type == 1) & (shot_df.from_which_court == 1)]\n",
    "    p1_de_serve1st_to_deuce = len(p1_de_ct_df[(p1_de_ct_df.to_which_court == 1) & (p1_de_ct_df.fault_type == 7)]) / len(p1_de_ct_df)\n",
    "    p1_de_serve1st_to_mid = len(p1_de_ct_df[(p1_de_ct_df.to_which_court == 2) & (p1_de_ct_df.fault_type == 7)]) / len(p1_de_ct_df)\n",
    "    p1_de_serve1st_err = len(p1_de_ct_df[p1_de_ct_df.fault_type != 7]) / len(p1_de_ct_df)\n",
    "\n",
    "    \"\"\"\n",
    "    De_Ply1Serve_2nd\n",
    "    \"\"\"\n",
    "\n",
    "    p1_de_ct_2nd_df = shot_df[(shot_df.shot_type == 2) & (shot_df.from_which_court == 1)]\n",
    "    p1_de_2nd_serve1st_to_deuce = len(p1_de_ct_2nd_df[(p1_de_ct_2nd_df.to_which_court == 1) & (p1_de_ct_2nd_df.fault_type == 7)]) / len(p1_de_ct_2nd_df)\n",
    "    p1_de_2nd_serve1st_to_mid = len(p1_de_ct_2nd_df[(p1_de_ct_2nd_df.to_which_court == 2) & (p1_de_ct_2nd_df.fault_type == 7)]) / len(p1_de_ct_2nd_df)\n",
    "    p1_de_2nd_serve1st_err = len(p1_de_ct_2nd_df[p1_de_ct_2nd_df.fault_type != 7]) / len(p1_de_ct_2nd_df)\n",
    "\n",
    "\n",
    "    \n",
    "    \"\"\"\n",
    "    Ad_Ply1Serve\n",
    "    \"\"\"\n",
    "\n",
    "    p1_ad_ct_df = shot_df[(shot_df.shot_type == 1) & (shot_df.from_which_court == 3)]\n",
    "    p1_ad_serve1st_to_mid = len(p1_ad_ct_df[(p1_ad_ct_df.to_which_court == 2) & (p1_ad_ct_df.fault_type == 7)]) / len(p1_ad_ct_df)\n",
    "    p1_ad_serve1st_to_ad = len(p1_ad_ct_df[(p1_ad_ct_df.to_which_court == 3) & (p1_ad_ct_df.fault_type == 7)]) / len(p1_ad_ct_df)\n",
    "    p1_ad_serve1st_err = len(p1_ad_ct_df[p1_ad_ct_df.fault_type != 7]) / len(p1_ad_ct_df)\n",
    "\n",
    "\n",
    "    \"\"\"\n",
    "    Ad_Ply1Serve_2nd\n",
    "    \"\"\"\n",
    "\n",
    "    p1_ad_ct_2nd_df = shot_df[(shot_df.shot_type == 2) & (shot_df.from_which_court == 3)]\n",
    "    p1_ad_2nd_serve1st_to_mid = len(p1_ad_ct_2nd_df[(p1_ad_ct_2nd_df.to_which_court == 2) & (p1_ad_ct_2nd_df.fault_type == 7)]) / len(p1_ad_ct_2nd_df)\n",
    "    p1_ad_2nd_serve1st_to_ad = len(p1_ad_ct_2nd_df[(p1_ad_ct_2nd_df.to_which_court == 3) & (p1_ad_ct_2nd_df.fault_type == 7)]) / len(p1_ad_ct_2nd_df)\n",
    "    p1_ad_2nd_serve1st_err = len(p1_ad_ct_2nd_df[p1_ad_ct_2nd_df.fault_type != 7]) / len(p1_ad_ct_2nd_df)\n",
    "\n",
    "    \n",
    "    probabilities = [p1_de_serve1st_to_deuce, \n",
    "            p1_de_serve1st_to_mid, \n",
    "            p1_de_serve1st_err, \n",
    "            p1_de_2nd_serve1st_to_deuce, \n",
    "            p1_de_2nd_serve1st_to_mid, \n",
    "            p1_de_2nd_serve1st_err,\n",
    "            p1_ad_serve1st_to_mid,\n",
    "            p1_ad_serve1st_to_ad,\n",
    "            p1_ad_serve1st_err,\n",
    "            p1_ad_2nd_serve1st_to_mid,\n",
    "            p1_ad_2nd_serve1st_to_ad,\n",
    "            p1_ad_2nd_serve1st_err\n",
    "           ]\n",
    "    probability_dict = {}\n",
    "    \n",
    "    for i in range(len(probabilities)):\n",
    "        probability_dict[i+1] = probabilities[i]\n",
    "    \n",
    "    return probability_dict"
   ]
  },
  {
   "cell_type": "code",
   "execution_count": null,
   "id": "3d6578b0",
   "metadata": {},
   "outputs": [
    {
     "ename": "",
     "evalue": "",
     "output_type": "error",
     "traceback": [
      "\u001b[1;31mThe kernel failed to start as the Python Environment '~\\AppData\\Local\\Programs\\Python\\Python310\\python.exe' is no longer available. Consider selecting another kernel or refreshing the list of Python Environments."
     ]
    }
   ],
   "source": [
    "# given a player name p1, get his rally probabilities\n",
    "\n",
    "def get_rally_probabilities(p1):\n",
    "    shot_df = df[['player_1_name', 'shot_type', 'shot','fault_type', 'from_which_court', 'to_which_court']]\n",
    "#     shot_df = shot_df[(shot_df.player_1_name == p1) & (shot_df.player_2_name == p2)].reset_index(drop=True)\n",
    "    shot_df = shot_df[(shot_df.player_1_name == p1)].reset_index(drop=True)\n",
    "\n",
    "\n",
    "    shot_df = shot_df[shot_df.shot_type == 4]\n",
    "\n",
    "    shot_mapping = {\n",
    "        1: \"de\",\n",
    "        2: \"mid\",\n",
    "        3: \"ad\"\n",
    "    }\n",
    "    \n",
    "    probabilities = []\n",
    "\n",
    "    for i in range(1, 4):\n",
    "        p1_stroke_df = shot_df[shot_df.from_which_court == i]\n",
    "        p1_stroke_to_deuce = len(p1_stroke_df[(p1_stroke_df.to_which_court == 1) & (p1_stroke_df.fault_type == 7)]) / len(p1_stroke_df)\n",
    "        p1_stroke_to_mid = len(p1_stroke_df[(p1_stroke_df.to_which_court == 2) & (p1_stroke_df.fault_type == 7)]) / len(p1_stroke_df)\n",
    "        p1_stroke_to_ad = len(p1_stroke_df[(p1_stroke_df.to_which_court == 3) & (p1_stroke_df.fault_type == 7)]) / len(p1_stroke_df)\n",
    "        p1_stroke_fault = len(p1_stroke_df[p1_stroke_df.fault_type != 7]) / len(p1_stroke_df)\n",
    "        probabilities += [p1_stroke_to_deuce, p1_stroke_to_mid, p1_stroke_to_ad, p1_stroke_fault]\n",
    "    \n",
    "    probability_dict = {}\n",
    "    for i in range(len(probabilities)):\n",
    "        probability_dict[i + 13] = probabilities[i]\n",
    "        \n",
    "    return probability_dict"
   ]
  },
  {
   "cell_type": "code",
   "execution_count": null,
   "id": "af4470d0",
   "metadata": {},
   "outputs": [
    {
     "ename": "",
     "evalue": "",
     "output_type": "error",
     "traceback": [
      "\u001b[1;31mThe kernel failed to start as the Python Environment '~\\AppData\\Local\\Programs\\Python\\Python310\\python.exe' is no longer available. Consider selecting another kernel or refreshing the list of Python Environments."
     ]
    }
   ],
   "source": [
    "# given a player name p1, find his average rally length\n",
    "def get_avg_rally_length(p1):\n",
    "    rally_df = df[df.shot_type == 4]\n",
    "    rally_df = rally_df[rally_df.player_1_name == p1]\n",
    "    rally_df = rally_df[['date', 'player_1_name','player_2_name','player_1_points','player_2_points', \n",
    "    'player_1_sets','player_2_sets', 'player_1_games', 'player_2_games']]\n",
    "    return int(round(4 + len(rally_df) / len(rally_df.drop_duplicates())))\n",
    "\n",
    "\n",
    "\n",
    "def generate_pcsp_files(p1,p2, date):\n",
    "    with open('model.txt') as f:\n",
    "        pcsp_model = f.read()\n",
    "\n",
    "    pcsp_model = f\"//Player 1: {p1}, Player 2: {p2}\" + pcsp_model\n",
    "\n",
    "    p1_serve = get_serve_probabilities(p1)\n",
    "    p1_rally = get_rally_probabilities(p1)\n",
    "\n",
    "    for k, v in p1_serve.items():\n",
    "        pcsp_model = f\"#define p1_{k} {int(round(v,3)*1000)};\\n\" + pcsp_model\n",
    "\n",
    "    for k, v in p1_rally.items():\n",
    "        pcsp_model = f\"#define p1_{k} {int(round(v,3)*1000)};\\n\" + pcsp_model\n",
    "\n",
    "    p2_serve = get_serve_probabilities(p2)\n",
    "    p2_rally = get_rally_probabilities(p2)\n",
    "\n",
    "    for k, v in p2_serve.items():\n",
    "        pcsp_model = f\"#define p2_{k} {int(round(v,3)*1000)};\\n\" + pcsp_model\n",
    "\n",
    "    for k, v in p2_rally.items():\n",
    "        pcsp_model = f\"#define p2_{k} {int(round(v,3)*1000)};\\n\" + pcsp_model\n",
    "    pcsp_model = pcsp_model.replace(\"#define end_score 3;\", \"#define end_score 1;\")\n",
    "    \n",
    "    pcsp_model = pcsp_model.replace(\"#define P1_STAMINA 7;\", f\"#define P1_STAMINA {get_avg_rally_length(p1)};\")\n",
    "    pcsp_model = pcsp_model.replace(\"#define P2_STAMINA 7;\", f\"#define P2_STAMINA {get_avg_rally_length(p2)};\")\n",
    "\n",
    "    with open(f\"./pcsp_files/{date}_{p1}_vs_{p2}.pcsp\", \"w\") as f:\n",
    "        f.write(pcsp_model)"
   ]
  },
  {
   "cell_type": "code",
   "execution_count": null,
   "id": "9b3a1951",
   "metadata": {},
   "outputs": [
    {
     "ename": "",
     "evalue": "",
     "output_type": "error",
     "traceback": [
      "\u001b[1;31mThe kernel failed to start as the Python Environment '~\\AppData\\Local\\Programs\\Python\\Python310\\python.exe' is no longer available. Consider selecting another kernel or refreshing the list of Python Environments."
     ]
    }
   ],
   "source": [
    "df2 = pd.read_csv('MDP_pred.csv')\n",
    "cnt = 0\n",
    "failed = 0\n",
    "for a,b in df2[['P1Name', 'P2Name', 'date']].iterrows():\n",
    "    try:\n",
    "        n1 = b[0]\n",
    "        n2 = b[1]\n",
    "        date = b[2]\n",
    "        print(f\"generating for {date} {n1}, {n2}\")\n",
    "        generate_pcsp_files(n1,n2, date)\n",
    "        print(\"done!\")\n",
    "        cnt += 1\n",
    "    except Exception as e:\n",
    "        failed += 1\n",
    "        print(e)\n",
    "    print(f\"{cnt}, {failed}\")\n",
    "\n",
    "\n",
    "\n"
   ]
  },
  {
   "cell_type": "code",
   "execution_count": null,
   "id": "f0b84132",
   "metadata": {},
   "outputs": [
    {
     "ename": "",
     "evalue": "",
     "output_type": "error",
     "traceback": [
      "\u001b[1;31mThe kernel failed to start as the Python Environment '~\\AppData\\Local\\Programs\\Python\\Python310\\python.exe' is no longer available. Consider selecting another kernel or refreshing the list of Python Environments."
     ]
    }
   ],
   "source": [
    "df2 = pd.read_csv('MDP_pred.csv')\n",
    "cnt = 0\n",
    "failed = 0\n",
    "for a,b in df2[['P1Name', 'P2Name', 'date']].iterrows():\n",
    "        n1 = b.iloc[0]\n",
    "        n2 = b.iloc[1]\n",
    "        date = b.iloc[2]\n",
    "        print(f\"{n1} Average Rally Length: {get_avg_rally_length(n1)}\")\n",
    "        print(f\"{n2} Average Rally Length: {get_avg_rally_length(n2)}\")"
   ]
  },
  {
   "cell_type": "code",
   "execution_count": null,
   "id": "cb0cd54d",
   "metadata": {},
   "outputs": [
    {
     "ename": "",
     "evalue": "",
     "output_type": "error",
     "traceback": [
      "\u001b[1;31mThe kernel failed to start as the Python Environment '~\\AppData\\Local\\Programs\\Python\\Python310\\python.exe' is no longer available. Consider selecting another kernel or refreshing the list of Python Environments."
     ]
    }
   ],
   "source": []
  },
  {
   "cell_type": "code",
   "execution_count": null,
   "id": "4aad63a3",
   "metadata": {},
   "outputs": [
    {
     "ename": "",
     "evalue": "",
     "output_type": "error",
     "traceback": [
      "\u001b[1;31mThe kernel failed to start as the Python Environment '~\\AppData\\Local\\Programs\\Python\\Python310\\python.exe' is no longer available. Consider selecting another kernel or refreshing the list of Python Environments."
     ]
    }
   ],
   "source": []
  }
 ],
 "metadata": {
  "kernelspec": {
   "display_name": "Python 3.11.6 64-bit",
   "language": "python",
   "name": "python3"
  },
  "language_info": {
   "codemirror_mode": {
    "name": "ipython",
    "version": 3
   },
   "file_extension": ".py",
   "mimetype": "text/x-python",
   "name": "python",
   "nbconvert_exporter": "python",
   "pygments_lexer": "ipython3",
   "version": "3.12.0"
  },
  "vscode": {
   "interpreter": {
    "hash": "b0fa6594d8f4cbf19f97940f81e996739fb7646882a419484c72d19e05852a7e"
   }
  }
 },
 "nbformat": 4,
 "nbformat_minor": 5
}
