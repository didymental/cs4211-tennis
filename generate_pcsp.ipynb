{
 "cells": [
  {
   "cell_type": "code",
   "execution_count": 2,
   "id": "dba767a7",
   "metadata": {},
   "outputs": [],
   "source": [
    "\"\"\"\n",
    "Parse the csv.\n",
    "\"\"\"\n",
    "import pandas as pd\n",
    "\n",
    "column_names = [\n",
    "    'player_1_name',\n",
    "    'player_2_name',\n",
    "    'player_1_handness',\n",
    "    'player_2_handness',\n",
    "    'player_1_points',\n",
    "    'player_2_points',\n",
    "    'player_1_games',\n",
    "    'player_2_games',\n",
    "    'player_1_sets',\n",
    "    'player_2_sets',\n",
    "    'date',\n",
    "    'tournament_name',\n",
    "    'shot_type',\n",
    "    'from_which_court',\n",
    "    'shot',\n",
    "    'direction',\n",
    "    'to_which_court',\n",
    "    'depth',\n",
    "    'touched_net?',\n",
    "    'hit_at_what_depth',\n",
    "    'approach_shot',\n",
    "    'shot_outcome',\n",
    "    'fault_type',\n",
    "    'prev_shot_type',\n",
    "    'prev_shot_from_which_court',\n",
    "    'prev_shot',\n",
    "    'prev_shot_direction',\n",
    "    'prev_shot_to_which_court',\n",
    "    'prev_shot_depth',\n",
    "    'prev_shot_touched_net?',\n",
    "    'prev_shot_hit_at_what_depth',\n",
    "    'prev_shot_approach_shot',\n",
    "    'prev_shot_outcome',\n",
    "    'prev_shot_fault_type',\n",
    "    'prev_prev_shot_type',\n",
    "    'prev_prev_shot_from_which_court',\n",
    "    'prev_prev_shot',\n",
    "    'prev_prev_shot_direction',\n",
    "    'prev_prev_shot_to_which_court',\n",
    "    'prev_prev_shot_depth',\n",
    "    'prev_prev_shot_touched_net?',\n",
    "    'prev_prev_shot_hit_at_what_depth',\n",
    "    'prev_prev_shot_approach_shot',\n",
    "    'prev_prev_shot_outcome',\n",
    "    'prev_prev_shot_fault_type',\n",
    "    'url',\n",
    "    'description'\n",
    "]\n",
    "BASE_STAMINA = 2\n",
    "\n",
    "df = pd.read_csv('./tennis_dataset.csv', names=column_names)\n"
   ]
  },
  {
   "cell_type": "code",
   "execution_count": 28,
   "id": "cfbb9f4b",
   "metadata": {},
   "outputs": [],
   "source": [
    "# given a player name p1, find his serve probabilities\n",
    "\n",
    "def get_serve_probabilities(p1):\n",
    "    shot_df = df[['player_1_name', 'shot_type', 'shot','fault_type', 'from_which_court', 'to_which_court']]\n",
    "#     shot_df = shot_df[(shot_df.player_1_name == p1) & (shot_df.player_2_name == p2)].reset_index(drop=True)\n",
    "    shot_df = shot_df[(shot_df.player_1_name == p1)].reset_index(drop=True)\n",
    "\n",
    "    #1 = deuce, 2 = mid, 3 = ad\n",
    "    \"\"\"\n",
    "    De_Ply1Serve\n",
    "    \"\"\"\n",
    "    p1_de_ct_df = shot_df[(shot_df.shot_type == 1) & (shot_df.from_which_court == 1)]\n",
    "    p1_de_serve1st_to_deuce = len(p1_de_ct_df[(p1_de_ct_df.to_which_court == 1) & (p1_de_ct_df.fault_type == 7)]) / len(p1_de_ct_df)\n",
    "    p1_de_serve1st_to_mid = len(p1_de_ct_df[(p1_de_ct_df.to_which_court == 2) & (p1_de_ct_df.fault_type == 7)]) / len(p1_de_ct_df)\n",
    "    p1_de_serve1st_err = len(p1_de_ct_df[p1_de_ct_df.fault_type != 7]) / len(p1_de_ct_df)\n",
    "\n",
    "    \"\"\"\n",
    "    De_Ply1Serve_2nd\n",
    "    \"\"\"\n",
    "\n",
    "    p1_de_ct_2nd_df = shot_df[(shot_df.shot_type == 2) & (shot_df.from_which_court == 1)]\n",
    "    p1_de_2nd_serve1st_to_deuce = len(p1_de_ct_2nd_df[(p1_de_ct_2nd_df.to_which_court == 1) & (p1_de_ct_2nd_df.fault_type == 7)]) / len(p1_de_ct_2nd_df)\n",
    "    p1_de_2nd_serve1st_to_mid = len(p1_de_ct_2nd_df[(p1_de_ct_2nd_df.to_which_court == 2) & (p1_de_ct_2nd_df.fault_type == 7)]) / len(p1_de_ct_2nd_df)\n",
    "    p1_de_2nd_serve1st_err = len(p1_de_ct_2nd_df[p1_de_ct_2nd_df.fault_type != 7]) / len(p1_de_ct_2nd_df)\n",
    "\n",
    "\n",
    "    \n",
    "    \"\"\"\n",
    "    Ad_Ply1Serve\n",
    "    \"\"\"\n",
    "\n",
    "    p1_ad_ct_df = shot_df[(shot_df.shot_type == 1) & (shot_df.from_which_court == 3)]\n",
    "    p1_ad_serve1st_to_mid = len(p1_ad_ct_df[(p1_ad_ct_df.to_which_court == 2) & (p1_ad_ct_df.fault_type == 7)]) / len(p1_ad_ct_df)\n",
    "    p1_ad_serve1st_to_ad = len(p1_ad_ct_df[(p1_ad_ct_df.to_which_court == 3) & (p1_ad_ct_df.fault_type == 7)]) / len(p1_ad_ct_df)\n",
    "    p1_ad_serve1st_err = len(p1_ad_ct_df[p1_ad_ct_df.fault_type != 7]) / len(p1_ad_ct_df)\n",
    "\n",
    "\n",
    "    \"\"\"\n",
    "    Ad_Ply1Serve_2nd\n",
    "    \"\"\"\n",
    "\n",
    "    p1_ad_ct_2nd_df = shot_df[(shot_df.shot_type == 2) & (shot_df.from_which_court == 3)]\n",
    "    p1_ad_2nd_serve1st_to_mid = len(p1_ad_ct_2nd_df[(p1_ad_ct_2nd_df.to_which_court == 2) & (p1_ad_ct_2nd_df.fault_type == 7)]) / len(p1_ad_ct_2nd_df)\n",
    "    p1_ad_2nd_serve1st_to_ad = len(p1_ad_ct_2nd_df[(p1_ad_ct_2nd_df.to_which_court == 3) & (p1_ad_ct_2nd_df.fault_type == 7)]) / len(p1_ad_ct_2nd_df)\n",
    "    p1_ad_2nd_serve1st_err = len(p1_ad_ct_2nd_df[p1_ad_ct_2nd_df.fault_type != 7]) / len(p1_ad_ct_2nd_df)\n",
    "\n",
    "    \n",
    "    probabilities = [p1_de_serve1st_to_deuce, \n",
    "            p1_de_serve1st_to_mid, \n",
    "            p1_de_serve1st_err, \n",
    "            p1_de_2nd_serve1st_to_deuce, \n",
    "            p1_de_2nd_serve1st_to_mid, \n",
    "            p1_de_2nd_serve1st_err,\n",
    "            p1_ad_serve1st_to_mid,\n",
    "            p1_ad_serve1st_to_ad,\n",
    "            p1_ad_serve1st_err,\n",
    "            p1_ad_2nd_serve1st_to_mid,\n",
    "            p1_ad_2nd_serve1st_to_ad,\n",
    "            p1_ad_2nd_serve1st_err\n",
    "           ]\n",
    "    probability_dict = {}\n",
    "    \n",
    "    for i in range(len(probabilities)):\n",
    "        probability_dict[i+1] = probabilities[i]\n",
    "    \n",
    "    return probability_dict"
   ]
  },
  {
   "cell_type": "code",
   "execution_count": 29,
   "id": "3d6578b0",
   "metadata": {},
   "outputs": [],
   "source": [
    "# given a player name p1, get his rally probabilities\n",
    "\n",
    "def get_rally_probabilities(p1):\n",
    "    shot_df = df[['player_1_name', 'shot_type', 'shot','fault_type', 'from_which_court', 'to_which_court']]\n",
    "#     shot_df = shot_df[(shot_df.player_1_name == p1) & (shot_df.player_2_name == p2)].reset_index(drop=True)\n",
    "    shot_df = shot_df[(shot_df.player_1_name == p1)].reset_index(drop=True)\n",
    "\n",
    "\n",
    "    shot_df = shot_df[shot_df.shot_type == 4]\n",
    "\n",
    "    shot_mapping = {\n",
    "        1: \"de\",\n",
    "        2: \"mid\",\n",
    "        3: \"ad\"\n",
    "    }\n",
    "    \n",
    "    probabilities = []\n",
    "\n",
    "    for i in range(1, 4):\n",
    "        p1_stroke_df = shot_df[shot_df.from_which_court == i]\n",
    "        p1_stroke_to_deuce = len(p1_stroke_df[(p1_stroke_df.to_which_court == 1) & (p1_stroke_df.fault_type == 7)]) / len(p1_stroke_df)\n",
    "        p1_stroke_to_mid = len(p1_stroke_df[(p1_stroke_df.to_which_court == 2) & (p1_stroke_df.fault_type == 7)]) / len(p1_stroke_df)\n",
    "        p1_stroke_to_ad = len(p1_stroke_df[(p1_stroke_df.to_which_court == 3) & (p1_stroke_df.fault_type == 7)]) / len(p1_stroke_df)\n",
    "        p1_stroke_fault = len(p1_stroke_df[p1_stroke_df.fault_type != 7]) / len(p1_stroke_df)\n",
    "        probabilities += [p1_stroke_to_deuce, p1_stroke_to_mid, p1_stroke_to_ad, p1_stroke_fault]\n",
    "    \n",
    "    probability_dict = {}\n",
    "    for i in range(len(probabilities)):\n",
    "        probability_dict[i + 13] = probabilities[i]\n",
    "        \n",
    "    return probability_dict"
   ]
  },
  {
   "cell_type": "code",
   "execution_count": 27,
   "id": "af4470d0",
   "metadata": {},
   "outputs": [],
   "source": [
    "# given a player name p1, find his average rally length\n",
    "def get_avg_rally_length(p1):\n",
    "    rally_df = df[df.shot_type == 4]\n",
    "    rally_df = rally_df[rally_df.player_1_name == p1]\n",
    "    rally_df = rally_df[['date', 'player_1_name','player_2_name','player_1_points','player_2_points', \n",
    "    'player_1_sets','player_2_sets', 'player_1_games', 'player_2_games']]\n",
    "    return int(round(BASE_STAMINA + len(rally_df) / len(rally_df.drop_duplicates())))\n",
    "\n",
    "\n",
    "\n",
    "def generate_pcsp_files(p1,p2, date):\n",
    "    with open('model.txt') as f:\n",
    "        pcsp_model = f.read()\n",
    "\n",
    "    pcsp_model = f\"//Player 1: {p1}, Player 2: {p2}\" + pcsp_model\n",
    "\n",
    "    p1_serve = get_serve_probabilities(p1)\n",
    "    p1_rally = get_rally_probabilities(p1)\n",
    "\n",
    "    for k, v in p1_serve.items():\n",
    "        pcsp_model = f\"#define p1_{k} {int(round(v,3)*1000)};\\n\" + pcsp_model\n",
    "\n",
    "    for k, v in p1_rally.items():\n",
    "        pcsp_model = f\"#define p1_{k} {int(round(v,3)*1000)};\\n\" + pcsp_model\n",
    "\n",
    "    p2_serve = get_serve_probabilities(p2)\n",
    "    p2_rally = get_rally_probabilities(p2)\n",
    "\n",
    "    for k, v in p2_serve.items():\n",
    "        pcsp_model = f\"#define p2_{k} {int(round(v,3)*1000)};\\n\" + pcsp_model\n",
    "\n",
    "    for k, v in p2_rally.items():\n",
    "        pcsp_model = f\"#define p2_{k} {int(round(v,3)*1000)};\\n\" + pcsp_model\n",
    "    pcsp_model = pcsp_model.replace(\"#define end_score 3;\", \"#define end_score 1;\")\n",
    "    \n",
    "    pcsp_model = pcsp_model.replace(\"#define P1_STAMINA 7;\", f\"#define P1_STAMINA {get_avg_rally_length(p1)};\")\n",
    "    pcsp_model = pcsp_model.replace(\"#define P2_STAMINA 7;\", f\"#define P2_STAMINA {get_avg_rally_length(p2)};\")\n",
    "\n",
    "    with open(f\"./pcsp_files/{date}_{p1}_vs_{p2}.pcsp\", \"w\") as f:\n",
    "        f.write(pcsp_model)"
   ]
  },
  {
   "cell_type": "code",
   "execution_count": 30,
   "id": "9b3a1951",
   "metadata": {},
   "outputs": [
    {
     "name": "stderr",
     "output_type": "stream",
     "text": [
      "/var/folders/pt/zlhpwgms1r38l09fb5f24y_80000gn/T/ipykernel_11826/3368081595.py:6: FutureWarning: Series.__getitem__ treating keys as positions is deprecated. In a future version, integer keys will always be treated as labels (consistent with DataFrame behavior). To access a value by position, use `ser.iloc[pos]`\n",
      "  n1 = b[0]\n",
      "/var/folders/pt/zlhpwgms1r38l09fb5f24y_80000gn/T/ipykernel_11826/3368081595.py:7: FutureWarning: Series.__getitem__ treating keys as positions is deprecated. In a future version, integer keys will always be treated as labels (consistent with DataFrame behavior). To access a value by position, use `ser.iloc[pos]`\n",
      "  n2 = b[1]\n",
      "/var/folders/pt/zlhpwgms1r38l09fb5f24y_80000gn/T/ipykernel_11826/3368081595.py:8: FutureWarning: Series.__getitem__ treating keys as positions is deprecated. In a future version, integer keys will always be treated as labels (consistent with DataFrame behavior). To access a value by position, use `ser.iloc[pos]`\n",
      "  date = b[2]\n"
     ]
    },
    {
     "name": "stdout",
     "output_type": "stream",
     "text": [
      "generating for 2018-01-06 Nick Kyrgios, Grigor Dimitrov\n",
      "done!\n",
      "1, 0\n",
      "generating for 2018-01-02 Borna Coric, Pablo Carreno Busta\n"
     ]
    },
    {
     "name": "stderr",
     "output_type": "stream",
     "text": [
      "/var/folders/pt/zlhpwgms1r38l09fb5f24y_80000gn/T/ipykernel_11826/3368081595.py:6: FutureWarning: Series.__getitem__ treating keys as positions is deprecated. In a future version, integer keys will always be treated as labels (consistent with DataFrame behavior). To access a value by position, use `ser.iloc[pos]`\n",
      "  n1 = b[0]\n",
      "/var/folders/pt/zlhpwgms1r38l09fb5f24y_80000gn/T/ipykernel_11826/3368081595.py:7: FutureWarning: Series.__getitem__ treating keys as positions is deprecated. In a future version, integer keys will always be treated as labels (consistent with DataFrame behavior). To access a value by position, use `ser.iloc[pos]`\n",
      "  n2 = b[1]\n",
      "/var/folders/pt/zlhpwgms1r38l09fb5f24y_80000gn/T/ipykernel_11826/3368081595.py:8: FutureWarning: Series.__getitem__ treating keys as positions is deprecated. In a future version, integer keys will always be treated as labels (consistent with DataFrame behavior). To access a value by position, use `ser.iloc[pos]`\n",
      "  date = b[2]\n"
     ]
    },
    {
     "name": "stdout",
     "output_type": "stream",
     "text": [
      "done!\n",
      "2, 0\n",
      "generating for 2018-01-06 Gael Monfils, Andrey Rublev\n"
     ]
    },
    {
     "name": "stderr",
     "output_type": "stream",
     "text": [
      "/var/folders/pt/zlhpwgms1r38l09fb5f24y_80000gn/T/ipykernel_11826/3368081595.py:6: FutureWarning: Series.__getitem__ treating keys as positions is deprecated. In a future version, integer keys will always be treated as labels (consistent with DataFrame behavior). To access a value by position, use `ser.iloc[pos]`\n",
      "  n1 = b[0]\n",
      "/var/folders/pt/zlhpwgms1r38l09fb5f24y_80000gn/T/ipykernel_11826/3368081595.py:7: FutureWarning: Series.__getitem__ treating keys as positions is deprecated. In a future version, integer keys will always be treated as labels (consistent with DataFrame behavior). To access a value by position, use `ser.iloc[pos]`\n",
      "  n2 = b[1]\n",
      "/var/folders/pt/zlhpwgms1r38l09fb5f24y_80000gn/T/ipykernel_11826/3368081595.py:8: FutureWarning: Series.__getitem__ treating keys as positions is deprecated. In a future version, integer keys will always be treated as labels (consistent with DataFrame behavior). To access a value by position, use `ser.iloc[pos]`\n",
      "  date = b[2]\n"
     ]
    },
    {
     "name": "stdout",
     "output_type": "stream",
     "text": [
      "done!\n",
      "3, 0\n",
      "generating for 2018-01-09 Robin Haase, Casper Ruud\n"
     ]
    },
    {
     "name": "stderr",
     "output_type": "stream",
     "text": [
      "/var/folders/pt/zlhpwgms1r38l09fb5f24y_80000gn/T/ipykernel_11826/3368081595.py:6: FutureWarning: Series.__getitem__ treating keys as positions is deprecated. In a future version, integer keys will always be treated as labels (consistent with DataFrame behavior). To access a value by position, use `ser.iloc[pos]`\n",
      "  n1 = b[0]\n",
      "/var/folders/pt/zlhpwgms1r38l09fb5f24y_80000gn/T/ipykernel_11826/3368081595.py:7: FutureWarning: Series.__getitem__ treating keys as positions is deprecated. In a future version, integer keys will always be treated as labels (consistent with DataFrame behavior). To access a value by position, use `ser.iloc[pos]`\n",
      "  n2 = b[1]\n",
      "/var/folders/pt/zlhpwgms1r38l09fb5f24y_80000gn/T/ipykernel_11826/3368081595.py:8: FutureWarning: Series.__getitem__ treating keys as positions is deprecated. In a future version, integer keys will always be treated as labels (consistent with DataFrame behavior). To access a value by position, use `ser.iloc[pos]`\n",
      "  date = b[2]\n"
     ]
    },
    {
     "name": "stdout",
     "output_type": "stream",
     "text": [
      "done!\n",
      "4, 0\n",
      "generating for 2018-01-10 Karen Khachanov, Pablo Cuevas\n"
     ]
    },
    {
     "name": "stderr",
     "output_type": "stream",
     "text": [
      "/var/folders/pt/zlhpwgms1r38l09fb5f24y_80000gn/T/ipykernel_11826/3368081595.py:6: FutureWarning: Series.__getitem__ treating keys as positions is deprecated. In a future version, integer keys will always be treated as labels (consistent with DataFrame behavior). To access a value by position, use `ser.iloc[pos]`\n",
      "  n1 = b[0]\n",
      "/var/folders/pt/zlhpwgms1r38l09fb5f24y_80000gn/T/ipykernel_11826/3368081595.py:7: FutureWarning: Series.__getitem__ treating keys as positions is deprecated. In a future version, integer keys will always be treated as labels (consistent with DataFrame behavior). To access a value by position, use `ser.iloc[pos]`\n",
      "  n2 = b[1]\n",
      "/var/folders/pt/zlhpwgms1r38l09fb5f24y_80000gn/T/ipykernel_11826/3368081595.py:8: FutureWarning: Series.__getitem__ treating keys as positions is deprecated. In a future version, integer keys will always be treated as labels (consistent with DataFrame behavior). To access a value by position, use `ser.iloc[pos]`\n",
      "  date = b[2]\n"
     ]
    },
    {
     "name": "stdout",
     "output_type": "stream",
     "text": [
      "done!\n",
      "5, 0\n",
      "generating for 2018-01-12 Juan Martin Del Potro, David Ferrer\n"
     ]
    },
    {
     "name": "stderr",
     "output_type": "stream",
     "text": [
      "/var/folders/pt/zlhpwgms1r38l09fb5f24y_80000gn/T/ipykernel_11826/3368081595.py:6: FutureWarning: Series.__getitem__ treating keys as positions is deprecated. In a future version, integer keys will always be treated as labels (consistent with DataFrame behavior). To access a value by position, use `ser.iloc[pos]`\n",
      "  n1 = b[0]\n",
      "/var/folders/pt/zlhpwgms1r38l09fb5f24y_80000gn/T/ipykernel_11826/3368081595.py:7: FutureWarning: Series.__getitem__ treating keys as positions is deprecated. In a future version, integer keys will always be treated as labels (consistent with DataFrame behavior). To access a value by position, use `ser.iloc[pos]`\n",
      "  n2 = b[1]\n",
      "/var/folders/pt/zlhpwgms1r38l09fb5f24y_80000gn/T/ipykernel_11826/3368081595.py:8: FutureWarning: Series.__getitem__ treating keys as positions is deprecated. In a future version, integer keys will always be treated as labels (consistent with DataFrame behavior). To access a value by position, use `ser.iloc[pos]`\n",
      "  date = b[2]\n"
     ]
    },
    {
     "name": "stdout",
     "output_type": "stream",
     "text": [
      "done!\n",
      "6, 0\n",
      "generating for 2018-01-13 Roberto Bautista Agut, Juan Martin Del Potro\n"
     ]
    },
    {
     "name": "stderr",
     "output_type": "stream",
     "text": [
      "/var/folders/pt/zlhpwgms1r38l09fb5f24y_80000gn/T/ipykernel_11826/3368081595.py:6: FutureWarning: Series.__getitem__ treating keys as positions is deprecated. In a future version, integer keys will always be treated as labels (consistent with DataFrame behavior). To access a value by position, use `ser.iloc[pos]`\n",
      "  n1 = b[0]\n",
      "/var/folders/pt/zlhpwgms1r38l09fb5f24y_80000gn/T/ipykernel_11826/3368081595.py:7: FutureWarning: Series.__getitem__ treating keys as positions is deprecated. In a future version, integer keys will always be treated as labels (consistent with DataFrame behavior). To access a value by position, use `ser.iloc[pos]`\n",
      "  n2 = b[1]\n",
      "/var/folders/pt/zlhpwgms1r38l09fb5f24y_80000gn/T/ipykernel_11826/3368081595.py:8: FutureWarning: Series.__getitem__ treating keys as positions is deprecated. In a future version, integer keys will always be treated as labels (consistent with DataFrame behavior). To access a value by position, use `ser.iloc[pos]`\n",
      "  date = b[2]\n"
     ]
    },
    {
     "name": "stdout",
     "output_type": "stream",
     "text": [
      "done!\n",
      "7, 0\n",
      "generating for 2018-01-15 Damir Dzumhur, Paolo Lorenzi\n"
     ]
    },
    {
     "name": "stderr",
     "output_type": "stream",
     "text": [
      "/var/folders/pt/zlhpwgms1r38l09fb5f24y_80000gn/T/ipykernel_11826/3368081595.py:6: FutureWarning: Series.__getitem__ treating keys as positions is deprecated. In a future version, integer keys will always be treated as labels (consistent with DataFrame behavior). To access a value by position, use `ser.iloc[pos]`\n",
      "  n1 = b[0]\n",
      "/var/folders/pt/zlhpwgms1r38l09fb5f24y_80000gn/T/ipykernel_11826/3368081595.py:7: FutureWarning: Series.__getitem__ treating keys as positions is deprecated. In a future version, integer keys will always be treated as labels (consistent with DataFrame behavior). To access a value by position, use `ser.iloc[pos]`\n",
      "  n2 = b[1]\n",
      "/var/folders/pt/zlhpwgms1r38l09fb5f24y_80000gn/T/ipykernel_11826/3368081595.py:8: FutureWarning: Series.__getitem__ treating keys as positions is deprecated. In a future version, integer keys will always be treated as labels (consistent with DataFrame behavior). To access a value by position, use `ser.iloc[pos]`\n",
      "  date = b[2]\n"
     ]
    },
    {
     "name": "stdout",
     "output_type": "stream",
     "text": [
      "done!\n",
      "8, 0\n",
      "generating for 2018-01-17 Pablo Carreno Busta, Gilles Simon\n"
     ]
    },
    {
     "name": "stderr",
     "output_type": "stream",
     "text": [
      "/var/folders/pt/zlhpwgms1r38l09fb5f24y_80000gn/T/ipykernel_11826/3368081595.py:6: FutureWarning: Series.__getitem__ treating keys as positions is deprecated. In a future version, integer keys will always be treated as labels (consistent with DataFrame behavior). To access a value by position, use `ser.iloc[pos]`\n",
      "  n1 = b[0]\n",
      "/var/folders/pt/zlhpwgms1r38l09fb5f24y_80000gn/T/ipykernel_11826/3368081595.py:7: FutureWarning: Series.__getitem__ treating keys as positions is deprecated. In a future version, integer keys will always be treated as labels (consistent with DataFrame behavior). To access a value by position, use `ser.iloc[pos]`\n",
      "  n2 = b[1]\n",
      "/var/folders/pt/zlhpwgms1r38l09fb5f24y_80000gn/T/ipykernel_11826/3368081595.py:8: FutureWarning: Series.__getitem__ treating keys as positions is deprecated. In a future version, integer keys will always be treated as labels (consistent with DataFrame behavior). To access a value by position, use `ser.iloc[pos]`\n",
      "  date = b[2]\n"
     ]
    },
    {
     "name": "stdout",
     "output_type": "stream",
     "text": [
      "done!\n",
      "9, 0\n",
      "generating for 2018-01-19 Grigor Dimitrov, Andrey Rublev\n"
     ]
    },
    {
     "name": "stderr",
     "output_type": "stream",
     "text": [
      "/var/folders/pt/zlhpwgms1r38l09fb5f24y_80000gn/T/ipykernel_11826/3368081595.py:6: FutureWarning: Series.__getitem__ treating keys as positions is deprecated. In a future version, integer keys will always be treated as labels (consistent with DataFrame behavior). To access a value by position, use `ser.iloc[pos]`\n",
      "  n1 = b[0]\n",
      "/var/folders/pt/zlhpwgms1r38l09fb5f24y_80000gn/T/ipykernel_11826/3368081595.py:7: FutureWarning: Series.__getitem__ treating keys as positions is deprecated. In a future version, integer keys will always be treated as labels (consistent with DataFrame behavior). To access a value by position, use `ser.iloc[pos]`\n",
      "  n2 = b[1]\n",
      "/var/folders/pt/zlhpwgms1r38l09fb5f24y_80000gn/T/ipykernel_11826/3368081595.py:8: FutureWarning: Series.__getitem__ treating keys as positions is deprecated. In a future version, integer keys will always be treated as labels (consistent with DataFrame behavior). To access a value by position, use `ser.iloc[pos]`\n",
      "  date = b[2]\n"
     ]
    },
    {
     "name": "stdout",
     "output_type": "stream",
     "text": [
      "done!\n",
      "10, 0\n",
      "generating for 2018-01-20 Tomas Berdych, Juan Martin Del Potro\n"
     ]
    },
    {
     "name": "stderr",
     "output_type": "stream",
     "text": [
      "/var/folders/pt/zlhpwgms1r38l09fb5f24y_80000gn/T/ipykernel_11826/3368081595.py:6: FutureWarning: Series.__getitem__ treating keys as positions is deprecated. In a future version, integer keys will always be treated as labels (consistent with DataFrame behavior). To access a value by position, use `ser.iloc[pos]`\n",
      "  n1 = b[0]\n",
      "/var/folders/pt/zlhpwgms1r38l09fb5f24y_80000gn/T/ipykernel_11826/3368081595.py:7: FutureWarning: Series.__getitem__ treating keys as positions is deprecated. In a future version, integer keys will always be treated as labels (consistent with DataFrame behavior). To access a value by position, use `ser.iloc[pos]`\n",
      "  n2 = b[1]\n",
      "/var/folders/pt/zlhpwgms1r38l09fb5f24y_80000gn/T/ipykernel_11826/3368081595.py:8: FutureWarning: Series.__getitem__ treating keys as positions is deprecated. In a future version, integer keys will always be treated as labels (consistent with DataFrame behavior). To access a value by position, use `ser.iloc[pos]`\n",
      "  date = b[2]\n"
     ]
    },
    {
     "name": "stdout",
     "output_type": "stream",
     "text": [
      "done!\n",
      "11, 0\n",
      "generating for 2018-01-21 Marin Cilic, Pablo Carreno Busta\n"
     ]
    },
    {
     "name": "stderr",
     "output_type": "stream",
     "text": [
      "/var/folders/pt/zlhpwgms1r38l09fb5f24y_80000gn/T/ipykernel_11826/3368081595.py:6: FutureWarning: Series.__getitem__ treating keys as positions is deprecated. In a future version, integer keys will always be treated as labels (consistent with DataFrame behavior). To access a value by position, use `ser.iloc[pos]`\n",
      "  n1 = b[0]\n",
      "/var/folders/pt/zlhpwgms1r38l09fb5f24y_80000gn/T/ipykernel_11826/3368081595.py:7: FutureWarning: Series.__getitem__ treating keys as positions is deprecated. In a future version, integer keys will always be treated as labels (consistent with DataFrame behavior). To access a value by position, use `ser.iloc[pos]`\n",
      "  n2 = b[1]\n",
      "/var/folders/pt/zlhpwgms1r38l09fb5f24y_80000gn/T/ipykernel_11826/3368081595.py:8: FutureWarning: Series.__getitem__ treating keys as positions is deprecated. In a future version, integer keys will always be treated as labels (consistent with DataFrame behavior). To access a value by position, use `ser.iloc[pos]`\n",
      "  date = b[2]\n"
     ]
    },
    {
     "name": "stdout",
     "output_type": "stream",
     "text": [
      "done!\n",
      "12, 0\n",
      "generating for 2018-01-21 Grigor Dimitrov, Nick Kyrgios\n"
     ]
    },
    {
     "name": "stderr",
     "output_type": "stream",
     "text": [
      "/var/folders/pt/zlhpwgms1r38l09fb5f24y_80000gn/T/ipykernel_11826/3368081595.py:6: FutureWarning: Series.__getitem__ treating keys as positions is deprecated. In a future version, integer keys will always be treated as labels (consistent with DataFrame behavior). To access a value by position, use `ser.iloc[pos]`\n",
      "  n1 = b[0]\n",
      "/var/folders/pt/zlhpwgms1r38l09fb5f24y_80000gn/T/ipykernel_11826/3368081595.py:7: FutureWarning: Series.__getitem__ treating keys as positions is deprecated. In a future version, integer keys will always be treated as labels (consistent with DataFrame behavior). To access a value by position, use `ser.iloc[pos]`\n",
      "  n2 = b[1]\n",
      "/var/folders/pt/zlhpwgms1r38l09fb5f24y_80000gn/T/ipykernel_11826/3368081595.py:8: FutureWarning: Series.__getitem__ treating keys as positions is deprecated. In a future version, integer keys will always be treated as labels (consistent with DataFrame behavior). To access a value by position, use `ser.iloc[pos]`\n",
      "  date = b[2]\n"
     ]
    },
    {
     "name": "stdout",
     "output_type": "stream",
     "text": [
      "done!\n",
      "13, 0\n",
      "generating for 2018-01-22 Tomas Berdych, Fabio Fognini\n"
     ]
    },
    {
     "name": "stderr",
     "output_type": "stream",
     "text": [
      "/var/folders/pt/zlhpwgms1r38l09fb5f24y_80000gn/T/ipykernel_11826/3368081595.py:6: FutureWarning: Series.__getitem__ treating keys as positions is deprecated. In a future version, integer keys will always be treated as labels (consistent with DataFrame behavior). To access a value by position, use `ser.iloc[pos]`\n",
      "  n1 = b[0]\n",
      "/var/folders/pt/zlhpwgms1r38l09fb5f24y_80000gn/T/ipykernel_11826/3368081595.py:7: FutureWarning: Series.__getitem__ treating keys as positions is deprecated. In a future version, integer keys will always be treated as labels (consistent with DataFrame behavior). To access a value by position, use `ser.iloc[pos]`\n",
      "  n2 = b[1]\n",
      "/var/folders/pt/zlhpwgms1r38l09fb5f24y_80000gn/T/ipykernel_11826/3368081595.py:8: FutureWarning: Series.__getitem__ treating keys as positions is deprecated. In a future version, integer keys will always be treated as labels (consistent with DataFrame behavior). To access a value by position, use `ser.iloc[pos]`\n",
      "  date = b[2]\n"
     ]
    },
    {
     "name": "stdout",
     "output_type": "stream",
     "text": [
      "done!\n",
      "14, 0\n",
      "generating for 2018-01-22 Hyeon Chung, Novak Djokovic\n"
     ]
    },
    {
     "name": "stderr",
     "output_type": "stream",
     "text": [
      "/var/folders/pt/zlhpwgms1r38l09fb5f24y_80000gn/T/ipykernel_11826/3368081595.py:6: FutureWarning: Series.__getitem__ treating keys as positions is deprecated. In a future version, integer keys will always be treated as labels (consistent with DataFrame behavior). To access a value by position, use `ser.iloc[pos]`\n",
      "  n1 = b[0]\n",
      "/var/folders/pt/zlhpwgms1r38l09fb5f24y_80000gn/T/ipykernel_11826/3368081595.py:7: FutureWarning: Series.__getitem__ treating keys as positions is deprecated. In a future version, integer keys will always be treated as labels (consistent with DataFrame behavior). To access a value by position, use `ser.iloc[pos]`\n",
      "  n2 = b[1]\n",
      "/var/folders/pt/zlhpwgms1r38l09fb5f24y_80000gn/T/ipykernel_11826/3368081595.py:8: FutureWarning: Series.__getitem__ treating keys as positions is deprecated. In a future version, integer keys will always be treated as labels (consistent with DataFrame behavior). To access a value by position, use `ser.iloc[pos]`\n",
      "  date = b[2]\n"
     ]
    },
    {
     "name": "stdout",
     "output_type": "stream",
     "text": [
      "done!\n",
      "15, 0\n",
      "generating for 2018-01-23 Kyle Edmund, Grigor Dimitrov\n"
     ]
    },
    {
     "name": "stderr",
     "output_type": "stream",
     "text": [
      "/var/folders/pt/zlhpwgms1r38l09fb5f24y_80000gn/T/ipykernel_11826/3368081595.py:6: FutureWarning: Series.__getitem__ treating keys as positions is deprecated. In a future version, integer keys will always be treated as labels (consistent with DataFrame behavior). To access a value by position, use `ser.iloc[pos]`\n",
      "  n1 = b[0]\n",
      "/var/folders/pt/zlhpwgms1r38l09fb5f24y_80000gn/T/ipykernel_11826/3368081595.py:7: FutureWarning: Series.__getitem__ treating keys as positions is deprecated. In a future version, integer keys will always be treated as labels (consistent with DataFrame behavior). To access a value by position, use `ser.iloc[pos]`\n",
      "  n2 = b[1]\n",
      "/var/folders/pt/zlhpwgms1r38l09fb5f24y_80000gn/T/ipykernel_11826/3368081595.py:8: FutureWarning: Series.__getitem__ treating keys as positions is deprecated. In a future version, integer keys will always be treated as labels (consistent with DataFrame behavior). To access a value by position, use `ser.iloc[pos]`\n",
      "  date = b[2]\n"
     ]
    },
    {
     "name": "stdout",
     "output_type": "stream",
     "text": [
      "done!\n",
      "16, 0\n",
      "generating for 2018-01-24 Roger Federer, Tomas Berdych\n"
     ]
    },
    {
     "name": "stderr",
     "output_type": "stream",
     "text": [
      "/var/folders/pt/zlhpwgms1r38l09fb5f24y_80000gn/T/ipykernel_11826/3368081595.py:6: FutureWarning: Series.__getitem__ treating keys as positions is deprecated. In a future version, integer keys will always be treated as labels (consistent with DataFrame behavior). To access a value by position, use `ser.iloc[pos]`\n",
      "  n1 = b[0]\n",
      "/var/folders/pt/zlhpwgms1r38l09fb5f24y_80000gn/T/ipykernel_11826/3368081595.py:7: FutureWarning: Series.__getitem__ treating keys as positions is deprecated. In a future version, integer keys will always be treated as labels (consistent with DataFrame behavior). To access a value by position, use `ser.iloc[pos]`\n",
      "  n2 = b[1]\n",
      "/var/folders/pt/zlhpwgms1r38l09fb5f24y_80000gn/T/ipykernel_11826/3368081595.py:8: FutureWarning: Series.__getitem__ treating keys as positions is deprecated. In a future version, integer keys will always be treated as labels (consistent with DataFrame behavior). To access a value by position, use `ser.iloc[pos]`\n",
      "  date = b[2]\n"
     ]
    },
    {
     "name": "stdout",
     "output_type": "stream",
     "text": [
      "done!\n",
      "17, 0\n",
      "generating for 2018-01-26 Roger Federer, Hyeon Chung\n"
     ]
    },
    {
     "name": "stderr",
     "output_type": "stream",
     "text": [
      "/var/folders/pt/zlhpwgms1r38l09fb5f24y_80000gn/T/ipykernel_11826/3368081595.py:6: FutureWarning: Series.__getitem__ treating keys as positions is deprecated. In a future version, integer keys will always be treated as labels (consistent with DataFrame behavior). To access a value by position, use `ser.iloc[pos]`\n",
      "  n1 = b[0]\n",
      "/var/folders/pt/zlhpwgms1r38l09fb5f24y_80000gn/T/ipykernel_11826/3368081595.py:7: FutureWarning: Series.__getitem__ treating keys as positions is deprecated. In a future version, integer keys will always be treated as labels (consistent with DataFrame behavior). To access a value by position, use `ser.iloc[pos]`\n",
      "  n2 = b[1]\n",
      "/var/folders/pt/zlhpwgms1r38l09fb5f24y_80000gn/T/ipykernel_11826/3368081595.py:8: FutureWarning: Series.__getitem__ treating keys as positions is deprecated. In a future version, integer keys will always be treated as labels (consistent with DataFrame behavior). To access a value by position, use `ser.iloc[pos]`\n",
      "  date = b[2]\n"
     ]
    },
    {
     "name": "stdout",
     "output_type": "stream",
     "text": [
      "done!\n",
      "18, 0\n",
      "generating for 2018-02-07 David Goffin, Gilles Simon\n"
     ]
    },
    {
     "name": "stderr",
     "output_type": "stream",
     "text": [
      "/var/folders/pt/zlhpwgms1r38l09fb5f24y_80000gn/T/ipykernel_11826/3368081595.py:6: FutureWarning: Series.__getitem__ treating keys as positions is deprecated. In a future version, integer keys will always be treated as labels (consistent with DataFrame behavior). To access a value by position, use `ser.iloc[pos]`\n",
      "  n1 = b[0]\n",
      "/var/folders/pt/zlhpwgms1r38l09fb5f24y_80000gn/T/ipykernel_11826/3368081595.py:7: FutureWarning: Series.__getitem__ treating keys as positions is deprecated. In a future version, integer keys will always be treated as labels (consistent with DataFrame behavior). To access a value by position, use `ser.iloc[pos]`\n",
      "  n2 = b[1]\n",
      "/var/folders/pt/zlhpwgms1r38l09fb5f24y_80000gn/T/ipykernel_11826/3368081595.py:8: FutureWarning: Series.__getitem__ treating keys as positions is deprecated. In a future version, integer keys will always be treated as labels (consistent with DataFrame behavior). To access a value by position, use `ser.iloc[pos]`\n",
      "  date = b[2]\n"
     ]
    },
    {
     "name": "stdout",
     "output_type": "stream",
     "text": [
      "done!\n",
      "19, 0\n",
      "generating for 2018-02-09 Jo Wilfried Tsonga, Andrey Rublev\n"
     ]
    },
    {
     "name": "stderr",
     "output_type": "stream",
     "text": [
      "/var/folders/pt/zlhpwgms1r38l09fb5f24y_80000gn/T/ipykernel_11826/3368081595.py:6: FutureWarning: Series.__getitem__ treating keys as positions is deprecated. In a future version, integer keys will always be treated as labels (consistent with DataFrame behavior). To access a value by position, use `ser.iloc[pos]`\n",
      "  n1 = b[0]\n",
      "/var/folders/pt/zlhpwgms1r38l09fb5f24y_80000gn/T/ipykernel_11826/3368081595.py:7: FutureWarning: Series.__getitem__ treating keys as positions is deprecated. In a future version, integer keys will always be treated as labels (consistent with DataFrame behavior). To access a value by position, use `ser.iloc[pos]`\n",
      "  n2 = b[1]\n",
      "/var/folders/pt/zlhpwgms1r38l09fb5f24y_80000gn/T/ipykernel_11826/3368081595.py:8: FutureWarning: Series.__getitem__ treating keys as positions is deprecated. In a future version, integer keys will always be treated as labels (consistent with DataFrame behavior). To access a value by position, use `ser.iloc[pos]`\n",
      "  date = b[2]\n"
     ]
    },
    {
     "name": "stdout",
     "output_type": "stream",
     "text": [
      "done!\n",
      "20, 0\n",
      "generating for 2018-02-10 Richard Gasquet, David Goffin\n"
     ]
    },
    {
     "name": "stderr",
     "output_type": "stream",
     "text": [
      "/var/folders/pt/zlhpwgms1r38l09fb5f24y_80000gn/T/ipykernel_11826/3368081595.py:6: FutureWarning: Series.__getitem__ treating keys as positions is deprecated. In a future version, integer keys will always be treated as labels (consistent with DataFrame behavior). To access a value by position, use `ser.iloc[pos]`\n",
      "  n1 = b[0]\n",
      "/var/folders/pt/zlhpwgms1r38l09fb5f24y_80000gn/T/ipykernel_11826/3368081595.py:7: FutureWarning: Series.__getitem__ treating keys as positions is deprecated. In a future version, integer keys will always be treated as labels (consistent with DataFrame behavior). To access a value by position, use `ser.iloc[pos]`\n",
      "  n2 = b[1]\n",
      "/var/folders/pt/zlhpwgms1r38l09fb5f24y_80000gn/T/ipykernel_11826/3368081595.py:8: FutureWarning: Series.__getitem__ treating keys as positions is deprecated. In a future version, integer keys will always be treated as labels (consistent with DataFrame behavior). To access a value by position, use `ser.iloc[pos]`\n",
      "  date = b[2]\n"
     ]
    },
    {
     "name": "stdout",
     "output_type": "stream",
     "text": [
      "done!\n",
      "21, 0\n",
      "generating for 2018-02-10 Lucas Pouille, Jo Wilfried Tsonga\n"
     ]
    },
    {
     "name": "stderr",
     "output_type": "stream",
     "text": [
      "/var/folders/pt/zlhpwgms1r38l09fb5f24y_80000gn/T/ipykernel_11826/3368081595.py:6: FutureWarning: Series.__getitem__ treating keys as positions is deprecated. In a future version, integer keys will always be treated as labels (consistent with DataFrame behavior). To access a value by position, use `ser.iloc[pos]`\n",
      "  n1 = b[0]\n",
      "/var/folders/pt/zlhpwgms1r38l09fb5f24y_80000gn/T/ipykernel_11826/3368081595.py:7: FutureWarning: Series.__getitem__ treating keys as positions is deprecated. In a future version, integer keys will always be treated as labels (consistent with DataFrame behavior). To access a value by position, use `ser.iloc[pos]`\n",
      "  n2 = b[1]\n",
      "/var/folders/pt/zlhpwgms1r38l09fb5f24y_80000gn/T/ipykernel_11826/3368081595.py:8: FutureWarning: Series.__getitem__ treating keys as positions is deprecated. In a future version, integer keys will always be treated as labels (consistent with DataFrame behavior). To access a value by position, use `ser.iloc[pos]`\n",
      "  date = b[2]\n"
     ]
    },
    {
     "name": "stdout",
     "output_type": "stream",
     "text": [
      "done!\n",
      "22, 0\n",
      "generating for 2018-02-15 Roger Federer, Philipp Kohlschreiber\n"
     ]
    },
    {
     "name": "stderr",
     "output_type": "stream",
     "text": [
      "/var/folders/pt/zlhpwgms1r38l09fb5f24y_80000gn/T/ipykernel_11826/3368081595.py:6: FutureWarning: Series.__getitem__ treating keys as positions is deprecated. In a future version, integer keys will always be treated as labels (consistent with DataFrame behavior). To access a value by position, use `ser.iloc[pos]`\n",
      "  n1 = b[0]\n",
      "/var/folders/pt/zlhpwgms1r38l09fb5f24y_80000gn/T/ipykernel_11826/3368081595.py:7: FutureWarning: Series.__getitem__ treating keys as positions is deprecated. In a future version, integer keys will always be treated as labels (consistent with DataFrame behavior). To access a value by position, use `ser.iloc[pos]`\n",
      "  n2 = b[1]\n",
      "/var/folders/pt/zlhpwgms1r38l09fb5f24y_80000gn/T/ipykernel_11826/3368081595.py:8: FutureWarning: Series.__getitem__ treating keys as positions is deprecated. In a future version, integer keys will always be treated as labels (consistent with DataFrame behavior). To access a value by position, use `ser.iloc[pos]`\n",
      "  date = b[2]\n"
     ]
    },
    {
     "name": "stdout",
     "output_type": "stream",
     "text": [
      "done!\n",
      "23, 0\n",
      "generating for 2018-02-16 Grigor Dimitrov, Andrey Rublev\n"
     ]
    },
    {
     "name": "stderr",
     "output_type": "stream",
     "text": [
      "/var/folders/pt/zlhpwgms1r38l09fb5f24y_80000gn/T/ipykernel_11826/3368081595.py:6: FutureWarning: Series.__getitem__ treating keys as positions is deprecated. In a future version, integer keys will always be treated as labels (consistent with DataFrame behavior). To access a value by position, use `ser.iloc[pos]`\n",
      "  n1 = b[0]\n",
      "/var/folders/pt/zlhpwgms1r38l09fb5f24y_80000gn/T/ipykernel_11826/3368081595.py:7: FutureWarning: Series.__getitem__ treating keys as positions is deprecated. In a future version, integer keys will always be treated as labels (consistent with DataFrame behavior). To access a value by position, use `ser.iloc[pos]`\n",
      "  n2 = b[1]\n",
      "/var/folders/pt/zlhpwgms1r38l09fb5f24y_80000gn/T/ipykernel_11826/3368081595.py:8: FutureWarning: Series.__getitem__ treating keys as positions is deprecated. In a future version, integer keys will always be treated as labels (consistent with DataFrame behavior). To access a value by position, use `ser.iloc[pos]`\n",
      "  date = b[2]\n"
     ]
    },
    {
     "name": "stdout",
     "output_type": "stream",
     "text": [
      "done!\n",
      "24, 0\n",
      "generating for 2018-02-17 Grigor Dimitrov, David Goffin\n"
     ]
    },
    {
     "name": "stderr",
     "output_type": "stream",
     "text": [
      "/var/folders/pt/zlhpwgms1r38l09fb5f24y_80000gn/T/ipykernel_11826/3368081595.py:6: FutureWarning: Series.__getitem__ treating keys as positions is deprecated. In a future version, integer keys will always be treated as labels (consistent with DataFrame behavior). To access a value by position, use `ser.iloc[pos]`\n",
      "  n1 = b[0]\n",
      "/var/folders/pt/zlhpwgms1r38l09fb5f24y_80000gn/T/ipykernel_11826/3368081595.py:7: FutureWarning: Series.__getitem__ treating keys as positions is deprecated. In a future version, integer keys will always be treated as labels (consistent with DataFrame behavior). To access a value by position, use `ser.iloc[pos]`\n",
      "  n2 = b[1]\n",
      "/var/folders/pt/zlhpwgms1r38l09fb5f24y_80000gn/T/ipykernel_11826/3368081595.py:8: FutureWarning: Series.__getitem__ treating keys as positions is deprecated. In a future version, integer keys will always be treated as labels (consistent with DataFrame behavior). To access a value by position, use `ser.iloc[pos]`\n",
      "  date = b[2]\n"
     ]
    },
    {
     "name": "stdout",
     "output_type": "stream",
     "text": [
      "done!\n",
      "25, 0\n",
      "generating for 2018-02-23 Tomas Berdych, Damir Dzumhur\n"
     ]
    },
    {
     "name": "stderr",
     "output_type": "stream",
     "text": [
      "/var/folders/pt/zlhpwgms1r38l09fb5f24y_80000gn/T/ipykernel_11826/3368081595.py:6: FutureWarning: Series.__getitem__ treating keys as positions is deprecated. In a future version, integer keys will always be treated as labels (consistent with DataFrame behavior). To access a value by position, use `ser.iloc[pos]`\n",
      "  n1 = b[0]\n",
      "/var/folders/pt/zlhpwgms1r38l09fb5f24y_80000gn/T/ipykernel_11826/3368081595.py:7: FutureWarning: Series.__getitem__ treating keys as positions is deprecated. In a future version, integer keys will always be treated as labels (consistent with DataFrame behavior). To access a value by position, use `ser.iloc[pos]`\n",
      "  n2 = b[1]\n",
      "/var/folders/pt/zlhpwgms1r38l09fb5f24y_80000gn/T/ipykernel_11826/3368081595.py:8: FutureWarning: Series.__getitem__ treating keys as positions is deprecated. In a future version, integer keys will always be treated as labels (consistent with DataFrame behavior). To access a value by position, use `ser.iloc[pos]`\n",
      "  date = b[2]\n"
     ]
    },
    {
     "name": "stdout",
     "output_type": "stream",
     "text": [
      "done!\n",
      "26, 0\n",
      "generating for 2018-02-23 Lucas Pouille, Filip Krajinovic\n"
     ]
    },
    {
     "name": "stderr",
     "output_type": "stream",
     "text": [
      "/var/folders/pt/zlhpwgms1r38l09fb5f24y_80000gn/T/ipykernel_11826/3368081595.py:6: FutureWarning: Series.__getitem__ treating keys as positions is deprecated. In a future version, integer keys will always be treated as labels (consistent with DataFrame behavior). To access a value by position, use `ser.iloc[pos]`\n",
      "  n1 = b[0]\n",
      "/var/folders/pt/zlhpwgms1r38l09fb5f24y_80000gn/T/ipykernel_11826/3368081595.py:7: FutureWarning: Series.__getitem__ treating keys as positions is deprecated. In a future version, integer keys will always be treated as labels (consistent with DataFrame behavior). To access a value by position, use `ser.iloc[pos]`\n",
      "  n2 = b[1]\n",
      "/var/folders/pt/zlhpwgms1r38l09fb5f24y_80000gn/T/ipykernel_11826/3368081595.py:8: FutureWarning: Series.__getitem__ treating keys as positions is deprecated. In a future version, integer keys will always be treated as labels (consistent with DataFrame behavior). To access a value by position, use `ser.iloc[pos]`\n",
      "  date = b[2]\n"
     ]
    },
    {
     "name": "stdout",
     "output_type": "stream",
     "text": [
      "done!\n",
      "27, 0\n",
      "generating for 2018-02-22 Aljaz Bedene, Pablo Carreno Busta\n"
     ]
    },
    {
     "name": "stderr",
     "output_type": "stream",
     "text": [
      "/var/folders/pt/zlhpwgms1r38l09fb5f24y_80000gn/T/ipykernel_11826/3368081595.py:6: FutureWarning: Series.__getitem__ treating keys as positions is deprecated. In a future version, integer keys will always be treated as labels (consistent with DataFrame behavior). To access a value by position, use `ser.iloc[pos]`\n",
      "  n1 = b[0]\n",
      "/var/folders/pt/zlhpwgms1r38l09fb5f24y_80000gn/T/ipykernel_11826/3368081595.py:7: FutureWarning: Series.__getitem__ treating keys as positions is deprecated. In a future version, integer keys will always be treated as labels (consistent with DataFrame behavior). To access a value by position, use `ser.iloc[pos]`\n",
      "  n2 = b[1]\n",
      "/var/folders/pt/zlhpwgms1r38l09fb5f24y_80000gn/T/ipykernel_11826/3368081595.py:8: FutureWarning: Series.__getitem__ treating keys as positions is deprecated. In a future version, integer keys will always be treated as labels (consistent with DataFrame behavior). To access a value by position, use `ser.iloc[pos]`\n",
      "  date = b[2]\n"
     ]
    },
    {
     "name": "stdout",
     "output_type": "stream",
     "text": [
      "done!\n",
      "28, 0\n",
      "generating for 2018-02-27 Ryan Harrison, John Isner\n"
     ]
    },
    {
     "name": "stderr",
     "output_type": "stream",
     "text": [
      "/var/folders/pt/zlhpwgms1r38l09fb5f24y_80000gn/T/ipykernel_11826/3368081595.py:6: FutureWarning: Series.__getitem__ treating keys as positions is deprecated. In a future version, integer keys will always be treated as labels (consistent with DataFrame behavior). To access a value by position, use `ser.iloc[pos]`\n",
      "  n1 = b[0]\n",
      "/var/folders/pt/zlhpwgms1r38l09fb5f24y_80000gn/T/ipykernel_11826/3368081595.py:7: FutureWarning: Series.__getitem__ treating keys as positions is deprecated. In a future version, integer keys will always be treated as labels (consistent with DataFrame behavior). To access a value by position, use `ser.iloc[pos]`\n",
      "  n2 = b[1]\n",
      "/var/folders/pt/zlhpwgms1r38l09fb5f24y_80000gn/T/ipykernel_11826/3368081595.py:8: FutureWarning: Series.__getitem__ treating keys as positions is deprecated. In a future version, integer keys will always be treated as labels (consistent with DataFrame behavior). To access a value by position, use `ser.iloc[pos]`\n",
      "  date = b[2]\n"
     ]
    },
    {
     "name": "stdout",
     "output_type": "stream",
     "text": [
      "done!\n",
      "29, 0\n",
      "generating for 2018-02-28 Ryan Harrison, Diego Schwartzman\n"
     ]
    },
    {
     "name": "stderr",
     "output_type": "stream",
     "text": [
      "/var/folders/pt/zlhpwgms1r38l09fb5f24y_80000gn/T/ipykernel_11826/3368081595.py:6: FutureWarning: Series.__getitem__ treating keys as positions is deprecated. In a future version, integer keys will always be treated as labels (consistent with DataFrame behavior). To access a value by position, use `ser.iloc[pos]`\n",
      "  n1 = b[0]\n",
      "/var/folders/pt/zlhpwgms1r38l09fb5f24y_80000gn/T/ipykernel_11826/3368081595.py:7: FutureWarning: Series.__getitem__ treating keys as positions is deprecated. In a future version, integer keys will always be treated as labels (consistent with DataFrame behavior). To access a value by position, use `ser.iloc[pos]`\n",
      "  n2 = b[1]\n",
      "/var/folders/pt/zlhpwgms1r38l09fb5f24y_80000gn/T/ipykernel_11826/3368081595.py:8: FutureWarning: Series.__getitem__ treating keys as positions is deprecated. In a future version, integer keys will always be treated as labels (consistent with DataFrame behavior). To access a value by position, use `ser.iloc[pos]`\n",
      "  date = b[2]\n"
     ]
    },
    {
     "name": "stdout",
     "output_type": "stream",
     "text": [
      "done!\n",
      "30, 0\n",
      "generating for 2018-03-01 Juan Martin Del Potro, David Ferrer\n"
     ]
    },
    {
     "name": "stderr",
     "output_type": "stream",
     "text": [
      "/var/folders/pt/zlhpwgms1r38l09fb5f24y_80000gn/T/ipykernel_11826/3368081595.py:6: FutureWarning: Series.__getitem__ treating keys as positions is deprecated. In a future version, integer keys will always be treated as labels (consistent with DataFrame behavior). To access a value by position, use `ser.iloc[pos]`\n",
      "  n1 = b[0]\n",
      "/var/folders/pt/zlhpwgms1r38l09fb5f24y_80000gn/T/ipykernel_11826/3368081595.py:7: FutureWarning: Series.__getitem__ treating keys as positions is deprecated. In a future version, integer keys will always be treated as labels (consistent with DataFrame behavior). To access a value by position, use `ser.iloc[pos]`\n",
      "  n2 = b[1]\n",
      "/var/folders/pt/zlhpwgms1r38l09fb5f24y_80000gn/T/ipykernel_11826/3368081595.py:8: FutureWarning: Series.__getitem__ treating keys as positions is deprecated. In a future version, integer keys will always be treated as labels (consistent with DataFrame behavior). To access a value by position, use `ser.iloc[pos]`\n",
      "  date = b[2]\n"
     ]
    },
    {
     "name": "stdout",
     "output_type": "stream",
     "text": [
      "done!\n",
      "31, 0\n",
      "generating for 2018-03-02 Juan Martin Del Potro, Dominic Thiem\n"
     ]
    },
    {
     "name": "stderr",
     "output_type": "stream",
     "text": [
      "/var/folders/pt/zlhpwgms1r38l09fb5f24y_80000gn/T/ipykernel_11826/3368081595.py:6: FutureWarning: Series.__getitem__ treating keys as positions is deprecated. In a future version, integer keys will always be treated as labels (consistent with DataFrame behavior). To access a value by position, use `ser.iloc[pos]`\n",
      "  n1 = b[0]\n",
      "/var/folders/pt/zlhpwgms1r38l09fb5f24y_80000gn/T/ipykernel_11826/3368081595.py:7: FutureWarning: Series.__getitem__ treating keys as positions is deprecated. In a future version, integer keys will always be treated as labels (consistent with DataFrame behavior). To access a value by position, use `ser.iloc[pos]`\n",
      "  n2 = b[1]\n",
      "/var/folders/pt/zlhpwgms1r38l09fb5f24y_80000gn/T/ipykernel_11826/3368081595.py:8: FutureWarning: Series.__getitem__ treating keys as positions is deprecated. In a future version, integer keys will always be treated as labels (consistent with DataFrame behavior). To access a value by position, use `ser.iloc[pos]`\n",
      "  date = b[2]\n"
     ]
    },
    {
     "name": "stdout",
     "output_type": "stream",
     "text": [
      "done!\n",
      "32, 0\n",
      "generating for 2018-03-04 Juan Martin Del Potro, Kevin Anderson\n"
     ]
    },
    {
     "name": "stderr",
     "output_type": "stream",
     "text": [
      "/var/folders/pt/zlhpwgms1r38l09fb5f24y_80000gn/T/ipykernel_11826/3368081595.py:6: FutureWarning: Series.__getitem__ treating keys as positions is deprecated. In a future version, integer keys will always be treated as labels (consistent with DataFrame behavior). To access a value by position, use `ser.iloc[pos]`\n",
      "  n1 = b[0]\n",
      "/var/folders/pt/zlhpwgms1r38l09fb5f24y_80000gn/T/ipykernel_11826/3368081595.py:7: FutureWarning: Series.__getitem__ treating keys as positions is deprecated. In a future version, integer keys will always be treated as labels (consistent with DataFrame behavior). To access a value by position, use `ser.iloc[pos]`\n",
      "  n2 = b[1]\n",
      "/var/folders/pt/zlhpwgms1r38l09fb5f24y_80000gn/T/ipykernel_11826/3368081595.py:8: FutureWarning: Series.__getitem__ treating keys as positions is deprecated. In a future version, integer keys will always be treated as labels (consistent with DataFrame behavior). To access a value by position, use `ser.iloc[pos]`\n",
      "  date = b[2]\n"
     ]
    },
    {
     "name": "stdout",
     "output_type": "stream",
     "text": [
      "done!\n",
      "33, 0\n",
      "generating for 2018-03-02 Roberto Bautista Agut, Malek Jaziri\n"
     ]
    },
    {
     "name": "stderr",
     "output_type": "stream",
     "text": [
      "/var/folders/pt/zlhpwgms1r38l09fb5f24y_80000gn/T/ipykernel_11826/3368081595.py:6: FutureWarning: Series.__getitem__ treating keys as positions is deprecated. In a future version, integer keys will always be treated as labels (consistent with DataFrame behavior). To access a value by position, use `ser.iloc[pos]`\n",
      "  n1 = b[0]\n",
      "/var/folders/pt/zlhpwgms1r38l09fb5f24y_80000gn/T/ipykernel_11826/3368081595.py:7: FutureWarning: Series.__getitem__ treating keys as positions is deprecated. In a future version, integer keys will always be treated as labels (consistent with DataFrame behavior). To access a value by position, use `ser.iloc[pos]`\n",
      "  n2 = b[1]\n",
      "/var/folders/pt/zlhpwgms1r38l09fb5f24y_80000gn/T/ipykernel_11826/3368081595.py:8: FutureWarning: Series.__getitem__ treating keys as positions is deprecated. In a future version, integer keys will always be treated as labels (consistent with DataFrame behavior). To access a value by position, use `ser.iloc[pos]`\n",
      "  date = b[2]\n"
     ]
    },
    {
     "name": "stdout",
     "output_type": "stream",
     "text": [
      "done!\n",
      "34, 0\n",
      "generating for 2018-03-12 Juan Martin Del Potro, Alex De Minaur\n"
     ]
    },
    {
     "name": "stderr",
     "output_type": "stream",
     "text": [
      "/var/folders/pt/zlhpwgms1r38l09fb5f24y_80000gn/T/ipykernel_11826/3368081595.py:6: FutureWarning: Series.__getitem__ treating keys as positions is deprecated. In a future version, integer keys will always be treated as labels (consistent with DataFrame behavior). To access a value by position, use `ser.iloc[pos]`\n",
      "  n1 = b[0]\n",
      "/var/folders/pt/zlhpwgms1r38l09fb5f24y_80000gn/T/ipykernel_11826/3368081595.py:7: FutureWarning: Series.__getitem__ treating keys as positions is deprecated. In a future version, integer keys will always be treated as labels (consistent with DataFrame behavior). To access a value by position, use `ser.iloc[pos]`\n",
      "  n2 = b[1]\n",
      "/var/folders/pt/zlhpwgms1r38l09fb5f24y_80000gn/T/ipykernel_11826/3368081595.py:8: FutureWarning: Series.__getitem__ treating keys as positions is deprecated. In a future version, integer keys will always be treated as labels (consistent with DataFrame behavior). To access a value by position, use `ser.iloc[pos]`\n",
      "  date = b[2]\n"
     ]
    },
    {
     "name": "stdout",
     "output_type": "stream",
     "text": [
      "done!\n",
      "35, 0\n",
      "generating for 2018-03-12 Roger Federer, Filip Krajinovic\n"
     ]
    },
    {
     "name": "stderr",
     "output_type": "stream",
     "text": [
      "/var/folders/pt/zlhpwgms1r38l09fb5f24y_80000gn/T/ipykernel_11826/3368081595.py:6: FutureWarning: Series.__getitem__ treating keys as positions is deprecated. In a future version, integer keys will always be treated as labels (consistent with DataFrame behavior). To access a value by position, use `ser.iloc[pos]`\n",
      "  n1 = b[0]\n",
      "/var/folders/pt/zlhpwgms1r38l09fb5f24y_80000gn/T/ipykernel_11826/3368081595.py:7: FutureWarning: Series.__getitem__ treating keys as positions is deprecated. In a future version, integer keys will always be treated as labels (consistent with DataFrame behavior). To access a value by position, use `ser.iloc[pos]`\n",
      "  n2 = b[1]\n",
      "/var/folders/pt/zlhpwgms1r38l09fb5f24y_80000gn/T/ipykernel_11826/3368081595.py:8: FutureWarning: Series.__getitem__ treating keys as positions is deprecated. In a future version, integer keys will always be treated as labels (consistent with DataFrame behavior). To access a value by position, use `ser.iloc[pos]`\n",
      "  date = b[2]\n"
     ]
    },
    {
     "name": "stdout",
     "output_type": "stream",
     "text": [
      "done!\n",
      "36, 0\n",
      "generating for 2018-03-12 Pablo Carreno Busta, Daniil Medvedev\n"
     ]
    },
    {
     "name": "stderr",
     "output_type": "stream",
     "text": [
      "/var/folders/pt/zlhpwgms1r38l09fb5f24y_80000gn/T/ipykernel_11826/3368081595.py:6: FutureWarning: Series.__getitem__ treating keys as positions is deprecated. In a future version, integer keys will always be treated as labels (consistent with DataFrame behavior). To access a value by position, use `ser.iloc[pos]`\n",
      "  n1 = b[0]\n",
      "/var/folders/pt/zlhpwgms1r38l09fb5f24y_80000gn/T/ipykernel_11826/3368081595.py:7: FutureWarning: Series.__getitem__ treating keys as positions is deprecated. In a future version, integer keys will always be treated as labels (consistent with DataFrame behavior). To access a value by position, use `ser.iloc[pos]`\n",
      "  n2 = b[1]\n",
      "/var/folders/pt/zlhpwgms1r38l09fb5f24y_80000gn/T/ipykernel_11826/3368081595.py:8: FutureWarning: Series.__getitem__ treating keys as positions is deprecated. In a future version, integer keys will always be treated as labels (consistent with DataFrame behavior). To access a value by position, use `ser.iloc[pos]`\n",
      "  date = b[2]\n"
     ]
    },
    {
     "name": "stdout",
     "output_type": "stream",
     "text": [
      "done!\n",
      "37, 0\n",
      "generating for 2018-03-12 Borna Coric, Roberto Bautista Agut\n"
     ]
    },
    {
     "name": "stderr",
     "output_type": "stream",
     "text": [
      "/var/folders/pt/zlhpwgms1r38l09fb5f24y_80000gn/T/ipykernel_11826/3368081595.py:6: FutureWarning: Series.__getitem__ treating keys as positions is deprecated. In a future version, integer keys will always be treated as labels (consistent with DataFrame behavior). To access a value by position, use `ser.iloc[pos]`\n",
      "  n1 = b[0]\n",
      "/var/folders/pt/zlhpwgms1r38l09fb5f24y_80000gn/T/ipykernel_11826/3368081595.py:7: FutureWarning: Series.__getitem__ treating keys as positions is deprecated. In a future version, integer keys will always be treated as labels (consistent with DataFrame behavior). To access a value by position, use `ser.iloc[pos]`\n",
      "  n2 = b[1]\n",
      "/var/folders/pt/zlhpwgms1r38l09fb5f24y_80000gn/T/ipykernel_11826/3368081595.py:8: FutureWarning: Series.__getitem__ treating keys as positions is deprecated. In a future version, integer keys will always be treated as labels (consistent with DataFrame behavior). To access a value by position, use `ser.iloc[pos]`\n",
      "  date = b[2]\n"
     ]
    },
    {
     "name": "stdout",
     "output_type": "stream",
     "text": [
      "done!\n",
      "38, 0\n",
      "generating for 2018-03-13 Juan Martin Del Potro, David Ferrer\n"
     ]
    },
    {
     "name": "stderr",
     "output_type": "stream",
     "text": [
      "/var/folders/pt/zlhpwgms1r38l09fb5f24y_80000gn/T/ipykernel_11826/3368081595.py:6: FutureWarning: Series.__getitem__ treating keys as positions is deprecated. In a future version, integer keys will always be treated as labels (consistent with DataFrame behavior). To access a value by position, use `ser.iloc[pos]`\n",
      "  n1 = b[0]\n",
      "/var/folders/pt/zlhpwgms1r38l09fb5f24y_80000gn/T/ipykernel_11826/3368081595.py:7: FutureWarning: Series.__getitem__ treating keys as positions is deprecated. In a future version, integer keys will always be treated as labels (consistent with DataFrame behavior). To access a value by position, use `ser.iloc[pos]`\n",
      "  n2 = b[1]\n",
      "/var/folders/pt/zlhpwgms1r38l09fb5f24y_80000gn/T/ipykernel_11826/3368081595.py:8: FutureWarning: Series.__getitem__ treating keys as positions is deprecated. In a future version, integer keys will always be treated as labels (consistent with DataFrame behavior). To access a value by position, use `ser.iloc[pos]`\n",
      "  date = b[2]\n"
     ]
    },
    {
     "name": "stdout",
     "output_type": "stream",
     "text": [
      "done!\n",
      "39, 0\n",
      "generating for 2018-03-14 Kevin Anderson, Pablo Carreno Busta\n"
     ]
    },
    {
     "name": "stderr",
     "output_type": "stream",
     "text": [
      "/var/folders/pt/zlhpwgms1r38l09fb5f24y_80000gn/T/ipykernel_11826/3368081595.py:6: FutureWarning: Series.__getitem__ treating keys as positions is deprecated. In a future version, integer keys will always be treated as labels (consistent with DataFrame behavior). To access a value by position, use `ser.iloc[pos]`\n",
      "  n1 = b[0]\n",
      "/var/folders/pt/zlhpwgms1r38l09fb5f24y_80000gn/T/ipykernel_11826/3368081595.py:7: FutureWarning: Series.__getitem__ treating keys as positions is deprecated. In a future version, integer keys will always be treated as labels (consistent with DataFrame behavior). To access a value by position, use `ser.iloc[pos]`\n",
      "  n2 = b[1]\n",
      "/var/folders/pt/zlhpwgms1r38l09fb5f24y_80000gn/T/ipykernel_11826/3368081595.py:8: FutureWarning: Series.__getitem__ treating keys as positions is deprecated. In a future version, integer keys will always be treated as labels (consistent with DataFrame behavior). To access a value by position, use `ser.iloc[pos]`\n",
      "  date = b[2]\n"
     ]
    },
    {
     "name": "stdout",
     "output_type": "stream",
     "text": [
      "done!\n",
      "40, 0\n",
      "generating for 2018-03-16 Juan Martin Del Potro, Philipp Kohlschreiber\n"
     ]
    },
    {
     "name": "stderr",
     "output_type": "stream",
     "text": [
      "/var/folders/pt/zlhpwgms1r38l09fb5f24y_80000gn/T/ipykernel_11826/3368081595.py:6: FutureWarning: Series.__getitem__ treating keys as positions is deprecated. In a future version, integer keys will always be treated as labels (consistent with DataFrame behavior). To access a value by position, use `ser.iloc[pos]`\n",
      "  n1 = b[0]\n",
      "/var/folders/pt/zlhpwgms1r38l09fb5f24y_80000gn/T/ipykernel_11826/3368081595.py:7: FutureWarning: Series.__getitem__ treating keys as positions is deprecated. In a future version, integer keys will always be treated as labels (consistent with DataFrame behavior). To access a value by position, use `ser.iloc[pos]`\n",
      "  n2 = b[1]\n",
      "/var/folders/pt/zlhpwgms1r38l09fb5f24y_80000gn/T/ipykernel_11826/3368081595.py:8: FutureWarning: Series.__getitem__ treating keys as positions is deprecated. In a future version, integer keys will always be treated as labels (consistent with DataFrame behavior). To access a value by position, use `ser.iloc[pos]`\n",
      "  date = b[2]\n"
     ]
    },
    {
     "name": "stdout",
     "output_type": "stream",
     "text": [
      "done!\n",
      "41, 0\n",
      "generating for 2018-03-17 Juan Martin Del Potro, Milos Raonic\n"
     ]
    },
    {
     "name": "stderr",
     "output_type": "stream",
     "text": [
      "/var/folders/pt/zlhpwgms1r38l09fb5f24y_80000gn/T/ipykernel_11826/3368081595.py:6: FutureWarning: Series.__getitem__ treating keys as positions is deprecated. In a future version, integer keys will always be treated as labels (consistent with DataFrame behavior). To access a value by position, use `ser.iloc[pos]`\n",
      "  n1 = b[0]\n",
      "/var/folders/pt/zlhpwgms1r38l09fb5f24y_80000gn/T/ipykernel_11826/3368081595.py:7: FutureWarning: Series.__getitem__ treating keys as positions is deprecated. In a future version, integer keys will always be treated as labels (consistent with DataFrame behavior). To access a value by position, use `ser.iloc[pos]`\n",
      "  n2 = b[1]\n",
      "/var/folders/pt/zlhpwgms1r38l09fb5f24y_80000gn/T/ipykernel_11826/3368081595.py:8: FutureWarning: Series.__getitem__ treating keys as positions is deprecated. In a future version, integer keys will always be treated as labels (consistent with DataFrame behavior). To access a value by position, use `ser.iloc[pos]`\n",
      "  date = b[2]\n"
     ]
    },
    {
     "name": "stdout",
     "output_type": "stream",
     "text": [
      "done!\n",
      "42, 0\n",
      "generating for 2018-03-18 Juan Martin Del Potro, Roger Federer\n"
     ]
    },
    {
     "name": "stderr",
     "output_type": "stream",
     "text": [
      "/var/folders/pt/zlhpwgms1r38l09fb5f24y_80000gn/T/ipykernel_11826/3368081595.py:6: FutureWarning: Series.__getitem__ treating keys as positions is deprecated. In a future version, integer keys will always be treated as labels (consistent with DataFrame behavior). To access a value by position, use `ser.iloc[pos]`\n",
      "  n1 = b[0]\n",
      "/var/folders/pt/zlhpwgms1r38l09fb5f24y_80000gn/T/ipykernel_11826/3368081595.py:7: FutureWarning: Series.__getitem__ treating keys as positions is deprecated. In a future version, integer keys will always be treated as labels (consistent with DataFrame behavior). To access a value by position, use `ser.iloc[pos]`\n",
      "  n2 = b[1]\n",
      "/var/folders/pt/zlhpwgms1r38l09fb5f24y_80000gn/T/ipykernel_11826/3368081595.py:8: FutureWarning: Series.__getitem__ treating keys as positions is deprecated. In a future version, integer keys will always be treated as labels (consistent with DataFrame behavior). To access a value by position, use `ser.iloc[pos]`\n",
      "  date = b[2]\n"
     ]
    },
    {
     "name": "stdout",
     "output_type": "stream",
     "text": [
      "done!\n",
      "43, 0\n",
      "generating for 2018-03-24 Alexander Zverev, Daniil Medvedev\n"
     ]
    },
    {
     "name": "stderr",
     "output_type": "stream",
     "text": [
      "/var/folders/pt/zlhpwgms1r38l09fb5f24y_80000gn/T/ipykernel_11826/3368081595.py:6: FutureWarning: Series.__getitem__ treating keys as positions is deprecated. In a future version, integer keys will always be treated as labels (consistent with DataFrame behavior). To access a value by position, use `ser.iloc[pos]`\n",
      "  n1 = b[0]\n",
      "/var/folders/pt/zlhpwgms1r38l09fb5f24y_80000gn/T/ipykernel_11826/3368081595.py:7: FutureWarning: Series.__getitem__ treating keys as positions is deprecated. In a future version, integer keys will always be treated as labels (consistent with DataFrame behavior). To access a value by position, use `ser.iloc[pos]`\n",
      "  n2 = b[1]\n",
      "/var/folders/pt/zlhpwgms1r38l09fb5f24y_80000gn/T/ipykernel_11826/3368081595.py:8: FutureWarning: Series.__getitem__ treating keys as positions is deprecated. In a future version, integer keys will always be treated as labels (consistent with DataFrame behavior). To access a value by position, use `ser.iloc[pos]`\n",
      "  date = b[2]\n"
     ]
    },
    {
     "name": "stdout",
     "output_type": "stream",
     "text": [
      "done!\n",
      "44, 0\n",
      "generating for 2018-03-25 Juan Martin Del Potro, Kei Nishikori\n"
     ]
    },
    {
     "name": "stderr",
     "output_type": "stream",
     "text": [
      "/var/folders/pt/zlhpwgms1r38l09fb5f24y_80000gn/T/ipykernel_11826/3368081595.py:6: FutureWarning: Series.__getitem__ treating keys as positions is deprecated. In a future version, integer keys will always be treated as labels (consistent with DataFrame behavior). To access a value by position, use `ser.iloc[pos]`\n",
      "  n1 = b[0]\n",
      "/var/folders/pt/zlhpwgms1r38l09fb5f24y_80000gn/T/ipykernel_11826/3368081595.py:7: FutureWarning: Series.__getitem__ treating keys as positions is deprecated. In a future version, integer keys will always be treated as labels (consistent with DataFrame behavior). To access a value by position, use `ser.iloc[pos]`\n",
      "  n2 = b[1]\n",
      "/var/folders/pt/zlhpwgms1r38l09fb5f24y_80000gn/T/ipykernel_11826/3368081595.py:8: FutureWarning: Series.__getitem__ treating keys as positions is deprecated. In a future version, integer keys will always be treated as labels (consistent with DataFrame behavior). To access a value by position, use `ser.iloc[pos]`\n",
      "  date = b[2]\n"
     ]
    },
    {
     "name": "stdout",
     "output_type": "stream",
     "text": [
      "done!\n",
      "45, 0\n",
      "generating for 2018-03-26 Milos Raonic, Diego Schwartzman\n"
     ]
    },
    {
     "name": "stderr",
     "output_type": "stream",
     "text": [
      "/var/folders/pt/zlhpwgms1r38l09fb5f24y_80000gn/T/ipykernel_11826/3368081595.py:6: FutureWarning: Series.__getitem__ treating keys as positions is deprecated. In a future version, integer keys will always be treated as labels (consistent with DataFrame behavior). To access a value by position, use `ser.iloc[pos]`\n",
      "  n1 = b[0]\n",
      "/var/folders/pt/zlhpwgms1r38l09fb5f24y_80000gn/T/ipykernel_11826/3368081595.py:7: FutureWarning: Series.__getitem__ treating keys as positions is deprecated. In a future version, integer keys will always be treated as labels (consistent with DataFrame behavior). To access a value by position, use `ser.iloc[pos]`\n",
      "  n2 = b[1]\n",
      "/var/folders/pt/zlhpwgms1r38l09fb5f24y_80000gn/T/ipykernel_11826/3368081595.py:8: FutureWarning: Series.__getitem__ treating keys as positions is deprecated. In a future version, integer keys will always be treated as labels (consistent with DataFrame behavior). To access a value by position, use `ser.iloc[pos]`\n",
      "  date = b[2]\n"
     ]
    },
    {
     "name": "stdout",
     "output_type": "stream",
     "text": [
      "done!\n",
      "46, 0\n",
      "generating for 2018-03-26 Pablo Carreno Busta, Steve Johnson\n"
     ]
    },
    {
     "name": "stderr",
     "output_type": "stream",
     "text": [
      "/var/folders/pt/zlhpwgms1r38l09fb5f24y_80000gn/T/ipykernel_11826/3368081595.py:6: FutureWarning: Series.__getitem__ treating keys as positions is deprecated. In a future version, integer keys will always be treated as labels (consistent with DataFrame behavior). To access a value by position, use `ser.iloc[pos]`\n",
      "  n1 = b[0]\n",
      "/var/folders/pt/zlhpwgms1r38l09fb5f24y_80000gn/T/ipykernel_11826/3368081595.py:7: FutureWarning: Series.__getitem__ treating keys as positions is deprecated. In a future version, integer keys will always be treated as labels (consistent with DataFrame behavior). To access a value by position, use `ser.iloc[pos]`\n",
      "  n2 = b[1]\n",
      "/var/folders/pt/zlhpwgms1r38l09fb5f24y_80000gn/T/ipykernel_11826/3368081595.py:8: FutureWarning: Series.__getitem__ treating keys as positions is deprecated. In a future version, integer keys will always be treated as labels (consistent with DataFrame behavior). To access a value by position, use `ser.iloc[pos]`\n",
      "  date = b[2]\n"
     ]
    },
    {
     "name": "stdout",
     "output_type": "stream",
     "text": [
      "done!\n",
      "47, 0\n",
      "generating for 2018-03-28 Alexander Zverev, Nick Kyrgios\n"
     ]
    },
    {
     "name": "stderr",
     "output_type": "stream",
     "text": [
      "/var/folders/pt/zlhpwgms1r38l09fb5f24y_80000gn/T/ipykernel_11826/3368081595.py:6: FutureWarning: Series.__getitem__ treating keys as positions is deprecated. In a future version, integer keys will always be treated as labels (consistent with DataFrame behavior). To access a value by position, use `ser.iloc[pos]`\n",
      "  n1 = b[0]\n",
      "/var/folders/pt/zlhpwgms1r38l09fb5f24y_80000gn/T/ipykernel_11826/3368081595.py:7: FutureWarning: Series.__getitem__ treating keys as positions is deprecated. In a future version, integer keys will always be treated as labels (consistent with DataFrame behavior). To access a value by position, use `ser.iloc[pos]`\n",
      "  n2 = b[1]\n",
      "/var/folders/pt/zlhpwgms1r38l09fb5f24y_80000gn/T/ipykernel_11826/3368081595.py:8: FutureWarning: Series.__getitem__ treating keys as positions is deprecated. In a future version, integer keys will always be treated as labels (consistent with DataFrame behavior). To access a value by position, use `ser.iloc[pos]`\n",
      "  date = b[2]\n"
     ]
    },
    {
     "name": "stdout",
     "output_type": "stream",
     "text": [
      "done!\n",
      "48, 0\n",
      "generating for 2018-03-29 Juan Martin Del Potro, Milos Raonic\n"
     ]
    },
    {
     "name": "stderr",
     "output_type": "stream",
     "text": [
      "/var/folders/pt/zlhpwgms1r38l09fb5f24y_80000gn/T/ipykernel_11826/3368081595.py:6: FutureWarning: Series.__getitem__ treating keys as positions is deprecated. In a future version, integer keys will always be treated as labels (consistent with DataFrame behavior). To access a value by position, use `ser.iloc[pos]`\n",
      "  n1 = b[0]\n",
      "/var/folders/pt/zlhpwgms1r38l09fb5f24y_80000gn/T/ipykernel_11826/3368081595.py:7: FutureWarning: Series.__getitem__ treating keys as positions is deprecated. In a future version, integer keys will always be treated as labels (consistent with DataFrame behavior). To access a value by position, use `ser.iloc[pos]`\n",
      "  n2 = b[1]\n",
      "/var/folders/pt/zlhpwgms1r38l09fb5f24y_80000gn/T/ipykernel_11826/3368081595.py:8: FutureWarning: Series.__getitem__ treating keys as positions is deprecated. In a future version, integer keys will always be treated as labels (consistent with DataFrame behavior). To access a value by position, use `ser.iloc[pos]`\n",
      "  date = b[2]\n"
     ]
    },
    {
     "name": "stdout",
     "output_type": "stream",
     "text": [
      "done!\n",
      "49, 0\n",
      "generating for 2018-03-29 Pablo Carreno Busta, Kevin Anderson\n"
     ]
    },
    {
     "name": "stderr",
     "output_type": "stream",
     "text": [
      "/var/folders/pt/zlhpwgms1r38l09fb5f24y_80000gn/T/ipykernel_11826/3368081595.py:6: FutureWarning: Series.__getitem__ treating keys as positions is deprecated. In a future version, integer keys will always be treated as labels (consistent with DataFrame behavior). To access a value by position, use `ser.iloc[pos]`\n",
      "  n1 = b[0]\n",
      "/var/folders/pt/zlhpwgms1r38l09fb5f24y_80000gn/T/ipykernel_11826/3368081595.py:7: FutureWarning: Series.__getitem__ treating keys as positions is deprecated. In a future version, integer keys will always be treated as labels (consistent with DataFrame behavior). To access a value by position, use `ser.iloc[pos]`\n",
      "  n2 = b[1]\n",
      "/var/folders/pt/zlhpwgms1r38l09fb5f24y_80000gn/T/ipykernel_11826/3368081595.py:8: FutureWarning: Series.__getitem__ treating keys as positions is deprecated. In a future version, integer keys will always be treated as labels (consistent with DataFrame behavior). To access a value by position, use `ser.iloc[pos]`\n",
      "  date = b[2]\n"
     ]
    },
    {
     "name": "stdout",
     "output_type": "stream",
     "text": [
      "done!\n",
      "50, 0\n",
      "generating for 2018-03-30 Alexander Zverev, Borna Coric\n"
     ]
    },
    {
     "name": "stderr",
     "output_type": "stream",
     "text": [
      "/var/folders/pt/zlhpwgms1r38l09fb5f24y_80000gn/T/ipykernel_11826/3368081595.py:6: FutureWarning: Series.__getitem__ treating keys as positions is deprecated. In a future version, integer keys will always be treated as labels (consistent with DataFrame behavior). To access a value by position, use `ser.iloc[pos]`\n",
      "  n1 = b[0]\n",
      "/var/folders/pt/zlhpwgms1r38l09fb5f24y_80000gn/T/ipykernel_11826/3368081595.py:7: FutureWarning: Series.__getitem__ treating keys as positions is deprecated. In a future version, integer keys will always be treated as labels (consistent with DataFrame behavior). To access a value by position, use `ser.iloc[pos]`\n",
      "  n2 = b[1]\n",
      "/var/folders/pt/zlhpwgms1r38l09fb5f24y_80000gn/T/ipykernel_11826/3368081595.py:8: FutureWarning: Series.__getitem__ treating keys as positions is deprecated. In a future version, integer keys will always be treated as labels (consistent with DataFrame behavior). To access a value by position, use `ser.iloc[pos]`\n",
      "  date = b[2]\n"
     ]
    },
    {
     "name": "stdout",
     "output_type": "stream",
     "text": [
      "done!\n",
      "51, 0\n",
      "generating for 2018-03-30 John Isner, Juan Martin Del Potro\n"
     ]
    },
    {
     "name": "stderr",
     "output_type": "stream",
     "text": [
      "/var/folders/pt/zlhpwgms1r38l09fb5f24y_80000gn/T/ipykernel_11826/3368081595.py:6: FutureWarning: Series.__getitem__ treating keys as positions is deprecated. In a future version, integer keys will always be treated as labels (consistent with DataFrame behavior). To access a value by position, use `ser.iloc[pos]`\n",
      "  n1 = b[0]\n",
      "/var/folders/pt/zlhpwgms1r38l09fb5f24y_80000gn/T/ipykernel_11826/3368081595.py:7: FutureWarning: Series.__getitem__ treating keys as positions is deprecated. In a future version, integer keys will always be treated as labels (consistent with DataFrame behavior). To access a value by position, use `ser.iloc[pos]`\n",
      "  n2 = b[1]\n",
      "/var/folders/pt/zlhpwgms1r38l09fb5f24y_80000gn/T/ipykernel_11826/3368081595.py:8: FutureWarning: Series.__getitem__ treating keys as positions is deprecated. In a future version, integer keys will always be treated as labels (consistent with DataFrame behavior). To access a value by position, use `ser.iloc[pos]`\n",
      "  date = b[2]\n"
     ]
    },
    {
     "name": "stdout",
     "output_type": "stream",
     "text": [
      "done!\n",
      "52, 0\n",
      "generating for 2018-04-16 Kei Nishikori, Tomas Berdych\n"
     ]
    },
    {
     "name": "stderr",
     "output_type": "stream",
     "text": [
      "/var/folders/pt/zlhpwgms1r38l09fb5f24y_80000gn/T/ipykernel_11826/3368081595.py:6: FutureWarning: Series.__getitem__ treating keys as positions is deprecated. In a future version, integer keys will always be treated as labels (consistent with DataFrame behavior). To access a value by position, use `ser.iloc[pos]`\n",
      "  n1 = b[0]\n",
      "/var/folders/pt/zlhpwgms1r38l09fb5f24y_80000gn/T/ipykernel_11826/3368081595.py:7: FutureWarning: Series.__getitem__ treating keys as positions is deprecated. In a future version, integer keys will always be treated as labels (consistent with DataFrame behavior). To access a value by position, use `ser.iloc[pos]`\n",
      "  n2 = b[1]\n",
      "/var/folders/pt/zlhpwgms1r38l09fb5f24y_80000gn/T/ipykernel_11826/3368081595.py:8: FutureWarning: Series.__getitem__ treating keys as positions is deprecated. In a future version, integer keys will always be treated as labels (consistent with DataFrame behavior). To access a value by position, use `ser.iloc[pos]`\n",
      "  date = b[2]\n"
     ]
    },
    {
     "name": "stdout",
     "output_type": "stream",
     "text": [
      "done!\n",
      "53, 0\n",
      "generating for 2018-04-17 Jan Lennard Struff, Yuichi Sugita\n"
     ]
    },
    {
     "name": "stderr",
     "output_type": "stream",
     "text": [
      "/var/folders/pt/zlhpwgms1r38l09fb5f24y_80000gn/T/ipykernel_11826/3368081595.py:6: FutureWarning: Series.__getitem__ treating keys as positions is deprecated. In a future version, integer keys will always be treated as labels (consistent with DataFrame behavior). To access a value by position, use `ser.iloc[pos]`\n",
      "  n1 = b[0]\n",
      "/var/folders/pt/zlhpwgms1r38l09fb5f24y_80000gn/T/ipykernel_11826/3368081595.py:7: FutureWarning: Series.__getitem__ treating keys as positions is deprecated. In a future version, integer keys will always be treated as labels (consistent with DataFrame behavior). To access a value by position, use `ser.iloc[pos]`\n",
      "  n2 = b[1]\n",
      "/var/folders/pt/zlhpwgms1r38l09fb5f24y_80000gn/T/ipykernel_11826/3368081595.py:8: FutureWarning: Series.__getitem__ treating keys as positions is deprecated. In a future version, integer keys will always be treated as labels (consistent with DataFrame behavior). To access a value by position, use `ser.iloc[pos]`\n",
      "  date = b[2]\n"
     ]
    },
    {
     "name": "stdout",
     "output_type": "stream",
     "text": [
      "done!\n",
      "54, 0\n",
      "generating for 2018-04-17 Dominic Thiem, Andrey Rublev\n"
     ]
    },
    {
     "name": "stderr",
     "output_type": "stream",
     "text": [
      "/var/folders/pt/zlhpwgms1r38l09fb5f24y_80000gn/T/ipykernel_11826/3368081595.py:6: FutureWarning: Series.__getitem__ treating keys as positions is deprecated. In a future version, integer keys will always be treated as labels (consistent with DataFrame behavior). To access a value by position, use `ser.iloc[pos]`\n",
      "  n1 = b[0]\n",
      "/var/folders/pt/zlhpwgms1r38l09fb5f24y_80000gn/T/ipykernel_11826/3368081595.py:7: FutureWarning: Series.__getitem__ treating keys as positions is deprecated. In a future version, integer keys will always be treated as labels (consistent with DataFrame behavior). To access a value by position, use `ser.iloc[pos]`\n",
      "  n2 = b[1]\n",
      "/var/folders/pt/zlhpwgms1r38l09fb5f24y_80000gn/T/ipykernel_11826/3368081595.py:8: FutureWarning: Series.__getitem__ treating keys as positions is deprecated. In a future version, integer keys will always be treated as labels (consistent with DataFrame behavior). To access a value by position, use `ser.iloc[pos]`\n",
      "  date = b[2]\n"
     ]
    },
    {
     "name": "stdout",
     "output_type": "stream",
     "text": [
      "done!\n",
      "55, 0\n",
      "generating for 2018-04-19 David Goffin, Roberto Bautista Agut\n"
     ]
    },
    {
     "name": "stderr",
     "output_type": "stream",
     "text": [
      "/var/folders/pt/zlhpwgms1r38l09fb5f24y_80000gn/T/ipykernel_11826/3368081595.py:6: FutureWarning: Series.__getitem__ treating keys as positions is deprecated. In a future version, integer keys will always be treated as labels (consistent with DataFrame behavior). To access a value by position, use `ser.iloc[pos]`\n",
      "  n1 = b[0]\n",
      "/var/folders/pt/zlhpwgms1r38l09fb5f24y_80000gn/T/ipykernel_11826/3368081595.py:7: FutureWarning: Series.__getitem__ treating keys as positions is deprecated. In a future version, integer keys will always be treated as labels (consistent with DataFrame behavior). To access a value by position, use `ser.iloc[pos]`\n",
      "  n2 = b[1]\n",
      "/var/folders/pt/zlhpwgms1r38l09fb5f24y_80000gn/T/ipykernel_11826/3368081595.py:8: FutureWarning: Series.__getitem__ treating keys as positions is deprecated. In a future version, integer keys will always be treated as labels (consistent with DataFrame behavior). To access a value by position, use `ser.iloc[pos]`\n",
      "  date = b[2]\n"
     ]
    },
    {
     "name": "stdout",
     "output_type": "stream",
     "text": [
      "done!\n",
      "56, 0\n",
      "generating for 2018-04-19 Dominic Thiem, Novak Djokovic\n"
     ]
    },
    {
     "name": "stderr",
     "output_type": "stream",
     "text": [
      "/var/folders/pt/zlhpwgms1r38l09fb5f24y_80000gn/T/ipykernel_11826/3368081595.py:6: FutureWarning: Series.__getitem__ treating keys as positions is deprecated. In a future version, integer keys will always be treated as labels (consistent with DataFrame behavior). To access a value by position, use `ser.iloc[pos]`\n",
      "  n1 = b[0]\n",
      "/var/folders/pt/zlhpwgms1r38l09fb5f24y_80000gn/T/ipykernel_11826/3368081595.py:7: FutureWarning: Series.__getitem__ treating keys as positions is deprecated. In a future version, integer keys will always be treated as labels (consistent with DataFrame behavior). To access a value by position, use `ser.iloc[pos]`\n",
      "  n2 = b[1]\n",
      "/var/folders/pt/zlhpwgms1r38l09fb5f24y_80000gn/T/ipykernel_11826/3368081595.py:8: FutureWarning: Series.__getitem__ treating keys as positions is deprecated. In a future version, integer keys will always be treated as labels (consistent with DataFrame behavior). To access a value by position, use `ser.iloc[pos]`\n",
      "  date = b[2]\n"
     ]
    },
    {
     "name": "stdout",
     "output_type": "stream",
     "text": [
      "done!\n",
      "57, 0\n",
      "generating for 2018-04-20 Grigor Dimitrov, David Goffin\n"
     ]
    },
    {
     "name": "stderr",
     "output_type": "stream",
     "text": [
      "/var/folders/pt/zlhpwgms1r38l09fb5f24y_80000gn/T/ipykernel_11826/3368081595.py:6: FutureWarning: Series.__getitem__ treating keys as positions is deprecated. In a future version, integer keys will always be treated as labels (consistent with DataFrame behavior). To access a value by position, use `ser.iloc[pos]`\n",
      "  n1 = b[0]\n",
      "/var/folders/pt/zlhpwgms1r38l09fb5f24y_80000gn/T/ipykernel_11826/3368081595.py:7: FutureWarning: Series.__getitem__ treating keys as positions is deprecated. In a future version, integer keys will always be treated as labels (consistent with DataFrame behavior). To access a value by position, use `ser.iloc[pos]`\n",
      "  n2 = b[1]\n",
      "/var/folders/pt/zlhpwgms1r38l09fb5f24y_80000gn/T/ipykernel_11826/3368081595.py:8: FutureWarning: Series.__getitem__ treating keys as positions is deprecated. In a future version, integer keys will always be treated as labels (consistent with DataFrame behavior). To access a value by position, use `ser.iloc[pos]`\n",
      "  date = b[2]\n"
     ]
    },
    {
     "name": "stdout",
     "output_type": "stream",
     "text": [
      "done!\n",
      "58, 0\n",
      "generating for 2018-04-21 Kei Nishikori, Alexander Zverev\n"
     ]
    },
    {
     "name": "stderr",
     "output_type": "stream",
     "text": [
      "/var/folders/pt/zlhpwgms1r38l09fb5f24y_80000gn/T/ipykernel_11826/3368081595.py:6: FutureWarning: Series.__getitem__ treating keys as positions is deprecated. In a future version, integer keys will always be treated as labels (consistent with DataFrame behavior). To access a value by position, use `ser.iloc[pos]`\n",
      "  n1 = b[0]\n",
      "/var/folders/pt/zlhpwgms1r38l09fb5f24y_80000gn/T/ipykernel_11826/3368081595.py:7: FutureWarning: Series.__getitem__ treating keys as positions is deprecated. In a future version, integer keys will always be treated as labels (consistent with DataFrame behavior). To access a value by position, use `ser.iloc[pos]`\n",
      "  n2 = b[1]\n",
      "/var/folders/pt/zlhpwgms1r38l09fb5f24y_80000gn/T/ipykernel_11826/3368081595.py:8: FutureWarning: Series.__getitem__ treating keys as positions is deprecated. In a future version, integer keys will always be treated as labels (consistent with DataFrame behavior). To access a value by position, use `ser.iloc[pos]`\n",
      "  date = b[2]\n"
     ]
    },
    {
     "name": "stdout",
     "output_type": "stream",
     "text": [
      "done!\n",
      "59, 0\n",
      "generating for 2018-04-25 Grigor Dimitrov, Gilles Simon\n"
     ]
    },
    {
     "name": "stderr",
     "output_type": "stream",
     "text": [
      "/var/folders/pt/zlhpwgms1r38l09fb5f24y_80000gn/T/ipykernel_11826/3368081595.py:6: FutureWarning: Series.__getitem__ treating keys as positions is deprecated. In a future version, integer keys will always be treated as labels (consistent with DataFrame behavior). To access a value by position, use `ser.iloc[pos]`\n",
      "  n1 = b[0]\n",
      "/var/folders/pt/zlhpwgms1r38l09fb5f24y_80000gn/T/ipykernel_11826/3368081595.py:7: FutureWarning: Series.__getitem__ treating keys as positions is deprecated. In a future version, integer keys will always be treated as labels (consistent with DataFrame behavior). To access a value by position, use `ser.iloc[pos]`\n",
      "  n2 = b[1]\n",
      "/var/folders/pt/zlhpwgms1r38l09fb5f24y_80000gn/T/ipykernel_11826/3368081595.py:8: FutureWarning: Series.__getitem__ treating keys as positions is deprecated. In a future version, integer keys will always be treated as labels (consistent with DataFrame behavior). To access a value by position, use `ser.iloc[pos]`\n",
      "  date = b[2]\n"
     ]
    },
    {
     "name": "stdout",
     "output_type": "stream",
     "text": [
      "done!\n",
      "60, 0\n",
      "generating for 2018-04-25 Pablo Carreno Busta, Benoit Paire\n"
     ]
    },
    {
     "name": "stderr",
     "output_type": "stream",
     "text": [
      "/var/folders/pt/zlhpwgms1r38l09fb5f24y_80000gn/T/ipykernel_11826/3368081595.py:6: FutureWarning: Series.__getitem__ treating keys as positions is deprecated. In a future version, integer keys will always be treated as labels (consistent with DataFrame behavior). To access a value by position, use `ser.iloc[pos]`\n",
      "  n1 = b[0]\n",
      "/var/folders/pt/zlhpwgms1r38l09fb5f24y_80000gn/T/ipykernel_11826/3368081595.py:7: FutureWarning: Series.__getitem__ treating keys as positions is deprecated. In a future version, integer keys will always be treated as labels (consistent with DataFrame behavior). To access a value by position, use `ser.iloc[pos]`\n",
      "  n2 = b[1]\n",
      "/var/folders/pt/zlhpwgms1r38l09fb5f24y_80000gn/T/ipykernel_11826/3368081595.py:8: FutureWarning: Series.__getitem__ treating keys as positions is deprecated. In a future version, integer keys will always be treated as labels (consistent with DataFrame behavior). To access a value by position, use `ser.iloc[pos]`\n",
      "  date = b[2]\n"
     ]
    },
    {
     "name": "stdout",
     "output_type": "stream",
     "text": [
      "done!\n",
      "61, 0\n",
      "generating for 2018-04-27 Pablo Carreno Busta, Grigor Dimitrov\n"
     ]
    },
    {
     "name": "stderr",
     "output_type": "stream",
     "text": [
      "/var/folders/pt/zlhpwgms1r38l09fb5f24y_80000gn/T/ipykernel_11826/3368081595.py:6: FutureWarning: Series.__getitem__ treating keys as positions is deprecated. In a future version, integer keys will always be treated as labels (consistent with DataFrame behavior). To access a value by position, use `ser.iloc[pos]`\n",
      "  n1 = b[0]\n",
      "/var/folders/pt/zlhpwgms1r38l09fb5f24y_80000gn/T/ipykernel_11826/3368081595.py:7: FutureWarning: Series.__getitem__ treating keys as positions is deprecated. In a future version, integer keys will always be treated as labels (consistent with DataFrame behavior). To access a value by position, use `ser.iloc[pos]`\n",
      "  n2 = b[1]\n",
      "/var/folders/pt/zlhpwgms1r38l09fb5f24y_80000gn/T/ipykernel_11826/3368081595.py:8: FutureWarning: Series.__getitem__ treating keys as positions is deprecated. In a future version, integer keys will always be treated as labels (consistent with DataFrame behavior). To access a value by position, use `ser.iloc[pos]`\n",
      "  date = b[2]\n"
     ]
    },
    {
     "name": "stdout",
     "output_type": "stream",
     "text": [
      "done!\n",
      "62, 0\n",
      "generating for 2018-04-27 David Goffin, Roberto Bautista Agut\n"
     ]
    },
    {
     "name": "stderr",
     "output_type": "stream",
     "text": [
      "/var/folders/pt/zlhpwgms1r38l09fb5f24y_80000gn/T/ipykernel_11826/3368081595.py:6: FutureWarning: Series.__getitem__ treating keys as positions is deprecated. In a future version, integer keys will always be treated as labels (consistent with DataFrame behavior). To access a value by position, use `ser.iloc[pos]`\n",
      "  n1 = b[0]\n",
      "/var/folders/pt/zlhpwgms1r38l09fb5f24y_80000gn/T/ipykernel_11826/3368081595.py:7: FutureWarning: Series.__getitem__ treating keys as positions is deprecated. In a future version, integer keys will always be treated as labels (consistent with DataFrame behavior). To access a value by position, use `ser.iloc[pos]`\n",
      "  n2 = b[1]\n",
      "/var/folders/pt/zlhpwgms1r38l09fb5f24y_80000gn/T/ipykernel_11826/3368081595.py:8: FutureWarning: Series.__getitem__ treating keys as positions is deprecated. In a future version, integer keys will always be treated as labels (consistent with DataFrame behavior). To access a value by position, use `ser.iloc[pos]`\n",
      "  date = b[2]\n"
     ]
    },
    {
     "name": "stdout",
     "output_type": "stream",
     "text": [
      "done!\n",
      "63, 0\n",
      "generating for 2018-05-01 Mirza Basic, Gael Monfils\n"
     ]
    },
    {
     "name": "stderr",
     "output_type": "stream",
     "text": [
      "/var/folders/pt/zlhpwgms1r38l09fb5f24y_80000gn/T/ipykernel_11826/3368081595.py:6: FutureWarning: Series.__getitem__ treating keys as positions is deprecated. In a future version, integer keys will always be treated as labels (consistent with DataFrame behavior). To access a value by position, use `ser.iloc[pos]`\n",
      "  n1 = b[0]\n",
      "/var/folders/pt/zlhpwgms1r38l09fb5f24y_80000gn/T/ipykernel_11826/3368081595.py:7: FutureWarning: Series.__getitem__ treating keys as positions is deprecated. In a future version, integer keys will always be treated as labels (consistent with DataFrame behavior). To access a value by position, use `ser.iloc[pos]`\n",
      "  n2 = b[1]\n",
      "/var/folders/pt/zlhpwgms1r38l09fb5f24y_80000gn/T/ipykernel_11826/3368081595.py:8: FutureWarning: Series.__getitem__ treating keys as positions is deprecated. In a future version, integer keys will always be treated as labels (consistent with DataFrame behavior). To access a value by position, use `ser.iloc[pos]`\n",
      "  date = b[2]\n"
     ]
    },
    {
     "name": "stdout",
     "output_type": "stream",
     "text": [
      "done!\n",
      "64, 0\n",
      "generating for 2018-05-06 Richard Gasquet, Tomas Berdych\n"
     ]
    },
    {
     "name": "stderr",
     "output_type": "stream",
     "text": [
      "/var/folders/pt/zlhpwgms1r38l09fb5f24y_80000gn/T/ipykernel_11826/3368081595.py:6: FutureWarning: Series.__getitem__ treating keys as positions is deprecated. In a future version, integer keys will always be treated as labels (consistent with DataFrame behavior). To access a value by position, use `ser.iloc[pos]`\n",
      "  n1 = b[0]\n",
      "/var/folders/pt/zlhpwgms1r38l09fb5f24y_80000gn/T/ipykernel_11826/3368081595.py:7: FutureWarning: Series.__getitem__ treating keys as positions is deprecated. In a future version, integer keys will always be treated as labels (consistent with DataFrame behavior). To access a value by position, use `ser.iloc[pos]`\n",
      "  n2 = b[1]\n",
      "/var/folders/pt/zlhpwgms1r38l09fb5f24y_80000gn/T/ipykernel_11826/3368081595.py:8: FutureWarning: Series.__getitem__ treating keys as positions is deprecated. In a future version, integer keys will always be treated as labels (consistent with DataFrame behavior). To access a value by position, use `ser.iloc[pos]`\n",
      "  date = b[2]\n"
     ]
    },
    {
     "name": "stdout",
     "output_type": "stream",
     "text": [
      "done!\n",
      "65, 0\n",
      "generating for 2018-05-07 Novak Djokovic, Kei Nishikori\n"
     ]
    },
    {
     "name": "stderr",
     "output_type": "stream",
     "text": [
      "/var/folders/pt/zlhpwgms1r38l09fb5f24y_80000gn/T/ipykernel_11826/3368081595.py:6: FutureWarning: Series.__getitem__ treating keys as positions is deprecated. In a future version, integer keys will always be treated as labels (consistent with DataFrame behavior). To access a value by position, use `ser.iloc[pos]`\n",
      "  n1 = b[0]\n",
      "/var/folders/pt/zlhpwgms1r38l09fb5f24y_80000gn/T/ipykernel_11826/3368081595.py:7: FutureWarning: Series.__getitem__ treating keys as positions is deprecated. In a future version, integer keys will always be treated as labels (consistent with DataFrame behavior). To access a value by position, use `ser.iloc[pos]`\n",
      "  n2 = b[1]\n",
      "/var/folders/pt/zlhpwgms1r38l09fb5f24y_80000gn/T/ipykernel_11826/3368081595.py:8: FutureWarning: Series.__getitem__ treating keys as positions is deprecated. In a future version, integer keys will always be treated as labels (consistent with DataFrame behavior). To access a value by position, use `ser.iloc[pos]`\n",
      "  date = b[2]\n"
     ]
    },
    {
     "name": "stdout",
     "output_type": "stream",
     "text": [
      "done!\n",
      "66, 0\n",
      "generating for 2018-05-08 Borna Coric, Pablo Carreno Busta\n"
     ]
    },
    {
     "name": "stderr",
     "output_type": "stream",
     "text": [
      "/var/folders/pt/zlhpwgms1r38l09fb5f24y_80000gn/T/ipykernel_11826/3368081595.py:6: FutureWarning: Series.__getitem__ treating keys as positions is deprecated. In a future version, integer keys will always be treated as labels (consistent with DataFrame behavior). To access a value by position, use `ser.iloc[pos]`\n",
      "  n1 = b[0]\n",
      "/var/folders/pt/zlhpwgms1r38l09fb5f24y_80000gn/T/ipykernel_11826/3368081595.py:7: FutureWarning: Series.__getitem__ treating keys as positions is deprecated. In a future version, integer keys will always be treated as labels (consistent with DataFrame behavior). To access a value by position, use `ser.iloc[pos]`\n",
      "  n2 = b[1]\n",
      "/var/folders/pt/zlhpwgms1r38l09fb5f24y_80000gn/T/ipykernel_11826/3368081595.py:8: FutureWarning: Series.__getitem__ treating keys as positions is deprecated. In a future version, integer keys will always be treated as labels (consistent with DataFrame behavior). To access a value by position, use `ser.iloc[pos]`\n",
      "  date = b[2]\n"
     ]
    },
    {
     "name": "stdout",
     "output_type": "stream",
     "text": [
      "done!\n",
      "67, 0\n",
      "generating for 2018-05-08 Milos Raonic, Grigor Dimitrov\n"
     ]
    },
    {
     "name": "stderr",
     "output_type": "stream",
     "text": [
      "/var/folders/pt/zlhpwgms1r38l09fb5f24y_80000gn/T/ipykernel_11826/3368081595.py:6: FutureWarning: Series.__getitem__ treating keys as positions is deprecated. In a future version, integer keys will always be treated as labels (consistent with DataFrame behavior). To access a value by position, use `ser.iloc[pos]`\n",
      "  n1 = b[0]\n",
      "/var/folders/pt/zlhpwgms1r38l09fb5f24y_80000gn/T/ipykernel_11826/3368081595.py:7: FutureWarning: Series.__getitem__ treating keys as positions is deprecated. In a future version, integer keys will always be treated as labels (consistent with DataFrame behavior). To access a value by position, use `ser.iloc[pos]`\n",
      "  n2 = b[1]\n",
      "/var/folders/pt/zlhpwgms1r38l09fb5f24y_80000gn/T/ipykernel_11826/3368081595.py:8: FutureWarning: Series.__getitem__ treating keys as positions is deprecated. In a future version, integer keys will always be treated as labels (consistent with DataFrame behavior). To access a value by position, use `ser.iloc[pos]`\n",
      "  date = b[2]\n"
     ]
    },
    {
     "name": "stdout",
     "output_type": "stream",
     "text": [
      "done!\n",
      "68, 0\n",
      "generating for 2018-05-08 Juan Martin Del Potro, Damir Dzumhur\n"
     ]
    },
    {
     "name": "stderr",
     "output_type": "stream",
     "text": [
      "/var/folders/pt/zlhpwgms1r38l09fb5f24y_80000gn/T/ipykernel_11826/3368081595.py:6: FutureWarning: Series.__getitem__ treating keys as positions is deprecated. In a future version, integer keys will always be treated as labels (consistent with DataFrame behavior). To access a value by position, use `ser.iloc[pos]`\n",
      "  n1 = b[0]\n",
      "/var/folders/pt/zlhpwgms1r38l09fb5f24y_80000gn/T/ipykernel_11826/3368081595.py:7: FutureWarning: Series.__getitem__ treating keys as positions is deprecated. In a future version, integer keys will always be treated as labels (consistent with DataFrame behavior). To access a value by position, use `ser.iloc[pos]`\n",
      "  n2 = b[1]\n",
      "/var/folders/pt/zlhpwgms1r38l09fb5f24y_80000gn/T/ipykernel_11826/3368081595.py:8: FutureWarning: Series.__getitem__ treating keys as positions is deprecated. In a future version, integer keys will always be treated as labels (consistent with DataFrame behavior). To access a value by position, use `ser.iloc[pos]`\n",
      "  date = b[2]\n"
     ]
    },
    {
     "name": "stdout",
     "output_type": "stream",
     "text": [
      "done!\n",
      "69, 0\n",
      "generating for 2018-05-13 Alexander Zverev, Dominic Thiem\n"
     ]
    },
    {
     "name": "stderr",
     "output_type": "stream",
     "text": [
      "/var/folders/pt/zlhpwgms1r38l09fb5f24y_80000gn/T/ipykernel_11826/3368081595.py:6: FutureWarning: Series.__getitem__ treating keys as positions is deprecated. In a future version, integer keys will always be treated as labels (consistent with DataFrame behavior). To access a value by position, use `ser.iloc[pos]`\n",
      "  n1 = b[0]\n",
      "/var/folders/pt/zlhpwgms1r38l09fb5f24y_80000gn/T/ipykernel_11826/3368081595.py:7: FutureWarning: Series.__getitem__ treating keys as positions is deprecated. In a future version, integer keys will always be treated as labels (consistent with DataFrame behavior). To access a value by position, use `ser.iloc[pos]`\n",
      "  n2 = b[1]\n",
      "/var/folders/pt/zlhpwgms1r38l09fb5f24y_80000gn/T/ipykernel_11826/3368081595.py:8: FutureWarning: Series.__getitem__ treating keys as positions is deprecated. In a future version, integer keys will always be treated as labels (consistent with DataFrame behavior). To access a value by position, use `ser.iloc[pos]`\n",
      "  date = b[2]\n"
     ]
    },
    {
     "name": "stdout",
     "output_type": "stream",
     "text": [
      "done!\n",
      "70, 0\n",
      "generating for 2018-05-14 Philipp Kohlschreiber, Karen Khachanov\n"
     ]
    },
    {
     "name": "stderr",
     "output_type": "stream",
     "text": [
      "/var/folders/pt/zlhpwgms1r38l09fb5f24y_80000gn/T/ipykernel_11826/3368081595.py:6: FutureWarning: Series.__getitem__ treating keys as positions is deprecated. In a future version, integer keys will always be treated as labels (consistent with DataFrame behavior). To access a value by position, use `ser.iloc[pos]`\n",
      "  n1 = b[0]\n",
      "/var/folders/pt/zlhpwgms1r38l09fb5f24y_80000gn/T/ipykernel_11826/3368081595.py:7: FutureWarning: Series.__getitem__ treating keys as positions is deprecated. In a future version, integer keys will always be treated as labels (consistent with DataFrame behavior). To access a value by position, use `ser.iloc[pos]`\n",
      "  n2 = b[1]\n",
      "/var/folders/pt/zlhpwgms1r38l09fb5f24y_80000gn/T/ipykernel_11826/3368081595.py:8: FutureWarning: Series.__getitem__ treating keys as positions is deprecated. In a future version, integer keys will always be treated as labels (consistent with DataFrame behavior). To access a value by position, use `ser.iloc[pos]`\n",
      "  date = b[2]\n"
     ]
    },
    {
     "name": "stdout",
     "output_type": "stream",
     "text": [
      "done!\n",
      "71, 0\n",
      "generating for 2018-05-15 David Goffin, Marco Cecchinato\n"
     ]
    },
    {
     "name": "stderr",
     "output_type": "stream",
     "text": [
      "/var/folders/pt/zlhpwgms1r38l09fb5f24y_80000gn/T/ipykernel_11826/3368081595.py:6: FutureWarning: Series.__getitem__ treating keys as positions is deprecated. In a future version, integer keys will always be treated as labels (consistent with DataFrame behavior). To access a value by position, use `ser.iloc[pos]`\n",
      "  n1 = b[0]\n",
      "/var/folders/pt/zlhpwgms1r38l09fb5f24y_80000gn/T/ipykernel_11826/3368081595.py:7: FutureWarning: Series.__getitem__ treating keys as positions is deprecated. In a future version, integer keys will always be treated as labels (consistent with DataFrame behavior). To access a value by position, use `ser.iloc[pos]`\n",
      "  n2 = b[1]\n",
      "/var/folders/pt/zlhpwgms1r38l09fb5f24y_80000gn/T/ipykernel_11826/3368081595.py:8: FutureWarning: Series.__getitem__ treating keys as positions is deprecated. In a future version, integer keys will always be treated as labels (consistent with DataFrame behavior). To access a value by position, use `ser.iloc[pos]`\n",
      "  date = b[2]\n"
     ]
    },
    {
     "name": "stdout",
     "output_type": "stream",
     "text": [
      "done!\n",
      "72, 0\n",
      "generating for 2018-05-16 Pablo Carreno Busta, Steve Johnson\n"
     ]
    },
    {
     "name": "stderr",
     "output_type": "stream",
     "text": [
      "/var/folders/pt/zlhpwgms1r38l09fb5f24y_80000gn/T/ipykernel_11826/3368081595.py:6: FutureWarning: Series.__getitem__ treating keys as positions is deprecated. In a future version, integer keys will always be treated as labels (consistent with DataFrame behavior). To access a value by position, use `ser.iloc[pos]`\n",
      "  n1 = b[0]\n",
      "/var/folders/pt/zlhpwgms1r38l09fb5f24y_80000gn/T/ipykernel_11826/3368081595.py:7: FutureWarning: Series.__getitem__ treating keys as positions is deprecated. In a future version, integer keys will always be treated as labels (consistent with DataFrame behavior). To access a value by position, use `ser.iloc[pos]`\n",
      "  n2 = b[1]\n",
      "/var/folders/pt/zlhpwgms1r38l09fb5f24y_80000gn/T/ipykernel_11826/3368081595.py:8: FutureWarning: Series.__getitem__ treating keys as positions is deprecated. In a future version, integer keys will always be treated as labels (consistent with DataFrame behavior). To access a value by position, use `ser.iloc[pos]`\n",
      "  date = b[2]\n"
     ]
    },
    {
     "name": "stdout",
     "output_type": "stream",
     "text": [
      "done!\n",
      "73, 0\n",
      "generating for 2018-05-17 Pablo Carreno Busta, Aljaz Bedene\n"
     ]
    },
    {
     "name": "stderr",
     "output_type": "stream",
     "text": [
      "/var/folders/pt/zlhpwgms1r38l09fb5f24y_80000gn/T/ipykernel_11826/3368081595.py:6: FutureWarning: Series.__getitem__ treating keys as positions is deprecated. In a future version, integer keys will always be treated as labels (consistent with DataFrame behavior). To access a value by position, use `ser.iloc[pos]`\n",
      "  n1 = b[0]\n",
      "/var/folders/pt/zlhpwgms1r38l09fb5f24y_80000gn/T/ipykernel_11826/3368081595.py:7: FutureWarning: Series.__getitem__ treating keys as positions is deprecated. In a future version, integer keys will always be treated as labels (consistent with DataFrame behavior). To access a value by position, use `ser.iloc[pos]`\n",
      "  n2 = b[1]\n",
      "/var/folders/pt/zlhpwgms1r38l09fb5f24y_80000gn/T/ipykernel_11826/3368081595.py:8: FutureWarning: Series.__getitem__ treating keys as positions is deprecated. In a future version, integer keys will always be treated as labels (consistent with DataFrame behavior). To access a value by position, use `ser.iloc[pos]`\n",
      "  date = b[2]\n"
     ]
    },
    {
     "name": "stdout",
     "output_type": "stream",
     "text": [
      "done!\n",
      "74, 0\n",
      "generating for 2018-05-17 David Goffin, Juan Martin Del Potro\n"
     ]
    },
    {
     "name": "stderr",
     "output_type": "stream",
     "text": [
      "/var/folders/pt/zlhpwgms1r38l09fb5f24y_80000gn/T/ipykernel_11826/3368081595.py:6: FutureWarning: Series.__getitem__ treating keys as positions is deprecated. In a future version, integer keys will always be treated as labels (consistent with DataFrame behavior). To access a value by position, use `ser.iloc[pos]`\n",
      "  n1 = b[0]\n",
      "/var/folders/pt/zlhpwgms1r38l09fb5f24y_80000gn/T/ipykernel_11826/3368081595.py:7: FutureWarning: Series.__getitem__ treating keys as positions is deprecated. In a future version, integer keys will always be treated as labels (consistent with DataFrame behavior). To access a value by position, use `ser.iloc[pos]`\n",
      "  n2 = b[1]\n",
      "/var/folders/pt/zlhpwgms1r38l09fb5f24y_80000gn/T/ipykernel_11826/3368081595.py:8: FutureWarning: Series.__getitem__ treating keys as positions is deprecated. In a future version, integer keys will always be treated as labels (consistent with DataFrame behavior). To access a value by position, use `ser.iloc[pos]`\n",
      "  date = b[2]\n"
     ]
    },
    {
     "name": "stdout",
     "output_type": "stream",
     "text": [
      "done!\n",
      "75, 0\n",
      "generating for 2018-05-18 Marin Cilic, Pablo Carreno Busta\n"
     ]
    },
    {
     "name": "stderr",
     "output_type": "stream",
     "text": [
      "/var/folders/pt/zlhpwgms1r38l09fb5f24y_80000gn/T/ipykernel_11826/3368081595.py:6: FutureWarning: Series.__getitem__ treating keys as positions is deprecated. In a future version, integer keys will always be treated as labels (consistent with DataFrame behavior). To access a value by position, use `ser.iloc[pos]`\n",
      "  n1 = b[0]\n",
      "/var/folders/pt/zlhpwgms1r38l09fb5f24y_80000gn/T/ipykernel_11826/3368081595.py:7: FutureWarning: Series.__getitem__ treating keys as positions is deprecated. In a future version, integer keys will always be treated as labels (consistent with DataFrame behavior). To access a value by position, use `ser.iloc[pos]`\n",
      "  n2 = b[1]\n",
      "/var/folders/pt/zlhpwgms1r38l09fb5f24y_80000gn/T/ipykernel_11826/3368081595.py:8: FutureWarning: Series.__getitem__ treating keys as positions is deprecated. In a future version, integer keys will always be treated as labels (consistent with DataFrame behavior). To access a value by position, use `ser.iloc[pos]`\n",
      "  date = b[2]\n"
     ]
    },
    {
     "name": "stdout",
     "output_type": "stream",
     "text": [
      "done!\n",
      "76, 0\n",
      "generating for 2018-05-18 Novak Djokovic, Kei Nishikori\n"
     ]
    },
    {
     "name": "stderr",
     "output_type": "stream",
     "text": [
      "/var/folders/pt/zlhpwgms1r38l09fb5f24y_80000gn/T/ipykernel_11826/3368081595.py:6: FutureWarning: Series.__getitem__ treating keys as positions is deprecated. In a future version, integer keys will always be treated as labels (consistent with DataFrame behavior). To access a value by position, use `ser.iloc[pos]`\n",
      "  n1 = b[0]\n",
      "/var/folders/pt/zlhpwgms1r38l09fb5f24y_80000gn/T/ipykernel_11826/3368081595.py:7: FutureWarning: Series.__getitem__ treating keys as positions is deprecated. In a future version, integer keys will always be treated as labels (consistent with DataFrame behavior). To access a value by position, use `ser.iloc[pos]`\n",
      "  n2 = b[1]\n",
      "/var/folders/pt/zlhpwgms1r38l09fb5f24y_80000gn/T/ipykernel_11826/3368081595.py:8: FutureWarning: Series.__getitem__ treating keys as positions is deprecated. In a future version, integer keys will always be treated as labels (consistent with DataFrame behavior). To access a value by position, use `ser.iloc[pos]`\n",
      "  date = b[2]\n"
     ]
    },
    {
     "name": "stdout",
     "output_type": "stream",
     "text": [
      "done!\n",
      "77, 0\n",
      "generating for 2018-05-18 Alexander Zverev, David Goffin\n"
     ]
    },
    {
     "name": "stderr",
     "output_type": "stream",
     "text": [
      "/var/folders/pt/zlhpwgms1r38l09fb5f24y_80000gn/T/ipykernel_11826/3368081595.py:6: FutureWarning: Series.__getitem__ treating keys as positions is deprecated. In a future version, integer keys will always be treated as labels (consistent with DataFrame behavior). To access a value by position, use `ser.iloc[pos]`\n",
      "  n1 = b[0]\n",
      "/var/folders/pt/zlhpwgms1r38l09fb5f24y_80000gn/T/ipykernel_11826/3368081595.py:7: FutureWarning: Series.__getitem__ treating keys as positions is deprecated. In a future version, integer keys will always be treated as labels (consistent with DataFrame behavior). To access a value by position, use `ser.iloc[pos]`\n",
      "  n2 = b[1]\n",
      "/var/folders/pt/zlhpwgms1r38l09fb5f24y_80000gn/T/ipykernel_11826/3368081595.py:8: FutureWarning: Series.__getitem__ treating keys as positions is deprecated. In a future version, integer keys will always be treated as labels (consistent with DataFrame behavior). To access a value by position, use `ser.iloc[pos]`\n",
      "  date = b[2]\n"
     ]
    },
    {
     "name": "stdout",
     "output_type": "stream",
     "text": [
      "done!\n",
      "78, 0\n",
      "generating for 2018-05-26 Dominic Thiem, Gilles Simon\n"
     ]
    },
    {
     "name": "stderr",
     "output_type": "stream",
     "text": [
      "/var/folders/pt/zlhpwgms1r38l09fb5f24y_80000gn/T/ipykernel_11826/3368081595.py:6: FutureWarning: Series.__getitem__ treating keys as positions is deprecated. In a future version, integer keys will always be treated as labels (consistent with DataFrame behavior). To access a value by position, use `ser.iloc[pos]`\n",
      "  n1 = b[0]\n",
      "/var/folders/pt/zlhpwgms1r38l09fb5f24y_80000gn/T/ipykernel_11826/3368081595.py:7: FutureWarning: Series.__getitem__ treating keys as positions is deprecated. In a future version, integer keys will always be treated as labels (consistent with DataFrame behavior). To access a value by position, use `ser.iloc[pos]`\n",
      "  n2 = b[1]\n",
      "/var/folders/pt/zlhpwgms1r38l09fb5f24y_80000gn/T/ipykernel_11826/3368081595.py:8: FutureWarning: Series.__getitem__ treating keys as positions is deprecated. In a future version, integer keys will always be treated as labels (consistent with DataFrame behavior). To access a value by position, use `ser.iloc[pos]`\n",
      "  date = b[2]\n"
     ]
    },
    {
     "name": "stdout",
     "output_type": "stream",
     "text": [
      "done!\n",
      "79, 0\n",
      "generating for 2018-05-30 Kei Nishikori, Benoit Paire\n"
     ]
    },
    {
     "name": "stderr",
     "output_type": "stream",
     "text": [
      "/var/folders/pt/zlhpwgms1r38l09fb5f24y_80000gn/T/ipykernel_11826/3368081595.py:6: FutureWarning: Series.__getitem__ treating keys as positions is deprecated. In a future version, integer keys will always be treated as labels (consistent with DataFrame behavior). To access a value by position, use `ser.iloc[pos]`\n",
      "  n1 = b[0]\n",
      "/var/folders/pt/zlhpwgms1r38l09fb5f24y_80000gn/T/ipykernel_11826/3368081595.py:7: FutureWarning: Series.__getitem__ treating keys as positions is deprecated. In a future version, integer keys will always be treated as labels (consistent with DataFrame behavior). To access a value by position, use `ser.iloc[pos]`\n",
      "  n2 = b[1]\n",
      "/var/folders/pt/zlhpwgms1r38l09fb5f24y_80000gn/T/ipykernel_11826/3368081595.py:8: FutureWarning: Series.__getitem__ treating keys as positions is deprecated. In a future version, integer keys will always be treated as labels (consistent with DataFrame behavior). To access a value by position, use `ser.iloc[pos]`\n",
      "  date = b[2]\n"
     ]
    },
    {
     "name": "stdout",
     "output_type": "stream",
     "text": [
      "done!\n",
      "80, 0\n",
      "generating for 2018-06-02 Karen Khachanov, Lucas Pouille\n"
     ]
    },
    {
     "name": "stderr",
     "output_type": "stream",
     "text": [
      "/var/folders/pt/zlhpwgms1r38l09fb5f24y_80000gn/T/ipykernel_11826/3368081595.py:6: FutureWarning: Series.__getitem__ treating keys as positions is deprecated. In a future version, integer keys will always be treated as labels (consistent with DataFrame behavior). To access a value by position, use `ser.iloc[pos]`\n",
      "  n1 = b[0]\n",
      "/var/folders/pt/zlhpwgms1r38l09fb5f24y_80000gn/T/ipykernel_11826/3368081595.py:7: FutureWarning: Series.__getitem__ treating keys as positions is deprecated. In a future version, integer keys will always be treated as labels (consistent with DataFrame behavior). To access a value by position, use `ser.iloc[pos]`\n",
      "  n2 = b[1]\n",
      "/var/folders/pt/zlhpwgms1r38l09fb5f24y_80000gn/T/ipykernel_11826/3368081595.py:8: FutureWarning: Series.__getitem__ treating keys as positions is deprecated. In a future version, integer keys will always be treated as labels (consistent with DataFrame behavior). To access a value by position, use `ser.iloc[pos]`\n",
      "  date = b[2]\n"
     ]
    },
    {
     "name": "stdout",
     "output_type": "stream",
     "text": [
      "done!\n",
      "81, 0\n",
      "generating for 2018-06-04 Diego Schwartzman, Kevin Anderson\n"
     ]
    },
    {
     "name": "stderr",
     "output_type": "stream",
     "text": [
      "/var/folders/pt/zlhpwgms1r38l09fb5f24y_80000gn/T/ipykernel_11826/3368081595.py:6: FutureWarning: Series.__getitem__ treating keys as positions is deprecated. In a future version, integer keys will always be treated as labels (consistent with DataFrame behavior). To access a value by position, use `ser.iloc[pos]`\n",
      "  n1 = b[0]\n",
      "/var/folders/pt/zlhpwgms1r38l09fb5f24y_80000gn/T/ipykernel_11826/3368081595.py:7: FutureWarning: Series.__getitem__ treating keys as positions is deprecated. In a future version, integer keys will always be treated as labels (consistent with DataFrame behavior). To access a value by position, use `ser.iloc[pos]`\n",
      "  n2 = b[1]\n",
      "/var/folders/pt/zlhpwgms1r38l09fb5f24y_80000gn/T/ipykernel_11826/3368081595.py:8: FutureWarning: Series.__getitem__ treating keys as positions is deprecated. In a future version, integer keys will always be treated as labels (consistent with DataFrame behavior). To access a value by position, use `ser.iloc[pos]`\n",
      "  date = b[2]\n"
     ]
    },
    {
     "name": "stdout",
     "output_type": "stream",
     "text": [
      "done!\n",
      "82, 0\n",
      "generating for 2018-06-04 Juan Martin Del Potro, John Isner\n"
     ]
    },
    {
     "name": "stderr",
     "output_type": "stream",
     "text": [
      "/var/folders/pt/zlhpwgms1r38l09fb5f24y_80000gn/T/ipykernel_11826/3368081595.py:6: FutureWarning: Series.__getitem__ treating keys as positions is deprecated. In a future version, integer keys will always be treated as labels (consistent with DataFrame behavior). To access a value by position, use `ser.iloc[pos]`\n",
      "  n1 = b[0]\n",
      "/var/folders/pt/zlhpwgms1r38l09fb5f24y_80000gn/T/ipykernel_11826/3368081595.py:7: FutureWarning: Series.__getitem__ treating keys as positions is deprecated. In a future version, integer keys will always be treated as labels (consistent with DataFrame behavior). To access a value by position, use `ser.iloc[pos]`\n",
      "  n2 = b[1]\n",
      "/var/folders/pt/zlhpwgms1r38l09fb5f24y_80000gn/T/ipykernel_11826/3368081595.py:8: FutureWarning: Series.__getitem__ treating keys as positions is deprecated. In a future version, integer keys will always be treated as labels (consistent with DataFrame behavior). To access a value by position, use `ser.iloc[pos]`\n",
      "  date = b[2]\n"
     ]
    },
    {
     "name": "stdout",
     "output_type": "stream",
     "text": [
      "done!\n",
      "83, 0\n",
      "generating for 2018-06-05 Marco Cecchinato, Novak Djokovic\n"
     ]
    },
    {
     "name": "stderr",
     "output_type": "stream",
     "text": [
      "/var/folders/pt/zlhpwgms1r38l09fb5f24y_80000gn/T/ipykernel_11826/3368081595.py:6: FutureWarning: Series.__getitem__ treating keys as positions is deprecated. In a future version, integer keys will always be treated as labels (consistent with DataFrame behavior). To access a value by position, use `ser.iloc[pos]`\n",
      "  n1 = b[0]\n",
      "/var/folders/pt/zlhpwgms1r38l09fb5f24y_80000gn/T/ipykernel_11826/3368081595.py:7: FutureWarning: Series.__getitem__ treating keys as positions is deprecated. In a future version, integer keys will always be treated as labels (consistent with DataFrame behavior). To access a value by position, use `ser.iloc[pos]`\n",
      "  n2 = b[1]\n",
      "/var/folders/pt/zlhpwgms1r38l09fb5f24y_80000gn/T/ipykernel_11826/3368081595.py:8: FutureWarning: Series.__getitem__ treating keys as positions is deprecated. In a future version, integer keys will always be treated as labels (consistent with DataFrame behavior). To access a value by position, use `ser.iloc[pos]`\n",
      "  date = b[2]\n"
     ]
    },
    {
     "name": "stdout",
     "output_type": "stream",
     "text": [
      "done!\n",
      "84, 0\n",
      "generating for 2018-06-07 Juan Martin Del Potro, Marin Cilic\n"
     ]
    },
    {
     "name": "stderr",
     "output_type": "stream",
     "text": [
      "/var/folders/pt/zlhpwgms1r38l09fb5f24y_80000gn/T/ipykernel_11826/3368081595.py:6: FutureWarning: Series.__getitem__ treating keys as positions is deprecated. In a future version, integer keys will always be treated as labels (consistent with DataFrame behavior). To access a value by position, use `ser.iloc[pos]`\n",
      "  n1 = b[0]\n",
      "/var/folders/pt/zlhpwgms1r38l09fb5f24y_80000gn/T/ipykernel_11826/3368081595.py:7: FutureWarning: Series.__getitem__ treating keys as positions is deprecated. In a future version, integer keys will always be treated as labels (consistent with DataFrame behavior). To access a value by position, use `ser.iloc[pos]`\n",
      "  n2 = b[1]\n",
      "/var/folders/pt/zlhpwgms1r38l09fb5f24y_80000gn/T/ipykernel_11826/3368081595.py:8: FutureWarning: Series.__getitem__ treating keys as positions is deprecated. In a future version, integer keys will always be treated as labels (consistent with DataFrame behavior). To access a value by position, use `ser.iloc[pos]`\n",
      "  date = b[2]\n"
     ]
    },
    {
     "name": "stdout",
     "output_type": "stream",
     "text": [
      "done!\n",
      "85, 0\n",
      "generating for 2018-06-10 Rafael Nadal, Dominic Thiem\n"
     ]
    },
    {
     "name": "stderr",
     "output_type": "stream",
     "text": [
      "/var/folders/pt/zlhpwgms1r38l09fb5f24y_80000gn/T/ipykernel_11826/3368081595.py:6: FutureWarning: Series.__getitem__ treating keys as positions is deprecated. In a future version, integer keys will always be treated as labels (consistent with DataFrame behavior). To access a value by position, use `ser.iloc[pos]`\n",
      "  n1 = b[0]\n",
      "/var/folders/pt/zlhpwgms1r38l09fb5f24y_80000gn/T/ipykernel_11826/3368081595.py:7: FutureWarning: Series.__getitem__ treating keys as positions is deprecated. In a future version, integer keys will always be treated as labels (consistent with DataFrame behavior). To access a value by position, use `ser.iloc[pos]`\n",
      "  n2 = b[1]\n",
      "/var/folders/pt/zlhpwgms1r38l09fb5f24y_80000gn/T/ipykernel_11826/3368081595.py:8: FutureWarning: Series.__getitem__ treating keys as positions is deprecated. In a future version, integer keys will always be treated as labels (consistent with DataFrame behavior). To access a value by position, use `ser.iloc[pos]`\n",
      "  date = b[2]\n"
     ]
    },
    {
     "name": "stdout",
     "output_type": "stream",
     "text": [
      "done!\n",
      "86, 0\n",
      "generating for 2018-06-13 Milos Raonic, Mirza Basic\n"
     ]
    },
    {
     "name": "stderr",
     "output_type": "stream",
     "text": [
      "/var/folders/pt/zlhpwgms1r38l09fb5f24y_80000gn/T/ipykernel_11826/3368081595.py:6: FutureWarning: Series.__getitem__ treating keys as positions is deprecated. In a future version, integer keys will always be treated as labels (consistent with DataFrame behavior). To access a value by position, use `ser.iloc[pos]`\n",
      "  n1 = b[0]\n",
      "/var/folders/pt/zlhpwgms1r38l09fb5f24y_80000gn/T/ipykernel_11826/3368081595.py:7: FutureWarning: Series.__getitem__ treating keys as positions is deprecated. In a future version, integer keys will always be treated as labels (consistent with DataFrame behavior). To access a value by position, use `ser.iloc[pos]`\n",
      "  n2 = b[1]\n",
      "/var/folders/pt/zlhpwgms1r38l09fb5f24y_80000gn/T/ipykernel_11826/3368081595.py:8: FutureWarning: Series.__getitem__ treating keys as positions is deprecated. In a future version, integer keys will always be treated as labels (consistent with DataFrame behavior). To access a value by position, use `ser.iloc[pos]`\n",
      "  date = b[2]\n"
     ]
    },
    {
     "name": "stdout",
     "output_type": "stream",
     "text": [
      "done!\n",
      "87, 0\n",
      "generating for 2018-06-16 Roger Federer, Nick Kyrgios\n"
     ]
    },
    {
     "name": "stderr",
     "output_type": "stream",
     "text": [
      "/var/folders/pt/zlhpwgms1r38l09fb5f24y_80000gn/T/ipykernel_11826/3368081595.py:6: FutureWarning: Series.__getitem__ treating keys as positions is deprecated. In a future version, integer keys will always be treated as labels (consistent with DataFrame behavior). To access a value by position, use `ser.iloc[pos]`\n",
      "  n1 = b[0]\n",
      "/var/folders/pt/zlhpwgms1r38l09fb5f24y_80000gn/T/ipykernel_11826/3368081595.py:7: FutureWarning: Series.__getitem__ treating keys as positions is deprecated. In a future version, integer keys will always be treated as labels (consistent with DataFrame behavior). To access a value by position, use `ser.iloc[pos]`\n",
      "  n2 = b[1]\n",
      "/var/folders/pt/zlhpwgms1r38l09fb5f24y_80000gn/T/ipykernel_11826/3368081595.py:8: FutureWarning: Series.__getitem__ treating keys as positions is deprecated. In a future version, integer keys will always be treated as labels (consistent with DataFrame behavior). To access a value by position, use `ser.iloc[pos]`\n",
      "  date = b[2]\n"
     ]
    },
    {
     "name": "stdout",
     "output_type": "stream",
     "text": [
      "done!\n",
      "88, 0\n",
      "generating for 2018-06-17 Roger Federer, Milos Raonic\n"
     ]
    },
    {
     "name": "stderr",
     "output_type": "stream",
     "text": [
      "/var/folders/pt/zlhpwgms1r38l09fb5f24y_80000gn/T/ipykernel_11826/3368081595.py:6: FutureWarning: Series.__getitem__ treating keys as positions is deprecated. In a future version, integer keys will always be treated as labels (consistent with DataFrame behavior). To access a value by position, use `ser.iloc[pos]`\n",
      "  n1 = b[0]\n",
      "/var/folders/pt/zlhpwgms1r38l09fb5f24y_80000gn/T/ipykernel_11826/3368081595.py:7: FutureWarning: Series.__getitem__ treating keys as positions is deprecated. In a future version, integer keys will always be treated as labels (consistent with DataFrame behavior). To access a value by position, use `ser.iloc[pos]`\n",
      "  n2 = b[1]\n",
      "/var/folders/pt/zlhpwgms1r38l09fb5f24y_80000gn/T/ipykernel_11826/3368081595.py:8: FutureWarning: Series.__getitem__ treating keys as positions is deprecated. In a future version, integer keys will always be treated as labels (consistent with DataFrame behavior). To access a value by position, use `ser.iloc[pos]`\n",
      "  date = b[2]\n"
     ]
    },
    {
     "name": "stdout",
     "output_type": "stream",
     "text": [
      "done!\n",
      "89, 0\n",
      "generating for 2018-06-21 Roger Federer, Benoit Paire\n"
     ]
    },
    {
     "name": "stderr",
     "output_type": "stream",
     "text": [
      "/var/folders/pt/zlhpwgms1r38l09fb5f24y_80000gn/T/ipykernel_11826/3368081595.py:6: FutureWarning: Series.__getitem__ treating keys as positions is deprecated. In a future version, integer keys will always be treated as labels (consistent with DataFrame behavior). To access a value by position, use `ser.iloc[pos]`\n",
      "  n1 = b[0]\n",
      "/var/folders/pt/zlhpwgms1r38l09fb5f24y_80000gn/T/ipykernel_11826/3368081595.py:7: FutureWarning: Series.__getitem__ treating keys as positions is deprecated. In a future version, integer keys will always be treated as labels (consistent with DataFrame behavior). To access a value by position, use `ser.iloc[pos]`\n",
      "  n2 = b[1]\n",
      "/var/folders/pt/zlhpwgms1r38l09fb5f24y_80000gn/T/ipykernel_11826/3368081595.py:8: FutureWarning: Series.__getitem__ treating keys as positions is deprecated. In a future version, integer keys will always be treated as labels (consistent with DataFrame behavior). To access a value by position, use `ser.iloc[pos]`\n",
      "  date = b[2]\n"
     ]
    },
    {
     "name": "stdout",
     "output_type": "stream",
     "text": [
      "done!\n",
      "90, 0\n",
      "generating for 2018-06-22 Roger Federer, Matthew Ebden\n"
     ]
    },
    {
     "name": "stderr",
     "output_type": "stream",
     "text": [
      "/var/folders/pt/zlhpwgms1r38l09fb5f24y_80000gn/T/ipykernel_11826/3368081595.py:6: FutureWarning: Series.__getitem__ treating keys as positions is deprecated. In a future version, integer keys will always be treated as labels (consistent with DataFrame behavior). To access a value by position, use `ser.iloc[pos]`\n",
      "  n1 = b[0]\n",
      "/var/folders/pt/zlhpwgms1r38l09fb5f24y_80000gn/T/ipykernel_11826/3368081595.py:7: FutureWarning: Series.__getitem__ treating keys as positions is deprecated. In a future version, integer keys will always be treated as labels (consistent with DataFrame behavior). To access a value by position, use `ser.iloc[pos]`\n",
      "  n2 = b[1]\n",
      "/var/folders/pt/zlhpwgms1r38l09fb5f24y_80000gn/T/ipykernel_11826/3368081595.py:8: FutureWarning: Series.__getitem__ treating keys as positions is deprecated. In a future version, integer keys will always be treated as labels (consistent with DataFrame behavior). To access a value by position, use `ser.iloc[pos]`\n",
      "  date = b[2]\n"
     ]
    },
    {
     "name": "stdout",
     "output_type": "stream",
     "text": [
      "done!\n",
      "91, 0\n",
      "generating for 2018-06-23 Borna Coric, Roberto Bautista Agut\n"
     ]
    },
    {
     "name": "stderr",
     "output_type": "stream",
     "text": [
      "/var/folders/pt/zlhpwgms1r38l09fb5f24y_80000gn/T/ipykernel_11826/3368081595.py:6: FutureWarning: Series.__getitem__ treating keys as positions is deprecated. In a future version, integer keys will always be treated as labels (consistent with DataFrame behavior). To access a value by position, use `ser.iloc[pos]`\n",
      "  n1 = b[0]\n",
      "/var/folders/pt/zlhpwgms1r38l09fb5f24y_80000gn/T/ipykernel_11826/3368081595.py:7: FutureWarning: Series.__getitem__ treating keys as positions is deprecated. In a future version, integer keys will always be treated as labels (consistent with DataFrame behavior). To access a value by position, use `ser.iloc[pos]`\n",
      "  n2 = b[1]\n",
      "/var/folders/pt/zlhpwgms1r38l09fb5f24y_80000gn/T/ipykernel_11826/3368081595.py:8: FutureWarning: Series.__getitem__ treating keys as positions is deprecated. In a future version, integer keys will always be treated as labels (consistent with DataFrame behavior). To access a value by position, use `ser.iloc[pos]`\n",
      "  date = b[2]\n"
     ]
    },
    {
     "name": "stdout",
     "output_type": "stream",
     "text": [
      "done!\n",
      "92, 0\n",
      "generating for 2018-06-19 Nick Kyrgios, Andy Murray\n"
     ]
    },
    {
     "name": "stderr",
     "output_type": "stream",
     "text": [
      "/var/folders/pt/zlhpwgms1r38l09fb5f24y_80000gn/T/ipykernel_11826/3368081595.py:6: FutureWarning: Series.__getitem__ treating keys as positions is deprecated. In a future version, integer keys will always be treated as labels (consistent with DataFrame behavior). To access a value by position, use `ser.iloc[pos]`\n",
      "  n1 = b[0]\n",
      "/var/folders/pt/zlhpwgms1r38l09fb5f24y_80000gn/T/ipykernel_11826/3368081595.py:7: FutureWarning: Series.__getitem__ treating keys as positions is deprecated. In a future version, integer keys will always be treated as labels (consistent with DataFrame behavior). To access a value by position, use `ser.iloc[pos]`\n",
      "  n2 = b[1]\n",
      "/var/folders/pt/zlhpwgms1r38l09fb5f24y_80000gn/T/ipykernel_11826/3368081595.py:8: FutureWarning: Series.__getitem__ treating keys as positions is deprecated. In a future version, integer keys will always be treated as labels (consistent with DataFrame behavior). To access a value by position, use `ser.iloc[pos]`\n",
      "  date = b[2]\n"
     ]
    },
    {
     "name": "stdout",
     "output_type": "stream",
     "text": [
      "done!\n",
      "93, 0\n",
      "generating for 2018-06-22 Marin Cilic, Sam Querrey\n"
     ]
    },
    {
     "name": "stderr",
     "output_type": "stream",
     "text": [
      "/var/folders/pt/zlhpwgms1r38l09fb5f24y_80000gn/T/ipykernel_11826/3368081595.py:6: FutureWarning: Series.__getitem__ treating keys as positions is deprecated. In a future version, integer keys will always be treated as labels (consistent with DataFrame behavior). To access a value by position, use `ser.iloc[pos]`\n",
      "  n1 = b[0]\n",
      "/var/folders/pt/zlhpwgms1r38l09fb5f24y_80000gn/T/ipykernel_11826/3368081595.py:7: FutureWarning: Series.__getitem__ treating keys as positions is deprecated. In a future version, integer keys will always be treated as labels (consistent with DataFrame behavior). To access a value by position, use `ser.iloc[pos]`\n",
      "  n2 = b[1]\n",
      "/var/folders/pt/zlhpwgms1r38l09fb5f24y_80000gn/T/ipykernel_11826/3368081595.py:8: FutureWarning: Series.__getitem__ treating keys as positions is deprecated. In a future version, integer keys will always be treated as labels (consistent with DataFrame behavior). To access a value by position, use `ser.iloc[pos]`\n",
      "  date = b[2]\n"
     ]
    },
    {
     "name": "stdout",
     "output_type": "stream",
     "text": [
      "done!\n",
      "94, 0\n",
      "generating for 2018-06-23 Marin Cilic, Nick Kyrgios\n"
     ]
    },
    {
     "name": "stderr",
     "output_type": "stream",
     "text": [
      "/var/folders/pt/zlhpwgms1r38l09fb5f24y_80000gn/T/ipykernel_11826/3368081595.py:6: FutureWarning: Series.__getitem__ treating keys as positions is deprecated. In a future version, integer keys will always be treated as labels (consistent with DataFrame behavior). To access a value by position, use `ser.iloc[pos]`\n",
      "  n1 = b[0]\n",
      "/var/folders/pt/zlhpwgms1r38l09fb5f24y_80000gn/T/ipykernel_11826/3368081595.py:7: FutureWarning: Series.__getitem__ treating keys as positions is deprecated. In a future version, integer keys will always be treated as labels (consistent with DataFrame behavior). To access a value by position, use `ser.iloc[pos]`\n",
      "  n2 = b[1]\n",
      "/var/folders/pt/zlhpwgms1r38l09fb5f24y_80000gn/T/ipykernel_11826/3368081595.py:8: FutureWarning: Series.__getitem__ treating keys as positions is deprecated. In a future version, integer keys will always be treated as labels (consistent with DataFrame behavior). To access a value by position, use `ser.iloc[pos]`\n",
      "  date = b[2]\n"
     ]
    },
    {
     "name": "stdout",
     "output_type": "stream",
     "text": [
      "done!\n",
      "95, 0\n",
      "generating for 2018-06-24 Marin Cilic, Novak Djokovic\n"
     ]
    },
    {
     "name": "stderr",
     "output_type": "stream",
     "text": [
      "/var/folders/pt/zlhpwgms1r38l09fb5f24y_80000gn/T/ipykernel_11826/3368081595.py:6: FutureWarning: Series.__getitem__ treating keys as positions is deprecated. In a future version, integer keys will always be treated as labels (consistent with DataFrame behavior). To access a value by position, use `ser.iloc[pos]`\n",
      "  n1 = b[0]\n",
      "/var/folders/pt/zlhpwgms1r38l09fb5f24y_80000gn/T/ipykernel_11826/3368081595.py:7: FutureWarning: Series.__getitem__ treating keys as positions is deprecated. In a future version, integer keys will always be treated as labels (consistent with DataFrame behavior). To access a value by position, use `ser.iloc[pos]`\n",
      "  n2 = b[1]\n",
      "/var/folders/pt/zlhpwgms1r38l09fb5f24y_80000gn/T/ipykernel_11826/3368081595.py:8: FutureWarning: Series.__getitem__ treating keys as positions is deprecated. In a future version, integer keys will always be treated as labels (consistent with DataFrame behavior). To access a value by position, use `ser.iloc[pos]`\n",
      "  date = b[2]\n"
     ]
    },
    {
     "name": "stdout",
     "output_type": "stream",
     "text": [
      "done!\n",
      "96, 0\n",
      "generating for 2018-06-25 Andy Murray, Stan Wawrinka\n"
     ]
    },
    {
     "name": "stderr",
     "output_type": "stream",
     "text": [
      "/var/folders/pt/zlhpwgms1r38l09fb5f24y_80000gn/T/ipykernel_11826/3368081595.py:6: FutureWarning: Series.__getitem__ treating keys as positions is deprecated. In a future version, integer keys will always be treated as labels (consistent with DataFrame behavior). To access a value by position, use `ser.iloc[pos]`\n",
      "  n1 = b[0]\n",
      "/var/folders/pt/zlhpwgms1r38l09fb5f24y_80000gn/T/ipykernel_11826/3368081595.py:7: FutureWarning: Series.__getitem__ treating keys as positions is deprecated. In a future version, integer keys will always be treated as labels (consistent with DataFrame behavior). To access a value by position, use `ser.iloc[pos]`\n",
      "  n2 = b[1]\n",
      "/var/folders/pt/zlhpwgms1r38l09fb5f24y_80000gn/T/ipykernel_11826/3368081595.py:8: FutureWarning: Series.__getitem__ treating keys as positions is deprecated. In a future version, integer keys will always be treated as labels (consistent with DataFrame behavior). To access a value by position, use `ser.iloc[pos]`\n",
      "  date = b[2]\n"
     ]
    },
    {
     "name": "stdout",
     "output_type": "stream",
     "text": [
      "done!\n",
      "97, 0\n",
      "generating for 2018-07-03 Juan Martin Del Potro, Peter Gojowczyk\n"
     ]
    },
    {
     "name": "stderr",
     "output_type": "stream",
     "text": [
      "/var/folders/pt/zlhpwgms1r38l09fb5f24y_80000gn/T/ipykernel_11826/3368081595.py:6: FutureWarning: Series.__getitem__ treating keys as positions is deprecated. In a future version, integer keys will always be treated as labels (consistent with DataFrame behavior). To access a value by position, use `ser.iloc[pos]`\n",
      "  n1 = b[0]\n",
      "/var/folders/pt/zlhpwgms1r38l09fb5f24y_80000gn/T/ipykernel_11826/3368081595.py:7: FutureWarning: Series.__getitem__ treating keys as positions is deprecated. In a future version, integer keys will always be treated as labels (consistent with DataFrame behavior). To access a value by position, use `ser.iloc[pos]`\n",
      "  n2 = b[1]\n",
      "/var/folders/pt/zlhpwgms1r38l09fb5f24y_80000gn/T/ipykernel_11826/3368081595.py:8: FutureWarning: Series.__getitem__ treating keys as positions is deprecated. In a future version, integer keys will always be treated as labels (consistent with DataFrame behavior). To access a value by position, use `ser.iloc[pos]`\n",
      "  date = b[2]\n"
     ]
    },
    {
     "name": "stdout",
     "output_type": "stream",
     "text": [
      "done!\n",
      "98, 0\n",
      "generating for 2018-07-07 Juan Martin Del Potro, Benoit Paire\n"
     ]
    },
    {
     "name": "stderr",
     "output_type": "stream",
     "text": [
      "/var/folders/pt/zlhpwgms1r38l09fb5f24y_80000gn/T/ipykernel_11826/3368081595.py:6: FutureWarning: Series.__getitem__ treating keys as positions is deprecated. In a future version, integer keys will always be treated as labels (consistent with DataFrame behavior). To access a value by position, use `ser.iloc[pos]`\n",
      "  n1 = b[0]\n",
      "/var/folders/pt/zlhpwgms1r38l09fb5f24y_80000gn/T/ipykernel_11826/3368081595.py:7: FutureWarning: Series.__getitem__ treating keys as positions is deprecated. In a future version, integer keys will always be treated as labels (consistent with DataFrame behavior). To access a value by position, use `ser.iloc[pos]`\n",
      "  n2 = b[1]\n",
      "/var/folders/pt/zlhpwgms1r38l09fb5f24y_80000gn/T/ipykernel_11826/3368081595.py:8: FutureWarning: Series.__getitem__ treating keys as positions is deprecated. In a future version, integer keys will always be treated as labels (consistent with DataFrame behavior). To access a value by position, use `ser.iloc[pos]`\n",
      "  date = b[2]\n"
     ]
    },
    {
     "name": "stdout",
     "output_type": "stream",
     "text": [
      "done!\n",
      "99, 0\n",
      "generating for 2018-07-09 Novak Djokovic, Karen Khachanov\n"
     ]
    },
    {
     "name": "stderr",
     "output_type": "stream",
     "text": [
      "/var/folders/pt/zlhpwgms1r38l09fb5f24y_80000gn/T/ipykernel_11826/3368081595.py:6: FutureWarning: Series.__getitem__ treating keys as positions is deprecated. In a future version, integer keys will always be treated as labels (consistent with DataFrame behavior). To access a value by position, use `ser.iloc[pos]`\n",
      "  n1 = b[0]\n",
      "/var/folders/pt/zlhpwgms1r38l09fb5f24y_80000gn/T/ipykernel_11826/3368081595.py:7: FutureWarning: Series.__getitem__ treating keys as positions is deprecated. In a future version, integer keys will always be treated as labels (consistent with DataFrame behavior). To access a value by position, use `ser.iloc[pos]`\n",
      "  n2 = b[1]\n",
      "/var/folders/pt/zlhpwgms1r38l09fb5f24y_80000gn/T/ipykernel_11826/3368081595.py:8: FutureWarning: Series.__getitem__ treating keys as positions is deprecated. In a future version, integer keys will always be treated as labels (consistent with DataFrame behavior). To access a value by position, use `ser.iloc[pos]`\n",
      "  date = b[2]\n"
     ]
    },
    {
     "name": "stdout",
     "output_type": "stream",
     "text": [
      "done!\n",
      "100, 0\n",
      "generating for 2018-07-10 Juan Martin Del Potro, Gilles Simon\n"
     ]
    },
    {
     "name": "stderr",
     "output_type": "stream",
     "text": [
      "/var/folders/pt/zlhpwgms1r38l09fb5f24y_80000gn/T/ipykernel_11826/3368081595.py:6: FutureWarning: Series.__getitem__ treating keys as positions is deprecated. In a future version, integer keys will always be treated as labels (consistent with DataFrame behavior). To access a value by position, use `ser.iloc[pos]`\n",
      "  n1 = b[0]\n",
      "/var/folders/pt/zlhpwgms1r38l09fb5f24y_80000gn/T/ipykernel_11826/3368081595.py:7: FutureWarning: Series.__getitem__ treating keys as positions is deprecated. In a future version, integer keys will always be treated as labels (consistent with DataFrame behavior). To access a value by position, use `ser.iloc[pos]`\n",
      "  n2 = b[1]\n",
      "/var/folders/pt/zlhpwgms1r38l09fb5f24y_80000gn/T/ipykernel_11826/3368081595.py:8: FutureWarning: Series.__getitem__ treating keys as positions is deprecated. In a future version, integer keys will always be treated as labels (consistent with DataFrame behavior). To access a value by position, use `ser.iloc[pos]`\n",
      "  date = b[2]\n"
     ]
    },
    {
     "name": "stdout",
     "output_type": "stream",
     "text": [
      "done!\n",
      "101, 0\n",
      "generating for 2018-07-11 Novak Djokovic, Kei Nishikori\n"
     ]
    },
    {
     "name": "stderr",
     "output_type": "stream",
     "text": [
      "/var/folders/pt/zlhpwgms1r38l09fb5f24y_80000gn/T/ipykernel_11826/3368081595.py:6: FutureWarning: Series.__getitem__ treating keys as positions is deprecated. In a future version, integer keys will always be treated as labels (consistent with DataFrame behavior). To access a value by position, use `ser.iloc[pos]`\n",
      "  n1 = b[0]\n",
      "/var/folders/pt/zlhpwgms1r38l09fb5f24y_80000gn/T/ipykernel_11826/3368081595.py:7: FutureWarning: Series.__getitem__ treating keys as positions is deprecated. In a future version, integer keys will always be treated as labels (consistent with DataFrame behavior). To access a value by position, use `ser.iloc[pos]`\n",
      "  n2 = b[1]\n",
      "/var/folders/pt/zlhpwgms1r38l09fb5f24y_80000gn/T/ipykernel_11826/3368081595.py:8: FutureWarning: Series.__getitem__ treating keys as positions is deprecated. In a future version, integer keys will always be treated as labels (consistent with DataFrame behavior). To access a value by position, use `ser.iloc[pos]`\n",
      "  date = b[2]\n"
     ]
    },
    {
     "name": "stdout",
     "output_type": "stream",
     "text": [
      "done!\n",
      "102, 0\n",
      "generating for 2018-07-11 Kevin Anderson, Roger Federer\n"
     ]
    },
    {
     "name": "stderr",
     "output_type": "stream",
     "text": [
      "/var/folders/pt/zlhpwgms1r38l09fb5f24y_80000gn/T/ipykernel_11826/3368081595.py:6: FutureWarning: Series.__getitem__ treating keys as positions is deprecated. In a future version, integer keys will always be treated as labels (consistent with DataFrame behavior). To access a value by position, use `ser.iloc[pos]`\n",
      "  n1 = b[0]\n",
      "/var/folders/pt/zlhpwgms1r38l09fb5f24y_80000gn/T/ipykernel_11826/3368081595.py:7: FutureWarning: Series.__getitem__ treating keys as positions is deprecated. In a future version, integer keys will always be treated as labels (consistent with DataFrame behavior). To access a value by position, use `ser.iloc[pos]`\n",
      "  n2 = b[1]\n",
      "/var/folders/pt/zlhpwgms1r38l09fb5f24y_80000gn/T/ipykernel_11826/3368081595.py:8: FutureWarning: Series.__getitem__ treating keys as positions is deprecated. In a future version, integer keys will always be treated as labels (consistent with DataFrame behavior). To access a value by position, use `ser.iloc[pos]`\n",
      "  date = b[2]\n"
     ]
    },
    {
     "name": "stdout",
     "output_type": "stream",
     "text": [
      "done!\n",
      "103, 0\n",
      "generating for 2018-07-13 Kevin Anderson, John Isner\n"
     ]
    },
    {
     "name": "stderr",
     "output_type": "stream",
     "text": [
      "/var/folders/pt/zlhpwgms1r38l09fb5f24y_80000gn/T/ipykernel_11826/3368081595.py:6: FutureWarning: Series.__getitem__ treating keys as positions is deprecated. In a future version, integer keys will always be treated as labels (consistent with DataFrame behavior). To access a value by position, use `ser.iloc[pos]`\n",
      "  n1 = b[0]\n",
      "/var/folders/pt/zlhpwgms1r38l09fb5f24y_80000gn/T/ipykernel_11826/3368081595.py:7: FutureWarning: Series.__getitem__ treating keys as positions is deprecated. In a future version, integer keys will always be treated as labels (consistent with DataFrame behavior). To access a value by position, use `ser.iloc[pos]`\n",
      "  n2 = b[1]\n",
      "/var/folders/pt/zlhpwgms1r38l09fb5f24y_80000gn/T/ipykernel_11826/3368081595.py:8: FutureWarning: Series.__getitem__ treating keys as positions is deprecated. In a future version, integer keys will always be treated as labels (consistent with DataFrame behavior). To access a value by position, use `ser.iloc[pos]`\n",
      "  date = b[2]\n"
     ]
    },
    {
     "name": "stdout",
     "output_type": "stream",
     "text": [
      "done!\n",
      "104, 0\n",
      "generating for 2018-07-26 John Isner, Alex De Minaur\n"
     ]
    },
    {
     "name": "stderr",
     "output_type": "stream",
     "text": [
      "/var/folders/pt/zlhpwgms1r38l09fb5f24y_80000gn/T/ipykernel_11826/3368081595.py:6: FutureWarning: Series.__getitem__ treating keys as positions is deprecated. In a future version, integer keys will always be treated as labels (consistent with DataFrame behavior). To access a value by position, use `ser.iloc[pos]`\n",
      "  n1 = b[0]\n",
      "/var/folders/pt/zlhpwgms1r38l09fb5f24y_80000gn/T/ipykernel_11826/3368081595.py:7: FutureWarning: Series.__getitem__ treating keys as positions is deprecated. In a future version, integer keys will always be treated as labels (consistent with DataFrame behavior). To access a value by position, use `ser.iloc[pos]`\n",
      "  n2 = b[1]\n",
      "/var/folders/pt/zlhpwgms1r38l09fb5f24y_80000gn/T/ipykernel_11826/3368081595.py:8: FutureWarning: Series.__getitem__ treating keys as positions is deprecated. In a future version, integer keys will always be treated as labels (consistent with DataFrame behavior). To access a value by position, use `ser.iloc[pos]`\n",
      "  date = b[2]\n"
     ]
    },
    {
     "name": "stdout",
     "output_type": "stream",
     "text": [
      "done!\n",
      "105, 0\n",
      "generating for 2018-07-29 John Isner, Ryan Harrison\n"
     ]
    },
    {
     "name": "stderr",
     "output_type": "stream",
     "text": [
      "/var/folders/pt/zlhpwgms1r38l09fb5f24y_80000gn/T/ipykernel_11826/3368081595.py:6: FutureWarning: Series.__getitem__ treating keys as positions is deprecated. In a future version, integer keys will always be treated as labels (consistent with DataFrame behavior). To access a value by position, use `ser.iloc[pos]`\n",
      "  n1 = b[0]\n",
      "/var/folders/pt/zlhpwgms1r38l09fb5f24y_80000gn/T/ipykernel_11826/3368081595.py:7: FutureWarning: Series.__getitem__ treating keys as positions is deprecated. In a future version, integer keys will always be treated as labels (consistent with DataFrame behavior). To access a value by position, use `ser.iloc[pos]`\n",
      "  n2 = b[1]\n",
      "/var/folders/pt/zlhpwgms1r38l09fb5f24y_80000gn/T/ipykernel_11826/3368081595.py:8: FutureWarning: Series.__getitem__ treating keys as positions is deprecated. In a future version, integer keys will always be treated as labels (consistent with DataFrame behavior). To access a value by position, use `ser.iloc[pos]`\n",
      "  date = b[2]\n"
     ]
    },
    {
     "name": "stdout",
     "output_type": "stream",
     "text": [
      "done!\n",
      "106, 0\n",
      "generating for 2018-07-26 Pablo Carreno Busta, Aljaz Bedene\n"
     ]
    },
    {
     "name": "stderr",
     "output_type": "stream",
     "text": [
      "/var/folders/pt/zlhpwgms1r38l09fb5f24y_80000gn/T/ipykernel_11826/3368081595.py:6: FutureWarning: Series.__getitem__ treating keys as positions is deprecated. In a future version, integer keys will always be treated as labels (consistent with DataFrame behavior). To access a value by position, use `ser.iloc[pos]`\n",
      "  n1 = b[0]\n",
      "/var/folders/pt/zlhpwgms1r38l09fb5f24y_80000gn/T/ipykernel_11826/3368081595.py:7: FutureWarning: Series.__getitem__ treating keys as positions is deprecated. In a future version, integer keys will always be treated as labels (consistent with DataFrame behavior). To access a value by position, use `ser.iloc[pos]`\n",
      "  n2 = b[1]\n",
      "/var/folders/pt/zlhpwgms1r38l09fb5f24y_80000gn/T/ipykernel_11826/3368081595.py:8: FutureWarning: Series.__getitem__ treating keys as positions is deprecated. In a future version, integer keys will always be treated as labels (consistent with DataFrame behavior). To access a value by position, use `ser.iloc[pos]`\n",
      "  date = b[2]\n"
     ]
    },
    {
     "name": "stdout",
     "output_type": "stream",
     "text": [
      "done!\n",
      "107, 0\n",
      "generating for 2018-07-27 Nicolas Jarry, Dominic Thiem\n"
     ]
    },
    {
     "name": "stderr",
     "output_type": "stream",
     "text": [
      "/var/folders/pt/zlhpwgms1r38l09fb5f24y_80000gn/T/ipykernel_11826/3368081595.py:6: FutureWarning: Series.__getitem__ treating keys as positions is deprecated. In a future version, integer keys will always be treated as labels (consistent with DataFrame behavior). To access a value by position, use `ser.iloc[pos]`\n",
      "  n1 = b[0]\n",
      "/var/folders/pt/zlhpwgms1r38l09fb5f24y_80000gn/T/ipykernel_11826/3368081595.py:7: FutureWarning: Series.__getitem__ treating keys as positions is deprecated. In a future version, integer keys will always be treated as labels (consistent with DataFrame behavior). To access a value by position, use `ser.iloc[pos]`\n",
      "  n2 = b[1]\n",
      "/var/folders/pt/zlhpwgms1r38l09fb5f24y_80000gn/T/ipykernel_11826/3368081595.py:8: FutureWarning: Series.__getitem__ treating keys as positions is deprecated. In a future version, integer keys will always be treated as labels (consistent with DataFrame behavior). To access a value by position, use `ser.iloc[pos]`\n",
      "  date = b[2]\n"
     ]
    },
    {
     "name": "stdout",
     "output_type": "stream",
     "text": [
      "done!\n",
      "108, 0\n",
      "generating for 2018-07-27 Nikoloz Basilashvili, Pablo Carreno Busta\n"
     ]
    },
    {
     "name": "stderr",
     "output_type": "stream",
     "text": [
      "/var/folders/pt/zlhpwgms1r38l09fb5f24y_80000gn/T/ipykernel_11826/3368081595.py:6: FutureWarning: Series.__getitem__ treating keys as positions is deprecated. In a future version, integer keys will always be treated as labels (consistent with DataFrame behavior). To access a value by position, use `ser.iloc[pos]`\n",
      "  n1 = b[0]\n",
      "/var/folders/pt/zlhpwgms1r38l09fb5f24y_80000gn/T/ipykernel_11826/3368081595.py:7: FutureWarning: Series.__getitem__ treating keys as positions is deprecated. In a future version, integer keys will always be treated as labels (consistent with DataFrame behavior). To access a value by position, use `ser.iloc[pos]`\n",
      "  n2 = b[1]\n",
      "/var/folders/pt/zlhpwgms1r38l09fb5f24y_80000gn/T/ipykernel_11826/3368081595.py:8: FutureWarning: Series.__getitem__ treating keys as positions is deprecated. In a future version, integer keys will always be treated as labels (consistent with DataFrame behavior). To access a value by position, use `ser.iloc[pos]`\n",
      "  date = b[2]\n"
     ]
    },
    {
     "name": "stdout",
     "output_type": "stream",
     "text": [
      "done!\n",
      "109, 0\n",
      "generating for 2018-08-04 Juan Martin Del Potro, Damir Dzumhur\n"
     ]
    },
    {
     "name": "stderr",
     "output_type": "stream",
     "text": [
      "/var/folders/pt/zlhpwgms1r38l09fb5f24y_80000gn/T/ipykernel_11826/3368081595.py:6: FutureWarning: Series.__getitem__ treating keys as positions is deprecated. In a future version, integer keys will always be treated as labels (consistent with DataFrame behavior). To access a value by position, use `ser.iloc[pos]`\n",
      "  n1 = b[0]\n",
      "/var/folders/pt/zlhpwgms1r38l09fb5f24y_80000gn/T/ipykernel_11826/3368081595.py:7: FutureWarning: Series.__getitem__ treating keys as positions is deprecated. In a future version, integer keys will always be treated as labels (consistent with DataFrame behavior). To access a value by position, use `ser.iloc[pos]`\n",
      "  n2 = b[1]\n",
      "/var/folders/pt/zlhpwgms1r38l09fb5f24y_80000gn/T/ipykernel_11826/3368081595.py:8: FutureWarning: Series.__getitem__ treating keys as positions is deprecated. In a future version, integer keys will always be treated as labels (consistent with DataFrame behavior). To access a value by position, use `ser.iloc[pos]`\n",
      "  date = b[2]\n"
     ]
    },
    {
     "name": "stdout",
     "output_type": "stream",
     "text": [
      "done!\n",
      "110, 0\n",
      "generating for 2018-08-05 Fabio Fognini, Juan Martin Del Potro\n"
     ]
    },
    {
     "name": "stderr",
     "output_type": "stream",
     "text": [
      "/var/folders/pt/zlhpwgms1r38l09fb5f24y_80000gn/T/ipykernel_11826/3368081595.py:6: FutureWarning: Series.__getitem__ treating keys as positions is deprecated. In a future version, integer keys will always be treated as labels (consistent with DataFrame behavior). To access a value by position, use `ser.iloc[pos]`\n",
      "  n1 = b[0]\n",
      "/var/folders/pt/zlhpwgms1r38l09fb5f24y_80000gn/T/ipykernel_11826/3368081595.py:7: FutureWarning: Series.__getitem__ treating keys as positions is deprecated. In a future version, integer keys will always be treated as labels (consistent with DataFrame behavior). To access a value by position, use `ser.iloc[pos]`\n",
      "  n2 = b[1]\n",
      "/var/folders/pt/zlhpwgms1r38l09fb5f24y_80000gn/T/ipykernel_11826/3368081595.py:8: FutureWarning: Series.__getitem__ treating keys as positions is deprecated. In a future version, integer keys will always be treated as labels (consistent with DataFrame behavior). To access a value by position, use `ser.iloc[pos]`\n",
      "  date = b[2]\n"
     ]
    },
    {
     "name": "stdout",
     "output_type": "stream",
     "text": [
      "done!\n",
      "111, 0\n",
      "generating for 2018-08-02 Alexander Zverev, Malek Jaziri\n"
     ]
    },
    {
     "name": "stderr",
     "output_type": "stream",
     "text": [
      "/var/folders/pt/zlhpwgms1r38l09fb5f24y_80000gn/T/ipykernel_11826/3368081595.py:6: FutureWarning: Series.__getitem__ treating keys as positions is deprecated. In a future version, integer keys will always be treated as labels (consistent with DataFrame behavior). To access a value by position, use `ser.iloc[pos]`\n",
      "  n1 = b[0]\n",
      "/var/folders/pt/zlhpwgms1r38l09fb5f24y_80000gn/T/ipykernel_11826/3368081595.py:7: FutureWarning: Series.__getitem__ treating keys as positions is deprecated. In a future version, integer keys will always be treated as labels (consistent with DataFrame behavior). To access a value by position, use `ser.iloc[pos]`\n",
      "  n2 = b[1]\n",
      "/var/folders/pt/zlhpwgms1r38l09fb5f24y_80000gn/T/ipykernel_11826/3368081595.py:8: FutureWarning: Series.__getitem__ treating keys as positions is deprecated. In a future version, integer keys will always be treated as labels (consistent with DataFrame behavior). To access a value by position, use `ser.iloc[pos]`\n",
      "  date = b[2]\n"
     ]
    },
    {
     "name": "stdout",
     "output_type": "stream",
     "text": [
      "done!\n",
      "112, 0\n",
      "generating for 2018-08-04 Alexander Zverev, Kei Nishikori\n"
     ]
    },
    {
     "name": "stderr",
     "output_type": "stream",
     "text": [
      "/var/folders/pt/zlhpwgms1r38l09fb5f24y_80000gn/T/ipykernel_11826/3368081595.py:6: FutureWarning: Series.__getitem__ treating keys as positions is deprecated. In a future version, integer keys will always be treated as labels (consistent with DataFrame behavior). To access a value by position, use `ser.iloc[pos]`\n",
      "  n1 = b[0]\n",
      "/var/folders/pt/zlhpwgms1r38l09fb5f24y_80000gn/T/ipykernel_11826/3368081595.py:7: FutureWarning: Series.__getitem__ treating keys as positions is deprecated. In a future version, integer keys will always be treated as labels (consistent with DataFrame behavior). To access a value by position, use `ser.iloc[pos]`\n",
      "  n2 = b[1]\n",
      "/var/folders/pt/zlhpwgms1r38l09fb5f24y_80000gn/T/ipykernel_11826/3368081595.py:8: FutureWarning: Series.__getitem__ treating keys as positions is deprecated. In a future version, integer keys will always be treated as labels (consistent with DataFrame behavior). To access a value by position, use `ser.iloc[pos]`\n",
      "  date = b[2]\n"
     ]
    },
    {
     "name": "stdout",
     "output_type": "stream",
     "text": [
      "done!\n",
      "113, 0\n",
      "generating for 2018-08-05 Alex De Minaur, Andrey Rublev\n"
     ]
    },
    {
     "name": "stderr",
     "output_type": "stream",
     "text": [
      "/var/folders/pt/zlhpwgms1r38l09fb5f24y_80000gn/T/ipykernel_11826/3368081595.py:6: FutureWarning: Series.__getitem__ treating keys as positions is deprecated. In a future version, integer keys will always be treated as labels (consistent with DataFrame behavior). To access a value by position, use `ser.iloc[pos]`\n",
      "  n1 = b[0]\n",
      "/var/folders/pt/zlhpwgms1r38l09fb5f24y_80000gn/T/ipykernel_11826/3368081595.py:7: FutureWarning: Series.__getitem__ treating keys as positions is deprecated. In a future version, integer keys will always be treated as labels (consistent with DataFrame behavior). To access a value by position, use `ser.iloc[pos]`\n",
      "  n2 = b[1]\n",
      "/var/folders/pt/zlhpwgms1r38l09fb5f24y_80000gn/T/ipykernel_11826/3368081595.py:8: FutureWarning: Series.__getitem__ treating keys as positions is deprecated. In a future version, integer keys will always be treated as labels (consistent with DataFrame behavior). To access a value by position, use `ser.iloc[pos]`\n",
      "  date = b[2]\n"
     ]
    },
    {
     "name": "stdout",
     "output_type": "stream",
     "text": [
      "done!\n",
      "114, 0\n",
      "generating for 2018-08-07 Stan Wawrinka, Nick Kyrgios\n"
     ]
    },
    {
     "name": "stderr",
     "output_type": "stream",
     "text": [
      "/var/folders/pt/zlhpwgms1r38l09fb5f24y_80000gn/T/ipykernel_11826/3368081595.py:6: FutureWarning: Series.__getitem__ treating keys as positions is deprecated. In a future version, integer keys will always be treated as labels (consistent with DataFrame behavior). To access a value by position, use `ser.iloc[pos]`\n",
      "  n1 = b[0]\n",
      "/var/folders/pt/zlhpwgms1r38l09fb5f24y_80000gn/T/ipykernel_11826/3368081595.py:7: FutureWarning: Series.__getitem__ treating keys as positions is deprecated. In a future version, integer keys will always be treated as labels (consistent with DataFrame behavior). To access a value by position, use `ser.iloc[pos]`\n",
      "  n2 = b[1]\n",
      "/var/folders/pt/zlhpwgms1r38l09fb5f24y_80000gn/T/ipykernel_11826/3368081595.py:8: FutureWarning: Series.__getitem__ treating keys as positions is deprecated. In a future version, integer keys will always be treated as labels (consistent with DataFrame behavior). To access a value by position, use `ser.iloc[pos]`\n",
      "  date = b[2]\n"
     ]
    },
    {
     "name": "stdout",
     "output_type": "stream",
     "text": [
      "done!\n",
      "115, 0\n",
      "generating for 2018-08-07 Stefanos Tsitsipas, Damir Dzumhur\n"
     ]
    },
    {
     "name": "stderr",
     "output_type": "stream",
     "text": [
      "/var/folders/pt/zlhpwgms1r38l09fb5f24y_80000gn/T/ipykernel_11826/3368081595.py:6: FutureWarning: Series.__getitem__ treating keys as positions is deprecated. In a future version, integer keys will always be treated as labels (consistent with DataFrame behavior). To access a value by position, use `ser.iloc[pos]`\n",
      "  n1 = b[0]\n",
      "/var/folders/pt/zlhpwgms1r38l09fb5f24y_80000gn/T/ipykernel_11826/3368081595.py:7: FutureWarning: Series.__getitem__ treating keys as positions is deprecated. In a future version, integer keys will always be treated as labels (consistent with DataFrame behavior). To access a value by position, use `ser.iloc[pos]`\n",
      "  n2 = b[1]\n",
      "/var/folders/pt/zlhpwgms1r38l09fb5f24y_80000gn/T/ipykernel_11826/3368081595.py:8: FutureWarning: Series.__getitem__ treating keys as positions is deprecated. In a future version, integer keys will always be treated as labels (consistent with DataFrame behavior). To access a value by position, use `ser.iloc[pos]`\n",
      "  date = b[2]\n"
     ]
    },
    {
     "name": "stdout",
     "output_type": "stream",
     "text": [
      "done!\n",
      "116, 0\n",
      "generating for 2018-08-08 Karen Khachanov, Pablo Carreno Busta\n"
     ]
    },
    {
     "name": "stderr",
     "output_type": "stream",
     "text": [
      "/var/folders/pt/zlhpwgms1r38l09fb5f24y_80000gn/T/ipykernel_11826/3368081595.py:6: FutureWarning: Series.__getitem__ treating keys as positions is deprecated. In a future version, integer keys will always be treated as labels (consistent with DataFrame behavior). To access a value by position, use `ser.iloc[pos]`\n",
      "  n1 = b[0]\n",
      "/var/folders/pt/zlhpwgms1r38l09fb5f24y_80000gn/T/ipykernel_11826/3368081595.py:7: FutureWarning: Series.__getitem__ treating keys as positions is deprecated. In a future version, integer keys will always be treated as labels (consistent with DataFrame behavior). To access a value by position, use `ser.iloc[pos]`\n",
      "  n2 = b[1]\n",
      "/var/folders/pt/zlhpwgms1r38l09fb5f24y_80000gn/T/ipykernel_11826/3368081595.py:8: FutureWarning: Series.__getitem__ treating keys as positions is deprecated. In a future version, integer keys will always be treated as labels (consistent with DataFrame behavior). To access a value by position, use `ser.iloc[pos]`\n",
      "  date = b[2]\n"
     ]
    },
    {
     "name": "stdout",
     "output_type": "stream",
     "text": [
      "done!\n",
      "117, 0\n",
      "generating for 2018-08-09 Stefanos Tsitsipas, Novak Djokovic\n"
     ]
    },
    {
     "name": "stderr",
     "output_type": "stream",
     "text": [
      "/var/folders/pt/zlhpwgms1r38l09fb5f24y_80000gn/T/ipykernel_11826/3368081595.py:6: FutureWarning: Series.__getitem__ treating keys as positions is deprecated. In a future version, integer keys will always be treated as labels (consistent with DataFrame behavior). To access a value by position, use `ser.iloc[pos]`\n",
      "  n1 = b[0]\n",
      "/var/folders/pt/zlhpwgms1r38l09fb5f24y_80000gn/T/ipykernel_11826/3368081595.py:7: FutureWarning: Series.__getitem__ treating keys as positions is deprecated. In a future version, integer keys will always be treated as labels (consistent with DataFrame behavior). To access a value by position, use `ser.iloc[pos]`\n",
      "  n2 = b[1]\n",
      "/var/folders/pt/zlhpwgms1r38l09fb5f24y_80000gn/T/ipykernel_11826/3368081595.py:8: FutureWarning: Series.__getitem__ treating keys as positions is deprecated. In a future version, integer keys will always be treated as labels (consistent with DataFrame behavior). To access a value by position, use `ser.iloc[pos]`\n",
      "  date = b[2]\n"
     ]
    },
    {
     "name": "stdout",
     "output_type": "stream",
     "text": [
      "done!\n",
      "118, 0\n",
      "generating for 2018-08-09 Marin Cilic, Diego Schwartzman\n"
     ]
    },
    {
     "name": "stderr",
     "output_type": "stream",
     "text": [
      "/var/folders/pt/zlhpwgms1r38l09fb5f24y_80000gn/T/ipykernel_11826/3368081595.py:6: FutureWarning: Series.__getitem__ treating keys as positions is deprecated. In a future version, integer keys will always be treated as labels (consistent with DataFrame behavior). To access a value by position, use `ser.iloc[pos]`\n",
      "  n1 = b[0]\n",
      "/var/folders/pt/zlhpwgms1r38l09fb5f24y_80000gn/T/ipykernel_11826/3368081595.py:7: FutureWarning: Series.__getitem__ treating keys as positions is deprecated. In a future version, integer keys will always be treated as labels (consistent with DataFrame behavior). To access a value by position, use `ser.iloc[pos]`\n",
      "  n2 = b[1]\n",
      "/var/folders/pt/zlhpwgms1r38l09fb5f24y_80000gn/T/ipykernel_11826/3368081595.py:8: FutureWarning: Series.__getitem__ treating keys as positions is deprecated. In a future version, integer keys will always be treated as labels (consistent with DataFrame behavior). To access a value by position, use `ser.iloc[pos]`\n",
      "  date = b[2]\n"
     ]
    },
    {
     "name": "stdout",
     "output_type": "stream",
     "text": [
      "done!\n",
      "119, 0\n",
      "generating for 2018-08-13 Pablo Carreno Busta, Richard Gasquet\n"
     ]
    },
    {
     "name": "stderr",
     "output_type": "stream",
     "text": [
      "/var/folders/pt/zlhpwgms1r38l09fb5f24y_80000gn/T/ipykernel_11826/3368081595.py:6: FutureWarning: Series.__getitem__ treating keys as positions is deprecated. In a future version, integer keys will always be treated as labels (consistent with DataFrame behavior). To access a value by position, use `ser.iloc[pos]`\n",
      "  n1 = b[0]\n",
      "/var/folders/pt/zlhpwgms1r38l09fb5f24y_80000gn/T/ipykernel_11826/3368081595.py:7: FutureWarning: Series.__getitem__ treating keys as positions is deprecated. In a future version, integer keys will always be treated as labels (consistent with DataFrame behavior). To access a value by position, use `ser.iloc[pos]`\n",
      "  n2 = b[1]\n",
      "/var/folders/pt/zlhpwgms1r38l09fb5f24y_80000gn/T/ipykernel_11826/3368081595.py:8: FutureWarning: Series.__getitem__ treating keys as positions is deprecated. In a future version, integer keys will always be treated as labels (consistent with DataFrame behavior). To access a value by position, use `ser.iloc[pos]`\n",
      "  date = b[2]\n"
     ]
    },
    {
     "name": "stdout",
     "output_type": "stream",
     "text": [
      "done!\n",
      "120, 0\n",
      "generating for 2018-08-14 David Goffin, Stefanos Tsitsipas\n"
     ]
    },
    {
     "name": "stderr",
     "output_type": "stream",
     "text": [
      "/var/folders/pt/zlhpwgms1r38l09fb5f24y_80000gn/T/ipykernel_11826/3368081595.py:6: FutureWarning: Series.__getitem__ treating keys as positions is deprecated. In a future version, integer keys will always be treated as labels (consistent with DataFrame behavior). To access a value by position, use `ser.iloc[pos]`\n",
      "  n1 = b[0]\n",
      "/var/folders/pt/zlhpwgms1r38l09fb5f24y_80000gn/T/ipykernel_11826/3368081595.py:7: FutureWarning: Series.__getitem__ treating keys as positions is deprecated. In a future version, integer keys will always be treated as labels (consistent with DataFrame behavior). To access a value by position, use `ser.iloc[pos]`\n",
      "  n2 = b[1]\n",
      "/var/folders/pt/zlhpwgms1r38l09fb5f24y_80000gn/T/ipykernel_11826/3368081595.py:8: FutureWarning: Series.__getitem__ treating keys as positions is deprecated. In a future version, integer keys will always be treated as labels (consistent with DataFrame behavior). To access a value by position, use `ser.iloc[pos]`\n",
      "  date = b[2]\n"
     ]
    },
    {
     "name": "stdout",
     "output_type": "stream",
     "text": [
      "done!\n",
      "121, 0\n",
      "generating for 2018-08-15 Roger Federer, Peter Gojowczyk\n"
     ]
    },
    {
     "name": "stderr",
     "output_type": "stream",
     "text": [
      "/var/folders/pt/zlhpwgms1r38l09fb5f24y_80000gn/T/ipykernel_11826/3368081595.py:6: FutureWarning: Series.__getitem__ treating keys as positions is deprecated. In a future version, integer keys will always be treated as labels (consistent with DataFrame behavior). To access a value by position, use `ser.iloc[pos]`\n",
      "  n1 = b[0]\n",
      "/var/folders/pt/zlhpwgms1r38l09fb5f24y_80000gn/T/ipykernel_11826/3368081595.py:7: FutureWarning: Series.__getitem__ treating keys as positions is deprecated. In a future version, integer keys will always be treated as labels (consistent with DataFrame behavior). To access a value by position, use `ser.iloc[pos]`\n",
      "  n2 = b[1]\n",
      "/var/folders/pt/zlhpwgms1r38l09fb5f24y_80000gn/T/ipykernel_11826/3368081595.py:8: FutureWarning: Series.__getitem__ treating keys as positions is deprecated. In a future version, integer keys will always be treated as labels (consistent with DataFrame behavior). To access a value by position, use `ser.iloc[pos]`\n",
      "  date = b[2]\n"
     ]
    },
    {
     "name": "stdout",
     "output_type": "stream",
     "text": [
      "done!\n",
      "122, 0\n",
      "generating for 2018-08-15 Karen Khachanov, Sam Querrey\n"
     ]
    },
    {
     "name": "stderr",
     "output_type": "stream",
     "text": [
      "/var/folders/pt/zlhpwgms1r38l09fb5f24y_80000gn/T/ipykernel_11826/3368081595.py:6: FutureWarning: Series.__getitem__ treating keys as positions is deprecated. In a future version, integer keys will always be treated as labels (consistent with DataFrame behavior). To access a value by position, use `ser.iloc[pos]`\n",
      "  n1 = b[0]\n",
      "/var/folders/pt/zlhpwgms1r38l09fb5f24y_80000gn/T/ipykernel_11826/3368081595.py:7: FutureWarning: Series.__getitem__ treating keys as positions is deprecated. In a future version, integer keys will always be treated as labels (consistent with DataFrame behavior). To access a value by position, use `ser.iloc[pos]`\n",
      "  n2 = b[1]\n",
      "/var/folders/pt/zlhpwgms1r38l09fb5f24y_80000gn/T/ipykernel_11826/3368081595.py:8: FutureWarning: Series.__getitem__ treating keys as positions is deprecated. In a future version, integer keys will always be treated as labels (consistent with DataFrame behavior). To access a value by position, use `ser.iloc[pos]`\n",
      "  date = b[2]\n"
     ]
    },
    {
     "name": "stdout",
     "output_type": "stream",
     "text": [
      "done!\n",
      "123, 0\n",
      "generating for 2018-08-16 Stan Wawrinka, Kei Nishikori\n"
     ]
    },
    {
     "name": "stderr",
     "output_type": "stream",
     "text": [
      "/var/folders/pt/zlhpwgms1r38l09fb5f24y_80000gn/T/ipykernel_11826/3368081595.py:6: FutureWarning: Series.__getitem__ treating keys as positions is deprecated. In a future version, integer keys will always be treated as labels (consistent with DataFrame behavior). To access a value by position, use `ser.iloc[pos]`\n",
      "  n1 = b[0]\n",
      "/var/folders/pt/zlhpwgms1r38l09fb5f24y_80000gn/T/ipykernel_11826/3368081595.py:7: FutureWarning: Series.__getitem__ treating keys as positions is deprecated. In a future version, integer keys will always be treated as labels (consistent with DataFrame behavior). To access a value by position, use `ser.iloc[pos]`\n",
      "  n2 = b[1]\n",
      "/var/folders/pt/zlhpwgms1r38l09fb5f24y_80000gn/T/ipykernel_11826/3368081595.py:8: FutureWarning: Series.__getitem__ treating keys as positions is deprecated. In a future version, integer keys will always be treated as labels (consistent with DataFrame behavior). To access a value by position, use `ser.iloc[pos]`\n",
      "  date = b[2]\n"
     ]
    },
    {
     "name": "stdout",
     "output_type": "stream",
     "text": [
      "done!\n",
      "124, 0\n",
      "generating for 2018-08-17 Juan Martin Del Potro, Nick Kyrgios\n"
     ]
    },
    {
     "name": "stderr",
     "output_type": "stream",
     "text": [
      "/var/folders/pt/zlhpwgms1r38l09fb5f24y_80000gn/T/ipykernel_11826/3368081595.py:6: FutureWarning: Series.__getitem__ treating keys as positions is deprecated. In a future version, integer keys will always be treated as labels (consistent with DataFrame behavior). To access a value by position, use `ser.iloc[pos]`\n",
      "  n1 = b[0]\n",
      "/var/folders/pt/zlhpwgms1r38l09fb5f24y_80000gn/T/ipykernel_11826/3368081595.py:7: FutureWarning: Series.__getitem__ treating keys as positions is deprecated. In a future version, integer keys will always be treated as labels (consistent with DataFrame behavior). To access a value by position, use `ser.iloc[pos]`\n",
      "  n2 = b[1]\n",
      "/var/folders/pt/zlhpwgms1r38l09fb5f24y_80000gn/T/ipykernel_11826/3368081595.py:8: FutureWarning: Series.__getitem__ treating keys as positions is deprecated. In a future version, integer keys will always be treated as labels (consistent with DataFrame behavior). To access a value by position, use `ser.iloc[pos]`\n",
      "  date = b[2]\n"
     ]
    },
    {
     "name": "stdout",
     "output_type": "stream",
     "text": [
      "done!\n",
      "125, 0\n",
      "generating for 2018-08-17 David Goffin, Kevin Anderson\n"
     ]
    },
    {
     "name": "stderr",
     "output_type": "stream",
     "text": [
      "/var/folders/pt/zlhpwgms1r38l09fb5f24y_80000gn/T/ipykernel_11826/3368081595.py:6: FutureWarning: Series.__getitem__ treating keys as positions is deprecated. In a future version, integer keys will always be treated as labels (consistent with DataFrame behavior). To access a value by position, use `ser.iloc[pos]`\n",
      "  n1 = b[0]\n",
      "/var/folders/pt/zlhpwgms1r38l09fb5f24y_80000gn/T/ipykernel_11826/3368081595.py:7: FutureWarning: Series.__getitem__ treating keys as positions is deprecated. In a future version, integer keys will always be treated as labels (consistent with DataFrame behavior). To access a value by position, use `ser.iloc[pos]`\n",
      "  n2 = b[1]\n",
      "/var/folders/pt/zlhpwgms1r38l09fb5f24y_80000gn/T/ipykernel_11826/3368081595.py:8: FutureWarning: Series.__getitem__ treating keys as positions is deprecated. In a future version, integer keys will always be treated as labels (consistent with DataFrame behavior). To access a value by position, use `ser.iloc[pos]`\n",
      "  date = b[2]\n"
     ]
    },
    {
     "name": "stdout",
     "output_type": "stream",
     "text": [
      "done!\n",
      "126, 0\n",
      "generating for 2018-08-17 Novak Djokovic, Grigor Dimitrov\n"
     ]
    },
    {
     "name": "stderr",
     "output_type": "stream",
     "text": [
      "/var/folders/pt/zlhpwgms1r38l09fb5f24y_80000gn/T/ipykernel_11826/3368081595.py:6: FutureWarning: Series.__getitem__ treating keys as positions is deprecated. In a future version, integer keys will always be treated as labels (consistent with DataFrame behavior). To access a value by position, use `ser.iloc[pos]`\n",
      "  n1 = b[0]\n",
      "/var/folders/pt/zlhpwgms1r38l09fb5f24y_80000gn/T/ipykernel_11826/3368081595.py:7: FutureWarning: Series.__getitem__ treating keys as positions is deprecated. In a future version, integer keys will always be treated as labels (consistent with DataFrame behavior). To access a value by position, use `ser.iloc[pos]`\n",
      "  n2 = b[1]\n",
      "/var/folders/pt/zlhpwgms1r38l09fb5f24y_80000gn/T/ipykernel_11826/3368081595.py:8: FutureWarning: Series.__getitem__ treating keys as positions is deprecated. In a future version, integer keys will always be treated as labels (consistent with DataFrame behavior). To access a value by position, use `ser.iloc[pos]`\n",
      "  date = b[2]\n"
     ]
    },
    {
     "name": "stdout",
     "output_type": "stream",
     "text": [
      "done!\n",
      "127, 0\n",
      "generating for 2018-08-17 Roger Federer, Leonardo Mayer\n"
     ]
    },
    {
     "name": "stderr",
     "output_type": "stream",
     "text": [
      "/var/folders/pt/zlhpwgms1r38l09fb5f24y_80000gn/T/ipykernel_11826/3368081595.py:6: FutureWarning: Series.__getitem__ treating keys as positions is deprecated. In a future version, integer keys will always be treated as labels (consistent with DataFrame behavior). To access a value by position, use `ser.iloc[pos]`\n",
      "  n1 = b[0]\n",
      "/var/folders/pt/zlhpwgms1r38l09fb5f24y_80000gn/T/ipykernel_11826/3368081595.py:7: FutureWarning: Series.__getitem__ treating keys as positions is deprecated. In a future version, integer keys will always be treated as labels (consistent with DataFrame behavior). To access a value by position, use `ser.iloc[pos]`\n",
      "  n2 = b[1]\n",
      "/var/folders/pt/zlhpwgms1r38l09fb5f24y_80000gn/T/ipykernel_11826/3368081595.py:8: FutureWarning: Series.__getitem__ treating keys as positions is deprecated. In a future version, integer keys will always be treated as labels (consistent with DataFrame behavior). To access a value by position, use `ser.iloc[pos]`\n",
      "  date = b[2]\n"
     ]
    },
    {
     "name": "stdout",
     "output_type": "stream",
     "text": [
      "done!\n",
      "128, 0\n",
      "generating for 2018-08-17 Marin Cilic, Pablo Carreno Busta\n"
     ]
    },
    {
     "name": "stderr",
     "output_type": "stream",
     "text": [
      "/var/folders/pt/zlhpwgms1r38l09fb5f24y_80000gn/T/ipykernel_11826/3368081595.py:6: FutureWarning: Series.__getitem__ treating keys as positions is deprecated. In a future version, integer keys will always be treated as labels (consistent with DataFrame behavior). To access a value by position, use `ser.iloc[pos]`\n",
      "  n1 = b[0]\n",
      "/var/folders/pt/zlhpwgms1r38l09fb5f24y_80000gn/T/ipykernel_11826/3368081595.py:7: FutureWarning: Series.__getitem__ treating keys as positions is deprecated. In a future version, integer keys will always be treated as labels (consistent with DataFrame behavior). To access a value by position, use `ser.iloc[pos]`\n",
      "  n2 = b[1]\n",
      "/var/folders/pt/zlhpwgms1r38l09fb5f24y_80000gn/T/ipykernel_11826/3368081595.py:8: FutureWarning: Series.__getitem__ treating keys as positions is deprecated. In a future version, integer keys will always be treated as labels (consistent with DataFrame behavior). To access a value by position, use `ser.iloc[pos]`\n",
      "  date = b[2]\n"
     ]
    },
    {
     "name": "stdout",
     "output_type": "stream",
     "text": [
      "done!\n",
      "129, 0\n",
      "generating for 2018-08-18 David Goffin, Juan Martin Del Potro\n"
     ]
    },
    {
     "name": "stderr",
     "output_type": "stream",
     "text": [
      "/var/folders/pt/zlhpwgms1r38l09fb5f24y_80000gn/T/ipykernel_11826/3368081595.py:6: FutureWarning: Series.__getitem__ treating keys as positions is deprecated. In a future version, integer keys will always be treated as labels (consistent with DataFrame behavior). To access a value by position, use `ser.iloc[pos]`\n",
      "  n1 = b[0]\n",
      "/var/folders/pt/zlhpwgms1r38l09fb5f24y_80000gn/T/ipykernel_11826/3368081595.py:7: FutureWarning: Series.__getitem__ treating keys as positions is deprecated. In a future version, integer keys will always be treated as labels (consistent with DataFrame behavior). To access a value by position, use `ser.iloc[pos]`\n",
      "  n2 = b[1]\n",
      "/var/folders/pt/zlhpwgms1r38l09fb5f24y_80000gn/T/ipykernel_11826/3368081595.py:8: FutureWarning: Series.__getitem__ treating keys as positions is deprecated. In a future version, integer keys will always be treated as labels (consistent with DataFrame behavior). To access a value by position, use `ser.iloc[pos]`\n",
      "  date = b[2]\n"
     ]
    },
    {
     "name": "stdout",
     "output_type": "stream",
     "text": [
      "done!\n",
      "130, 0\n",
      "generating for 2018-08-18 Roger Federer, Stan Wawrinka\n"
     ]
    },
    {
     "name": "stderr",
     "output_type": "stream",
     "text": [
      "/var/folders/pt/zlhpwgms1r38l09fb5f24y_80000gn/T/ipykernel_11826/3368081595.py:6: FutureWarning: Series.__getitem__ treating keys as positions is deprecated. In a future version, integer keys will always be treated as labels (consistent with DataFrame behavior). To access a value by position, use `ser.iloc[pos]`\n",
      "  n1 = b[0]\n",
      "/var/folders/pt/zlhpwgms1r38l09fb5f24y_80000gn/T/ipykernel_11826/3368081595.py:7: FutureWarning: Series.__getitem__ treating keys as positions is deprecated. In a future version, integer keys will always be treated as labels (consistent with DataFrame behavior). To access a value by position, use `ser.iloc[pos]`\n",
      "  n2 = b[1]\n",
      "/var/folders/pt/zlhpwgms1r38l09fb5f24y_80000gn/T/ipykernel_11826/3368081595.py:8: FutureWarning: Series.__getitem__ treating keys as positions is deprecated. In a future version, integer keys will always be treated as labels (consistent with DataFrame behavior). To access a value by position, use `ser.iloc[pos]`\n",
      "  date = b[2]\n"
     ]
    },
    {
     "name": "stdout",
     "output_type": "stream",
     "text": [
      "done!\n",
      "131, 0\n",
      "generating for 2018-08-18 Novak Djokovic, Marin Cilic\n"
     ]
    },
    {
     "name": "stderr",
     "output_type": "stream",
     "text": [
      "/var/folders/pt/zlhpwgms1r38l09fb5f24y_80000gn/T/ipykernel_11826/3368081595.py:6: FutureWarning: Series.__getitem__ treating keys as positions is deprecated. In a future version, integer keys will always be treated as labels (consistent with DataFrame behavior). To access a value by position, use `ser.iloc[pos]`\n",
      "  n1 = b[0]\n",
      "/var/folders/pt/zlhpwgms1r38l09fb5f24y_80000gn/T/ipykernel_11826/3368081595.py:7: FutureWarning: Series.__getitem__ treating keys as positions is deprecated. In a future version, integer keys will always be treated as labels (consistent with DataFrame behavior). To access a value by position, use `ser.iloc[pos]`\n",
      "  n2 = b[1]\n",
      "/var/folders/pt/zlhpwgms1r38l09fb5f24y_80000gn/T/ipykernel_11826/3368081595.py:8: FutureWarning: Series.__getitem__ treating keys as positions is deprecated. In a future version, integer keys will always be treated as labels (consistent with DataFrame behavior). To access a value by position, use `ser.iloc[pos]`\n",
      "  date = b[2]\n"
     ]
    },
    {
     "name": "stdout",
     "output_type": "stream",
     "text": [
      "done!\n",
      "132, 0\n",
      "generating for 2018-08-25 Steve Johnson, Pablo Carreno Busta\n"
     ]
    },
    {
     "name": "stderr",
     "output_type": "stream",
     "text": [
      "/var/folders/pt/zlhpwgms1r38l09fb5f24y_80000gn/T/ipykernel_11826/3368081595.py:6: FutureWarning: Series.__getitem__ treating keys as positions is deprecated. In a future version, integer keys will always be treated as labels (consistent with DataFrame behavior). To access a value by position, use `ser.iloc[pos]`\n",
      "  n1 = b[0]\n",
      "/var/folders/pt/zlhpwgms1r38l09fb5f24y_80000gn/T/ipykernel_11826/3368081595.py:7: FutureWarning: Series.__getitem__ treating keys as positions is deprecated. In a future version, integer keys will always be treated as labels (consistent with DataFrame behavior). To access a value by position, use `ser.iloc[pos]`\n",
      "  n2 = b[1]\n",
      "/var/folders/pt/zlhpwgms1r38l09fb5f24y_80000gn/T/ipykernel_11826/3368081595.py:8: FutureWarning: Series.__getitem__ treating keys as positions is deprecated. In a future version, integer keys will always be treated as labels (consistent with DataFrame behavior). To access a value by position, use `ser.iloc[pos]`\n",
      "  date = b[2]\n"
     ]
    },
    {
     "name": "stdout",
     "output_type": "stream",
     "text": [
      "done!\n",
      "133, 0\n",
      "generating for 2018-08-27 Stan Wawrinka, Grigor Dimitrov\n"
     ]
    },
    {
     "name": "stderr",
     "output_type": "stream",
     "text": [
      "/var/folders/pt/zlhpwgms1r38l09fb5f24y_80000gn/T/ipykernel_11826/3368081595.py:6: FutureWarning: Series.__getitem__ treating keys as positions is deprecated. In a future version, integer keys will always be treated as labels (consistent with DataFrame behavior). To access a value by position, use `ser.iloc[pos]`\n",
      "  n1 = b[0]\n",
      "/var/folders/pt/zlhpwgms1r38l09fb5f24y_80000gn/T/ipykernel_11826/3368081595.py:7: FutureWarning: Series.__getitem__ treating keys as positions is deprecated. In a future version, integer keys will always be treated as labels (consistent with DataFrame behavior). To access a value by position, use `ser.iloc[pos]`\n",
      "  n2 = b[1]\n",
      "/var/folders/pt/zlhpwgms1r38l09fb5f24y_80000gn/T/ipykernel_11826/3368081595.py:8: FutureWarning: Series.__getitem__ treating keys as positions is deprecated. In a future version, integer keys will always be treated as labels (consistent with DataFrame behavior). To access a value by position, use `ser.iloc[pos]`\n",
      "  date = b[2]\n"
     ]
    },
    {
     "name": "stdout",
     "output_type": "stream",
     "text": [
      "done!\n",
      "134, 0\n",
      "generating for 2018-08-27 Kevin Anderson, Ryan Harrison\n"
     ]
    },
    {
     "name": "stderr",
     "output_type": "stream",
     "text": [
      "/var/folders/pt/zlhpwgms1r38l09fb5f24y_80000gn/T/ipykernel_11826/3368081595.py:6: FutureWarning: Series.__getitem__ treating keys as positions is deprecated. In a future version, integer keys will always be treated as labels (consistent with DataFrame behavior). To access a value by position, use `ser.iloc[pos]`\n",
      "  n1 = b[0]\n",
      "/var/folders/pt/zlhpwgms1r38l09fb5f24y_80000gn/T/ipykernel_11826/3368081595.py:7: FutureWarning: Series.__getitem__ treating keys as positions is deprecated. In a future version, integer keys will always be treated as labels (consistent with DataFrame behavior). To access a value by position, use `ser.iloc[pos]`\n",
      "  n2 = b[1]\n",
      "/var/folders/pt/zlhpwgms1r38l09fb5f24y_80000gn/T/ipykernel_11826/3368081595.py:8: FutureWarning: Series.__getitem__ treating keys as positions is deprecated. In a future version, integer keys will always be treated as labels (consistent with DataFrame behavior). To access a value by position, use `ser.iloc[pos]`\n",
      "  date = b[2]\n"
     ]
    },
    {
     "name": "stdout",
     "output_type": "stream",
     "text": [
      "done!\n",
      "135, 0\n",
      "generating for 2018-09-01 Milos Raonic, Stan Wawrinka\n"
     ]
    },
    {
     "name": "stderr",
     "output_type": "stream",
     "text": [
      "/var/folders/pt/zlhpwgms1r38l09fb5f24y_80000gn/T/ipykernel_11826/3368081595.py:6: FutureWarning: Series.__getitem__ treating keys as positions is deprecated. In a future version, integer keys will always be treated as labels (consistent with DataFrame behavior). To access a value by position, use `ser.iloc[pos]`\n",
      "  n1 = b[0]\n",
      "/var/folders/pt/zlhpwgms1r38l09fb5f24y_80000gn/T/ipykernel_11826/3368081595.py:7: FutureWarning: Series.__getitem__ treating keys as positions is deprecated. In a future version, integer keys will always be treated as labels (consistent with DataFrame behavior). To access a value by position, use `ser.iloc[pos]`\n",
      "  n2 = b[1]\n",
      "/var/folders/pt/zlhpwgms1r38l09fb5f24y_80000gn/T/ipykernel_11826/3368081595.py:8: FutureWarning: Series.__getitem__ treating keys as positions is deprecated. In a future version, integer keys will always be treated as labels (consistent with DataFrame behavior). To access a value by position, use `ser.iloc[pos]`\n",
      "  date = b[2]\n"
     ]
    },
    {
     "name": "stdout",
     "output_type": "stream",
     "text": [
      "done!\n",
      "136, 0\n",
      "generating for 2018-09-01 Juan Martin Del Potro, Fernando Verdasco\n"
     ]
    },
    {
     "name": "stderr",
     "output_type": "stream",
     "text": [
      "/var/folders/pt/zlhpwgms1r38l09fb5f24y_80000gn/T/ipykernel_11826/3368081595.py:6: FutureWarning: Series.__getitem__ treating keys as positions is deprecated. In a future version, integer keys will always be treated as labels (consistent with DataFrame behavior). To access a value by position, use `ser.iloc[pos]`\n",
      "  n1 = b[0]\n",
      "/var/folders/pt/zlhpwgms1r38l09fb5f24y_80000gn/T/ipykernel_11826/3368081595.py:7: FutureWarning: Series.__getitem__ treating keys as positions is deprecated. In a future version, integer keys will always be treated as labels (consistent with DataFrame behavior). To access a value by position, use `ser.iloc[pos]`\n",
      "  n2 = b[1]\n",
      "/var/folders/pt/zlhpwgms1r38l09fb5f24y_80000gn/T/ipykernel_11826/3368081595.py:8: FutureWarning: Series.__getitem__ treating keys as positions is deprecated. In a future version, integer keys will always be treated as labels (consistent with DataFrame behavior). To access a value by position, use `ser.iloc[pos]`\n",
      "  date = b[2]\n"
     ]
    },
    {
     "name": "stdout",
     "output_type": "stream",
     "text": [
      "done!\n",
      "137, 0\n",
      "generating for 2018-09-01 Roger Federer, Nick Kyrgios\n"
     ]
    },
    {
     "name": "stderr",
     "output_type": "stream",
     "text": [
      "/var/folders/pt/zlhpwgms1r38l09fb5f24y_80000gn/T/ipykernel_11826/3368081595.py:6: FutureWarning: Series.__getitem__ treating keys as positions is deprecated. In a future version, integer keys will always be treated as labels (consistent with DataFrame behavior). To access a value by position, use `ser.iloc[pos]`\n",
      "  n1 = b[0]\n",
      "/var/folders/pt/zlhpwgms1r38l09fb5f24y_80000gn/T/ipykernel_11826/3368081595.py:7: FutureWarning: Series.__getitem__ treating keys as positions is deprecated. In a future version, integer keys will always be treated as labels (consistent with DataFrame behavior). To access a value by position, use `ser.iloc[pos]`\n",
      "  n2 = b[1]\n",
      "/var/folders/pt/zlhpwgms1r38l09fb5f24y_80000gn/T/ipykernel_11826/3368081595.py:8: FutureWarning: Series.__getitem__ treating keys as positions is deprecated. In a future version, integer keys will always be treated as labels (consistent with DataFrame behavior). To access a value by position, use `ser.iloc[pos]`\n",
      "  date = b[2]\n"
     ]
    },
    {
     "name": "stdout",
     "output_type": "stream",
     "text": [
      "done!\n",
      "138, 0\n",
      "generating for 2018-09-02 Dominic Thiem, Kevin Anderson\n"
     ]
    },
    {
     "name": "stderr",
     "output_type": "stream",
     "text": [
      "/var/folders/pt/zlhpwgms1r38l09fb5f24y_80000gn/T/ipykernel_11826/3368081595.py:6: FutureWarning: Series.__getitem__ treating keys as positions is deprecated. In a future version, integer keys will always be treated as labels (consistent with DataFrame behavior). To access a value by position, use `ser.iloc[pos]`\n",
      "  n1 = b[0]\n",
      "/var/folders/pt/zlhpwgms1r38l09fb5f24y_80000gn/T/ipykernel_11826/3368081595.py:7: FutureWarning: Series.__getitem__ treating keys as positions is deprecated. In a future version, integer keys will always be treated as labels (consistent with DataFrame behavior). To access a value by position, use `ser.iloc[pos]`\n",
      "  n2 = b[1]\n",
      "/var/folders/pt/zlhpwgms1r38l09fb5f24y_80000gn/T/ipykernel_11826/3368081595.py:8: FutureWarning: Series.__getitem__ treating keys as positions is deprecated. In a future version, integer keys will always be treated as labels (consistent with DataFrame behavior). To access a value by position, use `ser.iloc[pos]`\n",
      "  date = b[2]\n"
     ]
    },
    {
     "name": "stdout",
     "output_type": "stream",
     "text": [
      "done!\n",
      "139, 0\n",
      "generating for 2018-09-03 Juan Martin Del Potro, Borna Coric\n"
     ]
    },
    {
     "name": "stderr",
     "output_type": "stream",
     "text": [
      "/var/folders/pt/zlhpwgms1r38l09fb5f24y_80000gn/T/ipykernel_11826/3368081595.py:6: FutureWarning: Series.__getitem__ treating keys as positions is deprecated. In a future version, integer keys will always be treated as labels (consistent with DataFrame behavior). To access a value by position, use `ser.iloc[pos]`\n",
      "  n1 = b[0]\n",
      "/var/folders/pt/zlhpwgms1r38l09fb5f24y_80000gn/T/ipykernel_11826/3368081595.py:7: FutureWarning: Series.__getitem__ treating keys as positions is deprecated. In a future version, integer keys will always be treated as labels (consistent with DataFrame behavior). To access a value by position, use `ser.iloc[pos]`\n",
      "  n2 = b[1]\n",
      "/var/folders/pt/zlhpwgms1r38l09fb5f24y_80000gn/T/ipykernel_11826/3368081595.py:8: FutureWarning: Series.__getitem__ treating keys as positions is deprecated. In a future version, integer keys will always be treated as labels (consistent with DataFrame behavior). To access a value by position, use `ser.iloc[pos]`\n",
      "  date = b[2]\n"
     ]
    },
    {
     "name": "stdout",
     "output_type": "stream",
     "text": [
      "done!\n",
      "140, 0\n",
      "generating for 2018-09-03 Marin Cilic, David Goffin\n"
     ]
    },
    {
     "name": "stderr",
     "output_type": "stream",
     "text": [
      "/var/folders/pt/zlhpwgms1r38l09fb5f24y_80000gn/T/ipykernel_11826/3368081595.py:6: FutureWarning: Series.__getitem__ treating keys as positions is deprecated. In a future version, integer keys will always be treated as labels (consistent with DataFrame behavior). To access a value by position, use `ser.iloc[pos]`\n",
      "  n1 = b[0]\n",
      "/var/folders/pt/zlhpwgms1r38l09fb5f24y_80000gn/T/ipykernel_11826/3368081595.py:7: FutureWarning: Series.__getitem__ treating keys as positions is deprecated. In a future version, integer keys will always be treated as labels (consistent with DataFrame behavior). To access a value by position, use `ser.iloc[pos]`\n",
      "  n2 = b[1]\n",
      "/var/folders/pt/zlhpwgms1r38l09fb5f24y_80000gn/T/ipykernel_11826/3368081595.py:8: FutureWarning: Series.__getitem__ treating keys as positions is deprecated. In a future version, integer keys will always be treated as labels (consistent with DataFrame behavior). To access a value by position, use `ser.iloc[pos]`\n",
      "  date = b[2]\n"
     ]
    },
    {
     "name": "stdout",
     "output_type": "stream",
     "text": [
      "done!\n",
      "141, 0\n",
      "generating for 2018-09-04 Juan Martin Del Potro, John Isner\n"
     ]
    },
    {
     "name": "stderr",
     "output_type": "stream",
     "text": [
      "/var/folders/pt/zlhpwgms1r38l09fb5f24y_80000gn/T/ipykernel_11826/3368081595.py:6: FutureWarning: Series.__getitem__ treating keys as positions is deprecated. In a future version, integer keys will always be treated as labels (consistent with DataFrame behavior). To access a value by position, use `ser.iloc[pos]`\n",
      "  n1 = b[0]\n",
      "/var/folders/pt/zlhpwgms1r38l09fb5f24y_80000gn/T/ipykernel_11826/3368081595.py:7: FutureWarning: Series.__getitem__ treating keys as positions is deprecated. In a future version, integer keys will always be treated as labels (consistent with DataFrame behavior). To access a value by position, use `ser.iloc[pos]`\n",
      "  n2 = b[1]\n",
      "/var/folders/pt/zlhpwgms1r38l09fb5f24y_80000gn/T/ipykernel_11826/3368081595.py:8: FutureWarning: Series.__getitem__ treating keys as positions is deprecated. In a future version, integer keys will always be treated as labels (consistent with DataFrame behavior). To access a value by position, use `ser.iloc[pos]`\n",
      "  date = b[2]\n"
     ]
    },
    {
     "name": "stdout",
     "output_type": "stream",
     "text": [
      "done!\n",
      "142, 0\n",
      "generating for 2018-09-05 Rafael Nadal, Dominic Thiem\n"
     ]
    },
    {
     "name": "stderr",
     "output_type": "stream",
     "text": [
      "/var/folders/pt/zlhpwgms1r38l09fb5f24y_80000gn/T/ipykernel_11826/3368081595.py:6: FutureWarning: Series.__getitem__ treating keys as positions is deprecated. In a future version, integer keys will always be treated as labels (consistent with DataFrame behavior). To access a value by position, use `ser.iloc[pos]`\n",
      "  n1 = b[0]\n",
      "/var/folders/pt/zlhpwgms1r38l09fb5f24y_80000gn/T/ipykernel_11826/3368081595.py:7: FutureWarning: Series.__getitem__ treating keys as positions is deprecated. In a future version, integer keys will always be treated as labels (consistent with DataFrame behavior). To access a value by position, use `ser.iloc[pos]`\n",
      "  n2 = b[1]\n",
      "/var/folders/pt/zlhpwgms1r38l09fb5f24y_80000gn/T/ipykernel_11826/3368081595.py:8: FutureWarning: Series.__getitem__ treating keys as positions is deprecated. In a future version, integer keys will always be treated as labels (consistent with DataFrame behavior). To access a value by position, use `ser.iloc[pos]`\n",
      "  date = b[2]\n"
     ]
    },
    {
     "name": "stdout",
     "output_type": "stream",
     "text": [
      "done!\n",
      "143, 0\n",
      "generating for 2018-09-08 Novak Djokovic, Kei Nishikori\n"
     ]
    },
    {
     "name": "stderr",
     "output_type": "stream",
     "text": [
      "/var/folders/pt/zlhpwgms1r38l09fb5f24y_80000gn/T/ipykernel_11826/3368081595.py:6: FutureWarning: Series.__getitem__ treating keys as positions is deprecated. In a future version, integer keys will always be treated as labels (consistent with DataFrame behavior). To access a value by position, use `ser.iloc[pos]`\n",
      "  n1 = b[0]\n",
      "/var/folders/pt/zlhpwgms1r38l09fb5f24y_80000gn/T/ipykernel_11826/3368081595.py:7: FutureWarning: Series.__getitem__ treating keys as positions is deprecated. In a future version, integer keys will always be treated as labels (consistent with DataFrame behavior). To access a value by position, use `ser.iloc[pos]`\n",
      "  n2 = b[1]\n",
      "/var/folders/pt/zlhpwgms1r38l09fb5f24y_80000gn/T/ipykernel_11826/3368081595.py:8: FutureWarning: Series.__getitem__ treating keys as positions is deprecated. In a future version, integer keys will always be treated as labels (consistent with DataFrame behavior). To access a value by position, use `ser.iloc[pos]`\n",
      "  date = b[2]\n"
     ]
    },
    {
     "name": "stdout",
     "output_type": "stream",
     "text": [
      "done!\n",
      "144, 0\n",
      "generating for 2018-09-09 Novak Djokovic, Juan Martin Del Potro\n"
     ]
    },
    {
     "name": "stderr",
     "output_type": "stream",
     "text": [
      "/var/folders/pt/zlhpwgms1r38l09fb5f24y_80000gn/T/ipykernel_11826/3368081595.py:6: FutureWarning: Series.__getitem__ treating keys as positions is deprecated. In a future version, integer keys will always be treated as labels (consistent with DataFrame behavior). To access a value by position, use `ser.iloc[pos]`\n",
      "  n1 = b[0]\n",
      "/var/folders/pt/zlhpwgms1r38l09fb5f24y_80000gn/T/ipykernel_11826/3368081595.py:7: FutureWarning: Series.__getitem__ treating keys as positions is deprecated. In a future version, integer keys will always be treated as labels (consistent with DataFrame behavior). To access a value by position, use `ser.iloc[pos]`\n",
      "  n2 = b[1]\n",
      "/var/folders/pt/zlhpwgms1r38l09fb5f24y_80000gn/T/ipykernel_11826/3368081595.py:8: FutureWarning: Series.__getitem__ treating keys as positions is deprecated. In a future version, integer keys will always be treated as labels (consistent with DataFrame behavior). To access a value by position, use `ser.iloc[pos]`\n",
      "  date = b[2]\n"
     ]
    },
    {
     "name": "stdout",
     "output_type": "stream",
     "text": [
      "done!\n",
      "145, 0\n",
      "generating for 2018-09-18 Peter Gojowczyk, Jo Wilfried Tsonga\n"
     ]
    },
    {
     "name": "stderr",
     "output_type": "stream",
     "text": [
      "/var/folders/pt/zlhpwgms1r38l09fb5f24y_80000gn/T/ipykernel_11826/3368081595.py:6: FutureWarning: Series.__getitem__ treating keys as positions is deprecated. In a future version, integer keys will always be treated as labels (consistent with DataFrame behavior). To access a value by position, use `ser.iloc[pos]`\n",
      "  n1 = b[0]\n",
      "/var/folders/pt/zlhpwgms1r38l09fb5f24y_80000gn/T/ipykernel_11826/3368081595.py:7: FutureWarning: Series.__getitem__ treating keys as positions is deprecated. In a future version, integer keys will always be treated as labels (consistent with DataFrame behavior). To access a value by position, use `ser.iloc[pos]`\n",
      "  n2 = b[1]\n",
      "/var/folders/pt/zlhpwgms1r38l09fb5f24y_80000gn/T/ipykernel_11826/3368081595.py:8: FutureWarning: Series.__getitem__ treating keys as positions is deprecated. In a future version, integer keys will always be treated as labels (consistent with DataFrame behavior). To access a value by position, use `ser.iloc[pos]`\n",
      "  date = b[2]\n"
     ]
    },
    {
     "name": "stdout",
     "output_type": "stream",
     "text": [
      "done!\n",
      "146, 0\n",
      "generating for 2018-09-21 Gilles Simon, Richard Gasquet\n"
     ]
    },
    {
     "name": "stderr",
     "output_type": "stream",
     "text": [
      "/var/folders/pt/zlhpwgms1r38l09fb5f24y_80000gn/T/ipykernel_11826/3368081595.py:6: FutureWarning: Series.__getitem__ treating keys as positions is deprecated. In a future version, integer keys will always be treated as labels (consistent with DataFrame behavior). To access a value by position, use `ser.iloc[pos]`\n",
      "  n1 = b[0]\n",
      "/var/folders/pt/zlhpwgms1r38l09fb5f24y_80000gn/T/ipykernel_11826/3368081595.py:7: FutureWarning: Series.__getitem__ treating keys as positions is deprecated. In a future version, integer keys will always be treated as labels (consistent with DataFrame behavior). To access a value by position, use `ser.iloc[pos]`\n",
      "  n2 = b[1]\n",
      "/var/folders/pt/zlhpwgms1r38l09fb5f24y_80000gn/T/ipykernel_11826/3368081595.py:8: FutureWarning: Series.__getitem__ treating keys as positions is deprecated. In a future version, integer keys will always be treated as labels (consistent with DataFrame behavior). To access a value by position, use `ser.iloc[pos]`\n",
      "  date = b[2]\n"
     ]
    },
    {
     "name": "stdout",
     "output_type": "stream",
     "text": [
      "done!\n",
      "147, 0\n",
      "generating for 2018-09-21 Kei Nishikori, Nikoloz Basilashvili\n"
     ]
    },
    {
     "name": "stderr",
     "output_type": "stream",
     "text": [
      "/var/folders/pt/zlhpwgms1r38l09fb5f24y_80000gn/T/ipykernel_11826/3368081595.py:6: FutureWarning: Series.__getitem__ treating keys as positions is deprecated. In a future version, integer keys will always be treated as labels (consistent with DataFrame behavior). To access a value by position, use `ser.iloc[pos]`\n",
      "  n1 = b[0]\n",
      "/var/folders/pt/zlhpwgms1r38l09fb5f24y_80000gn/T/ipykernel_11826/3368081595.py:7: FutureWarning: Series.__getitem__ treating keys as positions is deprecated. In a future version, integer keys will always be treated as labels (consistent with DataFrame behavior). To access a value by position, use `ser.iloc[pos]`\n",
      "  n2 = b[1]\n",
      "/var/folders/pt/zlhpwgms1r38l09fb5f24y_80000gn/T/ipykernel_11826/3368081595.py:8: FutureWarning: Series.__getitem__ treating keys as positions is deprecated. In a future version, integer keys will always be treated as labels (consistent with DataFrame behavior). To access a value by position, use `ser.iloc[pos]`\n",
      "  date = b[2]\n"
     ]
    },
    {
     "name": "stdout",
     "output_type": "stream",
     "text": [
      "done!\n",
      "148, 0\n",
      "generating for 2018-09-22 Dominic Thiem, Roberto Bautista Agut\n"
     ]
    },
    {
     "name": "stderr",
     "output_type": "stream",
     "text": [
      "/var/folders/pt/zlhpwgms1r38l09fb5f24y_80000gn/T/ipykernel_11826/3368081595.py:6: FutureWarning: Series.__getitem__ treating keys as positions is deprecated. In a future version, integer keys will always be treated as labels (consistent with DataFrame behavior). To access a value by position, use `ser.iloc[pos]`\n",
      "  n1 = b[0]\n",
      "/var/folders/pt/zlhpwgms1r38l09fb5f24y_80000gn/T/ipykernel_11826/3368081595.py:7: FutureWarning: Series.__getitem__ treating keys as positions is deprecated. In a future version, integer keys will always be treated as labels (consistent with DataFrame behavior). To access a value by position, use `ser.iloc[pos]`\n",
      "  n2 = b[1]\n",
      "/var/folders/pt/zlhpwgms1r38l09fb5f24y_80000gn/T/ipykernel_11826/3368081595.py:8: FutureWarning: Series.__getitem__ treating keys as positions is deprecated. In a future version, integer keys will always be treated as labels (consistent with DataFrame behavior). To access a value by position, use `ser.iloc[pos]`\n",
      "  date = b[2]\n"
     ]
    },
    {
     "name": "stdout",
     "output_type": "stream",
     "text": [
      "done!\n",
      "149, 0\n",
      "generating for 2018-09-25 Alex De Minaur, Yuichi Sugita\n"
     ]
    },
    {
     "name": "stderr",
     "output_type": "stream",
     "text": [
      "/var/folders/pt/zlhpwgms1r38l09fb5f24y_80000gn/T/ipykernel_11826/3368081595.py:6: FutureWarning: Series.__getitem__ treating keys as positions is deprecated. In a future version, integer keys will always be treated as labels (consistent with DataFrame behavior). To access a value by position, use `ser.iloc[pos]`\n",
      "  n1 = b[0]\n",
      "/var/folders/pt/zlhpwgms1r38l09fb5f24y_80000gn/T/ipykernel_11826/3368081595.py:7: FutureWarning: Series.__getitem__ treating keys as positions is deprecated. In a future version, integer keys will always be treated as labels (consistent with DataFrame behavior). To access a value by position, use `ser.iloc[pos]`\n",
      "  n2 = b[1]\n",
      "/var/folders/pt/zlhpwgms1r38l09fb5f24y_80000gn/T/ipykernel_11826/3368081595.py:8: FutureWarning: Series.__getitem__ treating keys as positions is deprecated. In a future version, integer keys will always be treated as labels (consistent with DataFrame behavior). To access a value by position, use `ser.iloc[pos]`\n",
      "  date = b[2]\n"
     ]
    },
    {
     "name": "stdout",
     "output_type": "stream",
     "text": [
      "done!\n",
      "150, 0\n",
      "generating for 2018-09-27 Andy Murray, David Goffin\n"
     ]
    },
    {
     "name": "stderr",
     "output_type": "stream",
     "text": [
      "/var/folders/pt/zlhpwgms1r38l09fb5f24y_80000gn/T/ipykernel_11826/3368081595.py:6: FutureWarning: Series.__getitem__ treating keys as positions is deprecated. In a future version, integer keys will always be treated as labels (consistent with DataFrame behavior). To access a value by position, use `ser.iloc[pos]`\n",
      "  n1 = b[0]\n",
      "/var/folders/pt/zlhpwgms1r38l09fb5f24y_80000gn/T/ipykernel_11826/3368081595.py:7: FutureWarning: Series.__getitem__ treating keys as positions is deprecated. In a future version, integer keys will always be treated as labels (consistent with DataFrame behavior). To access a value by position, use `ser.iloc[pos]`\n",
      "  n2 = b[1]\n",
      "/var/folders/pt/zlhpwgms1r38l09fb5f24y_80000gn/T/ipykernel_11826/3368081595.py:8: FutureWarning: Series.__getitem__ treating keys as positions is deprecated. In a future version, integer keys will always be treated as labels (consistent with DataFrame behavior). To access a value by position, use `ser.iloc[pos]`\n",
      "  date = b[2]\n"
     ]
    },
    {
     "name": "stdout",
     "output_type": "stream",
     "text": [
      "done!\n",
      "151, 0\n",
      "generating for 2018-09-28 Alex De Minaur, Damir Dzumhur\n"
     ]
    },
    {
     "name": "stderr",
     "output_type": "stream",
     "text": [
      "/var/folders/pt/zlhpwgms1r38l09fb5f24y_80000gn/T/ipykernel_11826/3368081595.py:6: FutureWarning: Series.__getitem__ treating keys as positions is deprecated. In a future version, integer keys will always be treated as labels (consistent with DataFrame behavior). To access a value by position, use `ser.iloc[pos]`\n",
      "  n1 = b[0]\n",
      "/var/folders/pt/zlhpwgms1r38l09fb5f24y_80000gn/T/ipykernel_11826/3368081595.py:7: FutureWarning: Series.__getitem__ treating keys as positions is deprecated. In a future version, integer keys will always be treated as labels (consistent with DataFrame behavior). To access a value by position, use `ser.iloc[pos]`\n",
      "  n2 = b[1]\n",
      "/var/folders/pt/zlhpwgms1r38l09fb5f24y_80000gn/T/ipykernel_11826/3368081595.py:8: FutureWarning: Series.__getitem__ treating keys as positions is deprecated. In a future version, integer keys will always be treated as labels (consistent with DataFrame behavior). To access a value by position, use `ser.iloc[pos]`\n",
      "  date = b[2]\n"
     ]
    },
    {
     "name": "stdout",
     "output_type": "stream",
     "text": [
      "done!\n",
      "152, 0\n",
      "generating for 2018-10-01 Karen Khachanov, Sam Querrey\n"
     ]
    },
    {
     "name": "stderr",
     "output_type": "stream",
     "text": [
      "/var/folders/pt/zlhpwgms1r38l09fb5f24y_80000gn/T/ipykernel_11826/3368081595.py:6: FutureWarning: Series.__getitem__ treating keys as positions is deprecated. In a future version, integer keys will always be treated as labels (consistent with DataFrame behavior). To access a value by position, use `ser.iloc[pos]`\n",
      "  n1 = b[0]\n",
      "/var/folders/pt/zlhpwgms1r38l09fb5f24y_80000gn/T/ipykernel_11826/3368081595.py:7: FutureWarning: Series.__getitem__ treating keys as positions is deprecated. In a future version, integer keys will always be treated as labels (consistent with DataFrame behavior). To access a value by position, use `ser.iloc[pos]`\n",
      "  n2 = b[1]\n",
      "/var/folders/pt/zlhpwgms1r38l09fb5f24y_80000gn/T/ipykernel_11826/3368081595.py:8: FutureWarning: Series.__getitem__ treating keys as positions is deprecated. In a future version, integer keys will always be treated as labels (consistent with DataFrame behavior). To access a value by position, use `ser.iloc[pos]`\n",
      "  date = b[2]\n"
     ]
    },
    {
     "name": "stdout",
     "output_type": "stream",
     "text": [
      "done!\n",
      "153, 0\n",
      "generating for 2018-10-02 Andrey Rublev, Joao Sousa\n"
     ]
    },
    {
     "name": "stderr",
     "output_type": "stream",
     "text": [
      "/var/folders/pt/zlhpwgms1r38l09fb5f24y_80000gn/T/ipykernel_11826/3368081595.py:6: FutureWarning: Series.__getitem__ treating keys as positions is deprecated. In a future version, integer keys will always be treated as labels (consistent with DataFrame behavior). To access a value by position, use `ser.iloc[pos]`\n",
      "  n1 = b[0]\n",
      "/var/folders/pt/zlhpwgms1r38l09fb5f24y_80000gn/T/ipykernel_11826/3368081595.py:7: FutureWarning: Series.__getitem__ treating keys as positions is deprecated. In a future version, integer keys will always be treated as labels (consistent with DataFrame behavior). To access a value by position, use `ser.iloc[pos]`\n",
      "  n2 = b[1]\n",
      "/var/folders/pt/zlhpwgms1r38l09fb5f24y_80000gn/T/ipykernel_11826/3368081595.py:8: FutureWarning: Series.__getitem__ treating keys as positions is deprecated. In a future version, integer keys will always be treated as labels (consistent with DataFrame behavior). To access a value by position, use `ser.iloc[pos]`\n",
      "  date = b[2]\n"
     ]
    },
    {
     "name": "stdout",
     "output_type": "stream",
     "text": [
      "done!\n",
      "154, 0\n",
      "generating for 2018-10-03 Juan Martin Del Potro, Karen Khachanov\n"
     ]
    },
    {
     "name": "stderr",
     "output_type": "stream",
     "text": [
      "/var/folders/pt/zlhpwgms1r38l09fb5f24y_80000gn/T/ipykernel_11826/3368081595.py:6: FutureWarning: Series.__getitem__ treating keys as positions is deprecated. In a future version, integer keys will always be treated as labels (consistent with DataFrame behavior). To access a value by position, use `ser.iloc[pos]`\n",
      "  n1 = b[0]\n",
      "/var/folders/pt/zlhpwgms1r38l09fb5f24y_80000gn/T/ipykernel_11826/3368081595.py:7: FutureWarning: Series.__getitem__ treating keys as positions is deprecated. In a future version, integer keys will always be treated as labels (consistent with DataFrame behavior). To access a value by position, use `ser.iloc[pos]`\n",
      "  n2 = b[1]\n",
      "/var/folders/pt/zlhpwgms1r38l09fb5f24y_80000gn/T/ipykernel_11826/3368081595.py:8: FutureWarning: Series.__getitem__ treating keys as positions is deprecated. In a future version, integer keys will always be treated as labels (consistent with DataFrame behavior). To access a value by position, use `ser.iloc[pos]`\n",
      "  date = b[2]\n"
     ]
    },
    {
     "name": "stdout",
     "output_type": "stream",
     "text": [
      "done!\n",
      "155, 0\n",
      "generating for 2018-10-04 Fabio Fognini, Andrey Rublev\n"
     ]
    },
    {
     "name": "stderr",
     "output_type": "stream",
     "text": [
      "/var/folders/pt/zlhpwgms1r38l09fb5f24y_80000gn/T/ipykernel_11826/3368081595.py:6: FutureWarning: Series.__getitem__ treating keys as positions is deprecated. In a future version, integer keys will always be treated as labels (consistent with DataFrame behavior). To access a value by position, use `ser.iloc[pos]`\n",
      "  n1 = b[0]\n",
      "/var/folders/pt/zlhpwgms1r38l09fb5f24y_80000gn/T/ipykernel_11826/3368081595.py:7: FutureWarning: Series.__getitem__ treating keys as positions is deprecated. In a future version, integer keys will always be treated as labels (consistent with DataFrame behavior). To access a value by position, use `ser.iloc[pos]`\n",
      "  n2 = b[1]\n",
      "/var/folders/pt/zlhpwgms1r38l09fb5f24y_80000gn/T/ipykernel_11826/3368081595.py:8: FutureWarning: Series.__getitem__ treating keys as positions is deprecated. In a future version, integer keys will always be treated as labels (consistent with DataFrame behavior). To access a value by position, use `ser.iloc[pos]`\n",
      "  date = b[2]\n"
     ]
    },
    {
     "name": "stdout",
     "output_type": "stream",
     "text": [
      "done!\n",
      "156, 0\n",
      "generating for 2018-10-06 Juan Martin Del Potro, Fabio Fognini\n"
     ]
    },
    {
     "name": "stderr",
     "output_type": "stream",
     "text": [
      "/var/folders/pt/zlhpwgms1r38l09fb5f24y_80000gn/T/ipykernel_11826/3368081595.py:6: FutureWarning: Series.__getitem__ treating keys as positions is deprecated. In a future version, integer keys will always be treated as labels (consistent with DataFrame behavior). To access a value by position, use `ser.iloc[pos]`\n",
      "  n1 = b[0]\n",
      "/var/folders/pt/zlhpwgms1r38l09fb5f24y_80000gn/T/ipykernel_11826/3368081595.py:7: FutureWarning: Series.__getitem__ treating keys as positions is deprecated. In a future version, integer keys will always be treated as labels (consistent with DataFrame behavior). To access a value by position, use `ser.iloc[pos]`\n",
      "  n2 = b[1]\n",
      "/var/folders/pt/zlhpwgms1r38l09fb5f24y_80000gn/T/ipykernel_11826/3368081595.py:8: FutureWarning: Series.__getitem__ treating keys as positions is deprecated. In a future version, integer keys will always be treated as labels (consistent with DataFrame behavior). To access a value by position, use `ser.iloc[pos]`\n",
      "  date = b[2]\n"
     ]
    },
    {
     "name": "stdout",
     "output_type": "stream",
     "text": [
      "done!\n",
      "157, 0\n",
      "generating for 2018-10-07 Nikoloz Basilashvili, Juan Martin Del Potro\n"
     ]
    },
    {
     "name": "stderr",
     "output_type": "stream",
     "text": [
      "/var/folders/pt/zlhpwgms1r38l09fb5f24y_80000gn/T/ipykernel_11826/3368081595.py:6: FutureWarning: Series.__getitem__ treating keys as positions is deprecated. In a future version, integer keys will always be treated as labels (consistent with DataFrame behavior). To access a value by position, use `ser.iloc[pos]`\n",
      "  n1 = b[0]\n",
      "/var/folders/pt/zlhpwgms1r38l09fb5f24y_80000gn/T/ipykernel_11826/3368081595.py:7: FutureWarning: Series.__getitem__ treating keys as positions is deprecated. In a future version, integer keys will always be treated as labels (consistent with DataFrame behavior). To access a value by position, use `ser.iloc[pos]`\n",
      "  n2 = b[1]\n",
      "/var/folders/pt/zlhpwgms1r38l09fb5f24y_80000gn/T/ipykernel_11826/3368081595.py:8: FutureWarning: Series.__getitem__ treating keys as positions is deprecated. In a future version, integer keys will always be treated as labels (consistent with DataFrame behavior). To access a value by position, use `ser.iloc[pos]`\n",
      "  date = b[2]\n"
     ]
    },
    {
     "name": "stdout",
     "output_type": "stream",
     "text": [
      "done!\n",
      "158, 0\n",
      "generating for 2018-10-04 Richard Gasquet, Nick Kyrgios\n"
     ]
    },
    {
     "name": "stderr",
     "output_type": "stream",
     "text": [
      "/var/folders/pt/zlhpwgms1r38l09fb5f24y_80000gn/T/ipykernel_11826/3368081595.py:6: FutureWarning: Series.__getitem__ treating keys as positions is deprecated. In a future version, integer keys will always be treated as labels (consistent with DataFrame behavior). To access a value by position, use `ser.iloc[pos]`\n",
      "  n1 = b[0]\n",
      "/var/folders/pt/zlhpwgms1r38l09fb5f24y_80000gn/T/ipykernel_11826/3368081595.py:7: FutureWarning: Series.__getitem__ treating keys as positions is deprecated. In a future version, integer keys will always be treated as labels (consistent with DataFrame behavior). To access a value by position, use `ser.iloc[pos]`\n",
      "  n2 = b[1]\n",
      "/var/folders/pt/zlhpwgms1r38l09fb5f24y_80000gn/T/ipykernel_11826/3368081595.py:8: FutureWarning: Series.__getitem__ treating keys as positions is deprecated. In a future version, integer keys will always be treated as labels (consistent with DataFrame behavior). To access a value by position, use `ser.iloc[pos]`\n",
      "  date = b[2]\n"
     ]
    },
    {
     "name": "stdout",
     "output_type": "stream",
     "text": [
      "done!\n",
      "159, 0\n",
      "generating for 2018-10-05 Kei Nishikori, Stefanos Tsitsipas\n"
     ]
    },
    {
     "name": "stderr",
     "output_type": "stream",
     "text": [
      "/var/folders/pt/zlhpwgms1r38l09fb5f24y_80000gn/T/ipykernel_11826/3368081595.py:6: FutureWarning: Series.__getitem__ treating keys as positions is deprecated. In a future version, integer keys will always be treated as labels (consistent with DataFrame behavior). To access a value by position, use `ser.iloc[pos]`\n",
      "  n1 = b[0]\n",
      "/var/folders/pt/zlhpwgms1r38l09fb5f24y_80000gn/T/ipykernel_11826/3368081595.py:7: FutureWarning: Series.__getitem__ treating keys as positions is deprecated. In a future version, integer keys will always be treated as labels (consistent with DataFrame behavior). To access a value by position, use `ser.iloc[pos]`\n",
      "  n2 = b[1]\n",
      "/var/folders/pt/zlhpwgms1r38l09fb5f24y_80000gn/T/ipykernel_11826/3368081595.py:8: FutureWarning: Series.__getitem__ treating keys as positions is deprecated. In a future version, integer keys will always be treated as labels (consistent with DataFrame behavior). To access a value by position, use `ser.iloc[pos]`\n",
      "  date = b[2]\n"
     ]
    },
    {
     "name": "stdout",
     "output_type": "stream",
     "text": [
      "done!\n",
      "160, 0\n",
      "generating for 2018-10-09 Benoit Paire, Pablo Carreno Busta\n"
     ]
    },
    {
     "name": "stderr",
     "output_type": "stream",
     "text": [
      "/var/folders/pt/zlhpwgms1r38l09fb5f24y_80000gn/T/ipykernel_11826/3368081595.py:6: FutureWarning: Series.__getitem__ treating keys as positions is deprecated. In a future version, integer keys will always be treated as labels (consistent with DataFrame behavior). To access a value by position, use `ser.iloc[pos]`\n",
      "  n1 = b[0]\n",
      "/var/folders/pt/zlhpwgms1r38l09fb5f24y_80000gn/T/ipykernel_11826/3368081595.py:7: FutureWarning: Series.__getitem__ treating keys as positions is deprecated. In a future version, integer keys will always be treated as labels (consistent with DataFrame behavior). To access a value by position, use `ser.iloc[pos]`\n",
      "  n2 = b[1]\n",
      "/var/folders/pt/zlhpwgms1r38l09fb5f24y_80000gn/T/ipykernel_11826/3368081595.py:8: FutureWarning: Series.__getitem__ treating keys as positions is deprecated. In a future version, integer keys will always be treated as labels (consistent with DataFrame behavior). To access a value by position, use `ser.iloc[pos]`\n",
      "  date = b[2]\n"
     ]
    },
    {
     "name": "stdout",
     "output_type": "stream",
     "text": [
      "done!\n",
      "161, 0\n",
      "generating for 2018-10-10 Alexander Zverev, Nikoloz Basilashvili\n"
     ]
    },
    {
     "name": "stderr",
     "output_type": "stream",
     "text": [
      "/var/folders/pt/zlhpwgms1r38l09fb5f24y_80000gn/T/ipykernel_11826/3368081595.py:6: FutureWarning: Series.__getitem__ treating keys as positions is deprecated. In a future version, integer keys will always be treated as labels (consistent with DataFrame behavior). To access a value by position, use `ser.iloc[pos]`\n",
      "  n1 = b[0]\n",
      "/var/folders/pt/zlhpwgms1r38l09fb5f24y_80000gn/T/ipykernel_11826/3368081595.py:7: FutureWarning: Series.__getitem__ treating keys as positions is deprecated. In a future version, integer keys will always be treated as labels (consistent with DataFrame behavior). To access a value by position, use `ser.iloc[pos]`\n",
      "  n2 = b[1]\n",
      "/var/folders/pt/zlhpwgms1r38l09fb5f24y_80000gn/T/ipykernel_11826/3368081595.py:8: FutureWarning: Series.__getitem__ treating keys as positions is deprecated. In a future version, integer keys will always be treated as labels (consistent with DataFrame behavior). To access a value by position, use `ser.iloc[pos]`\n",
      "  date = b[2]\n"
     ]
    },
    {
     "name": "stdout",
     "output_type": "stream",
     "text": [
      "done!\n",
      "162, 0\n",
      "generating for 2018-10-10 Alex De Minaur, Benoit Paire\n"
     ]
    },
    {
     "name": "stderr",
     "output_type": "stream",
     "text": [
      "/var/folders/pt/zlhpwgms1r38l09fb5f24y_80000gn/T/ipykernel_11826/3368081595.py:6: FutureWarning: Series.__getitem__ treating keys as positions is deprecated. In a future version, integer keys will always be treated as labels (consistent with DataFrame behavior). To access a value by position, use `ser.iloc[pos]`\n",
      "  n1 = b[0]\n",
      "/var/folders/pt/zlhpwgms1r38l09fb5f24y_80000gn/T/ipykernel_11826/3368081595.py:7: FutureWarning: Series.__getitem__ treating keys as positions is deprecated. In a future version, integer keys will always be treated as labels (consistent with DataFrame behavior). To access a value by position, use `ser.iloc[pos]`\n",
      "  n2 = b[1]\n",
      "/var/folders/pt/zlhpwgms1r38l09fb5f24y_80000gn/T/ipykernel_11826/3368081595.py:8: FutureWarning: Series.__getitem__ treating keys as positions is deprecated. In a future version, integer keys will always be treated as labels (consistent with DataFrame behavior). To access a value by position, use `ser.iloc[pos]`\n",
      "  date = b[2]\n"
     ]
    },
    {
     "name": "stdout",
     "output_type": "stream",
     "text": [
      "done!\n",
      "163, 0\n",
      "generating for 2018-10-10 Juan Martin Del Potro, Richard Gasquet\n"
     ]
    },
    {
     "name": "stderr",
     "output_type": "stream",
     "text": [
      "/var/folders/pt/zlhpwgms1r38l09fb5f24y_80000gn/T/ipykernel_11826/3368081595.py:6: FutureWarning: Series.__getitem__ treating keys as positions is deprecated. In a future version, integer keys will always be treated as labels (consistent with DataFrame behavior). To access a value by position, use `ser.iloc[pos]`\n",
      "  n1 = b[0]\n",
      "/var/folders/pt/zlhpwgms1r38l09fb5f24y_80000gn/T/ipykernel_11826/3368081595.py:7: FutureWarning: Series.__getitem__ treating keys as positions is deprecated. In a future version, integer keys will always be treated as labels (consistent with DataFrame behavior). To access a value by position, use `ser.iloc[pos]`\n",
      "  n2 = b[1]\n",
      "/var/folders/pt/zlhpwgms1r38l09fb5f24y_80000gn/T/ipykernel_11826/3368081595.py:8: FutureWarning: Series.__getitem__ treating keys as positions is deprecated. In a future version, integer keys will always be treated as labels (consistent with DataFrame behavior). To access a value by position, use `ser.iloc[pos]`\n",
      "  date = b[2]\n"
     ]
    },
    {
     "name": "stdout",
     "output_type": "stream",
     "text": [
      "done!\n",
      "164, 0\n",
      "generating for 2018-10-10 Roger Federer, Daniil Medvedev\n"
     ]
    },
    {
     "name": "stderr",
     "output_type": "stream",
     "text": [
      "/var/folders/pt/zlhpwgms1r38l09fb5f24y_80000gn/T/ipykernel_11826/3368081595.py:6: FutureWarning: Series.__getitem__ treating keys as positions is deprecated. In a future version, integer keys will always be treated as labels (consistent with DataFrame behavior). To access a value by position, use `ser.iloc[pos]`\n",
      "  n1 = b[0]\n",
      "/var/folders/pt/zlhpwgms1r38l09fb5f24y_80000gn/T/ipykernel_11826/3368081595.py:7: FutureWarning: Series.__getitem__ treating keys as positions is deprecated. In a future version, integer keys will always be treated as labels (consistent with DataFrame behavior). To access a value by position, use `ser.iloc[pos]`\n",
      "  n2 = b[1]\n",
      "/var/folders/pt/zlhpwgms1r38l09fb5f24y_80000gn/T/ipykernel_11826/3368081595.py:8: FutureWarning: Series.__getitem__ treating keys as positions is deprecated. In a future version, integer keys will always be treated as labels (consistent with DataFrame behavior). To access a value by position, use `ser.iloc[pos]`\n",
      "  date = b[2]\n"
     ]
    },
    {
     "name": "stdout",
     "output_type": "stream",
     "text": [
      "done!\n",
      "165, 0\n",
      "generating for 2018-10-11 Alexander Zverev, Alex De Minaur\n"
     ]
    },
    {
     "name": "stderr",
     "output_type": "stream",
     "text": [
      "/var/folders/pt/zlhpwgms1r38l09fb5f24y_80000gn/T/ipykernel_11826/3368081595.py:6: FutureWarning: Series.__getitem__ treating keys as positions is deprecated. In a future version, integer keys will always be treated as labels (consistent with DataFrame behavior). To access a value by position, use `ser.iloc[pos]`\n",
      "  n1 = b[0]\n",
      "/var/folders/pt/zlhpwgms1r38l09fb5f24y_80000gn/T/ipykernel_11826/3368081595.py:7: FutureWarning: Series.__getitem__ treating keys as positions is deprecated. In a future version, integer keys will always be treated as labels (consistent with DataFrame behavior). To access a value by position, use `ser.iloc[pos]`\n",
      "  n2 = b[1]\n",
      "/var/folders/pt/zlhpwgms1r38l09fb5f24y_80000gn/T/ipykernel_11826/3368081595.py:8: FutureWarning: Series.__getitem__ treating keys as positions is deprecated. In a future version, integer keys will always be treated as labels (consistent with DataFrame behavior). To access a value by position, use `ser.iloc[pos]`\n",
      "  date = b[2]\n"
     ]
    },
    {
     "name": "stdout",
     "output_type": "stream",
     "text": [
      "done!\n",
      "166, 0\n",
      "generating for 2018-10-11 Kevin Anderson, Stefanos Tsitsipas\n"
     ]
    },
    {
     "name": "stderr",
     "output_type": "stream",
     "text": [
      "/var/folders/pt/zlhpwgms1r38l09fb5f24y_80000gn/T/ipykernel_11826/3368081595.py:6: FutureWarning: Series.__getitem__ treating keys as positions is deprecated. In a future version, integer keys will always be treated as labels (consistent with DataFrame behavior). To access a value by position, use `ser.iloc[pos]`\n",
      "  n1 = b[0]\n",
      "/var/folders/pt/zlhpwgms1r38l09fb5f24y_80000gn/T/ipykernel_11826/3368081595.py:7: FutureWarning: Series.__getitem__ treating keys as positions is deprecated. In a future version, integer keys will always be treated as labels (consistent with DataFrame behavior). To access a value by position, use `ser.iloc[pos]`\n",
      "  n2 = b[1]\n",
      "/var/folders/pt/zlhpwgms1r38l09fb5f24y_80000gn/T/ipykernel_11826/3368081595.py:8: FutureWarning: Series.__getitem__ treating keys as positions is deprecated. In a future version, integer keys will always be treated as labels (consistent with DataFrame behavior). To access a value by position, use `ser.iloc[pos]`\n",
      "  date = b[2]\n"
     ]
    },
    {
     "name": "stdout",
     "output_type": "stream",
     "text": [
      "done!\n",
      "167, 0\n",
      "generating for 2018-10-11 Borna Coric, Juan Martin Del Potro\n"
     ]
    },
    {
     "name": "stderr",
     "output_type": "stream",
     "text": [
      "/var/folders/pt/zlhpwgms1r38l09fb5f24y_80000gn/T/ipykernel_11826/3368081595.py:6: FutureWarning: Series.__getitem__ treating keys as positions is deprecated. In a future version, integer keys will always be treated as labels (consistent with DataFrame behavior). To access a value by position, use `ser.iloc[pos]`\n",
      "  n1 = b[0]\n",
      "/var/folders/pt/zlhpwgms1r38l09fb5f24y_80000gn/T/ipykernel_11826/3368081595.py:7: FutureWarning: Series.__getitem__ treating keys as positions is deprecated. In a future version, integer keys will always be treated as labels (consistent with DataFrame behavior). To access a value by position, use `ser.iloc[pos]`\n",
      "  n2 = b[1]\n",
      "/var/folders/pt/zlhpwgms1r38l09fb5f24y_80000gn/T/ipykernel_11826/3368081595.py:8: FutureWarning: Series.__getitem__ treating keys as positions is deprecated. In a future version, integer keys will always be treated as labels (consistent with DataFrame behavior). To access a value by position, use `ser.iloc[pos]`\n",
      "  date = b[2]\n"
     ]
    },
    {
     "name": "stdout",
     "output_type": "stream",
     "text": [
      "done!\n",
      "168, 0\n",
      "generating for 2018-10-12 Roger Federer, Kei Nishikori\n"
     ]
    },
    {
     "name": "stderr",
     "output_type": "stream",
     "text": [
      "/var/folders/pt/zlhpwgms1r38l09fb5f24y_80000gn/T/ipykernel_11826/3368081595.py:6: FutureWarning: Series.__getitem__ treating keys as positions is deprecated. In a future version, integer keys will always be treated as labels (consistent with DataFrame behavior). To access a value by position, use `ser.iloc[pos]`\n",
      "  n1 = b[0]\n",
      "/var/folders/pt/zlhpwgms1r38l09fb5f24y_80000gn/T/ipykernel_11826/3368081595.py:7: FutureWarning: Series.__getitem__ treating keys as positions is deprecated. In a future version, integer keys will always be treated as labels (consistent with DataFrame behavior). To access a value by position, use `ser.iloc[pos]`\n",
      "  n2 = b[1]\n",
      "/var/folders/pt/zlhpwgms1r38l09fb5f24y_80000gn/T/ipykernel_11826/3368081595.py:8: FutureWarning: Series.__getitem__ treating keys as positions is deprecated. In a future version, integer keys will always be treated as labels (consistent with DataFrame behavior). To access a value by position, use `ser.iloc[pos]`\n",
      "  date = b[2]\n"
     ]
    },
    {
     "name": "stdout",
     "output_type": "stream",
     "text": [
      "done!\n",
      "169, 0\n",
      "generating for 2018-10-13 Novak Djokovic, Alexander Zverev\n"
     ]
    },
    {
     "name": "stderr",
     "output_type": "stream",
     "text": [
      "/var/folders/pt/zlhpwgms1r38l09fb5f24y_80000gn/T/ipykernel_11826/3368081595.py:6: FutureWarning: Series.__getitem__ treating keys as positions is deprecated. In a future version, integer keys will always be treated as labels (consistent with DataFrame behavior). To access a value by position, use `ser.iloc[pos]`\n",
      "  n1 = b[0]\n",
      "/var/folders/pt/zlhpwgms1r38l09fb5f24y_80000gn/T/ipykernel_11826/3368081595.py:7: FutureWarning: Series.__getitem__ treating keys as positions is deprecated. In a future version, integer keys will always be treated as labels (consistent with DataFrame behavior). To access a value by position, use `ser.iloc[pos]`\n",
      "  n2 = b[1]\n",
      "/var/folders/pt/zlhpwgms1r38l09fb5f24y_80000gn/T/ipykernel_11826/3368081595.py:8: FutureWarning: Series.__getitem__ treating keys as positions is deprecated. In a future version, integer keys will always be treated as labels (consistent with DataFrame behavior). To access a value by position, use `ser.iloc[pos]`\n",
      "  date = b[2]\n"
     ]
    },
    {
     "name": "stdout",
     "output_type": "stream",
     "text": [
      "done!\n",
      "170, 0\n",
      "generating for 2018-10-14 Novak Djokovic, Borna Coric\n"
     ]
    },
    {
     "name": "stderr",
     "output_type": "stream",
     "text": [
      "/var/folders/pt/zlhpwgms1r38l09fb5f24y_80000gn/T/ipykernel_11826/3368081595.py:6: FutureWarning: Series.__getitem__ treating keys as positions is deprecated. In a future version, integer keys will always be treated as labels (consistent with DataFrame behavior). To access a value by position, use `ser.iloc[pos]`\n",
      "  n1 = b[0]\n",
      "/var/folders/pt/zlhpwgms1r38l09fb5f24y_80000gn/T/ipykernel_11826/3368081595.py:7: FutureWarning: Series.__getitem__ treating keys as positions is deprecated. In a future version, integer keys will always be treated as labels (consistent with DataFrame behavior). To access a value by position, use `ser.iloc[pos]`\n",
      "  n2 = b[1]\n",
      "/var/folders/pt/zlhpwgms1r38l09fb5f24y_80000gn/T/ipykernel_11826/3368081595.py:8: FutureWarning: Series.__getitem__ treating keys as positions is deprecated. In a future version, integer keys will always be treated as labels (consistent with DataFrame behavior). To access a value by position, use `ser.iloc[pos]`\n",
      "  date = b[2]\n"
     ]
    },
    {
     "name": "stdout",
     "output_type": "stream",
     "text": [
      "done!\n",
      "171, 0\n",
      "generating for 2018-10-19 Richard Gasquet, Jan Lennard Struff\n"
     ]
    },
    {
     "name": "stderr",
     "output_type": "stream",
     "text": [
      "/var/folders/pt/zlhpwgms1r38l09fb5f24y_80000gn/T/ipykernel_11826/3368081595.py:6: FutureWarning: Series.__getitem__ treating keys as positions is deprecated. In a future version, integer keys will always be treated as labels (consistent with DataFrame behavior). To access a value by position, use `ser.iloc[pos]`\n",
      "  n1 = b[0]\n",
      "/var/folders/pt/zlhpwgms1r38l09fb5f24y_80000gn/T/ipykernel_11826/3368081595.py:7: FutureWarning: Series.__getitem__ treating keys as positions is deprecated. In a future version, integer keys will always be treated as labels (consistent with DataFrame behavior). To access a value by position, use `ser.iloc[pos]`\n",
      "  n2 = b[1]\n",
      "/var/folders/pt/zlhpwgms1r38l09fb5f24y_80000gn/T/ipykernel_11826/3368081595.py:8: FutureWarning: Series.__getitem__ treating keys as positions is deprecated. In a future version, integer keys will always be treated as labels (consistent with DataFrame behavior). To access a value by position, use `ser.iloc[pos]`\n",
      "  date = b[2]\n"
     ]
    },
    {
     "name": "stdout",
     "output_type": "stream",
     "text": [
      "done!\n",
      "172, 0\n",
      "generating for 2018-10-18 Mirza Basic, Nick Kyrgios\n"
     ]
    },
    {
     "name": "stderr",
     "output_type": "stream",
     "text": [
      "/var/folders/pt/zlhpwgms1r38l09fb5f24y_80000gn/T/ipykernel_11826/3368081595.py:6: FutureWarning: Series.__getitem__ treating keys as positions is deprecated. In a future version, integer keys will always be treated as labels (consistent with DataFrame behavior). To access a value by position, use `ser.iloc[pos]`\n",
      "  n1 = b[0]\n",
      "/var/folders/pt/zlhpwgms1r38l09fb5f24y_80000gn/T/ipykernel_11826/3368081595.py:7: FutureWarning: Series.__getitem__ treating keys as positions is deprecated. In a future version, integer keys will always be treated as labels (consistent with DataFrame behavior). To access a value by position, use `ser.iloc[pos]`\n",
      "  n2 = b[1]\n",
      "/var/folders/pt/zlhpwgms1r38l09fb5f24y_80000gn/T/ipykernel_11826/3368081595.py:8: FutureWarning: Series.__getitem__ treating keys as positions is deprecated. In a future version, integer keys will always be treated as labels (consistent with DataFrame behavior). To access a value by position, use `ser.iloc[pos]`\n",
      "  date = b[2]\n"
     ]
    },
    {
     "name": "stdout",
     "output_type": "stream",
     "text": [
      "done!\n",
      "173, 0\n",
      "generating for 2018-10-19 Karen Khachanov, Mirza Basic\n"
     ]
    },
    {
     "name": "stderr",
     "output_type": "stream",
     "text": [
      "/var/folders/pt/zlhpwgms1r38l09fb5f24y_80000gn/T/ipykernel_11826/3368081595.py:6: FutureWarning: Series.__getitem__ treating keys as positions is deprecated. In a future version, integer keys will always be treated as labels (consistent with DataFrame behavior). To access a value by position, use `ser.iloc[pos]`\n",
      "  n1 = b[0]\n",
      "/var/folders/pt/zlhpwgms1r38l09fb5f24y_80000gn/T/ipykernel_11826/3368081595.py:7: FutureWarning: Series.__getitem__ treating keys as positions is deprecated. In a future version, integer keys will always be treated as labels (consistent with DataFrame behavior). To access a value by position, use `ser.iloc[pos]`\n",
      "  n2 = b[1]\n",
      "/var/folders/pt/zlhpwgms1r38l09fb5f24y_80000gn/T/ipykernel_11826/3368081595.py:8: FutureWarning: Series.__getitem__ treating keys as positions is deprecated. In a future version, integer keys will always be treated as labels (consistent with DataFrame behavior). To access a value by position, use `ser.iloc[pos]`\n",
      "  date = b[2]\n"
     ]
    },
    {
     "name": "stdout",
     "output_type": "stream",
     "text": [
      "done!\n",
      "174, 0\n",
      "generating for 2018-10-26 Roger Federer, Gilles Simon\n"
     ]
    },
    {
     "name": "stderr",
     "output_type": "stream",
     "text": [
      "/var/folders/pt/zlhpwgms1r38l09fb5f24y_80000gn/T/ipykernel_11826/3368081595.py:6: FutureWarning: Series.__getitem__ treating keys as positions is deprecated. In a future version, integer keys will always be treated as labels (consistent with DataFrame behavior). To access a value by position, use `ser.iloc[pos]`\n",
      "  n1 = b[0]\n",
      "/var/folders/pt/zlhpwgms1r38l09fb5f24y_80000gn/T/ipykernel_11826/3368081595.py:7: FutureWarning: Series.__getitem__ treating keys as positions is deprecated. In a future version, integer keys will always be treated as labels (consistent with DataFrame behavior). To access a value by position, use `ser.iloc[pos]`\n",
      "  n2 = b[1]\n",
      "/var/folders/pt/zlhpwgms1r38l09fb5f24y_80000gn/T/ipykernel_11826/3368081595.py:8: FutureWarning: Series.__getitem__ treating keys as positions is deprecated. In a future version, integer keys will always be treated as labels (consistent with DataFrame behavior). To access a value by position, use `ser.iloc[pos]`\n",
      "  date = b[2]\n"
     ]
    },
    {
     "name": "stdout",
     "output_type": "stream",
     "text": [
      "done!\n",
      "175, 0\n",
      "generating for 2018-10-26 Daniil Medvedev, Stefanos Tsitsipas\n"
     ]
    },
    {
     "name": "stderr",
     "output_type": "stream",
     "text": [
      "/var/folders/pt/zlhpwgms1r38l09fb5f24y_80000gn/T/ipykernel_11826/3368081595.py:6: FutureWarning: Series.__getitem__ treating keys as positions is deprecated. In a future version, integer keys will always be treated as labels (consistent with DataFrame behavior). To access a value by position, use `ser.iloc[pos]`\n",
      "  n1 = b[0]\n",
      "/var/folders/pt/zlhpwgms1r38l09fb5f24y_80000gn/T/ipykernel_11826/3368081595.py:7: FutureWarning: Series.__getitem__ treating keys as positions is deprecated. In a future version, integer keys will always be treated as labels (consistent with DataFrame behavior). To access a value by position, use `ser.iloc[pos]`\n",
      "  n2 = b[1]\n",
      "/var/folders/pt/zlhpwgms1r38l09fb5f24y_80000gn/T/ipykernel_11826/3368081595.py:8: FutureWarning: Series.__getitem__ treating keys as positions is deprecated. In a future version, integer keys will always be treated as labels (consistent with DataFrame behavior). To access a value by position, use `ser.iloc[pos]`\n",
      "  date = b[2]\n"
     ]
    },
    {
     "name": "stdout",
     "output_type": "stream",
     "text": [
      "done!\n",
      "176, 0\n",
      "generating for 2018-10-27 Roger Federer, Daniil Medvedev\n"
     ]
    },
    {
     "name": "stderr",
     "output_type": "stream",
     "text": [
      "/var/folders/pt/zlhpwgms1r38l09fb5f24y_80000gn/T/ipykernel_11826/3368081595.py:6: FutureWarning: Series.__getitem__ treating keys as positions is deprecated. In a future version, integer keys will always be treated as labels (consistent with DataFrame behavior). To access a value by position, use `ser.iloc[pos]`\n",
      "  n1 = b[0]\n",
      "/var/folders/pt/zlhpwgms1r38l09fb5f24y_80000gn/T/ipykernel_11826/3368081595.py:7: FutureWarning: Series.__getitem__ treating keys as positions is deprecated. In a future version, integer keys will always be treated as labels (consistent with DataFrame behavior). To access a value by position, use `ser.iloc[pos]`\n",
      "  n2 = b[1]\n",
      "/var/folders/pt/zlhpwgms1r38l09fb5f24y_80000gn/T/ipykernel_11826/3368081595.py:8: FutureWarning: Series.__getitem__ treating keys as positions is deprecated. In a future version, integer keys will always be treated as labels (consistent with DataFrame behavior). To access a value by position, use `ser.iloc[pos]`\n",
      "  date = b[2]\n"
     ]
    },
    {
     "name": "stdout",
     "output_type": "stream",
     "text": [
      "done!\n",
      "177, 0\n",
      "generating for 2018-10-28 Roger Federer, Marius Copil\n"
     ]
    },
    {
     "name": "stderr",
     "output_type": "stream",
     "text": [
      "/var/folders/pt/zlhpwgms1r38l09fb5f24y_80000gn/T/ipykernel_11826/3368081595.py:6: FutureWarning: Series.__getitem__ treating keys as positions is deprecated. In a future version, integer keys will always be treated as labels (consistent with DataFrame behavior). To access a value by position, use `ser.iloc[pos]`\n",
      "  n1 = b[0]\n",
      "/var/folders/pt/zlhpwgms1r38l09fb5f24y_80000gn/T/ipykernel_11826/3368081595.py:7: FutureWarning: Series.__getitem__ treating keys as positions is deprecated. In a future version, integer keys will always be treated as labels (consistent with DataFrame behavior). To access a value by position, use `ser.iloc[pos]`\n",
      "  n2 = b[1]\n",
      "/var/folders/pt/zlhpwgms1r38l09fb5f24y_80000gn/T/ipykernel_11826/3368081595.py:8: FutureWarning: Series.__getitem__ treating keys as positions is deprecated. In a future version, integer keys will always be treated as labels (consistent with DataFrame behavior). To access a value by position, use `ser.iloc[pos]`\n",
      "  date = b[2]\n"
     ]
    },
    {
     "name": "stdout",
     "output_type": "stream",
     "text": [
      "done!\n",
      "178, 0\n",
      "generating for 2018-10-23 Sam Querrey, Jo Wilfried Tsonga\n"
     ]
    },
    {
     "name": "stderr",
     "output_type": "stream",
     "text": [
      "/var/folders/pt/zlhpwgms1r38l09fb5f24y_80000gn/T/ipykernel_11826/3368081595.py:6: FutureWarning: Series.__getitem__ treating keys as positions is deprecated. In a future version, integer keys will always be treated as labels (consistent with DataFrame behavior). To access a value by position, use `ser.iloc[pos]`\n",
      "  n1 = b[0]\n",
      "/var/folders/pt/zlhpwgms1r38l09fb5f24y_80000gn/T/ipykernel_11826/3368081595.py:7: FutureWarning: Series.__getitem__ treating keys as positions is deprecated. In a future version, integer keys will always be treated as labels (consistent with DataFrame behavior). To access a value by position, use `ser.iloc[pos]`\n",
      "  n2 = b[1]\n",
      "/var/folders/pt/zlhpwgms1r38l09fb5f24y_80000gn/T/ipykernel_11826/3368081595.py:8: FutureWarning: Series.__getitem__ treating keys as positions is deprecated. In a future version, integer keys will always be treated as labels (consistent with DataFrame behavior). To access a value by position, use `ser.iloc[pos]`\n",
      "  date = b[2]\n"
     ]
    },
    {
     "name": "stdout",
     "output_type": "stream",
     "text": [
      "done!\n",
      "179, 0\n",
      "generating for 2018-10-26 Kei Nishikori, Dominic Thiem\n"
     ]
    },
    {
     "name": "stderr",
     "output_type": "stream",
     "text": [
      "/var/folders/pt/zlhpwgms1r38l09fb5f24y_80000gn/T/ipykernel_11826/3368081595.py:6: FutureWarning: Series.__getitem__ treating keys as positions is deprecated. In a future version, integer keys will always be treated as labels (consistent with DataFrame behavior). To access a value by position, use `ser.iloc[pos]`\n",
      "  n1 = b[0]\n",
      "/var/folders/pt/zlhpwgms1r38l09fb5f24y_80000gn/T/ipykernel_11826/3368081595.py:7: FutureWarning: Series.__getitem__ treating keys as positions is deprecated. In a future version, integer keys will always be treated as labels (consistent with DataFrame behavior). To access a value by position, use `ser.iloc[pos]`\n",
      "  n2 = b[1]\n",
      "/var/folders/pt/zlhpwgms1r38l09fb5f24y_80000gn/T/ipykernel_11826/3368081595.py:8: FutureWarning: Series.__getitem__ treating keys as positions is deprecated. In a future version, integer keys will always be treated as labels (consistent with DataFrame behavior). To access a value by position, use `ser.iloc[pos]`\n",
      "  date = b[2]\n"
     ]
    },
    {
     "name": "stdout",
     "output_type": "stream",
     "text": [
      "done!\n",
      "180, 0\n",
      "generating for 2018-10-28 Kevin Anderson, Kei Nishikori\n"
     ]
    },
    {
     "name": "stderr",
     "output_type": "stream",
     "text": [
      "/var/folders/pt/zlhpwgms1r38l09fb5f24y_80000gn/T/ipykernel_11826/3368081595.py:6: FutureWarning: Series.__getitem__ treating keys as positions is deprecated. In a future version, integer keys will always be treated as labels (consistent with DataFrame behavior). To access a value by position, use `ser.iloc[pos]`\n",
      "  n1 = b[0]\n",
      "/var/folders/pt/zlhpwgms1r38l09fb5f24y_80000gn/T/ipykernel_11826/3368081595.py:7: FutureWarning: Series.__getitem__ treating keys as positions is deprecated. In a future version, integer keys will always be treated as labels (consistent with DataFrame behavior). To access a value by position, use `ser.iloc[pos]`\n",
      "  n2 = b[1]\n",
      "/var/folders/pt/zlhpwgms1r38l09fb5f24y_80000gn/T/ipykernel_11826/3368081595.py:8: FutureWarning: Series.__getitem__ treating keys as positions is deprecated. In a future version, integer keys will always be treated as labels (consistent with DataFrame behavior). To access a value by position, use `ser.iloc[pos]`\n",
      "  date = b[2]\n"
     ]
    },
    {
     "name": "stdout",
     "output_type": "stream",
     "text": [
      "done!\n",
      "181, 0\n",
      "generating for 2018-10-29 Nikoloz Basilashvili, John Millman\n"
     ]
    },
    {
     "name": "stderr",
     "output_type": "stream",
     "text": [
      "/var/folders/pt/zlhpwgms1r38l09fb5f24y_80000gn/T/ipykernel_11826/3368081595.py:6: FutureWarning: Series.__getitem__ treating keys as positions is deprecated. In a future version, integer keys will always be treated as labels (consistent with DataFrame behavior). To access a value by position, use `ser.iloc[pos]`\n",
      "  n1 = b[0]\n",
      "/var/folders/pt/zlhpwgms1r38l09fb5f24y_80000gn/T/ipykernel_11826/3368081595.py:7: FutureWarning: Series.__getitem__ treating keys as positions is deprecated. In a future version, integer keys will always be treated as labels (consistent with DataFrame behavior). To access a value by position, use `ser.iloc[pos]`\n",
      "  n2 = b[1]\n",
      "/var/folders/pt/zlhpwgms1r38l09fb5f24y_80000gn/T/ipykernel_11826/3368081595.py:8: FutureWarning: Series.__getitem__ treating keys as positions is deprecated. In a future version, integer keys will always be treated as labels (consistent with DataFrame behavior). To access a value by position, use `ser.iloc[pos]`\n",
      "  date = b[2]\n"
     ]
    },
    {
     "name": "stdout",
     "output_type": "stream",
     "text": [
      "done!\n",
      "182, 0\n",
      "generating for 2018-10-29 Joao Sousa, Marco Cecchinato\n"
     ]
    },
    {
     "name": "stderr",
     "output_type": "stream",
     "text": [
      "/var/folders/pt/zlhpwgms1r38l09fb5f24y_80000gn/T/ipykernel_11826/3368081595.py:6: FutureWarning: Series.__getitem__ treating keys as positions is deprecated. In a future version, integer keys will always be treated as labels (consistent with DataFrame behavior). To access a value by position, use `ser.iloc[pos]`\n",
      "  n1 = b[0]\n",
      "/var/folders/pt/zlhpwgms1r38l09fb5f24y_80000gn/T/ipykernel_11826/3368081595.py:7: FutureWarning: Series.__getitem__ treating keys as positions is deprecated. In a future version, integer keys will always be treated as labels (consistent with DataFrame behavior). To access a value by position, use `ser.iloc[pos]`\n",
      "  n2 = b[1]\n",
      "/var/folders/pt/zlhpwgms1r38l09fb5f24y_80000gn/T/ipykernel_11826/3368081595.py:8: FutureWarning: Series.__getitem__ treating keys as positions is deprecated. In a future version, integer keys will always be treated as labels (consistent with DataFrame behavior). To access a value by position, use `ser.iloc[pos]`\n",
      "  date = b[2]\n"
     ]
    },
    {
     "name": "stdout",
     "output_type": "stream",
     "text": [
      "done!\n",
      "183, 0\n",
      "generating for 2018-10-30 Daniil Medvedev, Pablo Carreno Busta\n"
     ]
    },
    {
     "name": "stderr",
     "output_type": "stream",
     "text": [
      "/var/folders/pt/zlhpwgms1r38l09fb5f24y_80000gn/T/ipykernel_11826/3368081595.py:6: FutureWarning: Series.__getitem__ treating keys as positions is deprecated. In a future version, integer keys will always be treated as labels (consistent with DataFrame behavior). To access a value by position, use `ser.iloc[pos]`\n",
      "  n1 = b[0]\n",
      "/var/folders/pt/zlhpwgms1r38l09fb5f24y_80000gn/T/ipykernel_11826/3368081595.py:7: FutureWarning: Series.__getitem__ treating keys as positions is deprecated. In a future version, integer keys will always be treated as labels (consistent with DataFrame behavior). To access a value by position, use `ser.iloc[pos]`\n",
      "  n2 = b[1]\n",
      "/var/folders/pt/zlhpwgms1r38l09fb5f24y_80000gn/T/ipykernel_11826/3368081595.py:8: FutureWarning: Series.__getitem__ treating keys as positions is deprecated. In a future version, integer keys will always be treated as labels (consistent with DataFrame behavior). To access a value by position, use `ser.iloc[pos]`\n",
      "  date = b[2]\n"
     ]
    },
    {
     "name": "stdout",
     "output_type": "stream",
     "text": [
      "done!\n",
      "184, 0\n",
      "generating for 2018-10-30 Damir Dzumhur, Stefanos Tsitsipas\n"
     ]
    },
    {
     "name": "stderr",
     "output_type": "stream",
     "text": [
      "/var/folders/pt/zlhpwgms1r38l09fb5f24y_80000gn/T/ipykernel_11826/3368081595.py:6: FutureWarning: Series.__getitem__ treating keys as positions is deprecated. In a future version, integer keys will always be treated as labels (consistent with DataFrame behavior). To access a value by position, use `ser.iloc[pos]`\n",
      "  n1 = b[0]\n",
      "/var/folders/pt/zlhpwgms1r38l09fb5f24y_80000gn/T/ipykernel_11826/3368081595.py:7: FutureWarning: Series.__getitem__ treating keys as positions is deprecated. In a future version, integer keys will always be treated as labels (consistent with DataFrame behavior). To access a value by position, use `ser.iloc[pos]`\n",
      "  n2 = b[1]\n",
      "/var/folders/pt/zlhpwgms1r38l09fb5f24y_80000gn/T/ipykernel_11826/3368081595.py:8: FutureWarning: Series.__getitem__ treating keys as positions is deprecated. In a future version, integer keys will always be treated as labels (consistent with DataFrame behavior). To access a value by position, use `ser.iloc[pos]`\n",
      "  date = b[2]\n"
     ]
    },
    {
     "name": "stdout",
     "output_type": "stream",
     "text": [
      "done!\n",
      "185, 0\n",
      "generating for 2018-10-30 Marin Cilic, Philipp Kohlschreiber\n"
     ]
    },
    {
     "name": "stderr",
     "output_type": "stream",
     "text": [
      "/var/folders/pt/zlhpwgms1r38l09fb5f24y_80000gn/T/ipykernel_11826/3368081595.py:6: FutureWarning: Series.__getitem__ treating keys as positions is deprecated. In a future version, integer keys will always be treated as labels (consistent with DataFrame behavior). To access a value by position, use `ser.iloc[pos]`\n",
      "  n1 = b[0]\n",
      "/var/folders/pt/zlhpwgms1r38l09fb5f24y_80000gn/T/ipykernel_11826/3368081595.py:7: FutureWarning: Series.__getitem__ treating keys as positions is deprecated. In a future version, integer keys will always be treated as labels (consistent with DataFrame behavior). To access a value by position, use `ser.iloc[pos]`\n",
      "  n2 = b[1]\n",
      "/var/folders/pt/zlhpwgms1r38l09fb5f24y_80000gn/T/ipykernel_11826/3368081595.py:8: FutureWarning: Series.__getitem__ treating keys as positions is deprecated. In a future version, integer keys will always be treated as labels (consistent with DataFrame behavior). To access a value by position, use `ser.iloc[pos]`\n",
      "  date = b[2]\n"
     ]
    },
    {
     "name": "stdout",
     "output_type": "stream",
     "text": [
      "done!\n",
      "186, 0\n",
      "generating for 2018-10-31 Dominic Thiem, Gilles Simon\n"
     ]
    },
    {
     "name": "stderr",
     "output_type": "stream",
     "text": [
      "/var/folders/pt/zlhpwgms1r38l09fb5f24y_80000gn/T/ipykernel_11826/3368081595.py:6: FutureWarning: Series.__getitem__ treating keys as positions is deprecated. In a future version, integer keys will always be treated as labels (consistent with DataFrame behavior). To access a value by position, use `ser.iloc[pos]`\n",
      "  n1 = b[0]\n",
      "/var/folders/pt/zlhpwgms1r38l09fb5f24y_80000gn/T/ipykernel_11826/3368081595.py:7: FutureWarning: Series.__getitem__ treating keys as positions is deprecated. In a future version, integer keys will always be treated as labels (consistent with DataFrame behavior). To access a value by position, use `ser.iloc[pos]`\n",
      "  n2 = b[1]\n",
      "/var/folders/pt/zlhpwgms1r38l09fb5f24y_80000gn/T/ipykernel_11826/3368081595.py:8: FutureWarning: Series.__getitem__ treating keys as positions is deprecated. In a future version, integer keys will always be treated as labels (consistent with DataFrame behavior). To access a value by position, use `ser.iloc[pos]`\n",
      "  date = b[2]\n"
     ]
    },
    {
     "name": "stdout",
     "output_type": "stream",
     "text": [
      "done!\n",
      "187, 0\n",
      "generating for 2018-11-01 Alexander Zverev, Diego Schwartzman\n"
     ]
    },
    {
     "name": "stderr",
     "output_type": "stream",
     "text": [
      "/var/folders/pt/zlhpwgms1r38l09fb5f24y_80000gn/T/ipykernel_11826/3368081595.py:6: FutureWarning: Series.__getitem__ treating keys as positions is deprecated. In a future version, integer keys will always be treated as labels (consistent with DataFrame behavior). To access a value by position, use `ser.iloc[pos]`\n",
      "  n1 = b[0]\n",
      "/var/folders/pt/zlhpwgms1r38l09fb5f24y_80000gn/T/ipykernel_11826/3368081595.py:7: FutureWarning: Series.__getitem__ treating keys as positions is deprecated. In a future version, integer keys will always be treated as labels (consistent with DataFrame behavior). To access a value by position, use `ser.iloc[pos]`\n",
      "  n2 = b[1]\n",
      "/var/folders/pt/zlhpwgms1r38l09fb5f24y_80000gn/T/ipykernel_11826/3368081595.py:8: FutureWarning: Series.__getitem__ treating keys as positions is deprecated. In a future version, integer keys will always be treated as labels (consistent with DataFrame behavior). To access a value by position, use `ser.iloc[pos]`\n",
      "  date = b[2]\n"
     ]
    },
    {
     "name": "stdout",
     "output_type": "stream",
     "text": [
      "done!\n",
      "188, 0\n",
      "generating for 2018-11-01 Dominic Thiem, Borna Coric\n"
     ]
    },
    {
     "name": "stderr",
     "output_type": "stream",
     "text": [
      "/var/folders/pt/zlhpwgms1r38l09fb5f24y_80000gn/T/ipykernel_11826/3368081595.py:6: FutureWarning: Series.__getitem__ treating keys as positions is deprecated. In a future version, integer keys will always be treated as labels (consistent with DataFrame behavior). To access a value by position, use `ser.iloc[pos]`\n",
      "  n1 = b[0]\n",
      "/var/folders/pt/zlhpwgms1r38l09fb5f24y_80000gn/T/ipykernel_11826/3368081595.py:7: FutureWarning: Series.__getitem__ treating keys as positions is deprecated. In a future version, integer keys will always be treated as labels (consistent with DataFrame behavior). To access a value by position, use `ser.iloc[pos]`\n",
      "  n2 = b[1]\n",
      "/var/folders/pt/zlhpwgms1r38l09fb5f24y_80000gn/T/ipykernel_11826/3368081595.py:8: FutureWarning: Series.__getitem__ treating keys as positions is deprecated. In a future version, integer keys will always be treated as labels (consistent with DataFrame behavior). To access a value by position, use `ser.iloc[pos]`\n",
      "  date = b[2]\n"
     ]
    },
    {
     "name": "stdout",
     "output_type": "stream",
     "text": [
      "done!\n",
      "189, 0\n",
      "generating for 2018-11-01 Roger Federer, Fabio Fognini\n"
     ]
    },
    {
     "name": "stderr",
     "output_type": "stream",
     "text": [
      "/var/folders/pt/zlhpwgms1r38l09fb5f24y_80000gn/T/ipykernel_11826/3368081595.py:6: FutureWarning: Series.__getitem__ treating keys as positions is deprecated. In a future version, integer keys will always be treated as labels (consistent with DataFrame behavior). To access a value by position, use `ser.iloc[pos]`\n",
      "  n1 = b[0]\n",
      "/var/folders/pt/zlhpwgms1r38l09fb5f24y_80000gn/T/ipykernel_11826/3368081595.py:7: FutureWarning: Series.__getitem__ treating keys as positions is deprecated. In a future version, integer keys will always be treated as labels (consistent with DataFrame behavior). To access a value by position, use `ser.iloc[pos]`\n",
      "  n2 = b[1]\n",
      "/var/folders/pt/zlhpwgms1r38l09fb5f24y_80000gn/T/ipykernel_11826/3368081595.py:8: FutureWarning: Series.__getitem__ treating keys as positions is deprecated. In a future version, integer keys will always be treated as labels (consistent with DataFrame behavior). To access a value by position, use `ser.iloc[pos]`\n",
      "  date = b[2]\n"
     ]
    },
    {
     "name": "stdout",
     "output_type": "stream",
     "text": [
      "done!\n",
      "190, 0\n",
      "generating for 2018-11-01 Kei Nishikori, Kevin Anderson\n"
     ]
    },
    {
     "name": "stderr",
     "output_type": "stream",
     "text": [
      "/var/folders/pt/zlhpwgms1r38l09fb5f24y_80000gn/T/ipykernel_11826/3368081595.py:6: FutureWarning: Series.__getitem__ treating keys as positions is deprecated. In a future version, integer keys will always be treated as labels (consistent with DataFrame behavior). To access a value by position, use `ser.iloc[pos]`\n",
      "  n1 = b[0]\n",
      "/var/folders/pt/zlhpwgms1r38l09fb5f24y_80000gn/T/ipykernel_11826/3368081595.py:7: FutureWarning: Series.__getitem__ treating keys as positions is deprecated. In a future version, integer keys will always be treated as labels (consistent with DataFrame behavior). To access a value by position, use `ser.iloc[pos]`\n",
      "  n2 = b[1]\n",
      "/var/folders/pt/zlhpwgms1r38l09fb5f24y_80000gn/T/ipykernel_11826/3368081595.py:8: FutureWarning: Series.__getitem__ treating keys as positions is deprecated. In a future version, integer keys will always be treated as labels (consistent with DataFrame behavior). To access a value by position, use `ser.iloc[pos]`\n",
      "  date = b[2]\n"
     ]
    },
    {
     "name": "stdout",
     "output_type": "stream",
     "text": [
      "done!\n",
      "191, 0\n",
      "generating for 2018-11-02 Dominic Thiem, Jack Sock\n"
     ]
    },
    {
     "name": "stderr",
     "output_type": "stream",
     "text": [
      "/var/folders/pt/zlhpwgms1r38l09fb5f24y_80000gn/T/ipykernel_11826/3368081595.py:6: FutureWarning: Series.__getitem__ treating keys as positions is deprecated. In a future version, integer keys will always be treated as labels (consistent with DataFrame behavior). To access a value by position, use `ser.iloc[pos]`\n",
      "  n1 = b[0]\n",
      "/var/folders/pt/zlhpwgms1r38l09fb5f24y_80000gn/T/ipykernel_11826/3368081595.py:7: FutureWarning: Series.__getitem__ treating keys as positions is deprecated. In a future version, integer keys will always be treated as labels (consistent with DataFrame behavior). To access a value by position, use `ser.iloc[pos]`\n",
      "  n2 = b[1]\n",
      "/var/folders/pt/zlhpwgms1r38l09fb5f24y_80000gn/T/ipykernel_11826/3368081595.py:8: FutureWarning: Series.__getitem__ treating keys as positions is deprecated. In a future version, integer keys will always be treated as labels (consistent with DataFrame behavior). To access a value by position, use `ser.iloc[pos]`\n",
      "  date = b[2]\n"
     ]
    },
    {
     "name": "stdout",
     "output_type": "stream",
     "text": [
      "done!\n",
      "192, 0\n",
      "generating for 2018-11-02 Novak Djokovic, Marin Cilic\n"
     ]
    },
    {
     "name": "stderr",
     "output_type": "stream",
     "text": [
      "/var/folders/pt/zlhpwgms1r38l09fb5f24y_80000gn/T/ipykernel_11826/3368081595.py:6: FutureWarning: Series.__getitem__ treating keys as positions is deprecated. In a future version, integer keys will always be treated as labels (consistent with DataFrame behavior). To access a value by position, use `ser.iloc[pos]`\n",
      "  n1 = b[0]\n",
      "/var/folders/pt/zlhpwgms1r38l09fb5f24y_80000gn/T/ipykernel_11826/3368081595.py:7: FutureWarning: Series.__getitem__ treating keys as positions is deprecated. In a future version, integer keys will always be treated as labels (consistent with DataFrame behavior). To access a value by position, use `ser.iloc[pos]`\n",
      "  n2 = b[1]\n",
      "/var/folders/pt/zlhpwgms1r38l09fb5f24y_80000gn/T/ipykernel_11826/3368081595.py:8: FutureWarning: Series.__getitem__ treating keys as positions is deprecated. In a future version, integer keys will always be treated as labels (consistent with DataFrame behavior). To access a value by position, use `ser.iloc[pos]`\n",
      "  date = b[2]\n"
     ]
    },
    {
     "name": "stdout",
     "output_type": "stream",
     "text": [
      "done!\n",
      "193, 0\n",
      "generating for 2018-11-02 Roger Federer, Kei Nishikori\n"
     ]
    },
    {
     "name": "stderr",
     "output_type": "stream",
     "text": [
      "/var/folders/pt/zlhpwgms1r38l09fb5f24y_80000gn/T/ipykernel_11826/3368081595.py:6: FutureWarning: Series.__getitem__ treating keys as positions is deprecated. In a future version, integer keys will always be treated as labels (consistent with DataFrame behavior). To access a value by position, use `ser.iloc[pos]`\n",
      "  n1 = b[0]\n",
      "/var/folders/pt/zlhpwgms1r38l09fb5f24y_80000gn/T/ipykernel_11826/3368081595.py:7: FutureWarning: Series.__getitem__ treating keys as positions is deprecated. In a future version, integer keys will always be treated as labels (consistent with DataFrame behavior). To access a value by position, use `ser.iloc[pos]`\n",
      "  n2 = b[1]\n",
      "/var/folders/pt/zlhpwgms1r38l09fb5f24y_80000gn/T/ipykernel_11826/3368081595.py:8: FutureWarning: Series.__getitem__ treating keys as positions is deprecated. In a future version, integer keys will always be treated as labels (consistent with DataFrame behavior). To access a value by position, use `ser.iloc[pos]`\n",
      "  date = b[2]\n"
     ]
    },
    {
     "name": "stdout",
     "output_type": "stream",
     "text": [
      "done!\n",
      "194, 0\n",
      "generating for 2018-11-03 Karen Khachanov, Dominic Thiem\n"
     ]
    },
    {
     "name": "stderr",
     "output_type": "stream",
     "text": [
      "/var/folders/pt/zlhpwgms1r38l09fb5f24y_80000gn/T/ipykernel_11826/3368081595.py:6: FutureWarning: Series.__getitem__ treating keys as positions is deprecated. In a future version, integer keys will always be treated as labels (consistent with DataFrame behavior). To access a value by position, use `ser.iloc[pos]`\n",
      "  n1 = b[0]\n",
      "/var/folders/pt/zlhpwgms1r38l09fb5f24y_80000gn/T/ipykernel_11826/3368081595.py:7: FutureWarning: Series.__getitem__ treating keys as positions is deprecated. In a future version, integer keys will always be treated as labels (consistent with DataFrame behavior). To access a value by position, use `ser.iloc[pos]`\n",
      "  n2 = b[1]\n",
      "/var/folders/pt/zlhpwgms1r38l09fb5f24y_80000gn/T/ipykernel_11826/3368081595.py:8: FutureWarning: Series.__getitem__ treating keys as positions is deprecated. In a future version, integer keys will always be treated as labels (consistent with DataFrame behavior). To access a value by position, use `ser.iloc[pos]`\n",
      "  date = b[2]\n"
     ]
    },
    {
     "name": "stdout",
     "output_type": "stream",
     "text": [
      "done!\n",
      "195, 0\n",
      "generating for 2018-11-04 Karen Khachanov, Novak Djokovic\n"
     ]
    },
    {
     "name": "stderr",
     "output_type": "stream",
     "text": [
      "/var/folders/pt/zlhpwgms1r38l09fb5f24y_80000gn/T/ipykernel_11826/3368081595.py:6: FutureWarning: Series.__getitem__ treating keys as positions is deprecated. In a future version, integer keys will always be treated as labels (consistent with DataFrame behavior). To access a value by position, use `ser.iloc[pos]`\n",
      "  n1 = b[0]\n",
      "/var/folders/pt/zlhpwgms1r38l09fb5f24y_80000gn/T/ipykernel_11826/3368081595.py:7: FutureWarning: Series.__getitem__ treating keys as positions is deprecated. In a future version, integer keys will always be treated as labels (consistent with DataFrame behavior). To access a value by position, use `ser.iloc[pos]`\n",
      "  n2 = b[1]\n",
      "/var/folders/pt/zlhpwgms1r38l09fb5f24y_80000gn/T/ipykernel_11826/3368081595.py:8: FutureWarning: Series.__getitem__ treating keys as positions is deprecated. In a future version, integer keys will always be treated as labels (consistent with DataFrame behavior). To access a value by position, use `ser.iloc[pos]`\n",
      "  date = b[2]\n"
     ]
    },
    {
     "name": "stdout",
     "output_type": "stream",
     "text": [
      "done!\n",
      "196, 0\n",
      "generating for 2018-11-11 Kevin Anderson, Dominic Thiem\n"
     ]
    },
    {
     "name": "stderr",
     "output_type": "stream",
     "text": [
      "/var/folders/pt/zlhpwgms1r38l09fb5f24y_80000gn/T/ipykernel_11826/3368081595.py:6: FutureWarning: Series.__getitem__ treating keys as positions is deprecated. In a future version, integer keys will always be treated as labels (consistent with DataFrame behavior). To access a value by position, use `ser.iloc[pos]`\n",
      "  n1 = b[0]\n",
      "/var/folders/pt/zlhpwgms1r38l09fb5f24y_80000gn/T/ipykernel_11826/3368081595.py:7: FutureWarning: Series.__getitem__ treating keys as positions is deprecated. In a future version, integer keys will always be treated as labels (consistent with DataFrame behavior). To access a value by position, use `ser.iloc[pos]`\n",
      "  n2 = b[1]\n",
      "/var/folders/pt/zlhpwgms1r38l09fb5f24y_80000gn/T/ipykernel_11826/3368081595.py:8: FutureWarning: Series.__getitem__ treating keys as positions is deprecated. In a future version, integer keys will always be treated as labels (consistent with DataFrame behavior). To access a value by position, use `ser.iloc[pos]`\n",
      "  date = b[2]\n"
     ]
    },
    {
     "name": "stdout",
     "output_type": "stream",
     "text": [
      "done!\n",
      "197, 0\n",
      "generating for 2018-11-11 Kei Nishikori, Roger Federer\n"
     ]
    },
    {
     "name": "stderr",
     "output_type": "stream",
     "text": [
      "/var/folders/pt/zlhpwgms1r38l09fb5f24y_80000gn/T/ipykernel_11826/3368081595.py:6: FutureWarning: Series.__getitem__ treating keys as positions is deprecated. In a future version, integer keys will always be treated as labels (consistent with DataFrame behavior). To access a value by position, use `ser.iloc[pos]`\n",
      "  n1 = b[0]\n",
      "/var/folders/pt/zlhpwgms1r38l09fb5f24y_80000gn/T/ipykernel_11826/3368081595.py:7: FutureWarning: Series.__getitem__ treating keys as positions is deprecated. In a future version, integer keys will always be treated as labels (consistent with DataFrame behavior). To access a value by position, use `ser.iloc[pos]`\n",
      "  n2 = b[1]\n",
      "/var/folders/pt/zlhpwgms1r38l09fb5f24y_80000gn/T/ipykernel_11826/3368081595.py:8: FutureWarning: Series.__getitem__ treating keys as positions is deprecated. In a future version, integer keys will always be treated as labels (consistent with DataFrame behavior). To access a value by position, use `ser.iloc[pos]`\n",
      "  date = b[2]\n"
     ]
    },
    {
     "name": "stdout",
     "output_type": "stream",
     "text": [
      "done!\n",
      "198, 0\n",
      "generating for 2018-11-12 Novak Djokovic, John Isner\n"
     ]
    },
    {
     "name": "stderr",
     "output_type": "stream",
     "text": [
      "/var/folders/pt/zlhpwgms1r38l09fb5f24y_80000gn/T/ipykernel_11826/3368081595.py:6: FutureWarning: Series.__getitem__ treating keys as positions is deprecated. In a future version, integer keys will always be treated as labels (consistent with DataFrame behavior). To access a value by position, use `ser.iloc[pos]`\n",
      "  n1 = b[0]\n",
      "/var/folders/pt/zlhpwgms1r38l09fb5f24y_80000gn/T/ipykernel_11826/3368081595.py:7: FutureWarning: Series.__getitem__ treating keys as positions is deprecated. In a future version, integer keys will always be treated as labels (consistent with DataFrame behavior). To access a value by position, use `ser.iloc[pos]`\n",
      "  n2 = b[1]\n",
      "/var/folders/pt/zlhpwgms1r38l09fb5f24y_80000gn/T/ipykernel_11826/3368081595.py:8: FutureWarning: Series.__getitem__ treating keys as positions is deprecated. In a future version, integer keys will always be treated as labels (consistent with DataFrame behavior). To access a value by position, use `ser.iloc[pos]`\n",
      "  date = b[2]\n"
     ]
    },
    {
     "name": "stdout",
     "output_type": "stream",
     "text": [
      "done!\n",
      "199, 0\n",
      "generating for 2018-11-13 Kevin Anderson, Kei Nishikori\n"
     ]
    },
    {
     "name": "stderr",
     "output_type": "stream",
     "text": [
      "/var/folders/pt/zlhpwgms1r38l09fb5f24y_80000gn/T/ipykernel_11826/3368081595.py:6: FutureWarning: Series.__getitem__ treating keys as positions is deprecated. In a future version, integer keys will always be treated as labels (consistent with DataFrame behavior). To access a value by position, use `ser.iloc[pos]`\n",
      "  n1 = b[0]\n",
      "/var/folders/pt/zlhpwgms1r38l09fb5f24y_80000gn/T/ipykernel_11826/3368081595.py:7: FutureWarning: Series.__getitem__ treating keys as positions is deprecated. In a future version, integer keys will always be treated as labels (consistent with DataFrame behavior). To access a value by position, use `ser.iloc[pos]`\n",
      "  n2 = b[1]\n",
      "/var/folders/pt/zlhpwgms1r38l09fb5f24y_80000gn/T/ipykernel_11826/3368081595.py:8: FutureWarning: Series.__getitem__ treating keys as positions is deprecated. In a future version, integer keys will always be treated as labels (consistent with DataFrame behavior). To access a value by position, use `ser.iloc[pos]`\n",
      "  date = b[2]\n"
     ]
    },
    {
     "name": "stdout",
     "output_type": "stream",
     "text": [
      "done!\n",
      "200, 0\n",
      "generating for 2018-11-14 Novak Djokovic, Alexander Zverev\n"
     ]
    },
    {
     "name": "stderr",
     "output_type": "stream",
     "text": [
      "/var/folders/pt/zlhpwgms1r38l09fb5f24y_80000gn/T/ipykernel_11826/3368081595.py:6: FutureWarning: Series.__getitem__ treating keys as positions is deprecated. In a future version, integer keys will always be treated as labels (consistent with DataFrame behavior). To access a value by position, use `ser.iloc[pos]`\n",
      "  n1 = b[0]\n",
      "/var/folders/pt/zlhpwgms1r38l09fb5f24y_80000gn/T/ipykernel_11826/3368081595.py:7: FutureWarning: Series.__getitem__ treating keys as positions is deprecated. In a future version, integer keys will always be treated as labels (consistent with DataFrame behavior). To access a value by position, use `ser.iloc[pos]`\n",
      "  n2 = b[1]\n",
      "/var/folders/pt/zlhpwgms1r38l09fb5f24y_80000gn/T/ipykernel_11826/3368081595.py:8: FutureWarning: Series.__getitem__ treating keys as positions is deprecated. In a future version, integer keys will always be treated as labels (consistent with DataFrame behavior). To access a value by position, use `ser.iloc[pos]`\n",
      "  date = b[2]\n"
     ]
    },
    {
     "name": "stdout",
     "output_type": "stream",
     "text": [
      "done!\n",
      "201, 0\n",
      "generating for 2018-11-15 Dominic Thiem, Kei Nishikori\n"
     ]
    },
    {
     "name": "stderr",
     "output_type": "stream",
     "text": [
      "/var/folders/pt/zlhpwgms1r38l09fb5f24y_80000gn/T/ipykernel_11826/3368081595.py:6: FutureWarning: Series.__getitem__ treating keys as positions is deprecated. In a future version, integer keys will always be treated as labels (consistent with DataFrame behavior). To access a value by position, use `ser.iloc[pos]`\n",
      "  n1 = b[0]\n",
      "/var/folders/pt/zlhpwgms1r38l09fb5f24y_80000gn/T/ipykernel_11826/3368081595.py:7: FutureWarning: Series.__getitem__ treating keys as positions is deprecated. In a future version, integer keys will always be treated as labels (consistent with DataFrame behavior). To access a value by position, use `ser.iloc[pos]`\n",
      "  n2 = b[1]\n",
      "/var/folders/pt/zlhpwgms1r38l09fb5f24y_80000gn/T/ipykernel_11826/3368081595.py:8: FutureWarning: Series.__getitem__ treating keys as positions is deprecated. In a future version, integer keys will always be treated as labels (consistent with DataFrame behavior). To access a value by position, use `ser.iloc[pos]`\n",
      "  date = b[2]\n"
     ]
    },
    {
     "name": "stdout",
     "output_type": "stream",
     "text": [
      "done!\n",
      "202, 0\n",
      "generating for 2018-11-16 Alexander Zverev, John Isner\n"
     ]
    },
    {
     "name": "stderr",
     "output_type": "stream",
     "text": [
      "/var/folders/pt/zlhpwgms1r38l09fb5f24y_80000gn/T/ipykernel_11826/3368081595.py:6: FutureWarning: Series.__getitem__ treating keys as positions is deprecated. In a future version, integer keys will always be treated as labels (consistent with DataFrame behavior). To access a value by position, use `ser.iloc[pos]`\n",
      "  n1 = b[0]\n",
      "/var/folders/pt/zlhpwgms1r38l09fb5f24y_80000gn/T/ipykernel_11826/3368081595.py:7: FutureWarning: Series.__getitem__ treating keys as positions is deprecated. In a future version, integer keys will always be treated as labels (consistent with DataFrame behavior). To access a value by position, use `ser.iloc[pos]`\n",
      "  n2 = b[1]\n",
      "/var/folders/pt/zlhpwgms1r38l09fb5f24y_80000gn/T/ipykernel_11826/3368081595.py:8: FutureWarning: Series.__getitem__ treating keys as positions is deprecated. In a future version, integer keys will always be treated as labels (consistent with DataFrame behavior). To access a value by position, use `ser.iloc[pos]`\n",
      "  date = b[2]\n"
     ]
    },
    {
     "name": "stdout",
     "output_type": "stream",
     "text": [
      "done!\n",
      "203, 0\n",
      "generating for 2018-11-16 Novak Djokovic, Marin Cilic\n"
     ]
    },
    {
     "name": "stderr",
     "output_type": "stream",
     "text": [
      "/var/folders/pt/zlhpwgms1r38l09fb5f24y_80000gn/T/ipykernel_11826/3368081595.py:6: FutureWarning: Series.__getitem__ treating keys as positions is deprecated. In a future version, integer keys will always be treated as labels (consistent with DataFrame behavior). To access a value by position, use `ser.iloc[pos]`\n",
      "  n1 = b[0]\n",
      "/var/folders/pt/zlhpwgms1r38l09fb5f24y_80000gn/T/ipykernel_11826/3368081595.py:7: FutureWarning: Series.__getitem__ treating keys as positions is deprecated. In a future version, integer keys will always be treated as labels (consistent with DataFrame behavior). To access a value by position, use `ser.iloc[pos]`\n",
      "  n2 = b[1]\n",
      "/var/folders/pt/zlhpwgms1r38l09fb5f24y_80000gn/T/ipykernel_11826/3368081595.py:8: FutureWarning: Series.__getitem__ treating keys as positions is deprecated. In a future version, integer keys will always be treated as labels (consistent with DataFrame behavior). To access a value by position, use `ser.iloc[pos]`\n",
      "  date = b[2]\n"
     ]
    },
    {
     "name": "stdout",
     "output_type": "stream",
     "text": [
      "done!\n",
      "204, 0\n",
      "generating for 2018-11-17 Alexander Zverev, Roger Federer\n"
     ]
    },
    {
     "name": "stderr",
     "output_type": "stream",
     "text": [
      "/var/folders/pt/zlhpwgms1r38l09fb5f24y_80000gn/T/ipykernel_11826/3368081595.py:6: FutureWarning: Series.__getitem__ treating keys as positions is deprecated. In a future version, integer keys will always be treated as labels (consistent with DataFrame behavior). To access a value by position, use `ser.iloc[pos]`\n",
      "  n1 = b[0]\n",
      "/var/folders/pt/zlhpwgms1r38l09fb5f24y_80000gn/T/ipykernel_11826/3368081595.py:7: FutureWarning: Series.__getitem__ treating keys as positions is deprecated. In a future version, integer keys will always be treated as labels (consistent with DataFrame behavior). To access a value by position, use `ser.iloc[pos]`\n",
      "  n2 = b[1]\n",
      "/var/folders/pt/zlhpwgms1r38l09fb5f24y_80000gn/T/ipykernel_11826/3368081595.py:8: FutureWarning: Series.__getitem__ treating keys as positions is deprecated. In a future version, integer keys will always be treated as labels (consistent with DataFrame behavior). To access a value by position, use `ser.iloc[pos]`\n",
      "  date = b[2]\n"
     ]
    },
    {
     "name": "stdout",
     "output_type": "stream",
     "text": [
      "done!\n",
      "205, 0\n",
      "generating for 2018-11-18 Alexander Zverev, Novak Djokovic\n"
     ]
    },
    {
     "name": "stderr",
     "output_type": "stream",
     "text": [
      "/var/folders/pt/zlhpwgms1r38l09fb5f24y_80000gn/T/ipykernel_11826/3368081595.py:6: FutureWarning: Series.__getitem__ treating keys as positions is deprecated. In a future version, integer keys will always be treated as labels (consistent with DataFrame behavior). To access a value by position, use `ser.iloc[pos]`\n",
      "  n1 = b[0]\n",
      "/var/folders/pt/zlhpwgms1r38l09fb5f24y_80000gn/T/ipykernel_11826/3368081595.py:7: FutureWarning: Series.__getitem__ treating keys as positions is deprecated. In a future version, integer keys will always be treated as labels (consistent with DataFrame behavior). To access a value by position, use `ser.iloc[pos]`\n",
      "  n2 = b[1]\n",
      "/var/folders/pt/zlhpwgms1r38l09fb5f24y_80000gn/T/ipykernel_11826/3368081595.py:8: FutureWarning: Series.__getitem__ treating keys as positions is deprecated. In a future version, integer keys will always be treated as labels (consistent with DataFrame behavior). To access a value by position, use `ser.iloc[pos]`\n",
      "  date = b[2]\n"
     ]
    },
    {
     "name": "stdout",
     "output_type": "stream",
     "text": [
      "done!\n",
      "206, 0\n",
      "generating for 2018-01-01 Elina Svitolina, Carla Suarez Navarro\n"
     ]
    },
    {
     "name": "stderr",
     "output_type": "stream",
     "text": [
      "/var/folders/pt/zlhpwgms1r38l09fb5f24y_80000gn/T/ipykernel_11826/3368081595.py:6: FutureWarning: Series.__getitem__ treating keys as positions is deprecated. In a future version, integer keys will always be treated as labels (consistent with DataFrame behavior). To access a value by position, use `ser.iloc[pos]`\n",
      "  n1 = b[0]\n",
      "/var/folders/pt/zlhpwgms1r38l09fb5f24y_80000gn/T/ipykernel_11826/3368081595.py:7: FutureWarning: Series.__getitem__ treating keys as positions is deprecated. In a future version, integer keys will always be treated as labels (consistent with DataFrame behavior). To access a value by position, use `ser.iloc[pos]`\n",
      "  n2 = b[1]\n",
      "/var/folders/pt/zlhpwgms1r38l09fb5f24y_80000gn/T/ipykernel_11826/3368081595.py:8: FutureWarning: Series.__getitem__ treating keys as positions is deprecated. In a future version, integer keys will always be treated as labels (consistent with DataFrame behavior). To access a value by position, use `ser.iloc[pos]`\n",
      "  date = b[2]\n"
     ]
    },
    {
     "name": "stdout",
     "output_type": "stream",
     "text": [
      "done!\n",
      "207, 0\n",
      "generating for 2018-01-01 Anett Kontaveit, Heather Watson\n"
     ]
    },
    {
     "name": "stderr",
     "output_type": "stream",
     "text": [
      "/var/folders/pt/zlhpwgms1r38l09fb5f24y_80000gn/T/ipykernel_11826/3368081595.py:6: FutureWarning: Series.__getitem__ treating keys as positions is deprecated. In a future version, integer keys will always be treated as labels (consistent with DataFrame behavior). To access a value by position, use `ser.iloc[pos]`\n",
      "  n1 = b[0]\n",
      "/var/folders/pt/zlhpwgms1r38l09fb5f24y_80000gn/T/ipykernel_11826/3368081595.py:7: FutureWarning: Series.__getitem__ treating keys as positions is deprecated. In a future version, integer keys will always be treated as labels (consistent with DataFrame behavior). To access a value by position, use `ser.iloc[pos]`\n",
      "  n2 = b[1]\n",
      "/var/folders/pt/zlhpwgms1r38l09fb5f24y_80000gn/T/ipykernel_11826/3368081595.py:8: FutureWarning: Series.__getitem__ treating keys as positions is deprecated. In a future version, integer keys will always be treated as labels (consistent with DataFrame behavior). To access a value by position, use `ser.iloc[pos]`\n",
      "  date = b[2]\n"
     ]
    },
    {
     "name": "stdout",
     "output_type": "stream",
     "text": [
      "done!\n",
      "208, 0\n",
      "generating for 2018-01-02 Anastasija Sevastova, Sorana Cirstea\n"
     ]
    },
    {
     "name": "stderr",
     "output_type": "stream",
     "text": [
      "/var/folders/pt/zlhpwgms1r38l09fb5f24y_80000gn/T/ipykernel_11826/3368081595.py:6: FutureWarning: Series.__getitem__ treating keys as positions is deprecated. In a future version, integer keys will always be treated as labels (consistent with DataFrame behavior). To access a value by position, use `ser.iloc[pos]`\n",
      "  n1 = b[0]\n",
      "/var/folders/pt/zlhpwgms1r38l09fb5f24y_80000gn/T/ipykernel_11826/3368081595.py:7: FutureWarning: Series.__getitem__ treating keys as positions is deprecated. In a future version, integer keys will always be treated as labels (consistent with DataFrame behavior). To access a value by position, use `ser.iloc[pos]`\n",
      "  n2 = b[1]\n",
      "/var/folders/pt/zlhpwgms1r38l09fb5f24y_80000gn/T/ipykernel_11826/3368081595.py:8: FutureWarning: Series.__getitem__ treating keys as positions is deprecated. In a future version, integer keys will always be treated as labels (consistent with DataFrame behavior). To access a value by position, use `ser.iloc[pos]`\n",
      "  date = b[2]\n"
     ]
    },
    {
     "name": "stdout",
     "output_type": "stream",
     "text": [
      "done!\n",
      "209, 0\n",
      "generating for 2018-01-03 Karolina Pliskova, Catherine Cartan Bellis\n"
     ]
    },
    {
     "name": "stderr",
     "output_type": "stream",
     "text": [
      "/var/folders/pt/zlhpwgms1r38l09fb5f24y_80000gn/T/ipykernel_11826/3368081595.py:6: FutureWarning: Series.__getitem__ treating keys as positions is deprecated. In a future version, integer keys will always be treated as labels (consistent with DataFrame behavior). To access a value by position, use `ser.iloc[pos]`\n",
      "  n1 = b[0]\n",
      "/var/folders/pt/zlhpwgms1r38l09fb5f24y_80000gn/T/ipykernel_11826/3368081595.py:7: FutureWarning: Series.__getitem__ treating keys as positions is deprecated. In a future version, integer keys will always be treated as labels (consistent with DataFrame behavior). To access a value by position, use `ser.iloc[pos]`\n",
      "  n2 = b[1]\n",
      "/var/folders/pt/zlhpwgms1r38l09fb5f24y_80000gn/T/ipykernel_11826/3368081595.py:8: FutureWarning: Series.__getitem__ treating keys as positions is deprecated. In a future version, integer keys will always be treated as labels (consistent with DataFrame behavior). To access a value by position, use `ser.iloc[pos]`\n",
      "  date = b[2]\n"
     ]
    },
    {
     "name": "stdout",
     "output_type": "stream",
     "text": [
      "done!\n",
      "210, 0\n",
      "generating for 2018-01-04 Aliaksandra Sasnovich, Alize Cornet\n"
     ]
    },
    {
     "name": "stderr",
     "output_type": "stream",
     "text": [
      "/var/folders/pt/zlhpwgms1r38l09fb5f24y_80000gn/T/ipykernel_11826/3368081595.py:6: FutureWarning: Series.__getitem__ treating keys as positions is deprecated. In a future version, integer keys will always be treated as labels (consistent with DataFrame behavior). To access a value by position, use `ser.iloc[pos]`\n",
      "  n1 = b[0]\n",
      "/var/folders/pt/zlhpwgms1r38l09fb5f24y_80000gn/T/ipykernel_11826/3368081595.py:7: FutureWarning: Series.__getitem__ treating keys as positions is deprecated. In a future version, integer keys will always be treated as labels (consistent with DataFrame behavior). To access a value by position, use `ser.iloc[pos]`\n",
      "  n2 = b[1]\n",
      "/var/folders/pt/zlhpwgms1r38l09fb5f24y_80000gn/T/ipykernel_11826/3368081595.py:8: FutureWarning: Series.__getitem__ treating keys as positions is deprecated. In a future version, integer keys will always be treated as labels (consistent with DataFrame behavior). To access a value by position, use `ser.iloc[pos]`\n",
      "  date = b[2]\n"
     ]
    },
    {
     "name": "stdout",
     "output_type": "stream",
     "text": [
      "done!\n",
      "211, 0\n",
      "generating for 2018-01-04 Elina Svitolina, Johanna Konta\n"
     ]
    },
    {
     "name": "stderr",
     "output_type": "stream",
     "text": [
      "/var/folders/pt/zlhpwgms1r38l09fb5f24y_80000gn/T/ipykernel_11826/3368081595.py:6: FutureWarning: Series.__getitem__ treating keys as positions is deprecated. In a future version, integer keys will always be treated as labels (consistent with DataFrame behavior). To access a value by position, use `ser.iloc[pos]`\n",
      "  n1 = b[0]\n",
      "/var/folders/pt/zlhpwgms1r38l09fb5f24y_80000gn/T/ipykernel_11826/3368081595.py:7: FutureWarning: Series.__getitem__ treating keys as positions is deprecated. In a future version, integer keys will always be treated as labels (consistent with DataFrame behavior). To access a value by position, use `ser.iloc[pos]`\n",
      "  n2 = b[1]\n",
      "/var/folders/pt/zlhpwgms1r38l09fb5f24y_80000gn/T/ipykernel_11826/3368081595.py:8: FutureWarning: Series.__getitem__ treating keys as positions is deprecated. In a future version, integer keys will always be treated as labels (consistent with DataFrame behavior). To access a value by position, use `ser.iloc[pos]`\n",
      "  date = b[2]\n"
     ]
    },
    {
     "name": "stdout",
     "output_type": "stream",
     "text": [
      "done!\n",
      "212, 0\n",
      "generating for 2018-01-05 Elina Svitolina, Karolina Pliskova\n"
     ]
    },
    {
     "name": "stderr",
     "output_type": "stream",
     "text": [
      "/var/folders/pt/zlhpwgms1r38l09fb5f24y_80000gn/T/ipykernel_11826/3368081595.py:6: FutureWarning: Series.__getitem__ treating keys as positions is deprecated. In a future version, integer keys will always be treated as labels (consistent with DataFrame behavior). To access a value by position, use `ser.iloc[pos]`\n",
      "  n1 = b[0]\n",
      "/var/folders/pt/zlhpwgms1r38l09fb5f24y_80000gn/T/ipykernel_11826/3368081595.py:7: FutureWarning: Series.__getitem__ treating keys as positions is deprecated. In a future version, integer keys will always be treated as labels (consistent with DataFrame behavior). To access a value by position, use `ser.iloc[pos]`\n",
      "  n2 = b[1]\n",
      "/var/folders/pt/zlhpwgms1r38l09fb5f24y_80000gn/T/ipykernel_11826/3368081595.py:8: FutureWarning: Series.__getitem__ treating keys as positions is deprecated. In a future version, integer keys will always be treated as labels (consistent with DataFrame behavior). To access a value by position, use `ser.iloc[pos]`\n",
      "  date = b[2]\n"
     ]
    },
    {
     "name": "stdout",
     "output_type": "stream",
     "text": [
      "done!\n",
      "213, 0\n",
      "generating for 2017-12-31 Alison Riske Amritraj, Qiang Wang\n"
     ]
    },
    {
     "name": "stderr",
     "output_type": "stream",
     "text": [
      "/var/folders/pt/zlhpwgms1r38l09fb5f24y_80000gn/T/ipykernel_11826/3368081595.py:6: FutureWarning: Series.__getitem__ treating keys as positions is deprecated. In a future version, integer keys will always be treated as labels (consistent with DataFrame behavior). To access a value by position, use `ser.iloc[pos]`\n",
      "  n1 = b[0]\n",
      "/var/folders/pt/zlhpwgms1r38l09fb5f24y_80000gn/T/ipykernel_11826/3368081595.py:7: FutureWarning: Series.__getitem__ treating keys as positions is deprecated. In a future version, integer keys will always be treated as labels (consistent with DataFrame behavior). To access a value by position, use `ser.iloc[pos]`\n",
      "  n2 = b[1]\n",
      "/var/folders/pt/zlhpwgms1r38l09fb5f24y_80000gn/T/ipykernel_11826/3368081595.py:8: FutureWarning: Series.__getitem__ treating keys as positions is deprecated. In a future version, integer keys will always be treated as labels (consistent with DataFrame behavior). To access a value by position, use `ser.iloc[pos]`\n",
      "  date = b[2]\n"
     ]
    },
    {
     "name": "stdout",
     "output_type": "stream",
     "text": [
      "done!\n",
      "214, 0\n",
      "generating for 2017-12-31 Aryna Sabalenka, Monica Niculescu\n"
     ]
    },
    {
     "name": "stderr",
     "output_type": "stream",
     "text": [
      "/var/folders/pt/zlhpwgms1r38l09fb5f24y_80000gn/T/ipykernel_11826/3368081595.py:6: FutureWarning: Series.__getitem__ treating keys as positions is deprecated. In a future version, integer keys will always be treated as labels (consistent with DataFrame behavior). To access a value by position, use `ser.iloc[pos]`\n",
      "  n1 = b[0]\n",
      "/var/folders/pt/zlhpwgms1r38l09fb5f24y_80000gn/T/ipykernel_11826/3368081595.py:7: FutureWarning: Series.__getitem__ treating keys as positions is deprecated. In a future version, integer keys will always be treated as labels (consistent with DataFrame behavior). To access a value by position, use `ser.iloc[pos]`\n",
      "  n2 = b[1]\n",
      "/var/folders/pt/zlhpwgms1r38l09fb5f24y_80000gn/T/ipykernel_11826/3368081595.py:8: FutureWarning: Series.__getitem__ treating keys as positions is deprecated. In a future version, integer keys will always be treated as labels (consistent with DataFrame behavior). To access a value by position, use `ser.iloc[pos]`\n",
      "  date = b[2]\n"
     ]
    },
    {
     "name": "stdout",
     "output_type": "stream",
     "text": [
      "done!\n",
      "215, 0\n",
      "generating for 2018-01-01 Simona Halep, Nicole Gibbs\n"
     ]
    },
    {
     "name": "stderr",
     "output_type": "stream",
     "text": [
      "/var/folders/pt/zlhpwgms1r38l09fb5f24y_80000gn/T/ipykernel_11826/3368081595.py:6: FutureWarning: Series.__getitem__ treating keys as positions is deprecated. In a future version, integer keys will always be treated as labels (consistent with DataFrame behavior). To access a value by position, use `ser.iloc[pos]`\n",
      "  n1 = b[0]\n",
      "/var/folders/pt/zlhpwgms1r38l09fb5f24y_80000gn/T/ipykernel_11826/3368081595.py:7: FutureWarning: Series.__getitem__ treating keys as positions is deprecated. In a future version, integer keys will always be treated as labels (consistent with DataFrame behavior). To access a value by position, use `ser.iloc[pos]`\n",
      "  n2 = b[1]\n",
      "/var/folders/pt/zlhpwgms1r38l09fb5f24y_80000gn/T/ipykernel_11826/3368081595.py:8: FutureWarning: Series.__getitem__ treating keys as positions is deprecated. In a future version, integer keys will always be treated as labels (consistent with DataFrame behavior). To access a value by position, use `ser.iloc[pos]`\n",
      "  date = b[2]\n"
     ]
    },
    {
     "name": "stdout",
     "output_type": "stream",
     "text": [
      "done!\n",
      "216, 0\n",
      "generating for 2018-01-02 Karolina Pliskova, Jelena Ostapenko\n"
     ]
    },
    {
     "name": "stderr",
     "output_type": "stream",
     "text": [
      "/var/folders/pt/zlhpwgms1r38l09fb5f24y_80000gn/T/ipykernel_11826/3368081595.py:6: FutureWarning: Series.__getitem__ treating keys as positions is deprecated. In a future version, integer keys will always be treated as labels (consistent with DataFrame behavior). To access a value by position, use `ser.iloc[pos]`\n",
      "  n1 = b[0]\n",
      "/var/folders/pt/zlhpwgms1r38l09fb5f24y_80000gn/T/ipykernel_11826/3368081595.py:7: FutureWarning: Series.__getitem__ treating keys as positions is deprecated. In a future version, integer keys will always be treated as labels (consistent with DataFrame behavior). To access a value by position, use `ser.iloc[pos]`\n",
      "  n2 = b[1]\n",
      "/var/folders/pt/zlhpwgms1r38l09fb5f24y_80000gn/T/ipykernel_11826/3368081595.py:8: FutureWarning: Series.__getitem__ treating keys as positions is deprecated. In a future version, integer keys will always be treated as labels (consistent with DataFrame behavior). To access a value by position, use `ser.iloc[pos]`\n",
      "  date = b[2]\n"
     ]
    },
    {
     "name": "stdout",
     "output_type": "stream",
     "text": [
      "done!\n",
      "217, 0\n",
      "generating for 2018-01-02 Zarina Diyas, Shuai Zhang\n"
     ]
    },
    {
     "name": "stderr",
     "output_type": "stream",
     "text": [
      "/var/folders/pt/zlhpwgms1r38l09fb5f24y_80000gn/T/ipykernel_11826/3368081595.py:6: FutureWarning: Series.__getitem__ treating keys as positions is deprecated. In a future version, integer keys will always be treated as labels (consistent with DataFrame behavior). To access a value by position, use `ser.iloc[pos]`\n",
      "  n1 = b[0]\n",
      "/var/folders/pt/zlhpwgms1r38l09fb5f24y_80000gn/T/ipykernel_11826/3368081595.py:7: FutureWarning: Series.__getitem__ treating keys as positions is deprecated. In a future version, integer keys will always be treated as labels (consistent with DataFrame behavior). To access a value by position, use `ser.iloc[pos]`\n",
      "  n2 = b[1]\n",
      "/var/folders/pt/zlhpwgms1r38l09fb5f24y_80000gn/T/ipykernel_11826/3368081595.py:8: FutureWarning: Series.__getitem__ treating keys as positions is deprecated. In a future version, integer keys will always be treated as labels (consistent with DataFrame behavior). To access a value by position, use `ser.iloc[pos]`\n",
      "  date = b[2]\n"
     ]
    },
    {
     "name": "stdout",
     "output_type": "stream",
     "text": [
      "done!\n",
      "218, 0\n",
      "generating for 2018-01-02 Aryna Sabalenka, Danka Kovinic\n"
     ]
    },
    {
     "name": "stderr",
     "output_type": "stream",
     "text": [
      "/var/folders/pt/zlhpwgms1r38l09fb5f24y_80000gn/T/ipykernel_11826/3368081595.py:6: FutureWarning: Series.__getitem__ treating keys as positions is deprecated. In a future version, integer keys will always be treated as labels (consistent with DataFrame behavior). To access a value by position, use `ser.iloc[pos]`\n",
      "  n1 = b[0]\n",
      "/var/folders/pt/zlhpwgms1r38l09fb5f24y_80000gn/T/ipykernel_11826/3368081595.py:7: FutureWarning: Series.__getitem__ treating keys as positions is deprecated. In a future version, integer keys will always be treated as labels (consistent with DataFrame behavior). To access a value by position, use `ser.iloc[pos]`\n",
      "  n2 = b[1]\n",
      "/var/folders/pt/zlhpwgms1r38l09fb5f24y_80000gn/T/ipykernel_11826/3368081595.py:8: FutureWarning: Series.__getitem__ treating keys as positions is deprecated. In a future version, integer keys will always be treated as labels (consistent with DataFrame behavior). To access a value by position, use `ser.iloc[pos]`\n",
      "  date = b[2]\n"
     ]
    },
    {
     "name": "stdout",
     "output_type": "stream",
     "text": [
      "done!\n",
      "219, 0\n",
      "generating for 2018-01-04 Katerina Siniakova, Karolina Pliskova\n"
     ]
    },
    {
     "name": "stderr",
     "output_type": "stream",
     "text": [
      "/var/folders/pt/zlhpwgms1r38l09fb5f24y_80000gn/T/ipykernel_11826/3368081595.py:6: FutureWarning: Series.__getitem__ treating keys as positions is deprecated. In a future version, integer keys will always be treated as labels (consistent with DataFrame behavior). To access a value by position, use `ser.iloc[pos]`\n",
      "  n1 = b[0]\n",
      "/var/folders/pt/zlhpwgms1r38l09fb5f24y_80000gn/T/ipykernel_11826/3368081595.py:7: FutureWarning: Series.__getitem__ treating keys as positions is deprecated. In a future version, integer keys will always be treated as labels (consistent with DataFrame behavior). To access a value by position, use `ser.iloc[pos]`\n",
      "  n2 = b[1]\n",
      "/var/folders/pt/zlhpwgms1r38l09fb5f24y_80000gn/T/ipykernel_11826/3368081595.py:8: FutureWarning: Series.__getitem__ treating keys as positions is deprecated. In a future version, integer keys will always be treated as labels (consistent with DataFrame behavior). To access a value by position, use `ser.iloc[pos]`\n",
      "  date = b[2]\n"
     ]
    },
    {
     "name": "stdout",
     "output_type": "stream",
     "text": [
      "done!\n",
      "220, 0\n",
      "generating for 2018-01-06 Simona Halep, Katerina Siniakova\n"
     ]
    },
    {
     "name": "stderr",
     "output_type": "stream",
     "text": [
      "/var/folders/pt/zlhpwgms1r38l09fb5f24y_80000gn/T/ipykernel_11826/3368081595.py:6: FutureWarning: Series.__getitem__ treating keys as positions is deprecated. In a future version, integer keys will always be treated as labels (consistent with DataFrame behavior). To access a value by position, use `ser.iloc[pos]`\n",
      "  n1 = b[0]\n",
      "/var/folders/pt/zlhpwgms1r38l09fb5f24y_80000gn/T/ipykernel_11826/3368081595.py:7: FutureWarning: Series.__getitem__ treating keys as positions is deprecated. In a future version, integer keys will always be treated as labels (consistent with DataFrame behavior). To access a value by position, use `ser.iloc[pos]`\n",
      "  n2 = b[1]\n",
      "/var/folders/pt/zlhpwgms1r38l09fb5f24y_80000gn/T/ipykernel_11826/3368081595.py:8: FutureWarning: Series.__getitem__ treating keys as positions is deprecated. In a future version, integer keys will always be treated as labels (consistent with DataFrame behavior). To access a value by position, use `ser.iloc[pos]`\n",
      "  date = b[2]\n"
     ]
    },
    {
     "name": "stdout",
     "output_type": "stream",
     "text": [
      "done!\n",
      "221, 0\n",
      "generating for 2018-01-08 Lesia Tsurenko, Timea Babos\n"
     ]
    },
    {
     "name": "stderr",
     "output_type": "stream",
     "text": [
      "/var/folders/pt/zlhpwgms1r38l09fb5f24y_80000gn/T/ipykernel_11826/3368081595.py:6: FutureWarning: Series.__getitem__ treating keys as positions is deprecated. In a future version, integer keys will always be treated as labels (consistent with DataFrame behavior). To access a value by position, use `ser.iloc[pos]`\n",
      "  n1 = b[0]\n",
      "/var/folders/pt/zlhpwgms1r38l09fb5f24y_80000gn/T/ipykernel_11826/3368081595.py:7: FutureWarning: Series.__getitem__ treating keys as positions is deprecated. In a future version, integer keys will always be treated as labels (consistent with DataFrame behavior). To access a value by position, use `ser.iloc[pos]`\n",
      "  n2 = b[1]\n",
      "/var/folders/pt/zlhpwgms1r38l09fb5f24y_80000gn/T/ipykernel_11826/3368081595.py:8: FutureWarning: Series.__getitem__ treating keys as positions is deprecated. In a future version, integer keys will always be treated as labels (consistent with DataFrame behavior). To access a value by position, use `ser.iloc[pos]`\n",
      "  date = b[2]\n"
     ]
    },
    {
     "name": "stdout",
     "output_type": "stream",
     "text": [
      "done!\n",
      "222, 0\n",
      "generating for 2018-01-08 Aryna Sabalenka, Eugenie Bouchard\n"
     ]
    },
    {
     "name": "stderr",
     "output_type": "stream",
     "text": [
      "/var/folders/pt/zlhpwgms1r38l09fb5f24y_80000gn/T/ipykernel_11826/3368081595.py:6: FutureWarning: Series.__getitem__ treating keys as positions is deprecated. In a future version, integer keys will always be treated as labels (consistent with DataFrame behavior). To access a value by position, use `ser.iloc[pos]`\n",
      "  n1 = b[0]\n",
      "/var/folders/pt/zlhpwgms1r38l09fb5f24y_80000gn/T/ipykernel_11826/3368081595.py:7: FutureWarning: Series.__getitem__ treating keys as positions is deprecated. In a future version, integer keys will always be treated as labels (consistent with DataFrame behavior). To access a value by position, use `ser.iloc[pos]`\n",
      "  n2 = b[1]\n",
      "/var/folders/pt/zlhpwgms1r38l09fb5f24y_80000gn/T/ipykernel_11826/3368081595.py:8: FutureWarning: Series.__getitem__ treating keys as positions is deprecated. In a future version, integer keys will always be treated as labels (consistent with DataFrame behavior). To access a value by position, use `ser.iloc[pos]`\n",
      "  date = b[2]\n"
     ]
    },
    {
     "name": "stdout",
     "output_type": "stream",
     "text": [
      "done!\n",
      "223, 0\n",
      "generating for 2018-01-09 Alison Riske Amritraj, Katerina Siniakova\n"
     ]
    },
    {
     "name": "stderr",
     "output_type": "stream",
     "text": [
      "/var/folders/pt/zlhpwgms1r38l09fb5f24y_80000gn/T/ipykernel_11826/3368081595.py:6: FutureWarning: Series.__getitem__ treating keys as positions is deprecated. In a future version, integer keys will always be treated as labels (consistent with DataFrame behavior). To access a value by position, use `ser.iloc[pos]`\n",
      "  n1 = b[0]\n",
      "/var/folders/pt/zlhpwgms1r38l09fb5f24y_80000gn/T/ipykernel_11826/3368081595.py:7: FutureWarning: Series.__getitem__ treating keys as positions is deprecated. In a future version, integer keys will always be treated as labels (consistent with DataFrame behavior). To access a value by position, use `ser.iloc[pos]`\n",
      "  n2 = b[1]\n",
      "/var/folders/pt/zlhpwgms1r38l09fb5f24y_80000gn/T/ipykernel_11826/3368081595.py:8: FutureWarning: Series.__getitem__ treating keys as positions is deprecated. In a future version, integer keys will always be treated as labels (consistent with DataFrame behavior). To access a value by position, use `ser.iloc[pos]`\n",
      "  date = b[2]\n"
     ]
    },
    {
     "name": "stdout",
     "output_type": "stream",
     "text": [
      "done!\n",
      "224, 0\n",
      "generating for 2018-01-10 Aryna Sabalenka, Shuai Zhang\n"
     ]
    },
    {
     "name": "stderr",
     "output_type": "stream",
     "text": [
      "/var/folders/pt/zlhpwgms1r38l09fb5f24y_80000gn/T/ipykernel_11826/3368081595.py:6: FutureWarning: Series.__getitem__ treating keys as positions is deprecated. In a future version, integer keys will always be treated as labels (consistent with DataFrame behavior). To access a value by position, use `ser.iloc[pos]`\n",
      "  n1 = b[0]\n",
      "/var/folders/pt/zlhpwgms1r38l09fb5f24y_80000gn/T/ipykernel_11826/3368081595.py:7: FutureWarning: Series.__getitem__ treating keys as positions is deprecated. In a future version, integer keys will always be treated as labels (consistent with DataFrame behavior). To access a value by position, use `ser.iloc[pos]`\n",
      "  n2 = b[1]\n",
      "/var/folders/pt/zlhpwgms1r38l09fb5f24y_80000gn/T/ipykernel_11826/3368081595.py:8: FutureWarning: Series.__getitem__ treating keys as positions is deprecated. In a future version, integer keys will always be treated as labels (consistent with DataFrame behavior). To access a value by position, use `ser.iloc[pos]`\n",
      "  date = b[2]\n"
     ]
    },
    {
     "name": "stdout",
     "output_type": "stream",
     "text": [
      "done!\n",
      "225, 0\n",
      "generating for 2018-01-11 Elise Mertens, Monica Niculescu\n"
     ]
    },
    {
     "name": "stderr",
     "output_type": "stream",
     "text": [
      "/var/folders/pt/zlhpwgms1r38l09fb5f24y_80000gn/T/ipykernel_11826/3368081595.py:6: FutureWarning: Series.__getitem__ treating keys as positions is deprecated. In a future version, integer keys will always be treated as labels (consistent with DataFrame behavior). To access a value by position, use `ser.iloc[pos]`\n",
      "  n1 = b[0]\n",
      "/var/folders/pt/zlhpwgms1r38l09fb5f24y_80000gn/T/ipykernel_11826/3368081595.py:7: FutureWarning: Series.__getitem__ treating keys as positions is deprecated. In a future version, integer keys will always be treated as labels (consistent with DataFrame behavior). To access a value by position, use `ser.iloc[pos]`\n",
      "  n2 = b[1]\n",
      "/var/folders/pt/zlhpwgms1r38l09fb5f24y_80000gn/T/ipykernel_11826/3368081595.py:8: FutureWarning: Series.__getitem__ treating keys as positions is deprecated. In a future version, integer keys will always be treated as labels (consistent with DataFrame behavior). To access a value by position, use `ser.iloc[pos]`\n",
      "  date = b[2]\n"
     ]
    },
    {
     "name": "stdout",
     "output_type": "stream",
     "text": [
      "done!\n",
      "226, 0\n",
      "generating for 2018-01-08 Dominika Cibulkova, Anastasija Sevastova\n"
     ]
    },
    {
     "name": "stderr",
     "output_type": "stream",
     "text": [
      "/var/folders/pt/zlhpwgms1r38l09fb5f24y_80000gn/T/ipykernel_11826/3368081595.py:6: FutureWarning: Series.__getitem__ treating keys as positions is deprecated. In a future version, integer keys will always be treated as labels (consistent with DataFrame behavior). To access a value by position, use `ser.iloc[pos]`\n",
      "  n1 = b[0]\n",
      "/var/folders/pt/zlhpwgms1r38l09fb5f24y_80000gn/T/ipykernel_11826/3368081595.py:7: FutureWarning: Series.__getitem__ treating keys as positions is deprecated. In a future version, integer keys will always be treated as labels (consistent with DataFrame behavior). To access a value by position, use `ser.iloc[pos]`\n",
      "  n2 = b[1]\n",
      "/var/folders/pt/zlhpwgms1r38l09fb5f24y_80000gn/T/ipykernel_11826/3368081595.py:8: FutureWarning: Series.__getitem__ treating keys as positions is deprecated. In a future version, integer keys will always be treated as labels (consistent with DataFrame behavior). To access a value by position, use `ser.iloc[pos]`\n",
      "  date = b[2]\n"
     ]
    },
    {
     "name": "stdout",
     "output_type": "stream",
     "text": [
      "done!\n",
      "227, 0\n",
      "generating for 2018-01-08 Catherine Cartan Bellis, Magdalena Rybarikova\n"
     ]
    },
    {
     "name": "stderr",
     "output_type": "stream",
     "text": [
      "/var/folders/pt/zlhpwgms1r38l09fb5f24y_80000gn/T/ipykernel_11826/3368081595.py:6: FutureWarning: Series.__getitem__ treating keys as positions is deprecated. In a future version, integer keys will always be treated as labels (consistent with DataFrame behavior). To access a value by position, use `ser.iloc[pos]`\n",
      "  n1 = b[0]\n",
      "/var/folders/pt/zlhpwgms1r38l09fb5f24y_80000gn/T/ipykernel_11826/3368081595.py:7: FutureWarning: Series.__getitem__ treating keys as positions is deprecated. In a future version, integer keys will always be treated as labels (consistent with DataFrame behavior). To access a value by position, use `ser.iloc[pos]`\n",
      "  n2 = b[1]\n",
      "/var/folders/pt/zlhpwgms1r38l09fb5f24y_80000gn/T/ipykernel_11826/3368081595.py:8: FutureWarning: Series.__getitem__ treating keys as positions is deprecated. In a future version, integer keys will always be treated as labels (consistent with DataFrame behavior). To access a value by position, use `ser.iloc[pos]`\n",
      "  date = b[2]\n"
     ]
    },
    {
     "name": "stdout",
     "output_type": "stream",
     "text": [
      "done!\n",
      "228, 0\n",
      "generating for 2018-01-09 Agnieszka Radwanska, Johanna Konta\n"
     ]
    },
    {
     "name": "stderr",
     "output_type": "stream",
     "text": [
      "/var/folders/pt/zlhpwgms1r38l09fb5f24y_80000gn/T/ipykernel_11826/3368081595.py:6: FutureWarning: Series.__getitem__ treating keys as positions is deprecated. In a future version, integer keys will always be treated as labels (consistent with DataFrame behavior). To access a value by position, use `ser.iloc[pos]`\n",
      "  n1 = b[0]\n",
      "/var/folders/pt/zlhpwgms1r38l09fb5f24y_80000gn/T/ipykernel_11826/3368081595.py:7: FutureWarning: Series.__getitem__ treating keys as positions is deprecated. In a future version, integer keys will always be treated as labels (consistent with DataFrame behavior). To access a value by position, use `ser.iloc[pos]`\n",
      "  n2 = b[1]\n",
      "/var/folders/pt/zlhpwgms1r38l09fb5f24y_80000gn/T/ipykernel_11826/3368081595.py:8: FutureWarning: Series.__getitem__ treating keys as positions is deprecated. In a future version, integer keys will always be treated as labels (consistent with DataFrame behavior). To access a value by position, use `ser.iloc[pos]`\n",
      "  date = b[2]\n"
     ]
    },
    {
     "name": "stdout",
     "output_type": "stream",
     "text": [
      "done!\n",
      "229, 0\n",
      "generating for 2018-01-10 Garbine Muguruza, Kiki Bertens\n"
     ]
    },
    {
     "name": "stderr",
     "output_type": "stream",
     "text": [
      "/var/folders/pt/zlhpwgms1r38l09fb5f24y_80000gn/T/ipykernel_11826/3368081595.py:6: FutureWarning: Series.__getitem__ treating keys as positions is deprecated. In a future version, integer keys will always be treated as labels (consistent with DataFrame behavior). To access a value by position, use `ser.iloc[pos]`\n",
      "  n1 = b[0]\n",
      "/var/folders/pt/zlhpwgms1r38l09fb5f24y_80000gn/T/ipykernel_11826/3368081595.py:7: FutureWarning: Series.__getitem__ treating keys as positions is deprecated. In a future version, integer keys will always be treated as labels (consistent with DataFrame behavior). To access a value by position, use `ser.iloc[pos]`\n",
      "  n2 = b[1]\n",
      "/var/folders/pt/zlhpwgms1r38l09fb5f24y_80000gn/T/ipykernel_11826/3368081595.py:8: FutureWarning: Series.__getitem__ treating keys as positions is deprecated. In a future version, integer keys will always be treated as labels (consistent with DataFrame behavior). To access a value by position, use `ser.iloc[pos]`\n",
      "  date = b[2]\n"
     ]
    },
    {
     "name": "stdout",
     "output_type": "stream",
     "text": [
      "done!\n",
      "230, 0\n",
      "generating for 2018-01-11 Angelique Kerber, Dominika Cibulkova\n"
     ]
    },
    {
     "name": "stderr",
     "output_type": "stream",
     "text": [
      "/var/folders/pt/zlhpwgms1r38l09fb5f24y_80000gn/T/ipykernel_11826/3368081595.py:6: FutureWarning: Series.__getitem__ treating keys as positions is deprecated. In a future version, integer keys will always be treated as labels (consistent with DataFrame behavior). To access a value by position, use `ser.iloc[pos]`\n",
      "  n1 = b[0]\n",
      "/var/folders/pt/zlhpwgms1r38l09fb5f24y_80000gn/T/ipykernel_11826/3368081595.py:7: FutureWarning: Series.__getitem__ treating keys as positions is deprecated. In a future version, integer keys will always be treated as labels (consistent with DataFrame behavior). To access a value by position, use `ser.iloc[pos]`\n",
      "  n2 = b[1]\n",
      "/var/folders/pt/zlhpwgms1r38l09fb5f24y_80000gn/T/ipykernel_11826/3368081595.py:8: FutureWarning: Series.__getitem__ treating keys as positions is deprecated. In a future version, integer keys will always be treated as labels (consistent with DataFrame behavior). To access a value by position, use `ser.iloc[pos]`\n",
      "  date = b[2]\n"
     ]
    },
    {
     "name": "stdout",
     "output_type": "stream",
     "text": [
      "done!\n",
      "231, 0\n",
      "generating for 2018-01-15 Kiki Bertens, Catherine Cartan Bellis\n"
     ]
    },
    {
     "name": "stderr",
     "output_type": "stream",
     "text": [
      "/var/folders/pt/zlhpwgms1r38l09fb5f24y_80000gn/T/ipykernel_11826/3368081595.py:6: FutureWarning: Series.__getitem__ treating keys as positions is deprecated. In a future version, integer keys will always be treated as labels (consistent with DataFrame behavior). To access a value by position, use `ser.iloc[pos]`\n",
      "  n1 = b[0]\n",
      "/var/folders/pt/zlhpwgms1r38l09fb5f24y_80000gn/T/ipykernel_11826/3368081595.py:7: FutureWarning: Series.__getitem__ treating keys as positions is deprecated. In a future version, integer keys will always be treated as labels (consistent with DataFrame behavior). To access a value by position, use `ser.iloc[pos]`\n",
      "  n2 = b[1]\n",
      "/var/folders/pt/zlhpwgms1r38l09fb5f24y_80000gn/T/ipykernel_11826/3368081595.py:8: FutureWarning: Series.__getitem__ treating keys as positions is deprecated. In a future version, integer keys will always be treated as labels (consistent with DataFrame behavior). To access a value by position, use `ser.iloc[pos]`\n",
      "  date = b[2]\n"
     ]
    },
    {
     "name": "stdout",
     "output_type": "stream",
     "text": [
      "done!\n",
      "232, 0\n",
      "generating for 2018-01-15 Monica Puig, Samantha Stosur\n"
     ]
    },
    {
     "name": "stderr",
     "output_type": "stream",
     "text": [
      "/var/folders/pt/zlhpwgms1r38l09fb5f24y_80000gn/T/ipykernel_11826/3368081595.py:6: FutureWarning: Series.__getitem__ treating keys as positions is deprecated. In a future version, integer keys will always be treated as labels (consistent with DataFrame behavior). To access a value by position, use `ser.iloc[pos]`\n",
      "  n1 = b[0]\n",
      "/var/folders/pt/zlhpwgms1r38l09fb5f24y_80000gn/T/ipykernel_11826/3368081595.py:7: FutureWarning: Series.__getitem__ treating keys as positions is deprecated. In a future version, integer keys will always be treated as labels (consistent with DataFrame behavior). To access a value by position, use `ser.iloc[pos]`\n",
      "  n2 = b[1]\n",
      "/var/folders/pt/zlhpwgms1r38l09fb5f24y_80000gn/T/ipykernel_11826/3368081595.py:8: FutureWarning: Series.__getitem__ treating keys as positions is deprecated. In a future version, integer keys will always be treated as labels (consistent with DataFrame behavior). To access a value by position, use `ser.iloc[pos]`\n",
      "  date = b[2]\n"
     ]
    },
    {
     "name": "stdout",
     "output_type": "stream",
     "text": [
      "done!\n",
      "233, 0\n",
      "generating for 2018-01-16 Lesia Tsurenko, Natalia Vikhlyantseva\n"
     ]
    },
    {
     "name": "stderr",
     "output_type": "stream",
     "text": [
      "/var/folders/pt/zlhpwgms1r38l09fb5f24y_80000gn/T/ipykernel_11826/3368081595.py:6: FutureWarning: Series.__getitem__ treating keys as positions is deprecated. In a future version, integer keys will always be treated as labels (consistent with DataFrame behavior). To access a value by position, use `ser.iloc[pos]`\n",
      "  n1 = b[0]\n",
      "/var/folders/pt/zlhpwgms1r38l09fb5f24y_80000gn/T/ipykernel_11826/3368081595.py:7: FutureWarning: Series.__getitem__ treating keys as positions is deprecated. In a future version, integer keys will always be treated as labels (consistent with DataFrame behavior). To access a value by position, use `ser.iloc[pos]`\n",
      "  n2 = b[1]\n",
      "/var/folders/pt/zlhpwgms1r38l09fb5f24y_80000gn/T/ipykernel_11826/3368081595.py:8: FutureWarning: Series.__getitem__ treating keys as positions is deprecated. In a future version, integer keys will always be treated as labels (consistent with DataFrame behavior). To access a value by position, use `ser.iloc[pos]`\n",
      "  date = b[2]\n"
     ]
    },
    {
     "name": "stdout",
     "output_type": "stream",
     "text": [
      "done!\n",
      "234, 0\n",
      "generating for 2018-01-16 Agnieszka Radwanska, Karolina Pliskova\n"
     ]
    },
    {
     "name": "stderr",
     "output_type": "stream",
     "text": [
      "/var/folders/pt/zlhpwgms1r38l09fb5f24y_80000gn/T/ipykernel_11826/3368081595.py:6: FutureWarning: Series.__getitem__ treating keys as positions is deprecated. In a future version, integer keys will always be treated as labels (consistent with DataFrame behavior). To access a value by position, use `ser.iloc[pos]`\n",
      "  n1 = b[0]\n",
      "/var/folders/pt/zlhpwgms1r38l09fb5f24y_80000gn/T/ipykernel_11826/3368081595.py:7: FutureWarning: Series.__getitem__ treating keys as positions is deprecated. In a future version, integer keys will always be treated as labels (consistent with DataFrame behavior). To access a value by position, use `ser.iloc[pos]`\n",
      "  n2 = b[1]\n",
      "/var/folders/pt/zlhpwgms1r38l09fb5f24y_80000gn/T/ipykernel_11826/3368081595.py:8: FutureWarning: Series.__getitem__ treating keys as positions is deprecated. In a future version, integer keys will always be treated as labels (consistent with DataFrame behavior). To access a value by position, use `ser.iloc[pos]`\n",
      "  date = b[2]\n"
     ]
    },
    {
     "name": "stdout",
     "output_type": "stream",
     "text": [
      "done!\n",
      "235, 0\n",
      "generating for 2018-01-17 Elina Svitolina, Katerina Siniakova\n"
     ]
    },
    {
     "name": "stderr",
     "output_type": "stream",
     "text": [
      "/var/folders/pt/zlhpwgms1r38l09fb5f24y_80000gn/T/ipykernel_11826/3368081595.py:6: FutureWarning: Series.__getitem__ treating keys as positions is deprecated. In a future version, integer keys will always be treated as labels (consistent with DataFrame behavior). To access a value by position, use `ser.iloc[pos]`\n",
      "  n1 = b[0]\n",
      "/var/folders/pt/zlhpwgms1r38l09fb5f24y_80000gn/T/ipykernel_11826/3368081595.py:7: FutureWarning: Series.__getitem__ treating keys as positions is deprecated. In a future version, integer keys will always be treated as labels (consistent with DataFrame behavior). To access a value by position, use `ser.iloc[pos]`\n",
      "  n2 = b[1]\n",
      "/var/folders/pt/zlhpwgms1r38l09fb5f24y_80000gn/T/ipykernel_11826/3368081595.py:8: FutureWarning: Series.__getitem__ treating keys as positions is deprecated. In a future version, integer keys will always be treated as labels (consistent with DataFrame behavior). To access a value by position, use `ser.iloc[pos]`\n",
      "  date = b[2]\n"
     ]
    },
    {
     "name": "stdout",
     "output_type": "stream",
     "text": [
      "done!\n",
      "236, 0\n",
      "generating for 2018-01-17 Carla Suarez Navarro, Timea Babos\n"
     ]
    },
    {
     "name": "stderr",
     "output_type": "stream",
     "text": [
      "/var/folders/pt/zlhpwgms1r38l09fb5f24y_80000gn/T/ipykernel_11826/3368081595.py:6: FutureWarning: Series.__getitem__ treating keys as positions is deprecated. In a future version, integer keys will always be treated as labels (consistent with DataFrame behavior). To access a value by position, use `ser.iloc[pos]`\n",
      "  n1 = b[0]\n",
      "/var/folders/pt/zlhpwgms1r38l09fb5f24y_80000gn/T/ipykernel_11826/3368081595.py:7: FutureWarning: Series.__getitem__ treating keys as positions is deprecated. In a future version, integer keys will always be treated as labels (consistent with DataFrame behavior). To access a value by position, use `ser.iloc[pos]`\n",
      "  n2 = b[1]\n",
      "/var/folders/pt/zlhpwgms1r38l09fb5f24y_80000gn/T/ipykernel_11826/3368081595.py:8: FutureWarning: Series.__getitem__ treating keys as positions is deprecated. In a future version, integer keys will always be treated as labels (consistent with DataFrame behavior). To access a value by position, use `ser.iloc[pos]`\n",
      "  date = b[2]\n"
     ]
    },
    {
     "name": "stdout",
     "output_type": "stream",
     "text": [
      "done!\n",
      "237, 0\n",
      "generating for 2018-01-18 Agnieszka Radwanska, Lesia Tsurenko\n"
     ]
    },
    {
     "name": "stderr",
     "output_type": "stream",
     "text": [
      "/var/folders/pt/zlhpwgms1r38l09fb5f24y_80000gn/T/ipykernel_11826/3368081595.py:6: FutureWarning: Series.__getitem__ treating keys as positions is deprecated. In a future version, integer keys will always be treated as labels (consistent with DataFrame behavior). To access a value by position, use `ser.iloc[pos]`\n",
      "  n1 = b[0]\n",
      "/var/folders/pt/zlhpwgms1r38l09fb5f24y_80000gn/T/ipykernel_11826/3368081595.py:7: FutureWarning: Series.__getitem__ treating keys as positions is deprecated. In a future version, integer keys will always be treated as labels (consistent with DataFrame behavior). To access a value by position, use `ser.iloc[pos]`\n",
      "  n2 = b[1]\n",
      "/var/folders/pt/zlhpwgms1r38l09fb5f24y_80000gn/T/ipykernel_11826/3368081595.py:8: FutureWarning: Series.__getitem__ treating keys as positions is deprecated. In a future version, integer keys will always be treated as labels (consistent with DataFrame behavior). To access a value by position, use `ser.iloc[pos]`\n",
      "  date = b[2]\n"
     ]
    },
    {
     "name": "stdout",
     "output_type": "stream",
     "text": [
      "done!\n",
      "238, 0\n",
      "generating for 2018-01-19 Caroline Wozniacki, Kiki Bertens\n"
     ]
    },
    {
     "name": "stderr",
     "output_type": "stream",
     "text": [
      "/var/folders/pt/zlhpwgms1r38l09fb5f24y_80000gn/T/ipykernel_11826/3368081595.py:6: FutureWarning: Series.__getitem__ treating keys as positions is deprecated. In a future version, integer keys will always be treated as labels (consistent with DataFrame behavior). To access a value by position, use `ser.iloc[pos]`\n",
      "  n1 = b[0]\n",
      "/var/folders/pt/zlhpwgms1r38l09fb5f24y_80000gn/T/ipykernel_11826/3368081595.py:7: FutureWarning: Series.__getitem__ treating keys as positions is deprecated. In a future version, integer keys will always be treated as labels (consistent with DataFrame behavior). To access a value by position, use `ser.iloc[pos]`\n",
      "  n2 = b[1]\n",
      "/var/folders/pt/zlhpwgms1r38l09fb5f24y_80000gn/T/ipykernel_11826/3368081595.py:8: FutureWarning: Series.__getitem__ treating keys as positions is deprecated. In a future version, integer keys will always be treated as labels (consistent with DataFrame behavior). To access a value by position, use `ser.iloc[pos]`\n",
      "  date = b[2]\n"
     ]
    },
    {
     "name": "stdout",
     "output_type": "stream",
     "text": [
      "done!\n",
      "239, 0\n",
      "generating for 2018-01-22 Madison Keys, Caroline Garcia\n"
     ]
    },
    {
     "name": "stderr",
     "output_type": "stream",
     "text": [
      "/var/folders/pt/zlhpwgms1r38l09fb5f24y_80000gn/T/ipykernel_11826/3368081595.py:6: FutureWarning: Series.__getitem__ treating keys as positions is deprecated. In a future version, integer keys will always be treated as labels (consistent with DataFrame behavior). To access a value by position, use `ser.iloc[pos]`\n",
      "  n1 = b[0]\n",
      "/var/folders/pt/zlhpwgms1r38l09fb5f24y_80000gn/T/ipykernel_11826/3368081595.py:7: FutureWarning: Series.__getitem__ treating keys as positions is deprecated. In a future version, integer keys will always be treated as labels (consistent with DataFrame behavior). To access a value by position, use `ser.iloc[pos]`\n",
      "  n2 = b[1]\n",
      "/var/folders/pt/zlhpwgms1r38l09fb5f24y_80000gn/T/ipykernel_11826/3368081595.py:8: FutureWarning: Series.__getitem__ treating keys as positions is deprecated. In a future version, integer keys will always be treated as labels (consistent with DataFrame behavior). To access a value by position, use `ser.iloc[pos]`\n",
      "  date = b[2]\n"
     ]
    },
    {
     "name": "stdout",
     "output_type": "stream",
     "text": [
      "done!\n",
      "240, 0\n",
      "generating for 2018-01-22 Simona Halep, Naomi Osaka\n"
     ]
    },
    {
     "name": "stderr",
     "output_type": "stream",
     "text": [
      "/var/folders/pt/zlhpwgms1r38l09fb5f24y_80000gn/T/ipykernel_11826/3368081595.py:6: FutureWarning: Series.__getitem__ treating keys as positions is deprecated. In a future version, integer keys will always be treated as labels (consistent with DataFrame behavior). To access a value by position, use `ser.iloc[pos]`\n",
      "  n1 = b[0]\n",
      "/var/folders/pt/zlhpwgms1r38l09fb5f24y_80000gn/T/ipykernel_11826/3368081595.py:7: FutureWarning: Series.__getitem__ treating keys as positions is deprecated. In a future version, integer keys will always be treated as labels (consistent with DataFrame behavior). To access a value by position, use `ser.iloc[pos]`\n",
      "  n2 = b[1]\n",
      "/var/folders/pt/zlhpwgms1r38l09fb5f24y_80000gn/T/ipykernel_11826/3368081595.py:8: FutureWarning: Series.__getitem__ treating keys as positions is deprecated. In a future version, integer keys will always be treated as labels (consistent with DataFrame behavior). To access a value by position, use `ser.iloc[pos]`\n",
      "  date = b[2]\n"
     ]
    },
    {
     "name": "stdout",
     "output_type": "stream",
     "text": [
      "done!\n",
      "241, 0\n",
      "generating for 2018-01-22 Karolina Pliskova, Barbora Strycova\n"
     ]
    },
    {
     "name": "stderr",
     "output_type": "stream",
     "text": [
      "/var/folders/pt/zlhpwgms1r38l09fb5f24y_80000gn/T/ipykernel_11826/3368081595.py:6: FutureWarning: Series.__getitem__ treating keys as positions is deprecated. In a future version, integer keys will always be treated as labels (consistent with DataFrame behavior). To access a value by position, use `ser.iloc[pos]`\n",
      "  n1 = b[0]\n",
      "/var/folders/pt/zlhpwgms1r38l09fb5f24y_80000gn/T/ipykernel_11826/3368081595.py:7: FutureWarning: Series.__getitem__ treating keys as positions is deprecated. In a future version, integer keys will always be treated as labels (consistent with DataFrame behavior). To access a value by position, use `ser.iloc[pos]`\n",
      "  n2 = b[1]\n",
      "/var/folders/pt/zlhpwgms1r38l09fb5f24y_80000gn/T/ipykernel_11826/3368081595.py:8: FutureWarning: Series.__getitem__ treating keys as positions is deprecated. In a future version, integer keys will always be treated as labels (consistent with DataFrame behavior). To access a value by position, use `ser.iloc[pos]`\n",
      "  date = b[2]\n"
     ]
    },
    {
     "name": "stdout",
     "output_type": "stream",
     "text": [
      "done!\n",
      "242, 0\n",
      "generating for 2018-01-24 Simona Halep, Karolina Pliskova\n"
     ]
    },
    {
     "name": "stderr",
     "output_type": "stream",
     "text": [
      "/var/folders/pt/zlhpwgms1r38l09fb5f24y_80000gn/T/ipykernel_11826/3368081595.py:6: FutureWarning: Series.__getitem__ treating keys as positions is deprecated. In a future version, integer keys will always be treated as labels (consistent with DataFrame behavior). To access a value by position, use `ser.iloc[pos]`\n",
      "  n1 = b[0]\n",
      "/var/folders/pt/zlhpwgms1r38l09fb5f24y_80000gn/T/ipykernel_11826/3368081595.py:7: FutureWarning: Series.__getitem__ treating keys as positions is deprecated. In a future version, integer keys will always be treated as labels (consistent with DataFrame behavior). To access a value by position, use `ser.iloc[pos]`\n",
      "  n2 = b[1]\n",
      "/var/folders/pt/zlhpwgms1r38l09fb5f24y_80000gn/T/ipykernel_11826/3368081595.py:8: FutureWarning: Series.__getitem__ treating keys as positions is deprecated. In a future version, integer keys will always be treated as labels (consistent with DataFrame behavior). To access a value by position, use `ser.iloc[pos]`\n",
      "  date = b[2]\n"
     ]
    },
    {
     "name": "stdout",
     "output_type": "stream",
     "text": [
      "done!\n",
      "243, 0\n",
      "generating for 2018-01-25 Simona Halep, Angelique Kerber\n"
     ]
    },
    {
     "name": "stderr",
     "output_type": "stream",
     "text": [
      "/var/folders/pt/zlhpwgms1r38l09fb5f24y_80000gn/T/ipykernel_11826/3368081595.py:6: FutureWarning: Series.__getitem__ treating keys as positions is deprecated. In a future version, integer keys will always be treated as labels (consistent with DataFrame behavior). To access a value by position, use `ser.iloc[pos]`\n",
      "  n1 = b[0]\n",
      "/var/folders/pt/zlhpwgms1r38l09fb5f24y_80000gn/T/ipykernel_11826/3368081595.py:7: FutureWarning: Series.__getitem__ treating keys as positions is deprecated. In a future version, integer keys will always be treated as labels (consistent with DataFrame behavior). To access a value by position, use `ser.iloc[pos]`\n",
      "  n2 = b[1]\n",
      "/var/folders/pt/zlhpwgms1r38l09fb5f24y_80000gn/T/ipykernel_11826/3368081595.py:8: FutureWarning: Series.__getitem__ treating keys as positions is deprecated. In a future version, integer keys will always be treated as labels (consistent with DataFrame behavior). To access a value by position, use `ser.iloc[pos]`\n",
      "  date = b[2]\n"
     ]
    },
    {
     "name": "stdout",
     "output_type": "stream",
     "text": [
      "done!\n",
      "244, 0\n",
      "generating for 2018-01-27 Caroline Wozniacki, Simona Halep\n"
     ]
    },
    {
     "name": "stderr",
     "output_type": "stream",
     "text": [
      "/var/folders/pt/zlhpwgms1r38l09fb5f24y_80000gn/T/ipykernel_11826/3368081595.py:6: FutureWarning: Series.__getitem__ treating keys as positions is deprecated. In a future version, integer keys will always be treated as labels (consistent with DataFrame behavior). To access a value by position, use `ser.iloc[pos]`\n",
      "  n1 = b[0]\n",
      "/var/folders/pt/zlhpwgms1r38l09fb5f24y_80000gn/T/ipykernel_11826/3368081595.py:7: FutureWarning: Series.__getitem__ treating keys as positions is deprecated. In a future version, integer keys will always be treated as labels (consistent with DataFrame behavior). To access a value by position, use `ser.iloc[pos]`\n",
      "  n2 = b[1]\n",
      "/var/folders/pt/zlhpwgms1r38l09fb5f24y_80000gn/T/ipykernel_11826/3368081595.py:8: FutureWarning: Series.__getitem__ treating keys as positions is deprecated. In a future version, integer keys will always be treated as labels (consistent with DataFrame behavior). To access a value by position, use `ser.iloc[pos]`\n",
      "  date = b[2]\n"
     ]
    },
    {
     "name": "stdout",
     "output_type": "stream",
     "text": [
      "done!\n",
      "245, 0\n",
      "generating for 2018-01-30 Dominika Cibulkova, Sorana Cirstea\n"
     ]
    },
    {
     "name": "stderr",
     "output_type": "stream",
     "text": [
      "/var/folders/pt/zlhpwgms1r38l09fb5f24y_80000gn/T/ipykernel_11826/3368081595.py:6: FutureWarning: Series.__getitem__ treating keys as positions is deprecated. In a future version, integer keys will always be treated as labels (consistent with DataFrame behavior). To access a value by position, use `ser.iloc[pos]`\n",
      "  n1 = b[0]\n",
      "/var/folders/pt/zlhpwgms1r38l09fb5f24y_80000gn/T/ipykernel_11826/3368081595.py:7: FutureWarning: Series.__getitem__ treating keys as positions is deprecated. In a future version, integer keys will always be treated as labels (consistent with DataFrame behavior). To access a value by position, use `ser.iloc[pos]`\n",
      "  n2 = b[1]\n",
      "/var/folders/pt/zlhpwgms1r38l09fb5f24y_80000gn/T/ipykernel_11826/3368081595.py:8: FutureWarning: Series.__getitem__ treating keys as positions is deprecated. In a future version, integer keys will always be treated as labels (consistent with DataFrame behavior). To access a value by position, use `ser.iloc[pos]`\n",
      "  date = b[2]\n"
     ]
    },
    {
     "name": "stdout",
     "output_type": "stream",
     "text": [
      "done!\n",
      "246, 0\n",
      "generating for 2018-02-01 Kristina Mladenovic, Dominika Cibulkova\n"
     ]
    },
    {
     "name": "stderr",
     "output_type": "stream",
     "text": [
      "/var/folders/pt/zlhpwgms1r38l09fb5f24y_80000gn/T/ipykernel_11826/3368081595.py:6: FutureWarning: Series.__getitem__ treating keys as positions is deprecated. In a future version, integer keys will always be treated as labels (consistent with DataFrame behavior). To access a value by position, use `ser.iloc[pos]`\n",
      "  n1 = b[0]\n",
      "/var/folders/pt/zlhpwgms1r38l09fb5f24y_80000gn/T/ipykernel_11826/3368081595.py:7: FutureWarning: Series.__getitem__ treating keys as positions is deprecated. In a future version, integer keys will always be treated as labels (consistent with DataFrame behavior). To access a value by position, use `ser.iloc[pos]`\n",
      "  n2 = b[1]\n",
      "/var/folders/pt/zlhpwgms1r38l09fb5f24y_80000gn/T/ipykernel_11826/3368081595.py:8: FutureWarning: Series.__getitem__ treating keys as positions is deprecated. In a future version, integer keys will always be treated as labels (consistent with DataFrame behavior). To access a value by position, use `ser.iloc[pos]`\n",
      "  date = b[2]\n"
     ]
    },
    {
     "name": "stdout",
     "output_type": "stream",
     "text": [
      "done!\n",
      "247, 0\n",
      "generating for 2018-02-02 Daria Kasatkina, Caroline Wozniacki\n"
     ]
    },
    {
     "name": "stderr",
     "output_type": "stream",
     "text": [
      "/var/folders/pt/zlhpwgms1r38l09fb5f24y_80000gn/T/ipykernel_11826/3368081595.py:6: FutureWarning: Series.__getitem__ treating keys as positions is deprecated. In a future version, integer keys will always be treated as labels (consistent with DataFrame behavior). To access a value by position, use `ser.iloc[pos]`\n",
      "  n1 = b[0]\n",
      "/var/folders/pt/zlhpwgms1r38l09fb5f24y_80000gn/T/ipykernel_11826/3368081595.py:7: FutureWarning: Series.__getitem__ treating keys as positions is deprecated. In a future version, integer keys will always be treated as labels (consistent with DataFrame behavior). To access a value by position, use `ser.iloc[pos]`\n",
      "  n2 = b[1]\n",
      "/var/folders/pt/zlhpwgms1r38l09fb5f24y_80000gn/T/ipykernel_11826/3368081595.py:8: FutureWarning: Series.__getitem__ treating keys as positions is deprecated. In a future version, integer keys will always be treated as labels (consistent with DataFrame behavior). To access a value by position, use `ser.iloc[pos]`\n",
      "  date = b[2]\n"
     ]
    },
    {
     "name": "stdout",
     "output_type": "stream",
     "text": [
      "done!\n",
      "248, 0\n",
      "generating for 2018-02-03 Kristina Mladenovic, Daria Kasatkina\n"
     ]
    },
    {
     "name": "stderr",
     "output_type": "stream",
     "text": [
      "/var/folders/pt/zlhpwgms1r38l09fb5f24y_80000gn/T/ipykernel_11826/3368081595.py:6: FutureWarning: Series.__getitem__ treating keys as positions is deprecated. In a future version, integer keys will always be treated as labels (consistent with DataFrame behavior). To access a value by position, use `ser.iloc[pos]`\n",
      "  n1 = b[0]\n",
      "/var/folders/pt/zlhpwgms1r38l09fb5f24y_80000gn/T/ipykernel_11826/3368081595.py:7: FutureWarning: Series.__getitem__ treating keys as positions is deprecated. In a future version, integer keys will always be treated as labels (consistent with DataFrame behavior). To access a value by position, use `ser.iloc[pos]`\n",
      "  n2 = b[1]\n",
      "/var/folders/pt/zlhpwgms1r38l09fb5f24y_80000gn/T/ipykernel_11826/3368081595.py:8: FutureWarning: Series.__getitem__ treating keys as positions is deprecated. In a future version, integer keys will always be treated as labels (consistent with DataFrame behavior). To access a value by position, use `ser.iloc[pos]`\n",
      "  date = b[2]\n"
     ]
    },
    {
     "name": "stdout",
     "output_type": "stream",
     "text": [
      "done!\n",
      "249, 0\n",
      "generating for 2018-01-30 Nao Hibino, Samantha Stosur\n"
     ]
    },
    {
     "name": "stderr",
     "output_type": "stream",
     "text": [
      "/var/folders/pt/zlhpwgms1r38l09fb5f24y_80000gn/T/ipykernel_11826/3368081595.py:6: FutureWarning: Series.__getitem__ treating keys as positions is deprecated. In a future version, integer keys will always be treated as labels (consistent with DataFrame behavior). To access a value by position, use `ser.iloc[pos]`\n",
      "  n1 = b[0]\n",
      "/var/folders/pt/zlhpwgms1r38l09fb5f24y_80000gn/T/ipykernel_11826/3368081595.py:7: FutureWarning: Series.__getitem__ treating keys as positions is deprecated. In a future version, integer keys will always be treated as labels (consistent with DataFrame behavior). To access a value by position, use `ser.iloc[pos]`\n",
      "  n2 = b[1]\n",
      "/var/folders/pt/zlhpwgms1r38l09fb5f24y_80000gn/T/ipykernel_11826/3368081595.py:8: FutureWarning: Series.__getitem__ treating keys as positions is deprecated. In a future version, integer keys will always be treated as labels (consistent with DataFrame behavior). To access a value by position, use `ser.iloc[pos]`\n",
      "  date = b[2]\n"
     ]
    },
    {
     "name": "stdout",
     "output_type": "stream",
     "text": [
      "done!\n",
      "250, 0\n",
      "generating for 2018-02-12 Catherine Cartan Bellis, Daria Kasatkina\n"
     ]
    },
    {
     "name": "stderr",
     "output_type": "stream",
     "text": [
      "/var/folders/pt/zlhpwgms1r38l09fb5f24y_80000gn/T/ipykernel_11826/3368081595.py:6: FutureWarning: Series.__getitem__ treating keys as positions is deprecated. In a future version, integer keys will always be treated as labels (consistent with DataFrame behavior). To access a value by position, use `ser.iloc[pos]`\n",
      "  n1 = b[0]\n",
      "/var/folders/pt/zlhpwgms1r38l09fb5f24y_80000gn/T/ipykernel_11826/3368081595.py:7: FutureWarning: Series.__getitem__ treating keys as positions is deprecated. In a future version, integer keys will always be treated as labels (consistent with DataFrame behavior). To access a value by position, use `ser.iloc[pos]`\n",
      "  n2 = b[1]\n",
      "/var/folders/pt/zlhpwgms1r38l09fb5f24y_80000gn/T/ipykernel_11826/3368081595.py:8: FutureWarning: Series.__getitem__ treating keys as positions is deprecated. In a future version, integer keys will always be treated as labels (consistent with DataFrame behavior). To access a value by position, use `ser.iloc[pos]`\n",
      "  date = b[2]\n"
     ]
    },
    {
     "name": "stdout",
     "output_type": "stream",
     "text": [
      "done!\n",
      "251, 0\n",
      "generating for 2018-02-13 Samantha Stosur, Irina Camelia Begu\n"
     ]
    },
    {
     "name": "stderr",
     "output_type": "stream",
     "text": [
      "/var/folders/pt/zlhpwgms1r38l09fb5f24y_80000gn/T/ipykernel_11826/3368081595.py:6: FutureWarning: Series.__getitem__ treating keys as positions is deprecated. In a future version, integer keys will always be treated as labels (consistent with DataFrame behavior). To access a value by position, use `ser.iloc[pos]`\n",
      "  n1 = b[0]\n",
      "/var/folders/pt/zlhpwgms1r38l09fb5f24y_80000gn/T/ipykernel_11826/3368081595.py:7: FutureWarning: Series.__getitem__ treating keys as positions is deprecated. In a future version, integer keys will always be treated as labels (consistent with DataFrame behavior). To access a value by position, use `ser.iloc[pos]`\n",
      "  n2 = b[1]\n",
      "/var/folders/pt/zlhpwgms1r38l09fb5f24y_80000gn/T/ipykernel_11826/3368081595.py:8: FutureWarning: Series.__getitem__ treating keys as positions is deprecated. In a future version, integer keys will always be treated as labels (consistent with DataFrame behavior). To access a value by position, use `ser.iloc[pos]`\n",
      "  date = b[2]\n"
     ]
    },
    {
     "name": "stdout",
     "output_type": "stream",
     "text": [
      "done!\n",
      "252, 0\n",
      "generating for 2018-02-13 Carla Suarez Navarro, Kateryna Bondarenko\n"
     ]
    },
    {
     "name": "stderr",
     "output_type": "stream",
     "text": [
      "/var/folders/pt/zlhpwgms1r38l09fb5f24y_80000gn/T/ipykernel_11826/3368081595.py:6: FutureWarning: Series.__getitem__ treating keys as positions is deprecated. In a future version, integer keys will always be treated as labels (consistent with DataFrame behavior). To access a value by position, use `ser.iloc[pos]`\n",
      "  n1 = b[0]\n",
      "/var/folders/pt/zlhpwgms1r38l09fb5f24y_80000gn/T/ipykernel_11826/3368081595.py:7: FutureWarning: Series.__getitem__ treating keys as positions is deprecated. In a future version, integer keys will always be treated as labels (consistent with DataFrame behavior). To access a value by position, use `ser.iloc[pos]`\n",
      "  n2 = b[1]\n",
      "/var/folders/pt/zlhpwgms1r38l09fb5f24y_80000gn/T/ipykernel_11826/3368081595.py:8: FutureWarning: Series.__getitem__ treating keys as positions is deprecated. In a future version, integer keys will always be treated as labels (consistent with DataFrame behavior). To access a value by position, use `ser.iloc[pos]`\n",
      "  date = b[2]\n"
     ]
    },
    {
     "name": "stdout",
     "output_type": "stream",
     "text": [
      "done!\n",
      "253, 0\n",
      "generating for 2018-02-14 Catherine Cartan Bellis, Madison Keys\n"
     ]
    },
    {
     "name": "stderr",
     "output_type": "stream",
     "text": [
      "/var/folders/pt/zlhpwgms1r38l09fb5f24y_80000gn/T/ipykernel_11826/3368081595.py:6: FutureWarning: Series.__getitem__ treating keys as positions is deprecated. In a future version, integer keys will always be treated as labels (consistent with DataFrame behavior). To access a value by position, use `ser.iloc[pos]`\n",
      "  n1 = b[0]\n",
      "/var/folders/pt/zlhpwgms1r38l09fb5f24y_80000gn/T/ipykernel_11826/3368081595.py:7: FutureWarning: Series.__getitem__ treating keys as positions is deprecated. In a future version, integer keys will always be treated as labels (consistent with DataFrame behavior). To access a value by position, use `ser.iloc[pos]`\n",
      "  n2 = b[1]\n",
      "/var/folders/pt/zlhpwgms1r38l09fb5f24y_80000gn/T/ipykernel_11826/3368081595.py:8: FutureWarning: Series.__getitem__ treating keys as positions is deprecated. In a future version, integer keys will always be treated as labels (consistent with DataFrame behavior). To access a value by position, use `ser.iloc[pos]`\n",
      "  date = b[2]\n"
     ]
    },
    {
     "name": "stdout",
     "output_type": "stream",
     "text": [
      "done!\n",
      "254, 0\n",
      "generating for 2018-02-14 Sorana Cirstea, Elise Mertens\n"
     ]
    },
    {
     "name": "stderr",
     "output_type": "stream",
     "text": [
      "/var/folders/pt/zlhpwgms1r38l09fb5f24y_80000gn/T/ipykernel_11826/3368081595.py:6: FutureWarning: Series.__getitem__ treating keys as positions is deprecated. In a future version, integer keys will always be treated as labels (consistent with DataFrame behavior). To access a value by position, use `ser.iloc[pos]`\n",
      "  n1 = b[0]\n",
      "/var/folders/pt/zlhpwgms1r38l09fb5f24y_80000gn/T/ipykernel_11826/3368081595.py:7: FutureWarning: Series.__getitem__ treating keys as positions is deprecated. In a future version, integer keys will always be treated as labels (consistent with DataFrame behavior). To access a value by position, use `ser.iloc[pos]`\n",
      "  n2 = b[1]\n",
      "/var/folders/pt/zlhpwgms1r38l09fb5f24y_80000gn/T/ipykernel_11826/3368081595.py:8: FutureWarning: Series.__getitem__ treating keys as positions is deprecated. In a future version, integer keys will always be treated as labels (consistent with DataFrame behavior). To access a value by position, use `ser.iloc[pos]`\n",
      "  date = b[2]\n"
     ]
    },
    {
     "name": "stdout",
     "output_type": "stream",
     "text": [
      "done!\n",
      "255, 0\n",
      "generating for 2018-02-15 Garbine Muguruza, Sorana Cirstea\n"
     ]
    },
    {
     "name": "stderr",
     "output_type": "stream",
     "text": [
      "/var/folders/pt/zlhpwgms1r38l09fb5f24y_80000gn/T/ipykernel_11826/3368081595.py:6: FutureWarning: Series.__getitem__ treating keys as positions is deprecated. In a future version, integer keys will always be treated as labels (consistent with DataFrame behavior). To access a value by position, use `ser.iloc[pos]`\n",
      "  n1 = b[0]\n",
      "/var/folders/pt/zlhpwgms1r38l09fb5f24y_80000gn/T/ipykernel_11826/3368081595.py:7: FutureWarning: Series.__getitem__ treating keys as positions is deprecated. In a future version, integer keys will always be treated as labels (consistent with DataFrame behavior). To access a value by position, use `ser.iloc[pos]`\n",
      "  n2 = b[1]\n",
      "/var/folders/pt/zlhpwgms1r38l09fb5f24y_80000gn/T/ipykernel_11826/3368081595.py:8: FutureWarning: Series.__getitem__ treating keys as positions is deprecated. In a future version, integer keys will always be treated as labels (consistent with DataFrame behavior). To access a value by position, use `ser.iloc[pos]`\n",
      "  date = b[2]\n"
     ]
    },
    {
     "name": "stdout",
     "output_type": "stream",
     "text": [
      "done!\n",
      "256, 0\n",
      "generating for 2018-02-15 Catherine Cartan Bellis, Karolina Pliskova\n"
     ]
    },
    {
     "name": "stderr",
     "output_type": "stream",
     "text": [
      "/var/folders/pt/zlhpwgms1r38l09fb5f24y_80000gn/T/ipykernel_11826/3368081595.py:6: FutureWarning: Series.__getitem__ treating keys as positions is deprecated. In a future version, integer keys will always be treated as labels (consistent with DataFrame behavior). To access a value by position, use `ser.iloc[pos]`\n",
      "  n1 = b[0]\n",
      "/var/folders/pt/zlhpwgms1r38l09fb5f24y_80000gn/T/ipykernel_11826/3368081595.py:7: FutureWarning: Series.__getitem__ treating keys as positions is deprecated. In a future version, integer keys will always be treated as labels (consistent with DataFrame behavior). To access a value by position, use `ser.iloc[pos]`\n",
      "  n2 = b[1]\n",
      "/var/folders/pt/zlhpwgms1r38l09fb5f24y_80000gn/T/ipykernel_11826/3368081595.py:8: FutureWarning: Series.__getitem__ treating keys as positions is deprecated. In a future version, integer keys will always be treated as labels (consistent with DataFrame behavior). To access a value by position, use `ser.iloc[pos]`\n",
      "  date = b[2]\n"
     ]
    },
    {
     "name": "stdout",
     "output_type": "stream",
     "text": [
      "done!\n",
      "257, 0\n",
      "generating for 2018-02-15 Simona Halep, Anastasija Sevastova\n"
     ]
    },
    {
     "name": "stderr",
     "output_type": "stream",
     "text": [
      "/var/folders/pt/zlhpwgms1r38l09fb5f24y_80000gn/T/ipykernel_11826/3368081595.py:6: FutureWarning: Series.__getitem__ treating keys as positions is deprecated. In a future version, integer keys will always be treated as labels (consistent with DataFrame behavior). To access a value by position, use `ser.iloc[pos]`\n",
      "  n1 = b[0]\n",
      "/var/folders/pt/zlhpwgms1r38l09fb5f24y_80000gn/T/ipykernel_11826/3368081595.py:7: FutureWarning: Series.__getitem__ treating keys as positions is deprecated. In a future version, integer keys will always be treated as labels (consistent with DataFrame behavior). To access a value by position, use `ser.iloc[pos]`\n",
      "  n2 = b[1]\n",
      "/var/folders/pt/zlhpwgms1r38l09fb5f24y_80000gn/T/ipykernel_11826/3368081595.py:8: FutureWarning: Series.__getitem__ treating keys as positions is deprecated. In a future version, integer keys will always be treated as labels (consistent with DataFrame behavior). To access a value by position, use `ser.iloc[pos]`\n",
      "  date = b[2]\n"
     ]
    },
    {
     "name": "stdout",
     "output_type": "stream",
     "text": [
      "done!\n",
      "258, 0\n",
      "generating for 2018-02-16 Garbine Muguruza, Caroline Garcia\n"
     ]
    },
    {
     "name": "stderr",
     "output_type": "stream",
     "text": [
      "/var/folders/pt/zlhpwgms1r38l09fb5f24y_80000gn/T/ipykernel_11826/3368081595.py:6: FutureWarning: Series.__getitem__ treating keys as positions is deprecated. In a future version, integer keys will always be treated as labels (consistent with DataFrame behavior). To access a value by position, use `ser.iloc[pos]`\n",
      "  n1 = b[0]\n",
      "/var/folders/pt/zlhpwgms1r38l09fb5f24y_80000gn/T/ipykernel_11826/3368081595.py:7: FutureWarning: Series.__getitem__ treating keys as positions is deprecated. In a future version, integer keys will always be treated as labels (consistent with DataFrame behavior). To access a value by position, use `ser.iloc[pos]`\n",
      "  n2 = b[1]\n",
      "/var/folders/pt/zlhpwgms1r38l09fb5f24y_80000gn/T/ipykernel_11826/3368081595.py:8: FutureWarning: Series.__getitem__ treating keys as positions is deprecated. In a future version, integer keys will always be treated as labels (consistent with DataFrame behavior). To access a value by position, use `ser.iloc[pos]`\n",
      "  date = b[2]\n"
     ]
    },
    {
     "name": "stdout",
     "output_type": "stream",
     "text": [
      "done!\n",
      "259, 0\n",
      "generating for 2018-02-19 Elena Vesnina, Shuai Peng\n"
     ]
    },
    {
     "name": "stderr",
     "output_type": "stream",
     "text": [
      "/var/folders/pt/zlhpwgms1r38l09fb5f24y_80000gn/T/ipykernel_11826/3368081595.py:6: FutureWarning: Series.__getitem__ treating keys as positions is deprecated. In a future version, integer keys will always be treated as labels (consistent with DataFrame behavior). To access a value by position, use `ser.iloc[pos]`\n",
      "  n1 = b[0]\n",
      "/var/folders/pt/zlhpwgms1r38l09fb5f24y_80000gn/T/ipykernel_11826/3368081595.py:7: FutureWarning: Series.__getitem__ treating keys as positions is deprecated. In a future version, integer keys will always be treated as labels (consistent with DataFrame behavior). To access a value by position, use `ser.iloc[pos]`\n",
      "  n2 = b[1]\n",
      "/var/folders/pt/zlhpwgms1r38l09fb5f24y_80000gn/T/ipykernel_11826/3368081595.py:8: FutureWarning: Series.__getitem__ treating keys as positions is deprecated. In a future version, integer keys will always be treated as labels (consistent with DataFrame behavior). To access a value by position, use `ser.iloc[pos]`\n",
      "  date = b[2]\n"
     ]
    },
    {
     "name": "stdout",
     "output_type": "stream",
     "text": [
      "done!\n",
      "260, 0\n",
      "generating for 2018-02-19 Daria Kasatkina, Agnieszka Radwanska\n"
     ]
    },
    {
     "name": "stderr",
     "output_type": "stream",
     "text": [
      "/var/folders/pt/zlhpwgms1r38l09fb5f24y_80000gn/T/ipykernel_11826/3368081595.py:6: FutureWarning: Series.__getitem__ treating keys as positions is deprecated. In a future version, integer keys will always be treated as labels (consistent with DataFrame behavior). To access a value by position, use `ser.iloc[pos]`\n",
      "  n1 = b[0]\n",
      "/var/folders/pt/zlhpwgms1r38l09fb5f24y_80000gn/T/ipykernel_11826/3368081595.py:7: FutureWarning: Series.__getitem__ treating keys as positions is deprecated. In a future version, integer keys will always be treated as labels (consistent with DataFrame behavior). To access a value by position, use `ser.iloc[pos]`\n",
      "  n2 = b[1]\n",
      "/var/folders/pt/zlhpwgms1r38l09fb5f24y_80000gn/T/ipykernel_11826/3368081595.py:8: FutureWarning: Series.__getitem__ treating keys as positions is deprecated. In a future version, integer keys will always be treated as labels (consistent with DataFrame behavior). To access a value by position, use `ser.iloc[pos]`\n",
      "  date = b[2]\n"
     ]
    },
    {
     "name": "stdout",
     "output_type": "stream",
     "text": [
      "done!\n",
      "261, 0\n",
      "generating for 2018-02-20 Catherine Cartan Bellis, Elise Mertens\n"
     ]
    },
    {
     "name": "stderr",
     "output_type": "stream",
     "text": [
      "/var/folders/pt/zlhpwgms1r38l09fb5f24y_80000gn/T/ipykernel_11826/3368081595.py:6: FutureWarning: Series.__getitem__ treating keys as positions is deprecated. In a future version, integer keys will always be treated as labels (consistent with DataFrame behavior). To access a value by position, use `ser.iloc[pos]`\n",
      "  n1 = b[0]\n",
      "/var/folders/pt/zlhpwgms1r38l09fb5f24y_80000gn/T/ipykernel_11826/3368081595.py:7: FutureWarning: Series.__getitem__ treating keys as positions is deprecated. In a future version, integer keys will always be treated as labels (consistent with DataFrame behavior). To access a value by position, use `ser.iloc[pos]`\n",
      "  n2 = b[1]\n",
      "/var/folders/pt/zlhpwgms1r38l09fb5f24y_80000gn/T/ipykernel_11826/3368081595.py:8: FutureWarning: Series.__getitem__ treating keys as positions is deprecated. In a future version, integer keys will always be treated as labels (consistent with DataFrame behavior). To access a value by position, use `ser.iloc[pos]`\n",
      "  date = b[2]\n"
     ]
    },
    {
     "name": "stdout",
     "output_type": "stream",
     "text": [
      "done!\n",
      "262, 0\n",
      "generating for 2018-02-20 Anett Kontaveit, Samantha Stosur\n"
     ]
    },
    {
     "name": "stderr",
     "output_type": "stream",
     "text": [
      "/var/folders/pt/zlhpwgms1r38l09fb5f24y_80000gn/T/ipykernel_11826/3368081595.py:6: FutureWarning: Series.__getitem__ treating keys as positions is deprecated. In a future version, integer keys will always be treated as labels (consistent with DataFrame behavior). To access a value by position, use `ser.iloc[pos]`\n",
      "  n1 = b[0]\n",
      "/var/folders/pt/zlhpwgms1r38l09fb5f24y_80000gn/T/ipykernel_11826/3368081595.py:7: FutureWarning: Series.__getitem__ treating keys as positions is deprecated. In a future version, integer keys will always be treated as labels (consistent with DataFrame behavior). To access a value by position, use `ser.iloc[pos]`\n",
      "  n2 = b[1]\n",
      "/var/folders/pt/zlhpwgms1r38l09fb5f24y_80000gn/T/ipykernel_11826/3368081595.py:8: FutureWarning: Series.__getitem__ treating keys as positions is deprecated. In a future version, integer keys will always be treated as labels (consistent with DataFrame behavior). To access a value by position, use `ser.iloc[pos]`\n",
      "  date = b[2]\n"
     ]
    },
    {
     "name": "stdout",
     "output_type": "stream",
     "text": [
      "done!\n",
      "263, 0\n",
      "generating for 2018-02-21 Naomi Osaka, Anett Kontaveit\n"
     ]
    },
    {
     "name": "stderr",
     "output_type": "stream",
     "text": [
      "/var/folders/pt/zlhpwgms1r38l09fb5f24y_80000gn/T/ipykernel_11826/3368081595.py:6: FutureWarning: Series.__getitem__ treating keys as positions is deprecated. In a future version, integer keys will always be treated as labels (consistent with DataFrame behavior). To access a value by position, use `ser.iloc[pos]`\n",
      "  n1 = b[0]\n",
      "/var/folders/pt/zlhpwgms1r38l09fb5f24y_80000gn/T/ipykernel_11826/3368081595.py:7: FutureWarning: Series.__getitem__ treating keys as positions is deprecated. In a future version, integer keys will always be treated as labels (consistent with DataFrame behavior). To access a value by position, use `ser.iloc[pos]`\n",
      "  n2 = b[1]\n",
      "/var/folders/pt/zlhpwgms1r38l09fb5f24y_80000gn/T/ipykernel_11826/3368081595.py:8: FutureWarning: Series.__getitem__ treating keys as positions is deprecated. In a future version, integer keys will always be treated as labels (consistent with DataFrame behavior). To access a value by position, use `ser.iloc[pos]`\n",
      "  date = b[2]\n"
     ]
    },
    {
     "name": "stdout",
     "output_type": "stream",
     "text": [
      "done!\n",
      "264, 0\n",
      "generating for 2018-02-21 Elena Vesnina, Jelena Ostapenko\n"
     ]
    },
    {
     "name": "stderr",
     "output_type": "stream",
     "text": [
      "/var/folders/pt/zlhpwgms1r38l09fb5f24y_80000gn/T/ipykernel_11826/3368081595.py:6: FutureWarning: Series.__getitem__ treating keys as positions is deprecated. In a future version, integer keys will always be treated as labels (consistent with DataFrame behavior). To access a value by position, use `ser.iloc[pos]`\n",
      "  n1 = b[0]\n",
      "/var/folders/pt/zlhpwgms1r38l09fb5f24y_80000gn/T/ipykernel_11826/3368081595.py:7: FutureWarning: Series.__getitem__ treating keys as positions is deprecated. In a future version, integer keys will always be treated as labels (consistent with DataFrame behavior). To access a value by position, use `ser.iloc[pos]`\n",
      "  n2 = b[1]\n",
      "/var/folders/pt/zlhpwgms1r38l09fb5f24y_80000gn/T/ipykernel_11826/3368081595.py:8: FutureWarning: Series.__getitem__ treating keys as positions is deprecated. In a future version, integer keys will always be treated as labels (consistent with DataFrame behavior). To access a value by position, use `ser.iloc[pos]`\n",
      "  date = b[2]\n"
     ]
    },
    {
     "name": "stdout",
     "output_type": "stream",
     "text": [
      "done!\n",
      "265, 0\n",
      "generating for 2018-02-21 Daria Kasatkina, Johanna Konta\n"
     ]
    },
    {
     "name": "stderr",
     "output_type": "stream",
     "text": [
      "/var/folders/pt/zlhpwgms1r38l09fb5f24y_80000gn/T/ipykernel_11826/3368081595.py:6: FutureWarning: Series.__getitem__ treating keys as positions is deprecated. In a future version, integer keys will always be treated as labels (consistent with DataFrame behavior). To access a value by position, use `ser.iloc[pos]`\n",
      "  n1 = b[0]\n",
      "/var/folders/pt/zlhpwgms1r38l09fb5f24y_80000gn/T/ipykernel_11826/3368081595.py:7: FutureWarning: Series.__getitem__ treating keys as positions is deprecated. In a future version, integer keys will always be treated as labels (consistent with DataFrame behavior). To access a value by position, use `ser.iloc[pos]`\n",
      "  n2 = b[1]\n",
      "/var/folders/pt/zlhpwgms1r38l09fb5f24y_80000gn/T/ipykernel_11826/3368081595.py:8: FutureWarning: Series.__getitem__ treating keys as positions is deprecated. In a future version, integer keys will always be treated as labels (consistent with DataFrame behavior). To access a value by position, use `ser.iloc[pos]`\n",
      "  date = b[2]\n"
     ]
    },
    {
     "name": "stdout",
     "output_type": "stream",
     "text": [
      "done!\n",
      "266, 0\n",
      "generating for 2018-02-21 Garbine Muguruza, Catherine Cartan Bellis\n"
     ]
    },
    {
     "name": "stderr",
     "output_type": "stream",
     "text": [
      "/var/folders/pt/zlhpwgms1r38l09fb5f24y_80000gn/T/ipykernel_11826/3368081595.py:6: FutureWarning: Series.__getitem__ treating keys as positions is deprecated. In a future version, integer keys will always be treated as labels (consistent with DataFrame behavior). To access a value by position, use `ser.iloc[pos]`\n",
      "  n1 = b[0]\n",
      "/var/folders/pt/zlhpwgms1r38l09fb5f24y_80000gn/T/ipykernel_11826/3368081595.py:7: FutureWarning: Series.__getitem__ treating keys as positions is deprecated. In a future version, integer keys will always be treated as labels (consistent with DataFrame behavior). To access a value by position, use `ser.iloc[pos]`\n",
      "  n2 = b[1]\n",
      "/var/folders/pt/zlhpwgms1r38l09fb5f24y_80000gn/T/ipykernel_11826/3368081595.py:8: FutureWarning: Series.__getitem__ treating keys as positions is deprecated. In a future version, integer keys will always be treated as labels (consistent with DataFrame behavior). To access a value by position, use `ser.iloc[pos]`\n",
      "  date = b[2]\n"
     ]
    },
    {
     "name": "stdout",
     "output_type": "stream",
     "text": [
      "done!\n",
      "267, 0\n",
      "generating for 2018-02-22 Elina Svitolina, Naomi Osaka\n"
     ]
    },
    {
     "name": "stderr",
     "output_type": "stream",
     "text": [
      "/var/folders/pt/zlhpwgms1r38l09fb5f24y_80000gn/T/ipykernel_11826/3368081595.py:6: FutureWarning: Series.__getitem__ treating keys as positions is deprecated. In a future version, integer keys will always be treated as labels (consistent with DataFrame behavior). To access a value by position, use `ser.iloc[pos]`\n",
      "  n1 = b[0]\n",
      "/var/folders/pt/zlhpwgms1r38l09fb5f24y_80000gn/T/ipykernel_11826/3368081595.py:7: FutureWarning: Series.__getitem__ treating keys as positions is deprecated. In a future version, integer keys will always be treated as labels (consistent with DataFrame behavior). To access a value by position, use `ser.iloc[pos]`\n",
      "  n2 = b[1]\n",
      "/var/folders/pt/zlhpwgms1r38l09fb5f24y_80000gn/T/ipykernel_11826/3368081595.py:8: FutureWarning: Series.__getitem__ treating keys as positions is deprecated. In a future version, integer keys will always be treated as labels (consistent with DataFrame behavior). To access a value by position, use `ser.iloc[pos]`\n",
      "  date = b[2]\n"
     ]
    },
    {
     "name": "stdout",
     "output_type": "stream",
     "text": [
      "done!\n",
      "268, 0\n",
      "generating for 2018-02-22 Garbine Muguruza, Caroline Garcia\n"
     ]
    },
    {
     "name": "stderr",
     "output_type": "stream",
     "text": [
      "/var/folders/pt/zlhpwgms1r38l09fb5f24y_80000gn/T/ipykernel_11826/3368081595.py:6: FutureWarning: Series.__getitem__ treating keys as positions is deprecated. In a future version, integer keys will always be treated as labels (consistent with DataFrame behavior). To access a value by position, use `ser.iloc[pos]`\n",
      "  n1 = b[0]\n",
      "/var/folders/pt/zlhpwgms1r38l09fb5f24y_80000gn/T/ipykernel_11826/3368081595.py:7: FutureWarning: Series.__getitem__ treating keys as positions is deprecated. In a future version, integer keys will always be treated as labels (consistent with DataFrame behavior). To access a value by position, use `ser.iloc[pos]`\n",
      "  n2 = b[1]\n",
      "/var/folders/pt/zlhpwgms1r38l09fb5f24y_80000gn/T/ipykernel_11826/3368081595.py:8: FutureWarning: Series.__getitem__ treating keys as positions is deprecated. In a future version, integer keys will always be treated as labels (consistent with DataFrame behavior). To access a value by position, use `ser.iloc[pos]`\n",
      "  date = b[2]\n"
     ]
    },
    {
     "name": "stdout",
     "output_type": "stream",
     "text": [
      "done!\n",
      "269, 0\n",
      "generating for 2018-02-22 Daria Kasatkina, Elena Vesnina\n"
     ]
    },
    {
     "name": "stderr",
     "output_type": "stream",
     "text": [
      "/var/folders/pt/zlhpwgms1r38l09fb5f24y_80000gn/T/ipykernel_11826/3368081595.py:6: FutureWarning: Series.__getitem__ treating keys as positions is deprecated. In a future version, integer keys will always be treated as labels (consistent with DataFrame behavior). To access a value by position, use `ser.iloc[pos]`\n",
      "  n1 = b[0]\n",
      "/var/folders/pt/zlhpwgms1r38l09fb5f24y_80000gn/T/ipykernel_11826/3368081595.py:7: FutureWarning: Series.__getitem__ treating keys as positions is deprecated. In a future version, integer keys will always be treated as labels (consistent with DataFrame behavior). To access a value by position, use `ser.iloc[pos]`\n",
      "  n2 = b[1]\n",
      "/var/folders/pt/zlhpwgms1r38l09fb5f24y_80000gn/T/ipykernel_11826/3368081595.py:8: FutureWarning: Series.__getitem__ treating keys as positions is deprecated. In a future version, integer keys will always be treated as labels (consistent with DataFrame behavior). To access a value by position, use `ser.iloc[pos]`\n",
      "  date = b[2]\n"
     ]
    },
    {
     "name": "stdout",
     "output_type": "stream",
     "text": [
      "done!\n",
      "270, 0\n",
      "generating for 2018-02-23 Daria Kasatkina, Garbine Muguruza\n"
     ]
    },
    {
     "name": "stderr",
     "output_type": "stream",
     "text": [
      "/var/folders/pt/zlhpwgms1r38l09fb5f24y_80000gn/T/ipykernel_11826/3368081595.py:6: FutureWarning: Series.__getitem__ treating keys as positions is deprecated. In a future version, integer keys will always be treated as labels (consistent with DataFrame behavior). To access a value by position, use `ser.iloc[pos]`\n",
      "  n1 = b[0]\n",
      "/var/folders/pt/zlhpwgms1r38l09fb5f24y_80000gn/T/ipykernel_11826/3368081595.py:7: FutureWarning: Series.__getitem__ treating keys as positions is deprecated. In a future version, integer keys will always be treated as labels (consistent with DataFrame behavior). To access a value by position, use `ser.iloc[pos]`\n",
      "  n2 = b[1]\n",
      "/var/folders/pt/zlhpwgms1r38l09fb5f24y_80000gn/T/ipykernel_11826/3368081595.py:8: FutureWarning: Series.__getitem__ treating keys as positions is deprecated. In a future version, integer keys will always be treated as labels (consistent with DataFrame behavior). To access a value by position, use `ser.iloc[pos]`\n",
      "  date = b[2]\n"
     ]
    },
    {
     "name": "stdout",
     "output_type": "stream",
     "text": [
      "done!\n",
      "271, 0\n",
      "generating for 2018-02-24 Elina Svitolina, Daria Kasatkina\n"
     ]
    },
    {
     "name": "stderr",
     "output_type": "stream",
     "text": [
      "/var/folders/pt/zlhpwgms1r38l09fb5f24y_80000gn/T/ipykernel_11826/3368081595.py:6: FutureWarning: Series.__getitem__ treating keys as positions is deprecated. In a future version, integer keys will always be treated as labels (consistent with DataFrame behavior). To access a value by position, use `ser.iloc[pos]`\n",
      "  n1 = b[0]\n",
      "/var/folders/pt/zlhpwgms1r38l09fb5f24y_80000gn/T/ipykernel_11826/3368081595.py:7: FutureWarning: Series.__getitem__ treating keys as positions is deprecated. In a future version, integer keys will always be treated as labels (consistent with DataFrame behavior). To access a value by position, use `ser.iloc[pos]`\n",
      "  n2 = b[1]\n",
      "/var/folders/pt/zlhpwgms1r38l09fb5f24y_80000gn/T/ipykernel_11826/3368081595.py:8: FutureWarning: Series.__getitem__ treating keys as positions is deprecated. In a future version, integer keys will always be treated as labels (consistent with DataFrame behavior). To access a value by position, use `ser.iloc[pos]`\n",
      "  date = b[2]\n"
     ]
    },
    {
     "name": "stdout",
     "output_type": "stream",
     "text": [
      "done!\n",
      "272, 0\n",
      "generating for 2018-03-02 Lesia Tsurenko, Kristina Mladenovic\n"
     ]
    },
    {
     "name": "stderr",
     "output_type": "stream",
     "text": [
      "/var/folders/pt/zlhpwgms1r38l09fb5f24y_80000gn/T/ipykernel_11826/3368081595.py:6: FutureWarning: Series.__getitem__ treating keys as positions is deprecated. In a future version, integer keys will always be treated as labels (consistent with DataFrame behavior). To access a value by position, use `ser.iloc[pos]`\n",
      "  n1 = b[0]\n",
      "/var/folders/pt/zlhpwgms1r38l09fb5f24y_80000gn/T/ipykernel_11826/3368081595.py:7: FutureWarning: Series.__getitem__ treating keys as positions is deprecated. In a future version, integer keys will always be treated as labels (consistent with DataFrame behavior). To access a value by position, use `ser.iloc[pos]`\n",
      "  n2 = b[1]\n",
      "/var/folders/pt/zlhpwgms1r38l09fb5f24y_80000gn/T/ipykernel_11826/3368081595.py:8: FutureWarning: Series.__getitem__ treating keys as positions is deprecated. In a future version, integer keys will always be treated as labels (consistent with DataFrame behavior). To access a value by position, use `ser.iloc[pos]`\n",
      "  date = b[2]\n"
     ]
    },
    {
     "name": "stdout",
     "output_type": "stream",
     "text": [
      "done!\n",
      "273, 0\n",
      "generating for 2018-03-07 Qiang Wang, Timea Bacsinszky\n"
     ]
    },
    {
     "name": "stderr",
     "output_type": "stream",
     "text": [
      "/var/folders/pt/zlhpwgms1r38l09fb5f24y_80000gn/T/ipykernel_11826/3368081595.py:6: FutureWarning: Series.__getitem__ treating keys as positions is deprecated. In a future version, integer keys will always be treated as labels (consistent with DataFrame behavior). To access a value by position, use `ser.iloc[pos]`\n",
      "  n1 = b[0]\n",
      "/var/folders/pt/zlhpwgms1r38l09fb5f24y_80000gn/T/ipykernel_11826/3368081595.py:7: FutureWarning: Series.__getitem__ treating keys as positions is deprecated. In a future version, integer keys will always be treated as labels (consistent with DataFrame behavior). To access a value by position, use `ser.iloc[pos]`\n",
      "  n2 = b[1]\n",
      "/var/folders/pt/zlhpwgms1r38l09fb5f24y_80000gn/T/ipykernel_11826/3368081595.py:8: FutureWarning: Series.__getitem__ treating keys as positions is deprecated. In a future version, integer keys will always be treated as labels (consistent with DataFrame behavior). To access a value by position, use `ser.iloc[pos]`\n",
      "  date = b[2]\n"
     ]
    },
    {
     "name": "stdout",
     "output_type": "stream",
     "text": [
      "done!\n",
      "274, 0\n",
      "generating for 2018-03-08 Sorana Cirstea, Monica Niculescu\n"
     ]
    },
    {
     "name": "stderr",
     "output_type": "stream",
     "text": [
      "/var/folders/pt/zlhpwgms1r38l09fb5f24y_80000gn/T/ipykernel_11826/3368081595.py:6: FutureWarning: Series.__getitem__ treating keys as positions is deprecated. In a future version, integer keys will always be treated as labels (consistent with DataFrame behavior). To access a value by position, use `ser.iloc[pos]`\n",
      "  n1 = b[0]\n",
      "/var/folders/pt/zlhpwgms1r38l09fb5f24y_80000gn/T/ipykernel_11826/3368081595.py:7: FutureWarning: Series.__getitem__ treating keys as positions is deprecated. In a future version, integer keys will always be treated as labels (consistent with DataFrame behavior). To access a value by position, use `ser.iloc[pos]`\n",
      "  n2 = b[1]\n",
      "/var/folders/pt/zlhpwgms1r38l09fb5f24y_80000gn/T/ipykernel_11826/3368081595.py:8: FutureWarning: Series.__getitem__ treating keys as positions is deprecated. In a future version, integer keys will always be treated as labels (consistent with DataFrame behavior). To access a value by position, use `ser.iloc[pos]`\n",
      "  date = b[2]\n"
     ]
    },
    {
     "name": "stdout",
     "output_type": "stream",
     "text": [
      "done!\n",
      "275, 0\n",
      "generating for 2018-03-09 Serena Williams, Zarina Diyas\n"
     ]
    },
    {
     "name": "stderr",
     "output_type": "stream",
     "text": [
      "/var/folders/pt/zlhpwgms1r38l09fb5f24y_80000gn/T/ipykernel_11826/3368081595.py:6: FutureWarning: Series.__getitem__ treating keys as positions is deprecated. In a future version, integer keys will always be treated as labels (consistent with DataFrame behavior). To access a value by position, use `ser.iloc[pos]`\n",
      "  n1 = b[0]\n",
      "/var/folders/pt/zlhpwgms1r38l09fb5f24y_80000gn/T/ipykernel_11826/3368081595.py:7: FutureWarning: Series.__getitem__ treating keys as positions is deprecated. In a future version, integer keys will always be treated as labels (consistent with DataFrame behavior). To access a value by position, use `ser.iloc[pos]`\n",
      "  n2 = b[1]\n",
      "/var/folders/pt/zlhpwgms1r38l09fb5f24y_80000gn/T/ipykernel_11826/3368081595.py:8: FutureWarning: Series.__getitem__ treating keys as positions is deprecated. In a future version, integer keys will always be treated as labels (consistent with DataFrame behavior). To access a value by position, use `ser.iloc[pos]`\n",
      "  date = b[2]\n"
     ]
    },
    {
     "name": "stdout",
     "output_type": "stream",
     "text": [
      "done!\n",
      "276, 0\n",
      "generating for 2018-03-09 Qiang Wang, Elise Mertens\n"
     ]
    },
    {
     "name": "stderr",
     "output_type": "stream",
     "text": [
      "/var/folders/pt/zlhpwgms1r38l09fb5f24y_80000gn/T/ipykernel_11826/3368081595.py:6: FutureWarning: Series.__getitem__ treating keys as positions is deprecated. In a future version, integer keys will always be treated as labels (consistent with DataFrame behavior). To access a value by position, use `ser.iloc[pos]`\n",
      "  n1 = b[0]\n",
      "/var/folders/pt/zlhpwgms1r38l09fb5f24y_80000gn/T/ipykernel_11826/3368081595.py:7: FutureWarning: Series.__getitem__ treating keys as positions is deprecated. In a future version, integer keys will always be treated as labels (consistent with DataFrame behavior). To access a value by position, use `ser.iloc[pos]`\n",
      "  n2 = b[1]\n",
      "/var/folders/pt/zlhpwgms1r38l09fb5f24y_80000gn/T/ipykernel_11826/3368081595.py:8: FutureWarning: Series.__getitem__ treating keys as positions is deprecated. In a future version, integer keys will always be treated as labels (consistent with DataFrame behavior). To access a value by position, use `ser.iloc[pos]`\n",
      "  date = b[2]\n"
     ]
    },
    {
     "name": "stdout",
     "output_type": "stream",
     "text": [
      "done!\n",
      "277, 0\n",
      "generating for 2018-03-09 Aryna Sabalenka, Svetlana Kuznetsova\n"
     ]
    },
    {
     "name": "stderr",
     "output_type": "stream",
     "text": [
      "/var/folders/pt/zlhpwgms1r38l09fb5f24y_80000gn/T/ipykernel_11826/3368081595.py:6: FutureWarning: Series.__getitem__ treating keys as positions is deprecated. In a future version, integer keys will always be treated as labels (consistent with DataFrame behavior). To access a value by position, use `ser.iloc[pos]`\n",
      "  n1 = b[0]\n",
      "/var/folders/pt/zlhpwgms1r38l09fb5f24y_80000gn/T/ipykernel_11826/3368081595.py:7: FutureWarning: Series.__getitem__ treating keys as positions is deprecated. In a future version, integer keys will always be treated as labels (consistent with DataFrame behavior). To access a value by position, use `ser.iloc[pos]`\n",
      "  n2 = b[1]\n",
      "/var/folders/pt/zlhpwgms1r38l09fb5f24y_80000gn/T/ipykernel_11826/3368081595.py:8: FutureWarning: Series.__getitem__ treating keys as positions is deprecated. In a future version, integer keys will always be treated as labels (consistent with DataFrame behavior). To access a value by position, use `ser.iloc[pos]`\n",
      "  date = b[2]\n"
     ]
    },
    {
     "name": "stdout",
     "output_type": "stream",
     "text": [
      "done!\n",
      "278, 0\n",
      "generating for 2018-03-09 Simona Halep, Karolina Pliskova\n"
     ]
    },
    {
     "name": "stderr",
     "output_type": "stream",
     "text": [
      "/var/folders/pt/zlhpwgms1r38l09fb5f24y_80000gn/T/ipykernel_11826/3368081595.py:6: FutureWarning: Series.__getitem__ treating keys as positions is deprecated. In a future version, integer keys will always be treated as labels (consistent with DataFrame behavior). To access a value by position, use `ser.iloc[pos]`\n",
      "  n1 = b[0]\n",
      "/var/folders/pt/zlhpwgms1r38l09fb5f24y_80000gn/T/ipykernel_11826/3368081595.py:7: FutureWarning: Series.__getitem__ treating keys as positions is deprecated. In a future version, integer keys will always be treated as labels (consistent with DataFrame behavior). To access a value by position, use `ser.iloc[pos]`\n",
      "  n2 = b[1]\n",
      "/var/folders/pt/zlhpwgms1r38l09fb5f24y_80000gn/T/ipykernel_11826/3368081595.py:8: FutureWarning: Series.__getitem__ treating keys as positions is deprecated. In a future version, integer keys will always be treated as labels (consistent with DataFrame behavior). To access a value by position, use `ser.iloc[pos]`\n",
      "  date = b[2]\n"
     ]
    },
    {
     "name": "stdout",
     "output_type": "stream",
     "text": [
      "done!\n",
      "279, 0\n",
      "generating for 2018-03-10 Daria Kasatkina, Katerina Siniakova\n"
     ]
    },
    {
     "name": "stderr",
     "output_type": "stream",
     "text": [
      "/var/folders/pt/zlhpwgms1r38l09fb5f24y_80000gn/T/ipykernel_11826/3368081595.py:6: FutureWarning: Series.__getitem__ treating keys as positions is deprecated. In a future version, integer keys will always be treated as labels (consistent with DataFrame behavior). To access a value by position, use `ser.iloc[pos]`\n",
      "  n1 = b[0]\n",
      "/var/folders/pt/zlhpwgms1r38l09fb5f24y_80000gn/T/ipykernel_11826/3368081595.py:7: FutureWarning: Series.__getitem__ treating keys as positions is deprecated. In a future version, integer keys will always be treated as labels (consistent with DataFrame behavior). To access a value by position, use `ser.iloc[pos]`\n",
      "  n2 = b[1]\n",
      "/var/folders/pt/zlhpwgms1r38l09fb5f24y_80000gn/T/ipykernel_11826/3368081595.py:8: FutureWarning: Series.__getitem__ treating keys as positions is deprecated. In a future version, integer keys will always be treated as labels (consistent with DataFrame behavior). To access a value by position, use `ser.iloc[pos]`\n",
      "  date = b[2]\n"
     ]
    },
    {
     "name": "stdout",
     "output_type": "stream",
     "text": [
      "done!\n",
      "280, 0\n",
      "generating for 2018-03-10 Elena Vesnina, Catherine Cartan Bellis\n"
     ]
    },
    {
     "name": "stderr",
     "output_type": "stream",
     "text": [
      "/var/folders/pt/zlhpwgms1r38l09fb5f24y_80000gn/T/ipykernel_11826/3368081595.py:6: FutureWarning: Series.__getitem__ treating keys as positions is deprecated. In a future version, integer keys will always be treated as labels (consistent with DataFrame behavior). To access a value by position, use `ser.iloc[pos]`\n",
      "  n1 = b[0]\n",
      "/var/folders/pt/zlhpwgms1r38l09fb5f24y_80000gn/T/ipykernel_11826/3368081595.py:7: FutureWarning: Series.__getitem__ treating keys as positions is deprecated. In a future version, integer keys will always be treated as labels (consistent with DataFrame behavior). To access a value by position, use `ser.iloc[pos]`\n",
      "  n2 = b[1]\n",
      "/var/folders/pt/zlhpwgms1r38l09fb5f24y_80000gn/T/ipykernel_11826/3368081595.py:8: FutureWarning: Series.__getitem__ treating keys as positions is deprecated. In a future version, integer keys will always be treated as labels (consistent with DataFrame behavior). To access a value by position, use `ser.iloc[pos]`\n",
      "  date = b[2]\n"
     ]
    },
    {
     "name": "stdout",
     "output_type": "stream",
     "text": [
      "done!\n",
      "281, 0\n",
      "generating for 2018-03-12 Anastasija Sevastova, Julia Goerges\n"
     ]
    },
    {
     "name": "stderr",
     "output_type": "stream",
     "text": [
      "/var/folders/pt/zlhpwgms1r38l09fb5f24y_80000gn/T/ipykernel_11826/3368081595.py:6: FutureWarning: Series.__getitem__ treating keys as positions is deprecated. In a future version, integer keys will always be treated as labels (consistent with DataFrame behavior). To access a value by position, use `ser.iloc[pos]`\n",
      "  n1 = b[0]\n",
      "/var/folders/pt/zlhpwgms1r38l09fb5f24y_80000gn/T/ipykernel_11826/3368081595.py:7: FutureWarning: Series.__getitem__ treating keys as positions is deprecated. In a future version, integer keys will always be treated as labels (consistent with DataFrame behavior). To access a value by position, use `ser.iloc[pos]`\n",
      "  n2 = b[1]\n",
      "/var/folders/pt/zlhpwgms1r38l09fb5f24y_80000gn/T/ipykernel_11826/3368081595.py:8: FutureWarning: Series.__getitem__ treating keys as positions is deprecated. In a future version, integer keys will always be treated as labels (consistent with DataFrame behavior). To access a value by position, use `ser.iloc[pos]`\n",
      "  date = b[2]\n"
     ]
    },
    {
     "name": "stdout",
     "output_type": "stream",
     "text": [
      "done!\n",
      "282, 0\n",
      "generating for 2018-03-13 Carla Suarez Navarro, Elina Svitolina\n"
     ]
    },
    {
     "name": "stderr",
     "output_type": "stream",
     "text": [
      "/var/folders/pt/zlhpwgms1r38l09fb5f24y_80000gn/T/ipykernel_11826/3368081595.py:6: FutureWarning: Series.__getitem__ treating keys as positions is deprecated. In a future version, integer keys will always be treated as labels (consistent with DataFrame behavior). To access a value by position, use `ser.iloc[pos]`\n",
      "  n1 = b[0]\n",
      "/var/folders/pt/zlhpwgms1r38l09fb5f24y_80000gn/T/ipykernel_11826/3368081595.py:7: FutureWarning: Series.__getitem__ treating keys as positions is deprecated. In a future version, integer keys will always be treated as labels (consistent with DataFrame behavior). To access a value by position, use `ser.iloc[pos]`\n",
      "  n2 = b[1]\n",
      "/var/folders/pt/zlhpwgms1r38l09fb5f24y_80000gn/T/ipykernel_11826/3368081595.py:8: FutureWarning: Series.__getitem__ treating keys as positions is deprecated. In a future version, integer keys will always be treated as labels (consistent with DataFrame behavior). To access a value by position, use `ser.iloc[pos]`\n",
      "  date = b[2]\n"
     ]
    },
    {
     "name": "stdout",
     "output_type": "stream",
     "text": [
      "done!\n",
      "283, 0\n",
      "generating for 2018-03-13 Venus Williams, Anastasija Sevastova\n"
     ]
    },
    {
     "name": "stderr",
     "output_type": "stream",
     "text": [
      "/var/folders/pt/zlhpwgms1r38l09fb5f24y_80000gn/T/ipykernel_11826/3368081595.py:6: FutureWarning: Series.__getitem__ treating keys as positions is deprecated. In a future version, integer keys will always be treated as labels (consistent with DataFrame behavior). To access a value by position, use `ser.iloc[pos]`\n",
      "  n1 = b[0]\n",
      "/var/folders/pt/zlhpwgms1r38l09fb5f24y_80000gn/T/ipykernel_11826/3368081595.py:7: FutureWarning: Series.__getitem__ treating keys as positions is deprecated. In a future version, integer keys will always be treated as labels (consistent with DataFrame behavior). To access a value by position, use `ser.iloc[pos]`\n",
      "  n2 = b[1]\n",
      "/var/folders/pt/zlhpwgms1r38l09fb5f24y_80000gn/T/ipykernel_11826/3368081595.py:8: FutureWarning: Series.__getitem__ treating keys as positions is deprecated. In a future version, integer keys will always be treated as labels (consistent with DataFrame behavior). To access a value by position, use `ser.iloc[pos]`\n",
      "  date = b[2]\n"
     ]
    },
    {
     "name": "stdout",
     "output_type": "stream",
     "text": [
      "done!\n",
      "284, 0\n",
      "generating for 2018-03-14 Daria Kasatkina, Caroline Wozniacki\n"
     ]
    },
    {
     "name": "stderr",
     "output_type": "stream",
     "text": [
      "/var/folders/pt/zlhpwgms1r38l09fb5f24y_80000gn/T/ipykernel_11826/3368081595.py:6: FutureWarning: Series.__getitem__ treating keys as positions is deprecated. In a future version, integer keys will always be treated as labels (consistent with DataFrame behavior). To access a value by position, use `ser.iloc[pos]`\n",
      "  n1 = b[0]\n",
      "/var/folders/pt/zlhpwgms1r38l09fb5f24y_80000gn/T/ipykernel_11826/3368081595.py:7: FutureWarning: Series.__getitem__ treating keys as positions is deprecated. In a future version, integer keys will always be treated as labels (consistent with DataFrame behavior). To access a value by position, use `ser.iloc[pos]`\n",
      "  n2 = b[1]\n",
      "/var/folders/pt/zlhpwgms1r38l09fb5f24y_80000gn/T/ipykernel_11826/3368081595.py:8: FutureWarning: Series.__getitem__ treating keys as positions is deprecated. In a future version, integer keys will always be treated as labels (consistent with DataFrame behavior). To access a value by position, use `ser.iloc[pos]`\n",
      "  date = b[2]\n"
     ]
    },
    {
     "name": "stdout",
     "output_type": "stream",
     "text": [
      "done!\n",
      "285, 0\n",
      "generating for 2018-03-16 Venus Williams, Carla Suarez Navarro\n"
     ]
    },
    {
     "name": "stderr",
     "output_type": "stream",
     "text": [
      "/var/folders/pt/zlhpwgms1r38l09fb5f24y_80000gn/T/ipykernel_11826/3368081595.py:6: FutureWarning: Series.__getitem__ treating keys as positions is deprecated. In a future version, integer keys will always be treated as labels (consistent with DataFrame behavior). To access a value by position, use `ser.iloc[pos]`\n",
      "  n1 = b[0]\n",
      "/var/folders/pt/zlhpwgms1r38l09fb5f24y_80000gn/T/ipykernel_11826/3368081595.py:7: FutureWarning: Series.__getitem__ treating keys as positions is deprecated. In a future version, integer keys will always be treated as labels (consistent with DataFrame behavior). To access a value by position, use `ser.iloc[pos]`\n",
      "  n2 = b[1]\n",
      "/var/folders/pt/zlhpwgms1r38l09fb5f24y_80000gn/T/ipykernel_11826/3368081595.py:8: FutureWarning: Series.__getitem__ treating keys as positions is deprecated. In a future version, integer keys will always be treated as labels (consistent with DataFrame behavior). To access a value by position, use `ser.iloc[pos]`\n",
      "  date = b[2]\n"
     ]
    },
    {
     "name": "stdout",
     "output_type": "stream",
     "text": [
      "done!\n",
      "286, 0\n",
      "generating for 2018-03-17 Daria Kasatkina, Venus Williams\n"
     ]
    },
    {
     "name": "stderr",
     "output_type": "stream",
     "text": [
      "/var/folders/pt/zlhpwgms1r38l09fb5f24y_80000gn/T/ipykernel_11826/3368081595.py:6: FutureWarning: Series.__getitem__ treating keys as positions is deprecated. In a future version, integer keys will always be treated as labels (consistent with DataFrame behavior). To access a value by position, use `ser.iloc[pos]`\n",
      "  n1 = b[0]\n",
      "/var/folders/pt/zlhpwgms1r38l09fb5f24y_80000gn/T/ipykernel_11826/3368081595.py:7: FutureWarning: Series.__getitem__ treating keys as positions is deprecated. In a future version, integer keys will always be treated as labels (consistent with DataFrame behavior). To access a value by position, use `ser.iloc[pos]`\n",
      "  n2 = b[1]\n",
      "/var/folders/pt/zlhpwgms1r38l09fb5f24y_80000gn/T/ipykernel_11826/3368081595.py:8: FutureWarning: Series.__getitem__ treating keys as positions is deprecated. In a future version, integer keys will always be treated as labels (consistent with DataFrame behavior). To access a value by position, use `ser.iloc[pos]`\n",
      "  date = b[2]\n"
     ]
    },
    {
     "name": "stdout",
     "output_type": "stream",
     "text": [
      "done!\n",
      "287, 0\n",
      "generating for 2018-03-17 Naomi Osaka, Simona Halep\n"
     ]
    },
    {
     "name": "stderr",
     "output_type": "stream",
     "text": [
      "/var/folders/pt/zlhpwgms1r38l09fb5f24y_80000gn/T/ipykernel_11826/3368081595.py:6: FutureWarning: Series.__getitem__ treating keys as positions is deprecated. In a future version, integer keys will always be treated as labels (consistent with DataFrame behavior). To access a value by position, use `ser.iloc[pos]`\n",
      "  n1 = b[0]\n",
      "/var/folders/pt/zlhpwgms1r38l09fb5f24y_80000gn/T/ipykernel_11826/3368081595.py:7: FutureWarning: Series.__getitem__ treating keys as positions is deprecated. In a future version, integer keys will always be treated as labels (consistent with DataFrame behavior). To access a value by position, use `ser.iloc[pos]`\n",
      "  n2 = b[1]\n",
      "/var/folders/pt/zlhpwgms1r38l09fb5f24y_80000gn/T/ipykernel_11826/3368081595.py:8: FutureWarning: Series.__getitem__ treating keys as positions is deprecated. In a future version, integer keys will always be treated as labels (consistent with DataFrame behavior). To access a value by position, use `ser.iloc[pos]`\n",
      "  date = b[2]\n"
     ]
    },
    {
     "name": "stdout",
     "output_type": "stream",
     "text": [
      "done!\n",
      "288, 0\n",
      "generating for 2018-03-20 Aliaksandra Sasnovich, Karolina Pliskova\n"
     ]
    },
    {
     "name": "stderr",
     "output_type": "stream",
     "text": [
      "/var/folders/pt/zlhpwgms1r38l09fb5f24y_80000gn/T/ipykernel_11826/3368081595.py:6: FutureWarning: Series.__getitem__ treating keys as positions is deprecated. In a future version, integer keys will always be treated as labels (consistent with DataFrame behavior). To access a value by position, use `ser.iloc[pos]`\n",
      "  n1 = b[0]\n",
      "/var/folders/pt/zlhpwgms1r38l09fb5f24y_80000gn/T/ipykernel_11826/3368081595.py:7: FutureWarning: Series.__getitem__ treating keys as positions is deprecated. In a future version, integer keys will always be treated as labels (consistent with DataFrame behavior). To access a value by position, use `ser.iloc[pos]`\n",
      "  n2 = b[1]\n",
      "/var/folders/pt/zlhpwgms1r38l09fb5f24y_80000gn/T/ipykernel_11826/3368081595.py:8: FutureWarning: Series.__getitem__ treating keys as positions is deprecated. In a future version, integer keys will always be treated as labels (consistent with DataFrame behavior). To access a value by position, use `ser.iloc[pos]`\n",
      "  date = b[2]\n"
     ]
    },
    {
     "name": "stdout",
     "output_type": "stream",
     "text": [
      "done!\n",
      "289, 0\n",
      "generating for 2018-03-21 Monica Niculescu, Yulia Putintseva\n"
     ]
    },
    {
     "name": "stderr",
     "output_type": "stream",
     "text": [
      "/var/folders/pt/zlhpwgms1r38l09fb5f24y_80000gn/T/ipykernel_11826/3368081595.py:6: FutureWarning: Series.__getitem__ treating keys as positions is deprecated. In a future version, integer keys will always be treated as labels (consistent with DataFrame behavior). To access a value by position, use `ser.iloc[pos]`\n",
      "  n1 = b[0]\n",
      "/var/folders/pt/zlhpwgms1r38l09fb5f24y_80000gn/T/ipykernel_11826/3368081595.py:7: FutureWarning: Series.__getitem__ treating keys as positions is deprecated. In a future version, integer keys will always be treated as labels (consistent with DataFrame behavior). To access a value by position, use `ser.iloc[pos]`\n",
      "  n2 = b[1]\n",
      "/var/folders/pt/zlhpwgms1r38l09fb5f24y_80000gn/T/ipykernel_11826/3368081595.py:8: FutureWarning: Series.__getitem__ treating keys as positions is deprecated. In a future version, integer keys will always be treated as labels (consistent with DataFrame behavior). To access a value by position, use `ser.iloc[pos]`\n",
      "  date = b[2]\n"
     ]
    },
    {
     "name": "stdout",
     "output_type": "stream",
     "text": [
      "done!\n",
      "290, 0\n",
      "generating for 2018-03-21 Naomi Osaka, Serena Williams\n"
     ]
    },
    {
     "name": "stderr",
     "output_type": "stream",
     "text": [
      "/var/folders/pt/zlhpwgms1r38l09fb5f24y_80000gn/T/ipykernel_11826/3368081595.py:6: FutureWarning: Series.__getitem__ treating keys as positions is deprecated. In a future version, integer keys will always be treated as labels (consistent with DataFrame behavior). To access a value by position, use `ser.iloc[pos]`\n",
      "  n1 = b[0]\n",
      "/var/folders/pt/zlhpwgms1r38l09fb5f24y_80000gn/T/ipykernel_11826/3368081595.py:7: FutureWarning: Series.__getitem__ treating keys as positions is deprecated. In a future version, integer keys will always be treated as labels (consistent with DataFrame behavior). To access a value by position, use `ser.iloc[pos]`\n",
      "  n2 = b[1]\n",
      "/var/folders/pt/zlhpwgms1r38l09fb5f24y_80000gn/T/ipykernel_11826/3368081595.py:8: FutureWarning: Series.__getitem__ treating keys as positions is deprecated. In a future version, integer keys will always be treated as labels (consistent with DataFrame behavior). To access a value by position, use `ser.iloc[pos]`\n",
      "  date = b[2]\n"
     ]
    },
    {
     "name": "stdout",
     "output_type": "stream",
     "text": [
      "done!\n",
      "291, 0\n",
      "generating for 2018-03-22 Monica Puig, Samantha Stosur\n"
     ]
    },
    {
     "name": "stderr",
     "output_type": "stream",
     "text": [
      "/var/folders/pt/zlhpwgms1r38l09fb5f24y_80000gn/T/ipykernel_11826/3368081595.py:6: FutureWarning: Series.__getitem__ treating keys as positions is deprecated. In a future version, integer keys will always be treated as labels (consistent with DataFrame behavior). To access a value by position, use `ser.iloc[pos]`\n",
      "  n1 = b[0]\n",
      "/var/folders/pt/zlhpwgms1r38l09fb5f24y_80000gn/T/ipykernel_11826/3368081595.py:7: FutureWarning: Series.__getitem__ treating keys as positions is deprecated. In a future version, integer keys will always be treated as labels (consistent with DataFrame behavior). To access a value by position, use `ser.iloc[pos]`\n",
      "  n2 = b[1]\n",
      "/var/folders/pt/zlhpwgms1r38l09fb5f24y_80000gn/T/ipykernel_11826/3368081595.py:8: FutureWarning: Series.__getitem__ treating keys as positions is deprecated. In a future version, integer keys will always be treated as labels (consistent with DataFrame behavior). To access a value by position, use `ser.iloc[pos]`\n",
      "  date = b[2]\n"
     ]
    },
    {
     "name": "stdout",
     "output_type": "stream",
     "text": [
      "done!\n",
      "292, 0\n",
      "generating for 2018-03-22 Zarina Diyas, Svetlana Kuznetsova\n"
     ]
    },
    {
     "name": "stderr",
     "output_type": "stream",
     "text": [
      "/var/folders/pt/zlhpwgms1r38l09fb5f24y_80000gn/T/ipykernel_11826/3368081595.py:6: FutureWarning: Series.__getitem__ treating keys as positions is deprecated. In a future version, integer keys will always be treated as labels (consistent with DataFrame behavior). To access a value by position, use `ser.iloc[pos]`\n",
      "  n1 = b[0]\n",
      "/var/folders/pt/zlhpwgms1r38l09fb5f24y_80000gn/T/ipykernel_11826/3368081595.py:7: FutureWarning: Series.__getitem__ treating keys as positions is deprecated. In a future version, integer keys will always be treated as labels (consistent with DataFrame behavior). To access a value by position, use `ser.iloc[pos]`\n",
      "  n2 = b[1]\n",
      "/var/folders/pt/zlhpwgms1r38l09fb5f24y_80000gn/T/ipykernel_11826/3368081595.py:8: FutureWarning: Series.__getitem__ treating keys as positions is deprecated. In a future version, integer keys will always be treated as labels (consistent with DataFrame behavior). To access a value by position, use `ser.iloc[pos]`\n",
      "  date = b[2]\n"
     ]
    },
    {
     "name": "stdout",
     "output_type": "stream",
     "text": [
      "done!\n",
      "293, 0\n",
      "generating for 2018-03-23 Elina Svitolina, Naomi Osaka\n"
     ]
    },
    {
     "name": "stderr",
     "output_type": "stream",
     "text": [
      "/var/folders/pt/zlhpwgms1r38l09fb5f24y_80000gn/T/ipykernel_11826/3368081595.py:6: FutureWarning: Series.__getitem__ treating keys as positions is deprecated. In a future version, integer keys will always be treated as labels (consistent with DataFrame behavior). To access a value by position, use `ser.iloc[pos]`\n",
      "  n1 = b[0]\n",
      "/var/folders/pt/zlhpwgms1r38l09fb5f24y_80000gn/T/ipykernel_11826/3368081595.py:7: FutureWarning: Series.__getitem__ treating keys as positions is deprecated. In a future version, integer keys will always be treated as labels (consistent with DataFrame behavior). To access a value by position, use `ser.iloc[pos]`\n",
      "  n2 = b[1]\n",
      "/var/folders/pt/zlhpwgms1r38l09fb5f24y_80000gn/T/ipykernel_11826/3368081595.py:8: FutureWarning: Series.__getitem__ treating keys as positions is deprecated. In a future version, integer keys will always be treated as labels (consistent with DataFrame behavior). To access a value by position, use `ser.iloc[pos]`\n",
      "  date = b[2]\n"
     ]
    },
    {
     "name": "stdout",
     "output_type": "stream",
     "text": [
      "done!\n",
      "294, 0\n",
      "generating for 2018-03-23 Johanna Konta, Kirsten Flipkens\n"
     ]
    },
    {
     "name": "stderr",
     "output_type": "stream",
     "text": [
      "/var/folders/pt/zlhpwgms1r38l09fb5f24y_80000gn/T/ipykernel_11826/3368081595.py:6: FutureWarning: Series.__getitem__ treating keys as positions is deprecated. In a future version, integer keys will always be treated as labels (consistent with DataFrame behavior). To access a value by position, use `ser.iloc[pos]`\n",
      "  n1 = b[0]\n",
      "/var/folders/pt/zlhpwgms1r38l09fb5f24y_80000gn/T/ipykernel_11826/3368081595.py:7: FutureWarning: Series.__getitem__ treating keys as positions is deprecated. In a future version, integer keys will always be treated as labels (consistent with DataFrame behavior). To access a value by position, use `ser.iloc[pos]`\n",
      "  n2 = b[1]\n",
      "/var/folders/pt/zlhpwgms1r38l09fb5f24y_80000gn/T/ipykernel_11826/3368081595.py:8: FutureWarning: Series.__getitem__ treating keys as positions is deprecated. In a future version, integer keys will always be treated as labels (consistent with DataFrame behavior). To access a value by position, use `ser.iloc[pos]`\n",
      "  date = b[2]\n"
     ]
    },
    {
     "name": "stdout",
     "output_type": "stream",
     "text": [
      "done!\n",
      "295, 0\n",
      "generating for 2018-03-24 Monica Puig, Caroline Wozniacki\n"
     ]
    },
    {
     "name": "stderr",
     "output_type": "stream",
     "text": [
      "/var/folders/pt/zlhpwgms1r38l09fb5f24y_80000gn/T/ipykernel_11826/3368081595.py:6: FutureWarning: Series.__getitem__ treating keys as positions is deprecated. In a future version, integer keys will always be treated as labels (consistent with DataFrame behavior). To access a value by position, use `ser.iloc[pos]`\n",
      "  n1 = b[0]\n",
      "/var/folders/pt/zlhpwgms1r38l09fb5f24y_80000gn/T/ipykernel_11826/3368081595.py:7: FutureWarning: Series.__getitem__ treating keys as positions is deprecated. In a future version, integer keys will always be treated as labels (consistent with DataFrame behavior). To access a value by position, use `ser.iloc[pos]`\n",
      "  n2 = b[1]\n",
      "/var/folders/pt/zlhpwgms1r38l09fb5f24y_80000gn/T/ipykernel_11826/3368081595.py:8: FutureWarning: Series.__getitem__ treating keys as positions is deprecated. In a future version, integer keys will always be treated as labels (consistent with DataFrame behavior). To access a value by position, use `ser.iloc[pos]`\n",
      "  date = b[2]\n"
     ]
    },
    {
     "name": "stdout",
     "output_type": "stream",
     "text": [
      "done!\n",
      "296, 0\n",
      "generating for 2018-03-24 Agnieszka Radwanska, Simona Halep\n"
     ]
    },
    {
     "name": "stderr",
     "output_type": "stream",
     "text": [
      "/var/folders/pt/zlhpwgms1r38l09fb5f24y_80000gn/T/ipykernel_11826/3368081595.py:6: FutureWarning: Series.__getitem__ treating keys as positions is deprecated. In a future version, integer keys will always be treated as labels (consistent with DataFrame behavior). To access a value by position, use `ser.iloc[pos]`\n",
      "  n1 = b[0]\n",
      "/var/folders/pt/zlhpwgms1r38l09fb5f24y_80000gn/T/ipykernel_11826/3368081595.py:7: FutureWarning: Series.__getitem__ treating keys as positions is deprecated. In a future version, integer keys will always be treated as labels (consistent with DataFrame behavior). To access a value by position, use `ser.iloc[pos]`\n",
      "  n2 = b[1]\n",
      "/var/folders/pt/zlhpwgms1r38l09fb5f24y_80000gn/T/ipykernel_11826/3368081595.py:8: FutureWarning: Series.__getitem__ treating keys as positions is deprecated. In a future version, integer keys will always be treated as labels (consistent with DataFrame behavior). To access a value by position, use `ser.iloc[pos]`\n",
      "  date = b[2]\n"
     ]
    },
    {
     "name": "stdout",
     "output_type": "stream",
     "text": [
      "done!\n",
      "297, 0\n",
      "generating for 2018-03-26 Elina Svitolina, Ashleigh Barty\n"
     ]
    },
    {
     "name": "stderr",
     "output_type": "stream",
     "text": [
      "/var/folders/pt/zlhpwgms1r38l09fb5f24y_80000gn/T/ipykernel_11826/3368081595.py:6: FutureWarning: Series.__getitem__ treating keys as positions is deprecated. In a future version, integer keys will always be treated as labels (consistent with DataFrame behavior). To access a value by position, use `ser.iloc[pos]`\n",
      "  n1 = b[0]\n",
      "/var/folders/pt/zlhpwgms1r38l09fb5f24y_80000gn/T/ipykernel_11826/3368081595.py:7: FutureWarning: Series.__getitem__ treating keys as positions is deprecated. In a future version, integer keys will always be treated as labels (consistent with DataFrame behavior). To access a value by position, use `ser.iloc[pos]`\n",
      "  n2 = b[1]\n",
      "/var/folders/pt/zlhpwgms1r38l09fb5f24y_80000gn/T/ipykernel_11826/3368081595.py:8: FutureWarning: Series.__getitem__ treating keys as positions is deprecated. In a future version, integer keys will always be treated as labels (consistent with DataFrame behavior). To access a value by position, use `ser.iloc[pos]`\n",
      "  date = b[2]\n"
     ]
    },
    {
     "name": "stdout",
     "output_type": "stream",
     "text": [
      "done!\n",
      "298, 0\n",
      "generating for 2018-03-26 Venus Williams, Johanna Konta\n"
     ]
    },
    {
     "name": "stderr",
     "output_type": "stream",
     "text": [
      "/var/folders/pt/zlhpwgms1r38l09fb5f24y_80000gn/T/ipykernel_11826/3368081595.py:6: FutureWarning: Series.__getitem__ treating keys as positions is deprecated. In a future version, integer keys will always be treated as labels (consistent with DataFrame behavior). To access a value by position, use `ser.iloc[pos]`\n",
      "  n1 = b[0]\n",
      "/var/folders/pt/zlhpwgms1r38l09fb5f24y_80000gn/T/ipykernel_11826/3368081595.py:7: FutureWarning: Series.__getitem__ treating keys as positions is deprecated. In a future version, integer keys will always be treated as labels (consistent with DataFrame behavior). To access a value by position, use `ser.iloc[pos]`\n",
      "  n2 = b[1]\n",
      "/var/folders/pt/zlhpwgms1r38l09fb5f24y_80000gn/T/ipykernel_11826/3368081595.py:8: FutureWarning: Series.__getitem__ treating keys as positions is deprecated. In a future version, integer keys will always be treated as labels (consistent with DataFrame behavior). To access a value by position, use `ser.iloc[pos]`\n",
      "  date = b[2]\n"
     ]
    },
    {
     "name": "stdout",
     "output_type": "stream",
     "text": [
      "done!\n",
      "299, 0\n",
      "generating for 2018-03-28 Jelena Ostapenko, Elina Svitolina\n"
     ]
    },
    {
     "name": "stderr",
     "output_type": "stream",
     "text": [
      "/var/folders/pt/zlhpwgms1r38l09fb5f24y_80000gn/T/ipykernel_11826/3368081595.py:6: FutureWarning: Series.__getitem__ treating keys as positions is deprecated. In a future version, integer keys will always be treated as labels (consistent with DataFrame behavior). To access a value by position, use `ser.iloc[pos]`\n",
      "  n1 = b[0]\n",
      "/var/folders/pt/zlhpwgms1r38l09fb5f24y_80000gn/T/ipykernel_11826/3368081595.py:7: FutureWarning: Series.__getitem__ treating keys as positions is deprecated. In a future version, integer keys will always be treated as labels (consistent with DataFrame behavior). To access a value by position, use `ser.iloc[pos]`\n",
      "  n2 = b[1]\n",
      "/var/folders/pt/zlhpwgms1r38l09fb5f24y_80000gn/T/ipykernel_11826/3368081595.py:8: FutureWarning: Series.__getitem__ treating keys as positions is deprecated. In a future version, integer keys will always be treated as labels (consistent with DataFrame behavior). To access a value by position, use `ser.iloc[pos]`\n",
      "  date = b[2]\n"
     ]
    },
    {
     "name": "stdout",
     "output_type": "stream",
     "text": [
      "done!\n",
      "300, 0\n",
      "generating for 2018-03-31 Sloane Stephens, Jelena Ostapenko\n"
     ]
    },
    {
     "name": "stderr",
     "output_type": "stream",
     "text": [
      "/var/folders/pt/zlhpwgms1r38l09fb5f24y_80000gn/T/ipykernel_11826/3368081595.py:6: FutureWarning: Series.__getitem__ treating keys as positions is deprecated. In a future version, integer keys will always be treated as labels (consistent with DataFrame behavior). To access a value by position, use `ser.iloc[pos]`\n",
      "  n1 = b[0]\n",
      "/var/folders/pt/zlhpwgms1r38l09fb5f24y_80000gn/T/ipykernel_11826/3368081595.py:7: FutureWarning: Series.__getitem__ treating keys as positions is deprecated. In a future version, integer keys will always be treated as labels (consistent with DataFrame behavior). To access a value by position, use `ser.iloc[pos]`\n",
      "  n2 = b[1]\n",
      "/var/folders/pt/zlhpwgms1r38l09fb5f24y_80000gn/T/ipykernel_11826/3368081595.py:8: FutureWarning: Series.__getitem__ treating keys as positions is deprecated. In a future version, integer keys will always be treated as labels (consistent with DataFrame behavior). To access a value by position, use `ser.iloc[pos]`\n",
      "  date = b[2]\n"
     ]
    },
    {
     "name": "stdout",
     "output_type": "stream",
     "text": [
      "done!\n",
      "301, 0\n",
      "generating for 2018-04-03 Karolina Pliskova, Katerina Siniakova\n"
     ]
    },
    {
     "name": "stderr",
     "output_type": "stream",
     "text": [
      "/var/folders/pt/zlhpwgms1r38l09fb5f24y_80000gn/T/ipykernel_11826/3368081595.py:6: FutureWarning: Series.__getitem__ treating keys as positions is deprecated. In a future version, integer keys will always be treated as labels (consistent with DataFrame behavior). To access a value by position, use `ser.iloc[pos]`\n",
      "  n1 = b[0]\n",
      "/var/folders/pt/zlhpwgms1r38l09fb5f24y_80000gn/T/ipykernel_11826/3368081595.py:7: FutureWarning: Series.__getitem__ treating keys as positions is deprecated. In a future version, integer keys will always be treated as labels (consistent with DataFrame behavior). To access a value by position, use `ser.iloc[pos]`\n",
      "  n2 = b[1]\n",
      "/var/folders/pt/zlhpwgms1r38l09fb5f24y_80000gn/T/ipykernel_11826/3368081595.py:8: FutureWarning: Series.__getitem__ treating keys as positions is deprecated. In a future version, integer keys will always be treated as labels (consistent with DataFrame behavior). To access a value by position, use `ser.iloc[pos]`\n",
      "  date = b[2]\n"
     ]
    },
    {
     "name": "stdout",
     "output_type": "stream",
     "text": [
      "done!\n",
      "302, 0\n",
      "generating for 2018-04-04 Naomi Osaka, Laura Siegemund\n"
     ]
    },
    {
     "name": "stderr",
     "output_type": "stream",
     "text": [
      "/var/folders/pt/zlhpwgms1r38l09fb5f24y_80000gn/T/ipykernel_11826/3368081595.py:6: FutureWarning: Series.__getitem__ treating keys as positions is deprecated. In a future version, integer keys will always be treated as labels (consistent with DataFrame behavior). To access a value by position, use `ser.iloc[pos]`\n",
      "  n1 = b[0]\n",
      "/var/folders/pt/zlhpwgms1r38l09fb5f24y_80000gn/T/ipykernel_11826/3368081595.py:7: FutureWarning: Series.__getitem__ treating keys as positions is deprecated. In a future version, integer keys will always be treated as labels (consistent with DataFrame behavior). To access a value by position, use `ser.iloc[pos]`\n",
      "  n2 = b[1]\n",
      "/var/folders/pt/zlhpwgms1r38l09fb5f24y_80000gn/T/ipykernel_11826/3368081595.py:8: FutureWarning: Series.__getitem__ treating keys as positions is deprecated. In a future version, integer keys will always be treated as labels (consistent with DataFrame behavior). To access a value by position, use `ser.iloc[pos]`\n",
      "  date = b[2]\n"
     ]
    },
    {
     "name": "stdout",
     "output_type": "stream",
     "text": [
      "done!\n",
      "303, 0\n",
      "generating for 2018-04-04 Kiki Bertens, Aleksandra Krunic\n"
     ]
    },
    {
     "name": "stderr",
     "output_type": "stream",
     "text": [
      "/var/folders/pt/zlhpwgms1r38l09fb5f24y_80000gn/T/ipykernel_11826/3368081595.py:6: FutureWarning: Series.__getitem__ treating keys as positions is deprecated. In a future version, integer keys will always be treated as labels (consistent with DataFrame behavior). To access a value by position, use `ser.iloc[pos]`\n",
      "  n1 = b[0]\n",
      "/var/folders/pt/zlhpwgms1r38l09fb5f24y_80000gn/T/ipykernel_11826/3368081595.py:7: FutureWarning: Series.__getitem__ treating keys as positions is deprecated. In a future version, integer keys will always be treated as labels (consistent with DataFrame behavior). To access a value by position, use `ser.iloc[pos]`\n",
      "  n2 = b[1]\n",
      "/var/folders/pt/zlhpwgms1r38l09fb5f24y_80000gn/T/ipykernel_11826/3368081595.py:8: FutureWarning: Series.__getitem__ treating keys as positions is deprecated. In a future version, integer keys will always be treated as labels (consistent with DataFrame behavior). To access a value by position, use `ser.iloc[pos]`\n",
      "  date = b[2]\n"
     ]
    },
    {
     "name": "stdout",
     "output_type": "stream",
     "text": [
      "done!\n",
      "304, 0\n",
      "generating for 2018-04-05 Julia Goerges, Naomi Osaka\n"
     ]
    },
    {
     "name": "stderr",
     "output_type": "stream",
     "text": [
      "/var/folders/pt/zlhpwgms1r38l09fb5f24y_80000gn/T/ipykernel_11826/3368081595.py:6: FutureWarning: Series.__getitem__ treating keys as positions is deprecated. In a future version, integer keys will always be treated as labels (consistent with DataFrame behavior). To access a value by position, use `ser.iloc[pos]`\n",
      "  n1 = b[0]\n",
      "/var/folders/pt/zlhpwgms1r38l09fb5f24y_80000gn/T/ipykernel_11826/3368081595.py:7: FutureWarning: Series.__getitem__ treating keys as positions is deprecated. In a future version, integer keys will always be treated as labels (consistent with DataFrame behavior). To access a value by position, use `ser.iloc[pos]`\n",
      "  n2 = b[1]\n",
      "/var/folders/pt/zlhpwgms1r38l09fb5f24y_80000gn/T/ipykernel_11826/3368081595.py:8: FutureWarning: Series.__getitem__ treating keys as positions is deprecated. In a future version, integer keys will always be treated as labels (consistent with DataFrame behavior). To access a value by position, use `ser.iloc[pos]`\n",
      "  date = b[2]\n"
     ]
    },
    {
     "name": "stdout",
     "output_type": "stream",
     "text": [
      "done!\n",
      "305, 0\n",
      "generating for 2018-04-05 Anastasija Sevastova, Ashleigh Barty\n"
     ]
    },
    {
     "name": "stderr",
     "output_type": "stream",
     "text": [
      "/var/folders/pt/zlhpwgms1r38l09fb5f24y_80000gn/T/ipykernel_11826/3368081595.py:6: FutureWarning: Series.__getitem__ treating keys as positions is deprecated. In a future version, integer keys will always be treated as labels (consistent with DataFrame behavior). To access a value by position, use `ser.iloc[pos]`\n",
      "  n1 = b[0]\n",
      "/var/folders/pt/zlhpwgms1r38l09fb5f24y_80000gn/T/ipykernel_11826/3368081595.py:7: FutureWarning: Series.__getitem__ treating keys as positions is deprecated. In a future version, integer keys will always be treated as labels (consistent with DataFrame behavior). To access a value by position, use `ser.iloc[pos]`\n",
      "  n2 = b[1]\n",
      "/var/folders/pt/zlhpwgms1r38l09fb5f24y_80000gn/T/ipykernel_11826/3368081595.py:8: FutureWarning: Series.__getitem__ treating keys as positions is deprecated. In a future version, integer keys will always be treated as labels (consistent with DataFrame behavior). To access a value by position, use `ser.iloc[pos]`\n",
      "  date = b[2]\n"
     ]
    },
    {
     "name": "stdout",
     "output_type": "stream",
     "text": [
      "done!\n",
      "306, 0\n",
      "generating for 2018-04-05 Karolina Pliskova, Elena Vesnina\n"
     ]
    },
    {
     "name": "stderr",
     "output_type": "stream",
     "text": [
      "/var/folders/pt/zlhpwgms1r38l09fb5f24y_80000gn/T/ipykernel_11826/3368081595.py:6: FutureWarning: Series.__getitem__ treating keys as positions is deprecated. In a future version, integer keys will always be treated as labels (consistent with DataFrame behavior). To access a value by position, use `ser.iloc[pos]`\n",
      "  n1 = b[0]\n",
      "/var/folders/pt/zlhpwgms1r38l09fb5f24y_80000gn/T/ipykernel_11826/3368081595.py:7: FutureWarning: Series.__getitem__ treating keys as positions is deprecated. In a future version, integer keys will always be treated as labels (consistent with DataFrame behavior). To access a value by position, use `ser.iloc[pos]`\n",
      "  n2 = b[1]\n",
      "/var/folders/pt/zlhpwgms1r38l09fb5f24y_80000gn/T/ipykernel_11826/3368081595.py:8: FutureWarning: Series.__getitem__ treating keys as positions is deprecated. In a future version, integer keys will always be treated as labels (consistent with DataFrame behavior). To access a value by position, use `ser.iloc[pos]`\n",
      "  date = b[2]\n"
     ]
    },
    {
     "name": "stdout",
     "output_type": "stream",
     "text": [
      "done!\n",
      "307, 0\n",
      "generating for 2018-04-06 Julia Goerges, Daria Kasatkina\n"
     ]
    },
    {
     "name": "stderr",
     "output_type": "stream",
     "text": [
      "/var/folders/pt/zlhpwgms1r38l09fb5f24y_80000gn/T/ipykernel_11826/3368081595.py:6: FutureWarning: Series.__getitem__ treating keys as positions is deprecated. In a future version, integer keys will always be treated as labels (consistent with DataFrame behavior). To access a value by position, use `ser.iloc[pos]`\n",
      "  n1 = b[0]\n",
      "/var/folders/pt/zlhpwgms1r38l09fb5f24y_80000gn/T/ipykernel_11826/3368081595.py:7: FutureWarning: Series.__getitem__ treating keys as positions is deprecated. In a future version, integer keys will always be treated as labels (consistent with DataFrame behavior). To access a value by position, use `ser.iloc[pos]`\n",
      "  n2 = b[1]\n",
      "/var/folders/pt/zlhpwgms1r38l09fb5f24y_80000gn/T/ipykernel_11826/3368081595.py:8: FutureWarning: Series.__getitem__ treating keys as positions is deprecated. In a future version, integer keys will always be treated as labels (consistent with DataFrame behavior). To access a value by position, use `ser.iloc[pos]`\n",
      "  date = b[2]\n"
     ]
    },
    {
     "name": "stdout",
     "output_type": "stream",
     "text": [
      "done!\n",
      "308, 0\n",
      "generating for 2018-04-06 Anastasija Sevastova, Karolina Pliskova\n"
     ]
    },
    {
     "name": "stderr",
     "output_type": "stream",
     "text": [
      "/var/folders/pt/zlhpwgms1r38l09fb5f24y_80000gn/T/ipykernel_11826/3368081595.py:6: FutureWarning: Series.__getitem__ treating keys as positions is deprecated. In a future version, integer keys will always be treated as labels (consistent with DataFrame behavior). To access a value by position, use `ser.iloc[pos]`\n",
      "  n1 = b[0]\n",
      "/var/folders/pt/zlhpwgms1r38l09fb5f24y_80000gn/T/ipykernel_11826/3368081595.py:7: FutureWarning: Series.__getitem__ treating keys as positions is deprecated. In a future version, integer keys will always be treated as labels (consistent with DataFrame behavior). To access a value by position, use `ser.iloc[pos]`\n",
      "  n2 = b[1]\n",
      "/var/folders/pt/zlhpwgms1r38l09fb5f24y_80000gn/T/ipykernel_11826/3368081595.py:8: FutureWarning: Series.__getitem__ treating keys as positions is deprecated. In a future version, integer keys will always be treated as labels (consistent with DataFrame behavior). To access a value by position, use `ser.iloc[pos]`\n",
      "  date = b[2]\n"
     ]
    },
    {
     "name": "stdout",
     "output_type": "stream",
     "text": [
      "done!\n",
      "309, 0\n",
      "generating for 2018-04-08 Kiki Bertens, Madison Keys\n"
     ]
    },
    {
     "name": "stderr",
     "output_type": "stream",
     "text": [
      "/var/folders/pt/zlhpwgms1r38l09fb5f24y_80000gn/T/ipykernel_11826/3368081595.py:6: FutureWarning: Series.__getitem__ treating keys as positions is deprecated. In a future version, integer keys will always be treated as labels (consistent with DataFrame behavior). To access a value by position, use `ser.iloc[pos]`\n",
      "  n1 = b[0]\n",
      "/var/folders/pt/zlhpwgms1r38l09fb5f24y_80000gn/T/ipykernel_11826/3368081595.py:7: FutureWarning: Series.__getitem__ treating keys as positions is deprecated. In a future version, integer keys will always be treated as labels (consistent with DataFrame behavior). To access a value by position, use `ser.iloc[pos]`\n",
      "  n2 = b[1]\n",
      "/var/folders/pt/zlhpwgms1r38l09fb5f24y_80000gn/T/ipykernel_11826/3368081595.py:8: FutureWarning: Series.__getitem__ treating keys as positions is deprecated. In a future version, integer keys will always be treated as labels (consistent with DataFrame behavior). To access a value by position, use `ser.iloc[pos]`\n",
      "  date = b[2]\n"
     ]
    },
    {
     "name": "stdout",
     "output_type": "stream",
     "text": [
      "done!\n",
      "310, 0\n",
      "generating for 2018-04-08 Julia Goerges, Anastasija Sevastova\n"
     ]
    },
    {
     "name": "stderr",
     "output_type": "stream",
     "text": [
      "/var/folders/pt/zlhpwgms1r38l09fb5f24y_80000gn/T/ipykernel_11826/3368081595.py:6: FutureWarning: Series.__getitem__ treating keys as positions is deprecated. In a future version, integer keys will always be treated as labels (consistent with DataFrame behavior). To access a value by position, use `ser.iloc[pos]`\n",
      "  n1 = b[0]\n",
      "/var/folders/pt/zlhpwgms1r38l09fb5f24y_80000gn/T/ipykernel_11826/3368081595.py:7: FutureWarning: Series.__getitem__ treating keys as positions is deprecated. In a future version, integer keys will always be treated as labels (consistent with DataFrame behavior). To access a value by position, use `ser.iloc[pos]`\n",
      "  n2 = b[1]\n",
      "/var/folders/pt/zlhpwgms1r38l09fb5f24y_80000gn/T/ipykernel_11826/3368081595.py:8: FutureWarning: Series.__getitem__ treating keys as positions is deprecated. In a future version, integer keys will always be treated as labels (consistent with DataFrame behavior). To access a value by position, use `ser.iloc[pos]`\n",
      "  date = b[2]\n"
     ]
    },
    {
     "name": "stdout",
     "output_type": "stream",
     "text": [
      "done!\n",
      "311, 0\n",
      "generating for 2018-04-14 Aryna Sabalenka, Stefanie Voegele\n"
     ]
    },
    {
     "name": "stderr",
     "output_type": "stream",
     "text": [
      "/var/folders/pt/zlhpwgms1r38l09fb5f24y_80000gn/T/ipykernel_11826/3368081595.py:6: FutureWarning: Series.__getitem__ treating keys as positions is deprecated. In a future version, integer keys will always be treated as labels (consistent with DataFrame behavior). To access a value by position, use `ser.iloc[pos]`\n",
      "  n1 = b[0]\n",
      "/var/folders/pt/zlhpwgms1r38l09fb5f24y_80000gn/T/ipykernel_11826/3368081595.py:7: FutureWarning: Series.__getitem__ treating keys as positions is deprecated. In a future version, integer keys will always be treated as labels (consistent with DataFrame behavior). To access a value by position, use `ser.iloc[pos]`\n",
      "  n2 = b[1]\n",
      "/var/folders/pt/zlhpwgms1r38l09fb5f24y_80000gn/T/ipykernel_11826/3368081595.py:8: FutureWarning: Series.__getitem__ treating keys as positions is deprecated. In a future version, integer keys will always be treated as labels (consistent with DataFrame behavior). To access a value by position, use `ser.iloc[pos]`\n",
      "  date = b[2]\n"
     ]
    },
    {
     "name": "stdout",
     "output_type": "stream",
     "text": [
      "done!\n",
      "312, 0\n",
      "generating for 2018-04-23 Svetlana Kuznetsova, Qiang Wang\n"
     ]
    },
    {
     "name": "stderr",
     "output_type": "stream",
     "text": [
      "/var/folders/pt/zlhpwgms1r38l09fb5f24y_80000gn/T/ipykernel_11826/3368081595.py:6: FutureWarning: Series.__getitem__ treating keys as positions is deprecated. In a future version, integer keys will always be treated as labels (consistent with DataFrame behavior). To access a value by position, use `ser.iloc[pos]`\n",
      "  n1 = b[0]\n",
      "/var/folders/pt/zlhpwgms1r38l09fb5f24y_80000gn/T/ipykernel_11826/3368081595.py:7: FutureWarning: Series.__getitem__ treating keys as positions is deprecated. In a future version, integer keys will always be treated as labels (consistent with DataFrame behavior). To access a value by position, use `ser.iloc[pos]`\n",
      "  n2 = b[1]\n",
      "/var/folders/pt/zlhpwgms1r38l09fb5f24y_80000gn/T/ipykernel_11826/3368081595.py:8: FutureWarning: Series.__getitem__ treating keys as positions is deprecated. In a future version, integer keys will always be treated as labels (consistent with DataFrame behavior). To access a value by position, use `ser.iloc[pos]`\n",
      "  date = b[2]\n"
     ]
    },
    {
     "name": "stdout",
     "output_type": "stream",
     "text": [
      "done!\n",
      "313, 0\n",
      "generating for 2018-04-24 Karolina Pliskova, Kiki Bertens\n"
     ]
    },
    {
     "name": "stderr",
     "output_type": "stream",
     "text": [
      "/var/folders/pt/zlhpwgms1r38l09fb5f24y_80000gn/T/ipykernel_11826/3368081595.py:6: FutureWarning: Series.__getitem__ treating keys as positions is deprecated. In a future version, integer keys will always be treated as labels (consistent with DataFrame behavior). To access a value by position, use `ser.iloc[pos]`\n",
      "  n1 = b[0]\n",
      "/var/folders/pt/zlhpwgms1r38l09fb5f24y_80000gn/T/ipykernel_11826/3368081595.py:7: FutureWarning: Series.__getitem__ treating keys as positions is deprecated. In a future version, integer keys will always be treated as labels (consistent with DataFrame behavior). To access a value by position, use `ser.iloc[pos]`\n",
      "  n2 = b[1]\n",
      "/var/folders/pt/zlhpwgms1r38l09fb5f24y_80000gn/T/ipykernel_11826/3368081595.py:8: FutureWarning: Series.__getitem__ treating keys as positions is deprecated. In a future version, integer keys will always be treated as labels (consistent with DataFrame behavior). To access a value by position, use `ser.iloc[pos]`\n",
      "  date = b[2]\n"
     ]
    },
    {
     "name": "stdout",
     "output_type": "stream",
     "text": [
      "done!\n",
      "314, 0\n",
      "generating for 2018-04-25 Coco Vandeweghe, Sloane Stephens\n"
     ]
    },
    {
     "name": "stderr",
     "output_type": "stream",
     "text": [
      "/var/folders/pt/zlhpwgms1r38l09fb5f24y_80000gn/T/ipykernel_11826/3368081595.py:6: FutureWarning: Series.__getitem__ treating keys as positions is deprecated. In a future version, integer keys will always be treated as labels (consistent with DataFrame behavior). To access a value by position, use `ser.iloc[pos]`\n",
      "  n1 = b[0]\n",
      "/var/folders/pt/zlhpwgms1r38l09fb5f24y_80000gn/T/ipykernel_11826/3368081595.py:7: FutureWarning: Series.__getitem__ treating keys as positions is deprecated. In a future version, integer keys will always be treated as labels (consistent with DataFrame behavior). To access a value by position, use `ser.iloc[pos]`\n",
      "  n2 = b[1]\n",
      "/var/folders/pt/zlhpwgms1r38l09fb5f24y_80000gn/T/ipykernel_11826/3368081595.py:8: FutureWarning: Series.__getitem__ treating keys as positions is deprecated. In a future version, integer keys will always be treated as labels (consistent with DataFrame behavior). To access a value by position, use `ser.iloc[pos]`\n",
      "  date = b[2]\n"
     ]
    },
    {
     "name": "stdout",
     "output_type": "stream",
     "text": [
      "done!\n",
      "315, 0\n",
      "generating for 2018-04-26 Jelena Ostapenko, Zarina Diyas\n"
     ]
    },
    {
     "name": "stderr",
     "output_type": "stream",
     "text": [
      "/var/folders/pt/zlhpwgms1r38l09fb5f24y_80000gn/T/ipykernel_11826/3368081595.py:6: FutureWarning: Series.__getitem__ treating keys as positions is deprecated. In a future version, integer keys will always be treated as labels (consistent with DataFrame behavior). To access a value by position, use `ser.iloc[pos]`\n",
      "  n1 = b[0]\n",
      "/var/folders/pt/zlhpwgms1r38l09fb5f24y_80000gn/T/ipykernel_11826/3368081595.py:7: FutureWarning: Series.__getitem__ treating keys as positions is deprecated. In a future version, integer keys will always be treated as labels (consistent with DataFrame behavior). To access a value by position, use `ser.iloc[pos]`\n",
      "  n2 = b[1]\n",
      "/var/folders/pt/zlhpwgms1r38l09fb5f24y_80000gn/T/ipykernel_11826/3368081595.py:8: FutureWarning: Series.__getitem__ treating keys as positions is deprecated. In a future version, integer keys will always be treated as labels (consistent with DataFrame behavior). To access a value by position, use `ser.iloc[pos]`\n",
      "  date = b[2]\n"
     ]
    },
    {
     "name": "stdout",
     "output_type": "stream",
     "text": [
      "done!\n",
      "316, 0\n",
      "generating for 2018-04-26 Anastasia Pavlyuchenkova, Garbine Muguruza\n"
     ]
    },
    {
     "name": "stderr",
     "output_type": "stream",
     "text": [
      "/var/folders/pt/zlhpwgms1r38l09fb5f24y_80000gn/T/ipykernel_11826/3368081595.py:6: FutureWarning: Series.__getitem__ treating keys as positions is deprecated. In a future version, integer keys will always be treated as labels (consistent with DataFrame behavior). To access a value by position, use `ser.iloc[pos]`\n",
      "  n1 = b[0]\n",
      "/var/folders/pt/zlhpwgms1r38l09fb5f24y_80000gn/T/ipykernel_11826/3368081595.py:7: FutureWarning: Series.__getitem__ treating keys as positions is deprecated. In a future version, integer keys will always be treated as labels (consistent with DataFrame behavior). To access a value by position, use `ser.iloc[pos]`\n",
      "  n2 = b[1]\n",
      "/var/folders/pt/zlhpwgms1r38l09fb5f24y_80000gn/T/ipykernel_11826/3368081595.py:8: FutureWarning: Series.__getitem__ treating keys as positions is deprecated. In a future version, integer keys will always be treated as labels (consistent with DataFrame behavior). To access a value by position, use `ser.iloc[pos]`\n",
      "  date = b[2]\n"
     ]
    },
    {
     "name": "stdout",
     "output_type": "stream",
     "text": [
      "done!\n",
      "317, 0\n",
      "generating for 2018-04-27 Coco Vandeweghe, Simona Halep\n"
     ]
    },
    {
     "name": "stderr",
     "output_type": "stream",
     "text": [
      "/var/folders/pt/zlhpwgms1r38l09fb5f24y_80000gn/T/ipykernel_11826/3368081595.py:6: FutureWarning: Series.__getitem__ treating keys as positions is deprecated. In a future version, integer keys will always be treated as labels (consistent with DataFrame behavior). To access a value by position, use `ser.iloc[pos]`\n",
      "  n1 = b[0]\n",
      "/var/folders/pt/zlhpwgms1r38l09fb5f24y_80000gn/T/ipykernel_11826/3368081595.py:7: FutureWarning: Series.__getitem__ treating keys as positions is deprecated. In a future version, integer keys will always be treated as labels (consistent with DataFrame behavior). To access a value by position, use `ser.iloc[pos]`\n",
      "  n2 = b[1]\n",
      "/var/folders/pt/zlhpwgms1r38l09fb5f24y_80000gn/T/ipykernel_11826/3368081595.py:8: FutureWarning: Series.__getitem__ treating keys as positions is deprecated. In a future version, integer keys will always be treated as labels (consistent with DataFrame behavior). To access a value by position, use `ser.iloc[pos]`\n",
      "  date = b[2]\n"
     ]
    },
    {
     "name": "stdout",
     "output_type": "stream",
     "text": [
      "done!\n",
      "318, 0\n",
      "generating for 2018-04-27 Caroline Garcia, Elina Svitolina\n"
     ]
    },
    {
     "name": "stderr",
     "output_type": "stream",
     "text": [
      "/var/folders/pt/zlhpwgms1r38l09fb5f24y_80000gn/T/ipykernel_11826/3368081595.py:6: FutureWarning: Series.__getitem__ treating keys as positions is deprecated. In a future version, integer keys will always be treated as labels (consistent with DataFrame behavior). To access a value by position, use `ser.iloc[pos]`\n",
      "  n1 = b[0]\n",
      "/var/folders/pt/zlhpwgms1r38l09fb5f24y_80000gn/T/ipykernel_11826/3368081595.py:7: FutureWarning: Series.__getitem__ treating keys as positions is deprecated. In a future version, integer keys will always be treated as labels (consistent with DataFrame behavior). To access a value by position, use `ser.iloc[pos]`\n",
      "  n2 = b[1]\n",
      "/var/folders/pt/zlhpwgms1r38l09fb5f24y_80000gn/T/ipykernel_11826/3368081595.py:8: FutureWarning: Series.__getitem__ treating keys as positions is deprecated. In a future version, integer keys will always be treated as labels (consistent with DataFrame behavior). To access a value by position, use `ser.iloc[pos]`\n",
      "  date = b[2]\n"
     ]
    },
    {
     "name": "stdout",
     "output_type": "stream",
     "text": [
      "done!\n",
      "319, 0\n",
      "generating for 2018-04-27 Anett Kontaveit, Anastasia Pavlyuchenkova\n"
     ]
    },
    {
     "name": "stderr",
     "output_type": "stream",
     "text": [
      "/var/folders/pt/zlhpwgms1r38l09fb5f24y_80000gn/T/ipykernel_11826/3368081595.py:6: FutureWarning: Series.__getitem__ treating keys as positions is deprecated. In a future version, integer keys will always be treated as labels (consistent with DataFrame behavior). To access a value by position, use `ser.iloc[pos]`\n",
      "  n1 = b[0]\n",
      "/var/folders/pt/zlhpwgms1r38l09fb5f24y_80000gn/T/ipykernel_11826/3368081595.py:7: FutureWarning: Series.__getitem__ treating keys as positions is deprecated. In a future version, integer keys will always be treated as labels (consistent with DataFrame behavior). To access a value by position, use `ser.iloc[pos]`\n",
      "  n2 = b[1]\n",
      "/var/folders/pt/zlhpwgms1r38l09fb5f24y_80000gn/T/ipykernel_11826/3368081595.py:8: FutureWarning: Series.__getitem__ treating keys as positions is deprecated. In a future version, integer keys will always be treated as labels (consistent with DataFrame behavior). To access a value by position, use `ser.iloc[pos]`\n",
      "  date = b[2]\n"
     ]
    },
    {
     "name": "stdout",
     "output_type": "stream",
     "text": [
      "done!\n",
      "320, 0\n",
      "generating for 2018-04-27 Karolina Pliskova, Jelena Ostapenko\n"
     ]
    },
    {
     "name": "stderr",
     "output_type": "stream",
     "text": [
      "/var/folders/pt/zlhpwgms1r38l09fb5f24y_80000gn/T/ipykernel_11826/3368081595.py:6: FutureWarning: Series.__getitem__ treating keys as positions is deprecated. In a future version, integer keys will always be treated as labels (consistent with DataFrame behavior). To access a value by position, use `ser.iloc[pos]`\n",
      "  n1 = b[0]\n",
      "/var/folders/pt/zlhpwgms1r38l09fb5f24y_80000gn/T/ipykernel_11826/3368081595.py:7: FutureWarning: Series.__getitem__ treating keys as positions is deprecated. In a future version, integer keys will always be treated as labels (consistent with DataFrame behavior). To access a value by position, use `ser.iloc[pos]`\n",
      "  n2 = b[1]\n",
      "/var/folders/pt/zlhpwgms1r38l09fb5f24y_80000gn/T/ipykernel_11826/3368081595.py:8: FutureWarning: Series.__getitem__ treating keys as positions is deprecated. In a future version, integer keys will always be treated as labels (consistent with DataFrame behavior). To access a value by position, use `ser.iloc[pos]`\n",
      "  date = b[2]\n"
     ]
    },
    {
     "name": "stdout",
     "output_type": "stream",
     "text": [
      "done!\n",
      "321, 0\n",
      "generating for 2018-04-28 Coco Vandeweghe, Caroline Garcia\n"
     ]
    },
    {
     "name": "stderr",
     "output_type": "stream",
     "text": [
      "/var/folders/pt/zlhpwgms1r38l09fb5f24y_80000gn/T/ipykernel_11826/3368081595.py:6: FutureWarning: Series.__getitem__ treating keys as positions is deprecated. In a future version, integer keys will always be treated as labels (consistent with DataFrame behavior). To access a value by position, use `ser.iloc[pos]`\n",
      "  n1 = b[0]\n",
      "/var/folders/pt/zlhpwgms1r38l09fb5f24y_80000gn/T/ipykernel_11826/3368081595.py:7: FutureWarning: Series.__getitem__ treating keys as positions is deprecated. In a future version, integer keys will always be treated as labels (consistent with DataFrame behavior). To access a value by position, use `ser.iloc[pos]`\n",
      "  n2 = b[1]\n",
      "/var/folders/pt/zlhpwgms1r38l09fb5f24y_80000gn/T/ipykernel_11826/3368081595.py:8: FutureWarning: Series.__getitem__ treating keys as positions is deprecated. In a future version, integer keys will always be treated as labels (consistent with DataFrame behavior). To access a value by position, use `ser.iloc[pos]`\n",
      "  date = b[2]\n"
     ]
    },
    {
     "name": "stdout",
     "output_type": "stream",
     "text": [
      "done!\n",
      "322, 0\n",
      "generating for 2018-04-28 Karolina Pliskova, Anett Kontaveit\n"
     ]
    },
    {
     "name": "stderr",
     "output_type": "stream",
     "text": [
      "/var/folders/pt/zlhpwgms1r38l09fb5f24y_80000gn/T/ipykernel_11826/3368081595.py:6: FutureWarning: Series.__getitem__ treating keys as positions is deprecated. In a future version, integer keys will always be treated as labels (consistent with DataFrame behavior). To access a value by position, use `ser.iloc[pos]`\n",
      "  n1 = b[0]\n",
      "/var/folders/pt/zlhpwgms1r38l09fb5f24y_80000gn/T/ipykernel_11826/3368081595.py:7: FutureWarning: Series.__getitem__ treating keys as positions is deprecated. In a future version, integer keys will always be treated as labels (consistent with DataFrame behavior). To access a value by position, use `ser.iloc[pos]`\n",
      "  n2 = b[1]\n",
      "/var/folders/pt/zlhpwgms1r38l09fb5f24y_80000gn/T/ipykernel_11826/3368081595.py:8: FutureWarning: Series.__getitem__ treating keys as positions is deprecated. In a future version, integer keys will always be treated as labels (consistent with DataFrame behavior). To access a value by position, use `ser.iloc[pos]`\n",
      "  date = b[2]\n"
     ]
    },
    {
     "name": "stdout",
     "output_type": "stream",
     "text": [
      "done!\n",
      "323, 0\n",
      "generating for 2018-04-29 Karolina Pliskova, Coco Vandeweghe\n"
     ]
    },
    {
     "name": "stderr",
     "output_type": "stream",
     "text": [
      "/var/folders/pt/zlhpwgms1r38l09fb5f24y_80000gn/T/ipykernel_11826/3368081595.py:6: FutureWarning: Series.__getitem__ treating keys as positions is deprecated. In a future version, integer keys will always be treated as labels (consistent with DataFrame behavior). To access a value by position, use `ser.iloc[pos]`\n",
      "  n1 = b[0]\n",
      "/var/folders/pt/zlhpwgms1r38l09fb5f24y_80000gn/T/ipykernel_11826/3368081595.py:7: FutureWarning: Series.__getitem__ treating keys as positions is deprecated. In a future version, integer keys will always be treated as labels (consistent with DataFrame behavior). To access a value by position, use `ser.iloc[pos]`\n",
      "  n2 = b[1]\n",
      "/var/folders/pt/zlhpwgms1r38l09fb5f24y_80000gn/T/ipykernel_11826/3368081595.py:8: FutureWarning: Series.__getitem__ treating keys as positions is deprecated. In a future version, integer keys will always be treated as labels (consistent with DataFrame behavior). To access a value by position, use `ser.iloc[pos]`\n",
      "  date = b[2]\n"
     ]
    },
    {
     "name": "stdout",
     "output_type": "stream",
     "text": [
      "done!\n",
      "324, 0\n",
      "generating for 2018-05-01 Karolina Pliskova, Aliaksandra Sasnovich\n"
     ]
    },
    {
     "name": "stderr",
     "output_type": "stream",
     "text": [
      "/var/folders/pt/zlhpwgms1r38l09fb5f24y_80000gn/T/ipykernel_11826/3368081595.py:6: FutureWarning: Series.__getitem__ treating keys as positions is deprecated. In a future version, integer keys will always be treated as labels (consistent with DataFrame behavior). To access a value by position, use `ser.iloc[pos]`\n",
      "  n1 = b[0]\n",
      "/var/folders/pt/zlhpwgms1r38l09fb5f24y_80000gn/T/ipykernel_11826/3368081595.py:7: FutureWarning: Series.__getitem__ treating keys as positions is deprecated. In a future version, integer keys will always be treated as labels (consistent with DataFrame behavior). To access a value by position, use `ser.iloc[pos]`\n",
      "  n2 = b[1]\n",
      "/var/folders/pt/zlhpwgms1r38l09fb5f24y_80000gn/T/ipykernel_11826/3368081595.py:8: FutureWarning: Series.__getitem__ treating keys as positions is deprecated. In a future version, integer keys will always be treated as labels (consistent with DataFrame behavior). To access a value by position, use `ser.iloc[pos]`\n",
      "  date = b[2]\n"
     ]
    },
    {
     "name": "stdout",
     "output_type": "stream",
     "text": [
      "done!\n",
      "325, 0\n",
      "generating for 2018-05-05 Kristina Mladenovic, Coco Vandeweghe\n"
     ]
    },
    {
     "name": "stderr",
     "output_type": "stream",
     "text": [
      "/var/folders/pt/zlhpwgms1r38l09fb5f24y_80000gn/T/ipykernel_11826/3368081595.py:6: FutureWarning: Series.__getitem__ treating keys as positions is deprecated. In a future version, integer keys will always be treated as labels (consistent with DataFrame behavior). To access a value by position, use `ser.iloc[pos]`\n",
      "  n1 = b[0]\n",
      "/var/folders/pt/zlhpwgms1r38l09fb5f24y_80000gn/T/ipykernel_11826/3368081595.py:7: FutureWarning: Series.__getitem__ treating keys as positions is deprecated. In a future version, integer keys will always be treated as labels (consistent with DataFrame behavior). To access a value by position, use `ser.iloc[pos]`\n",
      "  n2 = b[1]\n",
      "/var/folders/pt/zlhpwgms1r38l09fb5f24y_80000gn/T/ipykernel_11826/3368081595.py:8: FutureWarning: Series.__getitem__ treating keys as positions is deprecated. In a future version, integer keys will always be treated as labels (consistent with DataFrame behavior). To access a value by position, use `ser.iloc[pos]`\n",
      "  date = b[2]\n"
     ]
    },
    {
     "name": "stdout",
     "output_type": "stream",
     "text": [
      "done!\n",
      "326, 0\n",
      "generating for 2018-05-06 Ashleigh Barty, Sara Errani\n"
     ]
    },
    {
     "name": "stderr",
     "output_type": "stream",
     "text": [
      "/var/folders/pt/zlhpwgms1r38l09fb5f24y_80000gn/T/ipykernel_11826/3368081595.py:6: FutureWarning: Series.__getitem__ treating keys as positions is deprecated. In a future version, integer keys will always be treated as labels (consistent with DataFrame behavior). To access a value by position, use `ser.iloc[pos]`\n",
      "  n1 = b[0]\n",
      "/var/folders/pt/zlhpwgms1r38l09fb5f24y_80000gn/T/ipykernel_11826/3368081595.py:7: FutureWarning: Series.__getitem__ treating keys as positions is deprecated. In a future version, integer keys will always be treated as labels (consistent with DataFrame behavior). To access a value by position, use `ser.iloc[pos]`\n",
      "  n2 = b[1]\n",
      "/var/folders/pt/zlhpwgms1r38l09fb5f24y_80000gn/T/ipykernel_11826/3368081595.py:8: FutureWarning: Series.__getitem__ treating keys as positions is deprecated. In a future version, integer keys will always be treated as labels (consistent with DataFrame behavior). To access a value by position, use `ser.iloc[pos]`\n",
      "  date = b[2]\n"
     ]
    },
    {
     "name": "stdout",
     "output_type": "stream",
     "text": [
      "done!\n",
      "327, 0\n",
      "generating for 2018-05-06 Karolina Pliskova, Natalia Vikhlyantseva\n"
     ]
    },
    {
     "name": "stderr",
     "output_type": "stream",
     "text": [
      "/var/folders/pt/zlhpwgms1r38l09fb5f24y_80000gn/T/ipykernel_11826/3368081595.py:6: FutureWarning: Series.__getitem__ treating keys as positions is deprecated. In a future version, integer keys will always be treated as labels (consistent with DataFrame behavior). To access a value by position, use `ser.iloc[pos]`\n",
      "  n1 = b[0]\n",
      "/var/folders/pt/zlhpwgms1r38l09fb5f24y_80000gn/T/ipykernel_11826/3368081595.py:7: FutureWarning: Series.__getitem__ treating keys as positions is deprecated. In a future version, integer keys will always be treated as labels (consistent with DataFrame behavior). To access a value by position, use `ser.iloc[pos]`\n",
      "  n2 = b[1]\n",
      "/var/folders/pt/zlhpwgms1r38l09fb5f24y_80000gn/T/ipykernel_11826/3368081595.py:8: FutureWarning: Series.__getitem__ treating keys as positions is deprecated. In a future version, integer keys will always be treated as labels (consistent with DataFrame behavior). To access a value by position, use `ser.iloc[pos]`\n",
      "  date = b[2]\n"
     ]
    },
    {
     "name": "stdout",
     "output_type": "stream",
     "text": [
      "done!\n",
      "328, 0\n",
      "generating for 2018-05-06 Johanna Konta, Magdalena Rybarikova\n"
     ]
    },
    {
     "name": "stderr",
     "output_type": "stream",
     "text": [
      "/var/folders/pt/zlhpwgms1r38l09fb5f24y_80000gn/T/ipykernel_11826/3368081595.py:6: FutureWarning: Series.__getitem__ treating keys as positions is deprecated. In a future version, integer keys will always be treated as labels (consistent with DataFrame behavior). To access a value by position, use `ser.iloc[pos]`\n",
      "  n1 = b[0]\n",
      "/var/folders/pt/zlhpwgms1r38l09fb5f24y_80000gn/T/ipykernel_11826/3368081595.py:7: FutureWarning: Series.__getitem__ treating keys as positions is deprecated. In a future version, integer keys will always be treated as labels (consistent with DataFrame behavior). To access a value by position, use `ser.iloc[pos]`\n",
      "  n2 = b[1]\n",
      "/var/folders/pt/zlhpwgms1r38l09fb5f24y_80000gn/T/ipykernel_11826/3368081595.py:8: FutureWarning: Series.__getitem__ treating keys as positions is deprecated. In a future version, integer keys will always be treated as labels (consistent with DataFrame behavior). To access a value by position, use `ser.iloc[pos]`\n",
      "  date = b[2]\n"
     ]
    },
    {
     "name": "stdout",
     "output_type": "stream",
     "text": [
      "done!\n",
      "329, 0\n",
      "generating for 2018-05-07 Caroline Wozniacki, Ashleigh Barty\n"
     ]
    },
    {
     "name": "stderr",
     "output_type": "stream",
     "text": [
      "/var/folders/pt/zlhpwgms1r38l09fb5f24y_80000gn/T/ipykernel_11826/3368081595.py:6: FutureWarning: Series.__getitem__ treating keys as positions is deprecated. In a future version, integer keys will always be treated as labels (consistent with DataFrame behavior). To access a value by position, use `ser.iloc[pos]`\n",
      "  n1 = b[0]\n",
      "/var/folders/pt/zlhpwgms1r38l09fb5f24y_80000gn/T/ipykernel_11826/3368081595.py:7: FutureWarning: Series.__getitem__ treating keys as positions is deprecated. In a future version, integer keys will always be treated as labels (consistent with DataFrame behavior). To access a value by position, use `ser.iloc[pos]`\n",
      "  n2 = b[1]\n",
      "/var/folders/pt/zlhpwgms1r38l09fb5f24y_80000gn/T/ipykernel_11826/3368081595.py:8: FutureWarning: Series.__getitem__ treating keys as positions is deprecated. In a future version, integer keys will always be treated as labels (consistent with DataFrame behavior). To access a value by position, use `ser.iloc[pos]`\n",
      "  date = b[2]\n"
     ]
    },
    {
     "name": "stdout",
     "output_type": "stream",
     "text": [
      "done!\n",
      "330, 0\n",
      "generating for 2018-05-07 Kiki Bertens, Anastasija Sevastova\n"
     ]
    },
    {
     "name": "stderr",
     "output_type": "stream",
     "text": [
      "/var/folders/pt/zlhpwgms1r38l09fb5f24y_80000gn/T/ipykernel_11826/3368081595.py:6: FutureWarning: Series.__getitem__ treating keys as positions is deprecated. In a future version, integer keys will always be treated as labels (consistent with DataFrame behavior). To access a value by position, use `ser.iloc[pos]`\n",
      "  n1 = b[0]\n",
      "/var/folders/pt/zlhpwgms1r38l09fb5f24y_80000gn/T/ipykernel_11826/3368081595.py:7: FutureWarning: Series.__getitem__ treating keys as positions is deprecated. In a future version, integer keys will always be treated as labels (consistent with DataFrame behavior). To access a value by position, use `ser.iloc[pos]`\n",
      "  n2 = b[1]\n",
      "/var/folders/pt/zlhpwgms1r38l09fb5f24y_80000gn/T/ipykernel_11826/3368081595.py:8: FutureWarning: Series.__getitem__ treating keys as positions is deprecated. In a future version, integer keys will always be treated as labels (consistent with DataFrame behavior). To access a value by position, use `ser.iloc[pos]`\n",
      "  date = b[2]\n"
     ]
    },
    {
     "name": "stdout",
     "output_type": "stream",
     "text": [
      "done!\n",
      "331, 0\n",
      "generating for 2018-05-08 Simona Halep, Elise Mertens\n"
     ]
    },
    {
     "name": "stderr",
     "output_type": "stream",
     "text": [
      "/var/folders/pt/zlhpwgms1r38l09fb5f24y_80000gn/T/ipykernel_11826/3368081595.py:6: FutureWarning: Series.__getitem__ treating keys as positions is deprecated. In a future version, integer keys will always be treated as labels (consistent with DataFrame behavior). To access a value by position, use `ser.iloc[pos]`\n",
      "  n1 = b[0]\n",
      "/var/folders/pt/zlhpwgms1r38l09fb5f24y_80000gn/T/ipykernel_11826/3368081595.py:7: FutureWarning: Series.__getitem__ treating keys as positions is deprecated. In a future version, integer keys will always be treated as labels (consistent with DataFrame behavior). To access a value by position, use `ser.iloc[pos]`\n",
      "  n2 = b[1]\n",
      "/var/folders/pt/zlhpwgms1r38l09fb5f24y_80000gn/T/ipykernel_11826/3368081595.py:8: FutureWarning: Series.__getitem__ treating keys as positions is deprecated. In a future version, integer keys will always be treated as labels (consistent with DataFrame behavior). To access a value by position, use `ser.iloc[pos]`\n",
      "  date = b[2]\n"
     ]
    },
    {
     "name": "stdout",
     "output_type": "stream",
     "text": [
      "done!\n",
      "332, 0\n",
      "generating for 2018-05-08 Daria Kasatkina, Sorana Cirstea\n"
     ]
    },
    {
     "name": "stderr",
     "output_type": "stream",
     "text": [
      "/var/folders/pt/zlhpwgms1r38l09fb5f24y_80000gn/T/ipykernel_11826/3368081595.py:6: FutureWarning: Series.__getitem__ treating keys as positions is deprecated. In a future version, integer keys will always be treated as labels (consistent with DataFrame behavior). To access a value by position, use `ser.iloc[pos]`\n",
      "  n1 = b[0]\n",
      "/var/folders/pt/zlhpwgms1r38l09fb5f24y_80000gn/T/ipykernel_11826/3368081595.py:7: FutureWarning: Series.__getitem__ treating keys as positions is deprecated. In a future version, integer keys will always be treated as labels (consistent with DataFrame behavior). To access a value by position, use `ser.iloc[pos]`\n",
      "  n2 = b[1]\n",
      "/var/folders/pt/zlhpwgms1r38l09fb5f24y_80000gn/T/ipykernel_11826/3368081595.py:8: FutureWarning: Series.__getitem__ treating keys as positions is deprecated. In a future version, integer keys will always be treated as labels (consistent with DataFrame behavior). To access a value by position, use `ser.iloc[pos]`\n",
      "  date = b[2]\n"
     ]
    },
    {
     "name": "stdout",
     "output_type": "stream",
     "text": [
      "done!\n",
      "333, 0\n",
      "generating for 2018-05-08 Carla Suarez Navarro, Elina Svitolina\n"
     ]
    },
    {
     "name": "stderr",
     "output_type": "stream",
     "text": [
      "/var/folders/pt/zlhpwgms1r38l09fb5f24y_80000gn/T/ipykernel_11826/3368081595.py:6: FutureWarning: Series.__getitem__ treating keys as positions is deprecated. In a future version, integer keys will always be treated as labels (consistent with DataFrame behavior). To access a value by position, use `ser.iloc[pos]`\n",
      "  n1 = b[0]\n",
      "/var/folders/pt/zlhpwgms1r38l09fb5f24y_80000gn/T/ipykernel_11826/3368081595.py:7: FutureWarning: Series.__getitem__ treating keys as positions is deprecated. In a future version, integer keys will always be treated as labels (consistent with DataFrame behavior). To access a value by position, use `ser.iloc[pos]`\n",
      "  n2 = b[1]\n",
      "/var/folders/pt/zlhpwgms1r38l09fb5f24y_80000gn/T/ipykernel_11826/3368081595.py:8: FutureWarning: Series.__getitem__ treating keys as positions is deprecated. In a future version, integer keys will always be treated as labels (consistent with DataFrame behavior). To access a value by position, use `ser.iloc[pos]`\n",
      "  date = b[2]\n"
     ]
    },
    {
     "name": "stdout",
     "output_type": "stream",
     "text": [
      "done!\n",
      "334, 0\n",
      "generating for 2018-05-09 Simona Halep, Karolina Pliskova\n"
     ]
    },
    {
     "name": "stderr",
     "output_type": "stream",
     "text": [
      "/var/folders/pt/zlhpwgms1r38l09fb5f24y_80000gn/T/ipykernel_11826/3368081595.py:6: FutureWarning: Series.__getitem__ treating keys as positions is deprecated. In a future version, integer keys will always be treated as labels (consistent with DataFrame behavior). To access a value by position, use `ser.iloc[pos]`\n",
      "  n1 = b[0]\n",
      "/var/folders/pt/zlhpwgms1r38l09fb5f24y_80000gn/T/ipykernel_11826/3368081595.py:7: FutureWarning: Series.__getitem__ treating keys as positions is deprecated. In a future version, integer keys will always be treated as labels (consistent with DataFrame behavior). To access a value by position, use `ser.iloc[pos]`\n",
      "  n2 = b[1]\n",
      "/var/folders/pt/zlhpwgms1r38l09fb5f24y_80000gn/T/ipykernel_11826/3368081595.py:8: FutureWarning: Series.__getitem__ treating keys as positions is deprecated. In a future version, integer keys will always be treated as labels (consistent with DataFrame behavior). To access a value by position, use `ser.iloc[pos]`\n",
      "  date = b[2]\n"
     ]
    },
    {
     "name": "stdout",
     "output_type": "stream",
     "text": [
      "done!\n",
      "335, 0\n",
      "generating for 2018-05-09 Kiki Bertens, Caroline Wozniacki\n"
     ]
    },
    {
     "name": "stderr",
     "output_type": "stream",
     "text": [
      "/var/folders/pt/zlhpwgms1r38l09fb5f24y_80000gn/T/ipykernel_11826/3368081595.py:6: FutureWarning: Series.__getitem__ treating keys as positions is deprecated. In a future version, integer keys will always be treated as labels (consistent with DataFrame behavior). To access a value by position, use `ser.iloc[pos]`\n",
      "  n1 = b[0]\n",
      "/var/folders/pt/zlhpwgms1r38l09fb5f24y_80000gn/T/ipykernel_11826/3368081595.py:7: FutureWarning: Series.__getitem__ treating keys as positions is deprecated. In a future version, integer keys will always be treated as labels (consistent with DataFrame behavior). To access a value by position, use `ser.iloc[pos]`\n",
      "  n2 = b[1]\n",
      "/var/folders/pt/zlhpwgms1r38l09fb5f24y_80000gn/T/ipykernel_11826/3368081595.py:8: FutureWarning: Series.__getitem__ treating keys as positions is deprecated. In a future version, integer keys will always be treated as labels (consistent with DataFrame behavior). To access a value by position, use `ser.iloc[pos]`\n",
      "  date = b[2]\n"
     ]
    },
    {
     "name": "stdout",
     "output_type": "stream",
     "text": [
      "done!\n",
      "336, 0\n",
      "generating for 2018-05-09 Caroline Garcia, Julia Goerges\n"
     ]
    },
    {
     "name": "stderr",
     "output_type": "stream",
     "text": [
      "/var/folders/pt/zlhpwgms1r38l09fb5f24y_80000gn/T/ipykernel_11826/3368081595.py:6: FutureWarning: Series.__getitem__ treating keys as positions is deprecated. In a future version, integer keys will always be treated as labels (consistent with DataFrame behavior). To access a value by position, use `ser.iloc[pos]`\n",
      "  n1 = b[0]\n",
      "/var/folders/pt/zlhpwgms1r38l09fb5f24y_80000gn/T/ipykernel_11826/3368081595.py:7: FutureWarning: Series.__getitem__ treating keys as positions is deprecated. In a future version, integer keys will always be treated as labels (consistent with DataFrame behavior). To access a value by position, use `ser.iloc[pos]`\n",
      "  n2 = b[1]\n",
      "/var/folders/pt/zlhpwgms1r38l09fb5f24y_80000gn/T/ipykernel_11826/3368081595.py:8: FutureWarning: Series.__getitem__ treating keys as positions is deprecated. In a future version, integer keys will always be treated as labels (consistent with DataFrame behavior). To access a value by position, use `ser.iloc[pos]`\n",
      "  date = b[2]\n"
     ]
    },
    {
     "name": "stdout",
     "output_type": "stream",
     "text": [
      "done!\n",
      "337, 0\n",
      "generating for 2018-05-09 Daria Kasatkina, Garbine Muguruza\n"
     ]
    },
    {
     "name": "stderr",
     "output_type": "stream",
     "text": [
      "/var/folders/pt/zlhpwgms1r38l09fb5f24y_80000gn/T/ipykernel_11826/3368081595.py:6: FutureWarning: Series.__getitem__ treating keys as positions is deprecated. In a future version, integer keys will always be treated as labels (consistent with DataFrame behavior). To access a value by position, use `ser.iloc[pos]`\n",
      "  n1 = b[0]\n",
      "/var/folders/pt/zlhpwgms1r38l09fb5f24y_80000gn/T/ipykernel_11826/3368081595.py:7: FutureWarning: Series.__getitem__ treating keys as positions is deprecated. In a future version, integer keys will always be treated as labels (consistent with DataFrame behavior). To access a value by position, use `ser.iloc[pos]`\n",
      "  n2 = b[1]\n",
      "/var/folders/pt/zlhpwgms1r38l09fb5f24y_80000gn/T/ipykernel_11826/3368081595.py:8: FutureWarning: Series.__getitem__ treating keys as positions is deprecated. In a future version, integer keys will always be treated as labels (consistent with DataFrame behavior). To access a value by position, use `ser.iloc[pos]`\n",
      "  date = b[2]\n"
     ]
    },
    {
     "name": "stdout",
     "output_type": "stream",
     "text": [
      "done!\n",
      "338, 0\n",
      "generating for 2018-05-10 Caroline Garcia, Carla Suarez Navarro\n"
     ]
    },
    {
     "name": "stderr",
     "output_type": "stream",
     "text": [
      "/var/folders/pt/zlhpwgms1r38l09fb5f24y_80000gn/T/ipykernel_11826/3368081595.py:6: FutureWarning: Series.__getitem__ treating keys as positions is deprecated. In a future version, integer keys will always be treated as labels (consistent with DataFrame behavior). To access a value by position, use `ser.iloc[pos]`\n",
      "  n1 = b[0]\n",
      "/var/folders/pt/zlhpwgms1r38l09fb5f24y_80000gn/T/ipykernel_11826/3368081595.py:7: FutureWarning: Series.__getitem__ treating keys as positions is deprecated. In a future version, integer keys will always be treated as labels (consistent with DataFrame behavior). To access a value by position, use `ser.iloc[pos]`\n",
      "  n2 = b[1]\n",
      "/var/folders/pt/zlhpwgms1r38l09fb5f24y_80000gn/T/ipykernel_11826/3368081595.py:8: FutureWarning: Series.__getitem__ treating keys as positions is deprecated. In a future version, integer keys will always be treated as labels (consistent with DataFrame behavior). To access a value by position, use `ser.iloc[pos]`\n",
      "  date = b[2]\n"
     ]
    },
    {
     "name": "stdout",
     "output_type": "stream",
     "text": [
      "done!\n",
      "339, 0\n",
      "generating for 2018-05-10 Karolina Pliskova, Simona Halep\n"
     ]
    },
    {
     "name": "stderr",
     "output_type": "stream",
     "text": [
      "/var/folders/pt/zlhpwgms1r38l09fb5f24y_80000gn/T/ipykernel_11826/3368081595.py:6: FutureWarning: Series.__getitem__ treating keys as positions is deprecated. In a future version, integer keys will always be treated as labels (consistent with DataFrame behavior). To access a value by position, use `ser.iloc[pos]`\n",
      "  n1 = b[0]\n",
      "/var/folders/pt/zlhpwgms1r38l09fb5f24y_80000gn/T/ipykernel_11826/3368081595.py:7: FutureWarning: Series.__getitem__ treating keys as positions is deprecated. In a future version, integer keys will always be treated as labels (consistent with DataFrame behavior). To access a value by position, use `ser.iloc[pos]`\n",
      "  n2 = b[1]\n",
      "/var/folders/pt/zlhpwgms1r38l09fb5f24y_80000gn/T/ipykernel_11826/3368081595.py:8: FutureWarning: Series.__getitem__ treating keys as positions is deprecated. In a future version, integer keys will always be treated as labels (consistent with DataFrame behavior). To access a value by position, use `ser.iloc[pos]`\n",
      "  date = b[2]\n"
     ]
    },
    {
     "name": "stdout",
     "output_type": "stream",
     "text": [
      "done!\n",
      "340, 0\n",
      "generating for 2018-05-11 Kiki Bertens, Caroline Garcia\n"
     ]
    },
    {
     "name": "stderr",
     "output_type": "stream",
     "text": [
      "/var/folders/pt/zlhpwgms1r38l09fb5f24y_80000gn/T/ipykernel_11826/3368081595.py:6: FutureWarning: Series.__getitem__ treating keys as positions is deprecated. In a future version, integer keys will always be treated as labels (consistent with DataFrame behavior). To access a value by position, use `ser.iloc[pos]`\n",
      "  n1 = b[0]\n",
      "/var/folders/pt/zlhpwgms1r38l09fb5f24y_80000gn/T/ipykernel_11826/3368081595.py:7: FutureWarning: Series.__getitem__ treating keys as positions is deprecated. In a future version, integer keys will always be treated as labels (consistent with DataFrame behavior). To access a value by position, use `ser.iloc[pos]`\n",
      "  n2 = b[1]\n",
      "/var/folders/pt/zlhpwgms1r38l09fb5f24y_80000gn/T/ipykernel_11826/3368081595.py:8: FutureWarning: Series.__getitem__ treating keys as positions is deprecated. In a future version, integer keys will always be treated as labels (consistent with DataFrame behavior). To access a value by position, use `ser.iloc[pos]`\n",
      "  date = b[2]\n"
     ]
    },
    {
     "name": "stdout",
     "output_type": "stream",
     "text": [
      "done!\n",
      "341, 0\n",
      "generating for 2018-05-14 Johanna Konta, Magdalena Rybarikova\n"
     ]
    },
    {
     "name": "stderr",
     "output_type": "stream",
     "text": [
      "/var/folders/pt/zlhpwgms1r38l09fb5f24y_80000gn/T/ipykernel_11826/3368081595.py:6: FutureWarning: Series.__getitem__ treating keys as positions is deprecated. In a future version, integer keys will always be treated as labels (consistent with DataFrame behavior). To access a value by position, use `ser.iloc[pos]`\n",
      "  n1 = b[0]\n",
      "/var/folders/pt/zlhpwgms1r38l09fb5f24y_80000gn/T/ipykernel_11826/3368081595.py:7: FutureWarning: Series.__getitem__ treating keys as positions is deprecated. In a future version, integer keys will always be treated as labels (consistent with DataFrame behavior). To access a value by position, use `ser.iloc[pos]`\n",
      "  n2 = b[1]\n",
      "/var/folders/pt/zlhpwgms1r38l09fb5f24y_80000gn/T/ipykernel_11826/3368081595.py:8: FutureWarning: Series.__getitem__ treating keys as positions is deprecated. In a future version, integer keys will always be treated as labels (consistent with DataFrame behavior). To access a value by position, use `ser.iloc[pos]`\n",
      "  date = b[2]\n"
     ]
    },
    {
     "name": "stdout",
     "output_type": "stream",
     "text": [
      "done!\n",
      "342, 0\n",
      "generating for 2018-05-14 Petra Martic, Lesia Tsurenko\n"
     ]
    },
    {
     "name": "stderr",
     "output_type": "stream",
     "text": [
      "/var/folders/pt/zlhpwgms1r38l09fb5f24y_80000gn/T/ipykernel_11826/3368081595.py:6: FutureWarning: Series.__getitem__ treating keys as positions is deprecated. In a future version, integer keys will always be treated as labels (consistent with DataFrame behavior). To access a value by position, use `ser.iloc[pos]`\n",
      "  n1 = b[0]\n",
      "/var/folders/pt/zlhpwgms1r38l09fb5f24y_80000gn/T/ipykernel_11826/3368081595.py:7: FutureWarning: Series.__getitem__ treating keys as positions is deprecated. In a future version, integer keys will always be treated as labels (consistent with DataFrame behavior). To access a value by position, use `ser.iloc[pos]`\n",
      "  n2 = b[1]\n",
      "/var/folders/pt/zlhpwgms1r38l09fb5f24y_80000gn/T/ipykernel_11826/3368081595.py:8: FutureWarning: Series.__getitem__ treating keys as positions is deprecated. In a future version, integer keys will always be treated as labels (consistent with DataFrame behavior). To access a value by position, use `ser.iloc[pos]`\n",
      "  date = b[2]\n"
     ]
    },
    {
     "name": "stdout",
     "output_type": "stream",
     "text": [
      "done!\n",
      "343, 0\n",
      "generating for 2018-05-15 Irina Camelia Begu, Shuai Peng\n"
     ]
    },
    {
     "name": "stderr",
     "output_type": "stream",
     "text": [
      "/var/folders/pt/zlhpwgms1r38l09fb5f24y_80000gn/T/ipykernel_11826/3368081595.py:6: FutureWarning: Series.__getitem__ treating keys as positions is deprecated. In a future version, integer keys will always be treated as labels (consistent with DataFrame behavior). To access a value by position, use `ser.iloc[pos]`\n",
      "  n1 = b[0]\n",
      "/var/folders/pt/zlhpwgms1r38l09fb5f24y_80000gn/T/ipykernel_11826/3368081595.py:7: FutureWarning: Series.__getitem__ treating keys as positions is deprecated. In a future version, integer keys will always be treated as labels (consistent with DataFrame behavior). To access a value by position, use `ser.iloc[pos]`\n",
      "  n2 = b[1]\n",
      "/var/folders/pt/zlhpwgms1r38l09fb5f24y_80000gn/T/ipykernel_11826/3368081595.py:8: FutureWarning: Series.__getitem__ treating keys as positions is deprecated. In a future version, integer keys will always be treated as labels (consistent with DataFrame behavior). To access a value by position, use `ser.iloc[pos]`\n",
      "  date = b[2]\n"
     ]
    },
    {
     "name": "stdout",
     "output_type": "stream",
     "text": [
      "done!\n",
      "344, 0\n",
      "generating for 2018-05-16 Simona Halep, Naomi Osaka\n"
     ]
    },
    {
     "name": "stderr",
     "output_type": "stream",
     "text": [
      "/var/folders/pt/zlhpwgms1r38l09fb5f24y_80000gn/T/ipykernel_11826/3368081595.py:6: FutureWarning: Series.__getitem__ treating keys as positions is deprecated. In a future version, integer keys will always be treated as labels (consistent with DataFrame behavior). To access a value by position, use `ser.iloc[pos]`\n",
      "  n1 = b[0]\n",
      "/var/folders/pt/zlhpwgms1r38l09fb5f24y_80000gn/T/ipykernel_11826/3368081595.py:7: FutureWarning: Series.__getitem__ treating keys as positions is deprecated. In a future version, integer keys will always be treated as labels (consistent with DataFrame behavior). To access a value by position, use `ser.iloc[pos]`\n",
      "  n2 = b[1]\n",
      "/var/folders/pt/zlhpwgms1r38l09fb5f24y_80000gn/T/ipykernel_11826/3368081595.py:8: FutureWarning: Series.__getitem__ treating keys as positions is deprecated. In a future version, integer keys will always be treated as labels (consistent with DataFrame behavior). To access a value by position, use `ser.iloc[pos]`\n",
      "  date = b[2]\n"
     ]
    },
    {
     "name": "stdout",
     "output_type": "stream",
     "text": [
      "done!\n",
      "345, 0\n",
      "generating for 2018-05-17 Elina Svitolina, Daria Kasatkina\n"
     ]
    },
    {
     "name": "stderr",
     "output_type": "stream",
     "text": [
      "/var/folders/pt/zlhpwgms1r38l09fb5f24y_80000gn/T/ipykernel_11826/3368081595.py:6: FutureWarning: Series.__getitem__ treating keys as positions is deprecated. In a future version, integer keys will always be treated as labels (consistent with DataFrame behavior). To access a value by position, use `ser.iloc[pos]`\n",
      "  n1 = b[0]\n",
      "/var/folders/pt/zlhpwgms1r38l09fb5f24y_80000gn/T/ipykernel_11826/3368081595.py:7: FutureWarning: Series.__getitem__ treating keys as positions is deprecated. In a future version, integer keys will always be treated as labels (consistent with DataFrame behavior). To access a value by position, use `ser.iloc[pos]`\n",
      "  n2 = b[1]\n",
      "/var/folders/pt/zlhpwgms1r38l09fb5f24y_80000gn/T/ipykernel_11826/3368081595.py:8: FutureWarning: Series.__getitem__ treating keys as positions is deprecated. In a future version, integer keys will always be treated as labels (consistent with DataFrame behavior). To access a value by position, use `ser.iloc[pos]`\n",
      "  date = b[2]\n"
     ]
    },
    {
     "name": "stdout",
     "output_type": "stream",
     "text": [
      "done!\n",
      "346, 0\n",
      "generating for 2018-05-17 Jelena Ostapenko, Johanna Konta\n"
     ]
    },
    {
     "name": "stderr",
     "output_type": "stream",
     "text": [
      "/var/folders/pt/zlhpwgms1r38l09fb5f24y_80000gn/T/ipykernel_11826/3368081595.py:6: FutureWarning: Series.__getitem__ treating keys as positions is deprecated. In a future version, integer keys will always be treated as labels (consistent with DataFrame behavior). To access a value by position, use `ser.iloc[pos]`\n",
      "  n1 = b[0]\n",
      "/var/folders/pt/zlhpwgms1r38l09fb5f24y_80000gn/T/ipykernel_11826/3368081595.py:7: FutureWarning: Series.__getitem__ treating keys as positions is deprecated. In a future version, integer keys will always be treated as labels (consistent with DataFrame behavior). To access a value by position, use `ser.iloc[pos]`\n",
      "  n2 = b[1]\n",
      "/var/folders/pt/zlhpwgms1r38l09fb5f24y_80000gn/T/ipykernel_11826/3368081595.py:8: FutureWarning: Series.__getitem__ treating keys as positions is deprecated. In a future version, integer keys will always be treated as labels (consistent with DataFrame behavior). To access a value by position, use `ser.iloc[pos]`\n",
      "  date = b[2]\n"
     ]
    },
    {
     "name": "stdout",
     "output_type": "stream",
     "text": [
      "done!\n",
      "347, 0\n",
      "generating for 2018-05-17 Simona Halep, Madison Keys\n"
     ]
    },
    {
     "name": "stderr",
     "output_type": "stream",
     "text": [
      "/var/folders/pt/zlhpwgms1r38l09fb5f24y_80000gn/T/ipykernel_11826/3368081595.py:6: FutureWarning: Series.__getitem__ treating keys as positions is deprecated. In a future version, integer keys will always be treated as labels (consistent with DataFrame behavior). To access a value by position, use `ser.iloc[pos]`\n",
      "  n1 = b[0]\n",
      "/var/folders/pt/zlhpwgms1r38l09fb5f24y_80000gn/T/ipykernel_11826/3368081595.py:7: FutureWarning: Series.__getitem__ treating keys as positions is deprecated. In a future version, integer keys will always be treated as labels (consistent with DataFrame behavior). To access a value by position, use `ser.iloc[pos]`\n",
      "  n2 = b[1]\n",
      "/var/folders/pt/zlhpwgms1r38l09fb5f24y_80000gn/T/ipykernel_11826/3368081595.py:8: FutureWarning: Series.__getitem__ treating keys as positions is deprecated. In a future version, integer keys will always be treated as labels (consistent with DataFrame behavior). To access a value by position, use `ser.iloc[pos]`\n",
      "  date = b[2]\n"
     ]
    },
    {
     "name": "stdout",
     "output_type": "stream",
     "text": [
      "done!\n",
      "348, 0\n",
      "generating for 2018-05-17 Anett Kontaveit, Venus Williams\n"
     ]
    },
    {
     "name": "stderr",
     "output_type": "stream",
     "text": [
      "/var/folders/pt/zlhpwgms1r38l09fb5f24y_80000gn/T/ipykernel_11826/3368081595.py:6: FutureWarning: Series.__getitem__ treating keys as positions is deprecated. In a future version, integer keys will always be treated as labels (consistent with DataFrame behavior). To access a value by position, use `ser.iloc[pos]`\n",
      "  n1 = b[0]\n",
      "/var/folders/pt/zlhpwgms1r38l09fb5f24y_80000gn/T/ipykernel_11826/3368081595.py:7: FutureWarning: Series.__getitem__ treating keys as positions is deprecated. In a future version, integer keys will always be treated as labels (consistent with DataFrame behavior). To access a value by position, use `ser.iloc[pos]`\n",
      "  n2 = b[1]\n",
      "/var/folders/pt/zlhpwgms1r38l09fb5f24y_80000gn/T/ipykernel_11826/3368081595.py:8: FutureWarning: Series.__getitem__ treating keys as positions is deprecated. In a future version, integer keys will always be treated as labels (consistent with DataFrame behavior). To access a value by position, use `ser.iloc[pos]`\n",
      "  date = b[2]\n"
     ]
    },
    {
     "name": "stdout",
     "output_type": "stream",
     "text": [
      "done!\n",
      "349, 0\n",
      "generating for 2018-05-17 Caroline Garcia, Sloane Stephens\n"
     ]
    },
    {
     "name": "stderr",
     "output_type": "stream",
     "text": [
      "/var/folders/pt/zlhpwgms1r38l09fb5f24y_80000gn/T/ipykernel_11826/3368081595.py:6: FutureWarning: Series.__getitem__ treating keys as positions is deprecated. In a future version, integer keys will always be treated as labels (consistent with DataFrame behavior). To access a value by position, use `ser.iloc[pos]`\n",
      "  n1 = b[0]\n",
      "/var/folders/pt/zlhpwgms1r38l09fb5f24y_80000gn/T/ipykernel_11826/3368081595.py:7: FutureWarning: Series.__getitem__ treating keys as positions is deprecated. In a future version, integer keys will always be treated as labels (consistent with DataFrame behavior). To access a value by position, use `ser.iloc[pos]`\n",
      "  n2 = b[1]\n",
      "/var/folders/pt/zlhpwgms1r38l09fb5f24y_80000gn/T/ipykernel_11826/3368081595.py:8: FutureWarning: Series.__getitem__ treating keys as positions is deprecated. In a future version, integer keys will always be treated as labels (consistent with DataFrame behavior). To access a value by position, use `ser.iloc[pos]`\n",
      "  date = b[2]\n"
     ]
    },
    {
     "name": "stdout",
     "output_type": "stream",
     "text": [
      "done!\n",
      "350, 0\n",
      "generating for 2018-05-17 Caroline Wozniacki, Anastasija Sevastova\n"
     ]
    },
    {
     "name": "stderr",
     "output_type": "stream",
     "text": [
      "/var/folders/pt/zlhpwgms1r38l09fb5f24y_80000gn/T/ipykernel_11826/3368081595.py:6: FutureWarning: Series.__getitem__ treating keys as positions is deprecated. In a future version, integer keys will always be treated as labels (consistent with DataFrame behavior). To access a value by position, use `ser.iloc[pos]`\n",
      "  n1 = b[0]\n",
      "/var/folders/pt/zlhpwgms1r38l09fb5f24y_80000gn/T/ipykernel_11826/3368081595.py:7: FutureWarning: Series.__getitem__ treating keys as positions is deprecated. In a future version, integer keys will always be treated as labels (consistent with DataFrame behavior). To access a value by position, use `ser.iloc[pos]`\n",
      "  n2 = b[1]\n",
      "/var/folders/pt/zlhpwgms1r38l09fb5f24y_80000gn/T/ipykernel_11826/3368081595.py:8: FutureWarning: Series.__getitem__ treating keys as positions is deprecated. In a future version, integer keys will always be treated as labels (consistent with DataFrame behavior). To access a value by position, use `ser.iloc[pos]`\n",
      "  date = b[2]\n"
     ]
    },
    {
     "name": "stdout",
     "output_type": "stream",
     "text": [
      "done!\n",
      "351, 0\n",
      "generating for 2018-05-18 Anett Kontaveit, Caroline Wozniacki\n"
     ]
    },
    {
     "name": "stderr",
     "output_type": "stream",
     "text": [
      "/var/folders/pt/zlhpwgms1r38l09fb5f24y_80000gn/T/ipykernel_11826/3368081595.py:6: FutureWarning: Series.__getitem__ treating keys as positions is deprecated. In a future version, integer keys will always be treated as labels (consistent with DataFrame behavior). To access a value by position, use `ser.iloc[pos]`\n",
      "  n1 = b[0]\n",
      "/var/folders/pt/zlhpwgms1r38l09fb5f24y_80000gn/T/ipykernel_11826/3368081595.py:7: FutureWarning: Series.__getitem__ treating keys as positions is deprecated. In a future version, integer keys will always be treated as labels (consistent with DataFrame behavior). To access a value by position, use `ser.iloc[pos]`\n",
      "  n2 = b[1]\n",
      "/var/folders/pt/zlhpwgms1r38l09fb5f24y_80000gn/T/ipykernel_11826/3368081595.py:8: FutureWarning: Series.__getitem__ treating keys as positions is deprecated. In a future version, integer keys will always be treated as labels (consistent with DataFrame behavior). To access a value by position, use `ser.iloc[pos]`\n",
      "  date = b[2]\n"
     ]
    },
    {
     "name": "stdout",
     "output_type": "stream",
     "text": [
      "done!\n",
      "352, 0\n",
      "generating for 2018-05-18 Simona Halep, Caroline Garcia\n"
     ]
    },
    {
     "name": "stderr",
     "output_type": "stream",
     "text": [
      "/var/folders/pt/zlhpwgms1r38l09fb5f24y_80000gn/T/ipykernel_11826/3368081595.py:6: FutureWarning: Series.__getitem__ treating keys as positions is deprecated. In a future version, integer keys will always be treated as labels (consistent with DataFrame behavior). To access a value by position, use `ser.iloc[pos]`\n",
      "  n1 = b[0]\n",
      "/var/folders/pt/zlhpwgms1r38l09fb5f24y_80000gn/T/ipykernel_11826/3368081595.py:7: FutureWarning: Series.__getitem__ treating keys as positions is deprecated. In a future version, integer keys will always be treated as labels (consistent with DataFrame behavior). To access a value by position, use `ser.iloc[pos]`\n",
      "  n2 = b[1]\n",
      "/var/folders/pt/zlhpwgms1r38l09fb5f24y_80000gn/T/ipykernel_11826/3368081595.py:8: FutureWarning: Series.__getitem__ treating keys as positions is deprecated. In a future version, integer keys will always be treated as labels (consistent with DataFrame behavior). To access a value by position, use `ser.iloc[pos]`\n",
      "  date = b[2]\n"
     ]
    },
    {
     "name": "stdout",
     "output_type": "stream",
     "text": [
      "done!\n",
      "353, 0\n",
      "generating for 2018-05-19 Elina Svitolina, Anett Kontaveit\n"
     ]
    },
    {
     "name": "stderr",
     "output_type": "stream",
     "text": [
      "/var/folders/pt/zlhpwgms1r38l09fb5f24y_80000gn/T/ipykernel_11826/3368081595.py:6: FutureWarning: Series.__getitem__ treating keys as positions is deprecated. In a future version, integer keys will always be treated as labels (consistent with DataFrame behavior). To access a value by position, use `ser.iloc[pos]`\n",
      "  n1 = b[0]\n",
      "/var/folders/pt/zlhpwgms1r38l09fb5f24y_80000gn/T/ipykernel_11826/3368081595.py:7: FutureWarning: Series.__getitem__ treating keys as positions is deprecated. In a future version, integer keys will always be treated as labels (consistent with DataFrame behavior). To access a value by position, use `ser.iloc[pos]`\n",
      "  n2 = b[1]\n",
      "/var/folders/pt/zlhpwgms1r38l09fb5f24y_80000gn/T/ipykernel_11826/3368081595.py:8: FutureWarning: Series.__getitem__ treating keys as positions is deprecated. In a future version, integer keys will always be treated as labels (consistent with DataFrame behavior). To access a value by position, use `ser.iloc[pos]`\n",
      "  date = b[2]\n"
     ]
    },
    {
     "name": "stdout",
     "output_type": "stream",
     "text": [
      "done!\n",
      "354, 0\n",
      "generating for 2018-05-20 Elina Svitolina, Simona Halep\n"
     ]
    },
    {
     "name": "stderr",
     "output_type": "stream",
     "text": [
      "/var/folders/pt/zlhpwgms1r38l09fb5f24y_80000gn/T/ipykernel_11826/3368081595.py:6: FutureWarning: Series.__getitem__ treating keys as positions is deprecated. In a future version, integer keys will always be treated as labels (consistent with DataFrame behavior). To access a value by position, use `ser.iloc[pos]`\n",
      "  n1 = b[0]\n",
      "/var/folders/pt/zlhpwgms1r38l09fb5f24y_80000gn/T/ipykernel_11826/3368081595.py:7: FutureWarning: Series.__getitem__ treating keys as positions is deprecated. In a future version, integer keys will always be treated as labels (consistent with DataFrame behavior). To access a value by position, use `ser.iloc[pos]`\n",
      "  n2 = b[1]\n",
      "/var/folders/pt/zlhpwgms1r38l09fb5f24y_80000gn/T/ipykernel_11826/3368081595.py:8: FutureWarning: Series.__getitem__ treating keys as positions is deprecated. In a future version, integer keys will always be treated as labels (consistent with DataFrame behavior). To access a value by position, use `ser.iloc[pos]`\n",
      "  date = b[2]\n"
     ]
    },
    {
     "name": "stdout",
     "output_type": "stream",
     "text": [
      "done!\n",
      "355, 0\n",
      "generating for 2018-05-23 Yulia Putintseva, Sloane Stephens\n"
     ]
    },
    {
     "name": "stderr",
     "output_type": "stream",
     "text": [
      "/var/folders/pt/zlhpwgms1r38l09fb5f24y_80000gn/T/ipykernel_11826/3368081595.py:6: FutureWarning: Series.__getitem__ treating keys as positions is deprecated. In a future version, integer keys will always be treated as labels (consistent with DataFrame behavior). To access a value by position, use `ser.iloc[pos]`\n",
      "  n1 = b[0]\n",
      "/var/folders/pt/zlhpwgms1r38l09fb5f24y_80000gn/T/ipykernel_11826/3368081595.py:7: FutureWarning: Series.__getitem__ treating keys as positions is deprecated. In a future version, integer keys will always be treated as labels (consistent with DataFrame behavior). To access a value by position, use `ser.iloc[pos]`\n",
      "  n2 = b[1]\n",
      "/var/folders/pt/zlhpwgms1r38l09fb5f24y_80000gn/T/ipykernel_11826/3368081595.py:8: FutureWarning: Series.__getitem__ treating keys as positions is deprecated. In a future version, integer keys will always be treated as labels (consistent with DataFrame behavior). To access a value by position, use `ser.iloc[pos]`\n",
      "  date = b[2]\n"
     ]
    },
    {
     "name": "stdout",
     "output_type": "stream",
     "text": [
      "done!\n",
      "356, 0\n",
      "generating for 2018-05-24 Johanna Larsson, Karolina Pliskova\n"
     ]
    },
    {
     "name": "stderr",
     "output_type": "stream",
     "text": [
      "/var/folders/pt/zlhpwgms1r38l09fb5f24y_80000gn/T/ipykernel_11826/3368081595.py:6: FutureWarning: Series.__getitem__ treating keys as positions is deprecated. In a future version, integer keys will always be treated as labels (consistent with DataFrame behavior). To access a value by position, use `ser.iloc[pos]`\n",
      "  n1 = b[0]\n",
      "/var/folders/pt/zlhpwgms1r38l09fb5f24y_80000gn/T/ipykernel_11826/3368081595.py:7: FutureWarning: Series.__getitem__ treating keys as positions is deprecated. In a future version, integer keys will always be treated as labels (consistent with DataFrame behavior). To access a value by position, use `ser.iloc[pos]`\n",
      "  n2 = b[1]\n",
      "/var/folders/pt/zlhpwgms1r38l09fb5f24y_80000gn/T/ipykernel_11826/3368081595.py:8: FutureWarning: Series.__getitem__ treating keys as positions is deprecated. In a future version, integer keys will always be treated as labels (consistent with DataFrame behavior). To access a value by position, use `ser.iloc[pos]`\n",
      "  date = b[2]\n"
     ]
    },
    {
     "name": "stdout",
     "output_type": "stream",
     "text": [
      "done!\n",
      "357, 0\n",
      "generating for 2018-05-21 Samantha Stosur, Sofia Kenin\n"
     ]
    },
    {
     "name": "stderr",
     "output_type": "stream",
     "text": [
      "/var/folders/pt/zlhpwgms1r38l09fb5f24y_80000gn/T/ipykernel_11826/3368081595.py:6: FutureWarning: Series.__getitem__ treating keys as positions is deprecated. In a future version, integer keys will always be treated as labels (consistent with DataFrame behavior). To access a value by position, use `ser.iloc[pos]`\n",
      "  n1 = b[0]\n",
      "/var/folders/pt/zlhpwgms1r38l09fb5f24y_80000gn/T/ipykernel_11826/3368081595.py:7: FutureWarning: Series.__getitem__ treating keys as positions is deprecated. In a future version, integer keys will always be treated as labels (consistent with DataFrame behavior). To access a value by position, use `ser.iloc[pos]`\n",
      "  n2 = b[1]\n",
      "/var/folders/pt/zlhpwgms1r38l09fb5f24y_80000gn/T/ipykernel_11826/3368081595.py:8: FutureWarning: Series.__getitem__ treating keys as positions is deprecated. In a future version, integer keys will always be treated as labels (consistent with DataFrame behavior). To access a value by position, use `ser.iloc[pos]`\n",
      "  date = b[2]\n"
     ]
    },
    {
     "name": "stdout",
     "output_type": "stream",
     "text": [
      "done!\n",
      "358, 0\n",
      "generating for 2018-05-23 Anastasia Pavlyuchenkova, Natalia Vikhlyantseva\n"
     ]
    },
    {
     "name": "stderr",
     "output_type": "stream",
     "text": [
      "/var/folders/pt/zlhpwgms1r38l09fb5f24y_80000gn/T/ipykernel_11826/3368081595.py:6: FutureWarning: Series.__getitem__ treating keys as positions is deprecated. In a future version, integer keys will always be treated as labels (consistent with DataFrame behavior). To access a value by position, use `ser.iloc[pos]`\n",
      "  n1 = b[0]\n",
      "/var/folders/pt/zlhpwgms1r38l09fb5f24y_80000gn/T/ipykernel_11826/3368081595.py:7: FutureWarning: Series.__getitem__ treating keys as positions is deprecated. In a future version, integer keys will always be treated as labels (consistent with DataFrame behavior). To access a value by position, use `ser.iloc[pos]`\n",
      "  n2 = b[1]\n",
      "/var/folders/pt/zlhpwgms1r38l09fb5f24y_80000gn/T/ipykernel_11826/3368081595.py:8: FutureWarning: Series.__getitem__ treating keys as positions is deprecated. In a future version, integer keys will always be treated as labels (consistent with DataFrame behavior). To access a value by position, use `ser.iloc[pos]`\n",
      "  date = b[2]\n"
     ]
    },
    {
     "name": "stdout",
     "output_type": "stream",
     "text": [
      "done!\n",
      "359, 0\n",
      "generating for 2018-05-24 Anastasia Pavlyuchenkova, Zarina Diyas\n"
     ]
    },
    {
     "name": "stderr",
     "output_type": "stream",
     "text": [
      "/var/folders/pt/zlhpwgms1r38l09fb5f24y_80000gn/T/ipykernel_11826/3368081595.py:6: FutureWarning: Series.__getitem__ treating keys as positions is deprecated. In a future version, integer keys will always be treated as labels (consistent with DataFrame behavior). To access a value by position, use `ser.iloc[pos]`\n",
      "  n1 = b[0]\n",
      "/var/folders/pt/zlhpwgms1r38l09fb5f24y_80000gn/T/ipykernel_11826/3368081595.py:7: FutureWarning: Series.__getitem__ treating keys as positions is deprecated. In a future version, integer keys will always be treated as labels (consistent with DataFrame behavior). To access a value by position, use `ser.iloc[pos]`\n",
      "  n2 = b[1]\n",
      "/var/folders/pt/zlhpwgms1r38l09fb5f24y_80000gn/T/ipykernel_11826/3368081595.py:8: FutureWarning: Series.__getitem__ treating keys as positions is deprecated. In a future version, integer keys will always be treated as labels (consistent with DataFrame behavior). To access a value by position, use `ser.iloc[pos]`\n",
      "  date = b[2]\n"
     ]
    },
    {
     "name": "stdout",
     "output_type": "stream",
     "text": [
      "done!\n",
      "360, 0\n",
      "generating for 2018-05-25 Dominika Cibulkova, Mihaela Buzarnescu\n"
     ]
    },
    {
     "name": "stderr",
     "output_type": "stream",
     "text": [
      "/var/folders/pt/zlhpwgms1r38l09fb5f24y_80000gn/T/ipykernel_11826/3368081595.py:6: FutureWarning: Series.__getitem__ treating keys as positions is deprecated. In a future version, integer keys will always be treated as labels (consistent with DataFrame behavior). To access a value by position, use `ser.iloc[pos]`\n",
      "  n1 = b[0]\n",
      "/var/folders/pt/zlhpwgms1r38l09fb5f24y_80000gn/T/ipykernel_11826/3368081595.py:7: FutureWarning: Series.__getitem__ treating keys as positions is deprecated. In a future version, integer keys will always be treated as labels (consistent with DataFrame behavior). To access a value by position, use `ser.iloc[pos]`\n",
      "  n2 = b[1]\n",
      "/var/folders/pt/zlhpwgms1r38l09fb5f24y_80000gn/T/ipykernel_11826/3368081595.py:8: FutureWarning: Series.__getitem__ treating keys as positions is deprecated. In a future version, integer keys will always be treated as labels (consistent with DataFrame behavior). To access a value by position, use `ser.iloc[pos]`\n",
      "  date = b[2]\n"
     ]
    },
    {
     "name": "stdout",
     "output_type": "stream",
     "text": [
      "done!\n",
      "361, 0\n",
      "generating for 2018-05-25 Anastasia Pavlyuchenkova, Ashleigh Barty\n"
     ]
    },
    {
     "name": "stderr",
     "output_type": "stream",
     "text": [
      "/var/folders/pt/zlhpwgms1r38l09fb5f24y_80000gn/T/ipykernel_11826/3368081595.py:6: FutureWarning: Series.__getitem__ treating keys as positions is deprecated. In a future version, integer keys will always be treated as labels (consistent with DataFrame behavior). To access a value by position, use `ser.iloc[pos]`\n",
      "  n1 = b[0]\n",
      "/var/folders/pt/zlhpwgms1r38l09fb5f24y_80000gn/T/ipykernel_11826/3368081595.py:7: FutureWarning: Series.__getitem__ treating keys as positions is deprecated. In a future version, integer keys will always be treated as labels (consistent with DataFrame behavior). To access a value by position, use `ser.iloc[pos]`\n",
      "  n2 = b[1]\n",
      "/var/folders/pt/zlhpwgms1r38l09fb5f24y_80000gn/T/ipykernel_11826/3368081595.py:8: FutureWarning: Series.__getitem__ treating keys as positions is deprecated. In a future version, integer keys will always be treated as labels (consistent with DataFrame behavior). To access a value by position, use `ser.iloc[pos]`\n",
      "  date = b[2]\n"
     ]
    },
    {
     "name": "stdout",
     "output_type": "stream",
     "text": [
      "done!\n",
      "362, 0\n",
      "generating for 2018-05-27 Yulia Putintseva, Johanna Konta\n"
     ]
    },
    {
     "name": "stderr",
     "output_type": "stream",
     "text": [
      "/var/folders/pt/zlhpwgms1r38l09fb5f24y_80000gn/T/ipykernel_11826/3368081595.py:6: FutureWarning: Series.__getitem__ treating keys as positions is deprecated. In a future version, integer keys will always be treated as labels (consistent with DataFrame behavior). To access a value by position, use `ser.iloc[pos]`\n",
      "  n1 = b[0]\n",
      "/var/folders/pt/zlhpwgms1r38l09fb5f24y_80000gn/T/ipykernel_11826/3368081595.py:7: FutureWarning: Series.__getitem__ treating keys as positions is deprecated. In a future version, integer keys will always be treated as labels (consistent with DataFrame behavior). To access a value by position, use `ser.iloc[pos]`\n",
      "  n2 = b[1]\n",
      "/var/folders/pt/zlhpwgms1r38l09fb5f24y_80000gn/T/ipykernel_11826/3368081595.py:8: FutureWarning: Series.__getitem__ treating keys as positions is deprecated. In a future version, integer keys will always be treated as labels (consistent with DataFrame behavior). To access a value by position, use `ser.iloc[pos]`\n",
      "  date = b[2]\n"
     ]
    },
    {
     "name": "stdout",
     "output_type": "stream",
     "text": [
      "done!\n",
      "363, 0\n",
      "generating for 2018-05-29 Garbine Muguruza, Svetlana Kuznetsova\n"
     ]
    },
    {
     "name": "stderr",
     "output_type": "stream",
     "text": [
      "/var/folders/pt/zlhpwgms1r38l09fb5f24y_80000gn/T/ipykernel_11826/3368081595.py:6: FutureWarning: Series.__getitem__ treating keys as positions is deprecated. In a future version, integer keys will always be treated as labels (consistent with DataFrame behavior). To access a value by position, use `ser.iloc[pos]`\n",
      "  n1 = b[0]\n",
      "/var/folders/pt/zlhpwgms1r38l09fb5f24y_80000gn/T/ipykernel_11826/3368081595.py:7: FutureWarning: Series.__getitem__ treating keys as positions is deprecated. In a future version, integer keys will always be treated as labels (consistent with DataFrame behavior). To access a value by position, use `ser.iloc[pos]`\n",
      "  n2 = b[1]\n",
      "/var/folders/pt/zlhpwgms1r38l09fb5f24y_80000gn/T/ipykernel_11826/3368081595.py:8: FutureWarning: Series.__getitem__ treating keys as positions is deprecated. In a future version, integer keys will always be treated as labels (consistent with DataFrame behavior). To access a value by position, use `ser.iloc[pos]`\n",
      "  date = b[2]\n"
     ]
    },
    {
     "name": "stdout",
     "output_type": "stream",
     "text": [
      "done!\n",
      "364, 0\n",
      "generating for 2018-05-29 Kiki Bertens, Aryna Sabalenka\n"
     ]
    },
    {
     "name": "stderr",
     "output_type": "stream",
     "text": [
      "/var/folders/pt/zlhpwgms1r38l09fb5f24y_80000gn/T/ipykernel_11826/3368081595.py:6: FutureWarning: Series.__getitem__ treating keys as positions is deprecated. In a future version, integer keys will always be treated as labels (consistent with DataFrame behavior). To access a value by position, use `ser.iloc[pos]`\n",
      "  n1 = b[0]\n",
      "/var/folders/pt/zlhpwgms1r38l09fb5f24y_80000gn/T/ipykernel_11826/3368081595.py:7: FutureWarning: Series.__getitem__ treating keys as positions is deprecated. In a future version, integer keys will always be treated as labels (consistent with DataFrame behavior). To access a value by position, use `ser.iloc[pos]`\n",
      "  n2 = b[1]\n",
      "/var/folders/pt/zlhpwgms1r38l09fb5f24y_80000gn/T/ipykernel_11826/3368081595.py:8: FutureWarning: Series.__getitem__ treating keys as positions is deprecated. In a future version, integer keys will always be treated as labels (consistent with DataFrame behavior). To access a value by position, use `ser.iloc[pos]`\n",
      "  date = b[2]\n"
     ]
    },
    {
     "name": "stdout",
     "output_type": "stream",
     "text": [
      "done!\n",
      "365, 0\n",
      "generating for 2018-05-29 Julia Goerges, Dominika Cibulkova\n"
     ]
    },
    {
     "name": "stderr",
     "output_type": "stream",
     "text": [
      "/var/folders/pt/zlhpwgms1r38l09fb5f24y_80000gn/T/ipykernel_11826/3368081595.py:6: FutureWarning: Series.__getitem__ treating keys as positions is deprecated. In a future version, integer keys will always be treated as labels (consistent with DataFrame behavior). To access a value by position, use `ser.iloc[pos]`\n",
      "  n1 = b[0]\n",
      "/var/folders/pt/zlhpwgms1r38l09fb5f24y_80000gn/T/ipykernel_11826/3368081595.py:7: FutureWarning: Series.__getitem__ treating keys as positions is deprecated. In a future version, integer keys will always be treated as labels (consistent with DataFrame behavior). To access a value by position, use `ser.iloc[pos]`\n",
      "  n2 = b[1]\n",
      "/var/folders/pt/zlhpwgms1r38l09fb5f24y_80000gn/T/ipykernel_11826/3368081595.py:8: FutureWarning: Series.__getitem__ treating keys as positions is deprecated. In a future version, integer keys will always be treated as labels (consistent with DataFrame behavior). To access a value by position, use `ser.iloc[pos]`\n",
      "  date = b[2]\n"
     ]
    },
    {
     "name": "stdout",
     "output_type": "stream",
     "text": [
      "done!\n",
      "366, 0\n",
      "generating for 2018-05-31 Kiki Bertens, Aliaksandra Sasnovich\n"
     ]
    },
    {
     "name": "stderr",
     "output_type": "stream",
     "text": [
      "/var/folders/pt/zlhpwgms1r38l09fb5f24y_80000gn/T/ipykernel_11826/3368081595.py:6: FutureWarning: Series.__getitem__ treating keys as positions is deprecated. In a future version, integer keys will always be treated as labels (consistent with DataFrame behavior). To access a value by position, use `ser.iloc[pos]`\n",
      "  n1 = b[0]\n",
      "/var/folders/pt/zlhpwgms1r38l09fb5f24y_80000gn/T/ipykernel_11826/3368081595.py:7: FutureWarning: Series.__getitem__ treating keys as positions is deprecated. In a future version, integer keys will always be treated as labels (consistent with DataFrame behavior). To access a value by position, use `ser.iloc[pos]`\n",
      "  n2 = b[1]\n",
      "/var/folders/pt/zlhpwgms1r38l09fb5f24y_80000gn/T/ipykernel_11826/3368081595.py:8: FutureWarning: Series.__getitem__ treating keys as positions is deprecated. In a future version, integer keys will always be treated as labels (consistent with DataFrame behavior). To access a value by position, use `ser.iloc[pos]`\n",
      "  date = b[2]\n"
     ]
    },
    {
     "name": "stdout",
     "output_type": "stream",
     "text": [
      "done!\n",
      "367, 0\n",
      "generating for 2018-05-31 Serena Williams, Ashleigh Barty\n"
     ]
    },
    {
     "name": "stderr",
     "output_type": "stream",
     "text": [
      "/var/folders/pt/zlhpwgms1r38l09fb5f24y_80000gn/T/ipykernel_11826/3368081595.py:6: FutureWarning: Series.__getitem__ treating keys as positions is deprecated. In a future version, integer keys will always be treated as labels (consistent with DataFrame behavior). To access a value by position, use `ser.iloc[pos]`\n",
      "  n1 = b[0]\n",
      "/var/folders/pt/zlhpwgms1r38l09fb5f24y_80000gn/T/ipykernel_11826/3368081595.py:7: FutureWarning: Series.__getitem__ treating keys as positions is deprecated. In a future version, integer keys will always be treated as labels (consistent with DataFrame behavior). To access a value by position, use `ser.iloc[pos]`\n",
      "  n2 = b[1]\n",
      "/var/folders/pt/zlhpwgms1r38l09fb5f24y_80000gn/T/ipykernel_11826/3368081595.py:8: FutureWarning: Series.__getitem__ treating keys as positions is deprecated. In a future version, integer keys will always be treated as labels (consistent with DataFrame behavior). To access a value by position, use `ser.iloc[pos]`\n",
      "  date = b[2]\n"
     ]
    },
    {
     "name": "stdout",
     "output_type": "stream",
     "text": [
      "done!\n",
      "368, 0\n",
      "generating for 2018-06-01 Daria Kasatkina, Maria Sakkari\n"
     ]
    },
    {
     "name": "stderr",
     "output_type": "stream",
     "text": [
      "/var/folders/pt/zlhpwgms1r38l09fb5f24y_80000gn/T/ipykernel_11826/3368081595.py:6: FutureWarning: Series.__getitem__ treating keys as positions is deprecated. In a future version, integer keys will always be treated as labels (consistent with DataFrame behavior). To access a value by position, use `ser.iloc[pos]`\n",
      "  n1 = b[0]\n",
      "/var/folders/pt/zlhpwgms1r38l09fb5f24y_80000gn/T/ipykernel_11826/3368081595.py:7: FutureWarning: Series.__getitem__ treating keys as positions is deprecated. In a future version, integer keys will always be treated as labels (consistent with DataFrame behavior). To access a value by position, use `ser.iloc[pos]`\n",
      "  n2 = b[1]\n",
      "/var/folders/pt/zlhpwgms1r38l09fb5f24y_80000gn/T/ipykernel_11826/3368081595.py:8: FutureWarning: Series.__getitem__ treating keys as positions is deprecated. In a future version, integer keys will always be treated as labels (consistent with DataFrame behavior). To access a value by position, use `ser.iloc[pos]`\n",
      "  date = b[2]\n"
     ]
    },
    {
     "name": "stdout",
     "output_type": "stream",
     "text": [
      "done!\n",
      "369, 0\n",
      "generating for 2018-06-01 Madison Keys, Naomi Osaka\n"
     ]
    },
    {
     "name": "stderr",
     "output_type": "stream",
     "text": [
      "/var/folders/pt/zlhpwgms1r38l09fb5f24y_80000gn/T/ipykernel_11826/3368081595.py:6: FutureWarning: Series.__getitem__ treating keys as positions is deprecated. In a future version, integer keys will always be treated as labels (consistent with DataFrame behavior). To access a value by position, use `ser.iloc[pos]`\n",
      "  n1 = b[0]\n",
      "/var/folders/pt/zlhpwgms1r38l09fb5f24y_80000gn/T/ipykernel_11826/3368081595.py:7: FutureWarning: Series.__getitem__ treating keys as positions is deprecated. In a future version, integer keys will always be treated as labels (consistent with DataFrame behavior). To access a value by position, use `ser.iloc[pos]`\n",
      "  n2 = b[1]\n",
      "/var/folders/pt/zlhpwgms1r38l09fb5f24y_80000gn/T/ipykernel_11826/3368081595.py:8: FutureWarning: Series.__getitem__ treating keys as positions is deprecated. In a future version, integer keys will always be treated as labels (consistent with DataFrame behavior). To access a value by position, use `ser.iloc[pos]`\n",
      "  date = b[2]\n"
     ]
    },
    {
     "name": "stdout",
     "output_type": "stream",
     "text": [
      "done!\n",
      "370, 0\n",
      "generating for 2018-06-02 Caroline Garcia, Irina Camelia Begu\n"
     ]
    },
    {
     "name": "stderr",
     "output_type": "stream",
     "text": [
      "/var/folders/pt/zlhpwgms1r38l09fb5f24y_80000gn/T/ipykernel_11826/3368081595.py:6: FutureWarning: Series.__getitem__ treating keys as positions is deprecated. In a future version, integer keys will always be treated as labels (consistent with DataFrame behavior). To access a value by position, use `ser.iloc[pos]`\n",
      "  n1 = b[0]\n",
      "/var/folders/pt/zlhpwgms1r38l09fb5f24y_80000gn/T/ipykernel_11826/3368081595.py:7: FutureWarning: Series.__getitem__ treating keys as positions is deprecated. In a future version, integer keys will always be treated as labels (consistent with DataFrame behavior). To access a value by position, use `ser.iloc[pos]`\n",
      "  n2 = b[1]\n",
      "/var/folders/pt/zlhpwgms1r38l09fb5f24y_80000gn/T/ipykernel_11826/3368081595.py:8: FutureWarning: Series.__getitem__ treating keys as positions is deprecated. In a future version, integer keys will always be treated as labels (consistent with DataFrame behavior). To access a value by position, use `ser.iloc[pos]`\n",
      "  date = b[2]\n"
     ]
    },
    {
     "name": "stdout",
     "output_type": "stream",
     "text": [
      "done!\n",
      "371, 0\n",
      "generating for 2018-06-02 Serena Williams, Julia Goerges\n"
     ]
    },
    {
     "name": "stderr",
     "output_type": "stream",
     "text": [
      "/var/folders/pt/zlhpwgms1r38l09fb5f24y_80000gn/T/ipykernel_11826/3368081595.py:6: FutureWarning: Series.__getitem__ treating keys as positions is deprecated. In a future version, integer keys will always be treated as labels (consistent with DataFrame behavior). To access a value by position, use `ser.iloc[pos]`\n",
      "  n1 = b[0]\n",
      "/var/folders/pt/zlhpwgms1r38l09fb5f24y_80000gn/T/ipykernel_11826/3368081595.py:7: FutureWarning: Series.__getitem__ treating keys as positions is deprecated. In a future version, integer keys will always be treated as labels (consistent with DataFrame behavior). To access a value by position, use `ser.iloc[pos]`\n",
      "  n2 = b[1]\n",
      "/var/folders/pt/zlhpwgms1r38l09fb5f24y_80000gn/T/ipykernel_11826/3368081595.py:8: FutureWarning: Series.__getitem__ treating keys as positions is deprecated. In a future version, integer keys will always be treated as labels (consistent with DataFrame behavior). To access a value by position, use `ser.iloc[pos]`\n",
      "  date = b[2]\n"
     ]
    },
    {
     "name": "stdout",
     "output_type": "stream",
     "text": [
      "done!\n",
      "372, 0\n",
      "generating for 2018-06-03 Yulia Putintseva, Barbora Strycova\n"
     ]
    },
    {
     "name": "stderr",
     "output_type": "stream",
     "text": [
      "/var/folders/pt/zlhpwgms1r38l09fb5f24y_80000gn/T/ipykernel_11826/3368081595.py:6: FutureWarning: Series.__getitem__ treating keys as positions is deprecated. In a future version, integer keys will always be treated as labels (consistent with DataFrame behavior). To access a value by position, use `ser.iloc[pos]`\n",
      "  n1 = b[0]\n",
      "/var/folders/pt/zlhpwgms1r38l09fb5f24y_80000gn/T/ipykernel_11826/3368081595.py:7: FutureWarning: Series.__getitem__ treating keys as positions is deprecated. In a future version, integer keys will always be treated as labels (consistent with DataFrame behavior). To access a value by position, use `ser.iloc[pos]`\n",
      "  n2 = b[1]\n",
      "/var/folders/pt/zlhpwgms1r38l09fb5f24y_80000gn/T/ipykernel_11826/3368081595.py:8: FutureWarning: Series.__getitem__ treating keys as positions is deprecated. In a future version, integer keys will always be treated as labels (consistent with DataFrame behavior). To access a value by position, use `ser.iloc[pos]`\n",
      "  date = b[2]\n"
     ]
    },
    {
     "name": "stdout",
     "output_type": "stream",
     "text": [
      "done!\n",
      "373, 0\n",
      "generating for 2018-06-03 Sloane Stephens, Anett Kontaveit\n"
     ]
    },
    {
     "name": "stderr",
     "output_type": "stream",
     "text": [
      "/var/folders/pt/zlhpwgms1r38l09fb5f24y_80000gn/T/ipykernel_11826/3368081595.py:6: FutureWarning: Series.__getitem__ treating keys as positions is deprecated. In a future version, integer keys will always be treated as labels (consistent with DataFrame behavior). To access a value by position, use `ser.iloc[pos]`\n",
      "  n1 = b[0]\n",
      "/var/folders/pt/zlhpwgms1r38l09fb5f24y_80000gn/T/ipykernel_11826/3368081595.py:7: FutureWarning: Series.__getitem__ treating keys as positions is deprecated. In a future version, integer keys will always be treated as labels (consistent with DataFrame behavior). To access a value by position, use `ser.iloc[pos]`\n",
      "  n2 = b[1]\n",
      "/var/folders/pt/zlhpwgms1r38l09fb5f24y_80000gn/T/ipykernel_11826/3368081595.py:8: FutureWarning: Series.__getitem__ treating keys as positions is deprecated. In a future version, integer keys will always be treated as labels (consistent with DataFrame behavior). To access a value by position, use `ser.iloc[pos]`\n",
      "  date = b[2]\n"
     ]
    },
    {
     "name": "stdout",
     "output_type": "stream",
     "text": [
      "done!\n",
      "374, 0\n",
      "generating for 2018-06-04 Simona Halep, Elise Mertens\n"
     ]
    },
    {
     "name": "stderr",
     "output_type": "stream",
     "text": [
      "/var/folders/pt/zlhpwgms1r38l09fb5f24y_80000gn/T/ipykernel_11826/3368081595.py:6: FutureWarning: Series.__getitem__ treating keys as positions is deprecated. In a future version, integer keys will always be treated as labels (consistent with DataFrame behavior). To access a value by position, use `ser.iloc[pos]`\n",
      "  n1 = b[0]\n",
      "/var/folders/pt/zlhpwgms1r38l09fb5f24y_80000gn/T/ipykernel_11826/3368081595.py:7: FutureWarning: Series.__getitem__ treating keys as positions is deprecated. In a future version, integer keys will always be treated as labels (consistent with DataFrame behavior). To access a value by position, use `ser.iloc[pos]`\n",
      "  n2 = b[1]\n",
      "/var/folders/pt/zlhpwgms1r38l09fb5f24y_80000gn/T/ipykernel_11826/3368081595.py:8: FutureWarning: Series.__getitem__ treating keys as positions is deprecated. In a future version, integer keys will always be treated as labels (consistent with DataFrame behavior). To access a value by position, use `ser.iloc[pos]`\n",
      "  date = b[2]\n"
     ]
    },
    {
     "name": "stdout",
     "output_type": "stream",
     "text": [
      "done!\n",
      "375, 0\n",
      "generating for 2018-06-04 Daria Kasatkina, Caroline Wozniacki\n"
     ]
    },
    {
     "name": "stderr",
     "output_type": "stream",
     "text": [
      "/var/folders/pt/zlhpwgms1r38l09fb5f24y_80000gn/T/ipykernel_11826/3368081595.py:6: FutureWarning: Series.__getitem__ treating keys as positions is deprecated. In a future version, integer keys will always be treated as labels (consistent with DataFrame behavior). To access a value by position, use `ser.iloc[pos]`\n",
      "  n1 = b[0]\n",
      "/var/folders/pt/zlhpwgms1r38l09fb5f24y_80000gn/T/ipykernel_11826/3368081595.py:7: FutureWarning: Series.__getitem__ treating keys as positions is deprecated. In a future version, integer keys will always be treated as labels (consistent with DataFrame behavior). To access a value by position, use `ser.iloc[pos]`\n",
      "  n2 = b[1]\n",
      "/var/folders/pt/zlhpwgms1r38l09fb5f24y_80000gn/T/ipykernel_11826/3368081595.py:8: FutureWarning: Series.__getitem__ treating keys as positions is deprecated. In a future version, integer keys will always be treated as labels (consistent with DataFrame behavior). To access a value by position, use `ser.iloc[pos]`\n",
      "  date = b[2]\n"
     ]
    },
    {
     "name": "stdout",
     "output_type": "stream",
     "text": [
      "done!\n",
      "376, 0\n",
      "generating for 2018-06-05 Sloane Stephens, Daria Kasatkina\n"
     ]
    },
    {
     "name": "stderr",
     "output_type": "stream",
     "text": [
      "/var/folders/pt/zlhpwgms1r38l09fb5f24y_80000gn/T/ipykernel_11826/3368081595.py:6: FutureWarning: Series.__getitem__ treating keys as positions is deprecated. In a future version, integer keys will always be treated as labels (consistent with DataFrame behavior). To access a value by position, use `ser.iloc[pos]`\n",
      "  n1 = b[0]\n",
      "/var/folders/pt/zlhpwgms1r38l09fb5f24y_80000gn/T/ipykernel_11826/3368081595.py:7: FutureWarning: Series.__getitem__ treating keys as positions is deprecated. In a future version, integer keys will always be treated as labels (consistent with DataFrame behavior). To access a value by position, use `ser.iloc[pos]`\n",
      "  n2 = b[1]\n",
      "/var/folders/pt/zlhpwgms1r38l09fb5f24y_80000gn/T/ipykernel_11826/3368081595.py:8: FutureWarning: Series.__getitem__ treating keys as positions is deprecated. In a future version, integer keys will always be treated as labels (consistent with DataFrame behavior). To access a value by position, use `ser.iloc[pos]`\n",
      "  date = b[2]\n"
     ]
    },
    {
     "name": "stdout",
     "output_type": "stream",
     "text": [
      "done!\n",
      "377, 0\n",
      "generating for 2018-06-06 Simona Halep, Angelique Kerber\n"
     ]
    },
    {
     "name": "stderr",
     "output_type": "stream",
     "text": [
      "/var/folders/pt/zlhpwgms1r38l09fb5f24y_80000gn/T/ipykernel_11826/3368081595.py:6: FutureWarning: Series.__getitem__ treating keys as positions is deprecated. In a future version, integer keys will always be treated as labels (consistent with DataFrame behavior). To access a value by position, use `ser.iloc[pos]`\n",
      "  n1 = b[0]\n",
      "/var/folders/pt/zlhpwgms1r38l09fb5f24y_80000gn/T/ipykernel_11826/3368081595.py:7: FutureWarning: Series.__getitem__ treating keys as positions is deprecated. In a future version, integer keys will always be treated as labels (consistent with DataFrame behavior). To access a value by position, use `ser.iloc[pos]`\n",
      "  n2 = b[1]\n",
      "/var/folders/pt/zlhpwgms1r38l09fb5f24y_80000gn/T/ipykernel_11826/3368081595.py:8: FutureWarning: Series.__getitem__ treating keys as positions is deprecated. In a future version, integer keys will always be treated as labels (consistent with DataFrame behavior). To access a value by position, use `ser.iloc[pos]`\n",
      "  date = b[2]\n"
     ]
    },
    {
     "name": "stdout",
     "output_type": "stream",
     "text": [
      "done!\n",
      "378, 0\n",
      "generating for 2018-06-06 Garbine Muguruza, Maria Sharapova\n"
     ]
    },
    {
     "name": "stderr",
     "output_type": "stream",
     "text": [
      "/var/folders/pt/zlhpwgms1r38l09fb5f24y_80000gn/T/ipykernel_11826/3368081595.py:6: FutureWarning: Series.__getitem__ treating keys as positions is deprecated. In a future version, integer keys will always be treated as labels (consistent with DataFrame behavior). To access a value by position, use `ser.iloc[pos]`\n",
      "  n1 = b[0]\n",
      "/var/folders/pt/zlhpwgms1r38l09fb5f24y_80000gn/T/ipykernel_11826/3368081595.py:7: FutureWarning: Series.__getitem__ treating keys as positions is deprecated. In a future version, integer keys will always be treated as labels (consistent with DataFrame behavior). To access a value by position, use `ser.iloc[pos]`\n",
      "  n2 = b[1]\n",
      "/var/folders/pt/zlhpwgms1r38l09fb5f24y_80000gn/T/ipykernel_11826/3368081595.py:8: FutureWarning: Series.__getitem__ treating keys as positions is deprecated. In a future version, integer keys will always be treated as labels (consistent with DataFrame behavior). To access a value by position, use `ser.iloc[pos]`\n",
      "  date = b[2]\n"
     ]
    },
    {
     "name": "stdout",
     "output_type": "stream",
     "text": [
      "done!\n",
      "379, 0\n",
      "generating for 2018-06-07 Simona Halep, Garbine Muguruza\n"
     ]
    },
    {
     "name": "stderr",
     "output_type": "stream",
     "text": [
      "/var/folders/pt/zlhpwgms1r38l09fb5f24y_80000gn/T/ipykernel_11826/3368081595.py:6: FutureWarning: Series.__getitem__ treating keys as positions is deprecated. In a future version, integer keys will always be treated as labels (consistent with DataFrame behavior). To access a value by position, use `ser.iloc[pos]`\n",
      "  n1 = b[0]\n",
      "/var/folders/pt/zlhpwgms1r38l09fb5f24y_80000gn/T/ipykernel_11826/3368081595.py:7: FutureWarning: Series.__getitem__ treating keys as positions is deprecated. In a future version, integer keys will always be treated as labels (consistent with DataFrame behavior). To access a value by position, use `ser.iloc[pos]`\n",
      "  n2 = b[1]\n",
      "/var/folders/pt/zlhpwgms1r38l09fb5f24y_80000gn/T/ipykernel_11826/3368081595.py:8: FutureWarning: Series.__getitem__ treating keys as positions is deprecated. In a future version, integer keys will always be treated as labels (consistent with DataFrame behavior). To access a value by position, use `ser.iloc[pos]`\n",
      "  date = b[2]\n"
     ]
    },
    {
     "name": "stdout",
     "output_type": "stream",
     "text": [
      "done!\n",
      "380, 0\n",
      "generating for 2018-06-07 Sloane Stephens, Madison Keys\n"
     ]
    },
    {
     "name": "stderr",
     "output_type": "stream",
     "text": [
      "/var/folders/pt/zlhpwgms1r38l09fb5f24y_80000gn/T/ipykernel_11826/3368081595.py:6: FutureWarning: Series.__getitem__ treating keys as positions is deprecated. In a future version, integer keys will always be treated as labels (consistent with DataFrame behavior). To access a value by position, use `ser.iloc[pos]`\n",
      "  n1 = b[0]\n",
      "/var/folders/pt/zlhpwgms1r38l09fb5f24y_80000gn/T/ipykernel_11826/3368081595.py:7: FutureWarning: Series.__getitem__ treating keys as positions is deprecated. In a future version, integer keys will always be treated as labels (consistent with DataFrame behavior). To access a value by position, use `ser.iloc[pos]`\n",
      "  n2 = b[1]\n",
      "/var/folders/pt/zlhpwgms1r38l09fb5f24y_80000gn/T/ipykernel_11826/3368081595.py:8: FutureWarning: Series.__getitem__ treating keys as positions is deprecated. In a future version, integer keys will always be treated as labels (consistent with DataFrame behavior). To access a value by position, use `ser.iloc[pos]`\n",
      "  date = b[2]\n"
     ]
    },
    {
     "name": "stdout",
     "output_type": "stream",
     "text": [
      "done!\n",
      "381, 0\n",
      "generating for 2018-06-11 Coco Vandeweghe, Aliaksandra Sasnovich\n"
     ]
    },
    {
     "name": "stderr",
     "output_type": "stream",
     "text": [
      "/var/folders/pt/zlhpwgms1r38l09fb5f24y_80000gn/T/ipykernel_11826/3368081595.py:6: FutureWarning: Series.__getitem__ treating keys as positions is deprecated. In a future version, integer keys will always be treated as labels (consistent with DataFrame behavior). To access a value by position, use `ser.iloc[pos]`\n",
      "  n1 = b[0]\n",
      "/var/folders/pt/zlhpwgms1r38l09fb5f24y_80000gn/T/ipykernel_11826/3368081595.py:7: FutureWarning: Series.__getitem__ treating keys as positions is deprecated. In a future version, integer keys will always be treated as labels (consistent with DataFrame behavior). To access a value by position, use `ser.iloc[pos]`\n",
      "  n2 = b[1]\n",
      "/var/folders/pt/zlhpwgms1r38l09fb5f24y_80000gn/T/ipykernel_11826/3368081595.py:8: FutureWarning: Series.__getitem__ treating keys as positions is deprecated. In a future version, integer keys will always be treated as labels (consistent with DataFrame behavior). To access a value by position, use `ser.iloc[pos]`\n",
      "  date = b[2]\n"
     ]
    },
    {
     "name": "stdout",
     "output_type": "stream",
     "text": [
      "done!\n",
      "382, 0\n",
      "generating for 2018-06-12 Alison Riske Amritraj, Tatjana Maria\n"
     ]
    },
    {
     "name": "stderr",
     "output_type": "stream",
     "text": [
      "/var/folders/pt/zlhpwgms1r38l09fb5f24y_80000gn/T/ipykernel_11826/3368081595.py:6: FutureWarning: Series.__getitem__ treating keys as positions is deprecated. In a future version, integer keys will always be treated as labels (consistent with DataFrame behavior). To access a value by position, use `ser.iloc[pos]`\n",
      "  n1 = b[0]\n",
      "/var/folders/pt/zlhpwgms1r38l09fb5f24y_80000gn/T/ipykernel_11826/3368081595.py:7: FutureWarning: Series.__getitem__ treating keys as positions is deprecated. In a future version, integer keys will always be treated as labels (consistent with DataFrame behavior). To access a value by position, use `ser.iloc[pos]`\n",
      "  n2 = b[1]\n",
      "/var/folders/pt/zlhpwgms1r38l09fb5f24y_80000gn/T/ipykernel_11826/3368081595.py:8: FutureWarning: Series.__getitem__ treating keys as positions is deprecated. In a future version, integer keys will always be treated as labels (consistent with DataFrame behavior). To access a value by position, use `ser.iloc[pos]`\n",
      "  date = b[2]\n"
     ]
    },
    {
     "name": "stdout",
     "output_type": "stream",
     "text": [
      "done!\n",
      "383, 0\n",
      "generating for 2018-06-15 Coco Vandeweghe, Alison Riske Amritraj\n"
     ]
    },
    {
     "name": "stderr",
     "output_type": "stream",
     "text": [
      "/var/folders/pt/zlhpwgms1r38l09fb5f24y_80000gn/T/ipykernel_11826/3368081595.py:6: FutureWarning: Series.__getitem__ treating keys as positions is deprecated. In a future version, integer keys will always be treated as labels (consistent with DataFrame behavior). To access a value by position, use `ser.iloc[pos]`\n",
      "  n1 = b[0]\n",
      "/var/folders/pt/zlhpwgms1r38l09fb5f24y_80000gn/T/ipykernel_11826/3368081595.py:7: FutureWarning: Series.__getitem__ treating keys as positions is deprecated. In a future version, integer keys will always be treated as labels (consistent with DataFrame behavior). To access a value by position, use `ser.iloc[pos]`\n",
      "  n2 = b[1]\n",
      "/var/folders/pt/zlhpwgms1r38l09fb5f24y_80000gn/T/ipykernel_11826/3368081595.py:8: FutureWarning: Series.__getitem__ treating keys as positions is deprecated. In a future version, integer keys will always be treated as labels (consistent with DataFrame behavior). To access a value by position, use `ser.iloc[pos]`\n",
      "  date = b[2]\n"
     ]
    },
    {
     "name": "stdout",
     "output_type": "stream",
     "text": [
      "done!\n",
      "384, 0\n",
      "generating for 2018-06-16 Ashleigh Barty, Naomi Osaka\n"
     ]
    },
    {
     "name": "stderr",
     "output_type": "stream",
     "text": [
      "/var/folders/pt/zlhpwgms1r38l09fb5f24y_80000gn/T/ipykernel_11826/3368081595.py:6: FutureWarning: Series.__getitem__ treating keys as positions is deprecated. In a future version, integer keys will always be treated as labels (consistent with DataFrame behavior). To access a value by position, use `ser.iloc[pos]`\n",
      "  n1 = b[0]\n",
      "/var/folders/pt/zlhpwgms1r38l09fb5f24y_80000gn/T/ipykernel_11826/3368081595.py:7: FutureWarning: Series.__getitem__ treating keys as positions is deprecated. In a future version, integer keys will always be treated as labels (consistent with DataFrame behavior). To access a value by position, use `ser.iloc[pos]`\n",
      "  n2 = b[1]\n",
      "/var/folders/pt/zlhpwgms1r38l09fb5f24y_80000gn/T/ipykernel_11826/3368081595.py:8: FutureWarning: Series.__getitem__ treating keys as positions is deprecated. In a future version, integer keys will always be treated as labels (consistent with DataFrame behavior). To access a value by position, use `ser.iloc[pos]`\n",
      "  date = b[2]\n"
     ]
    },
    {
     "name": "stdout",
     "output_type": "stream",
     "text": [
      "done!\n",
      "385, 0\n",
      "generating for 2018-06-17 Ashleigh Barty, Johanna Konta\n"
     ]
    },
    {
     "name": "stderr",
     "output_type": "stream",
     "text": [
      "/var/folders/pt/zlhpwgms1r38l09fb5f24y_80000gn/T/ipykernel_11826/3368081595.py:6: FutureWarning: Series.__getitem__ treating keys as positions is deprecated. In a future version, integer keys will always be treated as labels (consistent with DataFrame behavior). To access a value by position, use `ser.iloc[pos]`\n",
      "  n1 = b[0]\n",
      "/var/folders/pt/zlhpwgms1r38l09fb5f24y_80000gn/T/ipykernel_11826/3368081595.py:7: FutureWarning: Series.__getitem__ treating keys as positions is deprecated. In a future version, integer keys will always be treated as labels (consistent with DataFrame behavior). To access a value by position, use `ser.iloc[pos]`\n",
      "  n2 = b[1]\n",
      "/var/folders/pt/zlhpwgms1r38l09fb5f24y_80000gn/T/ipykernel_11826/3368081595.py:8: FutureWarning: Series.__getitem__ treating keys as positions is deprecated. In a future version, integer keys will always be treated as labels (consistent with DataFrame behavior). To access a value by position, use `ser.iloc[pos]`\n",
      "  date = b[2]\n"
     ]
    },
    {
     "name": "stdout",
     "output_type": "stream",
     "text": [
      "done!\n",
      "386, 0\n",
      "generating for 2018-06-18 Magdalena Rybarikova, Karolina Pliskova\n"
     ]
    },
    {
     "name": "stderr",
     "output_type": "stream",
     "text": [
      "/var/folders/pt/zlhpwgms1r38l09fb5f24y_80000gn/T/ipykernel_11826/3368081595.py:6: FutureWarning: Series.__getitem__ treating keys as positions is deprecated. In a future version, integer keys will always be treated as labels (consistent with DataFrame behavior). To access a value by position, use `ser.iloc[pos]`\n",
      "  n1 = b[0]\n",
      "/var/folders/pt/zlhpwgms1r38l09fb5f24y_80000gn/T/ipykernel_11826/3368081595.py:7: FutureWarning: Series.__getitem__ treating keys as positions is deprecated. In a future version, integer keys will always be treated as labels (consistent with DataFrame behavior). To access a value by position, use `ser.iloc[pos]`\n",
      "  n2 = b[1]\n",
      "/var/folders/pt/zlhpwgms1r38l09fb5f24y_80000gn/T/ipykernel_11826/3368081595.py:8: FutureWarning: Series.__getitem__ treating keys as positions is deprecated. In a future version, integer keys will always be treated as labels (consistent with DataFrame behavior). To access a value by position, use `ser.iloc[pos]`\n",
      "  date = b[2]\n"
     ]
    },
    {
     "name": "stdout",
     "output_type": "stream",
     "text": [
      "done!\n",
      "387, 0\n",
      "generating for 2018-06-19 Julia Goerges, Maria Sakkari\n"
     ]
    },
    {
     "name": "stderr",
     "output_type": "stream",
     "text": [
      "/var/folders/pt/zlhpwgms1r38l09fb5f24y_80000gn/T/ipykernel_11826/3368081595.py:6: FutureWarning: Series.__getitem__ treating keys as positions is deprecated. In a future version, integer keys will always be treated as labels (consistent with DataFrame behavior). To access a value by position, use `ser.iloc[pos]`\n",
      "  n1 = b[0]\n",
      "/var/folders/pt/zlhpwgms1r38l09fb5f24y_80000gn/T/ipykernel_11826/3368081595.py:7: FutureWarning: Series.__getitem__ treating keys as positions is deprecated. In a future version, integer keys will always be treated as labels (consistent with DataFrame behavior). To access a value by position, use `ser.iloc[pos]`\n",
      "  n2 = b[1]\n",
      "/var/folders/pt/zlhpwgms1r38l09fb5f24y_80000gn/T/ipykernel_11826/3368081595.py:8: FutureWarning: Series.__getitem__ treating keys as positions is deprecated. In a future version, integer keys will always be treated as labels (consistent with DataFrame behavior). To access a value by position, use `ser.iloc[pos]`\n",
      "  date = b[2]\n"
     ]
    },
    {
     "name": "stdout",
     "output_type": "stream",
     "text": [
      "done!\n",
      "388, 0\n",
      "generating for 2018-06-19 Daria Kasatkina, Karolina Pliskova\n"
     ]
    },
    {
     "name": "stderr",
     "output_type": "stream",
     "text": [
      "/var/folders/pt/zlhpwgms1r38l09fb5f24y_80000gn/T/ipykernel_11826/3368081595.py:6: FutureWarning: Series.__getitem__ treating keys as positions is deprecated. In a future version, integer keys will always be treated as labels (consistent with DataFrame behavior). To access a value by position, use `ser.iloc[pos]`\n",
      "  n1 = b[0]\n",
      "/var/folders/pt/zlhpwgms1r38l09fb5f24y_80000gn/T/ipykernel_11826/3368081595.py:7: FutureWarning: Series.__getitem__ treating keys as positions is deprecated. In a future version, integer keys will always be treated as labels (consistent with DataFrame behavior). To access a value by position, use `ser.iloc[pos]`\n",
      "  n2 = b[1]\n",
      "/var/folders/pt/zlhpwgms1r38l09fb5f24y_80000gn/T/ipykernel_11826/3368081595.py:8: FutureWarning: Series.__getitem__ treating keys as positions is deprecated. In a future version, integer keys will always be treated as labels (consistent with DataFrame behavior). To access a value by position, use `ser.iloc[pos]`\n",
      "  date = b[2]\n"
     ]
    },
    {
     "name": "stdout",
     "output_type": "stream",
     "text": [
      "done!\n",
      "389, 0\n",
      "generating for 2018-06-19 Garbine Muguruza, Anastasia Pavlyuchenkova\n"
     ]
    },
    {
     "name": "stderr",
     "output_type": "stream",
     "text": [
      "/var/folders/pt/zlhpwgms1r38l09fb5f24y_80000gn/T/ipykernel_11826/3368081595.py:6: FutureWarning: Series.__getitem__ treating keys as positions is deprecated. In a future version, integer keys will always be treated as labels (consistent with DataFrame behavior). To access a value by position, use `ser.iloc[pos]`\n",
      "  n1 = b[0]\n",
      "/var/folders/pt/zlhpwgms1r38l09fb5f24y_80000gn/T/ipykernel_11826/3368081595.py:7: FutureWarning: Series.__getitem__ treating keys as positions is deprecated. In a future version, integer keys will always be treated as labels (consistent with DataFrame behavior). To access a value by position, use `ser.iloc[pos]`\n",
      "  n2 = b[1]\n",
      "/var/folders/pt/zlhpwgms1r38l09fb5f24y_80000gn/T/ipykernel_11826/3368081595.py:8: FutureWarning: Series.__getitem__ treating keys as positions is deprecated. In a future version, integer keys will always be treated as labels (consistent with DataFrame behavior). To access a value by position, use `ser.iloc[pos]`\n",
      "  date = b[2]\n"
     ]
    },
    {
     "name": "stdout",
     "output_type": "stream",
     "text": [
      "done!\n",
      "390, 0\n",
      "generating for 2018-06-21 Julia Goerges, Ashleigh Barty\n"
     ]
    },
    {
     "name": "stderr",
     "output_type": "stream",
     "text": [
      "/var/folders/pt/zlhpwgms1r38l09fb5f24y_80000gn/T/ipykernel_11826/3368081595.py:6: FutureWarning: Series.__getitem__ treating keys as positions is deprecated. In a future version, integer keys will always be treated as labels (consistent with DataFrame behavior). To access a value by position, use `ser.iloc[pos]`\n",
      "  n1 = b[0]\n",
      "/var/folders/pt/zlhpwgms1r38l09fb5f24y_80000gn/T/ipykernel_11826/3368081595.py:7: FutureWarning: Series.__getitem__ treating keys as positions is deprecated. In a future version, integer keys will always be treated as labels (consistent with DataFrame behavior). To access a value by position, use `ser.iloc[pos]`\n",
      "  n2 = b[1]\n",
      "/var/folders/pt/zlhpwgms1r38l09fb5f24y_80000gn/T/ipykernel_11826/3368081595.py:8: FutureWarning: Series.__getitem__ treating keys as positions is deprecated. In a future version, integer keys will always be treated as labels (consistent with DataFrame behavior). To access a value by position, use `ser.iloc[pos]`\n",
      "  date = b[2]\n"
     ]
    },
    {
     "name": "stdout",
     "output_type": "stream",
     "text": [
      "done!\n",
      "391, 0\n",
      "generating for 2018-06-18 Tatjana Maria, Anett Kontaveit\n"
     ]
    },
    {
     "name": "stderr",
     "output_type": "stream",
     "text": [
      "/var/folders/pt/zlhpwgms1r38l09fb5f24y_80000gn/T/ipykernel_11826/3368081595.py:6: FutureWarning: Series.__getitem__ treating keys as positions is deprecated. In a future version, integer keys will always be treated as labels (consistent with DataFrame behavior). To access a value by position, use `ser.iloc[pos]`\n",
      "  n1 = b[0]\n",
      "/var/folders/pt/zlhpwgms1r38l09fb5f24y_80000gn/T/ipykernel_11826/3368081595.py:7: FutureWarning: Series.__getitem__ treating keys as positions is deprecated. In a future version, integer keys will always be treated as labels (consistent with DataFrame behavior). To access a value by position, use `ser.iloc[pos]`\n",
      "  n2 = b[1]\n",
      "/var/folders/pt/zlhpwgms1r38l09fb5f24y_80000gn/T/ipykernel_11826/3368081595.py:8: FutureWarning: Series.__getitem__ treating keys as positions is deprecated. In a future version, integer keys will always be treated as labels (consistent with DataFrame behavior). To access a value by position, use `ser.iloc[pos]`\n",
      "  date = b[2]\n"
     ]
    },
    {
     "name": "stdout",
     "output_type": "stream",
     "text": [
      "done!\n",
      "392, 0\n",
      "generating for 2018-06-18 Lara Arruabarrena, Carla Suarez Navarro\n"
     ]
    },
    {
     "name": "stderr",
     "output_type": "stream",
     "text": [
      "/var/folders/pt/zlhpwgms1r38l09fb5f24y_80000gn/T/ipykernel_11826/3368081595.py:6: FutureWarning: Series.__getitem__ treating keys as positions is deprecated. In a future version, integer keys will always be treated as labels (consistent with DataFrame behavior). To access a value by position, use `ser.iloc[pos]`\n",
      "  n1 = b[0]\n",
      "/var/folders/pt/zlhpwgms1r38l09fb5f24y_80000gn/T/ipykernel_11826/3368081595.py:7: FutureWarning: Series.__getitem__ treating keys as positions is deprecated. In a future version, integer keys will always be treated as labels (consistent with DataFrame behavior). To access a value by position, use `ser.iloc[pos]`\n",
      "  n2 = b[1]\n",
      "/var/folders/pt/zlhpwgms1r38l09fb5f24y_80000gn/T/ipykernel_11826/3368081595.py:8: FutureWarning: Series.__getitem__ treating keys as positions is deprecated. In a future version, integer keys will always be treated as labels (consistent with DataFrame behavior). To access a value by position, use `ser.iloc[pos]`\n",
      "  date = b[2]\n"
     ]
    },
    {
     "name": "stdout",
     "output_type": "stream",
     "text": [
      "done!\n",
      "393, 0\n",
      "generating for 2018-06-19 Anastasija Sevastova, Svetlana Kuznetsova\n"
     ]
    },
    {
     "name": "stderr",
     "output_type": "stream",
     "text": [
      "/var/folders/pt/zlhpwgms1r38l09fb5f24y_80000gn/T/ipykernel_11826/3368081595.py:6: FutureWarning: Series.__getitem__ treating keys as positions is deprecated. In a future version, integer keys will always be treated as labels (consistent with DataFrame behavior). To access a value by position, use `ser.iloc[pos]`\n",
      "  n1 = b[0]\n",
      "/var/folders/pt/zlhpwgms1r38l09fb5f24y_80000gn/T/ipykernel_11826/3368081595.py:7: FutureWarning: Series.__getitem__ treating keys as positions is deprecated. In a future version, integer keys will always be treated as labels (consistent with DataFrame behavior). To access a value by position, use `ser.iloc[pos]`\n",
      "  n2 = b[1]\n",
      "/var/folders/pt/zlhpwgms1r38l09fb5f24y_80000gn/T/ipykernel_11826/3368081595.py:8: FutureWarning: Series.__getitem__ treating keys as positions is deprecated. In a future version, integer keys will always be treated as labels (consistent with DataFrame behavior). To access a value by position, use `ser.iloc[pos]`\n",
      "  date = b[2]\n"
     ]
    },
    {
     "name": "stdout",
     "output_type": "stream",
     "text": [
      "done!\n",
      "394, 0\n",
      "generating for 2018-06-20 Caroline Garcia, Johanna Larsson\n"
     ]
    },
    {
     "name": "stderr",
     "output_type": "stream",
     "text": [
      "/var/folders/pt/zlhpwgms1r38l09fb5f24y_80000gn/T/ipykernel_11826/3368081595.py:6: FutureWarning: Series.__getitem__ treating keys as positions is deprecated. In a future version, integer keys will always be treated as labels (consistent with DataFrame behavior). To access a value by position, use `ser.iloc[pos]`\n",
      "  n1 = b[0]\n",
      "/var/folders/pt/zlhpwgms1r38l09fb5f24y_80000gn/T/ipykernel_11826/3368081595.py:7: FutureWarning: Series.__getitem__ treating keys as positions is deprecated. In a future version, integer keys will always be treated as labels (consistent with DataFrame behavior). To access a value by position, use `ser.iloc[pos]`\n",
      "  n2 = b[1]\n",
      "/var/folders/pt/zlhpwgms1r38l09fb5f24y_80000gn/T/ipykernel_11826/3368081595.py:8: FutureWarning: Series.__getitem__ treating keys as positions is deprecated. In a future version, integer keys will always be treated as labels (consistent with DataFrame behavior). To access a value by position, use `ser.iloc[pos]`\n",
      "  date = b[2]\n"
     ]
    },
    {
     "name": "stdout",
     "output_type": "stream",
     "text": [
      "done!\n",
      "395, 0\n",
      "generating for 2018-06-24 Anastasia Pavlyuchenkova, Sorana Cirstea\n"
     ]
    },
    {
     "name": "stderr",
     "output_type": "stream",
     "text": [
      "/var/folders/pt/zlhpwgms1r38l09fb5f24y_80000gn/T/ipykernel_11826/3368081595.py:6: FutureWarning: Series.__getitem__ treating keys as positions is deprecated. In a future version, integer keys will always be treated as labels (consistent with DataFrame behavior). To access a value by position, use `ser.iloc[pos]`\n",
      "  n1 = b[0]\n",
      "/var/folders/pt/zlhpwgms1r38l09fb5f24y_80000gn/T/ipykernel_11826/3368081595.py:7: FutureWarning: Series.__getitem__ treating keys as positions is deprecated. In a future version, integer keys will always be treated as labels (consistent with DataFrame behavior). To access a value by position, use `ser.iloc[pos]`\n",
      "  n2 = b[1]\n",
      "/var/folders/pt/zlhpwgms1r38l09fb5f24y_80000gn/T/ipykernel_11826/3368081595.py:8: FutureWarning: Series.__getitem__ treating keys as positions is deprecated. In a future version, integer keys will always be treated as labels (consistent with DataFrame behavior). To access a value by position, use `ser.iloc[pos]`\n",
      "  date = b[2]\n"
     ]
    },
    {
     "name": "stdout",
     "output_type": "stream",
     "text": [
      "done!\n",
      "396, 0\n",
      "generating for 2018-06-24 Camila Giorgi, Irina Camelia Begu\n"
     ]
    },
    {
     "name": "stderr",
     "output_type": "stream",
     "text": [
      "/var/folders/pt/zlhpwgms1r38l09fb5f24y_80000gn/T/ipykernel_11826/3368081595.py:6: FutureWarning: Series.__getitem__ treating keys as positions is deprecated. In a future version, integer keys will always be treated as labels (consistent with DataFrame behavior). To access a value by position, use `ser.iloc[pos]`\n",
      "  n1 = b[0]\n",
      "/var/folders/pt/zlhpwgms1r38l09fb5f24y_80000gn/T/ipykernel_11826/3368081595.py:7: FutureWarning: Series.__getitem__ treating keys as positions is deprecated. In a future version, integer keys will always be treated as labels (consistent with DataFrame behavior). To access a value by position, use `ser.iloc[pos]`\n",
      "  n2 = b[1]\n",
      "/var/folders/pt/zlhpwgms1r38l09fb5f24y_80000gn/T/ipykernel_11826/3368081595.py:8: FutureWarning: Series.__getitem__ treating keys as positions is deprecated. In a future version, integer keys will always be treated as labels (consistent with DataFrame behavior). To access a value by position, use `ser.iloc[pos]`\n",
      "  date = b[2]\n"
     ]
    },
    {
     "name": "stdout",
     "output_type": "stream",
     "text": [
      "done!\n",
      "397, 0\n",
      "generating for 2018-06-25 Karolina Pliskova, Anastasia Pavlyuchenkova\n"
     ]
    },
    {
     "name": "stderr",
     "output_type": "stream",
     "text": [
      "/var/folders/pt/zlhpwgms1r38l09fb5f24y_80000gn/T/ipykernel_11826/3368081595.py:6: FutureWarning: Series.__getitem__ treating keys as positions is deprecated. In a future version, integer keys will always be treated as labels (consistent with DataFrame behavior). To access a value by position, use `ser.iloc[pos]`\n",
      "  n1 = b[0]\n",
      "/var/folders/pt/zlhpwgms1r38l09fb5f24y_80000gn/T/ipykernel_11826/3368081595.py:7: FutureWarning: Series.__getitem__ treating keys as positions is deprecated. In a future version, integer keys will always be treated as labels (consistent with DataFrame behavior). To access a value by position, use `ser.iloc[pos]`\n",
      "  n2 = b[1]\n",
      "/var/folders/pt/zlhpwgms1r38l09fb5f24y_80000gn/T/ipykernel_11826/3368081595.py:8: FutureWarning: Series.__getitem__ treating keys as positions is deprecated. In a future version, integer keys will always be treated as labels (consistent with DataFrame behavior). To access a value by position, use `ser.iloc[pos]`\n",
      "  date = b[2]\n"
     ]
    },
    {
     "name": "stdout",
     "output_type": "stream",
     "text": [
      "done!\n",
      "398, 0\n",
      "generating for 2018-06-26 Danielle Collins, Carla Suarez Navarro\n"
     ]
    },
    {
     "name": "stderr",
     "output_type": "stream",
     "text": [
      "/var/folders/pt/zlhpwgms1r38l09fb5f24y_80000gn/T/ipykernel_11826/3368081595.py:6: FutureWarning: Series.__getitem__ treating keys as positions is deprecated. In a future version, integer keys will always be treated as labels (consistent with DataFrame behavior). To access a value by position, use `ser.iloc[pos]`\n",
      "  n1 = b[0]\n",
      "/var/folders/pt/zlhpwgms1r38l09fb5f24y_80000gn/T/ipykernel_11826/3368081595.py:7: FutureWarning: Series.__getitem__ treating keys as positions is deprecated. In a future version, integer keys will always be treated as labels (consistent with DataFrame behavior). To access a value by position, use `ser.iloc[pos]`\n",
      "  n2 = b[1]\n",
      "/var/folders/pt/zlhpwgms1r38l09fb5f24y_80000gn/T/ipykernel_11826/3368081595.py:8: FutureWarning: Series.__getitem__ treating keys as positions is deprecated. In a future version, integer keys will always be treated as labels (consistent with DataFrame behavior). To access a value by position, use `ser.iloc[pos]`\n",
      "  date = b[2]\n"
     ]
    },
    {
     "name": "stdout",
     "output_type": "stream",
     "text": [
      "done!\n",
      "399, 0\n",
      "generating for 2018-06-26 Aryna Sabalenka, Julia Goerges\n"
     ]
    },
    {
     "name": "stderr",
     "output_type": "stream",
     "text": [
      "/var/folders/pt/zlhpwgms1r38l09fb5f24y_80000gn/T/ipykernel_11826/3368081595.py:6: FutureWarning: Series.__getitem__ treating keys as positions is deprecated. In a future version, integer keys will always be treated as labels (consistent with DataFrame behavior). To access a value by position, use `ser.iloc[pos]`\n",
      "  n1 = b[0]\n",
      "/var/folders/pt/zlhpwgms1r38l09fb5f24y_80000gn/T/ipykernel_11826/3368081595.py:7: FutureWarning: Series.__getitem__ treating keys as positions is deprecated. In a future version, integer keys will always be treated as labels (consistent with DataFrame behavior). To access a value by position, use `ser.iloc[pos]`\n",
      "  n2 = b[1]\n",
      "/var/folders/pt/zlhpwgms1r38l09fb5f24y_80000gn/T/ipykernel_11826/3368081595.py:8: FutureWarning: Series.__getitem__ treating keys as positions is deprecated. In a future version, integer keys will always be treated as labels (consistent with DataFrame behavior). To access a value by position, use `ser.iloc[pos]`\n",
      "  date = b[2]\n"
     ]
    },
    {
     "name": "stdout",
     "output_type": "stream",
     "text": [
      "done!\n",
      "400, 0\n",
      "generating for 2018-06-26 Su Wei Hsieh, Magdalena Rybarikova\n"
     ]
    },
    {
     "name": "stderr",
     "output_type": "stream",
     "text": [
      "/var/folders/pt/zlhpwgms1r38l09fb5f24y_80000gn/T/ipykernel_11826/3368081595.py:6: FutureWarning: Series.__getitem__ treating keys as positions is deprecated. In a future version, integer keys will always be treated as labels (consistent with DataFrame behavior). To access a value by position, use `ser.iloc[pos]`\n",
      "  n1 = b[0]\n",
      "/var/folders/pt/zlhpwgms1r38l09fb5f24y_80000gn/T/ipykernel_11826/3368081595.py:7: FutureWarning: Series.__getitem__ treating keys as positions is deprecated. In a future version, integer keys will always be treated as labels (consistent with DataFrame behavior). To access a value by position, use `ser.iloc[pos]`\n",
      "  n2 = b[1]\n",
      "/var/folders/pt/zlhpwgms1r38l09fb5f24y_80000gn/T/ipykernel_11826/3368081595.py:8: FutureWarning: Series.__getitem__ treating keys as positions is deprecated. In a future version, integer keys will always be treated as labels (consistent with DataFrame behavior). To access a value by position, use `ser.iloc[pos]`\n",
      "  date = b[2]\n"
     ]
    },
    {
     "name": "stdout",
     "output_type": "stream",
     "text": [
      "done!\n",
      "401, 0\n",
      "generating for 2018-06-26 Elise Mertens, Svetlana Kuznetsova\n"
     ]
    },
    {
     "name": "stderr",
     "output_type": "stream",
     "text": [
      "/var/folders/pt/zlhpwgms1r38l09fb5f24y_80000gn/T/ipykernel_11826/3368081595.py:6: FutureWarning: Series.__getitem__ treating keys as positions is deprecated. In a future version, integer keys will always be treated as labels (consistent with DataFrame behavior). To access a value by position, use `ser.iloc[pos]`\n",
      "  n1 = b[0]\n",
      "/var/folders/pt/zlhpwgms1r38l09fb5f24y_80000gn/T/ipykernel_11826/3368081595.py:7: FutureWarning: Series.__getitem__ treating keys as positions is deprecated. In a future version, integer keys will always be treated as labels (consistent with DataFrame behavior). To access a value by position, use `ser.iloc[pos]`\n",
      "  n2 = b[1]\n",
      "/var/folders/pt/zlhpwgms1r38l09fb5f24y_80000gn/T/ipykernel_11826/3368081595.py:8: FutureWarning: Series.__getitem__ treating keys as positions is deprecated. In a future version, integer keys will always be treated as labels (consistent with DataFrame behavior). To access a value by position, use `ser.iloc[pos]`\n",
      "  date = b[2]\n"
     ]
    },
    {
     "name": "stdout",
     "output_type": "stream",
     "text": [
      "done!\n",
      "402, 0\n",
      "generating for 2018-06-27 Daria Kasatkina, Anastasija Sevastova\n"
     ]
    },
    {
     "name": "stderr",
     "output_type": "stream",
     "text": [
      "/var/folders/pt/zlhpwgms1r38l09fb5f24y_80000gn/T/ipykernel_11826/3368081595.py:6: FutureWarning: Series.__getitem__ treating keys as positions is deprecated. In a future version, integer keys will always be treated as labels (consistent with DataFrame behavior). To access a value by position, use `ser.iloc[pos]`\n",
      "  n1 = b[0]\n",
      "/var/folders/pt/zlhpwgms1r38l09fb5f24y_80000gn/T/ipykernel_11826/3368081595.py:7: FutureWarning: Series.__getitem__ treating keys as positions is deprecated. In a future version, integer keys will always be treated as labels (consistent with DataFrame behavior). To access a value by position, use `ser.iloc[pos]`\n",
      "  n2 = b[1]\n",
      "/var/folders/pt/zlhpwgms1r38l09fb5f24y_80000gn/T/ipykernel_11826/3368081595.py:8: FutureWarning: Series.__getitem__ treating keys as positions is deprecated. In a future version, integer keys will always be treated as labels (consistent with DataFrame behavior). To access a value by position, use `ser.iloc[pos]`\n",
      "  date = b[2]\n"
     ]
    },
    {
     "name": "stdout",
     "output_type": "stream",
     "text": [
      "done!\n",
      "403, 0\n",
      "generating for 2018-06-27 Aryna Sabalenka, Elise Mertens\n"
     ]
    },
    {
     "name": "stderr",
     "output_type": "stream",
     "text": [
      "/var/folders/pt/zlhpwgms1r38l09fb5f24y_80000gn/T/ipykernel_11826/3368081595.py:6: FutureWarning: Series.__getitem__ treating keys as positions is deprecated. In a future version, integer keys will always be treated as labels (consistent with DataFrame behavior). To access a value by position, use `ser.iloc[pos]`\n",
      "  n1 = b[0]\n",
      "/var/folders/pt/zlhpwgms1r38l09fb5f24y_80000gn/T/ipykernel_11826/3368081595.py:7: FutureWarning: Series.__getitem__ treating keys as positions is deprecated. In a future version, integer keys will always be treated as labels (consistent with DataFrame behavior). To access a value by position, use `ser.iloc[pos]`\n",
      "  n2 = b[1]\n",
      "/var/folders/pt/zlhpwgms1r38l09fb5f24y_80000gn/T/ipykernel_11826/3368081595.py:8: FutureWarning: Series.__getitem__ treating keys as positions is deprecated. In a future version, integer keys will always be treated as labels (consistent with DataFrame behavior). To access a value by position, use `ser.iloc[pos]`\n",
      "  date = b[2]\n"
     ]
    },
    {
     "name": "stdout",
     "output_type": "stream",
     "text": [
      "done!\n",
      "404, 0\n",
      "generating for 2018-06-27 Caroline Wozniacki, Johanna Konta\n"
     ]
    },
    {
     "name": "stderr",
     "output_type": "stream",
     "text": [
      "/var/folders/pt/zlhpwgms1r38l09fb5f24y_80000gn/T/ipykernel_11826/3368081595.py:6: FutureWarning: Series.__getitem__ treating keys as positions is deprecated. In a future version, integer keys will always be treated as labels (consistent with DataFrame behavior). To access a value by position, use `ser.iloc[pos]`\n",
      "  n1 = b[0]\n",
      "/var/folders/pt/zlhpwgms1r38l09fb5f24y_80000gn/T/ipykernel_11826/3368081595.py:7: FutureWarning: Series.__getitem__ treating keys as positions is deprecated. In a future version, integer keys will always be treated as labels (consistent with DataFrame behavior). To access a value by position, use `ser.iloc[pos]`\n",
      "  n2 = b[1]\n",
      "/var/folders/pt/zlhpwgms1r38l09fb5f24y_80000gn/T/ipykernel_11826/3368081595.py:8: FutureWarning: Series.__getitem__ treating keys as positions is deprecated. In a future version, integer keys will always be treated as labels (consistent with DataFrame behavior). To access a value by position, use `ser.iloc[pos]`\n",
      "  date = b[2]\n"
     ]
    },
    {
     "name": "stdout",
     "output_type": "stream",
     "text": [
      "done!\n",
      "405, 0\n",
      "generating for 2018-06-28 Agnieszka Radwanska, Jelena Ostapenko\n"
     ]
    },
    {
     "name": "stderr",
     "output_type": "stream",
     "text": [
      "/var/folders/pt/zlhpwgms1r38l09fb5f24y_80000gn/T/ipykernel_11826/3368081595.py:6: FutureWarning: Series.__getitem__ treating keys as positions is deprecated. In a future version, integer keys will always be treated as labels (consistent with DataFrame behavior). To access a value by position, use `ser.iloc[pos]`\n",
      "  n1 = b[0]\n",
      "/var/folders/pt/zlhpwgms1r38l09fb5f24y_80000gn/T/ipykernel_11826/3368081595.py:7: FutureWarning: Series.__getitem__ treating keys as positions is deprecated. In a future version, integer keys will always be treated as labels (consistent with DataFrame behavior). To access a value by position, use `ser.iloc[pos]`\n",
      "  n2 = b[1]\n",
      "/var/folders/pt/zlhpwgms1r38l09fb5f24y_80000gn/T/ipykernel_11826/3368081595.py:8: FutureWarning: Series.__getitem__ treating keys as positions is deprecated. In a future version, integer keys will always be treated as labels (consistent with DataFrame behavior). To access a value by position, use `ser.iloc[pos]`\n",
      "  date = b[2]\n"
     ]
    },
    {
     "name": "stdout",
     "output_type": "stream",
     "text": [
      "done!\n",
      "406, 0\n",
      "generating for 2018-06-28 Aryna Sabalenka, Karolina Pliskova\n"
     ]
    },
    {
     "name": "stderr",
     "output_type": "stream",
     "text": [
      "/var/folders/pt/zlhpwgms1r38l09fb5f24y_80000gn/T/ipykernel_11826/3368081595.py:6: FutureWarning: Series.__getitem__ treating keys as positions is deprecated. In a future version, integer keys will always be treated as labels (consistent with DataFrame behavior). To access a value by position, use `ser.iloc[pos]`\n",
      "  n1 = b[0]\n",
      "/var/folders/pt/zlhpwgms1r38l09fb5f24y_80000gn/T/ipykernel_11826/3368081595.py:7: FutureWarning: Series.__getitem__ treating keys as positions is deprecated. In a future version, integer keys will always be treated as labels (consistent with DataFrame behavior). To access a value by position, use `ser.iloc[pos]`\n",
      "  n2 = b[1]\n",
      "/var/folders/pt/zlhpwgms1r38l09fb5f24y_80000gn/T/ipykernel_11826/3368081595.py:8: FutureWarning: Series.__getitem__ treating keys as positions is deprecated. In a future version, integer keys will always be treated as labels (consistent with DataFrame behavior). To access a value by position, use `ser.iloc[pos]`\n",
      "  date = b[2]\n"
     ]
    },
    {
     "name": "stdout",
     "output_type": "stream",
     "text": [
      "done!\n",
      "407, 0\n",
      "generating for 2018-06-28 Caroline Wozniacki, Ashleigh Barty\n"
     ]
    },
    {
     "name": "stderr",
     "output_type": "stream",
     "text": [
      "/var/folders/pt/zlhpwgms1r38l09fb5f24y_80000gn/T/ipykernel_11826/3368081595.py:6: FutureWarning: Series.__getitem__ treating keys as positions is deprecated. In a future version, integer keys will always be treated as labels (consistent with DataFrame behavior). To access a value by position, use `ser.iloc[pos]`\n",
      "  n1 = b[0]\n",
      "/var/folders/pt/zlhpwgms1r38l09fb5f24y_80000gn/T/ipykernel_11826/3368081595.py:7: FutureWarning: Series.__getitem__ treating keys as positions is deprecated. In a future version, integer keys will always be treated as labels (consistent with DataFrame behavior). To access a value by position, use `ser.iloc[pos]`\n",
      "  n2 = b[1]\n",
      "/var/folders/pt/zlhpwgms1r38l09fb5f24y_80000gn/T/ipykernel_11826/3368081595.py:8: FutureWarning: Series.__getitem__ treating keys as positions is deprecated. In a future version, integer keys will always be treated as labels (consistent with DataFrame behavior). To access a value by position, use `ser.iloc[pos]`\n",
      "  date = b[2]\n"
     ]
    },
    {
     "name": "stdout",
     "output_type": "stream",
     "text": [
      "done!\n",
      "408, 0\n",
      "generating for 2018-06-29 Aryna Sabalenka, Agnieszka Radwanska\n"
     ]
    },
    {
     "name": "stderr",
     "output_type": "stream",
     "text": [
      "/var/folders/pt/zlhpwgms1r38l09fb5f24y_80000gn/T/ipykernel_11826/3368081595.py:6: FutureWarning: Series.__getitem__ treating keys as positions is deprecated. In a future version, integer keys will always be treated as labels (consistent with DataFrame behavior). To access a value by position, use `ser.iloc[pos]`\n",
      "  n1 = b[0]\n",
      "/var/folders/pt/zlhpwgms1r38l09fb5f24y_80000gn/T/ipykernel_11826/3368081595.py:7: FutureWarning: Series.__getitem__ treating keys as positions is deprecated. In a future version, integer keys will always be treated as labels (consistent with DataFrame behavior). To access a value by position, use `ser.iloc[pos]`\n",
      "  n2 = b[1]\n",
      "/var/folders/pt/zlhpwgms1r38l09fb5f24y_80000gn/T/ipykernel_11826/3368081595.py:8: FutureWarning: Series.__getitem__ treating keys as positions is deprecated. In a future version, integer keys will always be treated as labels (consistent with DataFrame behavior). To access a value by position, use `ser.iloc[pos]`\n",
      "  date = b[2]\n"
     ]
    },
    {
     "name": "stdout",
     "output_type": "stream",
     "text": [
      "done!\n",
      "409, 0\n",
      "generating for 2018-06-30 Caroline Wozniacki, Aryna Sabalenka\n"
     ]
    },
    {
     "name": "stderr",
     "output_type": "stream",
     "text": [
      "/var/folders/pt/zlhpwgms1r38l09fb5f24y_80000gn/T/ipykernel_11826/3368081595.py:6: FutureWarning: Series.__getitem__ treating keys as positions is deprecated. In a future version, integer keys will always be treated as labels (consistent with DataFrame behavior). To access a value by position, use `ser.iloc[pos]`\n",
      "  n1 = b[0]\n",
      "/var/folders/pt/zlhpwgms1r38l09fb5f24y_80000gn/T/ipykernel_11826/3368081595.py:7: FutureWarning: Series.__getitem__ treating keys as positions is deprecated. In a future version, integer keys will always be treated as labels (consistent with DataFrame behavior). To access a value by position, use `ser.iloc[pos]`\n",
      "  n2 = b[1]\n",
      "/var/folders/pt/zlhpwgms1r38l09fb5f24y_80000gn/T/ipykernel_11826/3368081595.py:8: FutureWarning: Series.__getitem__ treating keys as positions is deprecated. In a future version, integer keys will always be treated as labels (consistent with DataFrame behavior). To access a value by position, use `ser.iloc[pos]`\n",
      "  date = b[2]\n"
     ]
    },
    {
     "name": "stdout",
     "output_type": "stream",
     "text": [
      "done!\n",
      "410, 0\n",
      "generating for 2018-07-03 Su Wei Hsieh, Anastasia Pavlyuchenkova\n"
     ]
    },
    {
     "name": "stderr",
     "output_type": "stream",
     "text": [
      "/var/folders/pt/zlhpwgms1r38l09fb5f24y_80000gn/T/ipykernel_11826/3368081595.py:6: FutureWarning: Series.__getitem__ treating keys as positions is deprecated. In a future version, integer keys will always be treated as labels (consistent with DataFrame behavior). To access a value by position, use `ser.iloc[pos]`\n",
      "  n1 = b[0]\n",
      "/var/folders/pt/zlhpwgms1r38l09fb5f24y_80000gn/T/ipykernel_11826/3368081595.py:7: FutureWarning: Series.__getitem__ treating keys as positions is deprecated. In a future version, integer keys will always be treated as labels (consistent with DataFrame behavior). To access a value by position, use `ser.iloc[pos]`\n",
      "  n2 = b[1]\n",
      "/var/folders/pt/zlhpwgms1r38l09fb5f24y_80000gn/T/ipykernel_11826/3368081595.py:8: FutureWarning: Series.__getitem__ treating keys as positions is deprecated. In a future version, integer keys will always be treated as labels (consistent with DataFrame behavior). To access a value by position, use `ser.iloc[pos]`\n",
      "  date = b[2]\n"
     ]
    },
    {
     "name": "stdout",
     "output_type": "stream",
     "text": [
      "done!\n",
      "411, 0\n",
      "generating for 2018-07-05 Ashleigh Barty, Eugenie Bouchard\n"
     ]
    },
    {
     "name": "stderr",
     "output_type": "stream",
     "text": [
      "/var/folders/pt/zlhpwgms1r38l09fb5f24y_80000gn/T/ipykernel_11826/3368081595.py:6: FutureWarning: Series.__getitem__ treating keys as positions is deprecated. In a future version, integer keys will always be treated as labels (consistent with DataFrame behavior). To access a value by position, use `ser.iloc[pos]`\n",
      "  n1 = b[0]\n",
      "/var/folders/pt/zlhpwgms1r38l09fb5f24y_80000gn/T/ipykernel_11826/3368081595.py:7: FutureWarning: Series.__getitem__ treating keys as positions is deprecated. In a future version, integer keys will always be treated as labels (consistent with DataFrame behavior). To access a value by position, use `ser.iloc[pos]`\n",
      "  n2 = b[1]\n",
      "/var/folders/pt/zlhpwgms1r38l09fb5f24y_80000gn/T/ipykernel_11826/3368081595.py:8: FutureWarning: Series.__getitem__ treating keys as positions is deprecated. In a future version, integer keys will always be treated as labels (consistent with DataFrame behavior). To access a value by position, use `ser.iloc[pos]`\n",
      "  date = b[2]\n"
     ]
    },
    {
     "name": "stdout",
     "output_type": "stream",
     "text": [
      "done!\n",
      "412, 0\n",
      "generating for 2018-07-05 Su Wei Hsieh, Lara Arruabarrena\n"
     ]
    },
    {
     "name": "stderr",
     "output_type": "stream",
     "text": [
      "/var/folders/pt/zlhpwgms1r38l09fb5f24y_80000gn/T/ipykernel_11826/3368081595.py:6: FutureWarning: Series.__getitem__ treating keys as positions is deprecated. In a future version, integer keys will always be treated as labels (consistent with DataFrame behavior). To access a value by position, use `ser.iloc[pos]`\n",
      "  n1 = b[0]\n",
      "/var/folders/pt/zlhpwgms1r38l09fb5f24y_80000gn/T/ipykernel_11826/3368081595.py:7: FutureWarning: Series.__getitem__ treating keys as positions is deprecated. In a future version, integer keys will always be treated as labels (consistent with DataFrame behavior). To access a value by position, use `ser.iloc[pos]`\n",
      "  n2 = b[1]\n",
      "/var/folders/pt/zlhpwgms1r38l09fb5f24y_80000gn/T/ipykernel_11826/3368081595.py:8: FutureWarning: Series.__getitem__ treating keys as positions is deprecated. In a future version, integer keys will always be treated as labels (consistent with DataFrame behavior). To access a value by position, use `ser.iloc[pos]`\n",
      "  date = b[2]\n"
     ]
    },
    {
     "name": "stdout",
     "output_type": "stream",
     "text": [
      "done!\n",
      "413, 0\n",
      "generating for 2018-07-05 Simona Halep, Saisai Zheng\n"
     ]
    },
    {
     "name": "stderr",
     "output_type": "stream",
     "text": [
      "/var/folders/pt/zlhpwgms1r38l09fb5f24y_80000gn/T/ipykernel_11826/3368081595.py:6: FutureWarning: Series.__getitem__ treating keys as positions is deprecated. In a future version, integer keys will always be treated as labels (consistent with DataFrame behavior). To access a value by position, use `ser.iloc[pos]`\n",
      "  n1 = b[0]\n",
      "/var/folders/pt/zlhpwgms1r38l09fb5f24y_80000gn/T/ipykernel_11826/3368081595.py:7: FutureWarning: Series.__getitem__ treating keys as positions is deprecated. In a future version, integer keys will always be treated as labels (consistent with DataFrame behavior). To access a value by position, use `ser.iloc[pos]`\n",
      "  n2 = b[1]\n",
      "/var/folders/pt/zlhpwgms1r38l09fb5f24y_80000gn/T/ipykernel_11826/3368081595.py:8: FutureWarning: Series.__getitem__ treating keys as positions is deprecated. In a future version, integer keys will always be treated as labels (consistent with DataFrame behavior). To access a value by position, use `ser.iloc[pos]`\n",
      "  date = b[2]\n"
     ]
    },
    {
     "name": "stdout",
     "output_type": "stream",
     "text": [
      "done!\n",
      "414, 0\n",
      "generating for 2018-07-05 Dominika Cibulkova, Johanna Konta\n"
     ]
    },
    {
     "name": "stderr",
     "output_type": "stream",
     "text": [
      "/var/folders/pt/zlhpwgms1r38l09fb5f24y_80000gn/T/ipykernel_11826/3368081595.py:6: FutureWarning: Series.__getitem__ treating keys as positions is deprecated. In a future version, integer keys will always be treated as labels (consistent with DataFrame behavior). To access a value by position, use `ser.iloc[pos]`\n",
      "  n1 = b[0]\n",
      "/var/folders/pt/zlhpwgms1r38l09fb5f24y_80000gn/T/ipykernel_11826/3368081595.py:7: FutureWarning: Series.__getitem__ treating keys as positions is deprecated. In a future version, integer keys will always be treated as labels (consistent with DataFrame behavior). To access a value by position, use `ser.iloc[pos]`\n",
      "  n2 = b[1]\n",
      "/var/folders/pt/zlhpwgms1r38l09fb5f24y_80000gn/T/ipykernel_11826/3368081595.py:8: FutureWarning: Series.__getitem__ treating keys as positions is deprecated. In a future version, integer keys will always be treated as labels (consistent with DataFrame behavior). To access a value by position, use `ser.iloc[pos]`\n",
      "  date = b[2]\n"
     ]
    },
    {
     "name": "stdout",
     "output_type": "stream",
     "text": [
      "done!\n",
      "415, 0\n",
      "generating for 2018-07-06 Kiki Bertens, Venus Williams\n"
     ]
    },
    {
     "name": "stderr",
     "output_type": "stream",
     "text": [
      "/var/folders/pt/zlhpwgms1r38l09fb5f24y_80000gn/T/ipykernel_11826/3368081595.py:6: FutureWarning: Series.__getitem__ treating keys as positions is deprecated. In a future version, integer keys will always be treated as labels (consistent with DataFrame behavior). To access a value by position, use `ser.iloc[pos]`\n",
      "  n1 = b[0]\n",
      "/var/folders/pt/zlhpwgms1r38l09fb5f24y_80000gn/T/ipykernel_11826/3368081595.py:7: FutureWarning: Series.__getitem__ treating keys as positions is deprecated. In a future version, integer keys will always be treated as labels (consistent with DataFrame behavior). To access a value by position, use `ser.iloc[pos]`\n",
      "  n2 = b[1]\n",
      "/var/folders/pt/zlhpwgms1r38l09fb5f24y_80000gn/T/ipykernel_11826/3368081595.py:8: FutureWarning: Series.__getitem__ treating keys as positions is deprecated. In a future version, integer keys will always be treated as labels (consistent with DataFrame behavior). To access a value by position, use `ser.iloc[pos]`\n",
      "  date = b[2]\n"
     ]
    },
    {
     "name": "stdout",
     "output_type": "stream",
     "text": [
      "done!\n",
      "416, 0\n",
      "generating for 2018-07-07 Daria Kasatkina, Ashleigh Barty\n"
     ]
    },
    {
     "name": "stderr",
     "output_type": "stream",
     "text": [
      "/var/folders/pt/zlhpwgms1r38l09fb5f24y_80000gn/T/ipykernel_11826/3368081595.py:6: FutureWarning: Series.__getitem__ treating keys as positions is deprecated. In a future version, integer keys will always be treated as labels (consistent with DataFrame behavior). To access a value by position, use `ser.iloc[pos]`\n",
      "  n1 = b[0]\n",
      "/var/folders/pt/zlhpwgms1r38l09fb5f24y_80000gn/T/ipykernel_11826/3368081595.py:7: FutureWarning: Series.__getitem__ treating keys as positions is deprecated. In a future version, integer keys will always be treated as labels (consistent with DataFrame behavior). To access a value by position, use `ser.iloc[pos]`\n",
      "  n2 = b[1]\n",
      "/var/folders/pt/zlhpwgms1r38l09fb5f24y_80000gn/T/ipykernel_11826/3368081595.py:8: FutureWarning: Series.__getitem__ treating keys as positions is deprecated. In a future version, integer keys will always be treated as labels (consistent with DataFrame behavior). To access a value by position, use `ser.iloc[pos]`\n",
      "  date = b[2]\n"
     ]
    },
    {
     "name": "stdout",
     "output_type": "stream",
     "text": [
      "done!\n",
      "417, 0\n",
      "generating for 2018-07-07 Dominika Cibulkova, Elise Mertens\n"
     ]
    },
    {
     "name": "stderr",
     "output_type": "stream",
     "text": [
      "/var/folders/pt/zlhpwgms1r38l09fb5f24y_80000gn/T/ipykernel_11826/3368081595.py:6: FutureWarning: Series.__getitem__ treating keys as positions is deprecated. In a future version, integer keys will always be treated as labels (consistent with DataFrame behavior). To access a value by position, use `ser.iloc[pos]`\n",
      "  n1 = b[0]\n",
      "/var/folders/pt/zlhpwgms1r38l09fb5f24y_80000gn/T/ipykernel_11826/3368081595.py:7: FutureWarning: Series.__getitem__ treating keys as positions is deprecated. In a future version, integer keys will always be treated as labels (consistent with DataFrame behavior). To access a value by position, use `ser.iloc[pos]`\n",
      "  n2 = b[1]\n",
      "/var/folders/pt/zlhpwgms1r38l09fb5f24y_80000gn/T/ipykernel_11826/3368081595.py:8: FutureWarning: Series.__getitem__ treating keys as positions is deprecated. In a future version, integer keys will always be treated as labels (consistent with DataFrame behavior). To access a value by position, use `ser.iloc[pos]`\n",
      "  date = b[2]\n"
     ]
    },
    {
     "name": "stdout",
     "output_type": "stream",
     "text": [
      "done!\n",
      "418, 0\n",
      "generating for 2018-07-09 Dominika Cibulkova, Su Wei Hsieh\n"
     ]
    },
    {
     "name": "stderr",
     "output_type": "stream",
     "text": [
      "/var/folders/pt/zlhpwgms1r38l09fb5f24y_80000gn/T/ipykernel_11826/3368081595.py:6: FutureWarning: Series.__getitem__ treating keys as positions is deprecated. In a future version, integer keys will always be treated as labels (consistent with DataFrame behavior). To access a value by position, use `ser.iloc[pos]`\n",
      "  n1 = b[0]\n",
      "/var/folders/pt/zlhpwgms1r38l09fb5f24y_80000gn/T/ipykernel_11826/3368081595.py:7: FutureWarning: Series.__getitem__ treating keys as positions is deprecated. In a future version, integer keys will always be treated as labels (consistent with DataFrame behavior). To access a value by position, use `ser.iloc[pos]`\n",
      "  n2 = b[1]\n",
      "/var/folders/pt/zlhpwgms1r38l09fb5f24y_80000gn/T/ipykernel_11826/3368081595.py:8: FutureWarning: Series.__getitem__ treating keys as positions is deprecated. In a future version, integer keys will always be treated as labels (consistent with DataFrame behavior). To access a value by position, use `ser.iloc[pos]`\n",
      "  date = b[2]\n"
     ]
    },
    {
     "name": "stdout",
     "output_type": "stream",
     "text": [
      "done!\n",
      "419, 0\n",
      "generating for 2018-07-09 Jelena Ostapenko, Aliaksandra Sasnovich\n"
     ]
    },
    {
     "name": "stderr",
     "output_type": "stream",
     "text": [
      "/var/folders/pt/zlhpwgms1r38l09fb5f24y_80000gn/T/ipykernel_11826/3368081595.py:6: FutureWarning: Series.__getitem__ treating keys as positions is deprecated. In a future version, integer keys will always be treated as labels (consistent with DataFrame behavior). To access a value by position, use `ser.iloc[pos]`\n",
      "  n1 = b[0]\n",
      "/var/folders/pt/zlhpwgms1r38l09fb5f24y_80000gn/T/ipykernel_11826/3368081595.py:7: FutureWarning: Series.__getitem__ treating keys as positions is deprecated. In a future version, integer keys will always be treated as labels (consistent with DataFrame behavior). To access a value by position, use `ser.iloc[pos]`\n",
      "  n2 = b[1]\n",
      "/var/folders/pt/zlhpwgms1r38l09fb5f24y_80000gn/T/ipykernel_11826/3368081595.py:8: FutureWarning: Series.__getitem__ treating keys as positions is deprecated. In a future version, integer keys will always be treated as labels (consistent with DataFrame behavior). To access a value by position, use `ser.iloc[pos]`\n",
      "  date = b[2]\n"
     ]
    },
    {
     "name": "stdout",
     "output_type": "stream",
     "text": [
      "done!\n",
      "420, 0\n",
      "generating for 2018-07-09 Kiki Bertens, Karolina Pliskova\n"
     ]
    },
    {
     "name": "stderr",
     "output_type": "stream",
     "text": [
      "/var/folders/pt/zlhpwgms1r38l09fb5f24y_80000gn/T/ipykernel_11826/3368081595.py:6: FutureWarning: Series.__getitem__ treating keys as positions is deprecated. In a future version, integer keys will always be treated as labels (consistent with DataFrame behavior). To access a value by position, use `ser.iloc[pos]`\n",
      "  n1 = b[0]\n",
      "/var/folders/pt/zlhpwgms1r38l09fb5f24y_80000gn/T/ipykernel_11826/3368081595.py:7: FutureWarning: Series.__getitem__ treating keys as positions is deprecated. In a future version, integer keys will always be treated as labels (consistent with DataFrame behavior). To access a value by position, use `ser.iloc[pos]`\n",
      "  n2 = b[1]\n",
      "/var/folders/pt/zlhpwgms1r38l09fb5f24y_80000gn/T/ipykernel_11826/3368081595.py:8: FutureWarning: Series.__getitem__ treating keys as positions is deprecated. In a future version, integer keys will always be treated as labels (consistent with DataFrame behavior). To access a value by position, use `ser.iloc[pos]`\n",
      "  date = b[2]\n"
     ]
    },
    {
     "name": "stdout",
     "output_type": "stream",
     "text": [
      "done!\n",
      "421, 0\n",
      "generating for 2018-07-10 Julia Goerges, Kiki Bertens\n"
     ]
    },
    {
     "name": "stderr",
     "output_type": "stream",
     "text": [
      "/var/folders/pt/zlhpwgms1r38l09fb5f24y_80000gn/T/ipykernel_11826/3368081595.py:6: FutureWarning: Series.__getitem__ treating keys as positions is deprecated. In a future version, integer keys will always be treated as labels (consistent with DataFrame behavior). To access a value by position, use `ser.iloc[pos]`\n",
      "  n1 = b[0]\n",
      "/var/folders/pt/zlhpwgms1r38l09fb5f24y_80000gn/T/ipykernel_11826/3368081595.py:7: FutureWarning: Series.__getitem__ treating keys as positions is deprecated. In a future version, integer keys will always be treated as labels (consistent with DataFrame behavior). To access a value by position, use `ser.iloc[pos]`\n",
      "  n2 = b[1]\n",
      "/var/folders/pt/zlhpwgms1r38l09fb5f24y_80000gn/T/ipykernel_11826/3368081595.py:8: FutureWarning: Series.__getitem__ treating keys as positions is deprecated. In a future version, integer keys will always be treated as labels (consistent with DataFrame behavior). To access a value by position, use `ser.iloc[pos]`\n",
      "  date = b[2]\n"
     ]
    },
    {
     "name": "stdout",
     "output_type": "stream",
     "text": [
      "done!\n",
      "422, 0\n",
      "generating for 2018-07-10 Serena Williams, Camila Giorgi\n"
     ]
    },
    {
     "name": "stderr",
     "output_type": "stream",
     "text": [
      "/var/folders/pt/zlhpwgms1r38l09fb5f24y_80000gn/T/ipykernel_11826/3368081595.py:6: FutureWarning: Series.__getitem__ treating keys as positions is deprecated. In a future version, integer keys will always be treated as labels (consistent with DataFrame behavior). To access a value by position, use `ser.iloc[pos]`\n",
      "  n1 = b[0]\n",
      "/var/folders/pt/zlhpwgms1r38l09fb5f24y_80000gn/T/ipykernel_11826/3368081595.py:7: FutureWarning: Series.__getitem__ treating keys as positions is deprecated. In a future version, integer keys will always be treated as labels (consistent with DataFrame behavior). To access a value by position, use `ser.iloc[pos]`\n",
      "  n2 = b[1]\n",
      "/var/folders/pt/zlhpwgms1r38l09fb5f24y_80000gn/T/ipykernel_11826/3368081595.py:8: FutureWarning: Series.__getitem__ treating keys as positions is deprecated. In a future version, integer keys will always be treated as labels (consistent with DataFrame behavior). To access a value by position, use `ser.iloc[pos]`\n",
      "  date = b[2]\n"
     ]
    },
    {
     "name": "stdout",
     "output_type": "stream",
     "text": [
      "done!\n",
      "423, 0\n",
      "generating for 2018-07-12 Serena Williams, Julia Goerges\n"
     ]
    },
    {
     "name": "stderr",
     "output_type": "stream",
     "text": [
      "/var/folders/pt/zlhpwgms1r38l09fb5f24y_80000gn/T/ipykernel_11826/3368081595.py:6: FutureWarning: Series.__getitem__ treating keys as positions is deprecated. In a future version, integer keys will always be treated as labels (consistent with DataFrame behavior). To access a value by position, use `ser.iloc[pos]`\n",
      "  n1 = b[0]\n",
      "/var/folders/pt/zlhpwgms1r38l09fb5f24y_80000gn/T/ipykernel_11826/3368081595.py:7: FutureWarning: Series.__getitem__ treating keys as positions is deprecated. In a future version, integer keys will always be treated as labels (consistent with DataFrame behavior). To access a value by position, use `ser.iloc[pos]`\n",
      "  n2 = b[1]\n",
      "/var/folders/pt/zlhpwgms1r38l09fb5f24y_80000gn/T/ipykernel_11826/3368081595.py:8: FutureWarning: Series.__getitem__ treating keys as positions is deprecated. In a future version, integer keys will always be treated as labels (consistent with DataFrame behavior). To access a value by position, use `ser.iloc[pos]`\n",
      "  date = b[2]\n"
     ]
    },
    {
     "name": "stdout",
     "output_type": "stream",
     "text": [
      "done!\n",
      "424, 0\n",
      "generating for 2018-07-20 Anastasija Sevastova, Sorana Cirstea\n"
     ]
    },
    {
     "name": "stderr",
     "output_type": "stream",
     "text": [
      "/var/folders/pt/zlhpwgms1r38l09fb5f24y_80000gn/T/ipykernel_11826/3368081595.py:6: FutureWarning: Series.__getitem__ treating keys as positions is deprecated. In a future version, integer keys will always be treated as labels (consistent with DataFrame behavior). To access a value by position, use `ser.iloc[pos]`\n",
      "  n1 = b[0]\n",
      "/var/folders/pt/zlhpwgms1r38l09fb5f24y_80000gn/T/ipykernel_11826/3368081595.py:7: FutureWarning: Series.__getitem__ treating keys as positions is deprecated. In a future version, integer keys will always be treated as labels (consistent with DataFrame behavior). To access a value by position, use `ser.iloc[pos]`\n",
      "  n2 = b[1]\n",
      "/var/folders/pt/zlhpwgms1r38l09fb5f24y_80000gn/T/ipykernel_11826/3368081595.py:8: FutureWarning: Series.__getitem__ treating keys as positions is deprecated. In a future version, integer keys will always be treated as labels (consistent with DataFrame behavior). To access a value by position, use `ser.iloc[pos]`\n",
      "  date = b[2]\n"
     ]
    },
    {
     "name": "stdout",
     "output_type": "stream",
     "text": [
      "done!\n",
      "425, 0\n",
      "generating for 2018-07-24 Karolina Pliskova, Katerina Siniakova\n"
     ]
    },
    {
     "name": "stderr",
     "output_type": "stream",
     "text": [
      "/var/folders/pt/zlhpwgms1r38l09fb5f24y_80000gn/T/ipykernel_11826/3368081595.py:6: FutureWarning: Series.__getitem__ treating keys as positions is deprecated. In a future version, integer keys will always be treated as labels (consistent with DataFrame behavior). To access a value by position, use `ser.iloc[pos]`\n",
      "  n1 = b[0]\n",
      "/var/folders/pt/zlhpwgms1r38l09fb5f24y_80000gn/T/ipykernel_11826/3368081595.py:7: FutureWarning: Series.__getitem__ treating keys as positions is deprecated. In a future version, integer keys will always be treated as labels (consistent with DataFrame behavior). To access a value by position, use `ser.iloc[pos]`\n",
      "  n2 = b[1]\n",
      "/var/folders/pt/zlhpwgms1r38l09fb5f24y_80000gn/T/ipykernel_11826/3368081595.py:8: FutureWarning: Series.__getitem__ treating keys as positions is deprecated. In a future version, integer keys will always be treated as labels (consistent with DataFrame behavior). To access a value by position, use `ser.iloc[pos]`\n",
      "  date = b[2]\n"
     ]
    },
    {
     "name": "stdout",
     "output_type": "stream",
     "text": [
      "done!\n",
      "426, 0\n",
      "generating for 2018-07-27 Aliaksandra Sasnovich, Anastasija Sevastova\n"
     ]
    },
    {
     "name": "stderr",
     "output_type": "stream",
     "text": [
      "/var/folders/pt/zlhpwgms1r38l09fb5f24y_80000gn/T/ipykernel_11826/3368081595.py:6: FutureWarning: Series.__getitem__ treating keys as positions is deprecated. In a future version, integer keys will always be treated as labels (consistent with DataFrame behavior). To access a value by position, use `ser.iloc[pos]`\n",
      "  n1 = b[0]\n",
      "/var/folders/pt/zlhpwgms1r38l09fb5f24y_80000gn/T/ipykernel_11826/3368081595.py:7: FutureWarning: Series.__getitem__ treating keys as positions is deprecated. In a future version, integer keys will always be treated as labels (consistent with DataFrame behavior). To access a value by position, use `ser.iloc[pos]`\n",
      "  n2 = b[1]\n",
      "/var/folders/pt/zlhpwgms1r38l09fb5f24y_80000gn/T/ipykernel_11826/3368081595.py:8: FutureWarning: Series.__getitem__ treating keys as positions is deprecated. In a future version, integer keys will always be treated as labels (consistent with DataFrame behavior). To access a value by position, use `ser.iloc[pos]`\n",
      "  date = b[2]\n"
     ]
    },
    {
     "name": "stdout",
     "output_type": "stream",
     "text": [
      "done!\n",
      "427, 0\n",
      "generating for 2018-08-03 Elise Mertens, Johanna Konta\n"
     ]
    },
    {
     "name": "stderr",
     "output_type": "stream",
     "text": [
      "/var/folders/pt/zlhpwgms1r38l09fb5f24y_80000gn/T/ipykernel_11826/3368081595.py:6: FutureWarning: Series.__getitem__ treating keys as positions is deprecated. In a future version, integer keys will always be treated as labels (consistent with DataFrame behavior). To access a value by position, use `ser.iloc[pos]`\n",
      "  n1 = b[0]\n",
      "/var/folders/pt/zlhpwgms1r38l09fb5f24y_80000gn/T/ipykernel_11826/3368081595.py:7: FutureWarning: Series.__getitem__ treating keys as positions is deprecated. In a future version, integer keys will always be treated as labels (consistent with DataFrame behavior). To access a value by position, use `ser.iloc[pos]`\n",
      "  n2 = b[1]\n",
      "/var/folders/pt/zlhpwgms1r38l09fb5f24y_80000gn/T/ipykernel_11826/3368081595.py:8: FutureWarning: Series.__getitem__ treating keys as positions is deprecated. In a future version, integer keys will always be treated as labels (consistent with DataFrame behavior). To access a value by position, use `ser.iloc[pos]`\n",
      "  date = b[2]\n"
     ]
    },
    {
     "name": "stdout",
     "output_type": "stream",
     "text": [
      "done!\n",
      "428, 0\n",
      "generating for 2018-08-06 Karolina Pliskova, Katerina Siniakova\n"
     ]
    },
    {
     "name": "stderr",
     "output_type": "stream",
     "text": [
      "/var/folders/pt/zlhpwgms1r38l09fb5f24y_80000gn/T/ipykernel_11826/3368081595.py:6: FutureWarning: Series.__getitem__ treating keys as positions is deprecated. In a future version, integer keys will always be treated as labels (consistent with DataFrame behavior). To access a value by position, use `ser.iloc[pos]`\n",
      "  n1 = b[0]\n",
      "/var/folders/pt/zlhpwgms1r38l09fb5f24y_80000gn/T/ipykernel_11826/3368081595.py:7: FutureWarning: Series.__getitem__ treating keys as positions is deprecated. In a future version, integer keys will always be treated as labels (consistent with DataFrame behavior). To access a value by position, use `ser.iloc[pos]`\n",
      "  n2 = b[1]\n",
      "/var/folders/pt/zlhpwgms1r38l09fb5f24y_80000gn/T/ipykernel_11826/3368081595.py:8: FutureWarning: Series.__getitem__ treating keys as positions is deprecated. In a future version, integer keys will always be treated as labels (consistent with DataFrame behavior). To access a value by position, use `ser.iloc[pos]`\n",
      "  date = b[2]\n"
     ]
    },
    {
     "name": "stdout",
     "output_type": "stream",
     "text": [
      "done!\n",
      "429, 0\n",
      "generating for 2018-08-07 Johanna Konta, Jelena Ostapenko\n"
     ]
    },
    {
     "name": "stderr",
     "output_type": "stream",
     "text": [
      "/var/folders/pt/zlhpwgms1r38l09fb5f24y_80000gn/T/ipykernel_11826/3368081595.py:6: FutureWarning: Series.__getitem__ treating keys as positions is deprecated. In a future version, integer keys will always be treated as labels (consistent with DataFrame behavior). To access a value by position, use `ser.iloc[pos]`\n",
      "  n1 = b[0]\n",
      "/var/folders/pt/zlhpwgms1r38l09fb5f24y_80000gn/T/ipykernel_11826/3368081595.py:7: FutureWarning: Series.__getitem__ treating keys as positions is deprecated. In a future version, integer keys will always be treated as labels (consistent with DataFrame behavior). To access a value by position, use `ser.iloc[pos]`\n",
      "  n2 = b[1]\n",
      "/var/folders/pt/zlhpwgms1r38l09fb5f24y_80000gn/T/ipykernel_11826/3368081595.py:8: FutureWarning: Series.__getitem__ treating keys as positions is deprecated. In a future version, integer keys will always be treated as labels (consistent with DataFrame behavior). To access a value by position, use `ser.iloc[pos]`\n",
      "  date = b[2]\n"
     ]
    },
    {
     "name": "stdout",
     "output_type": "stream",
     "text": [
      "done!\n",
      "430, 0\n",
      "generating for 2018-08-07 Elise Mertens, Eugenie Bouchard\n"
     ]
    },
    {
     "name": "stderr",
     "output_type": "stream",
     "text": [
      "/var/folders/pt/zlhpwgms1r38l09fb5f24y_80000gn/T/ipykernel_11826/3368081595.py:6: FutureWarning: Series.__getitem__ treating keys as positions is deprecated. In a future version, integer keys will always be treated as labels (consistent with DataFrame behavior). To access a value by position, use `ser.iloc[pos]`\n",
      "  n1 = b[0]\n",
      "/var/folders/pt/zlhpwgms1r38l09fb5f24y_80000gn/T/ipykernel_11826/3368081595.py:7: FutureWarning: Series.__getitem__ treating keys as positions is deprecated. In a future version, integer keys will always be treated as labels (consistent with DataFrame behavior). To access a value by position, use `ser.iloc[pos]`\n",
      "  n2 = b[1]\n",
      "/var/folders/pt/zlhpwgms1r38l09fb5f24y_80000gn/T/ipykernel_11826/3368081595.py:8: FutureWarning: Series.__getitem__ treating keys as positions is deprecated. In a future version, integer keys will always be treated as labels (consistent with DataFrame behavior). To access a value by position, use `ser.iloc[pos]`\n",
      "  date = b[2]\n"
     ]
    },
    {
     "name": "stdout",
     "output_type": "stream",
     "text": [
      "done!\n",
      "431, 0\n",
      "generating for 2018-08-07 Daria Kasatkina, Maria Sakkari\n"
     ]
    },
    {
     "name": "stderr",
     "output_type": "stream",
     "text": [
      "/var/folders/pt/zlhpwgms1r38l09fb5f24y_80000gn/T/ipykernel_11826/3368081595.py:6: FutureWarning: Series.__getitem__ treating keys as positions is deprecated. In a future version, integer keys will always be treated as labels (consistent with DataFrame behavior). To access a value by position, use `ser.iloc[pos]`\n",
      "  n1 = b[0]\n",
      "/var/folders/pt/zlhpwgms1r38l09fb5f24y_80000gn/T/ipykernel_11826/3368081595.py:7: FutureWarning: Series.__getitem__ treating keys as positions is deprecated. In a future version, integer keys will always be treated as labels (consistent with DataFrame behavior). To access a value by position, use `ser.iloc[pos]`\n",
      "  n2 = b[1]\n",
      "/var/folders/pt/zlhpwgms1r38l09fb5f24y_80000gn/T/ipykernel_11826/3368081595.py:8: FutureWarning: Series.__getitem__ treating keys as positions is deprecated. In a future version, integer keys will always be treated as labels (consistent with DataFrame behavior). To access a value by position, use `ser.iloc[pos]`\n",
      "  date = b[2]\n"
     ]
    },
    {
     "name": "stdout",
     "output_type": "stream",
     "text": [
      "done!\n",
      "432, 0\n",
      "generating for 2018-08-08 Carla Suarez Navarro, Lesia Tsurenko\n"
     ]
    },
    {
     "name": "stderr",
     "output_type": "stream",
     "text": [
      "/var/folders/pt/zlhpwgms1r38l09fb5f24y_80000gn/T/ipykernel_11826/3368081595.py:6: FutureWarning: Series.__getitem__ treating keys as positions is deprecated. In a future version, integer keys will always be treated as labels (consistent with DataFrame behavior). To access a value by position, use `ser.iloc[pos]`\n",
      "  n1 = b[0]\n",
      "/var/folders/pt/zlhpwgms1r38l09fb5f24y_80000gn/T/ipykernel_11826/3368081595.py:7: FutureWarning: Series.__getitem__ treating keys as positions is deprecated. In a future version, integer keys will always be treated as labels (consistent with DataFrame behavior). To access a value by position, use `ser.iloc[pos]`\n",
      "  n2 = b[1]\n",
      "/var/folders/pt/zlhpwgms1r38l09fb5f24y_80000gn/T/ipykernel_11826/3368081595.py:8: FutureWarning: Series.__getitem__ treating keys as positions is deprecated. In a future version, integer keys will always be treated as labels (consistent with DataFrame behavior). To access a value by position, use `ser.iloc[pos]`\n",
      "  date = b[2]\n"
     ]
    },
    {
     "name": "stdout",
     "output_type": "stream",
     "text": [
      "done!\n",
      "433, 0\n",
      "generating for 2018-08-08 Kiki Bertens, Karolina Pliskova\n"
     ]
    },
    {
     "name": "stderr",
     "output_type": "stream",
     "text": [
      "/var/folders/pt/zlhpwgms1r38l09fb5f24y_80000gn/T/ipykernel_11826/3368081595.py:6: FutureWarning: Series.__getitem__ treating keys as positions is deprecated. In a future version, integer keys will always be treated as labels (consistent with DataFrame behavior). To access a value by position, use `ser.iloc[pos]`\n",
      "  n1 = b[0]\n",
      "/var/folders/pt/zlhpwgms1r38l09fb5f24y_80000gn/T/ipykernel_11826/3368081595.py:7: FutureWarning: Series.__getitem__ treating keys as positions is deprecated. In a future version, integer keys will always be treated as labels (consistent with DataFrame behavior). To access a value by position, use `ser.iloc[pos]`\n",
      "  n2 = b[1]\n",
      "/var/folders/pt/zlhpwgms1r38l09fb5f24y_80000gn/T/ipykernel_11826/3368081595.py:8: FutureWarning: Series.__getitem__ treating keys as positions is deprecated. In a future version, integer keys will always be treated as labels (consistent with DataFrame behavior). To access a value by position, use `ser.iloc[pos]`\n",
      "  date = b[2]\n"
     ]
    },
    {
     "name": "stdout",
     "output_type": "stream",
     "text": [
      "done!\n",
      "434, 0\n",
      "generating for 2018-08-08 Maria Sharapova, Daria Kasatkina\n"
     ]
    },
    {
     "name": "stderr",
     "output_type": "stream",
     "text": [
      "/var/folders/pt/zlhpwgms1r38l09fb5f24y_80000gn/T/ipykernel_11826/3368081595.py:6: FutureWarning: Series.__getitem__ treating keys as positions is deprecated. In a future version, integer keys will always be treated as labels (consistent with DataFrame behavior). To access a value by position, use `ser.iloc[pos]`\n",
      "  n1 = b[0]\n",
      "/var/folders/pt/zlhpwgms1r38l09fb5f24y_80000gn/T/ipykernel_11826/3368081595.py:7: FutureWarning: Series.__getitem__ treating keys as positions is deprecated. In a future version, integer keys will always be treated as labels (consistent with DataFrame behavior). To access a value by position, use `ser.iloc[pos]`\n",
      "  n2 = b[1]\n",
      "/var/folders/pt/zlhpwgms1r38l09fb5f24y_80000gn/T/ipykernel_11826/3368081595.py:8: FutureWarning: Series.__getitem__ treating keys as positions is deprecated. In a future version, integer keys will always be treated as labels (consistent with DataFrame behavior). To access a value by position, use `ser.iloc[pos]`\n",
      "  date = b[2]\n"
     ]
    },
    {
     "name": "stdout",
     "output_type": "stream",
     "text": [
      "done!\n",
      "435, 0\n",
      "generating for 2018-08-08 Elina Svitolina, Mihaela Buzarnescu\n"
     ]
    },
    {
     "name": "stderr",
     "output_type": "stream",
     "text": [
      "/var/folders/pt/zlhpwgms1r38l09fb5f24y_80000gn/T/ipykernel_11826/3368081595.py:6: FutureWarning: Series.__getitem__ treating keys as positions is deprecated. In a future version, integer keys will always be treated as labels (consistent with DataFrame behavior). To access a value by position, use `ser.iloc[pos]`\n",
      "  n1 = b[0]\n",
      "/var/folders/pt/zlhpwgms1r38l09fb5f24y_80000gn/T/ipykernel_11826/3368081595.py:7: FutureWarning: Series.__getitem__ treating keys as positions is deprecated. In a future version, integer keys will always be treated as labels (consistent with DataFrame behavior). To access a value by position, use `ser.iloc[pos]`\n",
      "  n2 = b[1]\n",
      "/var/folders/pt/zlhpwgms1r38l09fb5f24y_80000gn/T/ipykernel_11826/3368081595.py:8: FutureWarning: Series.__getitem__ treating keys as positions is deprecated. In a future version, integer keys will always be treated as labels (consistent with DataFrame behavior). To access a value by position, use `ser.iloc[pos]`\n",
      "  date = b[2]\n"
     ]
    },
    {
     "name": "stdout",
     "output_type": "stream",
     "text": [
      "done!\n",
      "436, 0\n",
      "generating for 2018-08-08 Elise Mertens, Shuai Zhang\n"
     ]
    },
    {
     "name": "stderr",
     "output_type": "stream",
     "text": [
      "/var/folders/pt/zlhpwgms1r38l09fb5f24y_80000gn/T/ipykernel_11826/3368081595.py:6: FutureWarning: Series.__getitem__ treating keys as positions is deprecated. In a future version, integer keys will always be treated as labels (consistent with DataFrame behavior). To access a value by position, use `ser.iloc[pos]`\n",
      "  n1 = b[0]\n",
      "/var/folders/pt/zlhpwgms1r38l09fb5f24y_80000gn/T/ipykernel_11826/3368081595.py:7: FutureWarning: Series.__getitem__ treating keys as positions is deprecated. In a future version, integer keys will always be treated as labels (consistent with DataFrame behavior). To access a value by position, use `ser.iloc[pos]`\n",
      "  n2 = b[1]\n",
      "/var/folders/pt/zlhpwgms1r38l09fb5f24y_80000gn/T/ipykernel_11826/3368081595.py:8: FutureWarning: Series.__getitem__ treating keys as positions is deprecated. In a future version, integer keys will always be treated as labels (consistent with DataFrame behavior). To access a value by position, use `ser.iloc[pos]`\n",
      "  date = b[2]\n"
     ]
    },
    {
     "name": "stdout",
     "output_type": "stream",
     "text": [
      "done!\n",
      "437, 0\n",
      "generating for 2018-08-09 Aryna Sabalenka, Caroline Wozniacki\n"
     ]
    },
    {
     "name": "stderr",
     "output_type": "stream",
     "text": [
      "/var/folders/pt/zlhpwgms1r38l09fb5f24y_80000gn/T/ipykernel_11826/3368081595.py:6: FutureWarning: Series.__getitem__ treating keys as positions is deprecated. In a future version, integer keys will always be treated as labels (consistent with DataFrame behavior). To access a value by position, use `ser.iloc[pos]`\n",
      "  n1 = b[0]\n",
      "/var/folders/pt/zlhpwgms1r38l09fb5f24y_80000gn/T/ipykernel_11826/3368081595.py:7: FutureWarning: Series.__getitem__ treating keys as positions is deprecated. In a future version, integer keys will always be treated as labels (consistent with DataFrame behavior). To access a value by position, use `ser.iloc[pos]`\n",
      "  n2 = b[1]\n",
      "/var/folders/pt/zlhpwgms1r38l09fb5f24y_80000gn/T/ipykernel_11826/3368081595.py:8: FutureWarning: Series.__getitem__ treating keys as positions is deprecated. In a future version, integer keys will always be treated as labels (consistent with DataFrame behavior). To access a value by position, use `ser.iloc[pos]`\n",
      "  date = b[2]\n"
     ]
    },
    {
     "name": "stdout",
     "output_type": "stream",
     "text": [
      "done!\n",
      "438, 0\n",
      "generating for 2018-08-09 Sloane Stephens, Carla Suarez Navarro\n"
     ]
    },
    {
     "name": "stderr",
     "output_type": "stream",
     "text": [
      "/var/folders/pt/zlhpwgms1r38l09fb5f24y_80000gn/T/ipykernel_11826/3368081595.py:6: FutureWarning: Series.__getitem__ treating keys as positions is deprecated. In a future version, integer keys will always be treated as labels (consistent with DataFrame behavior). To access a value by position, use `ser.iloc[pos]`\n",
      "  n1 = b[0]\n",
      "/var/folders/pt/zlhpwgms1r38l09fb5f24y_80000gn/T/ipykernel_11826/3368081595.py:7: FutureWarning: Series.__getitem__ treating keys as positions is deprecated. In a future version, integer keys will always be treated as labels (consistent with DataFrame behavior). To access a value by position, use `ser.iloc[pos]`\n",
      "  n2 = b[1]\n",
      "/var/folders/pt/zlhpwgms1r38l09fb5f24y_80000gn/T/ipykernel_11826/3368081595.py:8: FutureWarning: Series.__getitem__ treating keys as positions is deprecated. In a future version, integer keys will always be treated as labels (consistent with DataFrame behavior). To access a value by position, use `ser.iloc[pos]`\n",
      "  date = b[2]\n"
     ]
    },
    {
     "name": "stdout",
     "output_type": "stream",
     "text": [
      "done!\n",
      "439, 0\n",
      "generating for 2018-08-09 Anastasija Sevastova, Julia Goerges\n"
     ]
    },
    {
     "name": "stderr",
     "output_type": "stream",
     "text": [
      "/var/folders/pt/zlhpwgms1r38l09fb5f24y_80000gn/T/ipykernel_11826/3368081595.py:6: FutureWarning: Series.__getitem__ treating keys as positions is deprecated. In a future version, integer keys will always be treated as labels (consistent with DataFrame behavior). To access a value by position, use `ser.iloc[pos]`\n",
      "  n1 = b[0]\n",
      "/var/folders/pt/zlhpwgms1r38l09fb5f24y_80000gn/T/ipykernel_11826/3368081595.py:7: FutureWarning: Series.__getitem__ treating keys as positions is deprecated. In a future version, integer keys will always be treated as labels (consistent with DataFrame behavior). To access a value by position, use `ser.iloc[pos]`\n",
      "  n2 = b[1]\n",
      "/var/folders/pt/zlhpwgms1r38l09fb5f24y_80000gn/T/ipykernel_11826/3368081595.py:8: FutureWarning: Series.__getitem__ treating keys as positions is deprecated. In a future version, integer keys will always be treated as labels (consistent with DataFrame behavior). To access a value by position, use `ser.iloc[pos]`\n",
      "  date = b[2]\n"
     ]
    },
    {
     "name": "stdout",
     "output_type": "stream",
     "text": [
      "done!\n",
      "440, 0\n",
      "generating for 2018-08-09 Elina Svitolina, Johanna Konta\n"
     ]
    },
    {
     "name": "stderr",
     "output_type": "stream",
     "text": [
      "/var/folders/pt/zlhpwgms1r38l09fb5f24y_80000gn/T/ipykernel_11826/3368081595.py:6: FutureWarning: Series.__getitem__ treating keys as positions is deprecated. In a future version, integer keys will always be treated as labels (consistent with DataFrame behavior). To access a value by position, use `ser.iloc[pos]`\n",
      "  n1 = b[0]\n",
      "/var/folders/pt/zlhpwgms1r38l09fb5f24y_80000gn/T/ipykernel_11826/3368081595.py:7: FutureWarning: Series.__getitem__ treating keys as positions is deprecated. In a future version, integer keys will always be treated as labels (consistent with DataFrame behavior). To access a value by position, use `ser.iloc[pos]`\n",
      "  n2 = b[1]\n",
      "/var/folders/pt/zlhpwgms1r38l09fb5f24y_80000gn/T/ipykernel_11826/3368081595.py:8: FutureWarning: Series.__getitem__ treating keys as positions is deprecated. In a future version, integer keys will always be treated as labels (consistent with DataFrame behavior). To access a value by position, use `ser.iloc[pos]`\n",
      "  date = b[2]\n"
     ]
    },
    {
     "name": "stdout",
     "output_type": "stream",
     "text": [
      "done!\n",
      "441, 0\n",
      "generating for 2018-08-10 Elise Mertens, Aryna Sabalenka\n"
     ]
    },
    {
     "name": "stderr",
     "output_type": "stream",
     "text": [
      "/var/folders/pt/zlhpwgms1r38l09fb5f24y_80000gn/T/ipykernel_11826/3368081595.py:6: FutureWarning: Series.__getitem__ treating keys as positions is deprecated. In a future version, integer keys will always be treated as labels (consistent with DataFrame behavior). To access a value by position, use `ser.iloc[pos]`\n",
      "  n1 = b[0]\n",
      "/var/folders/pt/zlhpwgms1r38l09fb5f24y_80000gn/T/ipykernel_11826/3368081595.py:7: FutureWarning: Series.__getitem__ treating keys as positions is deprecated. In a future version, integer keys will always be treated as labels (consistent with DataFrame behavior). To access a value by position, use `ser.iloc[pos]`\n",
      "  n2 = b[1]\n",
      "/var/folders/pt/zlhpwgms1r38l09fb5f24y_80000gn/T/ipykernel_11826/3368081595.py:8: FutureWarning: Series.__getitem__ treating keys as positions is deprecated. In a future version, integer keys will always be treated as labels (consistent with DataFrame behavior). To access a value by position, use `ser.iloc[pos]`\n",
      "  date = b[2]\n"
     ]
    },
    {
     "name": "stdout",
     "output_type": "stream",
     "text": [
      "done!\n",
      "442, 0\n",
      "generating for 2018-08-10 Simona Halep, Venus Williams\n"
     ]
    },
    {
     "name": "stderr",
     "output_type": "stream",
     "text": [
      "/var/folders/pt/zlhpwgms1r38l09fb5f24y_80000gn/T/ipykernel_11826/3368081595.py:6: FutureWarning: Series.__getitem__ treating keys as positions is deprecated. In a future version, integer keys will always be treated as labels (consistent with DataFrame behavior). To access a value by position, use `ser.iloc[pos]`\n",
      "  n1 = b[0]\n",
      "/var/folders/pt/zlhpwgms1r38l09fb5f24y_80000gn/T/ipykernel_11826/3368081595.py:7: FutureWarning: Series.__getitem__ treating keys as positions is deprecated. In a future version, integer keys will always be treated as labels (consistent with DataFrame behavior). To access a value by position, use `ser.iloc[pos]`\n",
      "  n2 = b[1]\n",
      "/var/folders/pt/zlhpwgms1r38l09fb5f24y_80000gn/T/ipykernel_11826/3368081595.py:8: FutureWarning: Series.__getitem__ treating keys as positions is deprecated. In a future version, integer keys will always be treated as labels (consistent with DataFrame behavior). To access a value by position, use `ser.iloc[pos]`\n",
      "  date = b[2]\n"
     ]
    },
    {
     "name": "stdout",
     "output_type": "stream",
     "text": [
      "done!\n",
      "443, 0\n",
      "generating for 2018-08-10 Ashleigh Barty, Kiki Bertens\n"
     ]
    },
    {
     "name": "stderr",
     "output_type": "stream",
     "text": [
      "/var/folders/pt/zlhpwgms1r38l09fb5f24y_80000gn/T/ipykernel_11826/3368081595.py:6: FutureWarning: Series.__getitem__ treating keys as positions is deprecated. In a future version, integer keys will always be treated as labels (consistent with DataFrame behavior). To access a value by position, use `ser.iloc[pos]`\n",
      "  n1 = b[0]\n",
      "/var/folders/pt/zlhpwgms1r38l09fb5f24y_80000gn/T/ipykernel_11826/3368081595.py:7: FutureWarning: Series.__getitem__ treating keys as positions is deprecated. In a future version, integer keys will always be treated as labels (consistent with DataFrame behavior). To access a value by position, use `ser.iloc[pos]`\n",
      "  n2 = b[1]\n",
      "/var/folders/pt/zlhpwgms1r38l09fb5f24y_80000gn/T/ipykernel_11826/3368081595.py:8: FutureWarning: Series.__getitem__ treating keys as positions is deprecated. In a future version, integer keys will always be treated as labels (consistent with DataFrame behavior). To access a value by position, use `ser.iloc[pos]`\n",
      "  date = b[2]\n"
     ]
    },
    {
     "name": "stdout",
     "output_type": "stream",
     "text": [
      "done!\n",
      "444, 0\n",
      "generating for 2018-08-10 Sloane Stephens, Anastasija Sevastova\n"
     ]
    },
    {
     "name": "stderr",
     "output_type": "stream",
     "text": [
      "/var/folders/pt/zlhpwgms1r38l09fb5f24y_80000gn/T/ipykernel_11826/3368081595.py:6: FutureWarning: Series.__getitem__ treating keys as positions is deprecated. In a future version, integer keys will always be treated as labels (consistent with DataFrame behavior). To access a value by position, use `ser.iloc[pos]`\n",
      "  n1 = b[0]\n",
      "/var/folders/pt/zlhpwgms1r38l09fb5f24y_80000gn/T/ipykernel_11826/3368081595.py:7: FutureWarning: Series.__getitem__ treating keys as positions is deprecated. In a future version, integer keys will always be treated as labels (consistent with DataFrame behavior). To access a value by position, use `ser.iloc[pos]`\n",
      "  n2 = b[1]\n",
      "/var/folders/pt/zlhpwgms1r38l09fb5f24y_80000gn/T/ipykernel_11826/3368081595.py:8: FutureWarning: Series.__getitem__ treating keys as positions is deprecated. In a future version, integer keys will always be treated as labels (consistent with DataFrame behavior). To access a value by position, use `ser.iloc[pos]`\n",
      "  date = b[2]\n"
     ]
    },
    {
     "name": "stdout",
     "output_type": "stream",
     "text": [
      "done!\n",
      "445, 0\n",
      "generating for 2018-08-10 Simona Halep, Caroline Garcia\n"
     ]
    },
    {
     "name": "stderr",
     "output_type": "stream",
     "text": [
      "/var/folders/pt/zlhpwgms1r38l09fb5f24y_80000gn/T/ipykernel_11826/3368081595.py:6: FutureWarning: Series.__getitem__ treating keys as positions is deprecated. In a future version, integer keys will always be treated as labels (consistent with DataFrame behavior). To access a value by position, use `ser.iloc[pos]`\n",
      "  n1 = b[0]\n",
      "/var/folders/pt/zlhpwgms1r38l09fb5f24y_80000gn/T/ipykernel_11826/3368081595.py:7: FutureWarning: Series.__getitem__ treating keys as positions is deprecated. In a future version, integer keys will always be treated as labels (consistent with DataFrame behavior). To access a value by position, use `ser.iloc[pos]`\n",
      "  n2 = b[1]\n",
      "/var/folders/pt/zlhpwgms1r38l09fb5f24y_80000gn/T/ipykernel_11826/3368081595.py:8: FutureWarning: Series.__getitem__ treating keys as positions is deprecated. In a future version, integer keys will always be treated as labels (consistent with DataFrame behavior). To access a value by position, use `ser.iloc[pos]`\n",
      "  date = b[2]\n"
     ]
    },
    {
     "name": "stdout",
     "output_type": "stream",
     "text": [
      "done!\n",
      "446, 0\n",
      "generating for 2018-08-11 Elina Svitolina, Elise Mertens\n"
     ]
    },
    {
     "name": "stderr",
     "output_type": "stream",
     "text": [
      "/var/folders/pt/zlhpwgms1r38l09fb5f24y_80000gn/T/ipykernel_11826/3368081595.py:6: FutureWarning: Series.__getitem__ treating keys as positions is deprecated. In a future version, integer keys will always be treated as labels (consistent with DataFrame behavior). To access a value by position, use `ser.iloc[pos]`\n",
      "  n1 = b[0]\n",
      "/var/folders/pt/zlhpwgms1r38l09fb5f24y_80000gn/T/ipykernel_11826/3368081595.py:7: FutureWarning: Series.__getitem__ treating keys as positions is deprecated. In a future version, integer keys will always be treated as labels (consistent with DataFrame behavior). To access a value by position, use `ser.iloc[pos]`\n",
      "  n2 = b[1]\n",
      "/var/folders/pt/zlhpwgms1r38l09fb5f24y_80000gn/T/ipykernel_11826/3368081595.py:8: FutureWarning: Series.__getitem__ treating keys as positions is deprecated. In a future version, integer keys will always be treated as labels (consistent with DataFrame behavior). To access a value by position, use `ser.iloc[pos]`\n",
      "  date = b[2]\n"
     ]
    },
    {
     "name": "stdout",
     "output_type": "stream",
     "text": [
      "done!\n",
      "447, 0\n",
      "generating for 2018-08-11 Simona Halep, Ashleigh Barty\n"
     ]
    },
    {
     "name": "stderr",
     "output_type": "stream",
     "text": [
      "/var/folders/pt/zlhpwgms1r38l09fb5f24y_80000gn/T/ipykernel_11826/3368081595.py:6: FutureWarning: Series.__getitem__ treating keys as positions is deprecated. In a future version, integer keys will always be treated as labels (consistent with DataFrame behavior). To access a value by position, use `ser.iloc[pos]`\n",
      "  n1 = b[0]\n",
      "/var/folders/pt/zlhpwgms1r38l09fb5f24y_80000gn/T/ipykernel_11826/3368081595.py:7: FutureWarning: Series.__getitem__ treating keys as positions is deprecated. In a future version, integer keys will always be treated as labels (consistent with DataFrame behavior). To access a value by position, use `ser.iloc[pos]`\n",
      "  n2 = b[1]\n",
      "/var/folders/pt/zlhpwgms1r38l09fb5f24y_80000gn/T/ipykernel_11826/3368081595.py:8: FutureWarning: Series.__getitem__ treating keys as positions is deprecated. In a future version, integer keys will always be treated as labels (consistent with DataFrame behavior). To access a value by position, use `ser.iloc[pos]`\n",
      "  date = b[2]\n"
     ]
    },
    {
     "name": "stdout",
     "output_type": "stream",
     "text": [
      "done!\n",
      "448, 0\n",
      "generating for 2018-08-11 Sloane Stephens, Elina Svitolina\n"
     ]
    },
    {
     "name": "stderr",
     "output_type": "stream",
     "text": [
      "/var/folders/pt/zlhpwgms1r38l09fb5f24y_80000gn/T/ipykernel_11826/3368081595.py:6: FutureWarning: Series.__getitem__ treating keys as positions is deprecated. In a future version, integer keys will always be treated as labels (consistent with DataFrame behavior). To access a value by position, use `ser.iloc[pos]`\n",
      "  n1 = b[0]\n",
      "/var/folders/pt/zlhpwgms1r38l09fb5f24y_80000gn/T/ipykernel_11826/3368081595.py:7: FutureWarning: Series.__getitem__ treating keys as positions is deprecated. In a future version, integer keys will always be treated as labels (consistent with DataFrame behavior). To access a value by position, use `ser.iloc[pos]`\n",
      "  n2 = b[1]\n",
      "/var/folders/pt/zlhpwgms1r38l09fb5f24y_80000gn/T/ipykernel_11826/3368081595.py:8: FutureWarning: Series.__getitem__ treating keys as positions is deprecated. In a future version, integer keys will always be treated as labels (consistent with DataFrame behavior). To access a value by position, use `ser.iloc[pos]`\n",
      "  date = b[2]\n"
     ]
    },
    {
     "name": "stdout",
     "output_type": "stream",
     "text": [
      "done!\n",
      "449, 0\n",
      "generating for 2018-08-13 Aryna Sabalenka, Johanna Konta\n"
     ]
    },
    {
     "name": "stderr",
     "output_type": "stream",
     "text": [
      "/var/folders/pt/zlhpwgms1r38l09fb5f24y_80000gn/T/ipykernel_11826/3368081595.py:6: FutureWarning: Series.__getitem__ treating keys as positions is deprecated. In a future version, integer keys will always be treated as labels (consistent with DataFrame behavior). To access a value by position, use `ser.iloc[pos]`\n",
      "  n1 = b[0]\n",
      "/var/folders/pt/zlhpwgms1r38l09fb5f24y_80000gn/T/ipykernel_11826/3368081595.py:7: FutureWarning: Series.__getitem__ treating keys as positions is deprecated. In a future version, integer keys will always be treated as labels (consistent with DataFrame behavior). To access a value by position, use `ser.iloc[pos]`\n",
      "  n2 = b[1]\n",
      "/var/folders/pt/zlhpwgms1r38l09fb5f24y_80000gn/T/ipykernel_11826/3368081595.py:8: FutureWarning: Series.__getitem__ treating keys as positions is deprecated. In a future version, integer keys will always be treated as labels (consistent with DataFrame behavior). To access a value by position, use `ser.iloc[pos]`\n",
      "  date = b[2]\n"
     ]
    },
    {
     "name": "stdout",
     "output_type": "stream",
     "text": [
      "done!\n",
      "450, 0\n",
      "generating for 2018-08-14 Alize Cornet, Jelena Ostapenko\n"
     ]
    },
    {
     "name": "stderr",
     "output_type": "stream",
     "text": [
      "/var/folders/pt/zlhpwgms1r38l09fb5f24y_80000gn/T/ipykernel_11826/3368081595.py:6: FutureWarning: Series.__getitem__ treating keys as positions is deprecated. In a future version, integer keys will always be treated as labels (consistent with DataFrame behavior). To access a value by position, use `ser.iloc[pos]`\n",
      "  n1 = b[0]\n",
      "/var/folders/pt/zlhpwgms1r38l09fb5f24y_80000gn/T/ipykernel_11826/3368081595.py:7: FutureWarning: Series.__getitem__ treating keys as positions is deprecated. In a future version, integer keys will always be treated as labels (consistent with DataFrame behavior). To access a value by position, use `ser.iloc[pos]`\n",
      "  n2 = b[1]\n",
      "/var/folders/pt/zlhpwgms1r38l09fb5f24y_80000gn/T/ipykernel_11826/3368081595.py:8: FutureWarning: Series.__getitem__ treating keys as positions is deprecated. In a future version, integer keys will always be treated as labels (consistent with DataFrame behavior). To access a value by position, use `ser.iloc[pos]`\n",
      "  date = b[2]\n"
     ]
    },
    {
     "name": "stdout",
     "output_type": "stream",
     "text": [
      "done!\n",
      "451, 0\n",
      "generating for 2018-08-14 Elise Mertens, Magdalena Rybarikova\n"
     ]
    },
    {
     "name": "stderr",
     "output_type": "stream",
     "text": [
      "/var/folders/pt/zlhpwgms1r38l09fb5f24y_80000gn/T/ipykernel_11826/3368081595.py:6: FutureWarning: Series.__getitem__ treating keys as positions is deprecated. In a future version, integer keys will always be treated as labels (consistent with DataFrame behavior). To access a value by position, use `ser.iloc[pos]`\n",
      "  n1 = b[0]\n",
      "/var/folders/pt/zlhpwgms1r38l09fb5f24y_80000gn/T/ipykernel_11826/3368081595.py:7: FutureWarning: Series.__getitem__ treating keys as positions is deprecated. In a future version, integer keys will always be treated as labels (consistent with DataFrame behavior). To access a value by position, use `ser.iloc[pos]`\n",
      "  n2 = b[1]\n",
      "/var/folders/pt/zlhpwgms1r38l09fb5f24y_80000gn/T/ipykernel_11826/3368081595.py:8: FutureWarning: Series.__getitem__ treating keys as positions is deprecated. In a future version, integer keys will always be treated as labels (consistent with DataFrame behavior). To access a value by position, use `ser.iloc[pos]`\n",
      "  date = b[2]\n"
     ]
    },
    {
     "name": "stdout",
     "output_type": "stream",
     "text": [
      "done!\n",
      "452, 0\n",
      "generating for 2018-08-14 Karolina Pliskova, Agnieszka Radwanska\n"
     ]
    },
    {
     "name": "stderr",
     "output_type": "stream",
     "text": [
      "/var/folders/pt/zlhpwgms1r38l09fb5f24y_80000gn/T/ipykernel_11826/3368081595.py:6: FutureWarning: Series.__getitem__ treating keys as positions is deprecated. In a future version, integer keys will always be treated as labels (consistent with DataFrame behavior). To access a value by position, use `ser.iloc[pos]`\n",
      "  n1 = b[0]\n",
      "/var/folders/pt/zlhpwgms1r38l09fb5f24y_80000gn/T/ipykernel_11826/3368081595.py:7: FutureWarning: Series.__getitem__ treating keys as positions is deprecated. In a future version, integer keys will always be treated as labels (consistent with DataFrame behavior). To access a value by position, use `ser.iloc[pos]`\n",
      "  n2 = b[1]\n",
      "/var/folders/pt/zlhpwgms1r38l09fb5f24y_80000gn/T/ipykernel_11826/3368081595.py:8: FutureWarning: Series.__getitem__ treating keys as positions is deprecated. In a future version, integer keys will always be treated as labels (consistent with DataFrame behavior). To access a value by position, use `ser.iloc[pos]`\n",
      "  date = b[2]\n"
     ]
    },
    {
     "name": "stdout",
     "output_type": "stream",
     "text": [
      "done!\n",
      "453, 0\n",
      "generating for 2018-08-14 Kiki Bertens, Coco Vandeweghe\n"
     ]
    },
    {
     "name": "stderr",
     "output_type": "stream",
     "text": [
      "/var/folders/pt/zlhpwgms1r38l09fb5f24y_80000gn/T/ipykernel_11826/3368081595.py:6: FutureWarning: Series.__getitem__ treating keys as positions is deprecated. In a future version, integer keys will always be treated as labels (consistent with DataFrame behavior). To access a value by position, use `ser.iloc[pos]`\n",
      "  n1 = b[0]\n",
      "/var/folders/pt/zlhpwgms1r38l09fb5f24y_80000gn/T/ipykernel_11826/3368081595.py:7: FutureWarning: Series.__getitem__ treating keys as positions is deprecated. In a future version, integer keys will always be treated as labels (consistent with DataFrame behavior). To access a value by position, use `ser.iloc[pos]`\n",
      "  n2 = b[1]\n",
      "/var/folders/pt/zlhpwgms1r38l09fb5f24y_80000gn/T/ipykernel_11826/3368081595.py:8: FutureWarning: Series.__getitem__ treating keys as positions is deprecated. In a future version, integer keys will always be treated as labels (consistent with DataFrame behavior). To access a value by position, use `ser.iloc[pos]`\n",
      "  date = b[2]\n"
     ]
    },
    {
     "name": "stdout",
     "output_type": "stream",
     "text": [
      "done!\n",
      "454, 0\n",
      "generating for 2018-08-14 Petra Martic, Daria Kasatkina\n"
     ]
    },
    {
     "name": "stderr",
     "output_type": "stream",
     "text": [
      "/var/folders/pt/zlhpwgms1r38l09fb5f24y_80000gn/T/ipykernel_11826/3368081595.py:6: FutureWarning: Series.__getitem__ treating keys as positions is deprecated. In a future version, integer keys will always be treated as labels (consistent with DataFrame behavior). To access a value by position, use `ser.iloc[pos]`\n",
      "  n1 = b[0]\n",
      "/var/folders/pt/zlhpwgms1r38l09fb5f24y_80000gn/T/ipykernel_11826/3368081595.py:7: FutureWarning: Series.__getitem__ treating keys as positions is deprecated. In a future version, integer keys will always be treated as labels (consistent with DataFrame behavior). To access a value by position, use `ser.iloc[pos]`\n",
      "  n2 = b[1]\n",
      "/var/folders/pt/zlhpwgms1r38l09fb5f24y_80000gn/T/ipykernel_11826/3368081595.py:8: FutureWarning: Series.__getitem__ treating keys as positions is deprecated. In a future version, integer keys will always be treated as labels (consistent with DataFrame behavior). To access a value by position, use `ser.iloc[pos]`\n",
      "  date = b[2]\n"
     ]
    },
    {
     "name": "stdout",
     "output_type": "stream",
     "text": [
      "done!\n",
      "455, 0\n",
      "generating for 2018-08-15 Elina Svitolina, Svetlana Kuznetsova\n"
     ]
    },
    {
     "name": "stderr",
     "output_type": "stream",
     "text": [
      "/var/folders/pt/zlhpwgms1r38l09fb5f24y_80000gn/T/ipykernel_11826/3368081595.py:6: FutureWarning: Series.__getitem__ treating keys as positions is deprecated. In a future version, integer keys will always be treated as labels (consistent with DataFrame behavior). To access a value by position, use `ser.iloc[pos]`\n",
      "  n1 = b[0]\n",
      "/var/folders/pt/zlhpwgms1r38l09fb5f24y_80000gn/T/ipykernel_11826/3368081595.py:7: FutureWarning: Series.__getitem__ treating keys as positions is deprecated. In a future version, integer keys will always be treated as labels (consistent with DataFrame behavior). To access a value by position, use `ser.iloc[pos]`\n",
      "  n2 = b[1]\n",
      "/var/folders/pt/zlhpwgms1r38l09fb5f24y_80000gn/T/ipykernel_11826/3368081595.py:8: FutureWarning: Series.__getitem__ treating keys as positions is deprecated. In a future version, integer keys will always be treated as labels (consistent with DataFrame behavior). To access a value by position, use `ser.iloc[pos]`\n",
      "  date = b[2]\n"
     ]
    },
    {
     "name": "stdout",
     "output_type": "stream",
     "text": [
      "done!\n",
      "456, 0\n",
      "generating for 2018-08-15 Aryna Sabalenka, Karolina Pliskova\n"
     ]
    },
    {
     "name": "stderr",
     "output_type": "stream",
     "text": [
      "/var/folders/pt/zlhpwgms1r38l09fb5f24y_80000gn/T/ipykernel_11826/3368081595.py:6: FutureWarning: Series.__getitem__ treating keys as positions is deprecated. In a future version, integer keys will always be treated as labels (consistent with DataFrame behavior). To access a value by position, use `ser.iloc[pos]`\n",
      "  n1 = b[0]\n",
      "/var/folders/pt/zlhpwgms1r38l09fb5f24y_80000gn/T/ipykernel_11826/3368081595.py:7: FutureWarning: Series.__getitem__ treating keys as positions is deprecated. In a future version, integer keys will always be treated as labels (consistent with DataFrame behavior). To access a value by position, use `ser.iloc[pos]`\n",
      "  n2 = b[1]\n",
      "/var/folders/pt/zlhpwgms1r38l09fb5f24y_80000gn/T/ipykernel_11826/3368081595.py:8: FutureWarning: Series.__getitem__ treating keys as positions is deprecated. In a future version, integer keys will always be treated as labels (consistent with DataFrame behavior). To access a value by position, use `ser.iloc[pos]`\n",
      "  date = b[2]\n"
     ]
    },
    {
     "name": "stdout",
     "output_type": "stream",
     "text": [
      "done!\n",
      "457, 0\n",
      "generating for 2018-08-15 Sloane Stephens, Tatjana Maria\n"
     ]
    },
    {
     "name": "stderr",
     "output_type": "stream",
     "text": [
      "/var/folders/pt/zlhpwgms1r38l09fb5f24y_80000gn/T/ipykernel_11826/3368081595.py:6: FutureWarning: Series.__getitem__ treating keys as positions is deprecated. In a future version, integer keys will always be treated as labels (consistent with DataFrame behavior). To access a value by position, use `ser.iloc[pos]`\n",
      "  n1 = b[0]\n",
      "/var/folders/pt/zlhpwgms1r38l09fb5f24y_80000gn/T/ipykernel_11826/3368081595.py:7: FutureWarning: Series.__getitem__ treating keys as positions is deprecated. In a future version, integer keys will always be treated as labels (consistent with DataFrame behavior). To access a value by position, use `ser.iloc[pos]`\n",
      "  n2 = b[1]\n",
      "/var/folders/pt/zlhpwgms1r38l09fb5f24y_80000gn/T/ipykernel_11826/3368081595.py:8: FutureWarning: Series.__getitem__ treating keys as positions is deprecated. In a future version, integer keys will always be treated as labels (consistent with DataFrame behavior). To access a value by position, use `ser.iloc[pos]`\n",
      "  date = b[2]\n"
     ]
    },
    {
     "name": "stdout",
     "output_type": "stream",
     "text": [
      "done!\n",
      "458, 0\n",
      "generating for 2018-08-15 Lesia Tsurenko, Garbine Muguruza\n"
     ]
    },
    {
     "name": "stderr",
     "output_type": "stream",
     "text": [
      "/var/folders/pt/zlhpwgms1r38l09fb5f24y_80000gn/T/ipykernel_11826/3368081595.py:6: FutureWarning: Series.__getitem__ treating keys as positions is deprecated. In a future version, integer keys will always be treated as labels (consistent with DataFrame behavior). To access a value by position, use `ser.iloc[pos]`\n",
      "  n1 = b[0]\n",
      "/var/folders/pt/zlhpwgms1r38l09fb5f24y_80000gn/T/ipykernel_11826/3368081595.py:7: FutureWarning: Series.__getitem__ treating keys as positions is deprecated. In a future version, integer keys will always be treated as labels (consistent with DataFrame behavior). To access a value by position, use `ser.iloc[pos]`\n",
      "  n2 = b[1]\n",
      "/var/folders/pt/zlhpwgms1r38l09fb5f24y_80000gn/T/ipykernel_11826/3368081595.py:8: FutureWarning: Series.__getitem__ treating keys as positions is deprecated. In a future version, integer keys will always be treated as labels (consistent with DataFrame behavior). To access a value by position, use `ser.iloc[pos]`\n",
      "  date = b[2]\n"
     ]
    },
    {
     "name": "stdout",
     "output_type": "stream",
     "text": [
      "done!\n",
      "459, 0\n",
      "generating for 2018-08-16 Kiki Bertens, Caroline Wozniacki\n"
     ]
    },
    {
     "name": "stderr",
     "output_type": "stream",
     "text": [
      "/var/folders/pt/zlhpwgms1r38l09fb5f24y_80000gn/T/ipykernel_11826/3368081595.py:6: FutureWarning: Series.__getitem__ treating keys as positions is deprecated. In a future version, integer keys will always be treated as labels (consistent with DataFrame behavior). To access a value by position, use `ser.iloc[pos]`\n",
      "  n1 = b[0]\n",
      "/var/folders/pt/zlhpwgms1r38l09fb5f24y_80000gn/T/ipykernel_11826/3368081595.py:7: FutureWarning: Series.__getitem__ treating keys as positions is deprecated. In a future version, integer keys will always be treated as labels (consistent with DataFrame behavior). To access a value by position, use `ser.iloc[pos]`\n",
      "  n2 = b[1]\n",
      "/var/folders/pt/zlhpwgms1r38l09fb5f24y_80000gn/T/ipykernel_11826/3368081595.py:8: FutureWarning: Series.__getitem__ treating keys as positions is deprecated. In a future version, integer keys will always be treated as labels (consistent with DataFrame behavior). To access a value by position, use `ser.iloc[pos]`\n",
      "  date = b[2]\n"
     ]
    },
    {
     "name": "stdout",
     "output_type": "stream",
     "text": [
      "done!\n",
      "460, 0\n",
      "generating for 2018-08-16 Aryna Sabalenka, Caroline Garcia\n"
     ]
    },
    {
     "name": "stderr",
     "output_type": "stream",
     "text": [
      "/var/folders/pt/zlhpwgms1r38l09fb5f24y_80000gn/T/ipykernel_11826/3368081595.py:6: FutureWarning: Series.__getitem__ treating keys as positions is deprecated. In a future version, integer keys will always be treated as labels (consistent with DataFrame behavior). To access a value by position, use `ser.iloc[pos]`\n",
      "  n1 = b[0]\n",
      "/var/folders/pt/zlhpwgms1r38l09fb5f24y_80000gn/T/ipykernel_11826/3368081595.py:7: FutureWarning: Series.__getitem__ treating keys as positions is deprecated. In a future version, integer keys will always be treated as labels (consistent with DataFrame behavior). To access a value by position, use `ser.iloc[pos]`\n",
      "  n2 = b[1]\n",
      "/var/folders/pt/zlhpwgms1r38l09fb5f24y_80000gn/T/ipykernel_11826/3368081595.py:8: FutureWarning: Series.__getitem__ treating keys as positions is deprecated. In a future version, integer keys will always be treated as labels (consistent with DataFrame behavior). To access a value by position, use `ser.iloc[pos]`\n",
      "  date = b[2]\n"
     ]
    },
    {
     "name": "stdout",
     "output_type": "stream",
     "text": [
      "done!\n",
      "461, 0\n",
      "generating for 2018-08-16 Elise Mertens, Sloane Stephens\n"
     ]
    },
    {
     "name": "stderr",
     "output_type": "stream",
     "text": [
      "/var/folders/pt/zlhpwgms1r38l09fb5f24y_80000gn/T/ipykernel_11826/3368081595.py:6: FutureWarning: Series.__getitem__ treating keys as positions is deprecated. In a future version, integer keys will always be treated as labels (consistent with DataFrame behavior). To access a value by position, use `ser.iloc[pos]`\n",
      "  n1 = b[0]\n",
      "/var/folders/pt/zlhpwgms1r38l09fb5f24y_80000gn/T/ipykernel_11826/3368081595.py:7: FutureWarning: Series.__getitem__ treating keys as positions is deprecated. In a future version, integer keys will always be treated as labels (consistent with DataFrame behavior). To access a value by position, use `ser.iloc[pos]`\n",
      "  n2 = b[1]\n",
      "/var/folders/pt/zlhpwgms1r38l09fb5f24y_80000gn/T/ipykernel_11826/3368081595.py:8: FutureWarning: Series.__getitem__ treating keys as positions is deprecated. In a future version, integer keys will always be treated as labels (consistent with DataFrame behavior). To access a value by position, use `ser.iloc[pos]`\n",
      "  date = b[2]\n"
     ]
    },
    {
     "name": "stdout",
     "output_type": "stream",
     "text": [
      "done!\n",
      "462, 0\n",
      "generating for 2018-08-17 Simona Halep, Ashleigh Barty\n"
     ]
    },
    {
     "name": "stderr",
     "output_type": "stream",
     "text": [
      "/var/folders/pt/zlhpwgms1r38l09fb5f24y_80000gn/T/ipykernel_11826/3368081595.py:6: FutureWarning: Series.__getitem__ treating keys as positions is deprecated. In a future version, integer keys will always be treated as labels (consistent with DataFrame behavior). To access a value by position, use `ser.iloc[pos]`\n",
      "  n1 = b[0]\n",
      "/var/folders/pt/zlhpwgms1r38l09fb5f24y_80000gn/T/ipykernel_11826/3368081595.py:7: FutureWarning: Series.__getitem__ treating keys as positions is deprecated. In a future version, integer keys will always be treated as labels (consistent with DataFrame behavior). To access a value by position, use `ser.iloc[pos]`\n",
      "  n2 = b[1]\n",
      "/var/folders/pt/zlhpwgms1r38l09fb5f24y_80000gn/T/ipykernel_11826/3368081595.py:8: FutureWarning: Series.__getitem__ treating keys as positions is deprecated. In a future version, integer keys will always be treated as labels (consistent with DataFrame behavior). To access a value by position, use `ser.iloc[pos]`\n",
      "  date = b[2]\n"
     ]
    },
    {
     "name": "stdout",
     "output_type": "stream",
     "text": [
      "done!\n",
      "463, 0\n",
      "generating for 2018-08-17 Kiki Bertens, Anett Kontaveit\n"
     ]
    },
    {
     "name": "stderr",
     "output_type": "stream",
     "text": [
      "/var/folders/pt/zlhpwgms1r38l09fb5f24y_80000gn/T/ipykernel_11826/3368081595.py:6: FutureWarning: Series.__getitem__ treating keys as positions is deprecated. In a future version, integer keys will always be treated as labels (consistent with DataFrame behavior). To access a value by position, use `ser.iloc[pos]`\n",
      "  n1 = b[0]\n",
      "/var/folders/pt/zlhpwgms1r38l09fb5f24y_80000gn/T/ipykernel_11826/3368081595.py:7: FutureWarning: Series.__getitem__ treating keys as positions is deprecated. In a future version, integer keys will always be treated as labels (consistent with DataFrame behavior). To access a value by position, use `ser.iloc[pos]`\n",
      "  n2 = b[1]\n",
      "/var/folders/pt/zlhpwgms1r38l09fb5f24y_80000gn/T/ipykernel_11826/3368081595.py:8: FutureWarning: Series.__getitem__ treating keys as positions is deprecated. In a future version, integer keys will always be treated as labels (consistent with DataFrame behavior). To access a value by position, use `ser.iloc[pos]`\n",
      "  date = b[2]\n"
     ]
    },
    {
     "name": "stdout",
     "output_type": "stream",
     "text": [
      "done!\n",
      "464, 0\n",
      "generating for 2018-08-17 Simona Halep, Lesia Tsurenko\n"
     ]
    },
    {
     "name": "stderr",
     "output_type": "stream",
     "text": [
      "/var/folders/pt/zlhpwgms1r38l09fb5f24y_80000gn/T/ipykernel_11826/3368081595.py:6: FutureWarning: Series.__getitem__ treating keys as positions is deprecated. In a future version, integer keys will always be treated as labels (consistent with DataFrame behavior). To access a value by position, use `ser.iloc[pos]`\n",
      "  n1 = b[0]\n",
      "/var/folders/pt/zlhpwgms1r38l09fb5f24y_80000gn/T/ipykernel_11826/3368081595.py:7: FutureWarning: Series.__getitem__ treating keys as positions is deprecated. In a future version, integer keys will always be treated as labels (consistent with DataFrame behavior). To access a value by position, use `ser.iloc[pos]`\n",
      "  n2 = b[1]\n",
      "/var/folders/pt/zlhpwgms1r38l09fb5f24y_80000gn/T/ipykernel_11826/3368081595.py:8: FutureWarning: Series.__getitem__ treating keys as positions is deprecated. In a future version, integer keys will always be treated as labels (consistent with DataFrame behavior). To access a value by position, use `ser.iloc[pos]`\n",
      "  date = b[2]\n"
     ]
    },
    {
     "name": "stdout",
     "output_type": "stream",
     "text": [
      "done!\n",
      "465, 0\n",
      "generating for 2018-08-17 Kiki Bertens, Elina Svitolina\n"
     ]
    },
    {
     "name": "stderr",
     "output_type": "stream",
     "text": [
      "/var/folders/pt/zlhpwgms1r38l09fb5f24y_80000gn/T/ipykernel_11826/3368081595.py:6: FutureWarning: Series.__getitem__ treating keys as positions is deprecated. In a future version, integer keys will always be treated as labels (consistent with DataFrame behavior). To access a value by position, use `ser.iloc[pos]`\n",
      "  n1 = b[0]\n",
      "/var/folders/pt/zlhpwgms1r38l09fb5f24y_80000gn/T/ipykernel_11826/3368081595.py:7: FutureWarning: Series.__getitem__ treating keys as positions is deprecated. In a future version, integer keys will always be treated as labels (consistent with DataFrame behavior). To access a value by position, use `ser.iloc[pos]`\n",
      "  n2 = b[1]\n",
      "/var/folders/pt/zlhpwgms1r38l09fb5f24y_80000gn/T/ipykernel_11826/3368081595.py:8: FutureWarning: Series.__getitem__ treating keys as positions is deprecated. In a future version, integer keys will always be treated as labels (consistent with DataFrame behavior). To access a value by position, use `ser.iloc[pos]`\n",
      "  date = b[2]\n"
     ]
    },
    {
     "name": "stdout",
     "output_type": "stream",
     "text": [
      "done!\n",
      "466, 0\n",
      "generating for 2018-08-18 Aryna Sabalenka, Madison Keys\n"
     ]
    },
    {
     "name": "stderr",
     "output_type": "stream",
     "text": [
      "/var/folders/pt/zlhpwgms1r38l09fb5f24y_80000gn/T/ipykernel_11826/3368081595.py:6: FutureWarning: Series.__getitem__ treating keys as positions is deprecated. In a future version, integer keys will always be treated as labels (consistent with DataFrame behavior). To access a value by position, use `ser.iloc[pos]`\n",
      "  n1 = b[0]\n",
      "/var/folders/pt/zlhpwgms1r38l09fb5f24y_80000gn/T/ipykernel_11826/3368081595.py:7: FutureWarning: Series.__getitem__ treating keys as positions is deprecated. In a future version, integer keys will always be treated as labels (consistent with DataFrame behavior). To access a value by position, use `ser.iloc[pos]`\n",
      "  n2 = b[1]\n",
      "/var/folders/pt/zlhpwgms1r38l09fb5f24y_80000gn/T/ipykernel_11826/3368081595.py:8: FutureWarning: Series.__getitem__ treating keys as positions is deprecated. In a future version, integer keys will always be treated as labels (consistent with DataFrame behavior). To access a value by position, use `ser.iloc[pos]`\n",
      "  date = b[2]\n"
     ]
    },
    {
     "name": "stdout",
     "output_type": "stream",
     "text": [
      "done!\n",
      "467, 0\n",
      "generating for 2018-08-19 Magdalena Rybarikova, Coco Vandeweghe\n"
     ]
    },
    {
     "name": "stderr",
     "output_type": "stream",
     "text": [
      "/var/folders/pt/zlhpwgms1r38l09fb5f24y_80000gn/T/ipykernel_11826/3368081595.py:6: FutureWarning: Series.__getitem__ treating keys as positions is deprecated. In a future version, integer keys will always be treated as labels (consistent with DataFrame behavior). To access a value by position, use `ser.iloc[pos]`\n",
      "  n1 = b[0]\n",
      "/var/folders/pt/zlhpwgms1r38l09fb5f24y_80000gn/T/ipykernel_11826/3368081595.py:7: FutureWarning: Series.__getitem__ treating keys as positions is deprecated. In a future version, integer keys will always be treated as labels (consistent with DataFrame behavior). To access a value by position, use `ser.iloc[pos]`\n",
      "  n2 = b[1]\n",
      "/var/folders/pt/zlhpwgms1r38l09fb5f24y_80000gn/T/ipykernel_11826/3368081595.py:8: FutureWarning: Series.__getitem__ treating keys as positions is deprecated. In a future version, integer keys will always be treated as labels (consistent with DataFrame behavior). To access a value by position, use `ser.iloc[pos]`\n",
      "  date = b[2]\n"
     ]
    },
    {
     "name": "stdout",
     "output_type": "stream",
     "text": [
      "done!\n",
      "468, 0\n",
      "generating for 2018-08-19 Julia Goerges, Dominika Cibulkova\n"
     ]
    },
    {
     "name": "stderr",
     "output_type": "stream",
     "text": [
      "/var/folders/pt/zlhpwgms1r38l09fb5f24y_80000gn/T/ipykernel_11826/3368081595.py:6: FutureWarning: Series.__getitem__ treating keys as positions is deprecated. In a future version, integer keys will always be treated as labels (consistent with DataFrame behavior). To access a value by position, use `ser.iloc[pos]`\n",
      "  n1 = b[0]\n",
      "/var/folders/pt/zlhpwgms1r38l09fb5f24y_80000gn/T/ipykernel_11826/3368081595.py:7: FutureWarning: Series.__getitem__ treating keys as positions is deprecated. In a future version, integer keys will always be treated as labels (consistent with DataFrame behavior). To access a value by position, use `ser.iloc[pos]`\n",
      "  n2 = b[1]\n",
      "/var/folders/pt/zlhpwgms1r38l09fb5f24y_80000gn/T/ipykernel_11826/3368081595.py:8: FutureWarning: Series.__getitem__ treating keys as positions is deprecated. In a future version, integer keys will always be treated as labels (consistent with DataFrame behavior). To access a value by position, use `ser.iloc[pos]`\n",
      "  date = b[2]\n"
     ]
    },
    {
     "name": "stdout",
     "output_type": "stream",
     "text": [
      "done!\n",
      "469, 0\n",
      "generating for 2018-08-20 Aliaksandra Sasnovich, Kristina Mladenovic\n"
     ]
    },
    {
     "name": "stderr",
     "output_type": "stream",
     "text": [
      "/var/folders/pt/zlhpwgms1r38l09fb5f24y_80000gn/T/ipykernel_11826/3368081595.py:6: FutureWarning: Series.__getitem__ treating keys as positions is deprecated. In a future version, integer keys will always be treated as labels (consistent with DataFrame behavior). To access a value by position, use `ser.iloc[pos]`\n",
      "  n1 = b[0]\n",
      "/var/folders/pt/zlhpwgms1r38l09fb5f24y_80000gn/T/ipykernel_11826/3368081595.py:7: FutureWarning: Series.__getitem__ treating keys as positions is deprecated. In a future version, integer keys will always be treated as labels (consistent with DataFrame behavior). To access a value by position, use `ser.iloc[pos]`\n",
      "  n2 = b[1]\n",
      "/var/folders/pt/zlhpwgms1r38l09fb5f24y_80000gn/T/ipykernel_11826/3368081595.py:8: FutureWarning: Series.__getitem__ treating keys as positions is deprecated. In a future version, integer keys will always be treated as labels (consistent with DataFrame behavior). To access a value by position, use `ser.iloc[pos]`\n",
      "  date = b[2]\n"
     ]
    },
    {
     "name": "stdout",
     "output_type": "stream",
     "text": [
      "done!\n",
      "470, 0\n",
      "generating for 2018-08-24 Aryna Sabalenka, Julia Goerges\n"
     ]
    },
    {
     "name": "stderr",
     "output_type": "stream",
     "text": [
      "/var/folders/pt/zlhpwgms1r38l09fb5f24y_80000gn/T/ipykernel_11826/3368081595.py:6: FutureWarning: Series.__getitem__ treating keys as positions is deprecated. In a future version, integer keys will always be treated as labels (consistent with DataFrame behavior). To access a value by position, use `ser.iloc[pos]`\n",
      "  n1 = b[0]\n",
      "/var/folders/pt/zlhpwgms1r38l09fb5f24y_80000gn/T/ipykernel_11826/3368081595.py:7: FutureWarning: Series.__getitem__ treating keys as positions is deprecated. In a future version, integer keys will always be treated as labels (consistent with DataFrame behavior). To access a value by position, use `ser.iloc[pos]`\n",
      "  n2 = b[1]\n",
      "/var/folders/pt/zlhpwgms1r38l09fb5f24y_80000gn/T/ipykernel_11826/3368081595.py:8: FutureWarning: Series.__getitem__ treating keys as positions is deprecated. In a future version, integer keys will always be treated as labels (consistent with DataFrame behavior). To access a value by position, use `ser.iloc[pos]`\n",
      "  date = b[2]\n"
     ]
    },
    {
     "name": "stdout",
     "output_type": "stream",
     "text": [
      "done!\n",
      "471, 0\n",
      "generating for 2018-08-27 Kaia Kanepi, Simona Halep\n"
     ]
    },
    {
     "name": "stderr",
     "output_type": "stream",
     "text": [
      "/var/folders/pt/zlhpwgms1r38l09fb5f24y_80000gn/T/ipykernel_11826/3368081595.py:6: FutureWarning: Series.__getitem__ treating keys as positions is deprecated. In a future version, integer keys will always be treated as labels (consistent with DataFrame behavior). To access a value by position, use `ser.iloc[pos]`\n",
      "  n1 = b[0]\n",
      "/var/folders/pt/zlhpwgms1r38l09fb5f24y_80000gn/T/ipykernel_11826/3368081595.py:7: FutureWarning: Series.__getitem__ treating keys as positions is deprecated. In a future version, integer keys will always be treated as labels (consistent with DataFrame behavior). To access a value by position, use `ser.iloc[pos]`\n",
      "  n2 = b[1]\n",
      "/var/folders/pt/zlhpwgms1r38l09fb5f24y_80000gn/T/ipykernel_11826/3368081595.py:8: FutureWarning: Series.__getitem__ treating keys as positions is deprecated. In a future version, integer keys will always be treated as labels (consistent with DataFrame behavior). To access a value by position, use `ser.iloc[pos]`\n",
      "  date = b[2]\n"
     ]
    },
    {
     "name": "stdout",
     "output_type": "stream",
     "text": [
      "done!\n",
      "472, 0\n",
      "generating for 2018-08-27 Garbine Muguruza, Shuai Zhang\n"
     ]
    },
    {
     "name": "stderr",
     "output_type": "stream",
     "text": [
      "/var/folders/pt/zlhpwgms1r38l09fb5f24y_80000gn/T/ipykernel_11826/3368081595.py:6: FutureWarning: Series.__getitem__ treating keys as positions is deprecated. In a future version, integer keys will always be treated as labels (consistent with DataFrame behavior). To access a value by position, use `ser.iloc[pos]`\n",
      "  n1 = b[0]\n",
      "/var/folders/pt/zlhpwgms1r38l09fb5f24y_80000gn/T/ipykernel_11826/3368081595.py:7: FutureWarning: Series.__getitem__ treating keys as positions is deprecated. In a future version, integer keys will always be treated as labels (consistent with DataFrame behavior). To access a value by position, use `ser.iloc[pos]`\n",
      "  n2 = b[1]\n",
      "/var/folders/pt/zlhpwgms1r38l09fb5f24y_80000gn/T/ipykernel_11826/3368081595.py:8: FutureWarning: Series.__getitem__ treating keys as positions is deprecated. In a future version, integer keys will always be treated as labels (consistent with DataFrame behavior). To access a value by position, use `ser.iloc[pos]`\n",
      "  date = b[2]\n"
     ]
    },
    {
     "name": "stdout",
     "output_type": "stream",
     "text": [
      "done!\n",
      "473, 0\n",
      "generating for 2018-08-27 Venus Williams, Svetlana Kuznetsova\n"
     ]
    },
    {
     "name": "stderr",
     "output_type": "stream",
     "text": [
      "/var/folders/pt/zlhpwgms1r38l09fb5f24y_80000gn/T/ipykernel_11826/3368081595.py:6: FutureWarning: Series.__getitem__ treating keys as positions is deprecated. In a future version, integer keys will always be treated as labels (consistent with DataFrame behavior). To access a value by position, use `ser.iloc[pos]`\n",
      "  n1 = b[0]\n",
      "/var/folders/pt/zlhpwgms1r38l09fb5f24y_80000gn/T/ipykernel_11826/3368081595.py:7: FutureWarning: Series.__getitem__ treating keys as positions is deprecated. In a future version, integer keys will always be treated as labels (consistent with DataFrame behavior). To access a value by position, use `ser.iloc[pos]`\n",
      "  n2 = b[1]\n",
      "/var/folders/pt/zlhpwgms1r38l09fb5f24y_80000gn/T/ipykernel_11826/3368081595.py:8: FutureWarning: Series.__getitem__ treating keys as positions is deprecated. In a future version, integer keys will always be treated as labels (consistent with DataFrame behavior). To access a value by position, use `ser.iloc[pos]`\n",
      "  date = b[2]\n"
     ]
    },
    {
     "name": "stdout",
     "output_type": "stream",
     "text": [
      "done!\n",
      "474, 0\n",
      "generating for 2018-08-27 Anastasija Sevastova, Donna Vekic\n"
     ]
    },
    {
     "name": "stderr",
     "output_type": "stream",
     "text": [
      "/var/folders/pt/zlhpwgms1r38l09fb5f24y_80000gn/T/ipykernel_11826/3368081595.py:6: FutureWarning: Series.__getitem__ treating keys as positions is deprecated. In a future version, integer keys will always be treated as labels (consistent with DataFrame behavior). To access a value by position, use `ser.iloc[pos]`\n",
      "  n1 = b[0]\n",
      "/var/folders/pt/zlhpwgms1r38l09fb5f24y_80000gn/T/ipykernel_11826/3368081595.py:7: FutureWarning: Series.__getitem__ treating keys as positions is deprecated. In a future version, integer keys will always be treated as labels (consistent with DataFrame behavior). To access a value by position, use `ser.iloc[pos]`\n",
      "  n2 = b[1]\n",
      "/var/folders/pt/zlhpwgms1r38l09fb5f24y_80000gn/T/ipykernel_11826/3368081595.py:8: FutureWarning: Series.__getitem__ treating keys as positions is deprecated. In a future version, integer keys will always be treated as labels (consistent with DataFrame behavior). To access a value by position, use `ser.iloc[pos]`\n",
      "  date = b[2]\n"
     ]
    },
    {
     "name": "stdout",
     "output_type": "stream",
     "text": [
      "done!\n",
      "475, 0\n",
      "generating for 2018-08-28 Caroline Wozniacki, Samantha Stosur\n"
     ]
    },
    {
     "name": "stderr",
     "output_type": "stream",
     "text": [
      "/var/folders/pt/zlhpwgms1r38l09fb5f24y_80000gn/T/ipykernel_11826/3368081595.py:6: FutureWarning: Series.__getitem__ treating keys as positions is deprecated. In a future version, integer keys will always be treated as labels (consistent with DataFrame behavior). To access a value by position, use `ser.iloc[pos]`\n",
      "  n1 = b[0]\n",
      "/var/folders/pt/zlhpwgms1r38l09fb5f24y_80000gn/T/ipykernel_11826/3368081595.py:7: FutureWarning: Series.__getitem__ treating keys as positions is deprecated. In a future version, integer keys will always be treated as labels (consistent with DataFrame behavior). To access a value by position, use `ser.iloc[pos]`\n",
      "  n2 = b[1]\n",
      "/var/folders/pt/zlhpwgms1r38l09fb5f24y_80000gn/T/ipykernel_11826/3368081595.py:8: FutureWarning: Series.__getitem__ treating keys as positions is deprecated. In a future version, integer keys will always be treated as labels (consistent with DataFrame behavior). To access a value by position, use `ser.iloc[pos]`\n",
      "  date = b[2]\n"
     ]
    },
    {
     "name": "stdout",
     "output_type": "stream",
     "text": [
      "done!\n",
      "476, 0\n",
      "generating for 2018-08-28 Kirsten Flipkens, Coco Vandeweghe\n"
     ]
    },
    {
     "name": "stderr",
     "output_type": "stream",
     "text": [
      "/var/folders/pt/zlhpwgms1r38l09fb5f24y_80000gn/T/ipykernel_11826/3368081595.py:6: FutureWarning: Series.__getitem__ treating keys as positions is deprecated. In a future version, integer keys will always be treated as labels (consistent with DataFrame behavior). To access a value by position, use `ser.iloc[pos]`\n",
      "  n1 = b[0]\n",
      "/var/folders/pt/zlhpwgms1r38l09fb5f24y_80000gn/T/ipykernel_11826/3368081595.py:7: FutureWarning: Series.__getitem__ treating keys as positions is deprecated. In a future version, integer keys will always be treated as labels (consistent with DataFrame behavior). To access a value by position, use `ser.iloc[pos]`\n",
      "  n2 = b[1]\n",
      "/var/folders/pt/zlhpwgms1r38l09fb5f24y_80000gn/T/ipykernel_11826/3368081595.py:8: FutureWarning: Series.__getitem__ treating keys as positions is deprecated. In a future version, integer keys will always be treated as labels (consistent with DataFrame behavior). To access a value by position, use `ser.iloc[pos]`\n",
      "  date = b[2]\n"
     ]
    },
    {
     "name": "stdout",
     "output_type": "stream",
     "text": [
      "done!\n",
      "477, 0\n",
      "generating for 2018-08-28 Kiki Bertens, Karolina Pliskova\n"
     ]
    },
    {
     "name": "stderr",
     "output_type": "stream",
     "text": [
      "/var/folders/pt/zlhpwgms1r38l09fb5f24y_80000gn/T/ipykernel_11826/3368081595.py:6: FutureWarning: Series.__getitem__ treating keys as positions is deprecated. In a future version, integer keys will always be treated as labels (consistent with DataFrame behavior). To access a value by position, use `ser.iloc[pos]`\n",
      "  n1 = b[0]\n",
      "/var/folders/pt/zlhpwgms1r38l09fb5f24y_80000gn/T/ipykernel_11826/3368081595.py:7: FutureWarning: Series.__getitem__ treating keys as positions is deprecated. In a future version, integer keys will always be treated as labels (consistent with DataFrame behavior). To access a value by position, use `ser.iloc[pos]`\n",
      "  n2 = b[1]\n",
      "/var/folders/pt/zlhpwgms1r38l09fb5f24y_80000gn/T/ipykernel_11826/3368081595.py:8: FutureWarning: Series.__getitem__ treating keys as positions is deprecated. In a future version, integer keys will always be treated as labels (consistent with DataFrame behavior). To access a value by position, use `ser.iloc[pos]`\n",
      "  date = b[2]\n"
     ]
    },
    {
     "name": "stdout",
     "output_type": "stream",
     "text": [
      "done!\n",
      "478, 0\n",
      "generating for 2018-08-28 Aliaksandra Sasnovich, Belinda Bencic\n"
     ]
    },
    {
     "name": "stderr",
     "output_type": "stream",
     "text": [
      "/var/folders/pt/zlhpwgms1r38l09fb5f24y_80000gn/T/ipykernel_11826/3368081595.py:6: FutureWarning: Series.__getitem__ treating keys as positions is deprecated. In a future version, integer keys will always be treated as labels (consistent with DataFrame behavior). To access a value by position, use `ser.iloc[pos]`\n",
      "  n1 = b[0]\n",
      "/var/folders/pt/zlhpwgms1r38l09fb5f24y_80000gn/T/ipykernel_11826/3368081595.py:7: FutureWarning: Series.__getitem__ treating keys as positions is deprecated. In a future version, integer keys will always be treated as labels (consistent with DataFrame behavior). To access a value by position, use `ser.iloc[pos]`\n",
      "  n2 = b[1]\n",
      "/var/folders/pt/zlhpwgms1r38l09fb5f24y_80000gn/T/ipykernel_11826/3368081595.py:8: FutureWarning: Series.__getitem__ treating keys as positions is deprecated. In a future version, integer keys will always be treated as labels (consistent with DataFrame behavior). To access a value by position, use `ser.iloc[pos]`\n",
      "  date = b[2]\n"
     ]
    },
    {
     "name": "stdout",
     "output_type": "stream",
     "text": [
      "done!\n",
      "479, 0\n",
      "generating for 2018-08-28 Caroline Garcia, Johanna Konta\n"
     ]
    },
    {
     "name": "stderr",
     "output_type": "stream",
     "text": [
      "/var/folders/pt/zlhpwgms1r38l09fb5f24y_80000gn/T/ipykernel_11826/3368081595.py:6: FutureWarning: Series.__getitem__ treating keys as positions is deprecated. In a future version, integer keys will always be treated as labels (consistent with DataFrame behavior). To access a value by position, use `ser.iloc[pos]`\n",
      "  n1 = b[0]\n",
      "/var/folders/pt/zlhpwgms1r38l09fb5f24y_80000gn/T/ipykernel_11826/3368081595.py:7: FutureWarning: Series.__getitem__ treating keys as positions is deprecated. In a future version, integer keys will always be treated as labels (consistent with DataFrame behavior). To access a value by position, use `ser.iloc[pos]`\n",
      "  n2 = b[1]\n",
      "/var/folders/pt/zlhpwgms1r38l09fb5f24y_80000gn/T/ipykernel_11826/3368081595.py:8: FutureWarning: Series.__getitem__ treating keys as positions is deprecated. In a future version, integer keys will always be treated as labels (consistent with DataFrame behavior). To access a value by position, use `ser.iloc[pos]`\n",
      "  date = b[2]\n"
     ]
    },
    {
     "name": "stdout",
     "output_type": "stream",
     "text": [
      "done!\n",
      "480, 0\n",
      "generating for 2018-08-29 Kristina Mladenovic, Tamara Zidansek\n"
     ]
    },
    {
     "name": "stderr",
     "output_type": "stream",
     "text": [
      "/var/folders/pt/zlhpwgms1r38l09fb5f24y_80000gn/T/ipykernel_11826/3368081595.py:6: FutureWarning: Series.__getitem__ treating keys as positions is deprecated. In a future version, integer keys will always be treated as labels (consistent with DataFrame behavior). To access a value by position, use `ser.iloc[pos]`\n",
      "  n1 = b[0]\n",
      "/var/folders/pt/zlhpwgms1r38l09fb5f24y_80000gn/T/ipykernel_11826/3368081595.py:7: FutureWarning: Series.__getitem__ treating keys as positions is deprecated. In a future version, integer keys will always be treated as labels (consistent with DataFrame behavior). To access a value by position, use `ser.iloc[pos]`\n",
      "  n2 = b[1]\n",
      "/var/folders/pt/zlhpwgms1r38l09fb5f24y_80000gn/T/ipykernel_11826/3368081595.py:8: FutureWarning: Series.__getitem__ treating keys as positions is deprecated. In a future version, integer keys will always be treated as labels (consistent with DataFrame behavior). To access a value by position, use `ser.iloc[pos]`\n",
      "  date = b[2]\n"
     ]
    },
    {
     "name": "stdout",
     "output_type": "stream",
     "text": [
      "done!\n",
      "481, 0\n",
      "generating for 2018-08-29 Elina Svitolina, Tatjana Maria\n"
     ]
    },
    {
     "name": "stderr",
     "output_type": "stream",
     "text": [
      "/var/folders/pt/zlhpwgms1r38l09fb5f24y_80000gn/T/ipykernel_11826/3368081595.py:6: FutureWarning: Series.__getitem__ treating keys as positions is deprecated. In a future version, integer keys will always be treated as labels (consistent with DataFrame behavior). To access a value by position, use `ser.iloc[pos]`\n",
      "  n1 = b[0]\n",
      "/var/folders/pt/zlhpwgms1r38l09fb5f24y_80000gn/T/ipykernel_11826/3368081595.py:7: FutureWarning: Series.__getitem__ treating keys as positions is deprecated. In a future version, integer keys will always be treated as labels (consistent with DataFrame behavior). To access a value by position, use `ser.iloc[pos]`\n",
      "  n2 = b[1]\n",
      "/var/folders/pt/zlhpwgms1r38l09fb5f24y_80000gn/T/ipykernel_11826/3368081595.py:8: FutureWarning: Series.__getitem__ treating keys as positions is deprecated. In a future version, integer keys will always be treated as labels (consistent with DataFrame behavior). To access a value by position, use `ser.iloc[pos]`\n",
      "  date = b[2]\n"
     ]
    },
    {
     "name": "stdout",
     "output_type": "stream",
     "text": [
      "done!\n",
      "482, 0\n",
      "generating for 2018-08-29 Qiang Wang, Irina Camelia Begu\n"
     ]
    },
    {
     "name": "stderr",
     "output_type": "stream",
     "text": [
      "/var/folders/pt/zlhpwgms1r38l09fb5f24y_80000gn/T/ipykernel_11826/3368081595.py:6: FutureWarning: Series.__getitem__ treating keys as positions is deprecated. In a future version, integer keys will always be treated as labels (consistent with DataFrame behavior). To access a value by position, use `ser.iloc[pos]`\n",
      "  n1 = b[0]\n",
      "/var/folders/pt/zlhpwgms1r38l09fb5f24y_80000gn/T/ipykernel_11826/3368081595.py:7: FutureWarning: Series.__getitem__ treating keys as positions is deprecated. In a future version, integer keys will always be treated as labels (consistent with DataFrame behavior). To access a value by position, use `ser.iloc[pos]`\n",
      "  n2 = b[1]\n",
      "/var/folders/pt/zlhpwgms1r38l09fb5f24y_80000gn/T/ipykernel_11826/3368081595.py:8: FutureWarning: Series.__getitem__ treating keys as positions is deprecated. In a future version, integer keys will always be treated as labels (consistent with DataFrame behavior). To access a value by position, use `ser.iloc[pos]`\n",
      "  date = b[2]\n"
     ]
    },
    {
     "name": "stdout",
     "output_type": "stream",
     "text": [
      "done!\n",
      "483, 0\n",
      "generating for 2018-08-30 Sofia Kenin, Maria Sakkari\n"
     ]
    },
    {
     "name": "stderr",
     "output_type": "stream",
     "text": [
      "/var/folders/pt/zlhpwgms1r38l09fb5f24y_80000gn/T/ipykernel_11826/3368081595.py:6: FutureWarning: Series.__getitem__ treating keys as positions is deprecated. In a future version, integer keys will always be treated as labels (consistent with DataFrame behavior). To access a value by position, use `ser.iloc[pos]`\n",
      "  n1 = b[0]\n",
      "/var/folders/pt/zlhpwgms1r38l09fb5f24y_80000gn/T/ipykernel_11826/3368081595.py:7: FutureWarning: Series.__getitem__ treating keys as positions is deprecated. In a future version, integer keys will always be treated as labels (consistent with DataFrame behavior). To access a value by position, use `ser.iloc[pos]`\n",
      "  n2 = b[1]\n",
      "/var/folders/pt/zlhpwgms1r38l09fb5f24y_80000gn/T/ipykernel_11826/3368081595.py:8: FutureWarning: Series.__getitem__ treating keys as positions is deprecated. In a future version, integer keys will always be treated as labels (consistent with DataFrame behavior). To access a value by position, use `ser.iloc[pos]`\n",
      "  date = b[2]\n"
     ]
    },
    {
     "name": "stdout",
     "output_type": "stream",
     "text": [
      "done!\n",
      "484, 0\n",
      "generating for 2018-08-30 Aliaksandra Sasnovich, Daria Kasatkina\n"
     ]
    },
    {
     "name": "stderr",
     "output_type": "stream",
     "text": [
      "/var/folders/pt/zlhpwgms1r38l09fb5f24y_80000gn/T/ipykernel_11826/3368081595.py:6: FutureWarning: Series.__getitem__ treating keys as positions is deprecated. In a future version, integer keys will always be treated as labels (consistent with DataFrame behavior). To access a value by position, use `ser.iloc[pos]`\n",
      "  n1 = b[0]\n",
      "/var/folders/pt/zlhpwgms1r38l09fb5f24y_80000gn/T/ipykernel_11826/3368081595.py:7: FutureWarning: Series.__getitem__ treating keys as positions is deprecated. In a future version, integer keys will always be treated as labels (consistent with DataFrame behavior). To access a value by position, use `ser.iloc[pos]`\n",
      "  n2 = b[1]\n",
      "/var/folders/pt/zlhpwgms1r38l09fb5f24y_80000gn/T/ipykernel_11826/3368081595.py:8: FutureWarning: Series.__getitem__ treating keys as positions is deprecated. In a future version, integer keys will always be treated as labels (consistent with DataFrame behavior). To access a value by position, use `ser.iloc[pos]`\n",
      "  date = b[2]\n"
     ]
    },
    {
     "name": "stdout",
     "output_type": "stream",
     "text": [
      "done!\n",
      "485, 0\n",
      "generating for 2018-08-30 Dominika Cibulkova, Su Wei Hsieh\n"
     ]
    },
    {
     "name": "stderr",
     "output_type": "stream",
     "text": [
      "/var/folders/pt/zlhpwgms1r38l09fb5f24y_80000gn/T/ipykernel_11826/3368081595.py:6: FutureWarning: Series.__getitem__ treating keys as positions is deprecated. In a future version, integer keys will always be treated as labels (consistent with DataFrame behavior). To access a value by position, use `ser.iloc[pos]`\n",
      "  n1 = b[0]\n",
      "/var/folders/pt/zlhpwgms1r38l09fb5f24y_80000gn/T/ipykernel_11826/3368081595.py:7: FutureWarning: Series.__getitem__ treating keys as positions is deprecated. In a future version, integer keys will always be treated as labels (consistent with DataFrame behavior). To access a value by position, use `ser.iloc[pos]`\n",
      "  n2 = b[1]\n",
      "/var/folders/pt/zlhpwgms1r38l09fb5f24y_80000gn/T/ipykernel_11826/3368081595.py:8: FutureWarning: Series.__getitem__ treating keys as positions is deprecated. In a future version, integer keys will always be treated as labels (consistent with DataFrame behavior). To access a value by position, use `ser.iloc[pos]`\n",
      "  date = b[2]\n"
     ]
    },
    {
     "name": "stdout",
     "output_type": "stream",
     "text": [
      "done!\n",
      "486, 0\n",
      "generating for 2018-08-31 Lesia Tsurenko, Caroline Wozniacki\n"
     ]
    },
    {
     "name": "stderr",
     "output_type": "stream",
     "text": [
      "/var/folders/pt/zlhpwgms1r38l09fb5f24y_80000gn/T/ipykernel_11826/3368081595.py:6: FutureWarning: Series.__getitem__ treating keys as positions is deprecated. In a future version, integer keys will always be treated as labels (consistent with DataFrame behavior). To access a value by position, use `ser.iloc[pos]`\n",
      "  n1 = b[0]\n",
      "/var/folders/pt/zlhpwgms1r38l09fb5f24y_80000gn/T/ipykernel_11826/3368081595.py:7: FutureWarning: Series.__getitem__ treating keys as positions is deprecated. In a future version, integer keys will always be treated as labels (consistent with DataFrame behavior). To access a value by position, use `ser.iloc[pos]`\n",
      "  n2 = b[1]\n",
      "/var/folders/pt/zlhpwgms1r38l09fb5f24y_80000gn/T/ipykernel_11826/3368081595.py:8: FutureWarning: Series.__getitem__ treating keys as positions is deprecated. In a future version, integer keys will always be treated as labels (consistent with DataFrame behavior). To access a value by position, use `ser.iloc[pos]`\n",
      "  date = b[2]\n"
     ]
    },
    {
     "name": "stdout",
     "output_type": "stream",
     "text": [
      "done!\n",
      "487, 0\n",
      "generating for 2018-09-01 Carla Suarez Navarro, Caroline Garcia\n"
     ]
    },
    {
     "name": "stderr",
     "output_type": "stream",
     "text": [
      "/var/folders/pt/zlhpwgms1r38l09fb5f24y_80000gn/T/ipykernel_11826/3368081595.py:6: FutureWarning: Series.__getitem__ treating keys as positions is deprecated. In a future version, integer keys will always be treated as labels (consistent with DataFrame behavior). To access a value by position, use `ser.iloc[pos]`\n",
      "  n1 = b[0]\n",
      "/var/folders/pt/zlhpwgms1r38l09fb5f24y_80000gn/T/ipykernel_11826/3368081595.py:7: FutureWarning: Series.__getitem__ treating keys as positions is deprecated. In a future version, integer keys will always be treated as labels (consistent with DataFrame behavior). To access a value by position, use `ser.iloc[pos]`\n",
      "  n2 = b[1]\n",
      "/var/folders/pt/zlhpwgms1r38l09fb5f24y_80000gn/T/ipykernel_11826/3368081595.py:8: FutureWarning: Series.__getitem__ treating keys as positions is deprecated. In a future version, integer keys will always be treated as labels (consistent with DataFrame behavior). To access a value by position, use `ser.iloc[pos]`\n",
      "  date = b[2]\n"
     ]
    },
    {
     "name": "stdout",
     "output_type": "stream",
     "text": [
      "done!\n",
      "488, 0\n",
      "generating for 2018-09-02 Karolina Pliskova, Ashleigh Barty\n"
     ]
    },
    {
     "name": "stderr",
     "output_type": "stream",
     "text": [
      "/var/folders/pt/zlhpwgms1r38l09fb5f24y_80000gn/T/ipykernel_11826/3368081595.py:6: FutureWarning: Series.__getitem__ treating keys as positions is deprecated. In a future version, integer keys will always be treated as labels (consistent with DataFrame behavior). To access a value by position, use `ser.iloc[pos]`\n",
      "  n1 = b[0]\n",
      "/var/folders/pt/zlhpwgms1r38l09fb5f24y_80000gn/T/ipykernel_11826/3368081595.py:7: FutureWarning: Series.__getitem__ treating keys as positions is deprecated. In a future version, integer keys will always be treated as labels (consistent with DataFrame behavior). To access a value by position, use `ser.iloc[pos]`\n",
      "  n2 = b[1]\n",
      "/var/folders/pt/zlhpwgms1r38l09fb5f24y_80000gn/T/ipykernel_11826/3368081595.py:8: FutureWarning: Series.__getitem__ treating keys as positions is deprecated. In a future version, integer keys will always be treated as labels (consistent with DataFrame behavior). To access a value by position, use `ser.iloc[pos]`\n",
      "  date = b[2]\n"
     ]
    },
    {
     "name": "stdout",
     "output_type": "stream",
     "text": [
      "done!\n",
      "489, 0\n",
      "generating for 2018-09-02 Anastasija Sevastova, Elina Svitolina\n"
     ]
    },
    {
     "name": "stderr",
     "output_type": "stream",
     "text": [
      "/var/folders/pt/zlhpwgms1r38l09fb5f24y_80000gn/T/ipykernel_11826/3368081595.py:6: FutureWarning: Series.__getitem__ treating keys as positions is deprecated. In a future version, integer keys will always be treated as labels (consistent with DataFrame behavior). To access a value by position, use `ser.iloc[pos]`\n",
      "  n1 = b[0]\n",
      "/var/folders/pt/zlhpwgms1r38l09fb5f24y_80000gn/T/ipykernel_11826/3368081595.py:7: FutureWarning: Series.__getitem__ treating keys as positions is deprecated. In a future version, integer keys will always be treated as labels (consistent with DataFrame behavior). To access a value by position, use `ser.iloc[pos]`\n",
      "  n2 = b[1]\n",
      "/var/folders/pt/zlhpwgms1r38l09fb5f24y_80000gn/T/ipykernel_11826/3368081595.py:8: FutureWarning: Series.__getitem__ treating keys as positions is deprecated. In a future version, integer keys will always be treated as labels (consistent with DataFrame behavior). To access a value by position, use `ser.iloc[pos]`\n",
      "  date = b[2]\n"
     ]
    },
    {
     "name": "stdout",
     "output_type": "stream",
     "text": [
      "done!\n",
      "490, 0\n",
      "generating for 2018-09-03 Sloane Stephens, Elise Mertens\n"
     ]
    },
    {
     "name": "stderr",
     "output_type": "stream",
     "text": [
      "/var/folders/pt/zlhpwgms1r38l09fb5f24y_80000gn/T/ipykernel_11826/3368081595.py:6: FutureWarning: Series.__getitem__ treating keys as positions is deprecated. In a future version, integer keys will always be treated as labels (consistent with DataFrame behavior). To access a value by position, use `ser.iloc[pos]`\n",
      "  n1 = b[0]\n",
      "/var/folders/pt/zlhpwgms1r38l09fb5f24y_80000gn/T/ipykernel_11826/3368081595.py:7: FutureWarning: Series.__getitem__ treating keys as positions is deprecated. In a future version, integer keys will always be treated as labels (consistent with DataFrame behavior). To access a value by position, use `ser.iloc[pos]`\n",
      "  n2 = b[1]\n",
      "/var/folders/pt/zlhpwgms1r38l09fb5f24y_80000gn/T/ipykernel_11826/3368081595.py:8: FutureWarning: Series.__getitem__ treating keys as positions is deprecated. In a future version, integer keys will always be treated as labels (consistent with DataFrame behavior). To access a value by position, use `ser.iloc[pos]`\n",
      "  date = b[2]\n"
     ]
    },
    {
     "name": "stdout",
     "output_type": "stream",
     "text": [
      "done!\n",
      "491, 0\n",
      "generating for 2018-09-03 Naomi Osaka, Aryna Sabalenka\n"
     ]
    },
    {
     "name": "stderr",
     "output_type": "stream",
     "text": [
      "/var/folders/pt/zlhpwgms1r38l09fb5f24y_80000gn/T/ipykernel_11826/3368081595.py:6: FutureWarning: Series.__getitem__ treating keys as positions is deprecated. In a future version, integer keys will always be treated as labels (consistent with DataFrame behavior). To access a value by position, use `ser.iloc[pos]`\n",
      "  n1 = b[0]\n",
      "/var/folders/pt/zlhpwgms1r38l09fb5f24y_80000gn/T/ipykernel_11826/3368081595.py:7: FutureWarning: Series.__getitem__ treating keys as positions is deprecated. In a future version, integer keys will always be treated as labels (consistent with DataFrame behavior). To access a value by position, use `ser.iloc[pos]`\n",
      "  n2 = b[1]\n",
      "/var/folders/pt/zlhpwgms1r38l09fb5f24y_80000gn/T/ipykernel_11826/3368081595.py:8: FutureWarning: Series.__getitem__ treating keys as positions is deprecated. In a future version, integer keys will always be treated as labels (consistent with DataFrame behavior). To access a value by position, use `ser.iloc[pos]`\n",
      "  date = b[2]\n"
     ]
    },
    {
     "name": "stdout",
     "output_type": "stream",
     "text": [
      "done!\n",
      "492, 0\n",
      "generating for 2018-09-04 Carla Suarez Navarro, Maria Sharapova\n"
     ]
    },
    {
     "name": "stderr",
     "output_type": "stream",
     "text": [
      "/var/folders/pt/zlhpwgms1r38l09fb5f24y_80000gn/T/ipykernel_11826/3368081595.py:6: FutureWarning: Series.__getitem__ treating keys as positions is deprecated. In a future version, integer keys will always be treated as labels (consistent with DataFrame behavior). To access a value by position, use `ser.iloc[pos]`\n",
      "  n1 = b[0]\n",
      "/var/folders/pt/zlhpwgms1r38l09fb5f24y_80000gn/T/ipykernel_11826/3368081595.py:7: FutureWarning: Series.__getitem__ treating keys as positions is deprecated. In a future version, integer keys will always be treated as labels (consistent with DataFrame behavior). To access a value by position, use `ser.iloc[pos]`\n",
      "  n2 = b[1]\n",
      "/var/folders/pt/zlhpwgms1r38l09fb5f24y_80000gn/T/ipykernel_11826/3368081595.py:8: FutureWarning: Series.__getitem__ treating keys as positions is deprecated. In a future version, integer keys will always be treated as labels (consistent with DataFrame behavior). To access a value by position, use `ser.iloc[pos]`\n",
      "  date = b[2]\n"
     ]
    },
    {
     "name": "stdout",
     "output_type": "stream",
     "text": [
      "done!\n",
      "493, 0\n",
      "generating for 2018-09-04 Anastasija Sevastova, Sloane Stephens\n"
     ]
    },
    {
     "name": "stderr",
     "output_type": "stream",
     "text": [
      "/var/folders/pt/zlhpwgms1r38l09fb5f24y_80000gn/T/ipykernel_11826/3368081595.py:6: FutureWarning: Series.__getitem__ treating keys as positions is deprecated. In a future version, integer keys will always be treated as labels (consistent with DataFrame behavior). To access a value by position, use `ser.iloc[pos]`\n",
      "  n1 = b[0]\n",
      "/var/folders/pt/zlhpwgms1r38l09fb5f24y_80000gn/T/ipykernel_11826/3368081595.py:7: FutureWarning: Series.__getitem__ treating keys as positions is deprecated. In a future version, integer keys will always be treated as labels (consistent with DataFrame behavior). To access a value by position, use `ser.iloc[pos]`\n",
      "  n2 = b[1]\n",
      "/var/folders/pt/zlhpwgms1r38l09fb5f24y_80000gn/T/ipykernel_11826/3368081595.py:8: FutureWarning: Series.__getitem__ treating keys as positions is deprecated. In a future version, integer keys will always be treated as labels (consistent with DataFrame behavior). To access a value by position, use `ser.iloc[pos]`\n",
      "  date = b[2]\n"
     ]
    },
    {
     "name": "stdout",
     "output_type": "stream",
     "text": [
      "done!\n",
      "494, 0\n",
      "generating for 2018-09-05 Naomi Osaka, Lesia Tsurenko\n"
     ]
    },
    {
     "name": "stderr",
     "output_type": "stream",
     "text": [
      "/var/folders/pt/zlhpwgms1r38l09fb5f24y_80000gn/T/ipykernel_11826/3368081595.py:6: FutureWarning: Series.__getitem__ treating keys as positions is deprecated. In a future version, integer keys will always be treated as labels (consistent with DataFrame behavior). To access a value by position, use `ser.iloc[pos]`\n",
      "  n1 = b[0]\n",
      "/var/folders/pt/zlhpwgms1r38l09fb5f24y_80000gn/T/ipykernel_11826/3368081595.py:7: FutureWarning: Series.__getitem__ treating keys as positions is deprecated. In a future version, integer keys will always be treated as labels (consistent with DataFrame behavior). To access a value by position, use `ser.iloc[pos]`\n",
      "  n2 = b[1]\n",
      "/var/folders/pt/zlhpwgms1r38l09fb5f24y_80000gn/T/ipykernel_11826/3368081595.py:8: FutureWarning: Series.__getitem__ treating keys as positions is deprecated. In a future version, integer keys will always be treated as labels (consistent with DataFrame behavior). To access a value by position, use `ser.iloc[pos]`\n",
      "  date = b[2]\n"
     ]
    },
    {
     "name": "stdout",
     "output_type": "stream",
     "text": [
      "done!\n",
      "495, 0\n",
      "generating for 2018-09-06 Madison Keys, Carla Suarez Navarro\n"
     ]
    },
    {
     "name": "stderr",
     "output_type": "stream",
     "text": [
      "/var/folders/pt/zlhpwgms1r38l09fb5f24y_80000gn/T/ipykernel_11826/3368081595.py:6: FutureWarning: Series.__getitem__ treating keys as positions is deprecated. In a future version, integer keys will always be treated as labels (consistent with DataFrame behavior). To access a value by position, use `ser.iloc[pos]`\n",
      "  n1 = b[0]\n",
      "/var/folders/pt/zlhpwgms1r38l09fb5f24y_80000gn/T/ipykernel_11826/3368081595.py:7: FutureWarning: Series.__getitem__ treating keys as positions is deprecated. In a future version, integer keys will always be treated as labels (consistent with DataFrame behavior). To access a value by position, use `ser.iloc[pos]`\n",
      "  n2 = b[1]\n",
      "/var/folders/pt/zlhpwgms1r38l09fb5f24y_80000gn/T/ipykernel_11826/3368081595.py:8: FutureWarning: Series.__getitem__ treating keys as positions is deprecated. In a future version, integer keys will always be treated as labels (consistent with DataFrame behavior). To access a value by position, use `ser.iloc[pos]`\n",
      "  date = b[2]\n"
     ]
    },
    {
     "name": "stdout",
     "output_type": "stream",
     "text": [
      "done!\n",
      "496, 0\n",
      "generating for 2018-09-07 Serena Williams, Anastasija Sevastova\n"
     ]
    },
    {
     "name": "stderr",
     "output_type": "stream",
     "text": [
      "/var/folders/pt/zlhpwgms1r38l09fb5f24y_80000gn/T/ipykernel_11826/3368081595.py:6: FutureWarning: Series.__getitem__ treating keys as positions is deprecated. In a future version, integer keys will always be treated as labels (consistent with DataFrame behavior). To access a value by position, use `ser.iloc[pos]`\n",
      "  n1 = b[0]\n",
      "/var/folders/pt/zlhpwgms1r38l09fb5f24y_80000gn/T/ipykernel_11826/3368081595.py:7: FutureWarning: Series.__getitem__ treating keys as positions is deprecated. In a future version, integer keys will always be treated as labels (consistent with DataFrame behavior). To access a value by position, use `ser.iloc[pos]`\n",
      "  n2 = b[1]\n",
      "/var/folders/pt/zlhpwgms1r38l09fb5f24y_80000gn/T/ipykernel_11826/3368081595.py:8: FutureWarning: Series.__getitem__ treating keys as positions is deprecated. In a future version, integer keys will always be treated as labels (consistent with DataFrame behavior). To access a value by position, use `ser.iloc[pos]`\n",
      "  date = b[2]\n"
     ]
    },
    {
     "name": "stdout",
     "output_type": "stream",
     "text": [
      "done!\n",
      "497, 0\n",
      "generating for 2018-09-07 Naomi Osaka, Madison Keys\n"
     ]
    },
    {
     "name": "stderr",
     "output_type": "stream",
     "text": [
      "/var/folders/pt/zlhpwgms1r38l09fb5f24y_80000gn/T/ipykernel_11826/3368081595.py:6: FutureWarning: Series.__getitem__ treating keys as positions is deprecated. In a future version, integer keys will always be treated as labels (consistent with DataFrame behavior). To access a value by position, use `ser.iloc[pos]`\n",
      "  n1 = b[0]\n",
      "/var/folders/pt/zlhpwgms1r38l09fb5f24y_80000gn/T/ipykernel_11826/3368081595.py:7: FutureWarning: Series.__getitem__ treating keys as positions is deprecated. In a future version, integer keys will always be treated as labels (consistent with DataFrame behavior). To access a value by position, use `ser.iloc[pos]`\n",
      "  n2 = b[1]\n",
      "/var/folders/pt/zlhpwgms1r38l09fb5f24y_80000gn/T/ipykernel_11826/3368081595.py:8: FutureWarning: Series.__getitem__ treating keys as positions is deprecated. In a future version, integer keys will always be treated as labels (consistent with DataFrame behavior). To access a value by position, use `ser.iloc[pos]`\n",
      "  date = b[2]\n"
     ]
    },
    {
     "name": "stdout",
     "output_type": "stream",
     "text": [
      "done!\n",
      "498, 0\n",
      "generating for 2018-09-15 Su Wei Hsieh, Qiang Wang\n"
     ]
    },
    {
     "name": "stderr",
     "output_type": "stream",
     "text": [
      "/var/folders/pt/zlhpwgms1r38l09fb5f24y_80000gn/T/ipykernel_11826/3368081595.py:6: FutureWarning: Series.__getitem__ treating keys as positions is deprecated. In a future version, integer keys will always be treated as labels (consistent with DataFrame behavior). To access a value by position, use `ser.iloc[pos]`\n",
      "  n1 = b[0]\n",
      "/var/folders/pt/zlhpwgms1r38l09fb5f24y_80000gn/T/ipykernel_11826/3368081595.py:7: FutureWarning: Series.__getitem__ treating keys as positions is deprecated. In a future version, integer keys will always be treated as labels (consistent with DataFrame behavior). To access a value by position, use `ser.iloc[pos]`\n",
      "  n2 = b[1]\n",
      "/var/folders/pt/zlhpwgms1r38l09fb5f24y_80000gn/T/ipykernel_11826/3368081595.py:8: FutureWarning: Series.__getitem__ treating keys as positions is deprecated. In a future version, integer keys will always be treated as labels (consistent with DataFrame behavior). To access a value by position, use `ser.iloc[pos]`\n",
      "  date = b[2]\n"
     ]
    },
    {
     "name": "stdout",
     "output_type": "stream",
     "text": [
      "done!\n",
      "499, 0\n",
      "generating for 2018-09-10 Christina Mchale, Dayana Yastremska\n"
     ]
    },
    {
     "name": "stderr",
     "output_type": "stream",
     "text": [
      "/var/folders/pt/zlhpwgms1r38l09fb5f24y_80000gn/T/ipykernel_11826/3368081595.py:6: FutureWarning: Series.__getitem__ treating keys as positions is deprecated. In a future version, integer keys will always be treated as labels (consistent with DataFrame behavior). To access a value by position, use `ser.iloc[pos]`\n",
      "  n1 = b[0]\n",
      "/var/folders/pt/zlhpwgms1r38l09fb5f24y_80000gn/T/ipykernel_11826/3368081595.py:7: FutureWarning: Series.__getitem__ treating keys as positions is deprecated. In a future version, integer keys will always be treated as labels (consistent with DataFrame behavior). To access a value by position, use `ser.iloc[pos]`\n",
      "  n2 = b[1]\n",
      "/var/folders/pt/zlhpwgms1r38l09fb5f24y_80000gn/T/ipykernel_11826/3368081595.py:8: FutureWarning: Series.__getitem__ treating keys as positions is deprecated. In a future version, integer keys will always be treated as labels (consistent with DataFrame behavior). To access a value by position, use `ser.iloc[pos]`\n",
      "  date = b[2]\n"
     ]
    },
    {
     "name": "stdout",
     "output_type": "stream",
     "text": [
      "done!\n",
      "500, 0\n",
      "generating for 2018-09-19 Ajla Tomljanovic, Tamara Zidansek\n"
     ]
    },
    {
     "name": "stderr",
     "output_type": "stream",
     "text": [
      "/var/folders/pt/zlhpwgms1r38l09fb5f24y_80000gn/T/ipykernel_11826/3368081595.py:6: FutureWarning: Series.__getitem__ treating keys as positions is deprecated. In a future version, integer keys will always be treated as labels (consistent with DataFrame behavior). To access a value by position, use `ser.iloc[pos]`\n",
      "  n1 = b[0]\n",
      "/var/folders/pt/zlhpwgms1r38l09fb5f24y_80000gn/T/ipykernel_11826/3368081595.py:7: FutureWarning: Series.__getitem__ treating keys as positions is deprecated. In a future version, integer keys will always be treated as labels (consistent with DataFrame behavior). To access a value by position, use `ser.iloc[pos]`\n",
      "  n2 = b[1]\n",
      "/var/folders/pt/zlhpwgms1r38l09fb5f24y_80000gn/T/ipykernel_11826/3368081595.py:8: FutureWarning: Series.__getitem__ treating keys as positions is deprecated. In a future version, integer keys will always be treated as labels (consistent with DataFrame behavior). To access a value by position, use `ser.iloc[pos]`\n",
      "  date = b[2]\n"
     ]
    },
    {
     "name": "stdout",
     "output_type": "stream",
     "text": [
      "done!\n",
      "501, 0\n",
      "generating for 2018-09-21 Maria Sakkari, Irina Camelia Begu\n"
     ]
    },
    {
     "name": "stderr",
     "output_type": "stream",
     "text": [
      "/var/folders/pt/zlhpwgms1r38l09fb5f24y_80000gn/T/ipykernel_11826/3368081595.py:6: FutureWarning: Series.__getitem__ treating keys as positions is deprecated. In a future version, integer keys will always be treated as labels (consistent with DataFrame behavior). To access a value by position, use `ser.iloc[pos]`\n",
      "  n1 = b[0]\n",
      "/var/folders/pt/zlhpwgms1r38l09fb5f24y_80000gn/T/ipykernel_11826/3368081595.py:7: FutureWarning: Series.__getitem__ treating keys as positions is deprecated. In a future version, integer keys will always be treated as labels (consistent with DataFrame behavior). To access a value by position, use `ser.iloc[pos]`\n",
      "  n2 = b[1]\n",
      "/var/folders/pt/zlhpwgms1r38l09fb5f24y_80000gn/T/ipykernel_11826/3368081595.py:8: FutureWarning: Series.__getitem__ treating keys as positions is deprecated. In a future version, integer keys will always be treated as labels (consistent with DataFrame behavior). To access a value by position, use `ser.iloc[pos]`\n",
      "  date = b[2]\n"
     ]
    },
    {
     "name": "stdout",
     "output_type": "stream",
     "text": [
      "done!\n",
      "502, 0\n",
      "generating for 2018-09-22 Kiki Bertens, Maria Sakkari\n"
     ]
    },
    {
     "name": "stderr",
     "output_type": "stream",
     "text": [
      "/var/folders/pt/zlhpwgms1r38l09fb5f24y_80000gn/T/ipykernel_11826/3368081595.py:6: FutureWarning: Series.__getitem__ treating keys as positions is deprecated. In a future version, integer keys will always be treated as labels (consistent with DataFrame behavior). To access a value by position, use `ser.iloc[pos]`\n",
      "  n1 = b[0]\n",
      "/var/folders/pt/zlhpwgms1r38l09fb5f24y_80000gn/T/ipykernel_11826/3368081595.py:7: FutureWarning: Series.__getitem__ treating keys as positions is deprecated. In a future version, integer keys will always be treated as labels (consistent with DataFrame behavior). To access a value by position, use `ser.iloc[pos]`\n",
      "  n2 = b[1]\n",
      "/var/folders/pt/zlhpwgms1r38l09fb5f24y_80000gn/T/ipykernel_11826/3368081595.py:8: FutureWarning: Series.__getitem__ treating keys as positions is deprecated. In a future version, integer keys will always be treated as labels (consistent with DataFrame behavior). To access a value by position, use `ser.iloc[pos]`\n",
      "  date = b[2]\n"
     ]
    },
    {
     "name": "stdout",
     "output_type": "stream",
     "text": [
      "done!\n",
      "503, 0\n",
      "generating for 2018-09-18 Ashleigh Barty, Coco Vandeweghe\n"
     ]
    },
    {
     "name": "stderr",
     "output_type": "stream",
     "text": [
      "/var/folders/pt/zlhpwgms1r38l09fb5f24y_80000gn/T/ipykernel_11826/3368081595.py:6: FutureWarning: Series.__getitem__ treating keys as positions is deprecated. In a future version, integer keys will always be treated as labels (consistent with DataFrame behavior). To access a value by position, use `ser.iloc[pos]`\n",
      "  n1 = b[0]\n",
      "/var/folders/pt/zlhpwgms1r38l09fb5f24y_80000gn/T/ipykernel_11826/3368081595.py:7: FutureWarning: Series.__getitem__ treating keys as positions is deprecated. In a future version, integer keys will always be treated as labels (consistent with DataFrame behavior). To access a value by position, use `ser.iloc[pos]`\n",
      "  n2 = b[1]\n",
      "/var/folders/pt/zlhpwgms1r38l09fb5f24y_80000gn/T/ipykernel_11826/3368081595.py:8: FutureWarning: Series.__getitem__ treating keys as positions is deprecated. In a future version, integer keys will always be treated as labels (consistent with DataFrame behavior). To access a value by position, use `ser.iloc[pos]`\n",
      "  date = b[2]\n"
     ]
    },
    {
     "name": "stdout",
     "output_type": "stream",
     "text": [
      "done!\n",
      "504, 0\n",
      "generating for 2018-09-19 Naomi Osaka, Dominika Cibulkova\n"
     ]
    },
    {
     "name": "stderr",
     "output_type": "stream",
     "text": [
      "/var/folders/pt/zlhpwgms1r38l09fb5f24y_80000gn/T/ipykernel_11826/3368081595.py:6: FutureWarning: Series.__getitem__ treating keys as positions is deprecated. In a future version, integer keys will always be treated as labels (consistent with DataFrame behavior). To access a value by position, use `ser.iloc[pos]`\n",
      "  n1 = b[0]\n",
      "/var/folders/pt/zlhpwgms1r38l09fb5f24y_80000gn/T/ipykernel_11826/3368081595.py:7: FutureWarning: Series.__getitem__ treating keys as positions is deprecated. In a future version, integer keys will always be treated as labels (consistent with DataFrame behavior). To access a value by position, use `ser.iloc[pos]`\n",
      "  n2 = b[1]\n",
      "/var/folders/pt/zlhpwgms1r38l09fb5f24y_80000gn/T/ipykernel_11826/3368081595.py:8: FutureWarning: Series.__getitem__ treating keys as positions is deprecated. In a future version, integer keys will always be treated as labels (consistent with DataFrame behavior). To access a value by position, use `ser.iloc[pos]`\n",
      "  date = b[2]\n"
     ]
    },
    {
     "name": "stdout",
     "output_type": "stream",
     "text": [
      "done!\n",
      "505, 0\n",
      "generating for 2018-09-20 Donna Vekic, Johanna Konta\n"
     ]
    },
    {
     "name": "stderr",
     "output_type": "stream",
     "text": [
      "/var/folders/pt/zlhpwgms1r38l09fb5f24y_80000gn/T/ipykernel_11826/3368081595.py:6: FutureWarning: Series.__getitem__ treating keys as positions is deprecated. In a future version, integer keys will always be treated as labels (consistent with DataFrame behavior). To access a value by position, use `ser.iloc[pos]`\n",
      "  n1 = b[0]\n",
      "/var/folders/pt/zlhpwgms1r38l09fb5f24y_80000gn/T/ipykernel_11826/3368081595.py:7: FutureWarning: Series.__getitem__ treating keys as positions is deprecated. In a future version, integer keys will always be treated as labels (consistent with DataFrame behavior). To access a value by position, use `ser.iloc[pos]`\n",
      "  n2 = b[1]\n",
      "/var/folders/pt/zlhpwgms1r38l09fb5f24y_80000gn/T/ipykernel_11826/3368081595.py:8: FutureWarning: Series.__getitem__ treating keys as positions is deprecated. In a future version, integer keys will always be treated as labels (consistent with DataFrame behavior). To access a value by position, use `ser.iloc[pos]`\n",
      "  date = b[2]\n"
     ]
    },
    {
     "name": "stdout",
     "output_type": "stream",
     "text": [
      "done!\n",
      "506, 0\n",
      "generating for 2018-09-22 Karolina Pliskova, Donna Vekic\n"
     ]
    },
    {
     "name": "stderr",
     "output_type": "stream",
     "text": [
      "/var/folders/pt/zlhpwgms1r38l09fb5f24y_80000gn/T/ipykernel_11826/3368081595.py:6: FutureWarning: Series.__getitem__ treating keys as positions is deprecated. In a future version, integer keys will always be treated as labels (consistent with DataFrame behavior). To access a value by position, use `ser.iloc[pos]`\n",
      "  n1 = b[0]\n",
      "/var/folders/pt/zlhpwgms1r38l09fb5f24y_80000gn/T/ipykernel_11826/3368081595.py:7: FutureWarning: Series.__getitem__ treating keys as positions is deprecated. In a future version, integer keys will always be treated as labels (consistent with DataFrame behavior). To access a value by position, use `ser.iloc[pos]`\n",
      "  n2 = b[1]\n",
      "/var/folders/pt/zlhpwgms1r38l09fb5f24y_80000gn/T/ipykernel_11826/3368081595.py:8: FutureWarning: Series.__getitem__ treating keys as positions is deprecated. In a future version, integer keys will always be treated as labels (consistent with DataFrame behavior). To access a value by position, use `ser.iloc[pos]`\n",
      "  date = b[2]\n"
     ]
    },
    {
     "name": "stdout",
     "output_type": "stream",
     "text": [
      "done!\n",
      "507, 0\n",
      "generating for 2018-09-23 Karolina Pliskova, Naomi Osaka\n"
     ]
    },
    {
     "name": "stderr",
     "output_type": "stream",
     "text": [
      "/var/folders/pt/zlhpwgms1r38l09fb5f24y_80000gn/T/ipykernel_11826/3368081595.py:6: FutureWarning: Series.__getitem__ treating keys as positions is deprecated. In a future version, integer keys will always be treated as labels (consistent with DataFrame behavior). To access a value by position, use `ser.iloc[pos]`\n",
      "  n1 = b[0]\n",
      "/var/folders/pt/zlhpwgms1r38l09fb5f24y_80000gn/T/ipykernel_11826/3368081595.py:7: FutureWarning: Series.__getitem__ treating keys as positions is deprecated. In a future version, integer keys will always be treated as labels (consistent with DataFrame behavior). To access a value by position, use `ser.iloc[pos]`\n",
      "  n2 = b[1]\n",
      "/var/folders/pt/zlhpwgms1r38l09fb5f24y_80000gn/T/ipykernel_11826/3368081595.py:8: FutureWarning: Series.__getitem__ treating keys as positions is deprecated. In a future version, integer keys will always be treated as labels (consistent with DataFrame behavior). To access a value by position, use `ser.iloc[pos]`\n",
      "  date = b[2]\n"
     ]
    },
    {
     "name": "stdout",
     "output_type": "stream",
     "text": [
      "done!\n",
      "508, 0\n",
      "generating for 2018-09-23 Katerina Siniakova, Kristina Mladenovic\n"
     ]
    },
    {
     "name": "stderr",
     "output_type": "stream",
     "text": [
      "/var/folders/pt/zlhpwgms1r38l09fb5f24y_80000gn/T/ipykernel_11826/3368081595.py:6: FutureWarning: Series.__getitem__ treating keys as positions is deprecated. In a future version, integer keys will always be treated as labels (consistent with DataFrame behavior). To access a value by position, use `ser.iloc[pos]`\n",
      "  n1 = b[0]\n",
      "/var/folders/pt/zlhpwgms1r38l09fb5f24y_80000gn/T/ipykernel_11826/3368081595.py:7: FutureWarning: Series.__getitem__ treating keys as positions is deprecated. In a future version, integer keys will always be treated as labels (consistent with DataFrame behavior). To access a value by position, use `ser.iloc[pos]`\n",
      "  n2 = b[1]\n",
      "/var/folders/pt/zlhpwgms1r38l09fb5f24y_80000gn/T/ipykernel_11826/3368081595.py:8: FutureWarning: Series.__getitem__ treating keys as positions is deprecated. In a future version, integer keys will always be treated as labels (consistent with DataFrame behavior). To access a value by position, use `ser.iloc[pos]`\n",
      "  date = b[2]\n"
     ]
    },
    {
     "name": "stdout",
     "output_type": "stream",
     "text": [
      "done!\n",
      "509, 0\n",
      "generating for 2018-09-23 Anastasia Pavlyuchenkova, Anastasija Sevastova\n"
     ]
    },
    {
     "name": "stderr",
     "output_type": "stream",
     "text": [
      "/var/folders/pt/zlhpwgms1r38l09fb5f24y_80000gn/T/ipykernel_11826/3368081595.py:6: FutureWarning: Series.__getitem__ treating keys as positions is deprecated. In a future version, integer keys will always be treated as labels (consistent with DataFrame behavior). To access a value by position, use `ser.iloc[pos]`\n",
      "  n1 = b[0]\n",
      "/var/folders/pt/zlhpwgms1r38l09fb5f24y_80000gn/T/ipykernel_11826/3368081595.py:7: FutureWarning: Series.__getitem__ treating keys as positions is deprecated. In a future version, integer keys will always be treated as labels (consistent with DataFrame behavior). To access a value by position, use `ser.iloc[pos]`\n",
      "  n2 = b[1]\n",
      "/var/folders/pt/zlhpwgms1r38l09fb5f24y_80000gn/T/ipykernel_11826/3368081595.py:8: FutureWarning: Series.__getitem__ treating keys as positions is deprecated. In a future version, integer keys will always be treated as labels (consistent with DataFrame behavior). To access a value by position, use `ser.iloc[pos]`\n",
      "  date = b[2]\n"
     ]
    },
    {
     "name": "stdout",
     "output_type": "stream",
     "text": [
      "done!\n",
      "510, 0\n",
      "generating for 2018-09-23 Daria Kasatkina, Lesia Tsurenko\n"
     ]
    },
    {
     "name": "stderr",
     "output_type": "stream",
     "text": [
      "/var/folders/pt/zlhpwgms1r38l09fb5f24y_80000gn/T/ipykernel_11826/3368081595.py:6: FutureWarning: Series.__getitem__ treating keys as positions is deprecated. In a future version, integer keys will always be treated as labels (consistent with DataFrame behavior). To access a value by position, use `ser.iloc[pos]`\n",
      "  n1 = b[0]\n",
      "/var/folders/pt/zlhpwgms1r38l09fb5f24y_80000gn/T/ipykernel_11826/3368081595.py:7: FutureWarning: Series.__getitem__ treating keys as positions is deprecated. In a future version, integer keys will always be treated as labels (consistent with DataFrame behavior). To access a value by position, use `ser.iloc[pos]`\n",
      "  n2 = b[1]\n",
      "/var/folders/pt/zlhpwgms1r38l09fb5f24y_80000gn/T/ipykernel_11826/3368081595.py:8: FutureWarning: Series.__getitem__ treating keys as positions is deprecated. In a future version, integer keys will always be treated as labels (consistent with DataFrame behavior). To access a value by position, use `ser.iloc[pos]`\n",
      "  date = b[2]\n"
     ]
    },
    {
     "name": "stdout",
     "output_type": "stream",
     "text": [
      "done!\n",
      "511, 0\n",
      "generating for 2018-09-23 Aliaksandra Sasnovich, Elise Mertens\n"
     ]
    },
    {
     "name": "stderr",
     "output_type": "stream",
     "text": [
      "/var/folders/pt/zlhpwgms1r38l09fb5f24y_80000gn/T/ipykernel_11826/3368081595.py:6: FutureWarning: Series.__getitem__ treating keys as positions is deprecated. In a future version, integer keys will always be treated as labels (consistent with DataFrame behavior). To access a value by position, use `ser.iloc[pos]`\n",
      "  n1 = b[0]\n",
      "/var/folders/pt/zlhpwgms1r38l09fb5f24y_80000gn/T/ipykernel_11826/3368081595.py:7: FutureWarning: Series.__getitem__ treating keys as positions is deprecated. In a future version, integer keys will always be treated as labels (consistent with DataFrame behavior). To access a value by position, use `ser.iloc[pos]`\n",
      "  n2 = b[1]\n",
      "/var/folders/pt/zlhpwgms1r38l09fb5f24y_80000gn/T/ipykernel_11826/3368081595.py:8: FutureWarning: Series.__getitem__ treating keys as positions is deprecated. In a future version, integer keys will always be treated as labels (consistent with DataFrame behavior). To access a value by position, use `ser.iloc[pos]`\n",
      "  date = b[2]\n"
     ]
    },
    {
     "name": "stdout",
     "output_type": "stream",
     "text": [
      "done!\n",
      "512, 0\n",
      "generating for 2018-09-24 Aryna Sabalenka, Carla Suarez Navarro\n"
     ]
    },
    {
     "name": "stderr",
     "output_type": "stream",
     "text": [
      "/var/folders/pt/zlhpwgms1r38l09fb5f24y_80000gn/T/ipykernel_11826/3368081595.py:6: FutureWarning: Series.__getitem__ treating keys as positions is deprecated. In a future version, integer keys will always be treated as labels (consistent with DataFrame behavior). To access a value by position, use `ser.iloc[pos]`\n",
      "  n1 = b[0]\n",
      "/var/folders/pt/zlhpwgms1r38l09fb5f24y_80000gn/T/ipykernel_11826/3368081595.py:7: FutureWarning: Series.__getitem__ treating keys as positions is deprecated. In a future version, integer keys will always be treated as labels (consistent with DataFrame behavior). To access a value by position, use `ser.iloc[pos]`\n",
      "  n2 = b[1]\n",
      "/var/folders/pt/zlhpwgms1r38l09fb5f24y_80000gn/T/ipykernel_11826/3368081595.py:8: FutureWarning: Series.__getitem__ treating keys as positions is deprecated. In a future version, integer keys will always be treated as labels (consistent with DataFrame behavior). To access a value by position, use `ser.iloc[pos]`\n",
      "  date = b[2]\n"
     ]
    },
    {
     "name": "stdout",
     "output_type": "stream",
     "text": [
      "done!\n",
      "513, 0\n",
      "generating for 2018-09-24 Ashleigh Barty, Johanna Konta\n"
     ]
    },
    {
     "name": "stderr",
     "output_type": "stream",
     "text": [
      "/var/folders/pt/zlhpwgms1r38l09fb5f24y_80000gn/T/ipykernel_11826/3368081595.py:6: FutureWarning: Series.__getitem__ treating keys as positions is deprecated. In a future version, integer keys will always be treated as labels (consistent with DataFrame behavior). To access a value by position, use `ser.iloc[pos]`\n",
      "  n1 = b[0]\n",
      "/var/folders/pt/zlhpwgms1r38l09fb5f24y_80000gn/T/ipykernel_11826/3368081595.py:7: FutureWarning: Series.__getitem__ treating keys as positions is deprecated. In a future version, integer keys will always be treated as labels (consistent with DataFrame behavior). To access a value by position, use `ser.iloc[pos]`\n",
      "  n2 = b[1]\n",
      "/var/folders/pt/zlhpwgms1r38l09fb5f24y_80000gn/T/ipykernel_11826/3368081595.py:8: FutureWarning: Series.__getitem__ treating keys as positions is deprecated. In a future version, integer keys will always be treated as labels (consistent with DataFrame behavior). To access a value by position, use `ser.iloc[pos]`\n",
      "  date = b[2]\n"
     ]
    },
    {
     "name": "stdout",
     "output_type": "stream",
     "text": [
      "done!\n",
      "514, 0\n",
      "generating for 2018-09-25 Aryna Sabalenka, Elina Svitolina\n"
     ]
    },
    {
     "name": "stderr",
     "output_type": "stream",
     "text": [
      "/var/folders/pt/zlhpwgms1r38l09fb5f24y_80000gn/T/ipykernel_11826/3368081595.py:6: FutureWarning: Series.__getitem__ treating keys as positions is deprecated. In a future version, integer keys will always be treated as labels (consistent with DataFrame behavior). To access a value by position, use `ser.iloc[pos]`\n",
      "  n1 = b[0]\n",
      "/var/folders/pt/zlhpwgms1r38l09fb5f24y_80000gn/T/ipykernel_11826/3368081595.py:7: FutureWarning: Series.__getitem__ treating keys as positions is deprecated. In a future version, integer keys will always be treated as labels (consistent with DataFrame behavior). To access a value by position, use `ser.iloc[pos]`\n",
      "  n2 = b[1]\n",
      "/var/folders/pt/zlhpwgms1r38l09fb5f24y_80000gn/T/ipykernel_11826/3368081595.py:8: FutureWarning: Series.__getitem__ treating keys as positions is deprecated. In a future version, integer keys will always be treated as labels (consistent with DataFrame behavior). To access a value by position, use `ser.iloc[pos]`\n",
      "  date = b[2]\n"
     ]
    },
    {
     "name": "stdout",
     "output_type": "stream",
     "text": [
      "done!\n",
      "515, 0\n",
      "generating for 2018-09-25 Anastasia Pavlyuchenkova, Kiki Bertens\n"
     ]
    },
    {
     "name": "stderr",
     "output_type": "stream",
     "text": [
      "/var/folders/pt/zlhpwgms1r38l09fb5f24y_80000gn/T/ipykernel_11826/3368081595.py:6: FutureWarning: Series.__getitem__ treating keys as positions is deprecated. In a future version, integer keys will always be treated as labels (consistent with DataFrame behavior). To access a value by position, use `ser.iloc[pos]`\n",
      "  n1 = b[0]\n",
      "/var/folders/pt/zlhpwgms1r38l09fb5f24y_80000gn/T/ipykernel_11826/3368081595.py:7: FutureWarning: Series.__getitem__ treating keys as positions is deprecated. In a future version, integer keys will always be treated as labels (consistent with DataFrame behavior). To access a value by position, use `ser.iloc[pos]`\n",
      "  n2 = b[1]\n",
      "/var/folders/pt/zlhpwgms1r38l09fb5f24y_80000gn/T/ipykernel_11826/3368081595.py:8: FutureWarning: Series.__getitem__ treating keys as positions is deprecated. In a future version, integer keys will always be treated as labels (consistent with DataFrame behavior). To access a value by position, use `ser.iloc[pos]`\n",
      "  date = b[2]\n"
     ]
    },
    {
     "name": "stdout",
     "output_type": "stream",
     "text": [
      "done!\n",
      "516, 0\n",
      "generating for 2018-09-26 Dominika Cibulkova, Daria Kasatkina\n"
     ]
    },
    {
     "name": "stderr",
     "output_type": "stream",
     "text": [
      "/var/folders/pt/zlhpwgms1r38l09fb5f24y_80000gn/T/ipykernel_11826/3368081595.py:6: FutureWarning: Series.__getitem__ treating keys as positions is deprecated. In a future version, integer keys will always be treated as labels (consistent with DataFrame behavior). To access a value by position, use `ser.iloc[pos]`\n",
      "  n1 = b[0]\n",
      "/var/folders/pt/zlhpwgms1r38l09fb5f24y_80000gn/T/ipykernel_11826/3368081595.py:7: FutureWarning: Series.__getitem__ treating keys as positions is deprecated. In a future version, integer keys will always be treated as labels (consistent with DataFrame behavior). To access a value by position, use `ser.iloc[pos]`\n",
      "  n2 = b[1]\n",
      "/var/folders/pt/zlhpwgms1r38l09fb5f24y_80000gn/T/ipykernel_11826/3368081595.py:8: FutureWarning: Series.__getitem__ treating keys as positions is deprecated. In a future version, integer keys will always be treated as labels (consistent with DataFrame behavior). To access a value by position, use `ser.iloc[pos]`\n",
      "  date = b[2]\n"
     ]
    },
    {
     "name": "stdout",
     "output_type": "stream",
     "text": [
      "done!\n",
      "517, 0\n",
      "generating for 2018-09-26 Katerina Siniakova, Garbine Muguruza\n"
     ]
    },
    {
     "name": "stderr",
     "output_type": "stream",
     "text": [
      "/var/folders/pt/zlhpwgms1r38l09fb5f24y_80000gn/T/ipykernel_11826/3368081595.py:6: FutureWarning: Series.__getitem__ treating keys as positions is deprecated. In a future version, integer keys will always be treated as labels (consistent with DataFrame behavior). To access a value by position, use `ser.iloc[pos]`\n",
      "  n1 = b[0]\n",
      "/var/folders/pt/zlhpwgms1r38l09fb5f24y_80000gn/T/ipykernel_11826/3368081595.py:7: FutureWarning: Series.__getitem__ treating keys as positions is deprecated. In a future version, integer keys will always be treated as labels (consistent with DataFrame behavior). To access a value by position, use `ser.iloc[pos]`\n",
      "  n2 = b[1]\n",
      "/var/folders/pt/zlhpwgms1r38l09fb5f24y_80000gn/T/ipykernel_11826/3368081595.py:8: FutureWarning: Series.__getitem__ treating keys as positions is deprecated. In a future version, integer keys will always be treated as labels (consistent with DataFrame behavior). To access a value by position, use `ser.iloc[pos]`\n",
      "  date = b[2]\n"
     ]
    },
    {
     "name": "stdout",
     "output_type": "stream",
     "text": [
      "done!\n",
      "518, 0\n",
      "generating for 2018-09-27 Ashleigh Barty, Anastasia Pavlyuchenkova\n"
     ]
    },
    {
     "name": "stderr",
     "output_type": "stream",
     "text": [
      "/var/folders/pt/zlhpwgms1r38l09fb5f24y_80000gn/T/ipykernel_11826/3368081595.py:6: FutureWarning: Series.__getitem__ treating keys as positions is deprecated. In a future version, integer keys will always be treated as labels (consistent with DataFrame behavior). To access a value by position, use `ser.iloc[pos]`\n",
      "  n1 = b[0]\n",
      "/var/folders/pt/zlhpwgms1r38l09fb5f24y_80000gn/T/ipykernel_11826/3368081595.py:7: FutureWarning: Series.__getitem__ treating keys as positions is deprecated. In a future version, integer keys will always be treated as labels (consistent with DataFrame behavior). To access a value by position, use `ser.iloc[pos]`\n",
      "  n2 = b[1]\n",
      "/var/folders/pt/zlhpwgms1r38l09fb5f24y_80000gn/T/ipykernel_11826/3368081595.py:8: FutureWarning: Series.__getitem__ treating keys as positions is deprecated. In a future version, integer keys will always be treated as labels (consistent with DataFrame behavior). To access a value by position, use `ser.iloc[pos]`\n",
      "  date = b[2]\n"
     ]
    },
    {
     "name": "stdout",
     "output_type": "stream",
     "text": [
      "done!\n",
      "519, 0\n",
      "generating for 2018-09-28 Anett Kontaveit, Qiang Wang\n"
     ]
    },
    {
     "name": "stderr",
     "output_type": "stream",
     "text": [
      "/var/folders/pt/zlhpwgms1r38l09fb5f24y_80000gn/T/ipykernel_11826/3368081595.py:6: FutureWarning: Series.__getitem__ treating keys as positions is deprecated. In a future version, integer keys will always be treated as labels (consistent with DataFrame behavior). To access a value by position, use `ser.iloc[pos]`\n",
      "  n1 = b[0]\n",
      "/var/folders/pt/zlhpwgms1r38l09fb5f24y_80000gn/T/ipykernel_11826/3368081595.py:7: FutureWarning: Series.__getitem__ treating keys as positions is deprecated. In a future version, integer keys will always be treated as labels (consistent with DataFrame behavior). To access a value by position, use `ser.iloc[pos]`\n",
      "  n2 = b[1]\n",
      "/var/folders/pt/zlhpwgms1r38l09fb5f24y_80000gn/T/ipykernel_11826/3368081595.py:8: FutureWarning: Series.__getitem__ treating keys as positions is deprecated. In a future version, integer keys will always be treated as labels (consistent with DataFrame behavior). To access a value by position, use `ser.iloc[pos]`\n",
      "  date = b[2]\n"
     ]
    },
    {
     "name": "stdout",
     "output_type": "stream",
     "text": [
      "done!\n",
      "520, 0\n",
      "generating for 2018-09-28 Aryna Sabalenka, Ashleigh Barty\n"
     ]
    },
    {
     "name": "stderr",
     "output_type": "stream",
     "text": [
      "/var/folders/pt/zlhpwgms1r38l09fb5f24y_80000gn/T/ipykernel_11826/3368081595.py:6: FutureWarning: Series.__getitem__ treating keys as positions is deprecated. In a future version, integer keys will always be treated as labels (consistent with DataFrame behavior). To access a value by position, use `ser.iloc[pos]`\n",
      "  n1 = b[0]\n",
      "/var/folders/pt/zlhpwgms1r38l09fb5f24y_80000gn/T/ipykernel_11826/3368081595.py:7: FutureWarning: Series.__getitem__ treating keys as positions is deprecated. In a future version, integer keys will always be treated as labels (consistent with DataFrame behavior). To access a value by position, use `ser.iloc[pos]`\n",
      "  n2 = b[1]\n",
      "/var/folders/pt/zlhpwgms1r38l09fb5f24y_80000gn/T/ipykernel_11826/3368081595.py:8: FutureWarning: Series.__getitem__ treating keys as positions is deprecated. In a future version, integer keys will always be treated as labels (consistent with DataFrame behavior). To access a value by position, use `ser.iloc[pos]`\n",
      "  date = b[2]\n"
     ]
    },
    {
     "name": "stdout",
     "output_type": "stream",
     "text": [
      "done!\n",
      "521, 0\n",
      "generating for 2018-09-29 Aryna Sabalenka, Anett Kontaveit\n"
     ]
    },
    {
     "name": "stderr",
     "output_type": "stream",
     "text": [
      "/var/folders/pt/zlhpwgms1r38l09fb5f24y_80000gn/T/ipykernel_11826/3368081595.py:6: FutureWarning: Series.__getitem__ treating keys as positions is deprecated. In a future version, integer keys will always be treated as labels (consistent with DataFrame behavior). To access a value by position, use `ser.iloc[pos]`\n",
      "  n1 = b[0]\n",
      "/var/folders/pt/zlhpwgms1r38l09fb5f24y_80000gn/T/ipykernel_11826/3368081595.py:7: FutureWarning: Series.__getitem__ treating keys as positions is deprecated. In a future version, integer keys will always be treated as labels (consistent with DataFrame behavior). To access a value by position, use `ser.iloc[pos]`\n",
      "  n2 = b[1]\n",
      "/var/folders/pt/zlhpwgms1r38l09fb5f24y_80000gn/T/ipykernel_11826/3368081595.py:8: FutureWarning: Series.__getitem__ treating keys as positions is deprecated. In a future version, integer keys will always be treated as labels (consistent with DataFrame behavior). To access a value by position, use `ser.iloc[pos]`\n",
      "  date = b[2]\n"
     ]
    },
    {
     "name": "stdout",
     "output_type": "stream",
     "text": [
      "done!\n",
      "522, 0\n",
      "generating for 2018-09-29 Jelena Ostapenko, Magdalena Rybarikova\n"
     ]
    },
    {
     "name": "stderr",
     "output_type": "stream",
     "text": [
      "/var/folders/pt/zlhpwgms1r38l09fb5f24y_80000gn/T/ipykernel_11826/3368081595.py:6: FutureWarning: Series.__getitem__ treating keys as positions is deprecated. In a future version, integer keys will always be treated as labels (consistent with DataFrame behavior). To access a value by position, use `ser.iloc[pos]`\n",
      "  n1 = b[0]\n",
      "/var/folders/pt/zlhpwgms1r38l09fb5f24y_80000gn/T/ipykernel_11826/3368081595.py:7: FutureWarning: Series.__getitem__ treating keys as positions is deprecated. In a future version, integer keys will always be treated as labels (consistent with DataFrame behavior). To access a value by position, use `ser.iloc[pos]`\n",
      "  n2 = b[1]\n",
      "/var/folders/pt/zlhpwgms1r38l09fb5f24y_80000gn/T/ipykernel_11826/3368081595.py:8: FutureWarning: Series.__getitem__ treating keys as positions is deprecated. In a future version, integer keys will always be treated as labels (consistent with DataFrame behavior). To access a value by position, use `ser.iloc[pos]`\n",
      "  date = b[2]\n"
     ]
    },
    {
     "name": "stdout",
     "output_type": "stream",
     "text": [
      "done!\n",
      "523, 0\n",
      "generating for 2018-09-29 Julia Goerges, Johanna Konta\n"
     ]
    },
    {
     "name": "stderr",
     "output_type": "stream",
     "text": [
      "/var/folders/pt/zlhpwgms1r38l09fb5f24y_80000gn/T/ipykernel_11826/3368081595.py:6: FutureWarning: Series.__getitem__ treating keys as positions is deprecated. In a future version, integer keys will always be treated as labels (consistent with DataFrame behavior). To access a value by position, use `ser.iloc[pos]`\n",
      "  n1 = b[0]\n",
      "/var/folders/pt/zlhpwgms1r38l09fb5f24y_80000gn/T/ipykernel_11826/3368081595.py:7: FutureWarning: Series.__getitem__ treating keys as positions is deprecated. In a future version, integer keys will always be treated as labels (consistent with DataFrame behavior). To access a value by position, use `ser.iloc[pos]`\n",
      "  n2 = b[1]\n",
      "/var/folders/pt/zlhpwgms1r38l09fb5f24y_80000gn/T/ipykernel_11826/3368081595.py:8: FutureWarning: Series.__getitem__ treating keys as positions is deprecated. In a future version, integer keys will always be treated as labels (consistent with DataFrame behavior). To access a value by position, use `ser.iloc[pos]`\n",
      "  date = b[2]\n"
     ]
    },
    {
     "name": "stdout",
     "output_type": "stream",
     "text": [
      "done!\n",
      "524, 0\n",
      "generating for 2018-09-30 Ons Jabeur, Simona Halep\n"
     ]
    },
    {
     "name": "stderr",
     "output_type": "stream",
     "text": [
      "/var/folders/pt/zlhpwgms1r38l09fb5f24y_80000gn/T/ipykernel_11826/3368081595.py:6: FutureWarning: Series.__getitem__ treating keys as positions is deprecated. In a future version, integer keys will always be treated as labels (consistent with DataFrame behavior). To access a value by position, use `ser.iloc[pos]`\n",
      "  n1 = b[0]\n",
      "/var/folders/pt/zlhpwgms1r38l09fb5f24y_80000gn/T/ipykernel_11826/3368081595.py:7: FutureWarning: Series.__getitem__ treating keys as positions is deprecated. In a future version, integer keys will always be treated as labels (consistent with DataFrame behavior). To access a value by position, use `ser.iloc[pos]`\n",
      "  n2 = b[1]\n",
      "/var/folders/pt/zlhpwgms1r38l09fb5f24y_80000gn/T/ipykernel_11826/3368081595.py:8: FutureWarning: Series.__getitem__ treating keys as positions is deprecated. In a future version, integer keys will always be treated as labels (consistent with DataFrame behavior). To access a value by position, use `ser.iloc[pos]`\n",
      "  date = b[2]\n"
     ]
    },
    {
     "name": "stdout",
     "output_type": "stream",
     "text": [
      "done!\n",
      "525, 0\n",
      "generating for 2018-09-30 Sloane Stephens, Anastasia Pavlyuchenkova\n"
     ]
    },
    {
     "name": "stderr",
     "output_type": "stream",
     "text": [
      "/var/folders/pt/zlhpwgms1r38l09fb5f24y_80000gn/T/ipykernel_11826/3368081595.py:6: FutureWarning: Series.__getitem__ treating keys as positions is deprecated. In a future version, integer keys will always be treated as labels (consistent with DataFrame behavior). To access a value by position, use `ser.iloc[pos]`\n",
      "  n1 = b[0]\n",
      "/var/folders/pt/zlhpwgms1r38l09fb5f24y_80000gn/T/ipykernel_11826/3368081595.py:7: FutureWarning: Series.__getitem__ treating keys as positions is deprecated. In a future version, integer keys will always be treated as labels (consistent with DataFrame behavior). To access a value by position, use `ser.iloc[pos]`\n",
      "  n2 = b[1]\n",
      "/var/folders/pt/zlhpwgms1r38l09fb5f24y_80000gn/T/ipykernel_11826/3368081595.py:8: FutureWarning: Series.__getitem__ treating keys as positions is deprecated. In a future version, integer keys will always be treated as labels (consistent with DataFrame behavior). To access a value by position, use `ser.iloc[pos]`\n",
      "  date = b[2]\n"
     ]
    },
    {
     "name": "stdout",
     "output_type": "stream",
     "text": [
      "done!\n",
      "526, 0\n",
      "generating for 2018-09-30 Kiki Bertens, Sorana Cirstea\n"
     ]
    },
    {
     "name": "stderr",
     "output_type": "stream",
     "text": [
      "/var/folders/pt/zlhpwgms1r38l09fb5f24y_80000gn/T/ipykernel_11826/3368081595.py:6: FutureWarning: Series.__getitem__ treating keys as positions is deprecated. In a future version, integer keys will always be treated as labels (consistent with DataFrame behavior). To access a value by position, use `ser.iloc[pos]`\n",
      "  n1 = b[0]\n",
      "/var/folders/pt/zlhpwgms1r38l09fb5f24y_80000gn/T/ipykernel_11826/3368081595.py:7: FutureWarning: Series.__getitem__ treating keys as positions is deprecated. In a future version, integer keys will always be treated as labels (consistent with DataFrame behavior). To access a value by position, use `ser.iloc[pos]`\n",
      "  n2 = b[1]\n",
      "/var/folders/pt/zlhpwgms1r38l09fb5f24y_80000gn/T/ipykernel_11826/3368081595.py:8: FutureWarning: Series.__getitem__ treating keys as positions is deprecated. In a future version, integer keys will always be treated as labels (consistent with DataFrame behavior). To access a value by position, use `ser.iloc[pos]`\n",
      "  date = b[2]\n"
     ]
    },
    {
     "name": "stdout",
     "output_type": "stream",
     "text": [
      "done!\n",
      "527, 0\n",
      "generating for 2018-10-01 Karolina Pliskova, Samantha Stosur\n"
     ]
    },
    {
     "name": "stderr",
     "output_type": "stream",
     "text": [
      "/var/folders/pt/zlhpwgms1r38l09fb5f24y_80000gn/T/ipykernel_11826/3368081595.py:6: FutureWarning: Series.__getitem__ treating keys as positions is deprecated. In a future version, integer keys will always be treated as labels (consistent with DataFrame behavior). To access a value by position, use `ser.iloc[pos]`\n",
      "  n1 = b[0]\n",
      "/var/folders/pt/zlhpwgms1r38l09fb5f24y_80000gn/T/ipykernel_11826/3368081595.py:7: FutureWarning: Series.__getitem__ treating keys as positions is deprecated. In a future version, integer keys will always be treated as labels (consistent with DataFrame behavior). To access a value by position, use `ser.iloc[pos]`\n",
      "  n2 = b[1]\n",
      "/var/folders/pt/zlhpwgms1r38l09fb5f24y_80000gn/T/ipykernel_11826/3368081595.py:8: FutureWarning: Series.__getitem__ treating keys as positions is deprecated. In a future version, integer keys will always be treated as labels (consistent with DataFrame behavior). To access a value by position, use `ser.iloc[pos]`\n",
      "  date = b[2]\n"
     ]
    },
    {
     "name": "stdout",
     "output_type": "stream",
     "text": [
      "done!\n",
      "528, 0\n",
      "generating for 2018-10-01 Carla Suarez Navarro, Yulia Putintseva\n"
     ]
    },
    {
     "name": "stderr",
     "output_type": "stream",
     "text": [
      "/var/folders/pt/zlhpwgms1r38l09fb5f24y_80000gn/T/ipykernel_11826/3368081595.py:6: FutureWarning: Series.__getitem__ treating keys as positions is deprecated. In a future version, integer keys will always be treated as labels (consistent with DataFrame behavior). To access a value by position, use `ser.iloc[pos]`\n",
      "  n1 = b[0]\n",
      "/var/folders/pt/zlhpwgms1r38l09fb5f24y_80000gn/T/ipykernel_11826/3368081595.py:7: FutureWarning: Series.__getitem__ treating keys as positions is deprecated. In a future version, integer keys will always be treated as labels (consistent with DataFrame behavior). To access a value by position, use `ser.iloc[pos]`\n",
      "  n2 = b[1]\n",
      "/var/folders/pt/zlhpwgms1r38l09fb5f24y_80000gn/T/ipykernel_11826/3368081595.py:8: FutureWarning: Series.__getitem__ treating keys as positions is deprecated. In a future version, integer keys will always be treated as labels (consistent with DataFrame behavior). To access a value by position, use `ser.iloc[pos]`\n",
      "  date = b[2]\n"
     ]
    },
    {
     "name": "stdout",
     "output_type": "stream",
     "text": [
      "done!\n",
      "529, 0\n",
      "generating for 2018-10-01 Shuai Zhang, Elise Mertens\n"
     ]
    },
    {
     "name": "stderr",
     "output_type": "stream",
     "text": [
      "/var/folders/pt/zlhpwgms1r38l09fb5f24y_80000gn/T/ipykernel_11826/3368081595.py:6: FutureWarning: Series.__getitem__ treating keys as positions is deprecated. In a future version, integer keys will always be treated as labels (consistent with DataFrame behavior). To access a value by position, use `ser.iloc[pos]`\n",
      "  n1 = b[0]\n",
      "/var/folders/pt/zlhpwgms1r38l09fb5f24y_80000gn/T/ipykernel_11826/3368081595.py:7: FutureWarning: Series.__getitem__ treating keys as positions is deprecated. In a future version, integer keys will always be treated as labels (consistent with DataFrame behavior). To access a value by position, use `ser.iloc[pos]`\n",
      "  n2 = b[1]\n",
      "/var/folders/pt/zlhpwgms1r38l09fb5f24y_80000gn/T/ipykernel_11826/3368081595.py:8: FutureWarning: Series.__getitem__ treating keys as positions is deprecated. In a future version, integer keys will always be treated as labels (consistent with DataFrame behavior). To access a value by position, use `ser.iloc[pos]`\n",
      "  date = b[2]\n"
     ]
    },
    {
     "name": "stdout",
     "output_type": "stream",
     "text": [
      "done!\n",
      "530, 0\n",
      "generating for 2018-10-01 Julia Goerges, Lesia Tsurenko\n"
     ]
    },
    {
     "name": "stderr",
     "output_type": "stream",
     "text": [
      "/var/folders/pt/zlhpwgms1r38l09fb5f24y_80000gn/T/ipykernel_11826/3368081595.py:6: FutureWarning: Series.__getitem__ treating keys as positions is deprecated. In a future version, integer keys will always be treated as labels (consistent with DataFrame behavior). To access a value by position, use `ser.iloc[pos]`\n",
      "  n1 = b[0]\n",
      "/var/folders/pt/zlhpwgms1r38l09fb5f24y_80000gn/T/ipykernel_11826/3368081595.py:7: FutureWarning: Series.__getitem__ treating keys as positions is deprecated. In a future version, integer keys will always be treated as labels (consistent with DataFrame behavior). To access a value by position, use `ser.iloc[pos]`\n",
      "  n2 = b[1]\n",
      "/var/folders/pt/zlhpwgms1r38l09fb5f24y_80000gn/T/ipykernel_11826/3368081595.py:8: FutureWarning: Series.__getitem__ treating keys as positions is deprecated. In a future version, integer keys will always be treated as labels (consistent with DataFrame behavior). To access a value by position, use `ser.iloc[pos]`\n",
      "  date = b[2]\n"
     ]
    },
    {
     "name": "stdout",
     "output_type": "stream",
     "text": [
      "done!\n",
      "531, 0\n",
      "generating for 2018-10-01 Anastasija Sevastova, Madison Keys\n"
     ]
    },
    {
     "name": "stderr",
     "output_type": "stream",
     "text": [
      "/var/folders/pt/zlhpwgms1r38l09fb5f24y_80000gn/T/ipykernel_11826/3368081595.py:6: FutureWarning: Series.__getitem__ treating keys as positions is deprecated. In a future version, integer keys will always be treated as labels (consistent with DataFrame behavior). To access a value by position, use `ser.iloc[pos]`\n",
      "  n1 = b[0]\n",
      "/var/folders/pt/zlhpwgms1r38l09fb5f24y_80000gn/T/ipykernel_11826/3368081595.py:7: FutureWarning: Series.__getitem__ treating keys as positions is deprecated. In a future version, integer keys will always be treated as labels (consistent with DataFrame behavior). To access a value by position, use `ser.iloc[pos]`\n",
      "  n2 = b[1]\n",
      "/var/folders/pt/zlhpwgms1r38l09fb5f24y_80000gn/T/ipykernel_11826/3368081595.py:8: FutureWarning: Series.__getitem__ treating keys as positions is deprecated. In a future version, integer keys will always be treated as labels (consistent with DataFrame behavior). To access a value by position, use `ser.iloc[pos]`\n",
      "  date = b[2]\n"
     ]
    },
    {
     "name": "stdout",
     "output_type": "stream",
     "text": [
      "done!\n",
      "532, 0\n",
      "generating for 2018-10-02 Aryna Sabalenka, Garbine Muguruza\n"
     ]
    },
    {
     "name": "stderr",
     "output_type": "stream",
     "text": [
      "/var/folders/pt/zlhpwgms1r38l09fb5f24y_80000gn/T/ipykernel_11826/3368081595.py:6: FutureWarning: Series.__getitem__ treating keys as positions is deprecated. In a future version, integer keys will always be treated as labels (consistent with DataFrame behavior). To access a value by position, use `ser.iloc[pos]`\n",
      "  n1 = b[0]\n",
      "/var/folders/pt/zlhpwgms1r38l09fb5f24y_80000gn/T/ipykernel_11826/3368081595.py:7: FutureWarning: Series.__getitem__ treating keys as positions is deprecated. In a future version, integer keys will always be treated as labels (consistent with DataFrame behavior). To access a value by position, use `ser.iloc[pos]`\n",
      "  n2 = b[1]\n",
      "/var/folders/pt/zlhpwgms1r38l09fb5f24y_80000gn/T/ipykernel_11826/3368081595.py:8: FutureWarning: Series.__getitem__ treating keys as positions is deprecated. In a future version, integer keys will always be treated as labels (consistent with DataFrame behavior). To access a value by position, use `ser.iloc[pos]`\n",
      "  date = b[2]\n"
     ]
    },
    {
     "name": "stdout",
     "output_type": "stream",
     "text": [
      "done!\n",
      "533, 0\n",
      "generating for 2018-10-03 Caroline Wozniacki, Petra Martic\n"
     ]
    },
    {
     "name": "stderr",
     "output_type": "stream",
     "text": [
      "/var/folders/pt/zlhpwgms1r38l09fb5f24y_80000gn/T/ipykernel_11826/3368081595.py:6: FutureWarning: Series.__getitem__ treating keys as positions is deprecated. In a future version, integer keys will always be treated as labels (consistent with DataFrame behavior). To access a value by position, use `ser.iloc[pos]`\n",
      "  n1 = b[0]\n",
      "/var/folders/pt/zlhpwgms1r38l09fb5f24y_80000gn/T/ipykernel_11826/3368081595.py:7: FutureWarning: Series.__getitem__ treating keys as positions is deprecated. In a future version, integer keys will always be treated as labels (consistent with DataFrame behavior). To access a value by position, use `ser.iloc[pos]`\n",
      "  n2 = b[1]\n",
      "/var/folders/pt/zlhpwgms1r38l09fb5f24y_80000gn/T/ipykernel_11826/3368081595.py:8: FutureWarning: Series.__getitem__ treating keys as positions is deprecated. In a future version, integer keys will always be treated as labels (consistent with DataFrame behavior). To access a value by position, use `ser.iloc[pos]`\n",
      "  date = b[2]\n"
     ]
    },
    {
     "name": "stdout",
     "output_type": "stream",
     "text": [
      "done!\n",
      "534, 0\n",
      "generating for 2018-10-03 Anastasija Sevastova, Donna Vekic\n"
     ]
    },
    {
     "name": "stderr",
     "output_type": "stream",
     "text": [
      "/var/folders/pt/zlhpwgms1r38l09fb5f24y_80000gn/T/ipykernel_11826/3368081595.py:6: FutureWarning: Series.__getitem__ treating keys as positions is deprecated. In a future version, integer keys will always be treated as labels (consistent with DataFrame behavior). To access a value by position, use `ser.iloc[pos]`\n",
      "  n1 = b[0]\n",
      "/var/folders/pt/zlhpwgms1r38l09fb5f24y_80000gn/T/ipykernel_11826/3368081595.py:7: FutureWarning: Series.__getitem__ treating keys as positions is deprecated. In a future version, integer keys will always be treated as labels (consistent with DataFrame behavior). To access a value by position, use `ser.iloc[pos]`\n",
      "  n2 = b[1]\n",
      "/var/folders/pt/zlhpwgms1r38l09fb5f24y_80000gn/T/ipykernel_11826/3368081595.py:8: FutureWarning: Series.__getitem__ treating keys as positions is deprecated. In a future version, integer keys will always be treated as labels (consistent with DataFrame behavior). To access a value by position, use `ser.iloc[pos]`\n",
      "  date = b[2]\n"
     ]
    },
    {
     "name": "stdout",
     "output_type": "stream",
     "text": [
      "done!\n",
      "535, 0\n",
      "generating for 2018-10-03 Dominika Cibulkova, Sloane Stephens\n"
     ]
    },
    {
     "name": "stderr",
     "output_type": "stream",
     "text": [
      "/var/folders/pt/zlhpwgms1r38l09fb5f24y_80000gn/T/ipykernel_11826/3368081595.py:6: FutureWarning: Series.__getitem__ treating keys as positions is deprecated. In a future version, integer keys will always be treated as labels (consistent with DataFrame behavior). To access a value by position, use `ser.iloc[pos]`\n",
      "  n1 = b[0]\n",
      "/var/folders/pt/zlhpwgms1r38l09fb5f24y_80000gn/T/ipykernel_11826/3368081595.py:7: FutureWarning: Series.__getitem__ treating keys as positions is deprecated. In a future version, integer keys will always be treated as labels (consistent with DataFrame behavior). To access a value by position, use `ser.iloc[pos]`\n",
      "  n2 = b[1]\n",
      "/var/folders/pt/zlhpwgms1r38l09fb5f24y_80000gn/T/ipykernel_11826/3368081595.py:8: FutureWarning: Series.__getitem__ treating keys as positions is deprecated. In a future version, integer keys will always be treated as labels (consistent with DataFrame behavior). To access a value by position, use `ser.iloc[pos]`\n",
      "  date = b[2]\n"
     ]
    },
    {
     "name": "stdout",
     "output_type": "stream",
     "text": [
      "done!\n",
      "536, 0\n",
      "generating for 2018-10-04 Naomi Osaka, Julia Goerges\n"
     ]
    },
    {
     "name": "stderr",
     "output_type": "stream",
     "text": [
      "/var/folders/pt/zlhpwgms1r38l09fb5f24y_80000gn/T/ipykernel_11826/3368081595.py:6: FutureWarning: Series.__getitem__ treating keys as positions is deprecated. In a future version, integer keys will always be treated as labels (consistent with DataFrame behavior). To access a value by position, use `ser.iloc[pos]`\n",
      "  n1 = b[0]\n",
      "/var/folders/pt/zlhpwgms1r38l09fb5f24y_80000gn/T/ipykernel_11826/3368081595.py:7: FutureWarning: Series.__getitem__ treating keys as positions is deprecated. In a future version, integer keys will always be treated as labels (consistent with DataFrame behavior). To access a value by position, use `ser.iloc[pos]`\n",
      "  n2 = b[1]\n",
      "/var/folders/pt/zlhpwgms1r38l09fb5f24y_80000gn/T/ipykernel_11826/3368081595.py:8: FutureWarning: Series.__getitem__ treating keys as positions is deprecated. In a future version, integer keys will always be treated as labels (consistent with DataFrame behavior). To access a value by position, use `ser.iloc[pos]`\n",
      "  date = b[2]\n"
     ]
    },
    {
     "name": "stdout",
     "output_type": "stream",
     "text": [
      "done!\n",
      "537, 0\n",
      "generating for 2018-10-04 Caroline Wozniacki, Anett Kontaveit\n"
     ]
    },
    {
     "name": "stderr",
     "output_type": "stream",
     "text": [
      "/var/folders/pt/zlhpwgms1r38l09fb5f24y_80000gn/T/ipykernel_11826/3368081595.py:6: FutureWarning: Series.__getitem__ treating keys as positions is deprecated. In a future version, integer keys will always be treated as labels (consistent with DataFrame behavior). To access a value by position, use `ser.iloc[pos]`\n",
      "  n1 = b[0]\n",
      "/var/folders/pt/zlhpwgms1r38l09fb5f24y_80000gn/T/ipykernel_11826/3368081595.py:7: FutureWarning: Series.__getitem__ treating keys as positions is deprecated. In a future version, integer keys will always be treated as labels (consistent with DataFrame behavior). To access a value by position, use `ser.iloc[pos]`\n",
      "  n2 = b[1]\n",
      "/var/folders/pt/zlhpwgms1r38l09fb5f24y_80000gn/T/ipykernel_11826/3368081595.py:8: FutureWarning: Series.__getitem__ treating keys as positions is deprecated. In a future version, integer keys will always be treated as labels (consistent with DataFrame behavior). To access a value by position, use `ser.iloc[pos]`\n",
      "  date = b[2]\n"
     ]
    },
    {
     "name": "stdout",
     "output_type": "stream",
     "text": [
      "done!\n",
      "538, 0\n",
      "generating for 2018-10-04 Aryna Sabalenka, Caroline Garcia\n"
     ]
    },
    {
     "name": "stderr",
     "output_type": "stream",
     "text": [
      "/var/folders/pt/zlhpwgms1r38l09fb5f24y_80000gn/T/ipykernel_11826/3368081595.py:6: FutureWarning: Series.__getitem__ treating keys as positions is deprecated. In a future version, integer keys will always be treated as labels (consistent with DataFrame behavior). To access a value by position, use `ser.iloc[pos]`\n",
      "  n1 = b[0]\n",
      "/var/folders/pt/zlhpwgms1r38l09fb5f24y_80000gn/T/ipykernel_11826/3368081595.py:7: FutureWarning: Series.__getitem__ treating keys as positions is deprecated. In a future version, integer keys will always be treated as labels (consistent with DataFrame behavior). To access a value by position, use `ser.iloc[pos]`\n",
      "  n2 = b[1]\n",
      "/var/folders/pt/zlhpwgms1r38l09fb5f24y_80000gn/T/ipykernel_11826/3368081595.py:8: FutureWarning: Series.__getitem__ treating keys as positions is deprecated. In a future version, integer keys will always be treated as labels (consistent with DataFrame behavior). To access a value by position, use `ser.iloc[pos]`\n",
      "  date = b[2]\n"
     ]
    },
    {
     "name": "stdout",
     "output_type": "stream",
     "text": [
      "done!\n",
      "539, 0\n",
      "generating for 2018-10-05 Anastasija Sevastova, Dominika Cibulkova\n"
     ]
    },
    {
     "name": "stderr",
     "output_type": "stream",
     "text": [
      "/var/folders/pt/zlhpwgms1r38l09fb5f24y_80000gn/T/ipykernel_11826/3368081595.py:6: FutureWarning: Series.__getitem__ treating keys as positions is deprecated. In a future version, integer keys will always be treated as labels (consistent with DataFrame behavior). To access a value by position, use `ser.iloc[pos]`\n",
      "  n1 = b[0]\n",
      "/var/folders/pt/zlhpwgms1r38l09fb5f24y_80000gn/T/ipykernel_11826/3368081595.py:7: FutureWarning: Series.__getitem__ treating keys as positions is deprecated. In a future version, integer keys will always be treated as labels (consistent with DataFrame behavior). To access a value by position, use `ser.iloc[pos]`\n",
      "  n2 = b[1]\n",
      "/var/folders/pt/zlhpwgms1r38l09fb5f24y_80000gn/T/ipykernel_11826/3368081595.py:8: FutureWarning: Series.__getitem__ treating keys as positions is deprecated. In a future version, integer keys will always be treated as labels (consistent with DataFrame behavior). To access a value by position, use `ser.iloc[pos]`\n",
      "  date = b[2]\n"
     ]
    },
    {
     "name": "stdout",
     "output_type": "stream",
     "text": [
      "done!\n",
      "540, 0\n",
      "generating for 2018-10-05 Caroline Wozniacki, Katerina Siniakova\n"
     ]
    },
    {
     "name": "stderr",
     "output_type": "stream",
     "text": [
      "/var/folders/pt/zlhpwgms1r38l09fb5f24y_80000gn/T/ipykernel_11826/3368081595.py:6: FutureWarning: Series.__getitem__ treating keys as positions is deprecated. In a future version, integer keys will always be treated as labels (consistent with DataFrame behavior). To access a value by position, use `ser.iloc[pos]`\n",
      "  n1 = b[0]\n",
      "/var/folders/pt/zlhpwgms1r38l09fb5f24y_80000gn/T/ipykernel_11826/3368081595.py:7: FutureWarning: Series.__getitem__ treating keys as positions is deprecated. In a future version, integer keys will always be treated as labels (consistent with DataFrame behavior). To access a value by position, use `ser.iloc[pos]`\n",
      "  n2 = b[1]\n",
      "/var/folders/pt/zlhpwgms1r38l09fb5f24y_80000gn/T/ipykernel_11826/3368081595.py:8: FutureWarning: Series.__getitem__ treating keys as positions is deprecated. In a future version, integer keys will always be treated as labels (consistent with DataFrame behavior). To access a value by position, use `ser.iloc[pos]`\n",
      "  date = b[2]\n"
     ]
    },
    {
     "name": "stdout",
     "output_type": "stream",
     "text": [
      "done!\n",
      "541, 0\n",
      "generating for 2018-10-06 Anastasija Sevastova, Naomi Osaka\n"
     ]
    },
    {
     "name": "stderr",
     "output_type": "stream",
     "text": [
      "/var/folders/pt/zlhpwgms1r38l09fb5f24y_80000gn/T/ipykernel_11826/3368081595.py:6: FutureWarning: Series.__getitem__ treating keys as positions is deprecated. In a future version, integer keys will always be treated as labels (consistent with DataFrame behavior). To access a value by position, use `ser.iloc[pos]`\n",
      "  n1 = b[0]\n",
      "/var/folders/pt/zlhpwgms1r38l09fb5f24y_80000gn/T/ipykernel_11826/3368081595.py:7: FutureWarning: Series.__getitem__ treating keys as positions is deprecated. In a future version, integer keys will always be treated as labels (consistent with DataFrame behavior). To access a value by position, use `ser.iloc[pos]`\n",
      "  n2 = b[1]\n",
      "/var/folders/pt/zlhpwgms1r38l09fb5f24y_80000gn/T/ipykernel_11826/3368081595.py:8: FutureWarning: Series.__getitem__ treating keys as positions is deprecated. In a future version, integer keys will always be treated as labels (consistent with DataFrame behavior). To access a value by position, use `ser.iloc[pos]`\n",
      "  date = b[2]\n"
     ]
    },
    {
     "name": "stdout",
     "output_type": "stream",
     "text": [
      "done!\n",
      "542, 0\n",
      "generating for 2018-10-06 Caroline Wozniacki, Qiang Wang\n"
     ]
    },
    {
     "name": "stderr",
     "output_type": "stream",
     "text": [
      "/var/folders/pt/zlhpwgms1r38l09fb5f24y_80000gn/T/ipykernel_11826/3368081595.py:6: FutureWarning: Series.__getitem__ treating keys as positions is deprecated. In a future version, integer keys will always be treated as labels (consistent with DataFrame behavior). To access a value by position, use `ser.iloc[pos]`\n",
      "  n1 = b[0]\n",
      "/var/folders/pt/zlhpwgms1r38l09fb5f24y_80000gn/T/ipykernel_11826/3368081595.py:7: FutureWarning: Series.__getitem__ treating keys as positions is deprecated. In a future version, integer keys will always be treated as labels (consistent with DataFrame behavior). To access a value by position, use `ser.iloc[pos]`\n",
      "  n2 = b[1]\n",
      "/var/folders/pt/zlhpwgms1r38l09fb5f24y_80000gn/T/ipykernel_11826/3368081595.py:8: FutureWarning: Series.__getitem__ treating keys as positions is deprecated. In a future version, integer keys will always be treated as labels (consistent with DataFrame behavior). To access a value by position, use `ser.iloc[pos]`\n",
      "  date = b[2]\n"
     ]
    },
    {
     "name": "stdout",
     "output_type": "stream",
     "text": [
      "done!\n",
      "543, 0\n",
      "generating for 2018-10-07 Caroline Wozniacki, Anastasija Sevastova\n"
     ]
    },
    {
     "name": "stderr",
     "output_type": "stream",
     "text": [
      "/var/folders/pt/zlhpwgms1r38l09fb5f24y_80000gn/T/ipykernel_11826/3368081595.py:6: FutureWarning: Series.__getitem__ treating keys as positions is deprecated. In a future version, integer keys will always be treated as labels (consistent with DataFrame behavior). To access a value by position, use `ser.iloc[pos]`\n",
      "  n1 = b[0]\n",
      "/var/folders/pt/zlhpwgms1r38l09fb5f24y_80000gn/T/ipykernel_11826/3368081595.py:7: FutureWarning: Series.__getitem__ treating keys as positions is deprecated. In a future version, integer keys will always be treated as labels (consistent with DataFrame behavior). To access a value by position, use `ser.iloc[pos]`\n",
      "  n2 = b[1]\n",
      "/var/folders/pt/zlhpwgms1r38l09fb5f24y_80000gn/T/ipykernel_11826/3368081595.py:8: FutureWarning: Series.__getitem__ treating keys as positions is deprecated. In a future version, integer keys will always be treated as labels (consistent with DataFrame behavior). To access a value by position, use `ser.iloc[pos]`\n",
      "  date = b[2]\n"
     ]
    },
    {
     "name": "stdout",
     "output_type": "stream",
     "text": [
      "done!\n",
      "544, 0\n",
      "generating for 2018-10-13 Qiang Wang, Elina Svitolina\n"
     ]
    },
    {
     "name": "stderr",
     "output_type": "stream",
     "text": [
      "/var/folders/pt/zlhpwgms1r38l09fb5f24y_80000gn/T/ipykernel_11826/3368081595.py:6: FutureWarning: Series.__getitem__ treating keys as positions is deprecated. In a future version, integer keys will always be treated as labels (consistent with DataFrame behavior). To access a value by position, use `ser.iloc[pos]`\n",
      "  n1 = b[0]\n",
      "/var/folders/pt/zlhpwgms1r38l09fb5f24y_80000gn/T/ipykernel_11826/3368081595.py:7: FutureWarning: Series.__getitem__ treating keys as positions is deprecated. In a future version, integer keys will always be treated as labels (consistent with DataFrame behavior). To access a value by position, use `ser.iloc[pos]`\n",
      "  n2 = b[1]\n",
      "/var/folders/pt/zlhpwgms1r38l09fb5f24y_80000gn/T/ipykernel_11826/3368081595.py:8: FutureWarning: Series.__getitem__ treating keys as positions is deprecated. In a future version, integer keys will always be treated as labels (consistent with DataFrame behavior). To access a value by position, use `ser.iloc[pos]`\n",
      "  date = b[2]\n"
     ]
    },
    {
     "name": "stdout",
     "output_type": "stream",
     "text": [
      "done!\n",
      "545, 0\n",
      "generating for 2018-10-13 Qiang Wang, Garbine Muguruza\n"
     ]
    },
    {
     "name": "stderr",
     "output_type": "stream",
     "text": [
      "/var/folders/pt/zlhpwgms1r38l09fb5f24y_80000gn/T/ipykernel_11826/3368081595.py:6: FutureWarning: Series.__getitem__ treating keys as positions is deprecated. In a future version, integer keys will always be treated as labels (consistent with DataFrame behavior). To access a value by position, use `ser.iloc[pos]`\n",
      "  n1 = b[0]\n",
      "/var/folders/pt/zlhpwgms1r38l09fb5f24y_80000gn/T/ipykernel_11826/3368081595.py:7: FutureWarning: Series.__getitem__ treating keys as positions is deprecated. In a future version, integer keys will always be treated as labels (consistent with DataFrame behavior). To access a value by position, use `ser.iloc[pos]`\n",
      "  n2 = b[1]\n",
      "/var/folders/pt/zlhpwgms1r38l09fb5f24y_80000gn/T/ipykernel_11826/3368081595.py:8: FutureWarning: Series.__getitem__ treating keys as positions is deprecated. In a future version, integer keys will always be treated as labels (consistent with DataFrame behavior). To access a value by position, use `ser.iloc[pos]`\n",
      "  date = b[2]\n"
     ]
    },
    {
     "name": "stdout",
     "output_type": "stream",
     "text": [
      "done!\n",
      "546, 0\n",
      "generating for 2018-10-12 Su Wei Hsieh, Elise Mertens\n"
     ]
    },
    {
     "name": "stderr",
     "output_type": "stream",
     "text": [
      "/var/folders/pt/zlhpwgms1r38l09fb5f24y_80000gn/T/ipykernel_11826/3368081595.py:6: FutureWarning: Series.__getitem__ treating keys as positions is deprecated. In a future version, integer keys will always be treated as labels (consistent with DataFrame behavior). To access a value by position, use `ser.iloc[pos]`\n",
      "  n1 = b[0]\n",
      "/var/folders/pt/zlhpwgms1r38l09fb5f24y_80000gn/T/ipykernel_11826/3368081595.py:7: FutureWarning: Series.__getitem__ treating keys as positions is deprecated. In a future version, integer keys will always be treated as labels (consistent with DataFrame behavior). To access a value by position, use `ser.iloc[pos]`\n",
      "  n2 = b[1]\n",
      "/var/folders/pt/zlhpwgms1r38l09fb5f24y_80000gn/T/ipykernel_11826/3368081595.py:8: FutureWarning: Series.__getitem__ treating keys as positions is deprecated. In a future version, integer keys will always be treated as labels (consistent with DataFrame behavior). To access a value by position, use `ser.iloc[pos]`\n",
      "  date = b[2]\n"
     ]
    },
    {
     "name": "stdout",
     "output_type": "stream",
     "text": [
      "done!\n",
      "547, 0\n",
      "generating for 2018-10-13 Caroline Garcia, Su Wei Hsieh\n"
     ]
    },
    {
     "name": "stderr",
     "output_type": "stream",
     "text": [
      "/var/folders/pt/zlhpwgms1r38l09fb5f24y_80000gn/T/ipykernel_11826/3368081595.py:6: FutureWarning: Series.__getitem__ treating keys as positions is deprecated. In a future version, integer keys will always be treated as labels (consistent with DataFrame behavior). To access a value by position, use `ser.iloc[pos]`\n",
      "  n1 = b[0]\n",
      "/var/folders/pt/zlhpwgms1r38l09fb5f24y_80000gn/T/ipykernel_11826/3368081595.py:7: FutureWarning: Series.__getitem__ treating keys as positions is deprecated. In a future version, integer keys will always be treated as labels (consistent with DataFrame behavior). To access a value by position, use `ser.iloc[pos]`\n",
      "  n2 = b[1]\n",
      "/var/folders/pt/zlhpwgms1r38l09fb5f24y_80000gn/T/ipykernel_11826/3368081595.py:8: FutureWarning: Series.__getitem__ treating keys as positions is deprecated. In a future version, integer keys will always be treated as labels (consistent with DataFrame behavior). To access a value by position, use `ser.iloc[pos]`\n",
      "  date = b[2]\n"
     ]
    },
    {
     "name": "stdout",
     "output_type": "stream",
     "text": [
      "done!\n",
      "548, 0\n",
      "generating for 2018-10-14 Caroline Garcia, Karolina Pliskova\n"
     ]
    },
    {
     "name": "stderr",
     "output_type": "stream",
     "text": [
      "/var/folders/pt/zlhpwgms1r38l09fb5f24y_80000gn/T/ipykernel_11826/3368081595.py:6: FutureWarning: Series.__getitem__ treating keys as positions is deprecated. In a future version, integer keys will always be treated as labels (consistent with DataFrame behavior). To access a value by position, use `ser.iloc[pos]`\n",
      "  n1 = b[0]\n",
      "/var/folders/pt/zlhpwgms1r38l09fb5f24y_80000gn/T/ipykernel_11826/3368081595.py:7: FutureWarning: Series.__getitem__ treating keys as positions is deprecated. In a future version, integer keys will always be treated as labels (consistent with DataFrame behavior). To access a value by position, use `ser.iloc[pos]`\n",
      "  n2 = b[1]\n",
      "/var/folders/pt/zlhpwgms1r38l09fb5f24y_80000gn/T/ipykernel_11826/3368081595.py:8: FutureWarning: Series.__getitem__ treating keys as positions is deprecated. In a future version, integer keys will always be treated as labels (consistent with DataFrame behavior). To access a value by position, use `ser.iloc[pos]`\n",
      "  date = b[2]\n"
     ]
    },
    {
     "name": "stdout",
     "output_type": "stream",
     "text": [
      "done!\n",
      "549, 0\n",
      "generating for 2018-10-16 Carla Suarez Navarro, Karolina Pliskova\n"
     ]
    },
    {
     "name": "stderr",
     "output_type": "stream",
     "text": [
      "/var/folders/pt/zlhpwgms1r38l09fb5f24y_80000gn/T/ipykernel_11826/3368081595.py:6: FutureWarning: Series.__getitem__ treating keys as positions is deprecated. In a future version, integer keys will always be treated as labels (consistent with DataFrame behavior). To access a value by position, use `ser.iloc[pos]`\n",
      "  n1 = b[0]\n",
      "/var/folders/pt/zlhpwgms1r38l09fb5f24y_80000gn/T/ipykernel_11826/3368081595.py:7: FutureWarning: Series.__getitem__ treating keys as positions is deprecated. In a future version, integer keys will always be treated as labels (consistent with DataFrame behavior). To access a value by position, use `ser.iloc[pos]`\n",
      "  n2 = b[1]\n",
      "/var/folders/pt/zlhpwgms1r38l09fb5f24y_80000gn/T/ipykernel_11826/3368081595.py:8: FutureWarning: Series.__getitem__ treating keys as positions is deprecated. In a future version, integer keys will always be treated as labels (consistent with DataFrame behavior). To access a value by position, use `ser.iloc[pos]`\n",
      "  date = b[2]\n"
     ]
    },
    {
     "name": "stdout",
     "output_type": "stream",
     "text": [
      "done!\n",
      "550, 0\n",
      "generating for 2018-10-18 Julia Goerges, Donna Vekic\n"
     ]
    },
    {
     "name": "stderr",
     "output_type": "stream",
     "text": [
      "/var/folders/pt/zlhpwgms1r38l09fb5f24y_80000gn/T/ipykernel_11826/3368081595.py:6: FutureWarning: Series.__getitem__ treating keys as positions is deprecated. In a future version, integer keys will always be treated as labels (consistent with DataFrame behavior). To access a value by position, use `ser.iloc[pos]`\n",
      "  n1 = b[0]\n",
      "/var/folders/pt/zlhpwgms1r38l09fb5f24y_80000gn/T/ipykernel_11826/3368081595.py:7: FutureWarning: Series.__getitem__ treating keys as positions is deprecated. In a future version, integer keys will always be treated as labels (consistent with DataFrame behavior). To access a value by position, use `ser.iloc[pos]`\n",
      "  n2 = b[1]\n",
      "/var/folders/pt/zlhpwgms1r38l09fb5f24y_80000gn/T/ipykernel_11826/3368081595.py:8: FutureWarning: Series.__getitem__ treating keys as positions is deprecated. In a future version, integer keys will always be treated as labels (consistent with DataFrame behavior). To access a value by position, use `ser.iloc[pos]`\n",
      "  date = b[2]\n"
     ]
    },
    {
     "name": "stdout",
     "output_type": "stream",
     "text": [
      "done!\n",
      "551, 0\n",
      "generating for 2018-10-15 Daria Kasatkina, Lesia Tsurenko\n"
     ]
    },
    {
     "name": "stderr",
     "output_type": "stream",
     "text": [
      "/var/folders/pt/zlhpwgms1r38l09fb5f24y_80000gn/T/ipykernel_11826/3368081595.py:6: FutureWarning: Series.__getitem__ treating keys as positions is deprecated. In a future version, integer keys will always be treated as labels (consistent with DataFrame behavior). To access a value by position, use `ser.iloc[pos]`\n",
      "  n1 = b[0]\n",
      "/var/folders/pt/zlhpwgms1r38l09fb5f24y_80000gn/T/ipykernel_11826/3368081595.py:7: FutureWarning: Series.__getitem__ treating keys as positions is deprecated. In a future version, integer keys will always be treated as labels (consistent with DataFrame behavior). To access a value by position, use `ser.iloc[pos]`\n",
      "  n2 = b[1]\n",
      "/var/folders/pt/zlhpwgms1r38l09fb5f24y_80000gn/T/ipykernel_11826/3368081595.py:8: FutureWarning: Series.__getitem__ treating keys as positions is deprecated. In a future version, integer keys will always be treated as labels (consistent with DataFrame behavior). To access a value by position, use `ser.iloc[pos]`\n",
      "  date = b[2]\n"
     ]
    },
    {
     "name": "stdout",
     "output_type": "stream",
     "text": [
      "done!\n",
      "552, 0\n",
      "generating for 2018-10-16 Johanna Konta, Elise Mertens\n"
     ]
    },
    {
     "name": "stderr",
     "output_type": "stream",
     "text": [
      "/var/folders/pt/zlhpwgms1r38l09fb5f24y_80000gn/T/ipykernel_11826/3368081595.py:6: FutureWarning: Series.__getitem__ treating keys as positions is deprecated. In a future version, integer keys will always be treated as labels (consistent with DataFrame behavior). To access a value by position, use `ser.iloc[pos]`\n",
      "  n1 = b[0]\n",
      "/var/folders/pt/zlhpwgms1r38l09fb5f24y_80000gn/T/ipykernel_11826/3368081595.py:7: FutureWarning: Series.__getitem__ treating keys as positions is deprecated. In a future version, integer keys will always be treated as labels (consistent with DataFrame behavior). To access a value by position, use `ser.iloc[pos]`\n",
      "  n2 = b[1]\n",
      "/var/folders/pt/zlhpwgms1r38l09fb5f24y_80000gn/T/ipykernel_11826/3368081595.py:8: FutureWarning: Series.__getitem__ treating keys as positions is deprecated. In a future version, integer keys will always be treated as labels (consistent with DataFrame behavior). To access a value by position, use `ser.iloc[pos]`\n",
      "  date = b[2]\n"
     ]
    },
    {
     "name": "stdout",
     "output_type": "stream",
     "text": [
      "done!\n",
      "553, 0\n",
      "generating for 2018-10-17 Anastasija Sevastova, Yulia Putintseva\n"
     ]
    },
    {
     "name": "stderr",
     "output_type": "stream",
     "text": [
      "/var/folders/pt/zlhpwgms1r38l09fb5f24y_80000gn/T/ipykernel_11826/3368081595.py:6: FutureWarning: Series.__getitem__ treating keys as positions is deprecated. In a future version, integer keys will always be treated as labels (consistent with DataFrame behavior). To access a value by position, use `ser.iloc[pos]`\n",
      "  n1 = b[0]\n",
      "/var/folders/pt/zlhpwgms1r38l09fb5f24y_80000gn/T/ipykernel_11826/3368081595.py:7: FutureWarning: Series.__getitem__ treating keys as positions is deprecated. In a future version, integer keys will always be treated as labels (consistent with DataFrame behavior). To access a value by position, use `ser.iloc[pos]`\n",
      "  n2 = b[1]\n",
      "/var/folders/pt/zlhpwgms1r38l09fb5f24y_80000gn/T/ipykernel_11826/3368081595.py:8: FutureWarning: Series.__getitem__ treating keys as positions is deprecated. In a future version, integer keys will always be treated as labels (consistent with DataFrame behavior). To access a value by position, use `ser.iloc[pos]`\n",
      "  date = b[2]\n"
     ]
    },
    {
     "name": "stdout",
     "output_type": "stream",
     "text": [
      "done!\n",
      "554, 0\n",
      "generating for 2018-10-18 Daria Kasatkina, Anastasia Pavlyuchenkova\n"
     ]
    },
    {
     "name": "stderr",
     "output_type": "stream",
     "text": [
      "/var/folders/pt/zlhpwgms1r38l09fb5f24y_80000gn/T/ipykernel_11826/3368081595.py:6: FutureWarning: Series.__getitem__ treating keys as positions is deprecated. In a future version, integer keys will always be treated as labels (consistent with DataFrame behavior). To access a value by position, use `ser.iloc[pos]`\n",
      "  n1 = b[0]\n",
      "/var/folders/pt/zlhpwgms1r38l09fb5f24y_80000gn/T/ipykernel_11826/3368081595.py:7: FutureWarning: Series.__getitem__ treating keys as positions is deprecated. In a future version, integer keys will always be treated as labels (consistent with DataFrame behavior). To access a value by position, use `ser.iloc[pos]`\n",
      "  n2 = b[1]\n",
      "/var/folders/pt/zlhpwgms1r38l09fb5f24y_80000gn/T/ipykernel_11826/3368081595.py:8: FutureWarning: Series.__getitem__ treating keys as positions is deprecated. In a future version, integer keys will always be treated as labels (consistent with DataFrame behavior). To access a value by position, use `ser.iloc[pos]`\n",
      "  date = b[2]\n"
     ]
    },
    {
     "name": "stdout",
     "output_type": "stream",
     "text": [
      "done!\n",
      "555, 0\n",
      "generating for 2018-10-19 Daria Kasatkina, Johanna Konta\n"
     ]
    },
    {
     "name": "stderr",
     "output_type": "stream",
     "text": [
      "/var/folders/pt/zlhpwgms1r38l09fb5f24y_80000gn/T/ipykernel_11826/3368081595.py:6: FutureWarning: Series.__getitem__ treating keys as positions is deprecated. In a future version, integer keys will always be treated as labels (consistent with DataFrame behavior). To access a value by position, use `ser.iloc[pos]`\n",
      "  n1 = b[0]\n",
      "/var/folders/pt/zlhpwgms1r38l09fb5f24y_80000gn/T/ipykernel_11826/3368081595.py:7: FutureWarning: Series.__getitem__ treating keys as positions is deprecated. In a future version, integer keys will always be treated as labels (consistent with DataFrame behavior). To access a value by position, use `ser.iloc[pos]`\n",
      "  n2 = b[1]\n",
      "/var/folders/pt/zlhpwgms1r38l09fb5f24y_80000gn/T/ipykernel_11826/3368081595.py:8: FutureWarning: Series.__getitem__ treating keys as positions is deprecated. In a future version, integer keys will always be treated as labels (consistent with DataFrame behavior). To access a value by position, use `ser.iloc[pos]`\n",
      "  date = b[2]\n"
     ]
    },
    {
     "name": "stdout",
     "output_type": "stream",
     "text": [
      "done!\n",
      "556, 0\n",
      "generating for 2018-10-21 Karolina Pliskova, Caroline Wozniacki\n"
     ]
    },
    {
     "name": "stderr",
     "output_type": "stream",
     "text": [
      "/var/folders/pt/zlhpwgms1r38l09fb5f24y_80000gn/T/ipykernel_11826/3368081595.py:6: FutureWarning: Series.__getitem__ treating keys as positions is deprecated. In a future version, integer keys will always be treated as labels (consistent with DataFrame behavior). To access a value by position, use `ser.iloc[pos]`\n",
      "  n1 = b[0]\n",
      "/var/folders/pt/zlhpwgms1r38l09fb5f24y_80000gn/T/ipykernel_11826/3368081595.py:7: FutureWarning: Series.__getitem__ treating keys as positions is deprecated. In a future version, integer keys will always be treated as labels (consistent with DataFrame behavior). To access a value by position, use `ser.iloc[pos]`\n",
      "  n2 = b[1]\n",
      "/var/folders/pt/zlhpwgms1r38l09fb5f24y_80000gn/T/ipykernel_11826/3368081595.py:8: FutureWarning: Series.__getitem__ treating keys as positions is deprecated. In a future version, integer keys will always be treated as labels (consistent with DataFrame behavior). To access a value by position, use `ser.iloc[pos]`\n",
      "  date = b[2]\n"
     ]
    },
    {
     "name": "stdout",
     "output_type": "stream",
     "text": [
      "done!\n",
      "557, 0\n",
      "generating for 2018-10-22 Sloane Stephens, Naomi Osaka\n"
     ]
    },
    {
     "name": "stderr",
     "output_type": "stream",
     "text": [
      "/var/folders/pt/zlhpwgms1r38l09fb5f24y_80000gn/T/ipykernel_11826/3368081595.py:6: FutureWarning: Series.__getitem__ treating keys as positions is deprecated. In a future version, integer keys will always be treated as labels (consistent with DataFrame behavior). To access a value by position, use `ser.iloc[pos]`\n",
      "  n1 = b[0]\n",
      "/var/folders/pt/zlhpwgms1r38l09fb5f24y_80000gn/T/ipykernel_11826/3368081595.py:7: FutureWarning: Series.__getitem__ treating keys as positions is deprecated. In a future version, integer keys will always be treated as labels (consistent with DataFrame behavior). To access a value by position, use `ser.iloc[pos]`\n",
      "  n2 = b[1]\n",
      "/var/folders/pt/zlhpwgms1r38l09fb5f24y_80000gn/T/ipykernel_11826/3368081595.py:8: FutureWarning: Series.__getitem__ treating keys as positions is deprecated. In a future version, integer keys will always be treated as labels (consistent with DataFrame behavior). To access a value by position, use `ser.iloc[pos]`\n",
      "  date = b[2]\n"
     ]
    },
    {
     "name": "stdout",
     "output_type": "stream",
     "text": [
      "done!\n",
      "558, 0\n",
      "generating for 2018-10-23 Elina Svitolina, Karolina Pliskova\n"
     ]
    },
    {
     "name": "stderr",
     "output_type": "stream",
     "text": [
      "/var/folders/pt/zlhpwgms1r38l09fb5f24y_80000gn/T/ipykernel_11826/3368081595.py:6: FutureWarning: Series.__getitem__ treating keys as positions is deprecated. In a future version, integer keys will always be treated as labels (consistent with DataFrame behavior). To access a value by position, use `ser.iloc[pos]`\n",
      "  n1 = b[0]\n",
      "/var/folders/pt/zlhpwgms1r38l09fb5f24y_80000gn/T/ipykernel_11826/3368081595.py:7: FutureWarning: Series.__getitem__ treating keys as positions is deprecated. In a future version, integer keys will always be treated as labels (consistent with DataFrame behavior). To access a value by position, use `ser.iloc[pos]`\n",
      "  n2 = b[1]\n",
      "/var/folders/pt/zlhpwgms1r38l09fb5f24y_80000gn/T/ipykernel_11826/3368081595.py:8: FutureWarning: Series.__getitem__ treating keys as positions is deprecated. In a future version, integer keys will always be treated as labels (consistent with DataFrame behavior). To access a value by position, use `ser.iloc[pos]`\n",
      "  date = b[2]\n"
     ]
    },
    {
     "name": "stdout",
     "output_type": "stream",
     "text": [
      "done!\n",
      "559, 0\n",
      "generating for 2018-10-24 Sloane Stephens, Kiki Bertens\n"
     ]
    },
    {
     "name": "stderr",
     "output_type": "stream",
     "text": [
      "/var/folders/pt/zlhpwgms1r38l09fb5f24y_80000gn/T/ipykernel_11826/3368081595.py:6: FutureWarning: Series.__getitem__ treating keys as positions is deprecated. In a future version, integer keys will always be treated as labels (consistent with DataFrame behavior). To access a value by position, use `ser.iloc[pos]`\n",
      "  n1 = b[0]\n",
      "/var/folders/pt/zlhpwgms1r38l09fb5f24y_80000gn/T/ipykernel_11826/3368081595.py:7: FutureWarning: Series.__getitem__ treating keys as positions is deprecated. In a future version, integer keys will always be treated as labels (consistent with DataFrame behavior). To access a value by position, use `ser.iloc[pos]`\n",
      "  n2 = b[1]\n",
      "/var/folders/pt/zlhpwgms1r38l09fb5f24y_80000gn/T/ipykernel_11826/3368081595.py:8: FutureWarning: Series.__getitem__ treating keys as positions is deprecated. In a future version, integer keys will always be treated as labels (consistent with DataFrame behavior). To access a value by position, use `ser.iloc[pos]`\n",
      "  date = b[2]\n"
     ]
    },
    {
     "name": "stdout",
     "output_type": "stream",
     "text": [
      "done!\n",
      "560, 0\n",
      "generating for 2018-10-25 Elina Svitolina, Caroline Wozniacki\n"
     ]
    },
    {
     "name": "stderr",
     "output_type": "stream",
     "text": [
      "/var/folders/pt/zlhpwgms1r38l09fb5f24y_80000gn/T/ipykernel_11826/3368081595.py:6: FutureWarning: Series.__getitem__ treating keys as positions is deprecated. In a future version, integer keys will always be treated as labels (consistent with DataFrame behavior). To access a value by position, use `ser.iloc[pos]`\n",
      "  n1 = b[0]\n",
      "/var/folders/pt/zlhpwgms1r38l09fb5f24y_80000gn/T/ipykernel_11826/3368081595.py:7: FutureWarning: Series.__getitem__ treating keys as positions is deprecated. In a future version, integer keys will always be treated as labels (consistent with DataFrame behavior). To access a value by position, use `ser.iloc[pos]`\n",
      "  n2 = b[1]\n",
      "/var/folders/pt/zlhpwgms1r38l09fb5f24y_80000gn/T/ipykernel_11826/3368081595.py:8: FutureWarning: Series.__getitem__ treating keys as positions is deprecated. In a future version, integer keys will always be treated as labels (consistent with DataFrame behavior). To access a value by position, use `ser.iloc[pos]`\n",
      "  date = b[2]\n"
     ]
    },
    {
     "name": "stdout",
     "output_type": "stream",
     "text": [
      "done!\n",
      "561, 0\n",
      "generating for 2018-10-26 Kiki Bertens, Naomi Osaka\n"
     ]
    },
    {
     "name": "stderr",
     "output_type": "stream",
     "text": [
      "/var/folders/pt/zlhpwgms1r38l09fb5f24y_80000gn/T/ipykernel_11826/3368081595.py:6: FutureWarning: Series.__getitem__ treating keys as positions is deprecated. In a future version, integer keys will always be treated as labels (consistent with DataFrame behavior). To access a value by position, use `ser.iloc[pos]`\n",
      "  n1 = b[0]\n",
      "/var/folders/pt/zlhpwgms1r38l09fb5f24y_80000gn/T/ipykernel_11826/3368081595.py:7: FutureWarning: Series.__getitem__ treating keys as positions is deprecated. In a future version, integer keys will always be treated as labels (consistent with DataFrame behavior). To access a value by position, use `ser.iloc[pos]`\n",
      "  n2 = b[1]\n",
      "/var/folders/pt/zlhpwgms1r38l09fb5f24y_80000gn/T/ipykernel_11826/3368081595.py:8: FutureWarning: Series.__getitem__ treating keys as positions is deprecated. In a future version, integer keys will always be treated as labels (consistent with DataFrame behavior). To access a value by position, use `ser.iloc[pos]`\n",
      "  date = b[2]\n"
     ]
    },
    {
     "name": "stdout",
     "output_type": "stream",
     "text": [
      "done!\n",
      "562, 0\n",
      "generating for 2018-10-27 Elina Svitolina, Kiki Bertens\n"
     ]
    },
    {
     "name": "stderr",
     "output_type": "stream",
     "text": [
      "/var/folders/pt/zlhpwgms1r38l09fb5f24y_80000gn/T/ipykernel_11826/3368081595.py:6: FutureWarning: Series.__getitem__ treating keys as positions is deprecated. In a future version, integer keys will always be treated as labels (consistent with DataFrame behavior). To access a value by position, use `ser.iloc[pos]`\n",
      "  n1 = b[0]\n",
      "/var/folders/pt/zlhpwgms1r38l09fb5f24y_80000gn/T/ipykernel_11826/3368081595.py:7: FutureWarning: Series.__getitem__ treating keys as positions is deprecated. In a future version, integer keys will always be treated as labels (consistent with DataFrame behavior). To access a value by position, use `ser.iloc[pos]`\n",
      "  n2 = b[1]\n",
      "/var/folders/pt/zlhpwgms1r38l09fb5f24y_80000gn/T/ipykernel_11826/3368081595.py:8: FutureWarning: Series.__getitem__ treating keys as positions is deprecated. In a future version, integer keys will always be treated as labels (consistent with DataFrame behavior). To access a value by position, use `ser.iloc[pos]`\n",
      "  date = b[2]\n"
     ]
    },
    {
     "name": "stdout",
     "output_type": "stream",
     "text": [
      "done!\n",
      "563, 0\n",
      "generating for 2018-10-27 Sloane Stephens, Karolina Pliskova\n"
     ]
    },
    {
     "name": "stderr",
     "output_type": "stream",
     "text": [
      "/var/folders/pt/zlhpwgms1r38l09fb5f24y_80000gn/T/ipykernel_11826/3368081595.py:6: FutureWarning: Series.__getitem__ treating keys as positions is deprecated. In a future version, integer keys will always be treated as labels (consistent with DataFrame behavior). To access a value by position, use `ser.iloc[pos]`\n",
      "  n1 = b[0]\n",
      "/var/folders/pt/zlhpwgms1r38l09fb5f24y_80000gn/T/ipykernel_11826/3368081595.py:7: FutureWarning: Series.__getitem__ treating keys as positions is deprecated. In a future version, integer keys will always be treated as labels (consistent with DataFrame behavior). To access a value by position, use `ser.iloc[pos]`\n",
      "  n2 = b[1]\n",
      "/var/folders/pt/zlhpwgms1r38l09fb5f24y_80000gn/T/ipykernel_11826/3368081595.py:8: FutureWarning: Series.__getitem__ treating keys as positions is deprecated. In a future version, integer keys will always be treated as labels (consistent with DataFrame behavior). To access a value by position, use `ser.iloc[pos]`\n",
      "  date = b[2]\n"
     ]
    },
    {
     "name": "stdout",
     "output_type": "stream",
     "text": [
      "done!\n",
      "564, 0\n",
      "generating for 2018-10-28 Elina Svitolina, Sloane Stephens\n"
     ]
    },
    {
     "name": "stderr",
     "output_type": "stream",
     "text": [
      "/var/folders/pt/zlhpwgms1r38l09fb5f24y_80000gn/T/ipykernel_11826/3368081595.py:6: FutureWarning: Series.__getitem__ treating keys as positions is deprecated. In a future version, integer keys will always be treated as labels (consistent with DataFrame behavior). To access a value by position, use `ser.iloc[pos]`\n",
      "  n1 = b[0]\n",
      "/var/folders/pt/zlhpwgms1r38l09fb5f24y_80000gn/T/ipykernel_11826/3368081595.py:7: FutureWarning: Series.__getitem__ treating keys as positions is deprecated. In a future version, integer keys will always be treated as labels (consistent with DataFrame behavior). To access a value by position, use `ser.iloc[pos]`\n",
      "  n2 = b[1]\n",
      "/var/folders/pt/zlhpwgms1r38l09fb5f24y_80000gn/T/ipykernel_11826/3368081595.py:8: FutureWarning: Series.__getitem__ treating keys as positions is deprecated. In a future version, integer keys will always be treated as labels (consistent with DataFrame behavior). To access a value by position, use `ser.iloc[pos]`\n",
      "  date = b[2]\n"
     ]
    },
    {
     "name": "stdout",
     "output_type": "stream",
     "text": [
      "done!\n",
      "565, 0\n",
      "generating for 2018-10-30 Aryna Sabalenka, Ashleigh Barty\n"
     ]
    },
    {
     "name": "stderr",
     "output_type": "stream",
     "text": [
      "/var/folders/pt/zlhpwgms1r38l09fb5f24y_80000gn/T/ipykernel_11826/3368081595.py:6: FutureWarning: Series.__getitem__ treating keys as positions is deprecated. In a future version, integer keys will always be treated as labels (consistent with DataFrame behavior). To access a value by position, use `ser.iloc[pos]`\n",
      "  n1 = b[0]\n",
      "/var/folders/pt/zlhpwgms1r38l09fb5f24y_80000gn/T/ipykernel_11826/3368081595.py:7: FutureWarning: Series.__getitem__ treating keys as positions is deprecated. In a future version, integer keys will always be treated as labels (consistent with DataFrame behavior). To access a value by position, use `ser.iloc[pos]`\n",
      "  n2 = b[1]\n",
      "/var/folders/pt/zlhpwgms1r38l09fb5f24y_80000gn/T/ipykernel_11826/3368081595.py:8: FutureWarning: Series.__getitem__ treating keys as positions is deprecated. In a future version, integer keys will always be treated as labels (consistent with DataFrame behavior). To access a value by position, use `ser.iloc[pos]`\n",
      "  date = b[2]\n"
     ]
    },
    {
     "name": "stdout",
     "output_type": "stream",
     "text": [
      "done!\n",
      "566, 0\n",
      "generating for 2018-10-30 Elise Mertens, Anett Kontaveit\n"
     ]
    },
    {
     "name": "stderr",
     "output_type": "stream",
     "text": [
      "/var/folders/pt/zlhpwgms1r38l09fb5f24y_80000gn/T/ipykernel_11826/3368081595.py:6: FutureWarning: Series.__getitem__ treating keys as positions is deprecated. In a future version, integer keys will always be treated as labels (consistent with DataFrame behavior). To access a value by position, use `ser.iloc[pos]`\n",
      "  n1 = b[0]\n",
      "/var/folders/pt/zlhpwgms1r38l09fb5f24y_80000gn/T/ipykernel_11826/3368081595.py:7: FutureWarning: Series.__getitem__ treating keys as positions is deprecated. In a future version, integer keys will always be treated as labels (consistent with DataFrame behavior). To access a value by position, use `ser.iloc[pos]`\n",
      "  n2 = b[1]\n",
      "/var/folders/pt/zlhpwgms1r38l09fb5f24y_80000gn/T/ipykernel_11826/3368081595.py:8: FutureWarning: Series.__getitem__ treating keys as positions is deprecated. In a future version, integer keys will always be treated as labels (consistent with DataFrame behavior). To access a value by position, use `ser.iloc[pos]`\n",
      "  date = b[2]\n"
     ]
    },
    {
     "name": "stdout",
     "output_type": "stream",
     "text": [
      "done!\n",
      "567, 0\n",
      "generating for 2018-10-30 Daria Kasatkina, Qiang Wang\n"
     ]
    },
    {
     "name": "stderr",
     "output_type": "stream",
     "text": [
      "/var/folders/pt/zlhpwgms1r38l09fb5f24y_80000gn/T/ipykernel_11826/3368081595.py:6: FutureWarning: Series.__getitem__ treating keys as positions is deprecated. In a future version, integer keys will always be treated as labels (consistent with DataFrame behavior). To access a value by position, use `ser.iloc[pos]`\n",
      "  n1 = b[0]\n",
      "/var/folders/pt/zlhpwgms1r38l09fb5f24y_80000gn/T/ipykernel_11826/3368081595.py:7: FutureWarning: Series.__getitem__ treating keys as positions is deprecated. In a future version, integer keys will always be treated as labels (consistent with DataFrame behavior). To access a value by position, use `ser.iloc[pos]`\n",
      "  n2 = b[1]\n",
      "/var/folders/pt/zlhpwgms1r38l09fb5f24y_80000gn/T/ipykernel_11826/3368081595.py:8: FutureWarning: Series.__getitem__ treating keys as positions is deprecated. In a future version, integer keys will always be treated as labels (consistent with DataFrame behavior). To access a value by position, use `ser.iloc[pos]`\n",
      "  date = b[2]\n"
     ]
    },
    {
     "name": "stdout",
     "output_type": "stream",
     "text": [
      "done!\n",
      "568, 0\n",
      "generating for 2018-10-31 Anett Kontaveit, Julia Goerges\n"
     ]
    },
    {
     "name": "stderr",
     "output_type": "stream",
     "text": [
      "/var/folders/pt/zlhpwgms1r38l09fb5f24y_80000gn/T/ipykernel_11826/3368081595.py:6: FutureWarning: Series.__getitem__ treating keys as positions is deprecated. In a future version, integer keys will always be treated as labels (consistent with DataFrame behavior). To access a value by position, use `ser.iloc[pos]`\n",
      "  n1 = b[0]\n",
      "/var/folders/pt/zlhpwgms1r38l09fb5f24y_80000gn/T/ipykernel_11826/3368081595.py:7: FutureWarning: Series.__getitem__ treating keys as positions is deprecated. In a future version, integer keys will always be treated as labels (consistent with DataFrame behavior). To access a value by position, use `ser.iloc[pos]`\n",
      "  n2 = b[1]\n",
      "/var/folders/pt/zlhpwgms1r38l09fb5f24y_80000gn/T/ipykernel_11826/3368081595.py:8: FutureWarning: Series.__getitem__ treating keys as positions is deprecated. In a future version, integer keys will always be treated as labels (consistent with DataFrame behavior). To access a value by position, use `ser.iloc[pos]`\n",
      "  date = b[2]\n"
     ]
    },
    {
     "name": "stdout",
     "output_type": "stream",
     "text": [
      "done!\n",
      "569, 0\n",
      "generating for 2018-10-31 Madison Keys, Daria Kasatkina\n"
     ]
    },
    {
     "name": "stderr",
     "output_type": "stream",
     "text": [
      "/var/folders/pt/zlhpwgms1r38l09fb5f24y_80000gn/T/ipykernel_11826/3368081595.py:6: FutureWarning: Series.__getitem__ treating keys as positions is deprecated. In a future version, integer keys will always be treated as labels (consistent with DataFrame behavior). To access a value by position, use `ser.iloc[pos]`\n",
      "  n1 = b[0]\n",
      "/var/folders/pt/zlhpwgms1r38l09fb5f24y_80000gn/T/ipykernel_11826/3368081595.py:7: FutureWarning: Series.__getitem__ treating keys as positions is deprecated. In a future version, integer keys will always be treated as labels (consistent with DataFrame behavior). To access a value by position, use `ser.iloc[pos]`\n",
      "  n2 = b[1]\n",
      "/var/folders/pt/zlhpwgms1r38l09fb5f24y_80000gn/T/ipykernel_11826/3368081595.py:8: FutureWarning: Series.__getitem__ treating keys as positions is deprecated. In a future version, integer keys will always be treated as labels (consistent with DataFrame behavior). To access a value by position, use `ser.iloc[pos]`\n",
      "  date = b[2]\n"
     ]
    },
    {
     "name": "stdout",
     "output_type": "stream",
     "text": [
      "done!\n",
      "570, 0\n",
      "generating for 2018-10-31 Garbine Muguruza, Shuai Zhang\n"
     ]
    },
    {
     "name": "stderr",
     "output_type": "stream",
     "text": [
      "/var/folders/pt/zlhpwgms1r38l09fb5f24y_80000gn/T/ipykernel_11826/3368081595.py:6: FutureWarning: Series.__getitem__ treating keys as positions is deprecated. In a future version, integer keys will always be treated as labels (consistent with DataFrame behavior). To access a value by position, use `ser.iloc[pos]`\n",
      "  n1 = b[0]\n",
      "/var/folders/pt/zlhpwgms1r38l09fb5f24y_80000gn/T/ipykernel_11826/3368081595.py:7: FutureWarning: Series.__getitem__ treating keys as positions is deprecated. In a future version, integer keys will always be treated as labels (consistent with DataFrame behavior). To access a value by position, use `ser.iloc[pos]`\n",
      "  n2 = b[1]\n",
      "/var/folders/pt/zlhpwgms1r38l09fb5f24y_80000gn/T/ipykernel_11826/3368081595.py:8: FutureWarning: Series.__getitem__ treating keys as positions is deprecated. In a future version, integer keys will always be treated as labels (consistent with DataFrame behavior). To access a value by position, use `ser.iloc[pos]`\n",
      "  date = b[2]\n"
     ]
    },
    {
     "name": "stdout",
     "output_type": "stream",
     "text": [
      "done!\n",
      "571, 0\n",
      "generating for 2018-11-01 Ashleigh Barty, Caroline Garcia\n"
     ]
    },
    {
     "name": "stderr",
     "output_type": "stream",
     "text": [
      "/var/folders/pt/zlhpwgms1r38l09fb5f24y_80000gn/T/ipykernel_11826/3368081595.py:6: FutureWarning: Series.__getitem__ treating keys as positions is deprecated. In a future version, integer keys will always be treated as labels (consistent with DataFrame behavior). To access a value by position, use `ser.iloc[pos]`\n",
      "  n1 = b[0]\n",
      "/var/folders/pt/zlhpwgms1r38l09fb5f24y_80000gn/T/ipykernel_11826/3368081595.py:7: FutureWarning: Series.__getitem__ treating keys as positions is deprecated. In a future version, integer keys will always be treated as labels (consistent with DataFrame behavior). To access a value by position, use `ser.iloc[pos]`\n",
      "  n2 = b[1]\n",
      "/var/folders/pt/zlhpwgms1r38l09fb5f24y_80000gn/T/ipykernel_11826/3368081595.py:8: FutureWarning: Series.__getitem__ treating keys as positions is deprecated. In a future version, integer keys will always be treated as labels (consistent with DataFrame behavior). To access a value by position, use `ser.iloc[pos]`\n",
      "  date = b[2]\n"
     ]
    },
    {
     "name": "stdout",
     "output_type": "stream",
     "text": [
      "done!\n",
      "572, 0\n",
      "generating for 2018-11-01 Julia Goerges, Elise Mertens\n"
     ]
    },
    {
     "name": "stderr",
     "output_type": "stream",
     "text": [
      "/var/folders/pt/zlhpwgms1r38l09fb5f24y_80000gn/T/ipykernel_11826/3368081595.py:6: FutureWarning: Series.__getitem__ treating keys as positions is deprecated. In a future version, integer keys will always be treated as labels (consistent with DataFrame behavior). To access a value by position, use `ser.iloc[pos]`\n",
      "  n1 = b[0]\n",
      "/var/folders/pt/zlhpwgms1r38l09fb5f24y_80000gn/T/ipykernel_11826/3368081595.py:7: FutureWarning: Series.__getitem__ treating keys as positions is deprecated. In a future version, integer keys will always be treated as labels (consistent with DataFrame behavior). To access a value by position, use `ser.iloc[pos]`\n",
      "  n2 = b[1]\n",
      "/var/folders/pt/zlhpwgms1r38l09fb5f24y_80000gn/T/ipykernel_11826/3368081595.py:8: FutureWarning: Series.__getitem__ treating keys as positions is deprecated. In a future version, integer keys will always be treated as labels (consistent with DataFrame behavior). To access a value by position, use `ser.iloc[pos]`\n",
      "  date = b[2]\n"
     ]
    },
    {
     "name": "stdout",
     "output_type": "stream",
     "text": [
      "done!\n",
      "573, 0\n",
      "generating for 2018-11-02 Caroline Garcia, Aryna Sabalenka\n"
     ]
    },
    {
     "name": "stderr",
     "output_type": "stream",
     "text": [
      "/var/folders/pt/zlhpwgms1r38l09fb5f24y_80000gn/T/ipykernel_11826/3368081595.py:6: FutureWarning: Series.__getitem__ treating keys as positions is deprecated. In a future version, integer keys will always be treated as labels (consistent with DataFrame behavior). To access a value by position, use `ser.iloc[pos]`\n",
      "  n1 = b[0]\n",
      "/var/folders/pt/zlhpwgms1r38l09fb5f24y_80000gn/T/ipykernel_11826/3368081595.py:7: FutureWarning: Series.__getitem__ treating keys as positions is deprecated. In a future version, integer keys will always be treated as labels (consistent with DataFrame behavior). To access a value by position, use `ser.iloc[pos]`\n",
      "  n2 = b[1]\n",
      "/var/folders/pt/zlhpwgms1r38l09fb5f24y_80000gn/T/ipykernel_11826/3368081595.py:8: FutureWarning: Series.__getitem__ treating keys as positions is deprecated. In a future version, integer keys will always be treated as labels (consistent with DataFrame behavior). To access a value by position, use `ser.iloc[pos]`\n",
      "  date = b[2]\n"
     ]
    },
    {
     "name": "stdout",
     "output_type": "stream",
     "text": [
      "done!\n",
      "574, 0\n",
      "generating for 2018-11-02 Garbine Muguruza, Anastasija Sevastova\n"
     ]
    },
    {
     "name": "stderr",
     "output_type": "stream",
     "text": [
      "/var/folders/pt/zlhpwgms1r38l09fb5f24y_80000gn/T/ipykernel_11826/3368081595.py:6: FutureWarning: Series.__getitem__ treating keys as positions is deprecated. In a future version, integer keys will always be treated as labels (consistent with DataFrame behavior). To access a value by position, use `ser.iloc[pos]`\n",
      "  n1 = b[0]\n",
      "/var/folders/pt/zlhpwgms1r38l09fb5f24y_80000gn/T/ipykernel_11826/3368081595.py:7: FutureWarning: Series.__getitem__ treating keys as positions is deprecated. In a future version, integer keys will always be treated as labels (consistent with DataFrame behavior). To access a value by position, use `ser.iloc[pos]`\n",
      "  n2 = b[1]\n",
      "/var/folders/pt/zlhpwgms1r38l09fb5f24y_80000gn/T/ipykernel_11826/3368081595.py:8: FutureWarning: Series.__getitem__ treating keys as positions is deprecated. In a future version, integer keys will always be treated as labels (consistent with DataFrame behavior). To access a value by position, use `ser.iloc[pos]`\n",
      "  date = b[2]\n"
     ]
    },
    {
     "name": "stdout",
     "output_type": "stream",
     "text": [
      "done!\n",
      "575, 0\n",
      "generating for 2018-11-02 Qiang Wang, Madison Keys\n"
     ]
    },
    {
     "name": "stderr",
     "output_type": "stream",
     "text": [
      "/var/folders/pt/zlhpwgms1r38l09fb5f24y_80000gn/T/ipykernel_11826/3368081595.py:6: FutureWarning: Series.__getitem__ treating keys as positions is deprecated. In a future version, integer keys will always be treated as labels (consistent with DataFrame behavior). To access a value by position, use `ser.iloc[pos]`\n",
      "  n1 = b[0]\n",
      "/var/folders/pt/zlhpwgms1r38l09fb5f24y_80000gn/T/ipykernel_11826/3368081595.py:7: FutureWarning: Series.__getitem__ treating keys as positions is deprecated. In a future version, integer keys will always be treated as labels (consistent with DataFrame behavior). To access a value by position, use `ser.iloc[pos]`\n",
      "  n2 = b[1]\n",
      "/var/folders/pt/zlhpwgms1r38l09fb5f24y_80000gn/T/ipykernel_11826/3368081595.py:8: FutureWarning: Series.__getitem__ treating keys as positions is deprecated. In a future version, integer keys will always be treated as labels (consistent with DataFrame behavior). To access a value by position, use `ser.iloc[pos]`\n",
      "  date = b[2]\n"
     ]
    },
    {
     "name": "stdout",
     "output_type": "stream",
     "text": [
      "done!\n",
      "576, 0\n",
      "generating for 2018-11-03 Ashleigh Barty, Julia Goerges\n"
     ]
    },
    {
     "name": "stderr",
     "output_type": "stream",
     "text": [
      "/var/folders/pt/zlhpwgms1r38l09fb5f24y_80000gn/T/ipykernel_11826/3368081595.py:6: FutureWarning: Series.__getitem__ treating keys as positions is deprecated. In a future version, integer keys will always be treated as labels (consistent with DataFrame behavior). To access a value by position, use `ser.iloc[pos]`\n",
      "  n1 = b[0]\n",
      "/var/folders/pt/zlhpwgms1r38l09fb5f24y_80000gn/T/ipykernel_11826/3368081595.py:7: FutureWarning: Series.__getitem__ treating keys as positions is deprecated. In a future version, integer keys will always be treated as labels (consistent with DataFrame behavior). To access a value by position, use `ser.iloc[pos]`\n",
      "  n2 = b[1]\n",
      "/var/folders/pt/zlhpwgms1r38l09fb5f24y_80000gn/T/ipykernel_11826/3368081595.py:8: FutureWarning: Series.__getitem__ treating keys as positions is deprecated. In a future version, integer keys will always be treated as labels (consistent with DataFrame behavior). To access a value by position, use `ser.iloc[pos]`\n",
      "  date = b[2]\n"
     ]
    },
    {
     "name": "stdout",
     "output_type": "stream",
     "text": [
      "done!\n",
      "577, 0\n",
      "generating for 2018-11-03 Qiang Wang, Garbine Muguruza\n"
     ]
    },
    {
     "name": "stderr",
     "output_type": "stream",
     "text": [
      "/var/folders/pt/zlhpwgms1r38l09fb5f24y_80000gn/T/ipykernel_11826/3368081595.py:6: FutureWarning: Series.__getitem__ treating keys as positions is deprecated. In a future version, integer keys will always be treated as labels (consistent with DataFrame behavior). To access a value by position, use `ser.iloc[pos]`\n",
      "  n1 = b[0]\n",
      "/var/folders/pt/zlhpwgms1r38l09fb5f24y_80000gn/T/ipykernel_11826/3368081595.py:7: FutureWarning: Series.__getitem__ treating keys as positions is deprecated. In a future version, integer keys will always be treated as labels (consistent with DataFrame behavior). To access a value by position, use `ser.iloc[pos]`\n",
      "  n2 = b[1]\n",
      "/var/folders/pt/zlhpwgms1r38l09fb5f24y_80000gn/T/ipykernel_11826/3368081595.py:8: FutureWarning: Series.__getitem__ treating keys as positions is deprecated. In a future version, integer keys will always be treated as labels (consistent with DataFrame behavior). To access a value by position, use `ser.iloc[pos]`\n",
      "  date = b[2]\n"
     ]
    },
    {
     "name": "stdout",
     "output_type": "stream",
     "text": [
      "done!\n",
      "578, 0\n",
      "generating for 2018-11-04 Ashleigh Barty, Qiang Wang\n"
     ]
    },
    {
     "name": "stderr",
     "output_type": "stream",
     "text": [
      "/var/folders/pt/zlhpwgms1r38l09fb5f24y_80000gn/T/ipykernel_11826/3368081595.py:6: FutureWarning: Series.__getitem__ treating keys as positions is deprecated. In a future version, integer keys will always be treated as labels (consistent with DataFrame behavior). To access a value by position, use `ser.iloc[pos]`\n",
      "  n1 = b[0]\n",
      "/var/folders/pt/zlhpwgms1r38l09fb5f24y_80000gn/T/ipykernel_11826/3368081595.py:7: FutureWarning: Series.__getitem__ treating keys as positions is deprecated. In a future version, integer keys will always be treated as labels (consistent with DataFrame behavior). To access a value by position, use `ser.iloc[pos]`\n",
      "  n2 = b[1]\n",
      "/var/folders/pt/zlhpwgms1r38l09fb5f24y_80000gn/T/ipykernel_11826/3368081595.py:8: FutureWarning: Series.__getitem__ treating keys as positions is deprecated. In a future version, integer keys will always be treated as labels (consistent with DataFrame behavior). To access a value by position, use `ser.iloc[pos]`\n",
      "  date = b[2]\n"
     ]
    },
    {
     "name": "stdout",
     "output_type": "stream",
     "text": [
      "done!\n",
      "579, 0\n"
     ]
    }
   ],
   "source": [
    "df2 = pd.read_csv('MDP_pred.csv')\n",
    "cnt = 0\n",
    "failed = 0\n",
    "for a,b in df2[['P1Name', 'P2Name', 'date']].iterrows():\n",
    "    try:\n",
    "        n1 = b[0]\n",
    "        n2 = b[1]\n",
    "        date = b[2]\n",
    "        print(f\"generating for {date} {n1}, {n2}\")\n",
    "        generate_pcsp_files(n1,n2, date)\n",
    "        print(\"done!\")\n",
    "        cnt += 1\n",
    "    except Exception as e:\n",
    "        failed += 1\n",
    "        print(e)\n",
    "    print(f\"{cnt}, {failed}\")\n",
    "\n",
    "\n",
    "\n"
   ]
  },
  {
   "cell_type": "code",
   "execution_count": 26,
   "id": "f0b84132",
   "metadata": {},
   "outputs": [
    {
     "data": {
      "text/html": [
       "<div>\n",
       "<style scoped>\n",
       "    .dataframe tbody tr th:only-of-type {\n",
       "        vertical-align: middle;\n",
       "    }\n",
       "\n",
       "    .dataframe tbody tr th {\n",
       "        vertical-align: top;\n",
       "    }\n",
       "\n",
       "    .dataframe thead th {\n",
       "        text-align: right;\n",
       "    }\n",
       "</style>\n",
       "<table border=\"1\" class=\"dataframe\">\n",
       "  <thead>\n",
       "    <tr style=\"text-align: right;\">\n",
       "      <th></th>\n",
       "      <th>date</th>\n",
       "      <th>player_1_name</th>\n",
       "      <th>player_2_name</th>\n",
       "      <th>player_1_points</th>\n",
       "      <th>player_2_points</th>\n",
       "      <th>player_1_sets</th>\n",
       "      <th>player_2_sets</th>\n",
       "      <th>player_1_games</th>\n",
       "      <th>player_2_games</th>\n",
       "    </tr>\n",
       "  </thead>\n",
       "  <tbody>\n",
       "    <tr>\n",
       "      <th>295724</th>\n",
       "      <td>2013-01-26</td>\n",
       "      <td>Nick Kyrgios</td>\n",
       "      <td>Thanasi Kokkinakis</td>\n",
       "      <td>0</td>\n",
       "      <td>1</td>\n",
       "      <td>0</td>\n",
       "      <td>0</td>\n",
       "      <td>0</td>\n",
       "      <td>0</td>\n",
       "    </tr>\n",
       "    <tr>\n",
       "      <th>295726</th>\n",
       "      <td>2013-01-26</td>\n",
       "      <td>Nick Kyrgios</td>\n",
       "      <td>Thanasi Kokkinakis</td>\n",
       "      <td>0</td>\n",
       "      <td>1</td>\n",
       "      <td>0</td>\n",
       "      <td>0</td>\n",
       "      <td>0</td>\n",
       "      <td>0</td>\n",
       "    </tr>\n",
       "    <tr>\n",
       "      <th>295728</th>\n",
       "      <td>2013-01-26</td>\n",
       "      <td>Nick Kyrgios</td>\n",
       "      <td>Thanasi Kokkinakis</td>\n",
       "      <td>0</td>\n",
       "      <td>1</td>\n",
       "      <td>0</td>\n",
       "      <td>0</td>\n",
       "      <td>0</td>\n",
       "      <td>0</td>\n",
       "    </tr>\n",
       "    <tr>\n",
       "      <th>295735</th>\n",
       "      <td>2013-01-26</td>\n",
       "      <td>Nick Kyrgios</td>\n",
       "      <td>Thanasi Kokkinakis</td>\n",
       "      <td>2</td>\n",
       "      <td>1</td>\n",
       "      <td>0</td>\n",
       "      <td>0</td>\n",
       "      <td>0</td>\n",
       "      <td>0</td>\n",
       "    </tr>\n",
       "    <tr>\n",
       "      <th>295737</th>\n",
       "      <td>2013-01-26</td>\n",
       "      <td>Nick Kyrgios</td>\n",
       "      <td>Thanasi Kokkinakis</td>\n",
       "      <td>2</td>\n",
       "      <td>1</td>\n",
       "      <td>0</td>\n",
       "      <td>0</td>\n",
       "      <td>0</td>\n",
       "      <td>0</td>\n",
       "    </tr>\n",
       "    <tr>\n",
       "      <th>...</th>\n",
       "      <td>...</td>\n",
       "      <td>...</td>\n",
       "      <td>...</td>\n",
       "      <td>...</td>\n",
       "      <td>...</td>\n",
       "      <td>...</td>\n",
       "      <td>...</td>\n",
       "      <td>...</td>\n",
       "      <td>...</td>\n",
       "    </tr>\n",
       "    <tr>\n",
       "      <th>6282046</th>\n",
       "      <td>2022-09-06</td>\n",
       "      <td>Nick Kyrgios</td>\n",
       "      <td>Karen Khachanov</td>\n",
       "      <td>0</td>\n",
       "      <td>1</td>\n",
       "      <td>2</td>\n",
       "      <td>2</td>\n",
       "      <td>4</td>\n",
       "      <td>5</td>\n",
       "    </tr>\n",
       "    <tr>\n",
       "      <th>6282051</th>\n",
       "      <td>2022-09-06</td>\n",
       "      <td>Nick Kyrgios</td>\n",
       "      <td>Karen Khachanov</td>\n",
       "      <td>1</td>\n",
       "      <td>1</td>\n",
       "      <td>2</td>\n",
       "      <td>2</td>\n",
       "      <td>4</td>\n",
       "      <td>5</td>\n",
       "    </tr>\n",
       "    <tr>\n",
       "      <th>6282053</th>\n",
       "      <td>2022-09-06</td>\n",
       "      <td>Nick Kyrgios</td>\n",
       "      <td>Karen Khachanov</td>\n",
       "      <td>1</td>\n",
       "      <td>1</td>\n",
       "      <td>2</td>\n",
       "      <td>2</td>\n",
       "      <td>4</td>\n",
       "      <td>5</td>\n",
       "    </tr>\n",
       "    <tr>\n",
       "      <th>6282058</th>\n",
       "      <td>2022-09-06</td>\n",
       "      <td>Nick Kyrgios</td>\n",
       "      <td>Karen Khachanov</td>\n",
       "      <td>1</td>\n",
       "      <td>2</td>\n",
       "      <td>2</td>\n",
       "      <td>2</td>\n",
       "      <td>4</td>\n",
       "      <td>5</td>\n",
       "    </tr>\n",
       "    <tr>\n",
       "      <th>6282060</th>\n",
       "      <td>2022-09-06</td>\n",
       "      <td>Nick Kyrgios</td>\n",
       "      <td>Karen Khachanov</td>\n",
       "      <td>1</td>\n",
       "      <td>2</td>\n",
       "      <td>2</td>\n",
       "      <td>2</td>\n",
       "      <td>4</td>\n",
       "      <td>5</td>\n",
       "    </tr>\n",
       "  </tbody>\n",
       "</table>\n",
       "<p>21475 rows × 9 columns</p>\n",
       "</div>"
      ],
      "text/plain": [
       "               date player_1_name       player_2_name  player_1_points  \\\n",
       "295724   2013-01-26  Nick Kyrgios  Thanasi Kokkinakis                0   \n",
       "295726   2013-01-26  Nick Kyrgios  Thanasi Kokkinakis                0   \n",
       "295728   2013-01-26  Nick Kyrgios  Thanasi Kokkinakis                0   \n",
       "295735   2013-01-26  Nick Kyrgios  Thanasi Kokkinakis                2   \n",
       "295737   2013-01-26  Nick Kyrgios  Thanasi Kokkinakis                2   \n",
       "...             ...           ...                 ...              ...   \n",
       "6282046  2022-09-06  Nick Kyrgios     Karen Khachanov                0   \n",
       "6282051  2022-09-06  Nick Kyrgios     Karen Khachanov                1   \n",
       "6282053  2022-09-06  Nick Kyrgios     Karen Khachanov                1   \n",
       "6282058  2022-09-06  Nick Kyrgios     Karen Khachanov                1   \n",
       "6282060  2022-09-06  Nick Kyrgios     Karen Khachanov                1   \n",
       "\n",
       "         player_2_points  player_1_sets  player_2_sets  player_1_games  \\\n",
       "295724                 1              0              0               0   \n",
       "295726                 1              0              0               0   \n",
       "295728                 1              0              0               0   \n",
       "295735                 1              0              0               0   \n",
       "295737                 1              0              0               0   \n",
       "...                  ...            ...            ...             ...   \n",
       "6282046                1              2              2               4   \n",
       "6282051                1              2              2               4   \n",
       "6282053                1              2              2               4   \n",
       "6282058                2              2              2               4   \n",
       "6282060                2              2              2               4   \n",
       "\n",
       "         player_2_games  \n",
       "295724                0  \n",
       "295726                0  \n",
       "295728                0  \n",
       "295735                0  \n",
       "295737                0  \n",
       "...                 ...  \n",
       "6282046               5  \n",
       "6282051               5  \n",
       "6282053               5  \n",
       "6282058               5  \n",
       "6282060               5  \n",
       "\n",
       "[21475 rows x 9 columns]"
      ]
     },
     "metadata": {},
     "output_type": "display_data"
    },
    {
     "name": "stdout",
     "output_type": "stream",
     "text": [
      "Nick Kyrgios Average Rally Length: 6\n"
     ]
    },
    {
     "data": {
      "text/html": [
       "<div>\n",
       "<style scoped>\n",
       "    .dataframe tbody tr th:only-of-type {\n",
       "        vertical-align: middle;\n",
       "    }\n",
       "\n",
       "    .dataframe tbody tr th {\n",
       "        vertical-align: top;\n",
       "    }\n",
       "\n",
       "    .dataframe thead th {\n",
       "        text-align: right;\n",
       "    }\n",
       "</style>\n",
       "<table border=\"1\" class=\"dataframe\">\n",
       "  <thead>\n",
       "    <tr style=\"text-align: right;\">\n",
       "      <th></th>\n",
       "      <th>date</th>\n",
       "      <th>player_1_name</th>\n",
       "      <th>player_2_name</th>\n",
       "      <th>player_1_points</th>\n",
       "      <th>player_2_points</th>\n",
       "      <th>player_1_sets</th>\n",
       "      <th>player_2_sets</th>\n",
       "      <th>player_1_games</th>\n",
       "      <th>player_2_games</th>\n",
       "    </tr>\n",
       "  </thead>\n",
       "  <tbody>\n",
       "    <tr>\n",
       "      <th>99372</th>\n",
       "      <td>2011-10-21</td>\n",
       "      <td>Grigor Dimitrov</td>\n",
       "      <td>Milos Raonic</td>\n",
       "      <td>0</td>\n",
       "      <td>0</td>\n",
       "      <td>0</td>\n",
       "      <td>0</td>\n",
       "      <td>0</td>\n",
       "      <td>0</td>\n",
       "    </tr>\n",
       "    <tr>\n",
       "      <th>99374</th>\n",
       "      <td>2011-10-21</td>\n",
       "      <td>Grigor Dimitrov</td>\n",
       "      <td>Milos Raonic</td>\n",
       "      <td>0</td>\n",
       "      <td>0</td>\n",
       "      <td>0</td>\n",
       "      <td>0</td>\n",
       "      <td>0</td>\n",
       "      <td>0</td>\n",
       "    </tr>\n",
       "    <tr>\n",
       "      <th>99376</th>\n",
       "      <td>2011-10-21</td>\n",
       "      <td>Grigor Dimitrov</td>\n",
       "      <td>Milos Raonic</td>\n",
       "      <td>0</td>\n",
       "      <td>0</td>\n",
       "      <td>0</td>\n",
       "      <td>0</td>\n",
       "      <td>0</td>\n",
       "      <td>0</td>\n",
       "    </tr>\n",
       "    <tr>\n",
       "      <th>99379</th>\n",
       "      <td>2011-10-21</td>\n",
       "      <td>Grigor Dimitrov</td>\n",
       "      <td>Milos Raonic</td>\n",
       "      <td>0</td>\n",
       "      <td>1</td>\n",
       "      <td>0</td>\n",
       "      <td>0</td>\n",
       "      <td>0</td>\n",
       "      <td>0</td>\n",
       "    </tr>\n",
       "    <tr>\n",
       "      <th>99381</th>\n",
       "      <td>2011-10-21</td>\n",
       "      <td>Grigor Dimitrov</td>\n",
       "      <td>Milos Raonic</td>\n",
       "      <td>0</td>\n",
       "      <td>1</td>\n",
       "      <td>0</td>\n",
       "      <td>0</td>\n",
       "      <td>0</td>\n",
       "      <td>0</td>\n",
       "    </tr>\n",
       "    <tr>\n",
       "      <th>...</th>\n",
       "      <td>...</td>\n",
       "      <td>...</td>\n",
       "      <td>...</td>\n",
       "      <td>...</td>\n",
       "      <td>...</td>\n",
       "      <td>...</td>\n",
       "      <td>...</td>\n",
       "      <td>...</td>\n",
       "      <td>...</td>\n",
       "    </tr>\n",
       "    <tr>\n",
       "      <th>6381462</th>\n",
       "      <td>2022-10-29</td>\n",
       "      <td>Grigor Dimitrov</td>\n",
       "      <td>Daniil Medvedev</td>\n",
       "      <td>3</td>\n",
       "      <td>4</td>\n",
       "      <td>0</td>\n",
       "      <td>1</td>\n",
       "      <td>2</td>\n",
       "      <td>4</td>\n",
       "    </tr>\n",
       "    <tr>\n",
       "      <th>6381479</th>\n",
       "      <td>2022-10-29</td>\n",
       "      <td>Grigor Dimitrov</td>\n",
       "      <td>Daniil Medvedev</td>\n",
       "      <td>2</td>\n",
       "      <td>3</td>\n",
       "      <td>0</td>\n",
       "      <td>1</td>\n",
       "      <td>2</td>\n",
       "      <td>5</td>\n",
       "    </tr>\n",
       "    <tr>\n",
       "      <th>6381481</th>\n",
       "      <td>2022-10-29</td>\n",
       "      <td>Grigor Dimitrov</td>\n",
       "      <td>Daniil Medvedev</td>\n",
       "      <td>2</td>\n",
       "      <td>3</td>\n",
       "      <td>0</td>\n",
       "      <td>1</td>\n",
       "      <td>2</td>\n",
       "      <td>5</td>\n",
       "    </tr>\n",
       "    <tr>\n",
       "      <th>6381483</th>\n",
       "      <td>2022-10-29</td>\n",
       "      <td>Grigor Dimitrov</td>\n",
       "      <td>Daniil Medvedev</td>\n",
       "      <td>2</td>\n",
       "      <td>3</td>\n",
       "      <td>0</td>\n",
       "      <td>1</td>\n",
       "      <td>2</td>\n",
       "      <td>5</td>\n",
       "    </tr>\n",
       "    <tr>\n",
       "      <th>6381485</th>\n",
       "      <td>2022-10-29</td>\n",
       "      <td>Grigor Dimitrov</td>\n",
       "      <td>Daniil Medvedev</td>\n",
       "      <td>2</td>\n",
       "      <td>3</td>\n",
       "      <td>0</td>\n",
       "      <td>1</td>\n",
       "      <td>2</td>\n",
       "      <td>5</td>\n",
       "    </tr>\n",
       "  </tbody>\n",
       "</table>\n",
       "<p>23431 rows × 9 columns</p>\n",
       "</div>"
      ],
      "text/plain": [
       "               date    player_1_name    player_2_name  player_1_points  \\\n",
       "99372    2011-10-21  Grigor Dimitrov     Milos Raonic                0   \n",
       "99374    2011-10-21  Grigor Dimitrov     Milos Raonic                0   \n",
       "99376    2011-10-21  Grigor Dimitrov     Milos Raonic                0   \n",
       "99379    2011-10-21  Grigor Dimitrov     Milos Raonic                0   \n",
       "99381    2011-10-21  Grigor Dimitrov     Milos Raonic                0   \n",
       "...             ...              ...              ...              ...   \n",
       "6381462  2022-10-29  Grigor Dimitrov  Daniil Medvedev                3   \n",
       "6381479  2022-10-29  Grigor Dimitrov  Daniil Medvedev                2   \n",
       "6381481  2022-10-29  Grigor Dimitrov  Daniil Medvedev                2   \n",
       "6381483  2022-10-29  Grigor Dimitrov  Daniil Medvedev                2   \n",
       "6381485  2022-10-29  Grigor Dimitrov  Daniil Medvedev                2   \n",
       "\n",
       "         player_2_points  player_1_sets  player_2_sets  player_1_games  \\\n",
       "99372                  0              0              0               0   \n",
       "99374                  0              0              0               0   \n",
       "99376                  0              0              0               0   \n",
       "99379                  1              0              0               0   \n",
       "99381                  1              0              0               0   \n",
       "...                  ...            ...            ...             ...   \n",
       "6381462                4              0              1               2   \n",
       "6381479                3              0              1               2   \n",
       "6381481                3              0              1               2   \n",
       "6381483                3              0              1               2   \n",
       "6381485                3              0              1               2   \n",
       "\n",
       "         player_2_games  \n",
       "99372                 0  \n",
       "99374                 0  \n",
       "99376                 0  \n",
       "99379                 0  \n",
       "99381                 0  \n",
       "...                 ...  \n",
       "6381462               4  \n",
       "6381479               5  \n",
       "6381481               5  \n",
       "6381483               5  \n",
       "6381485               5  \n",
       "\n",
       "[23431 rows x 9 columns]"
      ]
     },
     "metadata": {},
     "output_type": "display_data"
    },
    {
     "name": "stdout",
     "output_type": "stream",
     "text": [
      "Grigor Dimitrov Average Rally Length: 7\n"
     ]
    },
    {
     "data": {
      "text/html": [
       "<div>\n",
       "<style scoped>\n",
       "    .dataframe tbody tr th:only-of-type {\n",
       "        vertical-align: middle;\n",
       "    }\n",
       "\n",
       "    .dataframe tbody tr th {\n",
       "        vertical-align: top;\n",
       "    }\n",
       "\n",
       "    .dataframe thead th {\n",
       "        text-align: right;\n",
       "    }\n",
       "</style>\n",
       "<table border=\"1\" class=\"dataframe\">\n",
       "  <thead>\n",
       "    <tr style=\"text-align: right;\">\n",
       "      <th></th>\n",
       "      <th>date</th>\n",
       "      <th>player_1_name</th>\n",
       "      <th>player_2_name</th>\n",
       "      <th>player_1_points</th>\n",
       "      <th>player_2_points</th>\n",
       "      <th>player_1_sets</th>\n",
       "      <th>player_2_sets</th>\n",
       "      <th>player_1_games</th>\n",
       "      <th>player_2_games</th>\n",
       "    </tr>\n",
       "  </thead>\n",
       "  <tbody>\n",
       "    <tr>\n",
       "      <th>773819</th>\n",
       "      <td>2014-10-22</td>\n",
       "      <td>Borna Coric</td>\n",
       "      <td>Ernests Gulbis</td>\n",
       "      <td>0</td>\n",
       "      <td>1</td>\n",
       "      <td>0</td>\n",
       "      <td>0</td>\n",
       "      <td>0</td>\n",
       "      <td>0</td>\n",
       "    </tr>\n",
       "    <tr>\n",
       "      <th>773821</th>\n",
       "      <td>2014-10-22</td>\n",
       "      <td>Borna Coric</td>\n",
       "      <td>Ernests Gulbis</td>\n",
       "      <td>0</td>\n",
       "      <td>1</td>\n",
       "      <td>0</td>\n",
       "      <td>0</td>\n",
       "      <td>0</td>\n",
       "      <td>0</td>\n",
       "    </tr>\n",
       "    <tr>\n",
       "      <th>773823</th>\n",
       "      <td>2014-10-22</td>\n",
       "      <td>Borna Coric</td>\n",
       "      <td>Ernests Gulbis</td>\n",
       "      <td>0</td>\n",
       "      <td>1</td>\n",
       "      <td>0</td>\n",
       "      <td>0</td>\n",
       "      <td>0</td>\n",
       "      <td>0</td>\n",
       "    </tr>\n",
       "    <tr>\n",
       "      <th>773825</th>\n",
       "      <td>2014-10-22</td>\n",
       "      <td>Borna Coric</td>\n",
       "      <td>Ernests Gulbis</td>\n",
       "      <td>0</td>\n",
       "      <td>1</td>\n",
       "      <td>0</td>\n",
       "      <td>0</td>\n",
       "      <td>0</td>\n",
       "      <td>0</td>\n",
       "    </tr>\n",
       "    <tr>\n",
       "      <th>773827</th>\n",
       "      <td>2014-10-22</td>\n",
       "      <td>Borna Coric</td>\n",
       "      <td>Ernests Gulbis</td>\n",
       "      <td>0</td>\n",
       "      <td>1</td>\n",
       "      <td>0</td>\n",
       "      <td>0</td>\n",
       "      <td>0</td>\n",
       "      <td>0</td>\n",
       "    </tr>\n",
       "    <tr>\n",
       "      <th>...</th>\n",
       "      <td>...</td>\n",
       "      <td>...</td>\n",
       "      <td>...</td>\n",
       "      <td>...</td>\n",
       "      <td>...</td>\n",
       "      <td>...</td>\n",
       "      <td>...</td>\n",
       "      <td>...</td>\n",
       "      <td>...</td>\n",
       "    </tr>\n",
       "    <tr>\n",
       "      <th>6208134</th>\n",
       "      <td>2022-08-21</td>\n",
       "      <td>Borna Coric</td>\n",
       "      <td>Stefanos Tsitsipas</td>\n",
       "      <td>0</td>\n",
       "      <td>0</td>\n",
       "      <td>1</td>\n",
       "      <td>0</td>\n",
       "      <td>5</td>\n",
       "      <td>2</td>\n",
       "    </tr>\n",
       "    <tr>\n",
       "      <th>6208139</th>\n",
       "      <td>2022-08-21</td>\n",
       "      <td>Borna Coric</td>\n",
       "      <td>Stefanos Tsitsipas</td>\n",
       "      <td>1</td>\n",
       "      <td>0</td>\n",
       "      <td>1</td>\n",
       "      <td>0</td>\n",
       "      <td>5</td>\n",
       "      <td>2</td>\n",
       "    </tr>\n",
       "    <tr>\n",
       "      <th>6208141</th>\n",
       "      <td>2022-08-21</td>\n",
       "      <td>Borna Coric</td>\n",
       "      <td>Stefanos Tsitsipas</td>\n",
       "      <td>1</td>\n",
       "      <td>0</td>\n",
       "      <td>1</td>\n",
       "      <td>0</td>\n",
       "      <td>5</td>\n",
       "      <td>2</td>\n",
       "    </tr>\n",
       "    <tr>\n",
       "      <th>6208146</th>\n",
       "      <td>2022-08-21</td>\n",
       "      <td>Borna Coric</td>\n",
       "      <td>Stefanos Tsitsipas</td>\n",
       "      <td>2</td>\n",
       "      <td>0</td>\n",
       "      <td>1</td>\n",
       "      <td>0</td>\n",
       "      <td>5</td>\n",
       "      <td>2</td>\n",
       "    </tr>\n",
       "    <tr>\n",
       "      <th>6208155</th>\n",
       "      <td>2022-08-21</td>\n",
       "      <td>Borna Coric</td>\n",
       "      <td>Stefanos Tsitsipas</td>\n",
       "      <td>3</td>\n",
       "      <td>1</td>\n",
       "      <td>1</td>\n",
       "      <td>0</td>\n",
       "      <td>5</td>\n",
       "      <td>2</td>\n",
       "    </tr>\n",
       "  </tbody>\n",
       "</table>\n",
       "<p>12300 rows × 9 columns</p>\n",
       "</div>"
      ],
      "text/plain": [
       "               date player_1_name       player_2_name  player_1_points  \\\n",
       "773819   2014-10-22   Borna Coric      Ernests Gulbis                0   \n",
       "773821   2014-10-22   Borna Coric      Ernests Gulbis                0   \n",
       "773823   2014-10-22   Borna Coric      Ernests Gulbis                0   \n",
       "773825   2014-10-22   Borna Coric      Ernests Gulbis                0   \n",
       "773827   2014-10-22   Borna Coric      Ernests Gulbis                0   \n",
       "...             ...           ...                 ...              ...   \n",
       "6208134  2022-08-21   Borna Coric  Stefanos Tsitsipas                0   \n",
       "6208139  2022-08-21   Borna Coric  Stefanos Tsitsipas                1   \n",
       "6208141  2022-08-21   Borna Coric  Stefanos Tsitsipas                1   \n",
       "6208146  2022-08-21   Borna Coric  Stefanos Tsitsipas                2   \n",
       "6208155  2022-08-21   Borna Coric  Stefanos Tsitsipas                3   \n",
       "\n",
       "         player_2_points  player_1_sets  player_2_sets  player_1_games  \\\n",
       "773819                 1              0              0               0   \n",
       "773821                 1              0              0               0   \n",
       "773823                 1              0              0               0   \n",
       "773825                 1              0              0               0   \n",
       "773827                 1              0              0               0   \n",
       "...                  ...            ...            ...             ...   \n",
       "6208134                0              1              0               5   \n",
       "6208139                0              1              0               5   \n",
       "6208141                0              1              0               5   \n",
       "6208146                0              1              0               5   \n",
       "6208155                1              1              0               5   \n",
       "\n",
       "         player_2_games  \n",
       "773819                0  \n",
       "773821                0  \n",
       "773823                0  \n",
       "773825                0  \n",
       "773827                0  \n",
       "...                 ...  \n",
       "6208134               2  \n",
       "6208139               2  \n",
       "6208141               2  \n",
       "6208146               2  \n",
       "6208155               2  \n",
       "\n",
       "[12300 rows x 9 columns]"
      ]
     },
     "metadata": {},
     "output_type": "display_data"
    },
    {
     "name": "stdout",
     "output_type": "stream",
     "text": [
      "Borna Coric Average Rally Length: 7\n"
     ]
    },
    {
     "data": {
      "text/html": [
       "<div>\n",
       "<style scoped>\n",
       "    .dataframe tbody tr th:only-of-type {\n",
       "        vertical-align: middle;\n",
       "    }\n",
       "\n",
       "    .dataframe tbody tr th {\n",
       "        vertical-align: top;\n",
       "    }\n",
       "\n",
       "    .dataframe thead th {\n",
       "        text-align: right;\n",
       "    }\n",
       "</style>\n",
       "<table border=\"1\" class=\"dataframe\">\n",
       "  <thead>\n",
       "    <tr style=\"text-align: right;\">\n",
       "      <th></th>\n",
       "      <th>date</th>\n",
       "      <th>player_1_name</th>\n",
       "      <th>player_2_name</th>\n",
       "      <th>player_1_points</th>\n",
       "      <th>player_2_points</th>\n",
       "      <th>player_1_sets</th>\n",
       "      <th>player_2_sets</th>\n",
       "      <th>player_1_games</th>\n",
       "      <th>player_2_games</th>\n",
       "    </tr>\n",
       "  </thead>\n",
       "  <tbody>\n",
       "    <tr>\n",
       "      <th>542993</th>\n",
       "      <td>2014-03-20</td>\n",
       "      <td>Pablo Carreno Busta</td>\n",
       "      <td>Joao Sousa</td>\n",
       "      <td>1</td>\n",
       "      <td>0</td>\n",
       "      <td>0</td>\n",
       "      <td>0</td>\n",
       "      <td>0</td>\n",
       "      <td>0</td>\n",
       "    </tr>\n",
       "    <tr>\n",
       "      <th>542998</th>\n",
       "      <td>2014-03-20</td>\n",
       "      <td>Pablo Carreno Busta</td>\n",
       "      <td>Joao Sousa</td>\n",
       "      <td>3</td>\n",
       "      <td>0</td>\n",
       "      <td>0</td>\n",
       "      <td>0</td>\n",
       "      <td>0</td>\n",
       "      <td>0</td>\n",
       "    </tr>\n",
       "    <tr>\n",
       "      <th>543002</th>\n",
       "      <td>2014-03-20</td>\n",
       "      <td>Pablo Carreno Busta</td>\n",
       "      <td>Joao Sousa</td>\n",
       "      <td>0</td>\n",
       "      <td>0</td>\n",
       "      <td>0</td>\n",
       "      <td>0</td>\n",
       "      <td>1</td>\n",
       "      <td>0</td>\n",
       "    </tr>\n",
       "    <tr>\n",
       "      <th>543004</th>\n",
       "      <td>2014-03-20</td>\n",
       "      <td>Pablo Carreno Busta</td>\n",
       "      <td>Joao Sousa</td>\n",
       "      <td>0</td>\n",
       "      <td>0</td>\n",
       "      <td>0</td>\n",
       "      <td>0</td>\n",
       "      <td>1</td>\n",
       "      <td>0</td>\n",
       "    </tr>\n",
       "    <tr>\n",
       "      <th>543008</th>\n",
       "      <td>2014-03-20</td>\n",
       "      <td>Pablo Carreno Busta</td>\n",
       "      <td>Joao Sousa</td>\n",
       "      <td>0</td>\n",
       "      <td>1</td>\n",
       "      <td>0</td>\n",
       "      <td>0</td>\n",
       "      <td>1</td>\n",
       "      <td>0</td>\n",
       "    </tr>\n",
       "    <tr>\n",
       "      <th>...</th>\n",
       "      <td>...</td>\n",
       "      <td>...</td>\n",
       "      <td>...</td>\n",
       "      <td>...</td>\n",
       "      <td>...</td>\n",
       "      <td>...</td>\n",
       "      <td>...</td>\n",
       "      <td>...</td>\n",
       "      <td>...</td>\n",
       "    </tr>\n",
       "    <tr>\n",
       "      <th>6418983</th>\n",
       "      <td>2022-11-23</td>\n",
       "      <td>Pablo Carreno Busta</td>\n",
       "      <td>Marin Cilic</td>\n",
       "      <td>5</td>\n",
       "      <td>6</td>\n",
       "      <td>1</td>\n",
       "      <td>1</td>\n",
       "      <td>6</td>\n",
       "      <td>6</td>\n",
       "    </tr>\n",
       "    <tr>\n",
       "      <th>6418985</th>\n",
       "      <td>2022-11-23</td>\n",
       "      <td>Pablo Carreno Busta</td>\n",
       "      <td>Marin Cilic</td>\n",
       "      <td>5</td>\n",
       "      <td>6</td>\n",
       "      <td>1</td>\n",
       "      <td>1</td>\n",
       "      <td>6</td>\n",
       "      <td>6</td>\n",
       "    </tr>\n",
       "    <tr>\n",
       "      <th>6418987</th>\n",
       "      <td>2022-11-23</td>\n",
       "      <td>Pablo Carreno Busta</td>\n",
       "      <td>Marin Cilic</td>\n",
       "      <td>5</td>\n",
       "      <td>6</td>\n",
       "      <td>1</td>\n",
       "      <td>1</td>\n",
       "      <td>6</td>\n",
       "      <td>6</td>\n",
       "    </tr>\n",
       "    <tr>\n",
       "      <th>6418989</th>\n",
       "      <td>2022-11-23</td>\n",
       "      <td>Pablo Carreno Busta</td>\n",
       "      <td>Marin Cilic</td>\n",
       "      <td>5</td>\n",
       "      <td>6</td>\n",
       "      <td>1</td>\n",
       "      <td>1</td>\n",
       "      <td>6</td>\n",
       "      <td>6</td>\n",
       "    </tr>\n",
       "    <tr>\n",
       "      <th>6418991</th>\n",
       "      <td>2022-11-23</td>\n",
       "      <td>Pablo Carreno Busta</td>\n",
       "      <td>Marin Cilic</td>\n",
       "      <td>5</td>\n",
       "      <td>6</td>\n",
       "      <td>1</td>\n",
       "      <td>1</td>\n",
       "      <td>6</td>\n",
       "      <td>6</td>\n",
       "    </tr>\n",
       "  </tbody>\n",
       "</table>\n",
       "<p>16169 rows × 9 columns</p>\n",
       "</div>"
      ],
      "text/plain": [
       "               date        player_1_name player_2_name  player_1_points  \\\n",
       "542993   2014-03-20  Pablo Carreno Busta    Joao Sousa                1   \n",
       "542998   2014-03-20  Pablo Carreno Busta    Joao Sousa                3   \n",
       "543002   2014-03-20  Pablo Carreno Busta    Joao Sousa                0   \n",
       "543004   2014-03-20  Pablo Carreno Busta    Joao Sousa                0   \n",
       "543008   2014-03-20  Pablo Carreno Busta    Joao Sousa                0   \n",
       "...             ...                  ...           ...              ...   \n",
       "6418983  2022-11-23  Pablo Carreno Busta   Marin Cilic                5   \n",
       "6418985  2022-11-23  Pablo Carreno Busta   Marin Cilic                5   \n",
       "6418987  2022-11-23  Pablo Carreno Busta   Marin Cilic                5   \n",
       "6418989  2022-11-23  Pablo Carreno Busta   Marin Cilic                5   \n",
       "6418991  2022-11-23  Pablo Carreno Busta   Marin Cilic                5   \n",
       "\n",
       "         player_2_points  player_1_sets  player_2_sets  player_1_games  \\\n",
       "542993                 0              0              0               0   \n",
       "542998                 0              0              0               0   \n",
       "543002                 0              0              0               1   \n",
       "543004                 0              0              0               1   \n",
       "543008                 1              0              0               1   \n",
       "...                  ...            ...            ...             ...   \n",
       "6418983                6              1              1               6   \n",
       "6418985                6              1              1               6   \n",
       "6418987                6              1              1               6   \n",
       "6418989                6              1              1               6   \n",
       "6418991                6              1              1               6   \n",
       "\n",
       "         player_2_games  \n",
       "542993                0  \n",
       "542998                0  \n",
       "543002                0  \n",
       "543004                0  \n",
       "543008                0  \n",
       "...                 ...  \n",
       "6418983               6  \n",
       "6418985               6  \n",
       "6418987               6  \n",
       "6418989               6  \n",
       "6418991               6  \n",
       "\n",
       "[16169 rows x 9 columns]"
      ]
     },
     "metadata": {},
     "output_type": "display_data"
    },
    {
     "name": "stdout",
     "output_type": "stream",
     "text": [
      "Pablo Carreno Busta Average Rally Length: 7\n"
     ]
    },
    {
     "ename": "KeyboardInterrupt",
     "evalue": "",
     "output_type": "error",
     "traceback": [
      "\u001b[0;31m---------------------------------------------------------------------------\u001b[0m",
      "\u001b[0;31mKeyboardInterrupt\u001b[0m                         Traceback (most recent call last)",
      "Cell \u001b[0;32mIn[26], line 8\u001b[0m\n\u001b[1;32m      6\u001b[0m n2 \u001b[38;5;241m=\u001b[39m b\u001b[38;5;241m.\u001b[39miloc[\u001b[38;5;241m1\u001b[39m]\n\u001b[1;32m      7\u001b[0m date \u001b[38;5;241m=\u001b[39m b\u001b[38;5;241m.\u001b[39miloc[\u001b[38;5;241m2\u001b[39m]\n\u001b[0;32m----> 8\u001b[0m \u001b[38;5;28mprint\u001b[39m(\u001b[38;5;124mf\u001b[39m\u001b[38;5;124m\"\u001b[39m\u001b[38;5;132;01m{\u001b[39;00mn1\u001b[38;5;132;01m}\u001b[39;00m\u001b[38;5;124m Average Rally Length: \u001b[39m\u001b[38;5;132;01m{\u001b[39;00m\u001b[43mget_avg_rally_length\u001b[49m\u001b[43m(\u001b[49m\u001b[43mn1\u001b[49m\u001b[43m)\u001b[49m\u001b[38;5;132;01m}\u001b[39;00m\u001b[38;5;124m\"\u001b[39m)\n\u001b[1;32m      9\u001b[0m \u001b[38;5;28mprint\u001b[39m(\u001b[38;5;124mf\u001b[39m\u001b[38;5;124m\"\u001b[39m\u001b[38;5;132;01m{\u001b[39;00mn2\u001b[38;5;132;01m}\u001b[39;00m\u001b[38;5;124m Average Rally Length: \u001b[39m\u001b[38;5;132;01m{\u001b[39;00mget_avg_rally_length(n2)\u001b[38;5;132;01m}\u001b[39;00m\u001b[38;5;124m\"\u001b[39m)\n",
      "Cell \u001b[0;32mIn[25], line 4\u001b[0m, in \u001b[0;36mget_avg_rally_length\u001b[0;34m(p1)\u001b[0m\n\u001b[1;32m      2\u001b[0m \u001b[38;5;28;01mdef\u001b[39;00m \u001b[38;5;21mget_avg_rally_length\u001b[39m(p1):\n\u001b[1;32m      3\u001b[0m     rally_df \u001b[38;5;241m=\u001b[39m df[df\u001b[38;5;241m.\u001b[39mshot_type \u001b[38;5;241m==\u001b[39m \u001b[38;5;241m4\u001b[39m]\n\u001b[0;32m----> 4\u001b[0m     rally_df \u001b[38;5;241m=\u001b[39m rally_df[\u001b[43mrally_df\u001b[49m\u001b[38;5;241;43m.\u001b[39;49m\u001b[43mplayer_1_name\u001b[49m\u001b[43m \u001b[49m\u001b[38;5;241;43m==\u001b[39;49m\u001b[43m \u001b[49m\u001b[43mp1\u001b[49m]\n\u001b[1;32m      5\u001b[0m     rally_df \u001b[38;5;241m=\u001b[39m rally_df[[\u001b[38;5;124m'\u001b[39m\u001b[38;5;124mdate\u001b[39m\u001b[38;5;124m'\u001b[39m, \u001b[38;5;124m'\u001b[39m\u001b[38;5;124mplayer_1_name\u001b[39m\u001b[38;5;124m'\u001b[39m,\u001b[38;5;124m'\u001b[39m\u001b[38;5;124mplayer_2_name\u001b[39m\u001b[38;5;124m'\u001b[39m,\u001b[38;5;124m'\u001b[39m\u001b[38;5;124mplayer_1_points\u001b[39m\u001b[38;5;124m'\u001b[39m,\u001b[38;5;124m'\u001b[39m\u001b[38;5;124mplayer_2_points\u001b[39m\u001b[38;5;124m'\u001b[39m, \n\u001b[1;32m      6\u001b[0m     \u001b[38;5;124m'\u001b[39m\u001b[38;5;124mplayer_1_sets\u001b[39m\u001b[38;5;124m'\u001b[39m,\u001b[38;5;124m'\u001b[39m\u001b[38;5;124mplayer_2_sets\u001b[39m\u001b[38;5;124m'\u001b[39m, \u001b[38;5;124m'\u001b[39m\u001b[38;5;124mplayer_1_games\u001b[39m\u001b[38;5;124m'\u001b[39m, \u001b[38;5;124m'\u001b[39m\u001b[38;5;124mplayer_2_games\u001b[39m\u001b[38;5;124m'\u001b[39m]]\n\u001b[1;32m      7\u001b[0m     display(rally_df)\n",
      "File \u001b[0;32m/opt/homebrew/lib/python3.11/site-packages/pandas/core/ops/common.py:76\u001b[0m, in \u001b[0;36m_unpack_zerodim_and_defer.<locals>.new_method\u001b[0;34m(self, other)\u001b[0m\n\u001b[1;32m     72\u001b[0m             \u001b[39mreturn\u001b[39;00m \u001b[39mNotImplemented\u001b[39m\n\u001b[1;32m     74\u001b[0m other \u001b[39m=\u001b[39m item_from_zerodim(other)\n\u001b[0;32m---> 76\u001b[0m \u001b[39mreturn\u001b[39;00m method(\u001b[39mself\u001b[39;49m, other)\n",
      "File \u001b[0;32m/opt/homebrew/lib/python3.11/site-packages/pandas/core/arraylike.py:40\u001b[0m, in \u001b[0;36mOpsMixin.__eq__\u001b[0;34m(self, other)\u001b[0m\n\u001b[1;32m     38\u001b[0m \u001b[39m@unpack_zerodim_and_defer\u001b[39m(\u001b[39m\"\u001b[39m\u001b[39m__eq__\u001b[39m\u001b[39m\"\u001b[39m)\n\u001b[1;32m     39\u001b[0m \u001b[39mdef\u001b[39;00m \u001b[39m__eq__\u001b[39m(\u001b[39mself\u001b[39m, other):\n\u001b[0;32m---> 40\u001b[0m     \u001b[39mreturn\u001b[39;00m \u001b[39mself\u001b[39;49m\u001b[39m.\u001b[39;49m_cmp_method(other, operator\u001b[39m.\u001b[39;49meq)\n",
      "File \u001b[0;32m/opt/homebrew/lib/python3.11/site-packages/pandas/core/series.py:5799\u001b[0m, in \u001b[0;36mSeries._cmp_method\u001b[0;34m(self, other, op)\u001b[0m\n\u001b[1;32m   5796\u001b[0m lvalues \u001b[39m=\u001b[39m \u001b[39mself\u001b[39m\u001b[39m.\u001b[39m_values\n\u001b[1;32m   5797\u001b[0m rvalues \u001b[39m=\u001b[39m extract_array(other, extract_numpy\u001b[39m=\u001b[39m\u001b[39mTrue\u001b[39;00m, extract_range\u001b[39m=\u001b[39m\u001b[39mTrue\u001b[39;00m)\n\u001b[0;32m-> 5799\u001b[0m res_values \u001b[39m=\u001b[39m ops\u001b[39m.\u001b[39;49mcomparison_op(lvalues, rvalues, op)\n\u001b[1;32m   5801\u001b[0m \u001b[39mreturn\u001b[39;00m \u001b[39mself\u001b[39m\u001b[39m.\u001b[39m_construct_result(res_values, name\u001b[39m=\u001b[39mres_name)\n",
      "File \u001b[0;32m/opt/homebrew/lib/python3.11/site-packages/pandas/core/ops/array_ops.py:346\u001b[0m, in \u001b[0;36mcomparison_op\u001b[0;34m(left, right, op)\u001b[0m\n\u001b[1;32m    343\u001b[0m     \u001b[39mreturn\u001b[39;00m invalid_comparison(lvalues, rvalues, op)\n\u001b[1;32m    345\u001b[0m \u001b[39melif\u001b[39;00m lvalues\u001b[39m.\u001b[39mdtype \u001b[39m==\u001b[39m \u001b[39mobject\u001b[39m \u001b[39mor\u001b[39;00m \u001b[39misinstance\u001b[39m(rvalues, \u001b[39mstr\u001b[39m):\n\u001b[0;32m--> 346\u001b[0m     res_values \u001b[39m=\u001b[39m comp_method_OBJECT_ARRAY(op, lvalues, rvalues)\n\u001b[1;32m    348\u001b[0m \u001b[39melse\u001b[39;00m:\n\u001b[1;32m    349\u001b[0m     res_values \u001b[39m=\u001b[39m _na_arithmetic_op(lvalues, rvalues, op, is_cmp\u001b[39m=\u001b[39m\u001b[39mTrue\u001b[39;00m)\n",
      "File \u001b[0;32m/opt/homebrew/lib/python3.11/site-packages/pandas/core/ops/array_ops.py:131\u001b[0m, in \u001b[0;36mcomp_method_OBJECT_ARRAY\u001b[0;34m(op, x, y)\u001b[0m\n\u001b[1;32m    129\u001b[0m     result \u001b[39m=\u001b[39m libops\u001b[39m.\u001b[39mvec_compare(x\u001b[39m.\u001b[39mravel(), y\u001b[39m.\u001b[39mravel(), op)\n\u001b[1;32m    130\u001b[0m \u001b[39melse\u001b[39;00m:\n\u001b[0;32m--> 131\u001b[0m     result \u001b[39m=\u001b[39m libops\u001b[39m.\u001b[39;49mscalar_compare(x\u001b[39m.\u001b[39;49mravel(), y, op)\n\u001b[1;32m    132\u001b[0m \u001b[39mreturn\u001b[39;00m result\u001b[39m.\u001b[39mreshape(x\u001b[39m.\u001b[39mshape)\n",
      "\u001b[0;31mKeyboardInterrupt\u001b[0m: "
     ]
    }
   ],
   "source": [
    "df2 = pd.read_csv('MDP_pred.csv')\n",
    "cnt = 0\n",
    "failed = 0\n",
    "for a,b in df2[['P1Name', 'P2Name', 'date']].iterrows():\n",
    "        n1 = b.iloc[0]\n",
    "        n2 = b.iloc[1]\n",
    "        date = b.iloc[2]\n",
    "        print(f\"{n1} Average Rally Length: {get_avg_rally_length(n1)}\")\n",
    "        print(f\"{n2} Average Rally Length: {get_avg_rally_length(n2)}\")"
   ]
  },
  {
   "cell_type": "code",
   "execution_count": null,
   "id": "cb0cd54d",
   "metadata": {},
   "outputs": [],
   "source": []
  },
  {
   "cell_type": "code",
   "execution_count": null,
   "id": "4aad63a3",
   "metadata": {},
   "outputs": [],
   "source": []
  }
 ],
 "metadata": {
  "kernelspec": {
   "display_name": "Python 3.11.6 64-bit",
   "language": "python",
   "name": "python3"
  },
  "language_info": {
   "codemirror_mode": {
    "name": "ipython",
    "version": 3
   },
   "file_extension": ".py",
   "mimetype": "text/x-python",
   "name": "python",
   "nbconvert_exporter": "python",
   "pygments_lexer": "ipython3",
   "version": "3.11.6"
  },
  "vscode": {
   "interpreter": {
    "hash": "b0fa6594d8f4cbf19f97940f81e996739fb7646882a419484c72d19e05852a7e"
   }
  }
 },
 "nbformat": 4,
 "nbformat_minor": 5
}
